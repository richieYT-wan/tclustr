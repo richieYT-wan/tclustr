{
 "cells": [
  {
   "cell_type": "code",
   "execution_count": 1,
   "id": "46897fbc-4baa-45c3-bcdb-f761c7994346",
   "metadata": {},
   "outputs": [
    {
     "data": {
      "image/png": "[encoded data removed]",
      "text/plain": [
       "<Figure size 1x1 with 1 Axes>"
      ]
     },
     "metadata": {},
     "output_type": "display_data"
    }
   ],
   "source": [
    "import pandas as pd\n",
    "import numpy as np\n",
    "import sklearn\n",
    "import matplotlib.pyplot as plt\n",
    "import matplotlib as mpl\n",
    "import seaborn as sns\n",
    "f,a = plt.subplots(1,1,figsize=(1e-2, 1e-2))\n",
    "mpl.rcParams['figure.dpi'] = 150\n",
    "sns.set_style('darkgrid')\n",
    "import os,sys\n",
    "module_path = os.path.abspath(os.path.join('..'))\n",
    "if module_path not in sys.path:\n",
    "    sys.path.append(module_path)\n",
    "import warnings\n",
    "warnings.filterwarnings(\"ignore\")\n",
    "import glob\n",
    "from tqdm.auto import tqdm\n",
    "from datetime import datetime as dt\n",
    "\n",
    "# Load models together\n",
    "from src.torch_utils import load_model_full\n",
    "from src.utils import get_class_initcode_keys\n",
    "from torch.utils.data import SequentialSampler\n",
    "from src.datasets import *\n",
    "from src.models import *\n",
    "%load_ext autoreload\n",
    "%autoreload 2\n",
    "    \n",
    "from src.utils import mkdirs, convert_path, pkl_dump, pkl_load, add_median_labels, get_palette\n",
    "from src.data_processing import BL62_VALUES, BL62FREQ_VALUES, HLAS, AA_KEYS\n",
    "from src.utils import pkl_load, pkl_dump, get_palette\n",
    "from src.sim_utils import make_dist_matrix\n",
    "from sklearn.cluster import AgglomerativeClustering\n",
    "from sklearn.preprocessing import LabelEncoder\n",
    "from sklearn.metrics import roc_auc_score\n",
    "from src.torch_utils import save_checkpoint, load_checkpoint\n",
    "from src.train_eval import predict_model, train_eval_loops\n",
    "from src.models import FullTCRVAE, TwoStageVAECLF\n",
    "from src.metrics import get_metrics, reconstruction_accuracy, compute_cosine_distance\n",
    "from src.datasets import TCRSpecificDataset, FullTCRDataset\n",
    "import torch\n",
    "import glob\n",
    "from torch import optim\n",
    "from torch.utils.data import RandomSampler, SequentialSampler\n",
    "from torch import nn\n",
    "from torch.nn import functional as F\n",
    "mpl.rcParams['figure.dpi'] = 180\n"
   ]
  },
  {
   "cell_type": "raw",
   "id": "aa1723da-73a4-43b3-944e-bbc98c93c2eb",
   "metadata": {
    "jupyter": {
     "source_hidden": true
    }
   },
   "source": [
    "# For reference, NetTCR architecture : \n",
    "import torch\n",
    "import torch.nn as nn\n",
    "import torch.nn.functional as F\n",
    "\n",
    "# Define network architecture \n",
    "class ConvBlock(nn.Module):\n",
    "    def __init__(self):\n",
    "        super().__init__()\n",
    "        self.c1 = nn.Conv1d(in_channels=24, out_channels=16, kernel_size=1, padding='same')\n",
    "        self.c3 = nn.Conv1d(in_channels=24, out_channels=16, kernel_size=3, padding='same')\n",
    "        self.c5 = nn.Conv1d(in_channels=24, out_channels=16, kernel_size=5, padding='same')\n",
    "        self.c7 = nn.Conv1d(in_channels=24, out_channels=16, kernel_size=7, padding='same')\n",
    "        self.c9 = nn.Conv1d(in_channels=24, out_channels=16, kernel_size=9, padding='same')\n",
    "\n",
    "        self.activation = nn.Sigmoid()\n",
    "\n",
    "    def forward(self, x):\n",
    "        c1 = torch.max(self.activation(self.c1(x)), 2)[0]\n",
    "        c3 = torch.max(self.activation(self.c3(x)), 2)[0]\n",
    "        c5 = torch.max(self.activation(self.c5(x)), 2)[0]\n",
    "        c7 = torch.max(self.activation(self.c7(x)), 2)[0]\n",
    "        c9 = torch.max(self.activation(self.c9(x)), 2)[0]\n",
    "\n",
    "        out = torch.cat((c1, c3, c5, c7, c9), 1)\n",
    "\n",
    "        return out\n",
    "    \n",
    "class NetTCR_CDR3(nn.Module):\n",
    "    def __init__(self):\n",
    "        super().__init__()\n",
    "        self.cnn = ConvBlock()\n",
    "\n",
    "        self.linear = nn.Linear(in_features=80*3, out_features=32)\n",
    "        self.activation = nn.Sigmoid()\n",
    "        self.out = nn.Linear(32, 1)\n",
    "\n",
    "    def forward(self, pep, a3, b3):\n",
    "        # Transpose tensors\n",
    "        pep = torch.permute(pep, (0, 2, 1))\n",
    "        a3 = torch.permute(a3, (0, 2, 1))\n",
    "        b3 = torch.permute(b3, (0, 2, 1))\n",
    "        \n",
    "        pep_cnn = self.cnn(pep)\n",
    "        a3_cnn = self.cnn(a3)\n",
    "        b3_cnn = self.cnn(b3)\n",
    "\n",
    "        cat = torch.cat((pep_cnn, a3_cnn, b3_cnn),1)\n",
    "\n",
    "        hid = self.activation(self.linear(cat))\n",
    "        out = self.activation(self.out(hid))\n",
    "\n",
    "        return out\n",
    "    \n",
    "class NetTCR_CDR3_singlechain(nn.Module):\n",
    "    def __init__(self):\n",
    "        super().__init__()\n",
    "        self.cnn = ConvBlock()\n",
    "\n",
    "        self.linear = nn.Linear(in_features=80*2, out_features=32)\n",
    "        self.activation = nn.Sigmoid()\n",
    "        self.out = nn.Linear(32, 1)\n",
    "\n",
    "    def forward(self, pep, cdr):\n",
    "        # Transpose tensors\n",
    "        pep = torch.permute(pep, (0, 2, 1))\n",
    "        cdr = torch.permute(cdr, (0, 2, 1))\n",
    "        \n",
    "        pep_cnn = self.cnn(pep)\n",
    "        cdr_cnn = self.cnn(cdr)\n",
    "\n",
    "        cat = torch.cat((pep_cnn, cdr_cnn),1)\n",
    "\n",
    "        hid = self.activation(self.linear(cat))\n",
    "        out = self.activation(self.out(hid))\n",
    "\n",
    "        return out\n",
    "    \n",
    "class NetTCR_CDR123(nn.Module):\n",
    "    def __init__(self):\n",
    "        super().__init__()\n",
    "        self.cnn = ConvBlock()\n",
    "\n",
    "        self.linear = nn.Linear(in_features=80*7, out_features=32)\n",
    "        self.activation = nn.Sigmoid()\n",
    "        self.out = nn.Linear(32, 1)\n",
    "\n",
    "    def forward(self, pep, a1, a2, a3, b1, b2, b3):\n",
    "        # Transpose tensors\n",
    "        pep = torch.permute(pep, (0, 2, 1))\n",
    "        a1 = torch.permute(a1, (0, 2, 1))\n",
    "        a2 = torch.permute(a2, (0, 2, 1))\n",
    "        a3 = torch.permute(a3, (0, 2, 1))\n",
    "        b1 = torch.permute(b1, (0, 2, 1))\n",
    "        b2 = torch.permute(b2, (0, 2, 1))\n",
    "        b3 = torch.permute(b3, (0, 2, 1))\n",
    "        \n",
    "        pep_cnn = self.cnn(pep)\n",
    "        a1_cnn = self.cnn(a1)\n",
    "        a2_cnn = self.cnn(a2)\n",
    "        a3_cnn = self.cnn(a3)\n",
    "        b1_cnn = self.cnn(b1)\n",
    "        b2_cnn = self.cnn(b2)\n",
    "        b3_cnn = self.cnn(b3)\n",
    "\n",
    "        cat = torch.cat((pep_cnn, a1_cnn, a2_cnn, a3_cnn, b1_cnn, b2_cnn, b3_cnn), 1)\n",
    "\n",
    "        hid = self.activation(self.linear(cat))\n",
    "        out = self.activation(self.out(hid))\n",
    "\n",
    "        return out\n",
    "\n",
    "    \n",
    "class NetTCR_CDR123_singlechain(nn.Module):\n",
    "    def __init__(self):\n",
    "        super().__init__()\n",
    "        self.cnn = ConvBlock()\n",
    "\n",
    "        self.linear = nn.Linear(in_features=80*4, out_features=32)\n",
    "        self.activation = nn.Sigmoid()\n",
    "        self.out = nn.Linear(32, 1)\n",
    "\n",
    "    def forward(self, pep, cdr1, cdr2, cdr3):\n",
    "        # Transpose tensors\n",
    "        pep = torch.permute(pep, (0, 2, 1))\n",
    "        cdr1 = torch.permute(cdr1, (0, 2, 1))\n",
    "        cdr2 = torch.permute(cdr2, (0, 2, 1))\n",
    "        cdr3 = torch.permute(cdr3, (0, 2, 1))\n",
    "        \n",
    "        pep_cnn = self.cnn(pep)\n",
    "        cdr1_cnn = self.cnn(cdr1)\n",
    "        cdr2_cnn = self.cnn(cdr2)\n",
    "        cdr3_cnn = self.cnn(cdr3)\n",
    "\n",
    "        cat = torch.cat((pep_cnn, cdr1_cnn, cdr2_cnn, cdr3_cnn), 1)\n",
    "\n",
    "        hid = self.activation(self.linear(cat))\n",
    "        out = self.activation(self.out(hid))\n",
    "\n",
    "        return out\n",
    "    \n",
    "    "
   ]
  },
  {
   "cell_type": "code",
   "execution_count": 27,
   "id": "bd85c9b3-b389-425a-bf44-dd37853f855e",
   "metadata": {
    "collapsed": true,
    "jupyter": {
     "outputs_hidden": true
    }
   },
   "outputs": [
    {
     "name": "stdout",
     "output_type": "stream",
     "text": [
      "A1\n"
     ]
    },
    {
     "data": {
      "text/plain": [
       "count    7340.000000\n",
       "mean        5.988011\n",
       "std         0.571731\n",
       "min         5.000000\n",
       "25%         6.000000\n",
       "50%         6.000000\n",
       "75%         6.000000\n",
       "max         7.000000\n",
       "Name: A1, dtype: float64"
      ]
     },
     "metadata": {},
     "output_type": "display_data"
    },
    {
     "name": "stdout",
     "output_type": "stream",
     "text": [
      "A2\n"
     ]
    },
    {
     "data": {
      "text/plain": [
       "count    7340.000000\n",
       "mean        6.675749\n",
       "std         1.010524\n",
       "min         4.000000\n",
       "25%         6.000000\n",
       "50%         7.000000\n",
       "75%         7.000000\n",
       "max         8.000000\n",
       "Name: A2, dtype: float64"
      ]
     },
     "metadata": {},
     "output_type": "display_data"
    },
    {
     "name": "stdout",
     "output_type": "stream",
     "text": [
      "A3\n"
     ]
    },
    {
     "data": {
      "text/plain": [
       "count    7340.000000\n",
       "mean       11.434605\n",
       "std         2.099890\n",
       "min         3.000000\n",
       "25%        10.000000\n",
       "50%        11.000000\n",
       "75%        13.000000\n",
       "max        22.000000\n",
       "Name: A3, dtype: float64"
      ]
     },
     "metadata": {},
     "output_type": "display_data"
    },
    {
     "name": "stdout",
     "output_type": "stream",
     "text": [
      "B1\n"
     ]
    },
    {
     "data": {
      "text/plain": [
       "count    7340.000000\n",
       "mean        5.080245\n",
       "std         0.271691\n",
       "min         5.000000\n",
       "25%         5.000000\n",
       "50%         5.000000\n",
       "75%         5.000000\n",
       "max         6.000000\n",
       "Name: B1, dtype: float64"
      ]
     },
     "metadata": {},
     "output_type": "display_data"
    },
    {
     "name": "stdout",
     "output_type": "stream",
     "text": [
      "B2\n"
     ]
    },
    {
     "data": {
      "text/plain": [
       "count    7340.000000\n",
       "mean        6.089101\n",
       "std         0.322590\n",
       "min         5.000000\n",
       "25%         6.000000\n",
       "50%         6.000000\n",
       "75%         6.000000\n",
       "max         7.000000\n",
       "Name: B2, dtype: float64"
      ]
     },
     "metadata": {},
     "output_type": "display_data"
    },
    {
     "name": "stdout",
     "output_type": "stream",
     "text": [
      "B3\n"
     ]
    },
    {
     "data": {
      "text/plain": [
       "count    7340.000000\n",
       "mean       12.425749\n",
       "std         1.761287\n",
       "min         5.000000\n",
       "25%        11.000000\n",
       "50%        12.000000\n",
       "75%        13.000000\n",
       "max        23.000000\n",
       "Name: B3, dtype: float64"
      ]
     },
     "metadata": {},
     "output_type": "display_data"
    }
   ],
   "source": [
    "df = pd.read_csv('../data/filtered/240418_nettcr_expanded_20binders_17pep_POSONLY.csv')\n",
    "cs = ['A1','A2','A3','B1','B2','B3']\n",
    "for c in cs:\n",
    "    l = df[c].apply(len)\n",
    "    print(c)\n",
    "    display(l.describe())"
   ]
  },
  {
   "cell_type": "markdown",
   "id": "611b59d5-0350-442c-9a9a-d5c3d87eafad",
   "metadata": {},
   "source": [
    "# triplet error"
   ]
  },
  {
   "cell_type": "code",
   "execution_count": 70,
   "id": "f04a88c3-3f38-4f16-a609-885225c0b7ba",
   "metadata": {},
   "outputs": [],
   "source": [
    "input1 = torch.randn(100, 128)\n",
    "input2 = torch.randn(100, 128)\n",
    "cos = nn.CosineSimilarity(dim=1, eps=1e-6)\n",
    "output = cos(input1, input2)"
   ]
  },
  {
   "cell_type": "code",
   "execution_count": 219,
   "id": "60539bf1-8fca-4ad9-931f-4a86826b79bd",
   "metadata": {},
   "outputs": [],
   "source": [
    "distances = pkl_load('/Users/riwa/Documents/code/total_dis.pkl')\n",
    "pos_dis = pkl_load('/Users/riwa/Documents/code/pos_dis.pkl')\n",
    "pos_mask = pkl_load('/Users/riwa/Documents/code/pos_mask.pkl')\n",
    "neg_dis = pkl_load('/Users/riwa/Documents/code/neg_dis.pkl')\n",
    "neg_mask = pkl_load('/Users/riwa/Documents/code/neg_mask.pkl')\n",
    "labels = pkl_load('/Users/riwa/Documents/code/labels.pkl')\n",
    "loss = pkl_load('/Users/riwa/Documents/code/loss.pkl')"
   ]
  },
  {
   "cell_type": "code",
   "execution_count": 220,
   "id": "eb8acbe5-36d2-448a-a36b-5a9e5625133b",
   "metadata": {},
   "outputs": [],
   "source": [
    "diag_mask = torch.ones_like(pos_mask).fill_diagonal_(0)\n",
    "mask_loss = torch.mul(loss, diag_mask)"
   ]
  },
  {
   "cell_type": "code",
   "execution_count": null,
   "id": "afa86d60-0e5f-4acc-8abd-bcb04cba46c7",
   "metadata": {},
   "outputs": [],
   "source": [
    "import pickle\n",
    "\n",
    "with open('/Users/riwa/Documents/code/pos_dis.pkl', 'wb') as f:\n",
    "    pickle.dump(positive_distances, f)\n",
    "\n",
    "with open('/Users/riwa/Documents/code/neg_dis.pkl', 'wb') as f:\n",
    "    pickle.dump(negative_distances, f)\n",
    "    \n",
    "with open('/Users/riwa/Documents/code/pos_mask.pkl', 'wb') as f:\n",
    "    pickle.dump(mask_positive, f)\n",
    "    \n",
    "with open('/Users/riwa/Documents/code/neg_mask.pkl', 'wb') as f:\n",
    "    pickle.dump(mask_negative, f)\n",
    "\n",
    "with open('/Users/riwa/Documents/code/labels.pkl', 'wb') as f:\n",
    "    pickle.dump(labels, f)\n",
    "\n",
    "with open('/Users/riwa/Documents/code/loss.pkl', 'wb') as f:\n",
    "    pickle.dump(loss, f)\n",
    "\n",
    "with open('/Users/riwa/Documents/code/total_dis.pkl', 'wb') as f:\n",
    "    pickle.dump(pairwise_distances, f)"
   ]
  },
  {
   "cell_type": "code",
   "execution_count": 221,
   "id": "012d8445-ba0b-4ecd-b3d7-0944671e478d",
   "metadata": {},
   "outputs": [],
   "source": [
    "# loss = F.relu(pos - neg + 0.1)\n",
    "def get_vector(loss, pos, neg, i, margin=0.1):\n",
    "    where = torch.where(loss[i]>0)[0]\n",
    "    pp = pos[i][where]\n",
    "    nn = neg[i][where]\n",
    "    ll = loss[i][where]\n",
    "    print('pos\\n\\t', pp)\n",
    "    print('neg\\n\\t', nn)\n",
    "    print('loss\\n\\t', ll)\n",
    "    print('minus\\n\\t', pp-nn+margin)\n",
    "    print('final loss\\n\\t', F.relu(pp-nn+margin))\n",
    "    print('where\\n\\t', where)\n",
    "    return pp, nn, ll"
   ]
  },
  {
   "cell_type": "code",
   "execution_count": 235,
   "id": "77a59705-419d-4fbe-a6a2-e34fd3304d0f",
   "metadata": {},
   "outputs": [
    {
     "data": {
      "text/plain": [
       "tensor(12.)"
      ]
     },
     "execution_count": 235,
     "metadata": {},
     "output_type": "execute_result"
    }
   ],
   "source": [
    "(labels==11).float().sum()"
   ]
  },
  {
   "cell_type": "code",
   "execution_count": 258,
   "id": "8df325e1-9e41-4e5b-8e63-f9bf02d2b8cd",
   "metadata": {
    "scrolled": true
   },
   "outputs": [
    {
     "name": "stdout",
     "output_type": "stream",
     "text": [
      "pos\n",
      "\t tensor([0.4451, 1.2796, 0.0000, 1.3656, 0.0000, 0.8558],\n",
      "       grad_fn=<IndexBackward0>)\n",
      "neg\n",
      "\t tensor([0.0000, 0.0000, 0.0897, 0.0000, 0.0905, 0.0000],\n",
      "       grad_fn=<IndexBackward0>)\n",
      "loss\n",
      "\t tensor([0.5451, 1.3796, 0.0103, 1.4656, 0.0095, 0.9558],\n",
      "       grad_fn=<IndexBackward0>)\n",
      "minus\n",
      "\t tensor([1.0451, 1.8796, 0.5103, 1.9656, 0.5095, 1.4558],\n",
      "       grad_fn=<AddBackward0>)\n",
      "final loss\n",
      "\t tensor([1.0451, 1.8796, 0.5103, 1.9656, 0.5095, 1.4558],\n",
      "       grad_fn=<ReluBackward0>)\n",
      "where\n",
      "\t tensor([ 68, 273, 338, 392, 422, 510])\n"
     ]
    }
   ],
   "source": [
    "pp,nn,ll = get_vector(mask_loss, pos_dis, neg_dis, 251, margin = 0.6)"
   ]
  },
  {
   "cell_type": "code",
   "execution_count": 253,
   "id": "84dcb287-441f-4a8f-94bf-374a2838ed48",
   "metadata": {},
   "outputs": [
    {
     "data": {
      "text/plain": [
       "(tensor([0.8903, 1.7248, 0.3555, 1.8108, 0.3547, 1.3010],\n",
       "        grad_fn=<AddBackward0>),\n",
       " tensor([0.8903, 1.7248, 0.3555, 1.8108, 0.3547, 1.3010],\n",
       "        grad_fn=<ReluBackward0>))"
      ]
     },
     "execution_count": 253,
     "metadata": {},
     "output_type": "execute_result"
    }
   ],
   "source": [
    "margin=0.4452\n",
    "pp-nn+margin, F.relu(pp - nn + margin)"
   ]
  },
  {
   "cell_type": "code",
   "execution_count": 139,
   "id": "d59dc254-810a-43ba-8367-4986015b566e",
   "metadata": {},
   "outputs": [
    {
     "data": {
      "text/plain": [
       "(tensor([[0., 0., 0.,  ..., 0., 0., 0.],\n",
       "         [0., 0., 0.,  ..., 0., 0., 0.],\n",
       "         [0., 0., 0.,  ..., 0., 0., 0.],\n",
       "         ...,\n",
       "         [0., 0., 0.,  ..., 0., 0., 0.],\n",
       "         [0., 0., 0.,  ..., 0., 0., 0.],\n",
       "         [0., 0., 0.,  ..., 0., 0., 0.]]),\n",
       " tensor([[0., 1., 1.,  ..., 1., 1., 1.],\n",
       "         [1., 0., 1.,  ..., 1., 1., 1.],\n",
       "         [1., 1., 0.,  ..., 1., 1., 1.],\n",
       "         ...,\n",
       "         [1., 1., 1.,  ..., 0., 1., 1.],\n",
       "         [1., 1., 1.,  ..., 1., 0., 1.],\n",
       "         [1., 1., 1.,  ..., 1., 1., 0.]]))"
      ]
     },
     "execution_count": 139,
     "metadata": {},
     "output_type": "execute_result"
    }
   ],
   "source": [
    "class_matrix = labels.view(-1,1)\n",
    "positive_mask = (class_matrix == class_matrix.t()).float()\n",
    "negative_mask = (class_matrix != class_matrix.t()).float()\n",
    "\n",
    "# Make diagonal elements zero in positive mask since an anchor shouldn't select itself\n",
    "positive_mask.fill_diagonal_(0)\n",
    "positive_mask, negative_mask"
   ]
  },
  {
   "cell_type": "code",
   "execution_count": 160,
   "id": "94aaf810-03bb-4120-819c-1d90cfcc597e",
   "metadata": {},
   "outputs": [],
   "source": [
    "positive_distances = distances * positive_mask\n",
    "hardest_positive_distances = positive_distances.max(dim=1)[0]"
   ]
  },
  {
   "cell_type": "code",
   "execution_count": 163,
   "id": "7afb9917-d70c-4991-969b-d95c206d13e6",
   "metadata": {},
   "outputs": [
    {
     "data": {
      "text/plain": [
       "tensor([1.1594, 0.9830, 1.0951], grad_fn=<IndexBackward0>)"
      ]
     },
     "execution_count": 163,
     "metadata": {},
     "output_type": "execute_result"
    }
   ],
   "source": [
    "positive_distances[0, [129,245,341]]"
   ]
  },
  {
   "cell_type": "code",
   "execution_count": 162,
   "id": "b4ec3de5-79fd-4840-b539-4f7c098e63a2",
   "metadata": {},
   "outputs": [
    {
     "data": {
      "text/plain": [
       "(tensor([  0,   0,   0,  ..., 470, 470, 470]),\n",
       " tensor([129, 245, 341,  ..., 354, 379, 428]))"
      ]
     },
     "execution_count": 162,
     "metadata": {},
     "output_type": "execute_result"
    }
   ],
   "source": [
    "torch.where(positive_distances>0)"
   ]
  },
  {
   "cell_type": "code",
   "execution_count": 164,
   "id": "7dbdaf71-c124-4bf1-a20b-ecf047020331",
   "metadata": {},
   "outputs": [],
   "source": [
    "negative_distances = distances * negative_mask\n",
    "# Replace zero with large number where negative_mask is zero\n",
    "max_distance = distances.max().item() + 1\n",
    "negative_distances += max_distance * (1 - negative_mask)\n",
    "hardest_negative_distances = negative_distances.min(dim=1)[0]"
   ]
  },
  {
   "cell_type": "code",
   "execution_count": 172,
   "id": "19fec599-7f4e-442d-9e99-d43c22426be2",
   "metadata": {},
   "outputs": [],
   "source": [
    "triplet_loss = hardest_positive_distances - hardest_negative_distances + 0.1\n",
    "triplet_loss = F.relu(triplet_loss)\n",
    "valid_triplets = (positive_mask.sum(dim=1) > 0) & (negative_mask.sum(dim=1) > 0)\n"
   ]
  },
  {
   "cell_type": "code",
   "execution_count": 180,
   "id": "5075e95c-6468-42e4-b23f-ba11978849d9",
   "metadata": {},
   "outputs": [
    {
     "data": {
      "text/plain": [
       "tensor([0., 0., 0., 0., 0., 0., 0., 0., 0., 0., 0., 0., 0., 0., 0., 0., 0., 0., 0., 0., 0., 0., 0., 0.,\n",
       "        0., 0., 0., 0., 0., 0., 0., 0., 0., 0., 0., 0., 0., 0., 0., 0., 0., 0., 0., 0., 0., 0., 0., 0.,\n",
       "        0., 0., 0., 0., 0., 0., 0., 0., 0., 0., 0., 0., 0., 0., 0., 0., 0., 0., 0., 0., 0., 0., 0., 0.,\n",
       "        0., 0., 0., 0., 0., 0., 0., 0., 0., 0., 0., 0., 0., 0., 0., 0., 0., 0., 0., 0., 0., 0., 0., 0.,\n",
       "        0., 0., 0., 0., 0., 0., 0., 0., 0., 0., 0., 0., 0., 0., 0., 0., 0., 0., 0., 0., 0., 0., 0., 0.,\n",
       "        0., 0., 0., 0., 0., 0., 0., 0., 0., 0., 0., 0., 0., 0., 0., 0., 0., 0., 0., 0., 0., 0., 0., 0.,\n",
       "        0., 0., 0., 0., 0., 0., 0., 0., 0., 0., 0., 0., 0., 0., 0., 0., 0., 0., 0., 0., 0., 0., 0., 0.,\n",
       "        0., 0., 0., 0., 0., 0., 0., 0., 0., 0., 0., 0., 0., 0., 0., 0., 0., 0., 0., 0., 0., 0., 0., 0.,\n",
       "        0., 0., 0., 0., 0., 0., 0., 0., 0., 0., 0., 0., 0., 0., 0., 0., 0., 0., 0., 0., 0., 0., 0., 0.,\n",
       "        0., 0., 0., 0., 0., 0., 0., 0., 0., 0., 0., 0., 0., 0., 0., 0., 0., 0., 0., 0., 0., 0., 0., 0.,\n",
       "        0., 0., 0., 0., 0., 0., 0., 0., 0., 0., 0., 0., 0., 0., 0., 0., 0., 0., 0., 0., 0., 0., 0., 0.,\n",
       "        0., 0., 0., 0., 0., 0., 0., 0., 0., 0., 0., 0., 0., 0., 0., 0., 0., 0., 0., 0., 0., 0., 0., 0.,\n",
       "        0., 0., 0., 0., 0., 0., 0., 0., 0., 0., 0., 0., 0., 0., 0., 0., 0., 0., 0., 0., 0., 0., 0., 0.,\n",
       "        0., 0., 0., 0., 0., 0., 0., 0., 0., 0., 0., 0., 0., 0., 0., 0., 0., 0., 0., 0., 0., 0., 0., 0.,\n",
       "        0., 0., 0., 0., 0., 0., 0., 0., 0., 0., 0., 0., 0., 0., 0., 0., 0., 0., 0., 0., 0., 0., 0., 0.,\n",
       "        0., 0., 0., 0., 0., 0., 0., 0., 0., 0., 0., 0., 0., 0., 0., 0., 0., 0., 0., 0., 0., 0., 0., 0.,\n",
       "        0., 0., 0., 0., 0., 0., 0., 0., 0., 0., 0., 0., 0., 0., 0., 0., 0., 0., 0., 0., 0., 0., 0., 0.,\n",
       "        0., 0., 0., 0., 0., 0., 0., 0., 0., 0., 0., 0., 0., 0., 0., 0., 0., 0., 0., 0., 0., 0., 0., 0.,\n",
       "        0., 0., 0., 0., 0., 0., 0., 0., 0., 0., 0., 0., 0., 0., 0., 0., 0., 0., 0., 0., 0., 0., 0., 0.,\n",
       "        0., 0., 0., 0., 0., 0., 0., 0., 0., 0., 0., 0., 0., 0., 0.])"
      ]
     },
     "execution_count": 180,
     "metadata": {},
     "output_type": "execute_result"
    }
   ],
   "source": [
    "positive_mask[253]"
   ]
  },
  {
   "cell_type": "code",
   "execution_count": 179,
   "id": "2452d51e-6d45-4a78-b2d1-91b48748655f",
   "metadata": {},
   "outputs": [
    {
     "data": {
      "text/plain": [
       "(tensor([253]),)"
      ]
     },
     "execution_count": 179,
     "metadata": {},
     "output_type": "execute_result"
    }
   ],
   "source": [
    "torch.where(valid_triplets==False)"
   ]
  },
  {
   "cell_type": "code",
   "execution_count": 166,
   "id": "f6830bb3-f42d-4bae-b814-97d195313e8f",
   "metadata": {},
   "outputs": [
    {
     "data": {
      "text/plain": [
       "tensor([[2.5964, 1.1194, 1.2056,  ..., 0.5992, 0.7681, 1.0439],\n",
       "        [1.1194, 2.5964, 1.2990,  ..., 1.3319, 1.0508, 0.8547],\n",
       "        [1.2056, 1.2990, 2.5964,  ..., 1.1263, 1.1149, 0.8849],\n",
       "        ...,\n",
       "        [0.5992, 1.3319, 1.1263,  ..., 2.5964, 0.9528, 0.9223],\n",
       "        [0.7681, 1.0508, 1.1149,  ..., 0.9528, 2.5964, 1.1386],\n",
       "        [1.0439, 0.8547, 0.8849,  ..., 0.9223, 1.1386, 2.5964]],\n",
       "       grad_fn=<AddBackward0>)"
      ]
     },
     "execution_count": 166,
     "metadata": {},
     "output_type": "execute_result"
    }
   ],
   "source": [
    "negative_distances"
   ]
  },
  {
   "cell_type": "code",
   "execution_count": 165,
   "id": "d8c45251-6fae-400c-a4dd-fa1852d61deb",
   "metadata": {},
   "outputs": [
    {
     "data": {
      "text/plain": [
       "2.5963759422302246"
      ]
     },
     "execution_count": 165,
     "metadata": {},
     "output_type": "execute_result"
    }
   ],
   "source": [
    "max_distance"
   ]
  },
  {
   "cell_type": "markdown",
   "id": "249af312-e989-4eef-a1fc-1f96fd9f967d",
   "metadata": {},
   "source": [
    "# tests architectures"
   ]
  },
  {
   "cell_type": "code",
   "execution_count": 10,
   "id": "b2d54a6e-2a05-41a5-940e-92b0f17205ab",
   "metadata": {},
   "outputs": [],
   "source": [
    "# 5k datapoints, len 50, 20 aa dim\n",
    "x = torch.rand(1000, 50, 20)"
   ]
  },
  {
   "cell_type": "code",
   "execution_count": 11,
   "id": "f9162f6b-917c-4590-9b6e-42da0da1bdb4",
   "metadata": {},
   "outputs": [
    {
     "data": {
      "text/plain": [
       "torch.Size([1000, 20, 50])"
      ]
     },
     "execution_count": 11,
     "metadata": {},
     "output_type": "execute_result"
    }
   ],
   "source": [
    "x.permute(0,2,1).shape"
   ]
  },
  {
   "cell_type": "code",
   "execution_count": 17,
   "id": "71b79d54-4e40-42ec-8611-a96e0c0a8cb0",
   "metadata": {},
   "outputs": [
    {
     "name": "stdout",
     "output_type": "stream",
     "text": [
      "torch.Size([1000, 10, 46])\n",
      "torch.Size([1000, 10, 22])\n",
      "torch.Size([1000, 20, 18])\n"
     ]
    }
   ],
   "source": [
    "# Taking 5 n_hidden\n",
    "conv1 = nn.Conv1d(20, 10, kernel_size=5, stride=1)\n",
    "mp = nn.MaxPool1d(kernel_size=4, stride=2)\n",
    "conv2 = nn.Conv1d(10, 20, kernel_size=5, stride=1)\n",
    "\n",
    "z = conv1(x.permute(0,2,1))\n",
    "print(z.shape)\n",
    "z = mp(z)\n",
    "print(z.shape)\n",
    "z = conv2(z)\n",
    "print(z.shape)"
   ]
  },
  {
   "cell_type": "code",
   "execution_count": null,
   "id": "a6410eb4-6a47-47c5-a012-2dc622905d67",
   "metadata": {},
   "outputs": [],
   "source": [
    "class CNNEncoder(nn.Module):\n",
    "    def __init__(self, n_features, hidden_dim, latent_dim, kernel_size):\n",
    "        super(CNNEncoder, self).__init__()\n",
    "        \n"
   ]
  },
  {
   "cell_type": "code",
   "execution_count": 69,
   "id": "4a19fcaf-413a-43e4-90eb-0fade5665500",
   "metadata": {},
   "outputs": [
    {
     "data": {
      "text/plain": [
       "(torch.Size([1000, 54, 20]), torch.Size([1000, 64]), torch.Size([1000, 64]))"
      ]
     },
     "execution_count": 69,
     "metadata": {},
     "output_type": "execute_result"
    }
   ],
   "source": [
    "import torch\n",
    "from torch import nn\n",
    "\n",
    "class CNNEncoder(nn.Module):\n",
    "    def __init__(self, L, num_features, hidden_dims, latent_dim):\n",
    "        super(CNNEncoder, self).__init__()\n",
    "        self.conv_layers = nn.Sequential(\n",
    "            nn.Conv1d(num_features, hidden_dims, kernel_size=3, stride=1, padding=1),\n",
    "            nn.ReLU(),\n",
    "            nn.MaxPool1d(2, stride=2),\n",
    "            nn.Conv1d(hidden_dims, hidden_dims * 2, kernel_size=3, stride=1, padding=1),\n",
    "            nn.ReLU(),\n",
    "            nn.MaxPool1d(2, stride=2)\n",
    "        )\n",
    "        self.flatten = nn.Flatten()\n",
    "        self.fc_mu = nn.Linear(hidden_dims * 2 * (L // 4), latent_dim)  # Adjust size accordingly\n",
    "        self.fc_var = nn.Linear(hidden_dims * 2 * (L // 4), latent_dim)  # Adjust size accordingly\n",
    "\n",
    "    def forward(self, x):\n",
    "        x = x.permute(0, 2, 1)  # Adjusting dimensions to (N, C, L)\n",
    "        x = self.conv_layers(x)\n",
    "        x = self.flatten(x)\n",
    "        mu = self.fc_mu(x)\n",
    "        log_var = self.fc_var(x)\n",
    "        return mu, log_var\n",
    "\n",
    "class CNNDecoder(nn.Module):\n",
    "    def __init__(self, L, num_features, hidden_dims, latent_dim):\n",
    "        super(CNNDecoder, self).__init__()\n",
    "        self.fc = nn.Linear(latent_dim, hidden_dims * 2 * (L // 4))  # Adjust size accordingly\n",
    "        self.conv_transpose_layers = nn.Sequential(\n",
    "            nn.ConvTranspose1d(hidden_dims * 2, hidden_dims, kernel_size=6, stride=2, padding=1),\n",
    "            nn.ReLU(),\n",
    "            nn.ConvTranspose1d(hidden_dims, num_features, kernel_size=6, stride=2, padding=1),\n",
    "            nn.ReLU()\n",
    "        )\n",
    "        self.hidden_dims = hidden_dims\n",
    "        self.L = L\n",
    "\n",
    "    def forward(self, z):\n",
    "        x = self.fc(z)\n",
    "        x = x.view(-1, self.hidden_dims * 2, self.L // 4)  # Reshape to (N, C, L) for ConvTranspose\n",
    "        x = self.conv_transpose_layers(x)\n",
    "        x = x.permute(0, 2, 1)  # Reshaping back to (N, L, C)\n",
    "        return x\n",
    "\n",
    "class VAE(nn.Module):\n",
    "    def __init__(self, L, num_features, hidden_dims, latent_dim):\n",
    "        super(VAE, self).__init__()\n",
    "        self.encoder = CNNEncoder(L, num_features, hidden_dims, latent_dim)\n",
    "        self.decoder = CNNDecoder(L, num_features, hidden_dims, latent_dim)\n",
    "\n",
    "    def reparameterize(self, mu, log_var):\n",
    "        std = torch.exp(0.5 * log_var)\n",
    "        eps = torch.randn_like(std)\n",
    "        return mu + eps * std\n",
    "\n",
    "    def forward(self, x):\n",
    "        mu, log_var = self.encoder(x)\n",
    "        z = self.reparameterize(mu, log_var)\n",
    "        x_recon = self.decoder(z)\n",
    "        return x_recon, mu, log_var\n",
    "\n",
    "x = torch.rand(1000, 50, 20)\n",
    "v = VAE(50, 20, 128, 64)\n",
    "x_hat, mu, logvar = v(x)\n",
    "\n",
    "x_hat.shape, mu.shape, logvar.shape"
   ]
  }
 ],
 "metadata": {
  "kernelspec": {
   "display_name": "Python [conda env:pynn] *",
   "language": "python",
   "name": "conda-env-pynn-py"
  },
  "language_info": {
   "codemirror_mode": {
    "name": "ipython",
    "version": 3
   },
   "file_extension": ".py",
   "mimetype": "text/x-python",
   "name": "python",
   "nbconvert_exporter": "python",
   "pygments_lexer": "ipython3",
   "version": "3.11.5"
  }
 },
 "nbformat": 4,
 "nbformat_minor": 5
}
