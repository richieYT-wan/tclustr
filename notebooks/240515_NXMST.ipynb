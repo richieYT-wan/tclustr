{
 "cells": [
  {
   "cell_type": "code",
   "execution_count": 2,
   "id": "341d7003-8011-4344-82bb-01d92242c26d",
   "metadata": {},
   "outputs": [
    {
     "data": {
      "image/png": "[encoded data removed]",
      "text/plain": [
       "<Figure size 1x1 with 1 Axes>"
      ]
     },
     "metadata": {},
     "output_type": "display_data"
    }
   ],
   "source": [
    "import pandas as pd\n",
    "import numpy as np\n",
    "import sklearn\n",
    "import matplotlib.pyplot as plt\n",
    "import matplotlib as mpl\n",
    "import seaborn as sns\n",
    "f,a = plt.subplots(1,1,figsize=(1e-2, 1e-2))\n",
    "mpl.rcParams['figure.dpi'] = 150\n",
    "sns.set_style('darkgrid')\n",
    "import os,sys\n",
    "module_path = os.path.abspath(os.path.join('..'))\n",
    "if module_path not in sys.path:\n",
    "    sys.path.append(module_path)\n",
    "import warnings\n",
    "warnings.filterwarnings(\"ignore\")\n",
    "import glob\n",
    "from tqdm.auto import tqdm\n",
    "from datetime import datetime as dt\n",
    "from sklearn.cluster import AgglomerativeClustering\n",
    "from sklearn.preprocessing import LabelEncoder\n",
    "import torch\n",
    "from torch import optim\n",
    "from torch.utils.data import RandomSampler, SequentialSampler\n",
    "from torch import nn\n",
    "from torch.nn import functional as F\n",
    "mpl.rcParams['figure.dpi'] = 180\n",
    "# Load models together\n",
    "%load_ext autoreload\n",
    "%autoreload 2\n",
    "    \n",
    "from src.torch_utils import load_model_full\n",
    "from src.utils import get_class_initcode_keys\n",
    "from torch.utils.data import SequentialSampler\n",
    "from src.datasets import *\n",
    "from src.models import *\n",
    "from src.utils import mkdirs, convert_path, pkl_dump, pkl_load, add_median_labels, get_palette\n",
    "from src.data_processing import BL62_VALUES, BL62FREQ_VALUES, HLAS, AA_KEYS\n",
    "from src.utils import pkl_load, pkl_dump, get_palette\n",
    "from src.sim_utils import make_dist_matrix\n",
    "from src.torch_utils import save_checkpoint, load_checkpoint\n",
    "from src.train_eval import predict_model, train_eval_loops\n",
    "from src.models import FullTCRVAE, TwoStageVAECLF\n",
    "from src.multimodal_datasets import MultimodalMarginalLatentDataset\n",
    "from src.multimodal_models import BSSVAE, JMVAE\n",
    "from src.multimodal_train_eval import predict_multimodal\n",
    "from src.metrics import reconstruction_accuracy, VAELoss, TripletLoss, CombinedVAELoss, compute_cosine_distance\n",
    "from src.datasets import TCRSpecificDataset, FullTCRDataset\n",
    "\n"
   ]
  },
  {
   "cell_type": "code",
   "execution_count": 3,
   "id": "b61aad57-12e0-43dc-a6d7-29fb4da94e05",
   "metadata": {},
   "outputs": [],
   "source": [
    "new_df = pd.read_csv('../data/multimodal/240311_nettcr_pairedAB_expanded_noswap.csv')\n",
    "old_df = pd.read_csv('../data/filtered/240416_nettcr_old_26pep_no_swaps.csv')"
   ]
  },
  {
   "cell_type": "code",
   "execution_count": 19,
   "id": "39ea1e8b-ee8a-4faf-bb71-a5f0942cbd7a",
   "metadata": {},
   "outputs": [],
   "source": [
    "tbcr = pd.read_csv('../output/240411_ClusteringTests/dist_matrices/2404XX_OUTPUT_tbcralign_distmatrix_140peps_labeled.csv', index_col=0)\n",
    "tbcr_valid = tbcr.query('partition==0')\n",
    "tbcr_valid = tbcr_valid[[str(x) for x in tbcr_valid.index]+['peptide','binder','partition','raw_index']]\n",
    "tbcr_array = tbcr_valid.iloc[:len(tbcr_valid), :len(tbcr_valid)].values"
   ]
  },
  {
   "cell_type": "markdown",
   "id": "6b7e152e-ed22-45bb-b4a2-18ecb0ea9ab3",
   "metadata": {},
   "source": [
    "# NXMinimum spanning trees"
   ]
  },
  {
   "cell_type": "code",
   "execution_count": 17,
   "id": "db97b5c9-40b0-4451-9808-3fdc1ff90d27",
   "metadata": {},
   "outputs": [],
   "source": [
    "import networkx as nx\n",
    "from src.cluster_utils import *"
   ]
  },
  {
   "cell_type": "code",
   "execution_count": 13,
   "id": "88b4cf42-3b09-4622-943b-349ec027c690",
   "metadata": {},
   "outputs": [],
   "source": [
    "files_dict = pkl_load('../output/240411_ClusteringTests/files_dict.pkl')\n",
    "comp_dict = pkl_load('../output/240411_ClusteringTests/comp_dict.pkl')"
   ]
  },
  {
   "cell_type": "code",
   "execution_count": 37,
   "id": "699d1441-a26a-4177-bec6-51827f0aa19b",
   "metadata": {},
   "outputs": [
    {
     "name": "stdout",
     "output_type": "stream",
     "text": [
      "Reloading best model:\n",
      "epoch: 10000\n",
      "total: 0.133039653301239\n",
      "reconstruction: 0.0919111892580986\n",
      "kld: 0.024339670315384865\n",
      "triplet: 0.016788793727755547\n",
      "seq_accuracy: 0.9892194867134094\n",
      "pos_accuracy: 0.9978100657463074\n",
      "{'max_len_a1': 7, 'max_len_a2': 8, 'max_len_a3': 22, 'max_len_b1': 6, 'max_len_b2': 7, 'max_len_b3': 23, 'max_len_pep': 0, 'encoding': 'BL50LO', 'pad_scale': -20, 'a1_col': 'A1', 'a2_col': 'A2', 'a3_col': 'A3', 'b1_col': 'B1', 'b2_col': 'B2', 'b3_col': 'B3', 'pep_col': 'peptide', 'add_positional_encoding': True}\n"
     ]
    }
   ],
   "source": [
    "# Select the best model from FullExp 0200 KL 1e-1\n",
    "folder = files_dict['FullExp_KL_1e-1']\n",
    "join = '_'.join([comp_dict['FullExp_KL_1e-1'][-2], comp_dict['FullExp_KL_1e-1'][-1]])+'_'\n",
    "js = glob.glob(f'{folder}*kwargs*.json')[0]\n",
    "pt = glob.glob(f'{folder}*{join}*.pt')[0]\n",
    "model = load_model_full(pt, js, map_location='cpu')\n",
    "latent_df = get_latent_df(model, pd.read_csv('../data/filtered/240418_nettcr_expanded_20binders_17pep_POSONLY.csv').query('partition==0'))"
   ]
  },
  {
   "cell_type": "code",
   "execution_count": 39,
   "id": "79e9efca-60cf-4be1-b473-9199ed39c5a7",
   "metadata": {},
   "outputs": [
    {
     "name": "stdout",
     "output_type": "stream",
     "text": [
      "1471\n"
     ]
    }
   ],
   "source": [
    "tbcr_valid['original_peptide'] = tbcr_valid['peptide']\n",
    "tbcr_valid, tbcr_array = resort_baseline(tbcr_valid, latent_df, 'raw_index')\n",
    "dist_matrix, dist_array, features, labels, encoded_labels, label_encoder = get_distances_labels_from_latent(latent_df)\n",
    "other_array = tbcr_valid.iloc[:len(tbcr_valid), :len(tbcr_valid)].values\n",
    "agg_array = 1 - np.multiply(1-dist_array, 1-other_array)\n"
   ]
  },
  {
   "cell_type": "code",
   "execution_count": 40,
   "id": "f63fe4c8-848a-485f-a27e-8c51284f8839",
   "metadata": {},
   "outputs": [
    {
     "data": {
      "text/plain": [
       "(1471, (1471, 1471))"
      ]
     },
     "execution_count": 40,
     "metadata": {},
     "output_type": "execute_result"
    }
   ],
   "source": [
    "len(latent_df), agg_array.shape"
   ]
  },
  {
   "cell_type": "code",
   "execution_count": 41,
   "id": "2e7fc48d-1b11-423b-94c5-e23c880f62c8",
   "metadata": {},
   "outputs": [
    {
     "data": {
      "text/plain": [
       "<networkx.classes.graph.Graph at 0x2bb451990>"
      ]
     },
     "execution_count": 41,
     "metadata": {},
     "output_type": "execute_result"
    }
   ],
   "source": [
    "G = nx.Graph(agg_array)\n",
    "G"
   ]
  },
  {
   "cell_type": "code",
   "execution_count": 42,
   "id": "6bfc0a47-47e3-4de2-8c61-ae16eff1c12b",
   "metadata": {},
   "outputs": [
    {
     "data": {
      "text/plain": [
       "({'weight': 0.4357023471901318}, 0.4357023471901318)"
      ]
     },
     "execution_count": 42,
     "metadata": {},
     "output_type": "execute_result"
    }
   ],
   "source": [
    "G.get_edge_data(1,2), agg_array[1,2]"
   ]
  },
  {
   "cell_type": "code",
   "execution_count": 43,
   "id": "ba1af715-24ed-4205-a0cc-d6084ffa3235",
   "metadata": {},
   "outputs": [],
   "source": [
    "T = nx.minimum_spanning_tree(G)"
   ]
  },
  {
   "cell_type": "code",
   "execution_count": null,
   "id": "b7b7ebd0-b853-4f4f-b404-755ed4fbff8b",
   "metadata": {},
   "outputs": [],
   "source": []
  },
  {
   "cell_type": "code",
   "execution_count": null,
   "id": "9eaab407-1360-43ba-87bb-d9b7c3232fea",
   "metadata": {},
   "outputs": [],
   "source": [
    "from src.networkx_utils import collect_init_subgraphs, create_graph_from_subgraphsets, trim_graph_into_subgraphs\n",
    "priority_abags = set()\n",
    "\n",
    "#create initial graphs\n",
    "#abag_adjmatrix np.array (nr_seq, nr_seqs)\n",
    "init_graph = nx.Graph(agg_array)\n",
    "datasize = len(init_graph)\n",
    "size_cutoff = 3\n",
    "\n",
    "okay_subgraphs, subgraphs_to_trim = collect_init_subgraphs(init_graph, size_cutoff = size_cutoff)\n",
    "print(f\"Number of decently sized subgraphs  {len(okay_subgraphs)}\")\n",
    "print(f\"Number of subgraphs that need to be trimmed {len(subgraphs_to_trim)}\")\n",
    "\n",
    "if subgraphs_to_trim:\n",
    "    trimmed_subgraphs = []\n",
    "    for g in subgraphs_to_trim: trimmed_subgraphs.extend(trim_graph_into_subgraphs(g, size_cutoff=size_cutoff, priority_nodes=priority_abags,\n",
    "                                                                                   remove_multnodes=remove_multnodes, priority_limit=priority_limit))\n",
    "#trim the graphs\n",
    "all_graphs = okay_subgraphs + trimmed_subgraphs\n",
    "finalG = create_graph_from_subgraphsets(init_graph, all_graphs)\n",
    "finalG_subgraphs = list(nx.connected_components(finalG))\n",
    "final_sizes = [len(t) for t in finalG_subgraphs ]\n",
    "print(f\"Final graph sizes {final_sizes}\")"
   ]
  }
 ],
 "metadata": {
  "kernelspec": {
   "display_name": "Python [conda env:pynn] *",
   "language": "python",
   "name": "conda-env-pynn-py"
  },
  "language_info": {
   "codemirror_mode": {
    "name": "ipython",
    "version": 3
   },
   "file_extension": ".py",
   "mimetype": "text/x-python",
   "name": "python",
   "nbconvert_exporter": "python",
   "pygments_lexer": "ipython3",
   "version": "3.11.5"
  }
 },
 "nbformat": 4,
 "nbformat_minor": 5
}
