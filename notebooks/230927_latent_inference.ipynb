{
 "cells": [
  {
   "cell_type": "code",
   "execution_count": 20,
   "id": "76862371-4c85-4a82-879c-4a6fed0876a2",
   "metadata": {},
   "outputs": [
    {
     "name": "stdout",
     "output_type": "stream",
     "text": [
      "The autoreload extension is already loaded. To reload it, use:\n",
      "  %reload_ext autoreload\n"
     ]
    },
    {
     "data": {
      "image/png": "[encoded data removed]",
      "text/plain": [
       "<Figure size 1.8x1.8 with 1 Axes>"
      ]
     },
     "metadata": {},
     "output_type": "display_data"
    }
   ],
   "source": [
    "%load_ext autoreload\n",
    "%autoreload 2\n",
    "\n",
    "import pandas as pd\n",
    "import numpy as np\n",
    "import sklearn\n",
    "import matplotlib.pyplot as plt\n",
    "import matplotlib as mpl\n",
    "import seaborn as sns\n",
    "f,a = plt.subplots(1,1,figsize=(1e-2, 1e-2))\n",
    "mpl.rcParams['figure.dpi'] = 180\n",
    "sns.set_style('darkgrid')\n",
    "import os,sys\n",
    "module_path = os.path.abspath(os.path.join('..'))\n",
    "if module_path not in sys.path:\n",
    "    sys.path.append(module_path)\n",
    "import warnings\n",
    "warnings.filterwarnings(\"ignore\")\n",
    "\n",
    "from tqdm.auto import tqdm\n",
    "from datetime import datetime as dt\n",
    "from src.utils import mkdirs, convert_path, pkl_dump, pkl_load, display_side, add_median_labels, get_palette\n",
    "from src.data_processing import BL62_VALUES, BL62FREQ_VALUES, HLAS, AA_KEYS\n",
    "from src.metrics import reconstruction_accuracy, VAELoss\n",
    "from src.utils import pkl_load, pkl_dump, get_palette\n",
    "from src.torch_utils import save_checkpoint, load_checkpoint\n",
    "from src.train_eval import predict_model, train_eval_loops\n",
    "from src.models import FullFVAE\n",
    "from src.datasets import CDR3BetaDataset\n",
    "import torch\n",
    "from torch import optim\n",
    "from torch.utils.data import RandomSampler, SequentialSampler\n",
    "from torch import nn\n",
    "from torch.nn import functional as F\n",
    "mpl.rcParams['figure.dpi'] = 180"
   ]
  },
  {
   "cell_type": "markdown",
   "id": "b0350037-6a22-4cc5-83bb-9d4919a1478d",
   "metadata": {},
   "source": [
    "# Some checks"
   ]
  },
  {
   "cell_type": "code",
   "execution_count": 50,
   "id": "ff43714a-feff-43e9-a6dc-806eb47fcc55",
   "metadata": {
    "scrolled": true
   },
   "outputs": [
    {
     "name": "stdout",
     "output_type": "stream",
     "text": [
      "\n",
      "0\n",
      "Fold: 0Best valid epoch: 575\n",
      "total:\t0.4113215639264493\n",
      "reconstruction:\t0.37363986051697323\n",
      "kld:\t0.037681700979748246\n",
      "seq_accuracy:\t0.9379920959472656\n",
      "v_accuracy:\t0.9218271970748901\n",
      "j_accuracy:\t0.99434894323349\n",
      "Fold: 0Best valid seq acc: 0.9381558377693086\n",
      "Best valid V acc: 0.9215917117965623\n",
      "Best valid J acc: 0.993407110901813\n",
      "\n",
      "1\n",
      "Fold: 1Best valid epoch: 674\n",
      "total:\t0.6807788295862699\n",
      "reconstruction:\t0.6456284207852802\n",
      "kld:\t0.0351504118170354\n",
      "seq_accuracy:\t0.9561837315559387\n",
      "v_accuracy:\t0.8152686357498169\n",
      "j_accuracy:\t0.9957587122917175\n",
      "Fold: 1Best valid seq acc: 0.9566856574804349\n",
      "Best valid V acc: 0.819038642789821\n",
      "Best valid J acc: 0.9957587181903864\n",
      "\n",
      "2\n",
      "Fold: 2Best valid epoch: 795\n",
      "total:\t0.7249003094413676\n",
      "reconstruction:\t0.6897032166819129\n",
      "kld:\t0.03519708667349759\n",
      "seq_accuracy:\t0.9577098488807678\n",
      "v_accuracy:\t0.8235571384429932\n",
      "j_accuracy:\t0.9955241680145264\n",
      "Fold: 2Best valid seq acc: 0.9571465191206466\n",
      "Best valid V acc: 0.8235571260306243\n",
      "Best valid J acc: 0.9967020023557126\n",
      "\n",
      "3\n",
      "Fold: 3Best valid epoch: 718\n",
      "total:\t0.900151495661504\n",
      "reconstruction:\t0.8602287688664477\n",
      "kld:\t0.03992271118782872\n",
      "seq_accuracy:\t0.9495316743850708\n",
      "v_accuracy:\t0.7967939376831055\n",
      "j_accuracy:\t0.9900990128517151\n",
      "Fold: 3Best valid seq acc: 0.949859586027519\n",
      "Best valid V acc: 0.7937293729372937\n",
      "Best valid J acc: 0.9896275341819897\n",
      "\n",
      "4\n",
      "Fold: 4Best valid epoch: 1535\n",
      "total:\t0.6047869263659336\n",
      "reconstruction:\t0.5713519092282756\n",
      "kld:\t0.03343501481495395\n",
      "seq_accuracy:\t0.9537627100944519\n",
      "v_accuracy:\t0.9049304127693176\n",
      "j_accuracy:\t0.9905638098716736\n",
      "Fold: 4Best valid seq acc: 0.9535165230573757\n",
      "Best valid V acc: 0.9065817409766455\n",
      "Best valid J acc: 0.9900920028308563\n"
     ]
    }
   ],
   "source": [
    "for i in range(5):\n",
    "    print(f'\\n{i}')\n",
    "    %cat ../output/FirstTest_230926_1923_bb76k/FirstTestKFOLD_bb76k_KFold_{i}_230926_1923_bb76k/args_FirstTestKFOLD_bb76k_KFold_{i}_230926_1923_bb76k.txt | tail -n 10"
   ]
  },
  {
   "cell_type": "markdown",
   "id": "df0ff744-08db-4359-9ab5-e6e7596cf099",
   "metadata": {},
   "source": [
    "Probly don't need to have that much weight on J gene but for V gene 2.5 seems good."
   ]
  },
  {
   "cell_type": "code",
   "execution_count": 33,
   "id": "f9e9a390-c777-4369-88de-b4b9a4299610",
   "metadata": {},
   "outputs": [
    {
     "name": "stdout",
     "output_type": "stream",
     "text": [
      "FirstTestKFOLD_bb76k_KFold_0_230926_1923_bb76k.png\n",
      "args_FirstTestKFOLD_bb76k_KFold_0_230926_1923_bb76k.txt\n",
      "checkpoint_best_fold00_kcv_230921_nettcr_immrepnegs_noswap_f00_FirstTestKFOLD_bb76k_KFold_0_230926_1923_bb76k.pt\n",
      "train_losses_kcv_230921_nettcr_immrepnegs_noswap_f00_FirstTestKFOLD_bb76k_KFold_0_230926_1923_bb76k.pkl\n",
      "train_metrics_kcv_230921_nettcr_immrepnegs_noswap_f00_FirstTestKFOLD_bb76k_KFold_0_230926_1923_bb76k.pkl\n",
      "valid_losses_kcv_230921_nettcr_immrepnegs_noswap_f00_FirstTestKFOLD_bb76k_KFold_0_230926_1923_bb76k.pkl\n",
      "valid_metrics_kcv_230921_nettcr_immrepnegs_noswap_f00_FirstTestKFOLD_bb76k_KFold_0_230926_1923_bb76k.pkl\n",
      "valid_predictions_kcv_230921_nettcr_immrepnegs_noswap_f00_FirstTestKFOLD_bb76k_KFold_0_230926_1923_bb76k.csv\n"
     ]
    }
   ],
   "source": [
    "%ls ../output/FirstTest_230926_1923_bb76k/FirstTestKFOLD_bb76k_KFold_0_230926_1923_bb76k"
   ]
  },
  {
   "cell_type": "code",
   "execution_count": 27,
   "id": "559b5089-7692-4a6d-9231-a82ed103aec7",
   "metadata": {},
   "outputs": [],
   "source": [
    "# init stuff\n",
    "kcv_df = pd.read_csv('../data/filtered/230921_nettcr_immrepnegs_noswap.csv')\n",
    "test_df = pd.read_csv('../data/filtered/230921_vdjdb_mcpas_filtered_concat_cdr3b_vjgenes')\n",
    "# Re-init / write down params here ; Taken from the args.txt\n",
    "max_len, encoding, pad_scale = 23, 'BL50LO', -20\n",
    "cdr3b_col, v_col, j_col = 'B3', 'TRBV_gene', 'TRBJ_gene'\n",
    "use_v, use_j, v_dim, j_dim = True, True, 51, 13\n",
    "hidden_dim, latent_dim = 256, 128\n",
    "lr, weight_decay = 5e-4, 1e-4\n",
    "loss_weights = {'weight_seq':3, 'weight_kld':1, 'weight_v':2.5, 'weight_j':2}\n",
    "n_epochs, batch_size = 2000, 256\n",
    "# Remaking dataset-loaders\n",
    "total_dataset = CDR3BetaDataset(kcv_df, max_len, encoding, pad_scale, cdr3b_col, use_v, use_j, v_col, j_col, v_dim, j_dim, v_map=None, j_map = None)\n",
    "total_loader = total_dataset.get_dataloader(batch_size, RandomSampler)\n",
    "test_dataset = CDR3BetaDataset(kcv_df, max_len, encoding, pad_scale, cdr3b_col, use_v, use_j, v_col, j_col, v_dim, j_dim, v_map= total_dataset.v_map, j_map = total_dataset.j_map)\n",
    "test_loader = test_dataset.get_dataloader(batch_size, SequentialSampler)\n",
    "folder = '../output/FirstTest_230926_1923_bb76k/'"
   ]
  },
  {
   "cell_type": "code",
   "execution_count": null,
   "id": "33a3db74-a38a-4cae-8a68-ec554d42996d",
   "metadata": {},
   "outputs": [],
   "source": [
    "# Turns out, I didn't think that different partitions in the train dataset would have different v/j maps.\n",
    "# As such, I need to save it here and reload it everytime (HARDCODED BAD BEHAVIOUR BUT NO WORKAROUND BECAUSE I NEED TO MAKE SURE THINGS MATCH BETWEEN FOLDS)\n",
    "# Also need to fix the weights on seq/kld/v/j weights to 3, 2, 2.5, 1.5 ; For now, re-run the scripts and test stuff here and do inference."
   ]
  },
  {
   "cell_type": "code",
   "execution_count": 44,
   "id": "9c020283-70b8-48c0-ad8d-898d5b43d751",
   "metadata": {},
   "outputs": [
    {
     "name": "stdout",
     "output_type": "stream",
     "text": [
      "/Users/riwa/Documents/code/tclustr/data/Matrices/230927_nettcr_dataset_vmap.pkl saved.\n",
      "/Users/riwa/Documents/code/tclustr/data/Matrices/230927_nettcr_dataset_jmap.pkl saved.\n"
     ]
    }
   ],
   "source": [
    "pkl_dump(total_dataset.v_map, '../data/Matrices/230927_nettcr_dataset_vmap.pkl')\n",
    "pkl_dump(total_dataset.j_map, '../data/Matrices/230927_nettcr_dataset_jmap.pkl')"
   ]
  },
  {
   "cell_type": "markdown",
   "id": "f26a79c1-fe06-45e9-a3e7-44584571ca82",
   "metadata": {},
   "source": [
    "# Reloading models and preds from KCV"
   ]
  },
  {
   "cell_type": "code",
   "execution_count": 25,
   "id": "b60f7366-c3bb-4d66-b93a-059c6cd7287b",
   "metadata": {},
   "outputs": [
    {
     "data": {
      "text/plain": [
       "51"
      ]
     },
     "execution_count": 25,
     "metadata": {},
     "output_type": "execute_result"
    }
   ],
   "source": [
    "len(kcv_df.TRBV_gene.unique())"
   ]
  },
  {
   "cell_type": "code",
   "execution_count": 45,
   "id": "8e39ff86-13c8-4f33-a412-6c83fc2c7042",
   "metadata": {},
   "outputs": [
    {
     "name": "stdout",
     "output_type": "stream",
     "text": [
      "odict_keys(['encoder.0.weight', 'encoder.0.bias', 'encoder.2.weight', 'encoder.2.bias', 'encoder_mu.weight', 'encoder_mu.bias', 'encoder_logvar.weight', 'encoder_logvar.bias', 'decoder.0.weight', 'decoder.0.bias', 'decoder.2.weight', 'decoder.2.bias', 'decoder_sequence.0.weight', 'decoder_sequence.0.bias', 'decoder_sequence.2.weight', 'decoder_sequence.2.bias', 'decoder_v.weight', 'decoder_v.bias', 'decoder_j.weight', 'decoder_j.bias'])\n",
      "0\n",
      "torch.Size([261, 523])\n",
      "odict_keys(['encoder.0.weight', 'encoder.0.bias', 'encoder.2.weight', 'encoder.2.bias', 'encoder_mu.weight', 'encoder_mu.bias', 'encoder_logvar.weight', 'encoder_logvar.bias', 'decoder.0.weight', 'decoder.0.bias', 'decoder.2.weight', 'decoder.2.bias', 'decoder_sequence.0.weight', 'decoder_sequence.0.bias', 'decoder_sequence.2.weight', 'decoder_sequence.2.bias', 'decoder_v.weight', 'decoder_v.bias', 'decoder_j.weight', 'decoder_j.bias'])\n",
      "3\n",
      "torch.Size([261, 523])\n"
     ]
    }
   ],
   "source": [
    "models = {}\n",
    "for i in range(5):\n",
    "    fn = f'{folder}FirstTestKFOLD_bb76k_KFold_{i}_230926_1923_bb76k/checkpoint_best_fold{i:02}_kcv_230921_nettcr_immrepnegs_noswap_f{i:02}_FirstTestKFOLD_bb76k_KFold_{i}_230926_1923_bb76k.pt'\n",
    "    try:\n",
    "        models[i] = load_checkpoint(FullFVAE(max_len, encoding, pad_scale, 20, use_v, use_j, v_dim, j_dim, nn.SELU(), hidden_dim, latent_dim), fn)\n",
    "    except:\n",
    "        print(i)\n",
    "        d = torch.load(fn)\n",
    "        print(d['encoder.0.weight'].shape)\n",
    "    # might as well retrain all folds with adjusted v/j/kld weights"
   ]
  },
  {
   "cell_type": "markdown",
   "id": "1e4a005f-0900-4728-a48b-999bb96dc74d",
   "metadata": {
    "collapsed": true,
    "jupyter": {
     "outputs_hidden": true
    }
   },
   "source": [
    "# inference using the reloaded models (missing 2 folds) 230927_1009"
   ]
  },
  {
   "cell_type": "code",
   "execution_count": null,
   "id": "8e7ac18c-40ed-4a79-9bed-da5656666f17",
   "metadata": {},
   "outputs": [],
   "source": [
    "from sklearn.metrics import hamming_loss\n",
    "def get_real_acc(hat, true):\n",
    "    hat = hat.split('X')[0]\n",
    "    true = true.split('X')[0]\n",
    "    return hamming_loss(true, hat"
   ]
  },
  {
   "cell_type": "code",
   "execution_count": 67,
   "id": "2b93898d-78ea-4439-851b-425fd74f7391",
   "metadata": {},
   "outputs": [],
   "source": [
    "from sklearn.metrics import hamming_loss\n",
    "hat = 'ASRYRKSGGNTIYXXXXXXXXXX'.split('X')[0]\n",
    "true = 'ASRYRQSGGNTIYXXXXXXXXXX'.split('X')[0]"
   ]
  },
  {
   "cell_type": "code",
   "execution_count": 58,
   "id": "4ebfe900-e41e-45bf-8e16-25c0eb33e0aa",
   "metadata": {},
   "outputs": [
    {
     "data": {
      "text/plain": [
       "dict_keys([1, 2, 4])"
      ]
     },
     "execution_count": 58,
     "metadata": {},
     "output_type": "execute_result"
    }
   ],
   "source": [
    "models.keys()"
   ]
  },
  {
   "cell_type": "code",
   "execution_count": 52,
   "id": "220e95c7-a8f6-4a0c-8821-ce986edf50c4",
   "metadata": {},
   "outputs": [
    {
     "name": "stdout",
     "output_type": "stream",
     "text": [
      "FirstTestKFOLD_bb76k_KFold_1_230926_1923_bb76k.png\n",
      "args_FirstTestKFOLD_bb76k_KFold_1_230926_1923_bb76k.txt\n",
      "checkpoint_best_fold01_kcv_230921_nettcr_immrepnegs_noswap_f01_FirstTestKFOLD_bb76k_KFold_1_230926_1923_bb76k.pt\n",
      "train_losses_kcv_230921_nettcr_immrepnegs_noswap_f01_FirstTestKFOLD_bb76k_KFold_1_230926_1923_bb76k.pkl\n",
      "train_metrics_kcv_230921_nettcr_immrepnegs_noswap_f01_FirstTestKFOLD_bb76k_KFold_1_230926_1923_bb76k.pkl\n",
      "valid_losses_kcv_230921_nettcr_immrepnegs_noswap_f01_FirstTestKFOLD_bb76k_KFold_1_230926_1923_bb76k.pkl\n",
      "valid_metrics_kcv_230921_nettcr_immrepnegs_noswap_f01_FirstTestKFOLD_bb76k_KFold_1_230926_1923_bb76k.pkl\n",
      "valid_predictions_kcv_230921_nettcr_immrepnegs_noswap_f01_FirstTestKFOLD_bb76k_KFold_1_230926_1923_bb76k.csv\n"
     ]
    }
   ],
   "source": [
    "%ls {folder}/FirstTestKFOLD_bb76k_KFold_1_230926_1923_bb76k"
   ]
  },
  {
   "cell_type": "code",
   "execution_count": 56,
   "id": "d750762f-8968-44c1-9cf7-b6a8cb86098a",
   "metadata": {},
   "outputs": [],
   "source": [
    "z_valid_1 = pd.read_csv(f'{folder}FirstTestKFOLD_bb76k_KFold_1_230926_1923_bb76k/valid_predictions_kcv_230921_nettcr_immrepnegs_noswap_f01_FirstTestKFOLD_bb76k_KFold_1_230926_1923_bb76k.csv')\n",
    "z_test_1 = predict_model(models[1], test_dataset, test_loader)"
   ]
  },
  {
   "cell_type": "code",
   "execution_count": 60,
   "id": "9cdaa89b-ab94-4cff-9a19-1c260353bcd6",
   "metadata": {},
   "outputs": [],
   "source": [
    "z_valid_2 = pd.read_csv(f'{folder}FirstTestKFOLD_bb76k_KFold_2_230926_1923_bb76k/valid_predictions_kcv_230921_nettcr_immrepnegs_noswap_f02_FirstTestKFOLD_bb76k_KFold_2_230926_1923_bb76k.csv')\n",
    "z_test_2 = predict_model(models[2], test_dataset, test_loader)"
   ]
  },
  {
   "cell_type": "code",
   "execution_count": 61,
   "id": "c9d32538-c662-4b94-96aa-9fba8900f9ee",
   "metadata": {},
   "outputs": [],
   "source": [
    "z_valid_4 = pd.read_csv(f'{folder}FirstTestKFOLD_bb76k_KFold_4_230926_1923_bb76k/valid_predictions_kcv_230921_nettcr_immrepnegs_noswap_f04_FirstTestKFOLD_bb76k_KFold_4_230926_1923_bb76k.csv')\n",
    "z_test_4 = predict_model(models[4], test_dataset, test_loader)"
   ]
  },
  {
   "cell_type": "code",
   "execution_count": 72,
   "id": "398ceb2c-778a-465f-800b-3a6d52ab61cd",
   "metadata": {},
   "outputs": [],
   "source": [
    "sample = test_dataset.x[:5]\n",
    "x_hat, _, _ = models[1](sample)\n"
   ]
  },
  {
   "cell_type": "code",
   "execution_count": 129,
   "id": "a81f2cb2-e99f-4f8c-8dc4-96e8e4ae9cf1",
   "metadata": {},
   "outputs": [],
   "source": [
    "# Redo accuracy without padding\n",
    "seq_true, v_true, j_true = models[1].reconstruct_hat(sample)\n",
    "seq_hat, v_hat, j_hat = models[1].reconstruct_hat(x_hat)\n",
    "# randomly change some indices so acc is not 100%\n",
    "seq_hat[0,5:7]=3\n",
    "seq_hat[1,6]=12\n",
    "seq_hat[2, 0:7]=4"
   ]
  },
  {
   "cell_type": "code",
   "execution_count": 143,
   "id": "fba89cbf-651f-4b14-84fd-e9a9599f9050",
   "metadata": {},
   "outputs": [
    {
     "name": "stdout",
     "output_type": "stream",
     "text": [
      "tensor([10., 12., 13., 13., 13.])\n",
      "tensor([[1., 1., 1., 1., 1., 1., 1., 1., 1., 1., 0., 0., 0., 0., 0., 0., 0., 0.,\n",
      "         0., 0., 0., 0., 0.],\n",
      "        [1., 1., 1., 1., 1., 1., 1., 1., 1., 1., 1., 1., 0., 0., 0., 0., 0., 0.,\n",
      "         0., 0., 0., 0., 0.],\n",
      "        [1., 1., 1., 1., 1., 1., 1., 1., 1., 1., 1., 1., 1., 0., 0., 0., 0., 0.,\n",
      "         0., 0., 0., 0., 0.],\n",
      "        [1., 1., 1., 1., 1., 1., 1., 1., 1., 1., 1., 1., 1., 0., 0., 0., 0., 0.,\n",
      "         0., 0., 0., 0., 0.],\n",
      "        [1., 1., 1., 1., 1., 1., 1., 1., 1., 1., 1., 1., 1., 0., 0., 0., 0., 0.,\n",
      "         0., 0., 0., 0., 0.]])\n"
     ]
    },
    {
     "data": {
      "text/plain": [
       "[0.800000011920929, 0.9166666865348816, 0.38461539149284363, 1.0, 1.0]"
      ]
     },
     "execution_count": 143,
     "metadata": {},
     "output_type": "execute_result"
    }
   ],
   "source": [
    "# NOTE : Fixed version with the true acc\n",
    "def redo_acc(seq_true, seq_hat, v_true, v_hat, j_true, j_hat, pad_index=20, return_per_element=False):\n",
    "\n",
    "    mask = (seq_true != pad_index).float()\n",
    "    true_lens = mask.sum(dim=1)\n",
    "    # masked_seq_true = seq_true*mask\n",
    "    # masked_seq_hat = seq_hat*mask\n",
    "    # difference here for per element is that we don't take the mean(dim=0) and have to detach() from graph to do tolist()\n",
    "    seq_accuracy = ((seq_true == seq_hat).float() * mask).sum(1) / true_lens\n",
    "    print(true_lens)\n",
    "    print(mask)\n",
    "    if return_per_element:\n",
    "        seq_accuracy = seq_accuracy.detach().cpu().tolist()\n",
    "        v_accuracy = ((v_true.argmax(dim=1) == v_hat.argmax(dim=1)).float()).detach().cpu().int().tolist()\n",
    "        j_accuracy = ((j_true.argmax(dim=1) == j_hat.argmax(dim=1)).float()).detach().cpu().int().tolist()\n",
    "    else:\n",
    "        seq_accuracy = seq_accuracy.mean(dim=0).item()\n",
    "        v_accuracy = ((v_true.argmax(dim=1) == v_hat.argmax(dim=1)).float().mean(dim=0)).item()\n",
    "        j_accuracy = ((j_true.argmax(dim=1) == j_hat.argmax(dim=1)).float().mean(dim=0)).item()\n",
    "    return seq_accuracy, v_accuracy, j_accuracy\n",
    "redo_acc(seq_true, seq_hat, v_true, v_hat, j_true, j_hat, 20, True)[0]"
   ]
  },
  {
   "cell_type": "code",
   "execution_count": 109,
   "id": "d2f05668-fa93-4097-9fef-f8a712d0e1f0",
   "metadata": {},
   "outputs": [
    {
     "data": {
      "text/plain": [
       "tensor([0.8000, 0.9167, 0.3846, 1.0000, 1.0000])"
      ]
     },
     "execution_count": 109,
     "metadata": {},
     "output_type": "execute_result"
    }
   ],
   "source": [
    "((seq_true==seq_hat).float() * mask).sum(1) / true_lengths"
   ]
  },
  {
   "cell_type": "code",
   "execution_count": 107,
   "id": "f2c7478b-8067-419f-a18d-2ba0fccaaf4d",
   "metadata": {},
   "outputs": [
    {
     "data": {
      "text/plain": [
       "tensor([0.8000, 0.9167, 0.3846, 1.0000, 1.0000])"
      ]
     },
     "execution_count": 107,
     "metadata": {},
     "output_type": "execute_result"
    }
   ],
   "source": [
    "# Create a binary mask where 1 indicates non-padding values\n",
    "mask = (seq_true != 20).float()\n",
    "\n",
    "# Sum along the columns to get the true length for each row\n",
    "true_lengths = mask.sum(dim=1)\n",
    "# Apply the mask to both seq_true and seq_hat\n",
    "masked_seq_true = seq_true * mask\n",
    "masked_seq_hat = seq_hat * mask\n",
    "\n",
    "# Calculate element-wise equality\n",
    "reconstruction_accuracy = ((masked_seq_true == masked_seq_hat).float() * mask).sum(1) / true_lengths\n",
    "reconstruction_accuracy"
   ]
  },
  {
   "cell_type": "code",
   "execution_count": 97,
   "id": "6af7e7fe-be47-4dbb-8cf8-63cdc771f2f2",
   "metadata": {},
   "outputs": [
    {
     "data": {
      "text/plain": [
       "tensor([10., 12., 13., 13., 13.])"
      ]
     },
     "execution_count": 97,
     "metadata": {},
     "output_type": "execute_result"
    }
   ],
   "source": [
    "true_lengths"
   ]
  }
 ],
 "metadata": {
  "kernelspec": {
   "display_name": "Python 3 (ipykernel)",
   "language": "python",
   "name": "python3"
  },
  "language_info": {
   "codemirror_mode": {
    "name": "ipython",
    "version": 3
   },
   "file_extension": ".py",
   "mimetype": "text/x-python",
   "name": "python",
   "nbconvert_exporter": "python",
   "pygments_lexer": "ipython3",
   "version": "3.11.4"
  }
 },
 "nbformat": 4,
 "nbformat_minor": 5
}
