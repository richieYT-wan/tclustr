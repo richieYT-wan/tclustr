{
 "cells": [
  {
   "cell_type": "code",
   "execution_count": 1,
   "id": "76862371-4c85-4a82-879c-4a6fed0876a2",
   "metadata": {},
   "outputs": [
    {
     "data": {
      "image/png": "[encoded data removed]",
      "text/plain": [
       "<Figure size 1x1 with 1 Axes>"
      ]
     },
     "metadata": {},
     "output_type": "display_data"
    }
   ],
   "source": [
    "%load_ext autoreload\n",
    "%autoreload 2\n",
    "\n",
    "import pandas as pd\n",
    "import numpy as np\n",
    "import sklearn\n",
    "import matplotlib.pyplot as plt\n",
    "import matplotlib as mpl\n",
    "import seaborn as sns\n",
    "f,a = plt.subplots(1,1,figsize=(1e-2, 1e-2))\n",
    "mpl.rcParams['figure.dpi'] = 180\n",
    "sns.set_style('darkgrid')\n",
    "import os,sys\n",
    "module_path = os.path.abspath(os.path.join('..'))\n",
    "if module_path not in sys.path:\n",
    "    sys.path.append(module_path)\n",
    "import warnings\n",
    "warnings.filterwarnings(\"ignore\")\n",
    "\n",
    "from tqdm.auto import tqdm\n",
    "from datetime import datetime as dt\n",
    "from src.utils import mkdirs, convert_path, pkl_dump, pkl_load, display_side, add_median_labels, get_palette\n",
    "from src.data_processing import BL62_VALUES, BL62FREQ_VALUES, HLAS, AA_KEYS\n",
    "from src.metrics import reconstruction_accuracy, VAELoss\n",
    "from src.utils import pkl_load, pkl_dump, get_palette\n",
    "from src.torch_utils import save_checkpoint, load_checkpoint\n",
    "from src.train_eval import predict_model, train_eval_loops\n",
    "from src.models import FullFVAE\n",
    "from src.datasets import CDR3BetaDataset\n",
    "import torch\n",
    "from torch import optim\n",
    "from torch.utils.data import RandomSampler, SequentialSampler\n",
    "from torch import nn\n",
    "from torch.nn import functional as F\n",
    "mpl.rcParams['figure.dpi'] = 180"
   ]
  },
  {
   "cell_type": "markdown",
   "id": "b0350037-6a22-4cc5-83bb-9d4919a1478d",
   "metadata": {},
   "source": [
    "# Some checks"
   ]
  },
  {
   "cell_type": "code",
   "execution_count": 394,
   "id": "31a7f2b2-3b1d-4196-8e22-d83b51075183",
   "metadata": {},
   "outputs": [
    {
     "name": "stdout",
     "output_type": "stream",
     "text": [
      "RedoTestKFOLD_KFold_0_230927_1001_rCSqS.png\n",
      "args_RedoTestKFOLD_KFold_0_230927_1001_rCSqS.txt\n",
      "checkpoint_best_fold00_kcv_230921_nettcr_immrepnegs_noswap_f00_RedoTestKFOLD_KFold_0_230927_1001_rCSqS.pt\n",
      "train_losses_kcv_230921_nettcr_immrepnegs_noswap_f00_RedoTestKFOLD_KFold_0_230927_1001_rCSqS.pkl\n",
      "train_metrics_kcv_230921_nettcr_immrepnegs_noswap_f00_RedoTestKFOLD_KFold_0_230927_1001_rCSqS.pkl\n",
      "valid_losses_kcv_230921_nettcr_immrepnegs_noswap_f00_RedoTestKFOLD_KFold_0_230927_1001_rCSqS.pkl\n",
      "valid_metrics_kcv_230921_nettcr_immrepnegs_noswap_f00_RedoTestKFOLD_KFold_0_230927_1001_rCSqS.pkl\n",
      "valid_predictions_kcv_230921_nettcr_immrepnegs_noswap_f00_RedoTestKFOLD_KFold_0_230927_1001_rCSqS.csv\n"
     ]
    }
   ],
   "source": [
    "%ls ../output/RedoTestKFOLD_readjustedWeights_rCSqS/RedoTestKFOLD_KFold_0_230927_1001_rCSqS"
   ]
  },
  {
   "cell_type": "code",
   "execution_count": 396,
   "id": "600c6d3f-1f3b-4290-a14c-be89ccb7eb86",
   "metadata": {
    "scrolled": true
   },
   "outputs": [
    {
     "name": "stdout",
     "output_type": "stream",
     "text": [
      "\n",
      "0\n",
      "Best valid epoch: 1263\n",
      "total:\t0.15150960240612205\n",
      "reconstruction:\t0.1080471352777791\n",
      "kld:\t0.04346246641433629\n",
      "seq_accuracy:\t0.9669127464294434\n",
      "v_accuracy:\t0.993407130241394\n",
      "j_accuracy:\t0.99434894323349\n",
      "Fold: 0Best valid seq acc: 0.9664827390245643\n",
      "Best valid V acc: 0.9910525076524606\n",
      "Best valid J acc: 0.9931716505768778\n",
      "\n",
      "1\n",
      "Best valid epoch: 1655\n",
      "total:\t0.12759196008296647\n",
      "reconstruction:\t0.08932886639228978\n",
      "kld:\t0.038263092472320674\n",
      "seq_accuracy:\t0.9610089063644409\n",
      "v_accuracy:\t0.9945805668830872\n",
      "j_accuracy:\t0.9964656233787537\n",
      "Fold: 1Best valid seq acc: 0.9607527810908173\n",
      "Best valid V acc: 0.9915174363807728\n",
      "Best valid J acc: 0.9967012252591895\n",
      "\n",
      "2\n",
      "Best valid epoch: 817\n",
      "total:\t0.16030763908957424\n",
      "reconstruction:\t0.11644548907156406\n",
      "kld:\t0.043862149119377136\n",
      "seq_accuracy:\t0.9571055769920349\n",
      "v_accuracy:\t0.9926972985267639\n",
      "j_accuracy:\t0.9941107034683228\n",
      "Fold: 2Best valid seq acc: 0.9562349613830535\n",
      "Best valid V acc: 0.992226148409894\n",
      "Best valid J acc: 0.9945818610129564\n",
      "\n",
      "3\n",
      "Best valid epoch: 751\n",
      "total:\t0.18050271747585514\n",
      "reconstruction:\t0.1375285839027023\n",
      "kld:\t0.04297413370136886\n",
      "seq_accuracy:\t0.958048939704895\n",
      "v_accuracy:\t0.9886845946311951\n",
      "j_accuracy:\t0.9915134310722351\n",
      "Fold: 3Best valid seq acc: 0.9580899127976392\n",
      "Best valid V acc: 0.9884488448844885\n",
      "Best valid J acc: 0.9915134370579916\n",
      "\n",
      "4\n",
      "warm_up: True\n",
      "debug: False\n",
      "fold: 4\n",
      "random_id: rCSqS\n",
      "seed: 4\n",
      "aa_dim: 20\n",
      "use_v: True\n",
      "use_j: True\n",
      "v_dim: 51\n",
      "j_dim: 13\n"
     ]
    }
   ],
   "source": [
    "for i in range(5):\n",
    "    print(f'\\n{i}')\n",
    "    %cat ../output/RedoTestKFOLD_readjustedWeights_rCSqS/RedoTestKFOLD_KFold_{i}_230927_1001_rCSqS/args_RedoTestKFOLD_KFold_{i}_230927_1001_rCSqS.txt | tail -n 10"
   ]
  },
  {
   "cell_type": "code",
   "execution_count": 50,
   "id": "ff43714a-feff-43e9-a6dc-806eb47fcc55",
   "metadata": {
    "scrolled": true
   },
   "outputs": [
    {
     "name": "stdout",
     "output_type": "stream",
     "text": [
      "\n",
      "0\n",
      "Fold: 0Best valid epoch: 575\n",
      "total:\t0.4113215639264493\n",
      "reconstruction:\t0.37363986051697323\n",
      "kld:\t0.037681700979748246\n",
      "seq_accuracy:\t0.9379920959472656\n",
      "v_accuracy:\t0.9218271970748901\n",
      "j_accuracy:\t0.99434894323349\n",
      "Fold: 0Best valid seq acc: 0.9381558377693086\n",
      "Best valid V acc: 0.9215917117965623\n",
      "Best valid J acc: 0.993407110901813\n",
      "\n",
      "1\n",
      "Fold: 1Best valid epoch: 674\n",
      "total:\t0.6807788295862699\n",
      "reconstruction:\t0.6456284207852802\n",
      "kld:\t0.0351504118170354\n",
      "seq_accuracy:\t0.9561837315559387\n",
      "v_accuracy:\t0.8152686357498169\n",
      "j_accuracy:\t0.9957587122917175\n",
      "Fold: 1Best valid seq acc: 0.9566856574804349\n",
      "Best valid V acc: 0.819038642789821\n",
      "Best valid J acc: 0.9957587181903864\n",
      "\n",
      "2\n",
      "Fold: 2Best valid epoch: 795\n",
      "total:\t0.7249003094413676\n",
      "reconstruction:\t0.6897032166819129\n",
      "kld:\t0.03519708667349759\n",
      "seq_accuracy:\t0.9577098488807678\n",
      "v_accuracy:\t0.8235571384429932\n",
      "j_accuracy:\t0.9955241680145264\n",
      "Fold: 2Best valid seq acc: 0.9571465191206466\n",
      "Best valid V acc: 0.8235571260306243\n",
      "Best valid J acc: 0.9967020023557126\n",
      "\n",
      "3\n",
      "Fold: 3Best valid epoch: 718\n",
      "total:\t0.900151495661504\n",
      "reconstruction:\t0.8602287688664477\n",
      "kld:\t0.03992271118782872\n",
      "seq_accuracy:\t0.9495316743850708\n",
      "v_accuracy:\t0.7967939376831055\n",
      "j_accuracy:\t0.9900990128517151\n",
      "Fold: 3Best valid seq acc: 0.949859586027519\n",
      "Best valid V acc: 0.7937293729372937\n",
      "Best valid J acc: 0.9896275341819897\n",
      "\n",
      "4\n",
      "Fold: 4Best valid epoch: 1535\n",
      "total:\t0.6047869263659336\n",
      "reconstruction:\t0.5713519092282756\n",
      "kld:\t0.03343501481495395\n",
      "seq_accuracy:\t0.9537627100944519\n",
      "v_accuracy:\t0.9049304127693176\n",
      "j_accuracy:\t0.9905638098716736\n",
      "Fold: 4Best valid seq acc: 0.9535165230573757\n",
      "Best valid V acc: 0.9065817409766455\n",
      "Best valid J acc: 0.9900920028308563\n"
     ]
    }
   ],
   "source": [
    "for i in range(5):\n",
    "    print(f'\\n{i}')\n",
    "    %cat ../output/FirstTest_230926_1923_bb76k/FirstTestKFOLD_bb76k_KFold_{i}_230926_1923_bb76k/args_FirstTestKFOLD_bb76k_KFold_{i}_230926_1923_bb76k.txt | tail -n 10"
   ]
  },
  {
   "cell_type": "markdown",
   "id": "df0ff744-08db-4359-9ab5-e6e7596cf099",
   "metadata": {},
   "source": [
    "Probly don't need to have that much weight on J gene but for V gene 2.5 seems good."
   ]
  },
  {
   "cell_type": "code",
   "execution_count": 33,
   "id": "f9e9a390-c777-4369-88de-b4b9a4299610",
   "metadata": {},
   "outputs": [
    {
     "name": "stdout",
     "output_type": "stream",
     "text": [
      "FirstTestKFOLD_bb76k_KFold_0_230926_1923_bb76k.png\n",
      "args_FirstTestKFOLD_bb76k_KFold_0_230926_1923_bb76k.txt\n",
      "checkpoint_best_fold00_kcv_230921_nettcr_immrepnegs_noswap_f00_FirstTestKFOLD_bb76k_KFold_0_230926_1923_bb76k.pt\n",
      "train_losses_kcv_230921_nettcr_immrepnegs_noswap_f00_FirstTestKFOLD_bb76k_KFold_0_230926_1923_bb76k.pkl\n",
      "train_metrics_kcv_230921_nettcr_immrepnegs_noswap_f00_FirstTestKFOLD_bb76k_KFold_0_230926_1923_bb76k.pkl\n",
      "valid_losses_kcv_230921_nettcr_immrepnegs_noswap_f00_FirstTestKFOLD_bb76k_KFold_0_230926_1923_bb76k.pkl\n",
      "valid_metrics_kcv_230921_nettcr_immrepnegs_noswap_f00_FirstTestKFOLD_bb76k_KFold_0_230926_1923_bb76k.pkl\n",
      "valid_predictions_kcv_230921_nettcr_immrepnegs_noswap_f00_FirstTestKFOLD_bb76k_KFold_0_230926_1923_bb76k.csv\n"
     ]
    }
   ],
   "source": [
    "%ls ../output/FirstTest_230926_1923_bb76k/FirstTestKFOLD_bb76k_KFold_0_230926_1923_bb76k"
   ]
  },
  {
   "cell_type": "code",
   "execution_count": 3,
   "id": "559b5089-7692-4a6d-9231-a82ed103aec7",
   "metadata": {},
   "outputs": [],
   "source": [
    "# init stuff\n",
    "kcv_df = pd.read_csv('../data/filtered/230921_nettcr_immrepnegs_noswap.csv')\n",
    "test_df = pd.read_csv('../data/filtered/230921_vdjdb_mcpas_filtered_concat_cdr3b_vjgenes')\n",
    "# Re-init / write down params here ; Taken from the args.txt\n",
    "max_len, encoding, pad_scale = 23, 'BL50LO', -20\n",
    "cdr3b_col, v_col, j_col = 'B3', 'TRBV_gene', 'TRBJ_gene'\n",
    "use_v, use_j, v_dim, j_dim = True, True, 51, 13\n",
    "hidden_dim, latent_dim = 256, 128\n",
    "lr, weight_decay = 5e-4, 1e-4\n",
    "loss_weights = {'weight_seq':3, 'weight_kld':1, 'weight_v':2.5, 'weight_j':2}\n",
    "n_epochs, batch_size = 2000, 256\n",
    "# Remaking dataset-loaders\n",
    "total_dataset = CDR3BetaDataset(kcv_df, max_len, encoding, pad_scale, cdr3b_col, use_v, use_j, v_col, j_col, v_dim, j_dim, v_map=None, j_map = None)\n",
    "total_loader = total_dataset.get_dataloader(batch_size, RandomSampler)\n",
    "test_dataset = CDR3BetaDataset(kcv_df, max_len, encoding, pad_scale, cdr3b_col, use_v, use_j, v_col, j_col, v_dim, j_dim, v_map= total_dataset.v_map, j_map = total_dataset.j_map)\n",
    "test_loader = test_dataset.get_dataloader(batch_size, SequentialSampler)\n",
    "folder = '../output/FirstTest_230926_1923_bb76k/'"
   ]
  },
  {
   "cell_type": "code",
   "execution_count": null,
   "id": "33a3db74-a38a-4cae-8a68-ec554d42996d",
   "metadata": {},
   "outputs": [],
   "source": [
    "# Turns out, I didn't think that different partitions in the train dataset would have different v/j maps.\n",
    "# As such, I need to save it here and reload it everytime (HARDCODED BAD BEHAVIOUR BUT NO WORKAROUND BECAUSE I NEED TO MAKE SURE THINGS MATCH BETWEEN FOLDS)\n",
    "# Also need to fix the weights on seq/kld/v/j weights to 3, 2, 2.5, 1.5 ; For now, re-run the scripts and test stuff here and do inference."
   ]
  },
  {
   "cell_type": "code",
   "execution_count": 44,
   "id": "9c020283-70b8-48c0-ad8d-898d5b43d751",
   "metadata": {},
   "outputs": [
    {
     "name": "stdout",
     "output_type": "stream",
     "text": [
      "/Users/riwa/Documents/code/tclustr/data/Matrices/230927_nettcr_dataset_vmap.pkl saved.\n",
      "/Users/riwa/Documents/code/tclustr/data/Matrices/230927_nettcr_dataset_jmap.pkl saved.\n"
     ]
    }
   ],
   "source": [
    "pkl_dump(total_dataset.v_map, '../data/Matrices/230927_nettcr_dataset_vmap.pkl')\n",
    "pkl_dump(total_dataset.j_map, '../data/Matrices/230927_nettcr_dataset_jmap.pkl')"
   ]
  },
  {
   "cell_type": "markdown",
   "id": "f26a79c1-fe06-45e9-a3e7-44584571ca82",
   "metadata": {
    "jp-MarkdownHeadingCollapsed": true
   },
   "source": [
    "# Reloading models and preds from KCV"
   ]
  },
  {
   "cell_type": "code",
   "execution_count": 45,
   "id": "8e39ff86-13c8-4f33-a412-6c83fc2c7042",
   "metadata": {},
   "outputs": [
    {
     "name": "stdout",
     "output_type": "stream",
     "text": [
      "odict_keys(['encoder.0.weight', 'encoder.0.bias', 'encoder.2.weight', 'encoder.2.bias', 'encoder_mu.weight', 'encoder_mu.bias', 'encoder_logvar.weight', 'encoder_logvar.bias', 'decoder.0.weight', 'decoder.0.bias', 'decoder.2.weight', 'decoder.2.bias', 'decoder_sequence.0.weight', 'decoder_sequence.0.bias', 'decoder_sequence.2.weight', 'decoder_sequence.2.bias', 'decoder_v.weight', 'decoder_v.bias', 'decoder_j.weight', 'decoder_j.bias'])\n",
      "0\n",
      "torch.Size([261, 523])\n",
      "odict_keys(['encoder.0.weight', 'encoder.0.bias', 'encoder.2.weight', 'encoder.2.bias', 'encoder_mu.weight', 'encoder_mu.bias', 'encoder_logvar.weight', 'encoder_logvar.bias', 'decoder.0.weight', 'decoder.0.bias', 'decoder.2.weight', 'decoder.2.bias', 'decoder_sequence.0.weight', 'decoder_sequence.0.bias', 'decoder_sequence.2.weight', 'decoder_sequence.2.bias', 'decoder_v.weight', 'decoder_v.bias', 'decoder_j.weight', 'decoder_j.bias'])\n",
      "3\n",
      "torch.Size([261, 523])\n"
     ]
    }
   ],
   "source": [
    "models = {}\n",
    "for i in range(5):\n",
    "    fn = f'{folder}FirstTestKFOLD_bb76k_KFold_{i}_230926_1923_bb76k/checkpoint_best_fold{i:02}_kcv_230921_nettcr_immrepnegs_noswap_f{i:02}_FirstTestKFOLD_bb76k_KFold_{i}_230926_1923_bb76k.pt'\n",
    "    try:\n",
    "        models[i] = load_checkpoint(FullFVAE(max_len, encoding, pad_scale, 20, use_v, use_j, v_dim, j_dim, nn.SELU(), hidden_dim, latent_dim), fn)\n",
    "    except:\n",
    "        print(i)\n",
    "        d = torch.load(fn)\n",
    "        print(d['encoder.0.weight'].shape)\n",
    "    # might as well retrain all folds with adjusted v/j/kld weights"
   ]
  },
  {
   "cell_type": "markdown",
   "id": "1996279f-5952-4d29-afc0-60bd6a54851e",
   "metadata": {
    "jp-MarkdownHeadingCollapsed": true
   },
   "source": [
    "# Fixing the seq recons accuracy taking the pad instead of the actual sequence with the true lengths"
   ]
  },
  {
   "cell_type": "code",
   "execution_count": 72,
   "id": "398ceb2c-778a-465f-800b-3a6d52ab61cd",
   "metadata": {},
   "outputs": [],
   "source": [
    "sample = test_dataset.x[:5]\n",
    "x_hat, _, _ = models[1](sample)\n"
   ]
  },
  {
   "cell_type": "code",
   "execution_count": 129,
   "id": "a81f2cb2-e99f-4f8c-8dc4-96e8e4ae9cf1",
   "metadata": {},
   "outputs": [],
   "source": [
    "# Redo accuracy without padding\n",
    "seq_true, v_true, j_true = models[1].reconstruct_hat(sample)\n",
    "seq_hat, v_hat, j_hat = models[1].reconstruct_hat(x_hat)\n",
    "# randomly change some indices so acc is not 100%\n",
    "seq_hat[0,5:7]=3\n",
    "seq_hat[1,6]=12\n",
    "seq_hat[2, 0:7]=4"
   ]
  },
  {
   "cell_type": "code",
   "execution_count": 143,
   "id": "fba89cbf-651f-4b14-84fd-e9a9599f9050",
   "metadata": {},
   "outputs": [
    {
     "name": "stdout",
     "output_type": "stream",
     "text": [
      "tensor([10., 12., 13., 13., 13.])\n",
      "tensor([[1., 1., 1., 1., 1., 1., 1., 1., 1., 1., 0., 0., 0., 0., 0., 0., 0., 0.,\n",
      "         0., 0., 0., 0., 0.],\n",
      "        [1., 1., 1., 1., 1., 1., 1., 1., 1., 1., 1., 1., 0., 0., 0., 0., 0., 0.,\n",
      "         0., 0., 0., 0., 0.],\n",
      "        [1., 1., 1., 1., 1., 1., 1., 1., 1., 1., 1., 1., 1., 0., 0., 0., 0., 0.,\n",
      "         0., 0., 0., 0., 0.],\n",
      "        [1., 1., 1., 1., 1., 1., 1., 1., 1., 1., 1., 1., 1., 0., 0., 0., 0., 0.,\n",
      "         0., 0., 0., 0., 0.],\n",
      "        [1., 1., 1., 1., 1., 1., 1., 1., 1., 1., 1., 1., 1., 0., 0., 0., 0., 0.,\n",
      "         0., 0., 0., 0., 0.]])\n"
     ]
    },
    {
     "data": {
      "text/plain": [
       "[0.800000011920929, 0.9166666865348816, 0.38461539149284363, 1.0, 1.0]"
      ]
     },
     "execution_count": 143,
     "metadata": {},
     "output_type": "execute_result"
    }
   ],
   "source": [
    "# NOTE : Fixed version with the true acc\n",
    "def redo_acc(seq_true, seq_hat, v_true, v_hat, j_true, j_hat, pad_index=20, return_per_element=False):\n",
    "\n",
    "    mask = (seq_true != pad_index).float()\n",
    "    true_lens = mask.sum(dim=1)\n",
    "    # masked_seq_true = seq_true*mask\n",
    "    # masked_seq_hat = seq_hat*mask\n",
    "    # difference here for per element is that we don't take the mean(dim=0) and have to detach() from graph to do tolist()\n",
    "    seq_accuracy = ((seq_true == seq_hat).float() * mask).sum(1) / true_lens\n",
    "    print(true_lens)\n",
    "    print(mask)\n",
    "    if return_per_element:\n",
    "        seq_accuracy = seq_accuracy.detach().cpu().tolist()\n",
    "        v_accuracy = ((v_true.argmax(dim=1) == v_hat.argmax(dim=1)).float()).detach().cpu().int().tolist()\n",
    "        j_accuracy = ((j_true.argmax(dim=1) == j_hat.argmax(dim=1)).float()).detach().cpu().int().tolist()\n",
    "    else:\n",
    "        seq_accuracy = seq_accuracy.mean(dim=0).item()\n",
    "        v_accuracy = ((v_true.argmax(dim=1) == v_hat.argmax(dim=1)).float().mean(dim=0)).item()\n",
    "        j_accuracy = ((j_true.argmax(dim=1) == j_hat.argmax(dim=1)).float().mean(dim=0)).item()\n",
    "    return seq_accuracy, v_accuracy, j_accuracy\n",
    "redo_acc(seq_true, seq_hat, v_true, v_hat, j_true, j_hat, 20, True)[0]"
   ]
  },
  {
   "cell_type": "code",
   "execution_count": 109,
   "id": "d2f05668-fa93-4097-9fef-f8a712d0e1f0",
   "metadata": {},
   "outputs": [
    {
     "data": {
      "text/plain": [
       "tensor([0.8000, 0.9167, 0.3846, 1.0000, 1.0000])"
      ]
     },
     "execution_count": 109,
     "metadata": {},
     "output_type": "execute_result"
    }
   ],
   "source": [
    "((seq_true==seq_hat).float() * mask).sum(1) / true_lengths"
   ]
  },
  {
   "cell_type": "code",
   "execution_count": 107,
   "id": "f2c7478b-8067-419f-a18d-2ba0fccaaf4d",
   "metadata": {},
   "outputs": [
    {
     "data": {
      "text/plain": [
       "tensor([0.8000, 0.9167, 0.3846, 1.0000, 1.0000])"
      ]
     },
     "execution_count": 107,
     "metadata": {},
     "output_type": "execute_result"
    }
   ],
   "source": [
    "# Create a binary mask where 1 indicates non-padding values\n",
    "mask = (seq_true != 20).float()\n",
    "\n",
    "# Sum along the columns to get the true length for each row\n",
    "true_lengths = mask.sum(dim=1)\n",
    "# Apply the mask to both seq_true and seq_hat\n",
    "masked_seq_true = seq_true * mask\n",
    "masked_seq_hat = seq_hat * mask\n",
    "\n",
    "# Calculate element-wise equality\n",
    "reconstruction_accuracy = ((masked_seq_true == masked_seq_hat).float() * mask).sum(1) / true_lengths\n",
    "reconstruction_accuracy"
   ]
  },
  {
   "cell_type": "code",
   "execution_count": 97,
   "id": "6af7e7fe-be47-4dbb-8cf8-63cdc771f2f2",
   "metadata": {},
   "outputs": [
    {
     "data": {
      "text/plain": [
       "tensor([10., 12., 13., 13., 13.])"
      ]
     },
     "execution_count": 97,
     "metadata": {},
     "output_type": "execute_result"
    }
   ],
   "source": [
    "true_lengths"
   ]
  },
  {
   "cell_type": "markdown",
   "id": "1e4a005f-0900-4728-a48b-999bb96dc74d",
   "metadata": {
    "collapsed": true,
    "jupyter": {
     "outputs_hidden": true
    }
   },
   "source": [
    "# inference using the reloaded models (missing 2 folds) 230927_1009"
   ]
  },
  {
   "cell_type": "markdown",
   "id": "0dd275a9-4a25-49ac-a2bb-206504cebb7c",
   "metadata": {},
   "source": [
    "## With V/J genes"
   ]
  },
  {
   "cell_type": "code",
   "execution_count": 200,
   "id": "1e9d3087-2e01-4b9b-9ed7-5328682f0ceb",
   "metadata": {},
   "outputs": [
    {
     "name": "stdout",
     "output_type": "stream",
     "text": [
      "\u001b[34mFirstTestKFOLD_bb76k_KFold_0_230927_1014_bb76k\u001b[m\u001b[m/\n",
      "\u001b[34mFirstTestKFOLD_bb76k_KFold_1_230926_1923_bb76k\u001b[m\u001b[m/\n",
      "\u001b[34mFirstTestKFOLD_bb76k_KFold_2_230926_1923_bb76k\u001b[m\u001b[m/\n",
      "\u001b[34mFirstTestKFOLD_bb76k_KFold_3_230927_1014_bb76k\u001b[m\u001b[m/\n",
      "\u001b[34mFirstTestKFOLD_bb76k_KFold_4_230926_1923_bb76k\u001b[m\u001b[m/\n"
     ]
    }
   ],
   "source": [
    "%ls ../output/FirstTest_230926_1923_bb76k/"
   ]
  },
  {
   "cell_type": "code",
   "execution_count": 205,
   "id": "1b7d0b6c-fc7d-4489-89f7-0bcac0446df5",
   "metadata": {},
   "outputs": [
    {
     "data": {
      "text/plain": [
       "'checkpoint_best_fold04_kcv_230921_nettcr_immrepnegs_noswap_f04_FirstTestKFOLD_bb76k_KFold_4_230926_1923_bb76k.pt'"
      ]
     },
     "execution_count": 205,
     "metadata": {},
     "output_type": "execute_result"
    }
   ],
   "source": [
    "next(filter(lambda x:'checkpoint' in x, os.listdir(fdir[0])))"
   ]
  },
  {
   "cell_type": "code",
   "execution_count": 206,
   "id": "b59ef35e-488c-4e42-a4e0-6c87baf489f0",
   "metadata": {},
   "outputs": [
    {
     "data": {
      "text/plain": [
       "['../output/FirstTest_230926_1923_bb76k/FirstTestKFOLD_bb76k_KFold_0_230927_1014_bb76k/',\n",
       " '../output/FirstTest_230926_1923_bb76k/FirstTestKFOLD_bb76k_KFold_1_230926_1923_bb76k/',\n",
       " '../output/FirstTest_230926_1923_bb76k/FirstTestKFOLD_bb76k_KFold_2_230926_1923_bb76k/',\n",
       " '../output/FirstTest_230926_1923_bb76k/FirstTestKFOLD_bb76k_KFold_3_230927_1014_bb76k/',\n",
       " '../output/FirstTest_230926_1923_bb76k/FirstTestKFOLD_bb76k_KFold_4_230926_1923_bb76k/']"
      ]
     },
     "execution_count": 206,
     "metadata": {},
     "output_type": "execute_result"
    }
   ],
   "source": [
    "sorted(fdir)"
   ]
  },
  {
   "cell_type": "code",
   "execution_count": 238,
   "id": "8672d292-cdfc-4c23-bd85-b1e1973b7cab",
   "metadata": {},
   "outputs": [
    {
     "name": "stdout",
     "output_type": "stream",
     "text": [
      "../output/FirstTest_230926_1923_bb76k/FirstTestKFOLD_bb76k_KFold_0_230927_1014_bb76k/checkpoint_best_fold00_kcv_230921_nettcr_immrepnegs_noswap_f00_FirstTestKFOLD_bb76k_KFold_0_230927_1014_bb76k.pt\n",
      "../output/FirstTest_230926_1923_bb76k/FirstTestKFOLD_bb76k_KFold_1_230926_1923_bb76k/checkpoint_best_fold01_kcv_230921_nettcr_immrepnegs_noswap_f01_FirstTestKFOLD_bb76k_KFold_1_230926_1923_bb76k.pt\n",
      "../output/FirstTest_230926_1923_bb76k/FirstTestKFOLD_bb76k_KFold_2_230926_1923_bb76k/checkpoint_best_fold02_kcv_230921_nettcr_immrepnegs_noswap_f02_FirstTestKFOLD_bb76k_KFold_2_230926_1923_bb76k.pt\n",
      "../output/FirstTest_230926_1923_bb76k/FirstTestKFOLD_bb76k_KFold_3_230927_1014_bb76k/checkpoint_best_fold03_kcv_230921_nettcr_immrepnegs_noswap_f03_FirstTestKFOLD_bb76k_KFold_3_230927_1014_bb76k.pt\n",
      "../output/FirstTest_230926_1923_bb76k/FirstTestKFOLD_bb76k_KFold_4_230926_1923_bb76k/checkpoint_best_fold04_kcv_230921_nettcr_immrepnegs_noswap_f04_FirstTestKFOLD_bb76k_KFold_4_230926_1923_bb76k.pt\n"
     ]
    }
   ],
   "source": [
    "# reload all models now : \n",
    "maindir='../output/FirstTest_230926_1923_bb76k/'\n",
    "fdirs = sorted([(f'{maindir}{x}'+'/').replace('//','/') for x in os.listdir(maindir) if x !='.DS_Store'])\n",
    "models = {}\n",
    "for i,fd in enumerate(fdirs):\n",
    "    fn = f\"{fd}{next(filter(lambda x:'checkpoint' in x, os.listdir(fd)))}\"\n",
    "    print(fn)\n",
    "    models[i] = load_checkpoint(FullFVAE(max_len, encoding, pad_scale, 20, use_v, use_j, v_dim, j_dim, nn.SELU(), hidden_dim, latent_dim), fn)"
   ]
  },
  {
   "cell_type": "code",
   "execution_count": 247,
   "id": "4ebfe900-e41e-45bf-8e16-25c0eb33e0aa",
   "metadata": {},
   "outputs": [],
   "source": [
    "from src.data_processing import AA_KEYS\n",
    "test_df = pd.read_csv('../data/filtered/230921_vdjdb_mcpas_filtered_concat_cdr3b_vjgenes')\n",
    "test_df['flag'] = test_df['B3'].apply(lambda x: all([c in AA_KEYS for c in x]))\n",
    "# Some filtering that I forgot to do before...\n",
    "test_df = test_df.query('flag')\n",
    "test_df = test_df.query('TRBV_gene in @V_MAP.keys() and TRBJ_gene in @J_MAP.keys()')\n",
    "test_df = test_df.query('B3 not in @kcv_df.B3.unique()')\n",
    "# Re-saving the filtered test set\n",
    "test_df.to_csv('../data/filtered/230927_vdjdb_mcpas_filtered_concat_REDONE_cdr3b_vjgenes.csv', index=False)\n",
    "test_dataset = CDR3BetaDataset(test_df, max_len, encoding, pad_scale, cdr3b_col, use_v, use_j, v_col, j_col, v_dim, j_dim, v_map = V_MAP, j_map = J_MAP)\n",
    "test_loader = test_dataset.get_dataloader(1024, SequentialSampler)"
   ]
  },
  {
   "cell_type": "code",
   "execution_count": 240,
   "id": "d750762f-8968-44c1-9cf7-b6a8cb86098a",
   "metadata": {},
   "outputs": [],
   "source": [
    "from src.metrics import reconstruction_accuracy\n",
    "from src.data_processing import V_MAP, J_MAP\n",
    "from src.datasets import CDR3BetaDataset\n",
    "\n",
    "df_valid_0 = kcv_df.query('partition==0')\n",
    "valid_dataset_0 = CDR3BetaDataset(df_valid_0, max_len, encoding, pad_scale, cdr3b_col, use_v, use_j, v_col, j_col, v_dim, j_dim, v_map = V_MAP, j_map = J_MAP)\n",
    "valid_loader_0 = valid_dataset_0.get_dataloader(batch_size=1024, sampler=SequentialSampler)\n",
    "\n",
    "df_valid_1 = kcv_df.query('partition==1')\n",
    "valid_dataset_1 = CDR3BetaDataset(df_valid_1, max_len, encoding, pad_scale, cdr3b_col, use_v, use_j, v_col, j_col, v_dim, j_dim, v_map = V_MAP, j_map = J_MAP)\n",
    "valid_loader_1 = valid_dataset_1.get_dataloader(batch_size=1024, sampler=SequentialSampler)\n",
    "\n",
    "df_valid_2 = kcv_df.query('partition==2')\n",
    "valid_dataset_2 = CDR3BetaDataset(df_valid_2, max_len, encoding, pad_scale, cdr3b_col, use_v, use_j, v_col, j_col, v_dim, j_dim, v_map = V_MAP, j_map = J_MAP)\n",
    "valid_loader_2 = valid_dataset_2.get_dataloader(batch_size=1024, sampler=SequentialSampler)\n",
    "\n",
    "df_valid_3 = kcv_df.query('partition==3')\n",
    "valid_dataset_3 = CDR3BetaDataset(df_valid_3, max_len, encoding, pad_scale, cdr3b_col, use_v, use_j, v_col, j_col, v_dim, j_dim, v_map = V_MAP, j_map = J_MAP)\n",
    "valid_loader_3 = valid_dataset_3.get_dataloader(batch_size=1024, sampler=SequentialSampler)\n",
    "\n",
    "df_valid_4 = kcv_df.query('partition==4')\n",
    "valid_dataset_4 = CDR3BetaDataset(df_valid_4, max_len, encoding, pad_scale, cdr3b_col, use_v, use_j, v_col, j_col, v_dim, j_dim, v_map = V_MAP, j_map = J_MAP)\n",
    "valid_loader_4 = valid_dataset_4.get_dataloader(batch_size=1024, sampler=SequentialSampler)\n",
    "\n",
    "# Re-get predictions so that we get the correct accuracy now with the updated non-pad seq reconstruction accuracy\n",
    "torch.manual_seed(0)\n",
    "df_valid_0 = predict_model(models[0], valid_dataset_0, valid_loader_0)\n",
    "df_test_0 = predict_model(models[0], test_dataset, test_loader)\n",
    "torch.manual_seed(1)\n",
    "df_valid_1 = predict_model(models[1], valid_dataset_1, valid_loader_1)\n",
    "df_test_1 = predict_model(models[1], test_dataset, test_loader)\n",
    "torch.manual_seed(2)\n",
    "df_valid_2 = predict_model(models[2], valid_dataset_2, valid_loader_2)\n",
    "df_test_2 = predict_model(models[2], test_dataset, test_loader)\n",
    "torch.manual_seed(3)\n",
    "df_valid_3 = predict_model(models[3], valid_dataset_3, valid_loader_3)\n",
    "df_test_3 = predict_model(models[3], test_dataset, test_loader)\n",
    "torch.manual_seed(4)\n",
    "df_valid_4 = predict_model(models[4], valid_dataset_4, valid_loader_4)\n",
    "df_test_4 = predict_model(models[4], test_dataset, test_loader)\n",
    "\n",
    "del valid_dataset_0, valid_loader_0, valid_dataset_1, valid_loader_1, valid_dataset_2, valid_loader_2, valid_dataset_3, valid_loader_3, valid_dataset_4, valid_loader_4, test_dataset, test_loader"
   ]
  },
  {
   "cell_type": "code",
   "execution_count": 243,
   "id": "8c9f0e49-abff-498a-970a-14c7497bb1cf",
   "metadata": {},
   "outputs": [],
   "source": [
    "for fd, valid, test in zip(fdirs, [df_valid_0, df_valid_1, df_valid_2, df_valid_3, df_valid_4], [df_test_0, df_test_1, df_test_2, df_test_3, df_test_4]):\n",
    "    valid.to_csv(f'{fd}redo_valid.csv',index=False)\n",
    "    test.to_csv(f'{fd}redo_test.csv',index=False)"
   ]
  },
  {
   "cell_type": "code",
   "execution_count": 391,
   "id": "1651185b-8581-4b22-8d6b-d87bfd97f8b6",
   "metadata": {},
   "outputs": [
    {
     "data": {
      "text/plain": [
       "FullFVAE(\n",
       "  (encoder): Sequential(\n",
       "    (0): Linear(in_features=524, out_features=262, bias=True)\n",
       "    (1): SELU()\n",
       "    (2): Linear(in_features=262, out_features=256, bias=True)\n",
       "    (3): SELU()\n",
       "  )\n",
       "  (encoder_mu): Linear(in_features=256, out_features=128, bias=True)\n",
       "  (encoder_logvar): Linear(in_features=256, out_features=128, bias=True)\n",
       "  (decoder): Sequential(\n",
       "    (0): Linear(in_features=128, out_features=256, bias=True)\n",
       "    (1): SELU()\n",
       "    (2): Linear(in_features=256, out_features=256, bias=True)\n",
       "    (3): SELU()\n",
       "  )\n",
       "  (decoder_sequence): Sequential(\n",
       "    (0): Linear(in_features=256, out_features=262, bias=True)\n",
       "    (1): SELU()\n",
       "    (2): Linear(in_features=262, out_features=460, bias=True)\n",
       "  )\n",
       "  (decoder_v): Linear(in_features=256, out_features=51, bias=True)\n",
       "  (decoder_j): Linear(in_features=256, out_features=13, bias=True)\n",
       ")"
      ]
     },
     "execution_count": 391,
     "metadata": {},
     "output_type": "execute_result"
    }
   ],
   "source": [
    "model"
   ]
  },
  {
   "cell_type": "code",
   "execution_count": 244,
   "id": "b794c0ee-6190-4882-b7e6-d8634c66a90c",
   "metadata": {},
   "outputs": [
    {
     "name": "stdout",
     "output_type": "stream",
     "text": [
      "z_valid_0\n",
      "Seq 91.40%, V 99.08%, J 99.34%\n",
      "z_valid_1\n",
      "Seq 92.90%, V 98.75%, J 99.62%\n",
      "z_valid_2\n",
      "Seq 93.22%, V 99.15%, J 99.69%\n",
      "z_valid_3\n",
      "Seq 92.27%, V 98.94%, J 99.22%\n",
      "z_valid_4\n",
      "Seq 91.89%, V 99.39%, J 99.03%\n",
      "z_test_0\n",
      "Seq 90.19%, V 98.12%, J 97.91%\n",
      "z_test_1\n",
      "Seq 91.48%, V 98.06%, J 98.38%\n",
      "z_test_2\n",
      "Seq 92.01%, V 98.46%, J 98.79%\n",
      "z_test_3\n",
      "Seq 90.86%, V 98.25%, J 98.11%\n",
      "z_test_4\n",
      "Seq 90.61%, V 98.44%, J 98.25%\n"
     ]
    }
   ],
   "source": [
    "for df, n in zip([df_valid_0, df_valid_1, df_valid_2, df_valid_3, df_valid_4, df_test_0, df_test_1, df_test_2, df_test_3, df_test_4],\n",
    "                 [\"z_valid_0\", \"z_valid_1\", \"z_valid_2\", \"z_valid_3\", \"z_valid_4\", \"z_test_0\", \"z_test_1\", \"z_test_2\", \"z_test_3\", \"z_test_4\"]):\n",
    "    print(n)\n",
    "    print(f'Seq {df.seq_acc.mean():.2%}, V {df.v_correct.mean():.2%}, J {df.j_correct.mean():.2%}')\n"
   ]
  },
  {
   "cell_type": "code",
   "execution_count": 245,
   "id": "323925dd-0fd7-47dd-b0ad-a44ab40d2637",
   "metadata": {},
   "outputs": [],
   "source": [
    "# JUST DO THIS FOR NOW WITH THESE MODELS ; CHECK THE OTHER MODELS (REDO) later"
   ]
  },
  {
   "cell_type": "raw",
   "id": "ac9ebb48-a674-4702-b0f8-dbcb89efd0d0",
   "metadata": {},
   "source": [
    "for fold, model in models.items():\n",
    "    train_idx = top11_df.query('partition!=@fold').index\n",
    "    valid_idx = top11_df.query('partition==@fold').index\n",
    "    assert len(train_idx.join(valid_idx, how='inner'))==0, 'wtf'\n",
    "    print('Making preds')\n",
    "    preds = predict_model(model, top11_dataset, top11_loader)\n",
    "    train_preds = preds.loc[train_idx]\n",
    "    valid_preds = preds.loc[valid_idx]\n",
    "    z_train = train_preds[[f'z_{i}' for i in range(latent_dim)]].values\n",
    "    labels_train = train_preds['peptide'].values\n",
    "    z_valid = valid_preds[[f'z_{i}' for i in range(latent_dim)]].values\n",
    "    labels_valid = valid_preds['peptide'].values\n",
    "    "
   ]
  },
  {
   "cell_type": "raw",
   "id": "2b45b798-87e5-482c-8fe4-c659ac403186",
   "metadata": {
    "collapsed": true,
    "jupyter": {
     "outputs_hidden": true
    }
   },
   "source": [
    "for i in range(20, 50):\n",
    "    pca=PCA(i)\n",
    "    pca_train = pca.fit_transform(z_train)\n",
    "    pca_valid = pca.transform(z_valid)\n",
    "    print(i, pca.explained_variance_ratio_.sum())"
   ]
  },
  {
   "cell_type": "markdown",
   "id": "92269766-66ef-4728-9911-e56532841142",
   "metadata": {},
   "source": [
    "## clustering stuff"
   ]
  },
  {
   "cell_type": "code",
   "execution_count": 5,
   "id": "ef26c627-d6d4-4194-85c4-29247270abf8",
   "metadata": {},
   "outputs": [],
   "source": [
    "from src.data_processing import V_MAP, J_MAP\n",
    "kcv_df = pd.read_csv('../data/filtered/230921_nettcr_immrepnegs_noswap.csv')\n",
    "# (top 10 + immrepnegs)\n",
    "top11_pep = kcv_df.groupby(['peptide']).agg(count=('B3','count')).sort_values('count',ascending=False).head(11).index\n",
    "top11_df = kcv_df.query('peptide in @top11_pep').reset_index(drop=True)\n",
    "top11_dataset = CDR3BetaDataset(top11_df, max_len, encoding, pad_scale, cdr3b_col,  use_v, use_j, v_col, j_col, v_dim, j_dim, V_MAP, J_MAP)\n",
    "top11_loader = top11_dataset.get_dataloader(1024, SequentialSampler)"
   ]
  },
  {
   "cell_type": "markdown",
   "id": "460cf606-572f-44e9-a874-1aa5158554a7",
   "metadata": {},
   "source": [
    "### First, re-merge / process the kcv data to include CDR3 A and B from the raw files"
   ]
  },
  {
   "cell_type": "code",
   "execution_count": 343,
   "id": "999d3213-9c2e-49d1-ac97-bd001e7a87c8",
   "metadata": {},
   "outputs": [
    {
     "name": "stdout",
     "output_type": "stream",
     "text": [
      "230919_nettcr_immrepnegs_merged_all.csv\n",
      "230919_nettcr_immrepnegs_noswap.csv\n",
      "95_redundancy_reduced_nettcr_train_mixed_negatives_ls_3_26_peptides_final.csv\n",
      "anarci_annotated_new_df.csv\n",
      "anarci_output.tsv\n",
      "\u001b[34mcovid_controls\u001b[m\u001b[m/\n",
      "negative_controls_95_redundancy_reduced.csv\n",
      "nettcr_train_mathias.csv\n",
      "new_train_df.csv\n"
     ]
    }
   ],
   "source": [
    "%ls ../data/NetTCR"
   ]
  },
  {
   "cell_type": "code",
   "execution_count": null,
   "id": "3b3f8d56-75e5-441f-9e81-f51755a5266a",
   "metadata": {},
   "outputs": [],
   "source": [
    "# Annotation should come from Immrep and NetTCR/anarci_annotated_new_df"
   ]
  },
  {
   "cell_type": "code",
   "execution_count": 6,
   "id": "fc401299-d2b3-461a-beb7-f984c5ccb947",
   "metadata": {},
   "outputs": [],
   "source": [
    "ndir = '../data/immrep/'\n",
    "pos_annot = pd.read_csv('../data/NetTCR/anarci_output.tsv', sep = '\\t')\n",
    "neg_annot = pd.concat([pd.read_csv(f'{ndir}{f}', sep = '\\t') for f in os.listdir(ndir)])[['TRAV', 'TRAJ', 'TRBV', 'TRBJ', 'A1', 'A2', 'A3', 'B1', 'B2', 'B3', 'TRA_CDR3', 'TRB_CDR3']]\n"
   ]
  },
  {
   "cell_type": "code",
   "execution_count": 7,
   "id": "3a711161-27e4-4859-b4e8-65cfad46f0a6",
   "metadata": {},
   "outputs": [
    {
     "data": {
      "text/html": [
       "<div>\n",
       "<style scoped>\n",
       "    .dataframe tbody tr th:only-of-type {\n",
       "        vertical-align: middle;\n",
       "    }\n",
       "\n",
       "    .dataframe tbody tr th {\n",
       "        vertical-align: top;\n",
       "    }\n",
       "\n",
       "    .dataframe thead th {\n",
       "        text-align: right;\n",
       "    }\n",
       "</style>\n",
       "<table border=\"1\" class=\"dataframe\">\n",
       "  <thead>\n",
       "    <tr style=\"text-align: right;\">\n",
       "      <th></th>\n",
       "      <th>A1</th>\n",
       "      <th>A2</th>\n",
       "      <th>A3</th>\n",
       "      <th>B1</th>\n",
       "      <th>B2</th>\n",
       "      <th>B3</th>\n",
       "      <th>binder</th>\n",
       "      <th>peptide</th>\n",
       "      <th>original_peptide</th>\n",
       "      <th>TRAV</th>\n",
       "      <th>TRAJ</th>\n",
       "      <th>TRBV</th>\n",
       "      <th>TRBJ</th>\n",
       "      <th>partition</th>\n",
       "      <th>Unnamed: 0</th>\n",
       "      <th>allele</th>\n",
       "      <th>origin</th>\n",
       "      <th>original_index</th>\n",
       "      <th>TRBV_gene</th>\n",
       "      <th>TRBJ_gene</th>\n",
       "    </tr>\n",
       "  </thead>\n",
       "  <tbody>\n",
       "    <tr>\n",
       "      <th>0</th>\n",
       "      <td>NSASDY</td>\n",
       "      <td>IRSNMDK</td>\n",
       "      <td>AERPGGKLI</td>\n",
       "      <td>SGHAT</td>\n",
       "      <td>FQNNGV</td>\n",
       "      <td>ASSYQGNEAF</td>\n",
       "      <td>0</td>\n",
       "      <td>immrep_negs</td>\n",
       "      <td>immrep_negs</td>\n",
       "      <td>TRAV13-2*01</td>\n",
       "      <td>TRAJ23*01</td>\n",
       "      <td>TRBV11-2*01</td>\n",
       "      <td>TRBJ1-1*01</td>\n",
       "      <td>3</td>\n",
       "      <td>NaN</td>\n",
       "      <td>NaN</td>\n",
       "      <td>immrep</td>\n",
       "      <td>NaN</td>\n",
       "      <td>TRBV11-2</td>\n",
       "      <td>TRBJ1-1</td>\n",
       "    </tr>\n",
       "    <tr>\n",
       "      <th>1</th>\n",
       "      <td>TISGNEY</td>\n",
       "      <td>GLKNN</td>\n",
       "      <td>IVRVGGSQGNLI</td>\n",
       "      <td>DFQATT</td>\n",
       "      <td>SNEGSKA</td>\n",
       "      <td>SARGPATNEKLF</td>\n",
       "      <td>0</td>\n",
       "      <td>immrep_negs</td>\n",
       "      <td>immrep_negs</td>\n",
       "      <td>TRAV26-1*01</td>\n",
       "      <td>TRAJ42*01</td>\n",
       "      <td>TRBV20-1*01</td>\n",
       "      <td>TRBJ1-4*01</td>\n",
       "      <td>2</td>\n",
       "      <td>NaN</td>\n",
       "      <td>NaN</td>\n",
       "      <td>immrep</td>\n",
       "      <td>NaN</td>\n",
       "      <td>TRBV20-1</td>\n",
       "      <td>TRBJ1-4</td>\n",
       "    </tr>\n",
       "    <tr>\n",
       "      <th>2</th>\n",
       "      <td>TRDTTYY</td>\n",
       "      <td>RNSFDEQN</td>\n",
       "      <td>ALSDPALKAAGNKLT</td>\n",
       "      <td>MNHEY</td>\n",
       "      <td>SMNVEV</td>\n",
       "      <td>ASSFFSGGWNEQF</td>\n",
       "      <td>0</td>\n",
       "      <td>immrep_negs</td>\n",
       "      <td>immrep_negs</td>\n",
       "      <td>TRAV19*01</td>\n",
       "      <td>TRAJ17*01</td>\n",
       "      <td>TRBV27*01</td>\n",
       "      <td>TRBJ2-1*01</td>\n",
       "      <td>4</td>\n",
       "      <td>NaN</td>\n",
       "      <td>NaN</td>\n",
       "      <td>immrep</td>\n",
       "      <td>NaN</td>\n",
       "      <td>TRBV27</td>\n",
       "      <td>TRBJ2-1</td>\n",
       "    </tr>\n",
       "    <tr>\n",
       "      <th>3</th>\n",
       "      <td>TSENNYY</td>\n",
       "      <td>QEAYKQQN</td>\n",
       "      <td>AFMNPNYQLI</td>\n",
       "      <td>SGDLS</td>\n",
       "      <td>YYNGEE</td>\n",
       "      <td>ASSAPDRPGNEQY</td>\n",
       "      <td>0</td>\n",
       "      <td>immrep_negs</td>\n",
       "      <td>immrep_negs</td>\n",
       "      <td>TRAV38-1*01</td>\n",
       "      <td>TRAJ33*01</td>\n",
       "      <td>TRBV9*01</td>\n",
       "      <td>TRBJ2-7*01</td>\n",
       "      <td>1</td>\n",
       "      <td>NaN</td>\n",
       "      <td>NaN</td>\n",
       "      <td>immrep</td>\n",
       "      <td>NaN</td>\n",
       "      <td>TRBV9</td>\n",
       "      <td>TRBJ2-7</td>\n",
       "    </tr>\n",
       "    <tr>\n",
       "      <th>4</th>\n",
       "      <td>YGGTVN</td>\n",
       "      <td>YFSGDPLV</td>\n",
       "      <td>LRGLDTGFQKLV</td>\n",
       "      <td>SGDLS</td>\n",
       "      <td>YYNGEE</td>\n",
       "      <td>ASSPYRDSQETQY</td>\n",
       "      <td>0</td>\n",
       "      <td>immrep_negs</td>\n",
       "      <td>immrep_negs</td>\n",
       "      <td>TRAV8-1*01</td>\n",
       "      <td>TRAJ8*01</td>\n",
       "      <td>TRBV9*01</td>\n",
       "      <td>TRBJ2-5*01</td>\n",
       "      <td>3</td>\n",
       "      <td>NaN</td>\n",
       "      <td>NaN</td>\n",
       "      <td>immrep</td>\n",
       "      <td>NaN</td>\n",
       "      <td>TRBV9</td>\n",
       "      <td>TRBJ2-5</td>\n",
       "    </tr>\n",
       "    <tr>\n",
       "      <th>...</th>\n",
       "      <td>...</td>\n",
       "      <td>...</td>\n",
       "      <td>...</td>\n",
       "      <td>...</td>\n",
       "      <td>...</td>\n",
       "      <td>...</td>\n",
       "      <td>...</td>\n",
       "      <td>...</td>\n",
       "      <td>...</td>\n",
       "      <td>...</td>\n",
       "      <td>...</td>\n",
       "      <td>...</td>\n",
       "      <td>...</td>\n",
       "      <td>...</td>\n",
       "      <td>...</td>\n",
       "      <td>...</td>\n",
       "      <td>...</td>\n",
       "      <td>...</td>\n",
       "      <td>...</td>\n",
       "      <td>...</td>\n",
       "    </tr>\n",
       "    <tr>\n",
       "      <th>21212</th>\n",
       "      <td>TSENNYY</td>\n",
       "      <td>QEAYKQQN</td>\n",
       "      <td>AFMLGAGGTSYGKLT</td>\n",
       "      <td>LNHDA</td>\n",
       "      <td>SHIVND</td>\n",
       "      <td>ASSIGYYGYT</td>\n",
       "      <td>1</td>\n",
       "      <td>GILGFVFTL</td>\n",
       "      <td>GILGFVFTL</td>\n",
       "      <td>TRAV38-1*01</td>\n",
       "      <td>TRAJ52*01</td>\n",
       "      <td>TRBV19*02</td>\n",
       "      <td>TRBJ1-2*01</td>\n",
       "      <td>4</td>\n",
       "      <td>36260.0</td>\n",
       "      <td>HLA-A*02:01</td>\n",
       "      <td>VDJdb</td>\n",
       "      <td>2580.0</td>\n",
       "      <td>TRBV19</td>\n",
       "      <td>TRBJ1-2</td>\n",
       "    </tr>\n",
       "    <tr>\n",
       "      <th>21213</th>\n",
       "      <td>DSASNY</td>\n",
       "      <td>IRSNVGE</td>\n",
       "      <td>AYGGSQGNLI</td>\n",
       "      <td>LNHDA</td>\n",
       "      <td>SQIVND</td>\n",
       "      <td>ASSFRSSETQY</td>\n",
       "      <td>1</td>\n",
       "      <td>GILGFVFTL</td>\n",
       "      <td>GILGFVFTL</td>\n",
       "      <td>TRAV13-1*01</td>\n",
       "      <td>TRAJ42*01</td>\n",
       "      <td>TRBV19*01</td>\n",
       "      <td>TRBJ2-5*01</td>\n",
       "      <td>2</td>\n",
       "      <td>36817.0</td>\n",
       "      <td>HLA-A*02:01</td>\n",
       "      <td>10x</td>\n",
       "      <td>5082.0</td>\n",
       "      <td>TRBV19</td>\n",
       "      <td>TRBJ2-5</td>\n",
       "    </tr>\n",
       "    <tr>\n",
       "      <th>21214</th>\n",
       "      <td>NSASDY</td>\n",
       "      <td>IRSNMDK</td>\n",
       "      <td>AENLGGGSQGNLI</td>\n",
       "      <td>LNHDA</td>\n",
       "      <td>SQIVND</td>\n",
       "      <td>ASSTRATGELF</td>\n",
       "      <td>1</td>\n",
       "      <td>GILGFVFTL</td>\n",
       "      <td>GILGFVFTL</td>\n",
       "      <td>TRAV13-2*01</td>\n",
       "      <td>TRAJ42*01</td>\n",
       "      <td>TRBV19*01</td>\n",
       "      <td>TRBJ2-2*01</td>\n",
       "      <td>3</td>\n",
       "      <td>36884.0</td>\n",
       "      <td>HLA-A*02:01</td>\n",
       "      <td>10x</td>\n",
       "      <td>6211.0</td>\n",
       "      <td>TRBV19</td>\n",
       "      <td>TRBJ2-2</td>\n",
       "    </tr>\n",
       "    <tr>\n",
       "      <th>21215</th>\n",
       "      <td>SSVSVY</td>\n",
       "      <td>YLSGSTLV</td>\n",
       "      <td>AVGGDGGSQGNLI</td>\n",
       "      <td>LNHDA</td>\n",
       "      <td>SQIVND</td>\n",
       "      <td>ASSIRASGVEQF</td>\n",
       "      <td>1</td>\n",
       "      <td>GILGFVFTL</td>\n",
       "      <td>GILGFVFTL</td>\n",
       "      <td>TRAV8-6*01</td>\n",
       "      <td>TRAJ42*01</td>\n",
       "      <td>TRBV19*01</td>\n",
       "      <td>TRBJ2-1*01</td>\n",
       "      <td>2</td>\n",
       "      <td>37310.0</td>\n",
       "      <td>HLA-A*02:01</td>\n",
       "      <td>VDJdb</td>\n",
       "      <td>4078.0</td>\n",
       "      <td>TRBV19</td>\n",
       "      <td>TRBJ2-1</td>\n",
       "    </tr>\n",
       "    <tr>\n",
       "      <th>21216</th>\n",
       "      <td>SIFNT</td>\n",
       "      <td>LYKAGEL</td>\n",
       "      <td>AGQLAGGSQGNLI</td>\n",
       "      <td>LGHNA</td>\n",
       "      <td>YSLEER</td>\n",
       "      <td>ASSQERGGKWAYEQY</td>\n",
       "      <td>1</td>\n",
       "      <td>GILGFVFTL</td>\n",
       "      <td>GILGFVFTL</td>\n",
       "      <td>TRAV35*01</td>\n",
       "      <td>TRAJ42*01</td>\n",
       "      <td>TRBV4-3*01</td>\n",
       "      <td>TRBJ2-7*01</td>\n",
       "      <td>1</td>\n",
       "      <td>37417.0</td>\n",
       "      <td>HLA-A*02:01</td>\n",
       "      <td>VDJdb</td>\n",
       "      <td>5236.0</td>\n",
       "      <td>TRBV4-3</td>\n",
       "      <td>TRBJ2-7</td>\n",
       "    </tr>\n",
       "  </tbody>\n",
       "</table>\n",
       "<p>21217 rows × 20 columns</p>\n",
       "</div>"
      ],
      "text/plain": [
       "            A1        A2               A3      B1       B2               B3  \\\n",
       "0       NSASDY   IRSNMDK        AERPGGKLI   SGHAT   FQNNGV       ASSYQGNEAF   \n",
       "1      TISGNEY     GLKNN     IVRVGGSQGNLI  DFQATT  SNEGSKA     SARGPATNEKLF   \n",
       "2      TRDTTYY  RNSFDEQN  ALSDPALKAAGNKLT   MNHEY   SMNVEV    ASSFFSGGWNEQF   \n",
       "3      TSENNYY  QEAYKQQN       AFMNPNYQLI   SGDLS   YYNGEE    ASSAPDRPGNEQY   \n",
       "4       YGGTVN  YFSGDPLV     LRGLDTGFQKLV   SGDLS   YYNGEE    ASSPYRDSQETQY   \n",
       "...        ...       ...              ...     ...      ...              ...   \n",
       "21212  TSENNYY  QEAYKQQN  AFMLGAGGTSYGKLT   LNHDA   SHIVND       ASSIGYYGYT   \n",
       "21213   DSASNY   IRSNVGE       AYGGSQGNLI   LNHDA   SQIVND      ASSFRSSETQY   \n",
       "21214   NSASDY   IRSNMDK    AENLGGGSQGNLI   LNHDA   SQIVND      ASSTRATGELF   \n",
       "21215   SSVSVY  YLSGSTLV    AVGGDGGSQGNLI   LNHDA   SQIVND     ASSIRASGVEQF   \n",
       "21216    SIFNT   LYKAGEL    AGQLAGGSQGNLI   LGHNA   YSLEER  ASSQERGGKWAYEQY   \n",
       "\n",
       "       binder      peptide original_peptide         TRAV       TRAJ  \\\n",
       "0           0  immrep_negs      immrep_negs  TRAV13-2*01  TRAJ23*01   \n",
       "1           0  immrep_negs      immrep_negs  TRAV26-1*01  TRAJ42*01   \n",
       "2           0  immrep_negs      immrep_negs    TRAV19*01  TRAJ17*01   \n",
       "3           0  immrep_negs      immrep_negs  TRAV38-1*01  TRAJ33*01   \n",
       "4           0  immrep_negs      immrep_negs   TRAV8-1*01   TRAJ8*01   \n",
       "...       ...          ...              ...          ...        ...   \n",
       "21212       1    GILGFVFTL        GILGFVFTL  TRAV38-1*01  TRAJ52*01   \n",
       "21213       1    GILGFVFTL        GILGFVFTL  TRAV13-1*01  TRAJ42*01   \n",
       "21214       1    GILGFVFTL        GILGFVFTL  TRAV13-2*01  TRAJ42*01   \n",
       "21215       1    GILGFVFTL        GILGFVFTL   TRAV8-6*01  TRAJ42*01   \n",
       "21216       1    GILGFVFTL        GILGFVFTL    TRAV35*01  TRAJ42*01   \n",
       "\n",
       "              TRBV        TRBJ  partition  Unnamed: 0       allele  origin  \\\n",
       "0      TRBV11-2*01  TRBJ1-1*01          3         NaN          NaN  immrep   \n",
       "1      TRBV20-1*01  TRBJ1-4*01          2         NaN          NaN  immrep   \n",
       "2        TRBV27*01  TRBJ2-1*01          4         NaN          NaN  immrep   \n",
       "3         TRBV9*01  TRBJ2-7*01          1         NaN          NaN  immrep   \n",
       "4         TRBV9*01  TRBJ2-5*01          3         NaN          NaN  immrep   \n",
       "...            ...         ...        ...         ...          ...     ...   \n",
       "21212    TRBV19*02  TRBJ1-2*01          4     36260.0  HLA-A*02:01   VDJdb   \n",
       "21213    TRBV19*01  TRBJ2-5*01          2     36817.0  HLA-A*02:01     10x   \n",
       "21214    TRBV19*01  TRBJ2-2*01          3     36884.0  HLA-A*02:01     10x   \n",
       "21215    TRBV19*01  TRBJ2-1*01          2     37310.0  HLA-A*02:01   VDJdb   \n",
       "21216   TRBV4-3*01  TRBJ2-7*01          1     37417.0  HLA-A*02:01   VDJdb   \n",
       "\n",
       "       original_index TRBV_gene TRBJ_gene  \n",
       "0                 NaN  TRBV11-2   TRBJ1-1  \n",
       "1                 NaN  TRBV20-1   TRBJ1-4  \n",
       "2                 NaN    TRBV27   TRBJ2-1  \n",
       "3                 NaN     TRBV9   TRBJ2-7  \n",
       "4                 NaN     TRBV9   TRBJ2-5  \n",
       "...               ...       ...       ...  \n",
       "21212          2580.0    TRBV19   TRBJ1-2  \n",
       "21213          5082.0    TRBV19   TRBJ2-5  \n",
       "21214          6211.0    TRBV19   TRBJ2-2  \n",
       "21215          4078.0    TRBV19   TRBJ2-1  \n",
       "21216          5236.0   TRBV4-3   TRBJ2-7  \n",
       "\n",
       "[21217 rows x 20 columns]"
      ]
     },
     "execution_count": 7,
     "metadata": {},
     "output_type": "execute_result"
    }
   ],
   "source": [
    "kcv_df"
   ]
  },
  {
   "cell_type": "code",
   "execution_count": 8,
   "id": "9c7a39f4-7b58-4450-bd37-981ea05c0851",
   "metadata": {},
   "outputs": [],
   "source": [
    "kcv_positives = kcv_df.query('origin!= \"immrep\"').merge(pos_annot[['A1', 'A2', 'A3', 'B1','B2','B3', 'TRA_CDR3', 'TRB_CDR3']], \n",
    "                                                        left_on=['A1', 'A2', 'A3', 'B1','B2','B3'], right_on=['A1', 'A2', 'A3', 'B1','B2','B3']).drop_duplicates(subset=['A1', 'A2', 'A3', 'B1','B2','B3'])\n",
    "kcv_negatives = kcv_df.query('origin== \"immrep\"').merge(neg_annot[['A1', 'A2', 'A3', 'B1','B2','B3', 'TRA_CDR3', 'TRB_CDR3']], \n",
    "                                                        left_on=['A1', 'A2', 'A3', 'B1','B2','B3'], right_on=['A1', 'A2', 'A3', 'B1','B2','B3']).drop_duplicates(subset=['A1', 'A2', 'A3', 'B1','B2','B3'])\n",
    "kcv_reannotated = pd.concat([kcv_positives, kcv_negatives])\n",
    "\n",
    "kcv_reannotated['TRAV_gene'] = kcv_reannotated['TRAV'].apply(lambda x: x.split('*')[0].split(':')[0].split('/')[0])\n",
    "kcv_reannotated['TRAJ_gene'] = kcv_reannotated['TRAJ'].apply(lambda x: x.split('*')[0].split(':')[0].split('/')[0])\n",
    "\n",
    "\n",
    "kcv_reannotated.to_csv('../data/filtered/230927_nettcr_immrepnegs_noswap_ANNOTATED_CDR3.csv', index=False)\n",
    "kcv_positives.to_csv('../data/filtered/230927_nettcr_positives_only.csv', index=False)"
   ]
  },
  {
   "cell_type": "code",
   "execution_count": 9,
   "id": "b7ff247b-ac85-4f5b-a8c6-0ff473e841cf",
   "metadata": {},
   "outputs": [],
   "source": [
    "# Save for GLIPH 2:\n",
    "import random\n",
    "kcv_reannotated['count'] = 1 #kcv_reannotated['peptide'].apply(lambda x: \n",
    "kcv_reannotated['subj_cdt'] = kcv_reannotated['peptide'].apply(lambda x: f'{random.randint(0,99):02}/{random.randint(0, 9999):04}:{x}')\n",
    "kcv_reannotated[['TRB_CDR3', 'TRBV_gene', 'TRBJ_gene', 'TRA_CDR3', 'subj_cdt','count']].to_csv('../data/kcv_to_GLIPH.tsv', index=False,header=False, sep='\\t')"
   ]
  },
  {
   "cell_type": "code",
   "execution_count": 421,
   "id": "168f6f76-f3c7-4843-b601-7f2ac2177c01",
   "metadata": {},
   "outputs": [],
   "source": [
    "kcv_reannotated.to_csv('../data/kcv_to_GLIPH_annotated.csv', index=False)\n",
    "kcv_reannotated.query('binder==1').to_csv('../data/kcv_to_GLIPH_BINDERS_annotated.csv', index=False)\n",
    "kcv_reannotated.query('binder==1')[['TRB_CDR3', 'TRBV_gene', 'TRBJ_gene', 'TRA_CDR3', 'subj_cdt','count']].to_csv('../data/kcv_to_GLIPH_BINDERS.tsv', index=False,header=False, sep='\\t')"
   ]
  },
  {
   "cell_type": "code",
   "execution_count": 403,
   "id": "91028908-6952-491e-b93e-c76323abf6d8",
   "metadata": {},
   "outputs": [],
   "source": [
    "model_novj = FullFVAE(23,'BL50LO', pad_scale=-20, use_v=False, use_j=False)"
   ]
  },
  {
   "cell_type": "code",
   "execution_count": 416,
   "id": "4a4b1dd9-e05c-49aa-be5c-9f3ef62b3d2d",
   "metadata": {},
   "outputs": [
    {
     "data": {
      "text/plain": [
       "25"
      ]
     },
     "execution_count": 416,
     "metadata": {},
     "output_type": "execute_result"
    }
   ],
   "source": [
    "kcv_positives['TRB_CDR3'].apply(len).max()"
   ]
  },
  {
   "cell_type": "markdown",
   "id": "93fc4078-c7b5-4677-962b-7cc9f2ad7da0",
   "metadata": {},
   "source": [
    "## GLIPH results"
   ]
  },
  {
   "cell_type": "code",
   "execution_count": 12,
   "id": "1884caa2-7d8b-42e5-b728-fcfbd909b155",
   "metadata": {},
   "outputs": [
    {
     "data": {
      "text/html": [
       "<div>\n",
       "<style scoped>\n",
       "    .dataframe tbody tr th:only-of-type {\n",
       "        vertical-align: middle;\n",
       "    }\n",
       "\n",
       "    .dataframe tbody tr th {\n",
       "        vertical-align: top;\n",
       "    }\n",
       "\n",
       "    .dataframe thead th {\n",
       "        text-align: right;\n",
       "    }\n",
       "</style>\n",
       "<table border=\"1\" class=\"dataframe\">\n",
       "  <thead>\n",
       "    <tr style=\"text-align: right;\">\n",
       "      <th></th>\n",
       "      <th>index</th>\n",
       "      <th>pattern</th>\n",
       "      <th>Fisher_score</th>\n",
       "      <th>number_subject</th>\n",
       "      <th>number_unique_cdr3</th>\n",
       "      <th>final_score</th>\n",
       "      <th>hla_score</th>\n",
       "      <th>vb_score</th>\n",
       "      <th>expansion_score</th>\n",
       "      <th>length_score</th>\n",
       "      <th>cluster_size_score</th>\n",
       "      <th>type</th>\n",
       "      <th>ulTcRb</th>\n",
       "      <th>TcRb</th>\n",
       "      <th>V</th>\n",
       "      <th>J</th>\n",
       "      <th>TcRa</th>\n",
       "      <th>Sample</th>\n",
       "      <th>Freq</th>\n",
       "    </tr>\n",
       "  </thead>\n",
       "  <tbody>\n",
       "    <tr>\n",
       "      <th>0</th>\n",
       "      <td>1</td>\n",
       "      <td>SIRS</td>\n",
       "      <td>0.0</td>\n",
       "      <td>156</td>\n",
       "      <td>46</td>\n",
       "      <td>1.500000e-11</td>\n",
       "      <td>1.0</td>\n",
       "      <td>0.001</td>\n",
       "      <td>1.0</td>\n",
       "      <td>0.001</td>\n",
       "      <td>0.000015</td>\n",
       "      <td>motif-SIRS</td>\n",
       "      <td>CASSIrsldIQYF</td>\n",
       "      <td>CASSIRSLDIQYF</td>\n",
       "      <td>TRBV19</td>\n",
       "      <td>TRBJ2-4</td>\n",
       "      <td>CAGTYGGSQGNLIF</td>\n",
       "      <td>75/5473:GILGFVFTL</td>\n",
       "      <td>1.0</td>\n",
       "    </tr>\n",
       "    <tr>\n",
       "      <th>1</th>\n",
       "      <td>1</td>\n",
       "      <td>SIRS</td>\n",
       "      <td>0.0</td>\n",
       "      <td>156</td>\n",
       "      <td>46</td>\n",
       "      <td>1.500000e-11</td>\n",
       "      <td>1.0</td>\n",
       "      <td>0.001</td>\n",
       "      <td>1.0</td>\n",
       "      <td>0.001</td>\n",
       "      <td>0.000015</td>\n",
       "      <td>motif-SIRS</td>\n",
       "      <td>CASSIrSGNTEAF</td>\n",
       "      <td>CASSIRSGNTEAF</td>\n",
       "      <td>TRBV19</td>\n",
       "      <td>TRBJ1-1</td>\n",
       "      <td>CSPVGDGGSQGNLIF</td>\n",
       "      <td>70/9998:GILGFVFTL</td>\n",
       "      <td>1.0</td>\n",
       "    </tr>\n",
       "    <tr>\n",
       "      <th>2</th>\n",
       "      <td>1</td>\n",
       "      <td>SIRS</td>\n",
       "      <td>0.0</td>\n",
       "      <td>156</td>\n",
       "      <td>46</td>\n",
       "      <td>1.500000e-11</td>\n",
       "      <td>1.0</td>\n",
       "      <td>0.001</td>\n",
       "      <td>1.0</td>\n",
       "      <td>0.001</td>\n",
       "      <td>0.000015</td>\n",
       "      <td>motif-SIRS</td>\n",
       "      <td>CASSIrssNEQFF</td>\n",
       "      <td>CASSIRSSNEQFF</td>\n",
       "      <td>TRBV19</td>\n",
       "      <td>TRBJ2-1</td>\n",
       "      <td>CVVNYGGGSQGNLIF</td>\n",
       "      <td>37/7357:GILGFVFTL</td>\n",
       "      <td>1.0</td>\n",
       "    </tr>\n",
       "    <tr>\n",
       "      <th>3</th>\n",
       "      <td>1</td>\n",
       "      <td>SIRS</td>\n",
       "      <td>0.0</td>\n",
       "      <td>156</td>\n",
       "      <td>46</td>\n",
       "      <td>1.500000e-11</td>\n",
       "      <td>1.0</td>\n",
       "      <td>0.001</td>\n",
       "      <td>1.0</td>\n",
       "      <td>0.001</td>\n",
       "      <td>0.000015</td>\n",
       "      <td>motif-SIRS</td>\n",
       "      <td>CASSIrssETQYF</td>\n",
       "      <td>CASSIRSSETQYF</td>\n",
       "      <td>TRBV19</td>\n",
       "      <td>TRBJ2-5</td>\n",
       "      <td>CAVTRDDKIIF</td>\n",
       "      <td>05/2555:GILGFVFTL</td>\n",
       "      <td>1.0</td>\n",
       "    </tr>\n",
       "    <tr>\n",
       "      <th>4</th>\n",
       "      <td>1</td>\n",
       "      <td>SIRS</td>\n",
       "      <td>0.0</td>\n",
       "      <td>156</td>\n",
       "      <td>46</td>\n",
       "      <td>1.500000e-11</td>\n",
       "      <td>1.0</td>\n",
       "      <td>0.001</td>\n",
       "      <td>1.0</td>\n",
       "      <td>0.001</td>\n",
       "      <td>0.000015</td>\n",
       "      <td>motif-SIRS</td>\n",
       "      <td>CASSIrssETQYF</td>\n",
       "      <td>CASSIRSSETQYF</td>\n",
       "      <td>TRBV19</td>\n",
       "      <td>TRBJ2-5</td>\n",
       "      <td>CAAKSNTGKLIF</td>\n",
       "      <td>03/9283:GILGFVFTL</td>\n",
       "      <td>1.0</td>\n",
       "    </tr>\n",
       "  </tbody>\n",
       "</table>\n",
       "</div>"
      ],
      "text/plain": [
       "   index pattern  Fisher_score  number_subject   number_unique_cdr3  \\\n",
       "0      1    SIRS           0.0             156                   46   \n",
       "1      1    SIRS           0.0             156                   46   \n",
       "2      1    SIRS           0.0             156                   46   \n",
       "3      1    SIRS           0.0             156                   46   \n",
       "4      1    SIRS           0.0             156                   46   \n",
       "\n",
       "    final_score  hla_score  vb_score  expansion_score  length_score  \\\n",
       "0  1.500000e-11        1.0     0.001              1.0         0.001   \n",
       "1  1.500000e-11        1.0     0.001              1.0         0.001   \n",
       "2  1.500000e-11        1.0     0.001              1.0         0.001   \n",
       "3  1.500000e-11        1.0     0.001              1.0         0.001   \n",
       "4  1.500000e-11        1.0     0.001              1.0         0.001   \n",
       "\n",
       "   cluster_size_score        type         ulTcRb           TcRb       V  \\\n",
       "0            0.000015  motif-SIRS  CASSIrsldIQYF  CASSIRSLDIQYF  TRBV19   \n",
       "1            0.000015  motif-SIRS  CASSIrSGNTEAF  CASSIRSGNTEAF  TRBV19   \n",
       "2            0.000015  motif-SIRS  CASSIrssNEQFF  CASSIRSSNEQFF  TRBV19   \n",
       "3            0.000015  motif-SIRS  CASSIrssETQYF  CASSIRSSETQYF  TRBV19   \n",
       "4            0.000015  motif-SIRS  CASSIrssETQYF  CASSIRSSETQYF  TRBV19   \n",
       "\n",
       "         J             TcRa             Sample  Freq  \n",
       "0  TRBJ2-4   CAGTYGGSQGNLIF  75/5473:GILGFVFTL   1.0  \n",
       "1  TRBJ1-1  CSPVGDGGSQGNLIF  70/9998:GILGFVFTL   1.0  \n",
       "2  TRBJ2-1  CVVNYGGGSQGNLIF  37/7357:GILGFVFTL   1.0  \n",
       "3  TRBJ2-5      CAVTRDDKIIF  05/2555:GILGFVFTL   1.0  \n",
       "4  TRBJ2-5     CAAKSNTGKLIF  03/9283:GILGFVFTL   1.0  "
      ]
     },
     "execution_count": 12,
     "metadata": {},
     "output_type": "execute_result"
    }
   ],
   "source": [
    "# Reload annotations:\n",
    "\n",
    "gliph_all_annot = pd.read_csv('../data/GLIPH/save_to_gliph/kcv_to_gliph_annotated.csv')\n",
    "gliph_pep_annot = pd.read_csv('../data/GLIPH/save_to_gliph/kcv_to_GLIPH_BINDERS_annotated.csv')\n",
    "gliph_results_all = pd.read_csv('../data/GLIPH/gliph_results/P10622_BCNXUMRLJM.csv')\n",
    "gliph_results_all.drop(columns = [x for x in gliph_results_all.columns if 'HLA' in x], inplace=True)\n",
    "gliph_results_all.head()"
   ]
  },
  {
   "cell_type": "code",
   "execution_count": 13,
   "id": "899b2dfa-27f9-4755-8cae-ee4303dde5dc",
   "metadata": {},
   "outputs": [
    {
     "name": "stdout",
     "output_type": "stream",
     "text": [
      "\u001b[34mDEBUG_INIT_KFold_0_230926_1652_15lYT\u001b[m\u001b[m/\n",
      "\u001b[34mDEBUG_INIT_noV_noJ_KFold_0_230927_1553_None\u001b[m\u001b[m/\n",
      "\u001b[34mFirstTest_230926_1923_bb76k\u001b[m\u001b[m/\n",
      "\u001b[34mOnlyPositivesFullCDR3b_LowerDim_32_KFold_0_230927_1603_Yjqdd\u001b[m\u001b[m/\n",
      "\u001b[34mOnlyPositivesFullCDR3b_LowerDim_32_KFold_1_230927_1603_Yjqdd\u001b[m\u001b[m/\n",
      "\u001b[34mOnlyPositivesFullCDR3b_LowerDim_32_KFold_2_230927_1603_Yjqdd\u001b[m\u001b[m/\n",
      "\u001b[34mOnlyPositivesFullCDR3b_LowerDim_32_KFold_3_230927_1603_Yjqdd\u001b[m\u001b[m/\n",
      "\u001b[34mOnlyPositivesFullCDR3b_LowerDim_32_KFold_4_230927_1603_Yjqdd\u001b[m\u001b[m/\n",
      "\u001b[34mOnlyPositivesFullCDR3b_LowerDim_64_KFold_0_230927_1600_GqV0i\u001b[m\u001b[m/\n",
      "\u001b[34mOnlyPositivesFullCDR3b_LowerDim_64_KFold_1_230927_1600_GqV0i\u001b[m\u001b[m/\n",
      "\u001b[34mOnlyPositivesFullCDR3b_LowerDim_64_KFold_2_230927_1600_GqV0i\u001b[m\u001b[m/\n",
      "\u001b[34mOnlyPositivesFullCDR3b_LowerDim_64_KFold_3_230927_1600_GqV0i\u001b[m\u001b[m/\n",
      "\u001b[34mOnlyPositivesFullCDR3b_LowerDim_64_KFold_4_230927_1600_GqV0i\u001b[m\u001b[m/\n",
      "\u001b[34mRedoTestKFOLD_readjustedWeights_rCSqS\u001b[m\u001b[m/\n",
      "\u001b[34mnotebooks\u001b[m\u001b[m/\n"
     ]
    }
   ],
   "source": [
    "%ls ../output/"
   ]
  },
  {
   "cell_type": "markdown",
   "id": "1e835fb6-924c-4c67-8450-3b3048be01ec",
   "metadata": {},
   "source": [
    "## Results of training with CDR3b only"
   ]
  },
  {
   "cell_type": "code",
   "execution_count": 40,
   "id": "5f0aaa71-dc02-44a4-92f5-ef7eaf10493c",
   "metadata": {},
   "outputs": [
    {
     "name": "stdout",
     "output_type": "stream",
     "text": [
      "\u001b[34m230928_NotebookTests\u001b[m\u001b[m/\n",
      "\u001b[34mDEBUG_INIT_KFold_0_230926_1652_15lYT\u001b[m\u001b[m/\n",
      "\u001b[34mDEBUG_INIT_noV_noJ_KFold_0_230927_1553_None\u001b[m\u001b[m/\n",
      "\u001b[34mFirstTest_230926_1923_bb76k\u001b[m\u001b[m/\n",
      "\u001b[34mOnlyPosCDR3b_latent_64_wd_1e-3\u001b[m\u001b[m/\n",
      "\u001b[34mOnlyPosCDR3b_latent_64_wd_1e-4\u001b[m\u001b[m/\n",
      "\u001b[34mRedoTestKFOLD_readjustedWeights_rCSqS\u001b[m\u001b[m/\n",
      "\u001b[34mnotebooks\u001b[m\u001b[m/\n"
     ]
    }
   ],
   "source": [
    "%ls ../output"
   ]
  },
  {
   "cell_type": "code",
   "execution_count": 61,
   "id": "476d5be4-9ae2-4213-9b26-1e0500c765c7",
   "metadata": {},
   "outputs": [],
   "source": [
    "df['TRB_CDR3'].to_csv('../data/filtered/230928_NetTCR_CDR3B_pep.txt', index=False,header=False)"
   ]
  },
  {
   "cell_type": "code",
   "execution_count": 135,
   "id": "215b427a-9586-4e21-a937-040ef5b52fe6",
   "metadata": {},
   "outputs": [
    {
     "data": {
      "text/plain": [
       "'../output/OnlyPosB3_latent_32_wd_1e-5_230928_1224_SY897/'"
      ]
     },
     "execution_count": 135,
     "metadata": {},
     "output_type": "execute_result"
    }
   ],
   "source": [
    "maindir"
   ]
  },
  {
   "cell_type": "code",
   "execution_count": null,
   "id": "845fc749-c701-40d6-aab2-e234be09422f",
   "metadata": {},
   "outputs": [],
   "source": [
    "maindirs = ['OnlyPosB3_latent_32_wd_1e-4_230928_1224_bYtbj', 'OnlyPosB3_latent_32_wd_1e-5_230928_1224_SY897', 'OnlyPosB3_latent_64_wd_1e-5_230928_1224_2Fxn5', 'OnlyPosCDR3b_latent_64_wd_1e-3_230928_1052_ouVRO', 'OnlyPosCDR3b_latent_64_wd_1e-4_230928_1052_QXmAq']\n",
    "maindirs = ['../output/'+x+'/' for x in maindirs]\n",
    "for maindir in maindirs:\n",
    "    # reload all models now : \n",
    "    fdirs = sorted([(f'{maindir}{x}'+'/').replace('//','/') for x in os.listdir(maindir) if x !='.DS_Store' and os.path.isdir(f'{maindir}/{x}/')])\n",
    "    max_len, encoding, pad_scale = 25, 'BL50LO', -20\n",
    "    use_v, use_j, v_dim, j_dim = False, False, 0, 0 \n",
    "    models = {}\n",
    "    for i,fd in enumerate(fdirs):\n",
    "        try:\n",
    "            fn = f\"{fd}{next(filter(lambda x:'checkpoint' in x, os.listdir(fd)))}\"\n",
    "        except:\n",
    "            continue\n",
    "        latent_dim = 32 if '32' in fn else 64 if '64' in fn else 128\n",
    "        hidden_dim = 2*latent_dim\n",
    "        print(fn)\n",
    "        models[i] = load_checkpoint(FullFVAE(max_len, encoding, pad_scale, 20, use_v, use_j, v_dim, j_dim, nn.SELU(), hidden_dim, latent_dim), fn)\n",
    "        \n",
    "    df = kcv_positives.reset_index(drop=True)\n",
    "    dataset = CDR3BetaDataset(df, max_len, encoding, pad_scale, cdr3b_col='B3', use_v=False, use_j=False, v_dim=0, j_dim=0)\n",
    "    loader = dataset.get_dataloader(batch_size=1024, sampler=SequentialSampler)\n",
    "    \n",
    "    for fold, model in tqdm(models.items()):\n",
    "        train_idx = df.query('partition!=@fold').index\n",
    "        valid_idx = df.query('partition==@fold').index\n",
    "        \n",
    "        preds = predict_model(model, dataset, loader)\n",
    "        train_preds = preds.loc[train_idx]\n",
    "        valid_preds = preds.loc[valid_idx]\n",
    "        z_train = train_preds[[f'z_{i}' for i in range(latent_dim)]].values\n",
    "        labels_train = train_preds['peptide'].values\n",
    "        z_valid = valid_preds[[f'z_{i}' for i in range(latent_dim)]].values\n",
    "        labels_valid = valid_preds['peptide'].values\n",
    "        km = KMeans(n_clusters=26, random_state=13)\n",
    "        print('KM')\n",
    "        train_clusters = km.fit_predict(z_train)\n",
    "        valid_clusters = km.predict(z_valid)\n",
    "        print('TSNE')\n",
    "        tsne = TSNE(n_components=2, metric='l2', perplexity=25)\n",
    "        # tsne = UMAP(n_components=2, learning_rate=0.1, metric='cosine', output_metric='cosine')\n",
    "        \n",
    "        latent_tsne = tsne.fit_transform(np.concatenate([z_train, z_valid], axis=0))\n",
    "        tsne_train, tsne_valid = latent_tsne[:len(z_train)], latent_tsne[len(z_train):]\n",
    "        \n",
    "        print('Making DFs')\n",
    "        train_plot_df = pd.DataFrame(data=np.stack([tsne_train[:,0], tsne_train[:, 1], train_clusters, labels_train]).T, columns = ['TSNE_1', 'TSNE_2', 'KMeans_Cluster', 'GroundTruth'])#.query('GroundTruth in [\"immrep_negs\" ,\"ELAGIGILTV\", \"RAKFKQLL\", \"GILGFVFTL\", \"GLCTLVAML\", \"YLQPRTFLL\", \"NLVPMVATV\"]')\n",
    "        train_plot_df['KMeans_Cluster'] = train_plot_df['KMeans_Cluster'].astype(str)\n",
    "        valid_plot_df = pd.DataFrame(data=np.stack([tsne_valid[:,0], tsne_valid[:, 1], valid_clusters, labels_valid]).T, columns = ['TSNE_1', 'TSNE_2', 'KMeans_Cluster', 'GroundTruth'])#.query('GroundTruth in [\"immrep_negs\" ,\"ELAGIGILTV\", \"RAKFKQLL\", \"GILGFVFTL\", \"GLCTLVAML\", \"YLQPRTFLL\", \"NLVPMVATV\"]')\n",
    "        valid_plot_df['KMeans_Cluster'] = valid_plot_df['KMeans_Cluster'].astype(str)\n",
    "        \n",
    "        f,a = plt.subplots(2,2, figsize=(25,25))\n",
    "        sns.set_palette('gnuplot2_r', n_colors=7)\n",
    "        f.suptitle(f'Fold {fold} ; t-SNE Visualization with K-Means Clusters on Latent (d=64) ; Only TRB_CDR3')\n",
    "        a = a.ravel()\n",
    "        pep_order = sorted(df.peptide.unique())\n",
    "        sns.scatterplot(data=train_plot_df, #.query('GroundTruth!=\"immrep_negs\"'),\n",
    "                        x='TSNE_1', y='TSNE_2',  s=13, hue='KMeans_Cluster', hue_order=sorted(np.unique(train_clusters).astype(str)), ax = a[0])\n",
    "        sns.scatterplot(data=train_plot_df, #.query('GroundTruth!=\"immrep_negs\"'), \n",
    "                        x='TSNE_1', y='TSNE_2',  s=13, hue='GroundTruth', hue_order=pep_order, ax = a[1])\n",
    "        sns.scatterplot(data=valid_plot_df, #.query('GroundTruth!=\"immrep_negs\"'), \n",
    "                        x='TSNE_1', y='TSNE_2',  s=13, hue='KMeans_Cluster', hue_order=sorted(np.unique(train_clusters).astype(str)), ax = a[2])\n",
    "        sns.scatterplot(data=valid_plot_df, #.query('GroundTruth!=\"immrep_negs\"'), \n",
    "                        x='TSNE_1', y='TSNE_2',  s=13, hue='GroundTruth', hue_order=pep_order, ax = a[3])\n",
    "        a[0].set_title('Train : Predicted clusters')\n",
    "        a[1].set_title('Train : Ground Truth')\n",
    "        a[2].set_title('Valid : Predicted clusters')\n",
    "        a[3].set_title('Valid : Ground Truth')\n",
    "        f.tight_layout()\n",
    "        f.savefig(f'{maindir}/KFold_{fold}_latent_tsne_KMeans_only_TRB_CDR3', bbox_inches='tight', dpi=200)\n",
    "    \n",
    "    top10_pep = kcv_positives.groupby('peptide').agg(count=('B3','count')).sort_values('count',ascending=False).head(10).index\n",
    "    df = kcv_positives.query('peptide in @top10_pep').reset_index(drop=True)\n",
    "    dataset = CDR3BetaDataset(df, max_len, encoding, pad_scale, cdr3b_col='B3', use_v=False, use_j=False, v_dim=0, j_dim=0)\n",
    "    loader = dataset.get_dataloader(batch_size=1024, sampler=SequentialSampler)\n",
    "    \n",
    "    for fold, model in tqdm(models.items()):\n",
    "        train_idx = df.query('partition!=@fold').index\n",
    "        valid_idx = df.query('partition==@fold').index\n",
    "        \n",
    "        preds = predict_model(model, dataset, loader)\n",
    "        train_preds = preds.loc[train_idx]\n",
    "        valid_preds = preds.loc[valid_idx]\n",
    "        z_train = train_preds[[f'z_{i}' for i in range(latent_dim)]].values\n",
    "        labels_train = train_preds['peptide'].values\n",
    "        z_valid = valid_preds[[f'z_{i}' for i in range(latent_dim)]].values\n",
    "        labels_valid = valid_preds['peptide'].values\n",
    "        km = KMeans(n_clusters=10, random_state=13)\n",
    "        print('KM')\n",
    "        train_clusters = km.fit_predict(z_train)\n",
    "        valid_clusters = km.predict(z_valid)\n",
    "        print('TSNE')\n",
    "        tsne = TSNE(n_components=2, metric='l2', perplexity=25)\n",
    "        # tsne = UMAP(n_components=2, learning_rate=0.1, metric='cosine', output_metric='cosine')\n",
    "        \n",
    "        latent_tsne = tsne.fit_transform(np.concatenate([z_train, z_valid], axis=0))\n",
    "        tsne_train, tsne_valid = latent_tsne[:len(z_train)], latent_tsne[len(z_train):]\n",
    "        \n",
    "        print('Making DFs')\n",
    "        train_plot_df = pd.DataFrame(data=np.stack([tsne_train[:,0], tsne_train[:, 1], train_clusters, labels_train]).T, columns = ['TSNE_1', 'TSNE_2', 'KMeans_Cluster', 'GroundTruth'])#.query('GroundTruth in [\"immrep_negs\" ,\"ELAGIGILTV\", \"RAKFKQLL\", \"GILGFVFTL\", \"GLCTLVAML\", \"YLQPRTFLL\", \"NLVPMVATV\"]')\n",
    "        train_plot_df['KMeans_Cluster'] = train_plot_df['KMeans_Cluster'].astype(str)\n",
    "        valid_plot_df = pd.DataFrame(data=np.stack([tsne_valid[:,0], tsne_valid[:, 1], valid_clusters, labels_valid]).T, columns = ['TSNE_1', 'TSNE_2', 'KMeans_Cluster', 'GroundTruth'])#.query('GroundTruth in [\"immrep_negs\" ,\"ELAGIGILTV\", \"RAKFKQLL\", \"GILGFVFTL\", \"GLCTLVAML\", \"YLQPRTFLL\", \"NLVPMVATV\"]')\n",
    "        valid_plot_df['KMeans_Cluster'] = valid_plot_df['KMeans_Cluster'].astype(str)\n",
    "        \n",
    "        f,a = plt.subplots(2,2, figsize=(25,25))\n",
    "        sns.set_palette('gnuplot2_r', n_colors=7)\n",
    "        f.suptitle(f'Fold {fold} ; t-SNE Visualization with K-Means Clusters on Latent (d=64) ; Only TRB_CDR3')\n",
    "        a = a.ravel()\n",
    "        pep_order = sorted(df.peptide.unique())\n",
    "        sns.scatterplot(data=train_plot_df, #.query('GroundTruth!=\"immrep_negs\"'),\n",
    "                        x='TSNE_1', y='TSNE_2',  s=13, hue='KMeans_Cluster', hue_order=sorted(np.unique(train_clusters).astype(str)), ax = a[0])\n",
    "        sns.scatterplot(data=train_plot_df, #.query('GroundTruth!=\"immrep_negs\"'), \n",
    "                        x='TSNE_1', y='TSNE_2',  s=13, hue='GroundTruth', hue_order=pep_order, ax = a[1])\n",
    "        sns.scatterplot(data=valid_plot_df, #.query('GroundTruth!=\"immrep_negs\"'), \n",
    "                        x='TSNE_1', y='TSNE_2',  s=13, hue='KMeans_Cluster', hue_order=sorted(np.unique(train_clusters).astype(str)), ax = a[2])\n",
    "        sns.scatterplot(data=valid_plot_df, #.query('GroundTruth!=\"immrep_negs\"'), \n",
    "                        x='TSNE_1', y='TSNE_2',  s=13, hue='GroundTruth', hue_order=pep_order, ax = a[3])\n",
    "        a[0].set_title('Train : Predicted clusters')\n",
    "        a[1].set_title('Train : Ground Truth')\n",
    "        a[2].set_title('Valid : Predicted clusters')\n",
    "        a[3].set_title('Valid : Ground Truth')\n",
    "        f.tight_layout()\n",
    "        f.savefig(f'{maindir}/TOP10PEP_KFold_{fold}_latent_tsne_KMeans_only_TRB_CDR3', bbox_inches='tight', dpi=200)"
   ]
  },
  {
   "cell_type": "code",
   "execution_count": null,
   "id": "6f0e3d7a-119c-4e6b-8b5a-783b5b57c162",
   "metadata": {},
   "outputs": [],
   "source": [
    "maindirs = ['OnlyPositivesFullCDR3b_LowerDim_32_WD_1e-4_B6jIc', \n",
    "            'OnlyPositivesFullCDR3b_LowerDim_32_WD_1e-5_j0xLE', \n",
    "            'OnlyPositivesFullCDR3b_LowerDim_32_WD_1e-5_sr9Jl', \n",
    "            'OnlyPositivesFullCDR3b_LowerDim_64_WD_1e-3_ClXaM', \n",
    "            'OnlyPositivesFullCDR3b_LowerDim_64_WD_1e-4_A0dGE', \n",
    "            'OnlyPositivesFullCDR3b_LowerDim_64_WD_1e-5_3jETu']\n",
    "    \n",
    "maindirs = ['../output/'+x+'/' for x in maindirs]\n",
    "all_results = {}\n",
    "for maindir in maindirs:\n",
    "    # reload all models now : \n",
    "    fdirs = sorted([(f'{maindir}{x}'+'/').replace('//','/') for x in os.listdir(maindir) if x !='.DS_Store' and os.path.isdir(f'{maindir}/{x}/')])\n",
    "    \n",
    "    max_len, encoding, pad_scale = 25, 'BL50LO', -20\n",
    "    use_v, use_j, v_dim, j_dim = False, False, 0, 0 \n",
    "    models = {}\n",
    "    all_preds = []\n",
    "    for i,fd in enumerate(fdirs):\n",
    "        try:\n",
    "            fn = f\"{fd}{next(filter(lambda x:'checkpoint' in x, os.listdir(fd)))}\"\n",
    "        except:\n",
    "            continue\n",
    "        latent_dim = 32 if '32' in fn else 64 if '64' in fn else 128\n",
    "        hidden_dim = 2*latent_dim\n",
    "        print(fn)\n",
    "        models[i] = load_checkpoint(FullFVAE(max_len, encoding, pad_scale, 20, use_v, use_j, v_dim, j_dim, nn.SELU(), hidden_dim, latent_dim), fn)\n",
    "        preds_fn = fn = f\"{fd}{next(filter(lambda x:'valid_predictions' in x, os.listdir(fd)))}\"\n",
    "        \n",
    "    df = kcv_positives.reset_index(drop=True)\n",
    "    dataset = CDR3BetaDataset(df, max_len, encoding, pad_scale, cdr3b_col='TRB_CDR3', use_v=False, use_j=False, v_dim=0, j_dim=0)\n",
    "    loader = dataset.get_dataloader(batch_size=1024, sampler=SequentialSampler)\n",
    "    \n",
    "    for fold, model in tqdm(models.items()):\n",
    "        train_idx = df.query('partition!=@fold').index\n",
    "        valid_idx = df.query('partition==@fold').index\n",
    "        \n",
    "        preds = predict_model(model, dataset, loader)\n",
    "        train_preds = preds.loc[train_idx]\n",
    "        valid_preds = preds.loc[valid_idx]\n",
    "        z_train = train_preds[[f'z_{i}' for i in range(latent_dim)]].values\n",
    "        labels_train = train_preds['peptide'].values\n",
    "        z_valid = valid_preds[[f'z_{i}' for i in range(latent_dim)]].values\n",
    "        labels_valid = valid_preds['peptide'].values\n",
    "        km = KMeans(n_clusters=26, random_state=13)\n",
    "        print('KM')\n",
    "        train_clusters = km.fit_predict(z_train)\n",
    "        valid_clusters = km.predict(z_valid)\n",
    "        print('TSNE')\n",
    "        tsne = TSNE(n_components=2, metric='l2', perplexity=25)\n",
    "        # tsne = UMAP(n_components=2, learning_rate=0.1, metric='cosine', output_metric='cosine')\n",
    "        \n",
    "        latent_tsne = tsne.fit_transform(np.concatenate([z_train, z_valid], axis=0))\n",
    "        tsne_train, tsne_valid = latent_tsne[:len(z_train)], latent_tsne[len(z_train):]\n",
    "        \n",
    "        print('Making DFs')\n",
    "        train_plot_df = pd.DataFrame(data=np.stack([tsne_train[:,0], tsne_train[:, 1], train_clusters, labels_train]).T, columns = ['TSNE_1', 'TSNE_2', 'KMeans_Cluster', 'GroundTruth'])#.query('GroundTruth in [\"immrep_negs\" ,\"ELAGIGILTV\", \"RAKFKQLL\", \"GILGFVFTL\", \"GLCTLVAML\", \"YLQPRTFLL\", \"NLVPMVATV\"]')\n",
    "        train_plot_df['KMeans_Cluster'] = train_plot_df['KMeans_Cluster'].astype(str)\n",
    "        valid_plot_df = pd.DataFrame(data=np.stack([tsne_valid[:,0], tsne_valid[:, 1], valid_clusters, labels_valid]).T, columns = ['TSNE_1', 'TSNE_2', 'KMeans_Cluster', 'GroundTruth'])#.query('GroundTruth in [\"immrep_negs\" ,\"ELAGIGILTV\", \"RAKFKQLL\", \"GILGFVFTL\", \"GLCTLVAML\", \"YLQPRTFLL\", \"NLVPMVATV\"]')\n",
    "        valid_plot_df['KMeans_Cluster'] = valid_plot_df['KMeans_Cluster'].astype(str)\n",
    "        \n",
    "        f,a = plt.subplots(2,2, figsize=(25,25))\n",
    "        sns.set_palette('gnuplot2_r', n_colors=7)\n",
    "        f.suptitle(f'Fold {fold} ; t-SNE Visualization with K-Means Clusters on Latent (d=64) ; Only TRB_CDR3')\n",
    "        a = a.ravel()\n",
    "        pep_order = sorted(df.peptide.unique())\n",
    "        sns.scatterplot(data=train_plot_df, #.query('GroundTruth!=\"immrep_negs\"'),\n",
    "                        x='TSNE_1', y='TSNE_2',  s=13, hue='KMeans_Cluster', hue_order=sorted(np.unique(train_clusters).astype(str)), ax = a[0])\n",
    "        sns.scatterplot(data=train_plot_df, #.query('GroundTruth!=\"immrep_negs\"'), \n",
    "                        x='TSNE_1', y='TSNE_2',  s=13, hue='GroundTruth', hue_order=pep_order, ax = a[1])\n",
    "        sns.scatterplot(data=valid_plot_df, #.query('GroundTruth!=\"immrep_negs\"'), \n",
    "                        x='TSNE_1', y='TSNE_2',  s=13, hue='KMeans_Cluster', hue_order=sorted(np.unique(train_clusters).astype(str)), ax = a[2])\n",
    "        sns.scatterplot(data=valid_plot_df, #.query('GroundTruth!=\"immrep_negs\"'), \n",
    "                        x='TSNE_1', y='TSNE_2',  s=13, hue='GroundTruth', hue_order=pep_order, ax = a[3])\n",
    "        a[0].set_title('Train : Predicted clusters')\n",
    "        a[1].set_title('Train : Ground Truth')\n",
    "        a[2].set_title('Valid : Predicted clusters')\n",
    "        a[3].set_title('Valid : Ground Truth')\n",
    "        f.tight_layout()\n",
    "        f.savefig(f'{maindir}/KFold_{fold}_latent_tsne_KMeans_only_TRB_CDR3', bbox_inches='tight', dpi=200)\n",
    "    \n",
    "    top10_pep = kcv_positives.groupby('peptide').agg(count=('B3','count')).sort_values('count',ascending=False).head(10).index\n",
    "    df = kcv_positives.query('peptide in @top10_pep').reset_index(drop=True)\n",
    "    dataset = CDR3BetaDataset(df, max_len, encoding, pad_scale, cdr3b_col='B3', use_v=False, use_j=False, v_dim=0, j_dim=0)\n",
    "    loader = dataset.get_dataloader(batch_size=1024, sampler=SequentialSampler)\n",
    "    \n",
    "    for fold, model in tqdm(models.items()):\n",
    "        train_idx = df.query('partition!=@fold').index\n",
    "        valid_idx = df.query('partition==@fold').index\n",
    "        \n",
    "        preds = predict_model(model, dataset, loader)\n",
    "        train_preds = preds.loc[train_idx]\n",
    "        valid_preds = preds.loc[valid_idx]\n",
    "        z_train = train_preds[[f'z_{i}' for i in range(latent_dim)]].values\n",
    "        labels_train = train_preds['peptide'].values\n",
    "        z_valid = valid_preds[[f'z_{i}' for i in range(latent_dim)]].values\n",
    "        labels_valid = valid_preds['peptide'].values\n",
    "        km = KMeans(n_clusters=10, random_state=13)\n",
    "        print('KM')\n",
    "        train_clusters = km.fit_predict(z_train)\n",
    "        valid_clusters = km.predict(z_valid)\n",
    "        print('TSNE')\n",
    "        tsne = TSNE(n_components=2, metric='l2', perplexity=25)\n",
    "        # tsne = UMAP(n_components=2, learning_rate=0.1, metric='cosine', output_metric='cosine')\n",
    "        \n",
    "        latent_tsne = tsne.fit_transform(np.concatenate([z_train, z_valid], axis=0))\n",
    "        tsne_train, tsne_valid = latent_tsne[:len(z_train)], latent_tsne[len(z_train):]\n",
    "        \n",
    "        print('Making DFs')\n",
    "        train_plot_df = pd.DataFrame(data=np.stack([tsne_train[:,0], tsne_train[:, 1], train_clusters, labels_train]).T, columns = ['TSNE_1', 'TSNE_2', 'KMeans_Cluster', 'GroundTruth'])#.query('GroundTruth in [\"immrep_negs\" ,\"ELAGIGILTV\", \"RAKFKQLL\", \"GILGFVFTL\", \"GLCTLVAML\", \"YLQPRTFLL\", \"NLVPMVATV\"]')\n",
    "        train_plot_df['KMeans_Cluster'] = train_plot_df['KMeans_Cluster'].astype(str)\n",
    "        valid_plot_df = pd.DataFrame(data=np.stack([tsne_valid[:,0], tsne_valid[:, 1], valid_clusters, labels_valid]).T, columns = ['TSNE_1', 'TSNE_2', 'KMeans_Cluster', 'GroundTruth'])#.query('GroundTruth in [\"immrep_negs\" ,\"ELAGIGILTV\", \"RAKFKQLL\", \"GILGFVFTL\", \"GLCTLVAML\", \"YLQPRTFLL\", \"NLVPMVATV\"]')\n",
    "        valid_plot_df['KMeans_Cluster'] = valid_plot_df['KMeans_Cluster'].astype(str)\n",
    "        \n",
    "        f,a = plt.subplots(2,2, figsize=(25,25))\n",
    "        sns.set_palette('gnuplot2_r', n_colors=7)\n",
    "        f.suptitle(f'Fold {fold} ; t-SNE Visualization with K-Means Clusters on Latent (d=64) ; Only TRB_CDR3')\n",
    "        a = a.ravel()\n",
    "        pep_order = sorted(df.peptide.unique())\n",
    "        sns.scatterplot(data=train_plot_df, #.query('GroundTruth!=\"immrep_negs\"'),\n",
    "                        x='TSNE_1', y='TSNE_2',  s=13, hue='KMeans_Cluster', hue_order=sorted(np.unique(train_clusters).astype(str)), ax = a[0])\n",
    "        sns.scatterplot(data=train_plot_df, #.query('GroundTruth!=\"immrep_negs\"'), \n",
    "                        x='TSNE_1', y='TSNE_2',  s=13, hue='GroundTruth', hue_order=pep_order, ax = a[1])\n",
    "        sns.scatterplot(data=valid_plot_df, #.query('GroundTruth!=\"immrep_negs\"'), \n",
    "                        x='TSNE_1', y='TSNE_2',  s=13, hue='KMeans_Cluster', hue_order=sorted(np.unique(train_clusters).astype(str)), ax = a[2])\n",
    "        sns.scatterplot(data=valid_plot_df, #.query('GroundTruth!=\"immrep_negs\"'), \n",
    "                        x='TSNE_1', y='TSNE_2',  s=13, hue='GroundTruth', hue_order=pep_order, ax = a[3])\n",
    "        a[0].set_title('Train : Predicted clusters')\n",
    "        a[1].set_title('Train : Ground Truth')\n",
    "        a[2].set_title('Valid : Predicted clusters')\n",
    "        a[3].set_title('Valid : Ground Truth')\n",
    "        f.tight_layout()\n",
    "        f.savefig(f'{maindir}/TOP10PEP_KFold_{fold}_latent_tsne_KMeans_only_TRB_CDR3', bbox_inches='tight', dpi=200)"
   ]
  },
  {
   "cell_type": "markdown",
   "id": "8b836de7-5ce0-488f-ba0f-5a9c31a5e6d2",
   "metadata": {
    "jp-MarkdownHeadingCollapsed": true
   },
   "source": [
    "### OLD WITH LARGE COMP AND ERRORS"
   ]
  },
  {
   "cell_type": "raw",
   "id": "53779edc-9d8b-4319-b48f-bc349fdd7e8a",
   "metadata": {},
   "source": [
    "# Some tests before doing the loops\n",
    "from sklearn.manifold import TSNE\n",
    "from sklearn.decomposition import PCA\n",
    "from umap import UMAP\n",
    "model = models[0]\n",
    "preds = predict_model(model, top11_dataset, top11_loader)\n",
    "train_preds = preds.loc[train_idx]\n",
    "valid_preds = preds.loc[valid_idx]\n",
    "z_train = train_preds[[f'z_{i}' for i in range(latent_dim)]].values\n",
    "labels_train = train_preds['peptide'].values\n",
    "z_valid = valid_preds[[f'z_{i}' for i in range(latent_dim)]].values\n",
    "labels_valid = valid_preds['peptide'].values"
   ]
  },
  {
   "cell_type": "raw",
   "id": "bedad2e8-4e5c-412d-83f6-963010294443",
   "metadata": {},
   "source": [
    "from sklearn.cluster import KMeans, HDBSCAN, DBSCAN\n",
    "pca=PCA(50)\n",
    "print('PCA')\n",
    "pca_train = pca.fit_transform(z_train)\n",
    "pca_valid = pca.transform(z_valid)\n",
    "km = KMeans(n_clusters=11, random_state=13)\n",
    "print('KM')\n",
    "train_clusters = km.fit_predict(pca_train )\n",
    "valid_clusters = km.predict(pca_valid)\n",
    "print('TSNE')\n",
    "tsne = TSNE(n_components=2, metric='cosine', perplexity=50)\n",
    "# tsne = UMAP(n_components=2, learning_rate=0.1, metric='cosine', output_metric='cosine')\n",
    "\n",
    "latent_tsne = tsne.fit_transform(np.concatenate([pca_train, pca_valid], axis=0))\n",
    "tsne_train, tsne_valid = latent_tsne[:len(pca_train)], latent_tsne[len(pca_train):]\n",
    "\n",
    "print('Making DFs')\n",
    "train_plot_df_pca = pd.DataFrame(data=np.stack([tsne_train[:,0], tsne_train[:, 1], train_clusters, labels_train]).T, columns = ['TSNE_1', 'TSNE_2', 'KMeans_Cluster', 'GroundTruth'])#.query('GroundTruth in [\"immrep_negs\" ,\"ELAGIGILTV\", \"RAKFKQLL\", \"GILGFVFTL\", \"GLCTLVAML\", \"YLQPRTFLL\", \"NLVPMVATV\"]')\n",
    "train_plot_df_pca['KMeans_Cluster'] = train_plot_df_pca['KMeans_Cluster'].astype(str)\n",
    "valid_plot_df_pca = pd.DataFrame(data=np.stack([tsne_valid[:,0], tsne_valid[:, 1], valid_clusters, labels_valid]).T, columns = ['TSNE_1', 'TSNE_2', 'KMeans_Cluster', 'GroundTruth'])#.query('GroundTruth in [\"immrep_negs\" ,\"ELAGIGILTV\", \"RAKFKQLL\", \"GILGFVFTL\", \"GLCTLVAML\", \"YLQPRTFLL\", \"NLVPMVATV\"]')\n",
    "valid_plot_df_pca['KMeans_Cluster'] = valid_plot_df_pca['KMeans_Cluster'].astype(str)"
   ]
  },
  {
   "cell_type": "raw",
   "id": "a2d3684f-e0d2-46a1-bf7d-93b77269b079",
   "metadata": {},
   "source": [
    "f,a = plt.subplots(2,2, figsize=(18,18))\n",
    "sns.set_palette('gnuplot2_r', n_colors=7)\n",
    "f.suptitle('TSNE Visualization with K-Means Clusters on PCAd latent (128->50comp) WITH NEGS')\n",
    "a = a.ravel()\n",
    "sns.scatterplot(data=train_plot_df_pca, #.query('GroundTruth!=\"immrep_negs\"'),\n",
    "                x='TSNE_1', y='TSNE_2',  s=8.5, hue='KMeans_Cluster', hue_order=sorted(np.unique(train_clusters).astype(str)), ax = a[0])\n",
    "sns.scatterplot(data=train_plot_df_pca, #.query('GroundTruth!=\"immrep_negs\"'), \n",
    "                x='TSNE_1', y='TSNE_2',  s=8.5, hue='GroundTruth', hue_order=top11_pep, ax = a[1])\n",
    "sns.scatterplot(data=valid_plot_df_pca, #.query('GroundTruth!=\"immrep_negs\"'), \n",
    "                x='TSNE_1', y='TSNE_2',  s=8.5, hue='KMeans_Cluster', hue_order=sorted(np.unique(train_clusters).astype(str)), ax = a[2])\n",
    "sns.scatterplot(data=valid_plot_df_pca, #.query('GroundTruth!=\"immrep_negs\"'), \n",
    "                x='TSNE_1', y='TSNE_2',  s=8.5, hue='GroundTruth', hue_order=top11_pep, ax = a[3])\n",
    "a[0].set_title('Train : Predicted clusters')\n",
    "a[1].set_title('Train : Ground Truth')\n",
    "a[2].set_title('Valid : Predicted clusters')\n",
    "a[3].set_title('Valid : Ground Truth')\n",
    "f.tight_layout()\n",
    "f.savefig(f'{maindir}/KFold_0_latent_tsne_KMeans', bbox_inches='tight', dpi=200)"
   ]
  },
  {
   "cell_type": "raw",
   "id": "21cffe1b-36f4-42d7-9a5a-5969d76abc04",
   "metadata": {
    "scrolled": true
   },
   "source": [
    "f,a = plt.subplots(2,2, figsize=(18,18))\n",
    "sns.set_palette('gnuplot2_r', n_colors=7)\n",
    "f.suptitle('TSNE Visualization with K-Means Clusters on PCAd latent (128->50comp) WITH NEGS')\n",
    "a = a.ravel()\n",
    "sns.scatterplot(data=train_plot_df_pca.query('GroundTruth!=\"immrep_negs\"'),\n",
    "                x='TSNE_1', y='TSNE_2',  s=8.5, hue='KMeans_Cluster', hue_order=sorted(np.unique(train_clusters).astype(str)), ax = a[0])\n",
    "sns.scatterplot(data=train_plot_df_pca.query('GroundTruth!=\"immrep_negs\"'), \n",
    "                x='TSNE_1', y='TSNE_2',  s=8.5, hue='GroundTruth', hue_order=top11_pep, ax = a[1])\n",
    "sns.scatterplot(data=valid_plot_df_pca.query('GroundTruth!=\"immrep_negs\"'), \n",
    "                x='TSNE_1', y='TSNE_2',  s=8.5, hue='KMeans_Cluster', hue_order=sorted(np.unique(train_clusters).astype(str)), ax = a[2])\n",
    "sns.scatterplot(data=valid_plot_df_pca.query('GroundTruth!=\"immrep_negs\"'), \n",
    "                x='TSNE_1', y='TSNE_2',  s=8.5, hue='GroundTruth', hue_order=top11_pep, ax = a[3])\n",
    "a[0].set_title('Train : Predicted clusters')\n",
    "a[1].set_title('Train : Ground Truth')\n",
    "a[2].set_title('Valid : Predicted clusters')\n",
    "a[3].set_title('Valid : Ground Truth')\n",
    "f.tight_layout()\n",
    "f.savefig('../output/FirstTest_230926_1923_bb76k/kcv_pca_no_negs_KMeans', bbox_inches='tight', dpi=200)"
   ]
  },
  {
   "cell_type": "raw",
   "id": "a82604c2-fdc6-4ab7-9df8-c653d3ccef9d",
   "metadata": {
    "scrolled": true
   },
   "source": [
    "from sklearn.cluster import KMeans, HDBSCAN, DBSCAN\n",
    "# No PCA here, doing on just latent\n",
    "km = KMeans(n_clusters=11, random_state=13)\n",
    "print('KM')\n",
    "train_clusters = km.fit_predict(z_train)\n",
    "valid_clusters = km.predict(z_valid)\n",
    "print('TSNE')\n",
    "tsne = TSNE(n_components=2, metric='l2', perplexity=50)\n",
    "latent_tsne = tsne.fit_transform(np.concatenate([z_train, z_valid], axis=0))\n",
    "tsne_train, tsne_valid = latent_tsne[:len(z_train)], latent_tsne[len(z_train):]\n",
    "\n",
    "print('Making DFs')\n",
    "train_plot_df_z = pd.DataFrame(data=np.stack([tsne_train[:,0], tsne_train[:, 1], train_clusters, labels_train]).T, columns = ['TSNE_1', 'TSNE_2', 'KMeans_Cluster', 'GroundTruth'])\n",
    "train_plot_df_z['KMeans_Cluster'] = train_plot_df_z['KMeans_Cluster'].astype(str)\n",
    "valid_plot_df_z = pd.DataFrame(data=np.stack([tsne_valid[:,0], tsne_valid[:, 1], valid_clusters, labels_valid]).T, columns = ['TSNE_1', 'TSNE_2', 'KMeans_Cluster', 'GroundTruth'])\n",
    "valid_plot_df_z['KMeans_Cluster'] = valid_plot_df_z['KMeans_Cluster'].astype(str)\n",
    "\n",
    "f,a = plt.subplots(2,2, figsize=(18,18))\n",
    "sns.set_palette('gnuplot2_r', n_colors=7)\n",
    "f.suptitle('t-SNE Visualization with K-Means Clusters on true latent (128comp)')\n",
    "a = a.ravel()\n",
    "\n",
    "sns.scatterplot(data=train_plot_df_z.query('GroundTruth!=\"immrep_negs\"'), x='TSNE_1', y='TSNE_2',  s=8.5, hue='KMeans_Cluster', hue_order=sorted(np.unique(train_clusters).astype(str)), ax = a[0])\n",
    "sns.scatterplot(data=train_plot_df_z.query('GroundTruth!=\"immrep_negs\"'), x='TSNE_1', y='TSNE_2',  s=8.5, hue='GroundTruth', hue_order=top11_pep, ax = a[1])\n",
    "sns.scatterplot(data=valid_plot_df_z.query('GroundTruth!=\"immrep_negs\"'), x='TSNE_1', y='TSNE_2',  s=8.5, hue='KMeans_Cluster', hue_order=sorted(np.unique(train_clusters).astype(str)), ax = a[2])\n",
    "sns.scatterplot(data=valid_plot_df_z.query('GroundTruth!=\"immrep_negs\"'), x='TSNE_1', y='TSNE_2',  s=8.5, hue='GroundTruth', hue_order=top11_pep, ax = a[3])\n",
    "a[0].set_title('Train : Predicted clusters')\n",
    "a[1].set_title('Train : Ground Truth')\n",
    "a[2].set_title('Valid : Predicted clusters')\n",
    "a[3].set_title('Valid : Ground Truth')\n",
    "f.tight_layout()\n",
    "f.savefig('../output/FirstTest_230926_1923_bb76k/kcv_latent_no_negs_KMeans', bbox_inches='tight', dpi=200)"
   ]
  },
  {
   "cell_type": "raw",
   "id": "ffacc407-0a48-4658-8c79-a23d3ed0dc46",
   "metadata": {},
   "source": [
    "\n",
    "f,a = plt.subplots(2,2, figsize=(18,18))\n",
    "sns.set_palette('gnuplot2_r', n_colors=7)\n",
    "f.suptitle('t-SNE Visualization with K-Means Clusters on true latent (128comp)')\n",
    "a = a.ravel()\n",
    "\n",
    "sns.scatterplot(data=train_plot_df_z, x='TSNE_1', y='TSNE_2',  s=8.5, hue='KMeans_Cluster', hue_order=sorted(np.unique(train_clusters).astype(str)), ax = a[0])\n",
    "sns.scatterplot(data=train_plot_df_z, x='TSNE_1', y='TSNE_2',  s=8.5, hue='GroundTruth', hue_order=top11_pep, ax = a[1])\n",
    "sns.scatterplot(data=valid_plot_df_z, x='TSNE_1', y='TSNE_2',  s=8.5, hue='KMeans_Cluster', hue_order=sorted(np.unique(train_clusters).astype(str)), ax = a[2])\n",
    "sns.scatterplot(data=valid_plot_df_z, x='TSNE_1', y='TSNE_2',  s=8.5, hue='GroundTruth', hue_order=top11_pep, ax = a[3])\n",
    "a[0].set_title('Train : Predicted clusters')\n",
    "a[1].set_title('Train : Ground Truth')\n",
    "a[2].set_title('Valid : Predicted clusters')\n",
    "a[3].set_title('Valid : Ground Truth')\n",
    "f.tight_layout()\n",
    "f.savefig('../output/FirstTest_230926_1923_bb76k/kcv_latent_with_negs_KMeans', bbox_inches='tight', dpi=200)"
   ]
  },
  {
   "cell_type": "markdown",
   "id": "eb641e10-a14c-4712-8f80-ce4cf38f4a9a",
   "metadata": {},
   "source": [
    "# I'm stupid ; ReRun the models with only CDR3b (no V, no J) and only positive data (no immreps)"
   ]
  }
 ],
 "metadata": {
  "kernelspec": {
   "display_name": "Python 3 (ipykernel)",
   "language": "python",
   "name": "python3"
  },
  "language_info": {
   "codemirror_mode": {
    "name": "ipython",
    "version": 3
   },
   "file_extension": ".py",
   "mimetype": "text/x-python",
   "name": "python",
   "nbconvert_exporter": "python",
   "pygments_lexer": "ipython3",
   "version": "3.11.5"
  }
 },
 "nbformat": 4,
 "nbformat_minor": 5
}
