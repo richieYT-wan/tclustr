{
 "cells": [
  {
   "cell_type": "code",
   "execution_count": 1,
   "id": "ce4275de-6b5b-4a01-9b30-9840fdf55f1e",
   "metadata": {},
   "outputs": [
    {
     "data": {
      "image/png": "[encoded data removed]",
      "text/plain": [
       "<Figure size 1x1 with 1 Axes>"
      ]
     },
     "metadata": {},
     "output_type": "display_data"
    }
   ],
   "source": [
    "import pandas as pd\n",
    "import numpy as np\n",
    "import sklearn\n",
    "import matplotlib.pyplot as plt\n",
    "import matplotlib as mpl\n",
    "import seaborn as sns\n",
    "f,a = plt.subplots(1,1,figsize=(1e-2, 1e-2))\n",
    "mpl.rcParams['figure.dpi'] = 150\n",
    "sns.set_style('darkgrid')\n",
    "import os,sys\n",
    "module_path = os.path.abspath(os.path.join('..'))\n",
    "if module_path not in sys.path:\n",
    "    sys.path.append(module_path)\n",
    "import warnings\n",
    "warnings.filterwarnings(\"ignore\")\n",
    "import glob\n",
    "from tqdm.auto import tqdm\n",
    "from datetime import datetime as dt\n",
    "from sklearn.cluster import AgglomerativeClustering\n",
    "from sklearn.preprocessing import LabelEncoder\n",
    "import torch\n",
    "from torch import optim\n",
    "from torch.utils.data import RandomSampler, SequentialSampler\n",
    "from torch import nn\n",
    "from torch.nn import functional as F\n",
    "mpl.rcParams['figure.dpi'] = 180\n",
    "# Load models together\n",
    "%load_ext autoreload\n",
    "%autoreload 2\n",
    "    \n",
    "from src.torch_utils import load_model_full\n",
    "from src.utils import get_class_initcode_keys\n",
    "from torch.utils.data import SequentialSampler\n",
    "from src.datasets import *\n",
    "from src.models import *\n",
    "from src.utils import mkdirs, convert_path, pkl_dump, pkl_load, add_median_labels, get_palette\n",
    "from src.data_processing import BL62_VALUES, BL62FREQ_VALUES, HLAS, AA_KEYS\n",
    "from src.utils import pkl_load, pkl_dump, get_palette\n",
    "from src.sim_utils import make_dist_matrix\n",
    "from src.torch_utils import save_checkpoint, load_checkpoint\n",
    "from src.train_eval import predict_model, train_eval_loops\n",
    "from src.models import FullTCRVAE, TwoStageVAECLF\n",
    "from src.multimodal_datasets import MultimodalMarginalLatentDataset\n",
    "from src.multimodal_models import BSSVAE, JMVAE\n",
    "from src.multimodal_train_eval import predict_multimodal\n",
    "from src.metrics import reconstruction_accuracy, VAELoss, TripletLoss, CombinedVAELoss, compute_cosine_distance\n",
    "from src.datasets import TCRSpecificDataset, FullTCRDataset\n",
    "from src.cluster_utils import get_latent_df, load_model_full"
   ]
  },
  {
   "cell_type": "markdown",
   "id": "bd1dce3a-e299-4ebd-a44f-78f19ff352e6",
   "metadata": {},
   "source": [
    "# inits"
   ]
  },
  {
   "cell_type": "code",
   "execution_count": 2,
   "id": "733727e0-74d8-4c74-8f7e-8a9b30c1a1b3",
   "metadata": {},
   "outputs": [],
   "source": [
    "exp_df = pd.read_csv('../data/multimodal/240311_nettcr_pairedAB_expanded_noswap.csv')\n",
    "exp78 = pd.read_csv('../data/filtered/240507_nettcr_exp_pruned_noswap_78peps.csv')\n",
    "exp17 = pd.read_csv('../data/filtered/240418_nettcr_expanded_20binders_17pep_POSONLY.csv')\n",
    "old_df = pd.read_csv('../data/filtered/240416_nettcr_old_26pep_no_swaps.csv')\n",
    "old15 = pd.read_csv('../data/filtered/240416_nettcr_old_top15peps_no_swaps.csv')\n",
    "old20 = pd.read_csv('../data/filtered/240507_nettcr_old_pruned_noswap_20peps.csv')"
   ]
  },
  {
   "cell_type": "markdown",
   "id": "ff831ba9-c7b3-494a-b92c-a022f86a5f0d",
   "metadata": {},
   "source": [
    "# Debug the return of my iterative cut functions"
   ]
  },
  {
   "cell_type": "code",
   "execution_count": 6,
   "id": "c8873c00-9812-49fb-af44-e8f453d47235",
   "metadata": {},
   "outputs": [],
   "source": [
    "import networkx as nx\n",
    "from datetime import datetime as dt\n",
    "from src.cluster_utils import *\n",
    "from src.networkx_utils import *"
   ]
  },
  {
   "cell_type": "code",
   "execution_count": 13,
   "id": "767a37d7-c51a-45e2-beeb-97c58c63d280",
   "metadata": {
    "scrolled": true
   },
   "outputs": [
    {
     "data": {
      "text/html": [
       "<div>\n",
       "<style scoped>\n",
       "    .dataframe tbody tr th:only-of-type {\n",
       "        vertical-align: middle;\n",
       "    }\n",
       "\n",
       "    .dataframe tbody tr th {\n",
       "        vertical-align: top;\n",
       "    }\n",
       "\n",
       "    .dataframe thead th {\n",
       "        text-align: right;\n",
       "    }\n",
       "</style>\n",
       "<table border=\"1\" class=\"dataframe\">\n",
       "  <thead>\n",
       "    <tr style=\"text-align: right;\">\n",
       "      <th></th>\n",
       "      <th>Unnamed: 0.1</th>\n",
       "      <th>Unnamed: 0</th>\n",
       "      <th>A1</th>\n",
       "      <th>A2</th>\n",
       "      <th>A3</th>\n",
       "      <th>B1</th>\n",
       "      <th>B2</th>\n",
       "      <th>B3</th>\n",
       "      <th>allele</th>\n",
       "      <th>partition</th>\n",
       "      <th>binder</th>\n",
       "      <th>origin</th>\n",
       "      <th>original_peptide</th>\n",
       "      <th>raw_index</th>\n",
       "      <th>reference</th>\n",
       "      <th>source_organism</th>\n",
       "      <th>input_type</th>\n",
       "      <th>db</th>\n",
       "    </tr>\n",
       "    <tr>\n",
       "      <th>peptide</th>\n",
       "      <th></th>\n",
       "      <th></th>\n",
       "      <th></th>\n",
       "      <th></th>\n",
       "      <th></th>\n",
       "      <th></th>\n",
       "      <th></th>\n",
       "      <th></th>\n",
       "      <th></th>\n",
       "      <th></th>\n",
       "      <th></th>\n",
       "      <th></th>\n",
       "      <th></th>\n",
       "      <th></th>\n",
       "      <th></th>\n",
       "      <th></th>\n",
       "      <th></th>\n",
       "      <th></th>\n",
       "    </tr>\n",
       "  </thead>\n",
       "  <tbody>\n",
       "    <tr>\n",
       "      <th>ELAGIGILTV</th>\n",
       "      <td>60</td>\n",
       "      <td>60</td>\n",
       "      <td>60</td>\n",
       "      <td>60</td>\n",
       "      <td>60</td>\n",
       "      <td>60</td>\n",
       "      <td>60</td>\n",
       "      <td>60</td>\n",
       "      <td>60</td>\n",
       "      <td>60</td>\n",
       "      <td>60</td>\n",
       "      <td>60</td>\n",
       "      <td>60</td>\n",
       "      <td>60</td>\n",
       "      <td>60</td>\n",
       "      <td>10</td>\n",
       "      <td>60</td>\n",
       "      <td>60</td>\n",
       "    </tr>\n",
       "    <tr>\n",
       "      <th>GILGFVFTL</th>\n",
       "      <td>61</td>\n",
       "      <td>61</td>\n",
       "      <td>61</td>\n",
       "      <td>61</td>\n",
       "      <td>61</td>\n",
       "      <td>61</td>\n",
       "      <td>61</td>\n",
       "      <td>61</td>\n",
       "      <td>61</td>\n",
       "      <td>61</td>\n",
       "      <td>61</td>\n",
       "      <td>61</td>\n",
       "      <td>61</td>\n",
       "      <td>61</td>\n",
       "      <td>61</td>\n",
       "      <td>13</td>\n",
       "      <td>61</td>\n",
       "      <td>61</td>\n",
       "    </tr>\n",
       "    <tr>\n",
       "      <th>LLWNGPMAV</th>\n",
       "      <td>66</td>\n",
       "      <td>66</td>\n",
       "      <td>66</td>\n",
       "      <td>66</td>\n",
       "      <td>66</td>\n",
       "      <td>66</td>\n",
       "      <td>66</td>\n",
       "      <td>66</td>\n",
       "      <td>66</td>\n",
       "      <td>66</td>\n",
       "      <td>66</td>\n",
       "      <td>66</td>\n",
       "      <td>66</td>\n",
       "      <td>66</td>\n",
       "      <td>66</td>\n",
       "      <td>66</td>\n",
       "      <td>66</td>\n",
       "      <td>66</td>\n",
       "    </tr>\n",
       "    <tr>\n",
       "      <th>RAKFKQLL</th>\n",
       "      <td>52</td>\n",
       "      <td>52</td>\n",
       "      <td>52</td>\n",
       "      <td>52</td>\n",
       "      <td>52</td>\n",
       "      <td>52</td>\n",
       "      <td>52</td>\n",
       "      <td>52</td>\n",
       "      <td>52</td>\n",
       "      <td>52</td>\n",
       "      <td>52</td>\n",
       "      <td>52</td>\n",
       "      <td>52</td>\n",
       "      <td>52</td>\n",
       "      <td>52</td>\n",
       "      <td>0</td>\n",
       "      <td>52</td>\n",
       "      <td>52</td>\n",
       "    </tr>\n",
       "    <tr>\n",
       "      <th>YLQPRTFLL</th>\n",
       "      <td>62</td>\n",
       "      <td>62</td>\n",
       "      <td>62</td>\n",
       "      <td>62</td>\n",
       "      <td>62</td>\n",
       "      <td>62</td>\n",
       "      <td>62</td>\n",
       "      <td>62</td>\n",
       "      <td>62</td>\n",
       "      <td>62</td>\n",
       "      <td>62</td>\n",
       "      <td>62</td>\n",
       "      <td>62</td>\n",
       "      <td>62</td>\n",
       "      <td>62</td>\n",
       "      <td>62</td>\n",
       "      <td>62</td>\n",
       "      <td>62</td>\n",
       "    </tr>\n",
       "  </tbody>\n",
       "</table>\n",
       "</div>"
      ],
      "text/plain": [
       "            Unnamed: 0.1  Unnamed: 0  A1  A2  A3  B1  B2  B3  allele  \\\n",
       "peptide                                                                \n",
       "ELAGIGILTV            60          60  60  60  60  60  60  60      60   \n",
       "GILGFVFTL             61          61  61  61  61  61  61  61      61   \n",
       "LLWNGPMAV             66          66  66  66  66  66  66  66      66   \n",
       "RAKFKQLL              52          52  52  52  52  52  52  52      52   \n",
       "YLQPRTFLL             62          62  62  62  62  62  62  62      62   \n",
       "\n",
       "            partition  binder  origin  original_peptide  raw_index  reference  \\\n",
       "peptide                                                                         \n",
       "ELAGIGILTV         60      60      60                60         60         60   \n",
       "GILGFVFTL          61      61      61                61         61         61   \n",
       "LLWNGPMAV          66      66      66                66         66         66   \n",
       "RAKFKQLL           52      52      52                52         52         52   \n",
       "YLQPRTFLL          62      62      62                62         62         62   \n",
       "\n",
       "            source_organism  input_type  db  \n",
       "peptide                                      \n",
       "ELAGIGILTV               10          60  60  \n",
       "GILGFVFTL                13          61  61  \n",
       "LLWNGPMAV                66          66  66  \n",
       "RAKFKQLL                  0          52  52  \n",
       "YLQPRTFLL                62          62  62  "
      ]
     },
     "execution_count": 13,
     "metadata": {},
     "output_type": "execute_result"
    }
   ],
   "source": [
    "import random\n",
    "# Take a much smaller subsample to debug because my function is obviously wrong\n",
    "seed=131\n",
    "random.seed(seed)\n",
    "# Take test partition only, subsample\n",
    "easy5peps = ['ELAGIGILTV', 'GILGFVFTL', 'LLWNGPMAV', 'RAKFKQLL', 'YLQPRTFLL']\n",
    "testset = exp17.query('peptide in @easy5peps and partition==1')\n",
    "# Randomly subsample between 60 and 74 datapoints for each peptide:\n",
    "testset_subsample = []\n",
    "for p in easy5peps:\n",
    "    tmp = testset.query('peptide==@p')\n",
    "    testset_subsample.append(tmp.sample(min(len(tmp), random.randint(50,70)), random_state=seed))\n",
    "testset_subsample = pd.concat(testset_subsample)\n",
    "testset_idx = testset_subsample.query('partition==1')['raw_index'].unique()\n",
    "testset_subsample.groupby('peptide').count()"
   ]
  },
  {
   "cell_type": "code",
   "execution_count": 17,
   "id": "df316232-3e69-46ba-b5d8-cc5c7167a9ff",
   "metadata": {},
   "outputs": [
    {
     "name": "stdout",
     "output_type": "stream",
     "text": [
      "<class 'torch.nn.modules.batchnorm.BatchNorm1d'> 128 9 4 2 1 0 SELU()\n"
     ]
    }
   ],
   "source": [
    "# Best model picked on validation performance\n",
    "model = load_model_full('../output/240618_NestedKCV_CNNVAE/Nested_TwoStageCNNVAE_latent_128_kld_1e-2_ExpData_KFold_0_240618_1608_pDQhj/epoch_5000_interval_checkpoint__kcv_fold_00_Nested_TwoStageCNNVAE_latent_128_kld_1e-2_ExpData_KFold_0_240618_1608_pDQhj.pt',\n",
    "                        '../output/240618_NestedKCV_CNNVAE/Nested_TwoStageCNNVAE_latent_128_kld_1e-2_ExpData_KFold_0_240618_1608_pDQhj/checkpoint_best_kcv_fold_00_Nested_TwoStageCNNVAE_latent_128_kld_1e-2_ExpData_KFold_0_240618_1608_pDQhj_JSON_kwargs.json',\n",
    "                        map_location='cpu', verbose=False)\n",
    "latent_df_testset = get_latent_df(model, testset_subsample)\n",
    "dm_ts128_testset, values_ts128_testset, feats, labels, enc_labels, lab_enc = get_distances_labels_from_latent(latent_df_testset, index_col='raw_index')"
   ]
  },
  {
   "cell_type": "code",
   "execution_count": 18,
   "id": "20533dac-964a-455b-b44f-71dc531a5b5e",
   "metadata": {},
   "outputs": [],
   "source": [
    "# re-get the baseline and re-filter based on the subset test set\n",
    "dm_tbcr_testset = pd.read_csv('../output/240411_ClusteringTests/dist_matrices/2404XX_OUTPUT_tbcralign_distmatrix_140peps_labeled.csv', index_col=0).query('partition==1 and raw_index in @testset_idx')\n",
    "dm_tcrdist_testset = pd.read_csv('../output/240411_ClusteringTests/dist_matrices/tcrdist3_distmatrix_140peps_new_labeled.csv', index_col=0).query('partition==1 and raw_index in @testset_idx')\n",
    "# Resort it just so that we can re-use the labels and indices in the same order\n",
    "dm_tbcr_testset, values_tbcr_testset = resort_baseline(dm_tbcr_testset, dm_ts128_testset, 'raw_index')\n",
    "dm_tcrdist_testset, values_tcrdist_testset = resort_baseline(dm_tcrdist_testset, dm_ts128_testset, 'raw_index')"
   ]
  },
  {
   "cell_type": "code",
   "execution_count": 77,
   "id": "af38fa97-325a-4c30-8248-2e67741cf3cb",
   "metadata": {
    "scrolled": true
   },
   "outputs": [
    {
     "data": {
      "text/plain": [
       "EdgeDataView([(0, 184, {'weight': 0.34623271226882935}), (0, 34, {'weight': 0.4306254982948303}), (1, 11, {'weight': 0.4081287384033203}), (1, 32, {'weight': 0.6517423391342163}), (2, 267, {'weight': 0.6811701059341431}), (3, 32, {'weight': 0.6503627896308899}), (4, 52, {'weight': 0.6852259039878845}), (5, 152, {'weight': 0.28540563583374023}), (6, 22, {'weight': 0.3681669235229492}), (7, 97, {'weight': 0.6620118021965027}), (8, 51, {'weight': 0.24915474653244019}), (8, 50, {'weight': 0.48686033487319946}), (9, 57, {'weight': 0.37865394353866577}), (9, 158, {'weight': 0.38035815954208374}), (10, 96, {'weight': 0.6821213960647583}), (10, 245, {'weight': 0.7033871412277222}), (11, 45, {'weight': 0.55698561668396}), (12, 34, {'weight': 0.545823335647583}), (12, 53, {'weight': 0.6230318546295166}), (12, 55, {'weight': 0.6314609050750732}), (12, 111, {'weight': 0.7528945207595825}), (13, 79, {'weight': 0.5132654905319214}), (13, 23, {'weight': 0.5228242874145508}), (14, 126, {'weight': 0.4908439517021179}), (15, 56, {'weight': 0.40090513229370117}), (15, 51, {'weight': 0.4523962736129761}), (15, 177, {'weight': 0.6885918378829956}), (16, 164, {'weight': 0.5488375425338745}), (17, 267, {'weight': 0.6346021890640259}), (18, 123, {'weight': 0.545525848865509}), (18, 180, {'weight': 0.6369269490242004}), (19, 129, {'weight': 0.5953255295753479}), (19, 237, {'weight': 0.6241872310638428}), (20, 173, {'weight': 0.6316927671432495}), (21, 51, {'weight': 0.4527888298034668}), (21, 71, {'weight': 0.6808815598487854}), (22, 27, {'weight': 0.48059237003326416}), (24, 51, {'weight': 0.3999931216239929}), (24, 40, {'weight': 0.569892406463623}), (25, 296, {'weight': 0.49154412746429443}), (25, 52, {'weight': 0.5466392040252686}), (26, 134, {'weight': 0.5353221297264099}), (26, 135, {'weight': 0.5439414978027344}), (27, 82, {'weight': 0.44672703742980957}), (27, 160, {'weight': 0.5140118598937988}), (27, 181, {'weight': 0.7040660381317139}), (28, 298, {'weight': 0.5947718620300293}), (29, 56, {'weight': 0.4457104802131653}), (29, 39, {'weight': 0.48903119564056396}), (30, 174, {'weight': 0.4928317666053772}), (31, 291, {'weight': 0.579353392124176}), (31, 114, {'weight': 0.6012401580810547}), (32, 69, {'weight': 0.6248267889022827}), (33, 51, {'weight': 0.6143114566802979}), (34, 54, {'weight': 0.34847933053970337}), (34, 50, {'weight': 0.4085138440132141}), (34, 45, {'weight': 0.5315788984298706}), (35, 188, {'weight': 0.6224191188812256}), (35, 243, {'weight': 0.6342542767524719}), (36, 57, {'weight': 0.42728400230407715}), (36, 131, {'weight': 0.4278760552406311}), (36, 142, {'weight': 0.5463371276855469}), (37, 241, {'weight': 0.5193509459495544}), (38, 53, {'weight': 0.595386266708374}), (38, 47, {'weight': 0.6130791306495667}), (39, 97, {'weight': 0.4989103078842163}), (40, 44, {'weight': 0.5997498631477356}), (41, 51, {'weight': 0.5423318147659302}), (42, 49, {'weight': 0.5170743465423584}), (43, 146, {'weight': 0.3742150664329529}), (44, 189, {'weight': 0.6721388101577759}), (46, 134, {'weight': 0.5392444133758545}), (46, 172, {'weight': 0.5643703937530518}), (48, 134, {'weight': 0.5416525602340698}), (49, 51, {'weight': 0.5688167810440063}), (54, 144, {'weight': 0.7014636993408203}), (57, 59, {'weight': 0.500393271446228}), (58, 273, {'weight': 0.6586190462112427}), (59, 236, {'weight': 0.5914196968078613}), (60, 107, {'weight': 0.25483477115631104}), (60, 105, {'weight': 0.3912641406059265}), (60, 103, {'weight': 0.5202533006668091}), (61, 120, {'weight': 0.6702184677124023}), (62, 233, {'weight': 0.5488483905792236}), (62, 228, {'weight': 0.645235538482666}), (63, 89, {'weight': 0.4902026653289795}), (63, 115, {'weight': 0.5082980394363403}), (63, 122, {'weight': 0.6520756483078003}), (64, 255, {'weight': 0.47023510932922363}), (64, 79, {'weight': 0.5206904411315918}), (65, 115, {'weight': 0.6560124158859253}), (65, 277, {'weight': 0.6767041683197021}), (66, 88, {'weight': 0.5528033971786499}), (67, 81, {'weight': 0.6626097559928894}), (68, 98, {'weight': 0.545983076095581}), (70, 107, {'weight': 0.6492245197296143}), (72, 108, {'weight': 0.3919578194618225}), (72, 98, {'weight': 0.5943580865859985}), (73, 81, {'weight': 0.5871920585632324}), (73, 83, {'weight': 0.6452988982200623}), (74, 134, {'weight': 0.704261064529419}), (75, 204, {'weight': 0.3045860528945923}), (75, 84, {'weight': 0.4164556860923767}), (76, 200, {'weight': 0.5733937621116638}), (77, 113, {'weight': 0.45562565326690674}), (78, 115, {'weight': 0.5341984033584595}), (78, 95, {'weight': 0.5595568418502808}), (79, 90, {'weight': 0.4641323685646057}), (80, 269, {'weight': 0.5964816808700562}), (80, 151, {'weight': 0.6798486709594727}), (81, 99, {'weight': 0.47123777866363525}), (81, 87, {'weight': 0.5725566148757935}), (81, 292, {'weight': 0.6234041452407837}), (81, 293, {'weight': 0.6556684374809265}), (82, 105, {'weight': 0.41264843940734863}), (82, 85, {'weight': 0.44431406259536743}), (84, 118, {'weight': 0.2698720097541809}), (84, 275, {'weight': 0.6127545833587646}), (86, 104, {'weight': 0.4571042060852051}), (86, 167, {'weight': 0.5544062852859497}), (86, 214, {'weight': 0.6527976989746094}), (88, 109, {'weight': 0.32079994678497314}), (88, 211, {'weight': 0.47071748971939087}), (89, 99, {'weight': 0.40662896633148193}), (90, 107, {'weight': 0.28403306007385254}), (90, 195, {'weight': 0.5108090043067932}), (91, 236, {'weight': 0.5618469715118408}), (91, 141, {'weight': 0.5865768790245056}), (92, 119, {'weight': 0.42421507835388184}), (93, 118, {'weight': 0.4205845594406128}), (93, 199, {'weight': 0.4690290093421936}), (94, 204, {'weight': 0.34292250871658325}), (94, 230, {'weight': 0.38049596548080444}), (94, 109, {'weight': 0.3980216383934021}), (94, 106, {'weight': 0.49941444396972656}), (96, 206, {'weight': 0.5785918235778809}), (98, 272, {'weight': 0.4323635697364807}), (98, 116, {'weight': 0.49228817224502563}), (99, 116, {'weight': 0.26017963886260986}), (99, 109, {'weight': 0.3454364538192749}), (99, 113, {'weight': 0.348056435585022}), (99, 297, {'weight': 0.5890069007873535}), (100, 113, {'weight': 0.5491204857826233}), (101, 183, {'weight': 0.5807213187217712}), (101, 109, {'weight': 0.5982231497764587}), (101, 102, {'weight': 0.6697062253952026}), (104, 230, {'weight': 0.4571765661239624}), (107, 204, {'weight': 0.40778762102127075}), (108, 274, {'weight': 0.6505829095840454}), (110, 190, {'weight': 0.545670747756958}), (112, 123, {'weight': 0.6296255588531494}), (112, 260, {'weight': 0.6906658411026001}), (114, 188, {'weight': 0.5841383934020996}), (115, 120, {'weight': 0.4985688328742981}), (117, 266, {'weight': 0.5830900073051453}), (118, 290, {'weight': 0.7064313888549805}), (119, 221, {'weight': 0.5111779570579529}), (121, 184, {'weight': 0.29966896772384644}), (121, 124, {'weight': 0.3452671766281128}), (123, 203, {'weight': 0.6741946935653687}), (124, 125, {'weight': 0.3252599239349365}), (125, 147, {'weight': 0.3305739760398865}), (125, 159, {'weight': 0.635850727558136}), (126, 129, {'weight': 0.414434015750885}), (126, 279, {'weight': 0.5313197374343872}), (127, 283, {'weight': 0.6464430093765259}), (128, 168, {'weight': 0.3280358910560608}), (129, 166, {'weight': 0.47690439224243164}), (130, 186, {'weight': 0.18028277158737183}), (130, 174, {'weight': 0.39672380685806274}), (131, 133, {'weight': 0.3547992706298828}), (131, 165, {'weight': 0.4154779314994812}), (131, 247, {'weight': 0.5117956399917603}), (132, 168, {'weight': 0.26801788806915283}), (132, 135, {'weight': 0.43492937088012695}), (132, 146, {'weight': 0.44175153970718384}), (133, 139, {'weight': 0.3221595287322998}), (133, 148, {'weight': 0.3345407247543335}), (134, 185, {'weight': 0.6338804960250854}), (134, 187, {'weight': 0.6370368599891663}), (135, 173, {'weight': 0.5210484862327576}), (136, 172, {'weight': 0.5180789232254028}), (136, 223, {'weight': 0.6232133507728577}), (137, 159, {'weight': 0.42223745584487915}), (138, 197, {'weight': 0.7241926193237305}), (139, 143, {'weight': 0.04716676473617554}), (139, 152, {'weight': 0.21807628870010376}), (140, 173, {'weight': 0.3886212110519409}), (140, 164, {'weight': 0.5782371163368225}), (145, 167, {'weight': 0.6540210247039795}), (146, 235, {'weight': 0.4974432587623596}), (147, 156, {'weight': 0.33696311712265015}), (148, 269, {'weight': 0.36218053102493286}), (149, 284, {'weight': 0.5903404951095581}), (150, 180, {'weight': 0.10886061191558838}), (150, 153, {'weight': 0.21849101781845093}), (150, 286, {'weight': 0.526302695274353}), (150, 254, {'weight': 0.6059192419052124}), (152, 179, {'weight': 0.16025906801223755}), (154, 169, {'weight': 0.29753386974334717}), (154, 179, {'weight': 0.32446861267089844}), (155, 211, {'weight': 0.4622074365615845}), (155, 264, {'weight': 0.6273139715194702}), (155, 163, {'weight': 0.6409375667572021}), (157, 188, {'weight': 0.6380172967910767}), (160, 182, {'weight': 0.2524455189704895}), (161, 165, {'weight': 0.2473127841949463}), (162, 166, {'weight': 0.4011322259902954}), (166, 186, {'weight': 0.36850184202194214}), (166, 238, {'weight': 0.5539923906326294}), (168, 182, {'weight': 0.2834768295288086}), (168, 179, {'weight': 0.3040059804916382}), (170, 278, {'weight': 0.5027101039886475}), (170, 240, {'weight': 0.5314058065414429}), (171, 272, {'weight': 0.5901109576225281}), (175, 186, {'weight': 0.24831080436706543}), (176, 183, {'weight': 0.4334105849266052}), (176, 178, {'weight': 0.5378817319869995}), (178, 227, {'weight': 0.4921233057975769}), (180, 183, {'weight': 0.39436501264572144}), (180, 299, {'weight': 0.4151042699813843}), (180, 229, {'weight': 0.6410714387893677}), (180, 228, {'weight': 0.6430046558380127}), (182, 186, {'weight': 0.2772487998008728}), (182, 184, {'weight': 0.35914939641952515}), (185, 280, {'weight': 0.5578612089157104}), (187, 222, {'weight': 0.6015992760658264}), (189, 210, {'weight': 0.4071548581123352}), (190, 213, {'weight': 0.490872323513031}), (190, 196, {'weight': 0.4921955466270447}), (190, 206, {'weight': 0.5149269104003906}), (191, 192, {'weight': 0.2517927289009094}), (191, 234, {'weight': 0.27640557289123535}), (191, 218, {'weight': 0.5820106267929077}), (192, 226, {'weight': 0.6299870014190674}), (193, 204, {'weight': 0.5732165575027466}), (193, 287, {'weight': 0.6574190855026245}), (194, 216, {'weight': 0.21954131126403809}), (196, 225, {'weight': 0.37590426206588745}), (196, 267, {'weight': 0.6010175943374634}), (197, 247, {'weight': 0.6297379732131958}), (198, 254, {'weight': 0.7678273916244507}), (199, 202, {'weight': 0.4616835117340088}), (199, 282, {'weight': 0.5099711418151855}), (200, 201, {'weight': 0.3181387782096863}), (200, 234, {'weight': 0.41996854543685913}), (200, 202, {'weight': 0.4974510073661804}), (201, 221, {'weight': 0.5223644971847534}), (202, 225, {'weight': 0.4548739194869995}), (204, 208, {'weight': 0.3911742568016052}), (204, 232, {'weight': 0.3971283435821533}), (204, 217, {'weight': 0.44984155893325806}), (205, 207, {'weight': 0.5375244617462158}), (205, 221, {'weight': 0.539368748664856}), (209, 293, {'weight': 0.6141693592071533}), (210, 258, {'weight': 0.657771110534668}), (212, 231, {'weight': 0.5569985508918762}), (214, 215, {'weight': 0.6828608512878418}), (216, 227, {'weight': 0.5671436190605164}), (217, 219, {'weight': 0.3029865622520447}), (220, 228, {'weight': 0.44810986518859863}), (224, 258, {'weight': 0.6907343864440918}), (228, 250, {'weight': 0.6441664099693298}), (229, 295, {'weight': 0.582042932510376}), (231, 285, {'weight': 0.4922661781311035}), (239, 283, {'weight': 0.10703855752944946}), (239, 300, {'weight': 0.3899405598640442}), (239, 288, {'weight': 0.57691490650177}), (240, 271, {'weight': 0.5837618112564087}), (241, 266, {'weight': 0.14024949073791504}), (242, 259, {'weight': 0.3881341218948364}), (242, 253, {'weight': 0.5190286636352539}), (243, 252, {'weight': 0.1182335615158081}), (243, 273, {'weight': 0.11900156736373901}), (243, 265, {'weight': 0.6230521202087402}), (244, 272, {'weight': 0.6864306926727295}), (246, 280, {'weight': 0.6394275426864624}), (248, 253, {'weight': 0.5427964925765991}), (249, 276, {'weight': 0.18078094720840454}), (249, 257, {'weight': 0.2225998044013977}), (251, 266, {'weight': 0.5612022876739502}), (256, 285, {'weight': 0.33689892292022705}), (256, 296, {'weight': 0.491208016872406}), (257, 262, {'weight': 0.09141099452972412}), (259, 271, {'weight': 0.20753872394561768}), (261, 280, {'weight': 0.7393355965614319}), (262, 271, {'weight': 0.19675511121749878}), (262, 281, {'weight': 0.2896597385406494}), (262, 289, {'weight': 0.6143726110458374}), (263, 285, {'weight': 0.4618079662322998}), (266, 281, {'weight': 0.41476762294769287}), (268, 288, {'weight': 0.5280265808105469}), (270, 276, {'weight': 0.24943172931671143}), (270, 284, {'weight': 0.38251805305480957}), (271, 283, {'weight': 0.2411547303199768}), (281, 294, {'weight': 0.6017304062843323}), (282, 296, {'weight': 0.39158910512924194}), (285, 298, {'weight': 0.26607996225357056}), (285, 300, {'weight': 0.31260257959365845}), (291, 297, {'weight': 0.43704915046691895})])"
      ]
     },
     "execution_count": 77,
     "metadata": {},
     "output_type": "execute_result"
    }
   ],
   "source": [
    "G, tree, dist_matrix, values, labels, encoded_labels, label_encoder, raw_indices = create_mst_from_distance_matrix(dm_ts128_testset)\n",
    "tree.edges(data=True)"
   ]
  },
  {
   "cell_type": "code",
   "execution_count": 40,
   "id": "f7cf8009-60c7-48c4-b1c6-da731f738098",
   "metadata": {},
   "outputs": [
    {
     "name": "stdout",
     "output_type": "stream",
     "text": [
      "Initial mean purity, silhouette score, retention\n",
      "0.3555 0.0789 1.0\n",
      "106 1\n",
      "2 1\n"
     ]
    }
   ],
   "source": [
    "initial_cut_threshold=1\n",
    "initial_cut_method='top'\n",
    "size_tree_cut, size_subgraphs, size_clusters, size_edges_removed, size_nodes_removed, size_scores, size_purities, size_retentions = iterative_size_cut(values, tree, initial_cut_threshold, initial_cut_method, top_n=1, which='edge', \n",
    "                                                                                                                                                       weighted=True, verbose=0, max_size=4)\n",
    "topn_tree_cut, topn_subgraphs, topn_clusters, topn_edges_removed, topn_nodes_removed, topn_scores, topn_purities, topn_retentions = iterative_topn_cut(values, tree, initial_cut_threshold, initial_cut_method, top_n=1, which='edge', \n",
    "                                                                                                                                                       weighted=True, verbose=0, score_threshold=.75)\n",
    "\n",
    "print(len(size_clusters), len(topn_clusters))\n",
    "print(len(list(nx.connected_components(size_tree_cut))), len(list(nx.connected_components(topn_tree_cut))))\n"
   ]
  },
  {
   "cell_type": "code",
   "execution_count": 41,
   "id": "c944fc57-7aa9-479e-a3e5-47c463ad7275",
   "metadata": {},
   "outputs": [
    {
     "data": {
      "text/plain": [
       "[{'cluster_size': 2,\n",
       "  'majority_label': 'LLWNGPMAV',\n",
       "  'purity': 1.0,\n",
       "  'counts': {'LLWNGPMAV': 2},\n",
       "  'members': {139, 143}}]"
      ]
     },
     "execution_count": 41,
     "metadata": {},
     "output_type": "execute_result"
    }
   ],
   "source": [
    "topn_clusters"
   ]
  },
  {
   "cell_type": "code",
   "execution_count": 42,
   "id": "3252691e-eb88-40a8-a878-0c6959ff7fd7",
   "metadata": {},
   "outputs": [
    {
     "data": {
      "text/plain": [
       "NodeView((139, 143))"
      ]
     },
     "execution_count": 42,
     "metadata": {},
     "output_type": "execute_result"
    }
   ],
   "source": [
    "topn_tree_cut.nodes()"
   ]
  },
  {
   "cell_type": "code",
   "execution_count": 43,
   "id": "89acc409-9bfe-46cd-ac81-3ccfd3c3bcf0",
   "metadata": {},
   "outputs": [
    {
     "data": {
      "text/plain": [
       "EdgeView([(139, 143)])"
      ]
     },
     "execution_count": 43,
     "metadata": {},
     "output_type": "execute_result"
    }
   ],
   "source": [
    "topn_tree_cut.edges()"
   ]
  },
  {
   "cell_type": "markdown",
   "id": "c9be7992-d55e-4b37-8cb0-774d4f976218",
   "metadata": {},
   "source": [
    "## debug topn_cut"
   ]
  },
  {
   "cell_type": "code",
   "execution_count": 107,
   "id": "4d1adc39-a049-4f64-b0e2-6a0e177e4e3a",
   "metadata": {
    "scrolled": true
   },
   "outputs": [
    {
     "data": {
      "text/plain": [
       "[(0, 184, {'weight': 0.34623271226882935}),\n",
       " (0, 34, {'weight': 0.4306254982948303}),\n",
       " (1, 11, {'weight': 0.4081287384033203}),\n",
       " (1, 32, {'weight': 0.6517423391342163}),\n",
       " (2, 267, {'weight': 0.6811701059341431})]"
      ]
     },
     "execution_count": 107,
     "metadata": {},
     "output_type": "execute_result"
    }
   ],
   "source": [
    "G, tree, dist_matrix, values, labels, encoded_labels, label_encoder, raw_indices = create_mst_from_distance_matrix(dm_ts128_testset)\n",
    "list(tree.edges(data=True))[:5]"
   ]
  },
  {
   "cell_type": "code",
   "execution_count": 123,
   "id": "c06ea3ba-cd0b-476d-bfc5-3e3f6101ad74",
   "metadata": {
    "scrolled": true
   },
   "outputs": [
    {
     "name": "stdout",
     "output_type": "stream",
     "text": [
      "Initial mean purity, silhouette score, retention\n",
      "0.3555 0.0789 1.0\n"
     ]
    }
   ],
   "source": [
    "topn_tree_cut, topn_subgraphs, topn_clusters, topn_edges_removed, topn_nodes_removed, topn_scores, topn_purities, topn_retentions = iterative_topn_cut(values, tree, initial_cut_threshold, initial_cut_method, top_n=1, which='edge', \n",
    "                                                                                                                                                       weighted=True, verbose=0, score_threshold=.75)"
   ]
  },
  {
   "cell_type": "code",
   "execution_count": 90,
   "id": "413fe413-73c6-43b8-bc0d-e73fcd643722",
   "metadata": {
    "collapsed": true,
    "jupyter": {
     "outputs_hidden": true,
     "source_hidden": true
    },
    "scrolled": true
   },
   "outputs": [
    {
     "name": "stdout",
     "output_type": "stream",
     "text": [
      "\t\tedges, nodes\n",
      "before cutting:\t300,\t301\n",
      "after cutting:\t299,\t301\n",
      "N components before cutting:\t 1\n",
      "N components after cutting:\t 2\n",
      "\n",
      "Edges removed:\n",
      "[((107, 204), 0.49563676633444076)]\n",
      "\n",
      "Nodes removed:\n",
      "[]\n",
      "Initial mean purity, silhouette score, retention\n",
      "0.3445 0.0751 1.0\n"
     ]
    }
   ],
   "source": [
    "# initial cut\n",
    "dist_array=values\n",
    "weighted=True\n",
    "verbose=2\n",
    "which='edge'\n",
    "top_n=1\n",
    "tree_cut, clusters, edges_removed, nodes_removed = betweenness_cut(tree, initial_cut_threshold, initial_cut_method,\n",
    "                                                                   which, False, verbose)\n",
    "current_silhouette_score = get_silhouette_score_at_cut(dist_array, clusters)\n",
    "print('Initial mean purity, silhouette score, retention')\n",
    "print(np.mean([x['purity'] for x in clusters]).round(4), current_silhouette_score, round(sum([x['cluster_size'] for x in clusters])/len(dist_array),4))\n",
    "iter=-1\n",
    "# Something is wrong about this. I probably shouldn't loop over every cluster but do a fullgraph cut at each iteration by taking the Top N edges\n",
    "# TODO : --> Global edge cut\n",
    "# Can do something about max_silhouette_score to save the \"best\" trees and clusters\n",
    "scores = [current_silhouette_score]\n",
    "purities = [np.mean([x['purity'] for x in clusters])]\n",
    "retentions = [round(sum([x['cluster_size'] for x in clusters])/len(dist_array),4)]\n",
    "best_silhouette_score = -1\n",
    "best_tree, best_clusters, best_edges_removed, best_nodes_removed = tree_cut, clusters, edges_removed, nodes_removed\n",
    "# Make a copy before starting the iteration to re-use the variable\n",
    "tree_trimmed = tree_cut.copy()"
   ]
  },
  {
   "cell_type": "code",
   "execution_count": 98,
   "id": "41303743-c36a-4732-a191-8b88b51a44f6",
   "metadata": {
    "jupyter": {
     "source_hidden": true
    }
   },
   "outputs": [],
   "source": [
    "def get_bet(tree):\n",
    "    edge_betweenness = nx.edge_betweenness_centrality(tree)\n",
    "    weighted_edge_betweenness = {k: tree.edges[k]['weight'] * v for k, v in edge_betweenness.items()}\n",
    "    \n",
    "    sorted_edges = sorted(edge_betweenness.items(), key=lambda item: item[1], reverse=True)\n",
    "    sorted_weighted = sorted(weighted_edge_betweenness.items(), key=lambda item: item[1], reverse=True)\n",
    "    print(sorted_edges[:3])\n",
    "    print(sorted_weighted[:3])\n",
    "    return sorted_edges, sorted_weighted"
   ]
  },
  {
   "cell_type": "code",
   "execution_count": 125,
   "id": "3a2095df-9e81-4e02-9d87-bd7882ef9490",
   "metadata": {},
   "outputs": [
    {
     "data": {
      "text/plain": [
       "106"
      ]
     },
     "execution_count": 125,
     "metadata": {},
     "output_type": "execute_result"
    }
   ],
   "source": [
    "len(topn_subgraphs)"
   ]
  },
  {
   "cell_type": "code",
   "execution_count": 126,
   "id": "95f34a0f-5e35-4dc7-a3f3-c720529b3345",
   "metadata": {},
   "outputs": [
    {
     "data": {
      "text/plain": [
       "106"
      ]
     },
     "execution_count": 126,
     "metadata": {},
     "output_type": "execute_result"
    }
   ],
   "source": [
    "len(list(nx.connected_components(topn_tree_cut)))"
   ]
  },
  {
   "cell_type": "code",
   "execution_count": 127,
   "id": "316a5b5d-65d9-4a5a-86c5-9296f06e2527",
   "metadata": {},
   "outputs": [
    {
     "data": {
      "text/plain": [
       "106"
      ]
     },
     "execution_count": 127,
     "metadata": {},
     "output_type": "execute_result"
    }
   ],
   "source": [
    "len(topn_clusters)"
   ]
  },
  {
   "cell_type": "code",
   "execution_count": 101,
   "id": "ca9ded16-f2ed-40ba-b2cb-c635d4264e1e",
   "metadata": {},
   "outputs": [
    {
     "name": "stdout",
     "output_type": "stream",
     "text": [
      "[((94, 204), 0.1542857142857143), ((94, 109), 0.15348837209302327), ((75, 204), 0.15242524916943523)]\n",
      "[((93, 199), 0.06993362770524136), ((75, 84), 0.06329388522626554), ((93, 118), 0.06298987355343132)]\n",
      "[((168, 182), 0.09508305647840531), ((182, 184), 0.09056478405315616), ((0, 184), 0.08205980066445183)]\n",
      "[((0, 34), 0.034793395742625494), ((182, 184), 0.03252628752955567), ((0, 184), 0.02841178735229264)]\n"
     ]
    }
   ],
   "source": [
    "normal, weight = get_bet(tree_trimmed)\n",
    "normal, weight = get_bet(tree_trimmed_1)"
   ]
  },
  {
   "cell_type": "code",
   "execution_count": 100,
   "id": "b925b3d1-16b7-4528-8585-57f6a4e8e199",
   "metadata": {},
   "outputs": [
    {
     "name": "stdout",
     "output_type": "stream",
     "text": [
      "\t\tedges, nodes\n",
      "before cutting:\t299,\t301\n",
      "after cutting:\t298,\t301\n",
      "N components before cutting:\t 2\n",
      "N components after cutting:\t 3\n",
      "\n",
      "Edges removed:\n",
      "[((93, 199), 0.06993362770524136)]\n",
      "\n",
      "Nodes removed:\n",
      "[]\n",
      "\t\tedges, nodes\n",
      "before cutting:\t298,\t301\n",
      "after cutting:\t297,\t301\n",
      "N components before cutting:\t 3\n",
      "N components after cutting:\t 4\n",
      "\n",
      "Edges removed:\n",
      "[((0, 34), 0.034793395742625494)]\n",
      "\n",
      "Nodes removed:\n",
      "[]\n"
     ]
    }
   ],
   "source": [
    "# iteration 1 : manual\n",
    "tree_trimmed_1, clusters_1, edges_trimmed_1, nodes_trimmed_1 = betweenness_cut(tree_trimmed, cut_threshold=top_n, cut_method='top',\n",
    "                                                                       which=which, weighted=weighted, verbose=verbose)\n",
    "tree_trimmed_2, clusters_2, edges_trimmed_2, nodes_trimmed_2 = betweenness_cut(tree_trimmed_1, cut_threshold=top_n, cut_method='top',\n",
    "                                                                       which=which, weighted=weighted, verbose=verbose)"
   ]
  },
  {
   "cell_type": "code",
   "execution_count": 106,
   "id": "2e0023ed-be0f-41d3-8e44-6ea93b4c737a",
   "metadata": {},
   "outputs": [
    {
     "data": {
      "text/plain": [
       "[{'cluster_size': 99,\n",
       "  'majority_label': 'GILGFVFTL',\n",
       "  'purity': 0.3838383838383838,\n",
       "  'counts': {'ELAGIGILTV': 4,\n",
       "   'GILGFVFTL': 38,\n",
       "   'LLWNGPMAV': 14,\n",
       "   'RAKFKQLL': 21,\n",
       "   'YLQPRTFLL': 22},\n",
       "  'members': {18,\n",
       "   31,\n",
       "   35,\n",
       "   58,\n",
       "   61,\n",
       "   62,\n",
       "   63,\n",
       "   65,\n",
       "   66,\n",
       "   67,\n",
       "   68,\n",
       "   72,\n",
       "   73,\n",
       "   75,\n",
       "   77,\n",
       "   78,\n",
       "   81,\n",
       "   83,\n",
       "   84,\n",
       "   86,\n",
       "   87,\n",
       "   88,\n",
       "   89,\n",
       "   93,\n",
       "   94,\n",
       "   95,\n",
       "   98,\n",
       "   99,\n",
       "   100,\n",
       "   101,\n",
       "   102,\n",
       "   104,\n",
       "   106,\n",
       "   108,\n",
       "   109,\n",
       "   112,\n",
       "   113,\n",
       "   114,\n",
       "   115,\n",
       "   116,\n",
       "   118,\n",
       "   120,\n",
       "   122,\n",
       "   123,\n",
       "   145,\n",
       "   150,\n",
       "   153,\n",
       "   155,\n",
       "   157,\n",
       "   163,\n",
       "   167,\n",
       "   171,\n",
       "   176,\n",
       "   178,\n",
       "   180,\n",
       "   183,\n",
       "   188,\n",
       "   193,\n",
       "   194,\n",
       "   198,\n",
       "   203,\n",
       "   204,\n",
       "   208,\n",
       "   209,\n",
       "   211,\n",
       "   214,\n",
       "   215,\n",
       "   216,\n",
       "   217,\n",
       "   219,\n",
       "   220,\n",
       "   227,\n",
       "   228,\n",
       "   229,\n",
       "   230,\n",
       "   232,\n",
       "   233,\n",
       "   243,\n",
       "   244,\n",
       "   250,\n",
       "   252,\n",
       "   254,\n",
       "   260,\n",
       "   264,\n",
       "   265,\n",
       "   272,\n",
       "   273,\n",
       "   274,\n",
       "   275,\n",
       "   277,\n",
       "   286,\n",
       "   287,\n",
       "   290,\n",
       "   291,\n",
       "   292,\n",
       "   293,\n",
       "   295,\n",
       "   297,\n",
       "   299}},\n",
       " {'cluster_size': 96,\n",
       "  'majority_label': 'LLWNGPMAV',\n",
       "  'purity': 0.4895833333333333,\n",
       "  'counts': {'ELAGIGILTV': 20,\n",
       "   'GILGFVFTL': 13,\n",
       "   'LLWNGPMAV': 47,\n",
       "   'RAKFKQLL': 9,\n",
       "   'YLQPRTFLL': 7},\n",
       "  'members': {0,\n",
       "   5,\n",
       "   6,\n",
       "   9,\n",
       "   13,\n",
       "   14,\n",
       "   16,\n",
       "   19,\n",
       "   20,\n",
       "   22,\n",
       "   23,\n",
       "   26,\n",
       "   27,\n",
       "   30,\n",
       "   36,\n",
       "   43,\n",
       "   46,\n",
       "   48,\n",
       "   57,\n",
       "   59,\n",
       "   60,\n",
       "   64,\n",
       "   70,\n",
       "   74,\n",
       "   79,\n",
       "   80,\n",
       "   82,\n",
       "   85,\n",
       "   90,\n",
       "   91,\n",
       "   103,\n",
       "   105,\n",
       "   107,\n",
       "   121,\n",
       "   124,\n",
       "   125,\n",
       "   126,\n",
       "   128,\n",
       "   129,\n",
       "   130,\n",
       "   131,\n",
       "   132,\n",
       "   133,\n",
       "   134,\n",
       "   135,\n",
       "   136,\n",
       "   137,\n",
       "   138,\n",
       "   139,\n",
       "   140,\n",
       "   141,\n",
       "   142,\n",
       "   143,\n",
       "   146,\n",
       "   147,\n",
       "   148,\n",
       "   151,\n",
       "   152,\n",
       "   154,\n",
       "   156,\n",
       "   158,\n",
       "   159,\n",
       "   160,\n",
       "   161,\n",
       "   162,\n",
       "   164,\n",
       "   165,\n",
       "   166,\n",
       "   168,\n",
       "   169,\n",
       "   172,\n",
       "   173,\n",
       "   174,\n",
       "   175,\n",
       "   179,\n",
       "   181,\n",
       "   182,\n",
       "   184,\n",
       "   185,\n",
       "   186,\n",
       "   187,\n",
       "   195,\n",
       "   197,\n",
       "   222,\n",
       "   223,\n",
       "   235,\n",
       "   236,\n",
       "   237,\n",
       "   238,\n",
       "   246,\n",
       "   247,\n",
       "   255,\n",
       "   261,\n",
       "   269,\n",
       "   279,\n",
       "   280}},\n",
       " {'cluster_size': 68,\n",
       "  'majority_label': 'YLQPRTFLL',\n",
       "  'purity': 0.47058823529411764,\n",
       "  'counts': {'ELAGIGILTV': 8,\n",
       "   'GILGFVFTL': 6,\n",
       "   'LLWNGPMAV': 3,\n",
       "   'RAKFKQLL': 19,\n",
       "   'YLQPRTFLL': 32},\n",
       "  'members': {2,\n",
       "   4,\n",
       "   10,\n",
       "   17,\n",
       "   25,\n",
       "   28,\n",
       "   37,\n",
       "   52,\n",
       "   76,\n",
       "   92,\n",
       "   96,\n",
       "   110,\n",
       "   117,\n",
       "   119,\n",
       "   127,\n",
       "   149,\n",
       "   170,\n",
       "   190,\n",
       "   191,\n",
       "   192,\n",
       "   196,\n",
       "   199,\n",
       "   200,\n",
       "   201,\n",
       "   202,\n",
       "   205,\n",
       "   206,\n",
       "   207,\n",
       "   212,\n",
       "   213,\n",
       "   218,\n",
       "   221,\n",
       "   225,\n",
       "   226,\n",
       "   231,\n",
       "   234,\n",
       "   239,\n",
       "   240,\n",
       "   241,\n",
       "   242,\n",
       "   245,\n",
       "   248,\n",
       "   249,\n",
       "   251,\n",
       "   253,\n",
       "   256,\n",
       "   257,\n",
       "   259,\n",
       "   262,\n",
       "   263,\n",
       "   266,\n",
       "   267,\n",
       "   268,\n",
       "   270,\n",
       "   271,\n",
       "   276,\n",
       "   278,\n",
       "   281,\n",
       "   282,\n",
       "   283,\n",
       "   284,\n",
       "   285,\n",
       "   288,\n",
       "   289,\n",
       "   294,\n",
       "   296,\n",
       "   298,\n",
       "   300}},\n",
       " {'cluster_size': 38,\n",
       "  'majority_label': 'ELAGIGILTV',\n",
       "  'purity': 0.7368421052631579,\n",
       "  'counts': {'ELAGIGILTV': 28,\n",
       "   'GILGFVFTL': 4,\n",
       "   'LLWNGPMAV': 2,\n",
       "   'RAKFKQLL': 3,\n",
       "   'YLQPRTFLL': 1},\n",
       "  'members': {1,\n",
       "   3,\n",
       "   7,\n",
       "   8,\n",
       "   11,\n",
       "   12,\n",
       "   15,\n",
       "   21,\n",
       "   24,\n",
       "   29,\n",
       "   32,\n",
       "   33,\n",
       "   34,\n",
       "   38,\n",
       "   39,\n",
       "   40,\n",
       "   41,\n",
       "   42,\n",
       "   44,\n",
       "   45,\n",
       "   47,\n",
       "   49,\n",
       "   50,\n",
       "   51,\n",
       "   53,\n",
       "   54,\n",
       "   55,\n",
       "   56,\n",
       "   69,\n",
       "   71,\n",
       "   97,\n",
       "   111,\n",
       "   144,\n",
       "   177,\n",
       "   189,\n",
       "   210,\n",
       "   224,\n",
       "   258}}]"
      ]
     },
     "execution_count": 106,
     "metadata": {},
     "output_type": "execute_result"
    }
   ],
   "source": [
    "clusters_2"
   ]
  },
  {
   "cell_type": "code",
   "execution_count": 104,
   "id": "8dee44c4-da82-43fa-b4ba-3026f5eec33a",
   "metadata": {},
   "outputs": [
    {
     "data": {
      "text/plain": [
       "3"
      ]
     },
     "execution_count": 104,
     "metadata": {},
     "output_type": "execute_result"
    }
   ],
   "source": [
    "len(clusters_1)"
   ]
  }
 ],
 "metadata": {
  "kernelspec": {
   "display_name": "Python [conda env:pynn] *",
   "language": "python",
   "name": "conda-env-pynn-py"
  },
  "language_info": {
   "codemirror_mode": {
    "name": "ipython",
    "version": 3
   },
   "file_extension": ".py",
   "mimetype": "text/x-python",
   "name": "python",
   "nbconvert_exporter": "python",
   "pygments_lexer": "ipython3",
   "version": "3.11.5"
  }
 },
 "nbformat": 4,
 "nbformat_minor": 5
}
