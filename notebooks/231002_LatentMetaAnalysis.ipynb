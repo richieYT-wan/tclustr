{
 "cells": [
  {
   "cell_type": "code",
   "execution_count": 2,
   "id": "208d5c50-802f-4477-946b-16bf9de194dd",
   "metadata": {},
   "outputs": [
    {
     "name": "stdout",
     "output_type": "stream",
     "text": [
      "The autoreload extension is already loaded. To reload it, use:\n",
      "  %reload_ext autoreload\n"
     ]
    },
    {
     "data": {
      "image/png": "[encoded data removed]",
      "text/plain": [
       "<Figure size 1.8x1.8 with 1 Axes>"
      ]
     },
     "metadata": {},
     "output_type": "display_data"
    }
   ],
   "source": [
    "%load_ext autoreload\n",
    "%autoreload 2\n",
    "\n",
    "import pandas as pd\n",
    "import numpy as np\n",
    "import sklearn\n",
    "import matplotlib.pyplot as plt\n",
    "import matplotlib as mpl\n",
    "import seaborn as sns\n",
    "f,a = plt.subplots(1,1,figsize=(1e-2, 1e-2))\n",
    "mpl.rcParams['figure.dpi'] = 180\n",
    "sns.set_style('darkgrid')\n",
    "import os,sys\n",
    "module_path = os.path.abspath(os.path.join('..'))\n",
    "if module_path not in sys.path:\n",
    "    sys.path.append(module_path)\n",
    "import warnings\n",
    "warnings.filterwarnings(\"ignore\")\n",
    "\n",
    "from tqdm.auto import tqdm\n",
    "from datetime import datetime as dt\n",
    "from src.utils import mkdirs, convert_path, pkl_dump, pkl_load, display_side, add_median_labels, get_palette\n",
    "from src.data_processing import BL62_VALUES, BL62FREQ_VALUES, HLAS, AA_KEYS\n",
    "from src.utils import pkl_load, pkl_dump, get_palette\n",
    "from src.torch_utils import save_checkpoint, load_checkpoint\n",
    "from src.train_eval import predict_model, train_eval_loops\n",
    "from src.models import CDR3bVAE, PairedFVAE\n",
    "from src.metrics import reconstruction_accuracy, VAELoss, PairedVAELoss\n",
    "from src.datasets import CDR3BetaDataset, PairedDataset\n",
    "import torch\n",
    "from torch import optim\n",
    "from torch.utils.data import RandomSampler, SequentialSampler\n",
    "from torch import nn\n",
    "from torch.nn import functional as F\n",
    "mpl.rcParams['figure.dpi'] = 180"
   ]
  },
  {
   "cell_type": "code",
   "execution_count": 11,
   "id": "b221d555-d30e-447a-ae05-6ae5c4132b35",
   "metadata": {},
   "outputs": [
    {
     "data": {
      "text/html": [
       "<div>\n",
       "<style scoped>\n",
       "    .dataframe tbody tr th:only-of-type {\n",
       "        vertical-align: middle;\n",
       "    }\n",
       "\n",
       "    .dataframe tbody tr th {\n",
       "        vertical-align: top;\n",
       "    }\n",
       "\n",
       "    .dataframe thead th {\n",
       "        text-align: right;\n",
       "    }\n",
       "</style>\n",
       "<table border=\"1\" class=\"dataframe\">\n",
       "  <thead>\n",
       "    <tr style=\"text-align: right;\">\n",
       "      <th></th>\n",
       "      <th>A1</th>\n",
       "      <th>A2</th>\n",
       "      <th>A3</th>\n",
       "      <th>B1</th>\n",
       "      <th>B2</th>\n",
       "      <th>B3</th>\n",
       "      <th>binder</th>\n",
       "      <th>peptide</th>\n",
       "      <th>original_peptide</th>\n",
       "      <th>TRAV</th>\n",
       "      <th>...</th>\n",
       "      <th>TRBJ</th>\n",
       "      <th>partition</th>\n",
       "      <th>Unnamed: 0</th>\n",
       "      <th>allele</th>\n",
       "      <th>origin</th>\n",
       "      <th>original_index</th>\n",
       "      <th>TRBV_gene</th>\n",
       "      <th>TRBJ_gene</th>\n",
       "      <th>TRA_CDR3</th>\n",
       "      <th>TRB_CDR3</th>\n",
       "    </tr>\n",
       "  </thead>\n",
       "  <tbody>\n",
       "    <tr>\n",
       "      <th>0</th>\n",
       "      <td>KALYS</td>\n",
       "      <td>LLKGGEQ</td>\n",
       "      <td>GTEIGGGTSYGKLT</td>\n",
       "      <td>MNHEY</td>\n",
       "      <td>SMNVEV</td>\n",
       "      <td>ASGTETQY</td>\n",
       "      <td>1</td>\n",
       "      <td>KLGGALQAK</td>\n",
       "      <td>KLGGALQAK</td>\n",
       "      <td>TRAV30*01</td>\n",
       "      <td>...</td>\n",
       "      <td>TRBJ2-5*01</td>\n",
       "      <td>2</td>\n",
       "      <td>32208.0</td>\n",
       "      <td>HLA-A*03:01</td>\n",
       "      <td>10x</td>\n",
       "      <td>2627.0</td>\n",
       "      <td>TRBV27</td>\n",
       "      <td>TRBJ2-5</td>\n",
       "      <td>CGTEIGGGTSYGKLTF</td>\n",
       "      <td>CASGTETQYF</td>\n",
       "    </tr>\n",
       "    <tr>\n",
       "      <th>1</th>\n",
       "      <td>DRGSQS</td>\n",
       "      <td>IYSNGD</td>\n",
       "      <td>AVNPANARLM</td>\n",
       "      <td>DFQATT</td>\n",
       "      <td>SNEGSKA</td>\n",
       "      <td>SARWGGGTDTQY</td>\n",
       "      <td>1</td>\n",
       "      <td>ELAGIGILTV</td>\n",
       "      <td>ELAGIGILTV</td>\n",
       "      <td>TRAV12-2*01</td>\n",
       "      <td>...</td>\n",
       "      <td>TRBJ2-3*01</td>\n",
       "      <td>3</td>\n",
       "      <td>37123.0</td>\n",
       "      <td>HLA-A*02:01</td>\n",
       "      <td>10x</td>\n",
       "      <td>3820.0</td>\n",
       "      <td>TRBV20-1</td>\n",
       "      <td>TRBJ2-3</td>\n",
       "      <td>CAVNPANARLMF</td>\n",
       "      <td>CSARWGGGTDTQYF</td>\n",
       "    </tr>\n",
       "    <tr>\n",
       "      <th>2</th>\n",
       "      <td>TSGFNG</td>\n",
       "      <td>NVLDGL</td>\n",
       "      <td>AVGDDKII</td>\n",
       "      <td>DFQATT</td>\n",
       "      <td>SNEGSKA</td>\n",
       "      <td>SARGLDRGTNEQY</td>\n",
       "      <td>1</td>\n",
       "      <td>AVFDRKSDAK</td>\n",
       "      <td>AVFDRKSDAK</td>\n",
       "      <td>TRAV1-2*01</td>\n",
       "      <td>...</td>\n",
       "      <td>TRBJ2-7*01</td>\n",
       "      <td>3</td>\n",
       "      <td>14961.0</td>\n",
       "      <td>HLA-A*11:01</td>\n",
       "      <td>10x</td>\n",
       "      <td>3592.0</td>\n",
       "      <td>TRBV20-1</td>\n",
       "      <td>TRBJ2-7</td>\n",
       "      <td>CAVGDDKIIF</td>\n",
       "      <td>CSARGLDRGTNEQYF</td>\n",
       "    </tr>\n",
       "    <tr>\n",
       "      <th>3</th>\n",
       "      <td>DRGSQS</td>\n",
       "      <td>IYSNGD</td>\n",
       "      <td>AVTPGTYKYI</td>\n",
       "      <td>LGHDT</td>\n",
       "      <td>YNNKEL</td>\n",
       "      <td>ASSPGTSIFVAEQY</td>\n",
       "      <td>1</td>\n",
       "      <td>ELAGIGILTV</td>\n",
       "      <td>ELAGIGILTV</td>\n",
       "      <td>TRAV12-2*01</td>\n",
       "      <td>...</td>\n",
       "      <td>TRBJ2-7*01</td>\n",
       "      <td>0</td>\n",
       "      <td>8197.0</td>\n",
       "      <td>HLA-A*02:01</td>\n",
       "      <td>10x</td>\n",
       "      <td>5933.0</td>\n",
       "      <td>TRBV3-1</td>\n",
       "      <td>TRBJ2-7</td>\n",
       "      <td>CAVTPGTYKYIF</td>\n",
       "      <td>CASSPGTSIFVAEQYF</td>\n",
       "    </tr>\n",
       "    <tr>\n",
       "      <th>4</th>\n",
       "      <td>TRDTTYY</td>\n",
       "      <td>RNSFDEQN</td>\n",
       "      <td>AFLYNQGGKLI</td>\n",
       "      <td>SGHDY</td>\n",
       "      <td>FNNNVP</td>\n",
       "      <td>ASSPGSRGNIQY</td>\n",
       "      <td>1</td>\n",
       "      <td>RAKFKQLL</td>\n",
       "      <td>RAKFKQLL</td>\n",
       "      <td>TRAV19*01</td>\n",
       "      <td>...</td>\n",
       "      <td>TRBJ2-4*01</td>\n",
       "      <td>1</td>\n",
       "      <td>23616.0</td>\n",
       "      <td>HLA-B*08:01</td>\n",
       "      <td>10x</td>\n",
       "      <td>2745.0</td>\n",
       "      <td>TRBV12-4</td>\n",
       "      <td>TRBJ2-4</td>\n",
       "      <td>CAFLYNQGGKLIF</td>\n",
       "      <td>CASSPGSRGNIQYF</td>\n",
       "    </tr>\n",
       "  </tbody>\n",
       "</table>\n",
       "<p>5 rows × 22 columns</p>\n",
       "</div>"
      ],
      "text/plain": [
       "        A1        A2              A3      B1       B2              B3  binder  \\\n",
       "0    KALYS   LLKGGEQ  GTEIGGGTSYGKLT   MNHEY   SMNVEV        ASGTETQY       1   \n",
       "1   DRGSQS    IYSNGD      AVNPANARLM  DFQATT  SNEGSKA    SARWGGGTDTQY       1   \n",
       "2   TSGFNG    NVLDGL        AVGDDKII  DFQATT  SNEGSKA   SARGLDRGTNEQY       1   \n",
       "3   DRGSQS    IYSNGD      AVTPGTYKYI   LGHDT   YNNKEL  ASSPGTSIFVAEQY       1   \n",
       "4  TRDTTYY  RNSFDEQN     AFLYNQGGKLI   SGHDY   FNNNVP    ASSPGSRGNIQY       1   \n",
       "\n",
       "      peptide original_peptide         TRAV  ...        TRBJ partition  \\\n",
       "0   KLGGALQAK        KLGGALQAK    TRAV30*01  ...  TRBJ2-5*01         2   \n",
       "1  ELAGIGILTV       ELAGIGILTV  TRAV12-2*01  ...  TRBJ2-3*01         3   \n",
       "2  AVFDRKSDAK       AVFDRKSDAK   TRAV1-2*01  ...  TRBJ2-7*01         3   \n",
       "3  ELAGIGILTV       ELAGIGILTV  TRAV12-2*01  ...  TRBJ2-7*01         0   \n",
       "4    RAKFKQLL         RAKFKQLL    TRAV19*01  ...  TRBJ2-4*01         1   \n",
       "\n",
       "  Unnamed: 0       allele  origin original_index TRBV_gene  TRBJ_gene  \\\n",
       "0    32208.0  HLA-A*03:01     10x         2627.0    TRBV27    TRBJ2-5   \n",
       "1    37123.0  HLA-A*02:01     10x         3820.0  TRBV20-1    TRBJ2-3   \n",
       "2    14961.0  HLA-A*11:01     10x         3592.0  TRBV20-1    TRBJ2-7   \n",
       "3     8197.0  HLA-A*02:01     10x         5933.0   TRBV3-1    TRBJ2-7   \n",
       "4    23616.0  HLA-B*08:01     10x         2745.0  TRBV12-4    TRBJ2-4   \n",
       "\n",
       "           TRA_CDR3          TRB_CDR3  \n",
       "0  CGTEIGGGTSYGKLTF        CASGTETQYF  \n",
       "1      CAVNPANARLMF    CSARWGGGTDTQYF  \n",
       "2        CAVGDDKIIF   CSARGLDRGTNEQYF  \n",
       "3      CAVTPGTYKYIF  CASSPGTSIFVAEQYF  \n",
       "4     CAFLYNQGGKLIF    CASSPGSRGNIQYF  \n",
       "\n",
       "[5 rows x 22 columns]"
      ]
     },
     "execution_count": 11,
     "metadata": {},
     "output_type": "execute_result"
    }
   ],
   "source": [
    "df = pd.read_csv('../data/filtered/230927_nettcr_positives_only.csv')\n",
    "df.head()"
   ]
  },
  {
   "cell_type": "code",
   "execution_count": 12,
   "id": "493e3f53-87ed-4f04-a722-bf1944d3ebbc",
   "metadata": {},
   "outputs": [],
   "source": [
    "summary_dfs_all = pd.read_csv('../output/cluster_analysis/summary_dfs_top10.csv')\n",
    "summary_dfs_top10 = pd.read_csv('../output/cluster_analysis/summary_dfs_top10.csv')"
   ]
  },
  {
   "cell_type": "markdown",
   "id": "676f98f7-dfd3-4ef4-b7de-ccdf290b22ee",
   "metadata": {},
   "source": [
    "# AddPep tests"
   ]
  },
  {
   "cell_type": "code",
   "execution_count": null,
   "id": "cd50f2ca-c85b-4915-89bb-d69798bb8c55",
   "metadata": {},
   "outputs": [],
   "source": [
    "addpep_dataset = CDR3BetaDataset(df, max_len=23, cdr3b_col='TRB_CDR3', add_pep=True, "
   ]
  },
  {
   "cell_type": "code",
   "execution_count": 20,
   "id": "eb087dd1-b3d9-48c6-b7fb-bbfd9cb8abfa",
   "metadata": {},
   "outputs": [],
   "source": [
    "from src.models import PairedFVAE\n",
    "model = PairedFVAE()"
   ]
  },
  {
   "cell_type": "code",
   "execution_count": 21,
   "id": "052e10df-fcd1-450d-979e-b63edb04f942",
   "metadata": {},
   "outputs": [
    {
     "data": {
      "text/plain": [
       "True"
      ]
     },
     "execution_count": 21,
     "metadata": {},
     "output_type": "execute_result"
    }
   ],
   "source": []
  },
  {
   "cell_type": "markdown",
   "id": "77317cd2-686f-469e-88f2-b6aae90e62ae",
   "metadata": {},
   "source": [
    "# Meta analysis\n",
    "Here, take only one fold that trained \"well\" (without spikes)\n",
    "\n",
    "Only one hyperparams: 64 latent, wd = 1e-4, 10k epochs\n",
    "\n",
    "--> Take fold that is stable, compare test and train latent for GILGFVCTL (pos and true negs)"
   ]
  },
  {
   "cell_type": "code",
   "execution_count": 14,
   "id": "3c15d7f3-cd59-41f6-af86-9cafd313737d",
   "metadata": {},
   "outputs": [],
   "source": [
    "x = torch.rand([100,2]).to('cpu')"
   ]
  },
  {
   "cell_type": "code",
   "execution_count": 16,
   "id": "1f9e70b7-0795-48f5-bd25-9d153d57f852",
   "metadata": {},
   "outputs": [],
   "source": [
    "from torch import cuda"
   ]
  }
 ],
 "metadata": {
  "kernelspec": {
   "display_name": "Python [conda env:pynn] *",
   "language": "python",
   "name": "conda-env-pynn-py"
  },
  "language_info": {
   "codemirror_mode": {
    "name": "ipython",
    "version": 3
   },
   "file_extension": ".py",
   "mimetype": "text/x-python",
   "name": "python",
   "nbconvert_exporter": "python",
   "pygments_lexer": "ipython3",
   "version": "3.11.5"
  }
 },
 "nbformat": 4,
 "nbformat_minor": 5
}
