{
 "cells": [
  {
   "cell_type": "code",
   "execution_count": 3,
   "id": "c6242d11-f423-44d2-aa06-a1d3c34df82c",
   "metadata": {},
   "outputs": [
    {
     "name": "stdout",
     "output_type": "stream",
     "text": [
      "Reloading best model:\n",
      "Best epoch: 24959\n",
      "total: 0.2867068297915406\n",
      "reconstruction: 0.2530093719624275\n",
      "kld: 0.006973478481103337\n",
      "triplet: 0.02672399799200579\n",
      "seq_accuracy: 0.9099540710449219\n",
      "v_accuracy: 0\n",
      "j_accuracy: 0\n"
     ]
    },
    {
     "data": {
      "text/plain": [
       "FullTCRVAE(\n",
       "  (encoder): Sequential(\n",
       "    (0): Linear(in_features=900, out_features=450, bias=True)\n",
       "    (1): SELU()\n",
       "    (2): Linear(in_features=450, out_features=128, bias=True)\n",
       "    (3): SELU()\n",
       "  )\n",
       "  (encoder_mu): Linear(in_features=128, out_features=64, bias=True)\n",
       "  (encoder_logvar): Linear(in_features=128, out_features=64, bias=True)\n",
       "  (decoder): Sequential(\n",
       "    (0): Linear(in_features=64, out_features=128, bias=True)\n",
       "    (1): SELU()\n",
       "    (2): Linear(in_features=128, out_features=128, bias=True)\n",
       "    (3): SELU()\n",
       "  )\n",
       "  (decoder_sequence): Sequential(\n",
       "    (0): Linear(in_features=128, out_features=450, bias=True)\n",
       "    (1): SELU()\n",
       "    (2): Linear(in_features=450, out_features=900, bias=True)\n",
       "  )\n",
       ")"
      ]
     },
     "execution_count": 3,
     "metadata": {},
     "output_type": "execute_result"
    },
    {
     "data": {
      "image/png": "[encoded data removed]",
      "text/plain": [
       "<Figure size 1x1 with 1 Axes>"
      ]
     },
     "metadata": {},
     "output_type": "display_data"
    }
   ],
   "source": [
    "%load_ext autoreload\n",
    "%autoreload 2\n",
    "\n",
    "import pandas as pd\n",
    "import numpy as np\n",
    "import sklearn\n",
    "import matplotlib.pyplot as plt\n",
    "import matplotlib as mpl\n",
    "import seaborn as sns\n",
    "f,a = plt.subplots(1,1,figsize=(1e-2, 1e-2))\n",
    "mpl.rcParams['figure.dpi'] = 180\n",
    "sns.set_style('darkgrid')\n",
    "import os,sys\n",
    "module_path = os.path.abspath(os.path.join('..'))\n",
    "if module_path not in sys.path:\n",
    "    sys.path.append(module_path)\n",
    "import warnings\n",
    "warnings.filterwarnings(\"ignore\")\n",
    "from src.torch_utils import load_model_full\n",
    "from src.models import FullTCRVAE\n",
    "ckpt = '../output/TripletTest/231108_TripletCosine_A3B3_margin_Auto_25k_epochs_larger_model_7VzZ5/231108_TripletCosine_A3B3_margin01_25k_epochs_larger_model_KFold_0_231130_2321_5PXfp/checkpoint_best_fold00_kcv_230927_nettcr_positives_only_f00_231108_TripletCosine_A3B3_margin_Auto_25k_epochs_larger_model_KFold_0_231130_2321_eLRQs.pt'\n",
    "js = '../output/TripletTest/231108_TripletCosine_A3B3_margin_Auto_25k_epochs_larger_model_7VzZ5/231108_TripletCosine_A3B3_margin01_25k_epochs_larger_model_KFold_0_231130_2321_5PXfp/checkpoint_best_fold00_kcv_230927_nettcr_positives_only_f00_231108_TripletCosine_A3B3_margin_Auto_25k_epochs_larger_model_KFold_0_231130_2321_eLRQs_JSON_kwargs.json'\n",
    "load_model_full(ckpt, js)\n"
   ]
  }
 ],
 "metadata": {
  "kernelspec": {
   "display_name": "Python [conda env:pynn] *",
   "language": "python",
   "name": "conda-env-pynn-py"
  },
  "language_info": {
   "codemirror_mode": {
    "name": "ipython",
    "version": 3
   },
   "file_extension": ".py",
   "mimetype": "text/x-python",
   "name": "python",
   "nbconvert_exporter": "python",
   "pygments_lexer": "ipython3",
   "version": "3.11.5"
  }
 },
 "nbformat": 4,
 "nbformat_minor": 5
}
