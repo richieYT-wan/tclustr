{
 "cells": [
  {
   "cell_type": "code",
   "execution_count": 1,
   "id": "bcdc01cf-6b5e-4aa6-8d37-7815a4130b83",
   "metadata": {},
   "outputs": [
    {
     "data": {
      "image/png": "[encoded data removed]",
      "text/plain": [
       "<Figure size 1x1 with 1 Axes>"
      ]
     },
     "metadata": {},
     "output_type": "display_data"
    }
   ],
   "source": [
    "%load_ext autoreload\n",
    "%autoreload 2\n",
    "\n",
    "import pandas as pd\n",
    "import numpy as np\n",
    "import sklearn\n",
    "import matplotlib.pyplot as plt\n",
    "import matplotlib as mpl\n",
    "import seaborn as sns\n",
    "f,a = plt.subplots(1,1,figsize=(1e-2, 1e-2))\n",
    "mpl.rcParams['figure.dpi'] = 150\n",
    "sns.set_style('darkgrid')\n",
    "import os,sys\n",
    "module_path = os.path.abspath(os.path.join('..'))\n",
    "if module_path not in sys.path:\n",
    "    sys.path.append(module_path)\n",
    "import warnings\n",
    "warnings.filterwarnings(\"ignore\")\n",
    "import glob\n",
    "from tqdm.auto import tqdm\n",
    "from datetime import datetime as dt\n",
    "from src.utils import mkdirs, convert_path, pkl_dump, pkl_load, add_median_labels, get_palette\n",
    "from src.data_processing import BL62_VALUES, BL62FREQ_VALUES, HLAS, AA_KEYS\n",
    "from src.utils import pkl_load, pkl_dump, get_palette\n",
    "from src.torch_utils import save_checkpoint, load_checkpoint\n",
    "from src.train_eval import predict_model, train_eval_loops\n",
    "from src.models import FullTCRVAE\n",
    "from src.metrics import reconstruction_accuracy, VAELoss, TripletLoss, CombinedVAELoss, compute_cosine_distance\n",
    "from src.datasets import TCRSpecificDataset, FullTCRDataset\n",
    "import torch\n",
    "from torch import optim\n",
    "from torch.utils.data import RandomSampler, SequentialSampler\n",
    "from torch import nn\n",
    "from torch.nn import functional as F\n",
    "mpl.rcParams['figure.dpi'] = 180"
   ]
  },
  {
   "cell_type": "code",
   "execution_count": 2,
   "id": "088b4652-f997-41cd-af4b-2339b0668950",
   "metadata": {},
   "outputs": [],
   "source": [
    "# Load models together\n",
    "from src.torch_utils import load_model_full\n",
    "from src.metrics import compute_cosine_distance\n",
    "from src.utils import get_class_initcode_keys\n",
    "from src.models import BimodalVAEClassifier, FullTCRVAE, PeptideClassifier\n",
    "from src.datasets import BimodalTCRpMHCDataset, FullTCRDataset, LatentTCRpMHCDataset, TCRSpecificDataset\n",
    "from torch.utils.data import SequentialSampler\n",
    "from src.datasets import *\n",
    "from src.models import *\n",
    "pos_df = pd.read_csv('../data/filtered/230927_nettcr_positives_only.csv')\n",
    "mix_df = pd.read_csv('../data/filtered/231205_nettcr_old_26pep_with_swaps.csv')\n",
    "\n",
    "\n",
    "def get_model(folder):\n",
    "    pt = glob.glob(folder+'/*.pt')[0]\n",
    "    js = glob.glob(folder+'/*.json')[0]\n",
    "    model = load_model_full(pt, js, return_json=False, verbose=False)\n",
    "    return model\n",
    "    "
   ]
  },
  {
   "cell_type": "markdown",
   "id": "1faca4cc-2a5d-4a98-adda-da998f492c11",
   "metadata": {},
   "source": [
    "# Redefine multimodal as : Pep - TCR:Pep - TCR\n",
    "\n",
    "For full TCR ; \n",
    "\n",
    "- TCR with no pep can be healthy negatives for example\n",
    "- Pep with no TCR can be from IEDB for example..."
   ]
  },
  {
   "cell_type": "code",
   "execution_count": 135,
   "id": "44ee9ead-99ed-4beb-a0fd-ada57a5957c8",
   "metadata": {},
   "outputs": [],
   "source": [
    "import glob\n",
    "tcrpep_df = pd.read_csv('../data/filtered/231212_nettcr_expanded_pairedAB_412peps_with_swaps.csv').assign(db='nettcr').query('not origin.str.contains(\"swapped\")')\n",
    "tcr_df = pd.concat([pd.read_csv(x, sep='\\t') for x in glob.glob('../data/immrep/*.tsv')]).assign(db='immrep_negs')\n",
    "tcr_df = tcr_df[['A1', 'A2', 'A3', 'B1', 'B2', 'B3', 'db']].assign(peptide='XXXXXXXXX')\n",
    "\n",
    "\n",
    "df = tcrpep_df.query('origin!=\"peptide_swapped\" and input_type==\"paired\"')\n",
    "df['peplen'] = df['peptide'].apply(len)\n",
    "fracdict = (df.groupby('peplen').agg(count=('B3','count')) / len(df)).to_dict()['count']\n",
    "\n",
    "randompeps = pd.concat([pd.read_csv(x, header=None, names=['peptide']) for x in glob.glob('../data/multimodal/randompeps/*randompeps_*.pep')])\n",
    "randompeps['len'] = randompeps['peptide'].apply(len)\n",
    "sample = randompeps.groupby('len', group_keys=False).apply(lambda x: x.sample(frac=fracdict[x.len.unique()[0]], random_state=13))\n",
    "sample.to_csv('../data/multimodal/randompeps_8_12_lenSampled_1M.txt', index=False)\n",
    "\n",
    "# Maybe use some of our neoepitope and viral and human peptides from CEDAR + PRIME + IEDB + NEPDB etc\n",
    "viral = pd.read_csv('../../cedar_icerfire/data/heli_viral', sep =' ', usecols=['Icore', 'Rnk_EL', 'allele', 'id', 'uniprot_id', 'target', 'peptide_length', 'prot_sequence', 'peptide_start'])\n",
    "human = pd.read_csv('../../cedar_icerfire/data/human_proteome/human_sample_100k.csv')\n",
    "cedar = pd.read_csv('../../cedar_icerfire/data/aligned_icore/230418_cedar_aligned.csv')\n",
    "prime = pd.read_csv('../../cedar_icerfire/data/aligned_icore/230418_prime_aligned.csv')\n",
    "nepdb = pd.read_csv('../../cedar_icerfire/data/aligned_icore/230418_nepdb_aligned.csv')\n",
    "viral = viral.rename(columns={'Icore':'peptide', 'Rnk_EL':'EL_rank',\n",
    "              'peptide_length':'peplen', 'allele':'HLA'})\\\n",
    "             .assign(db='viral', input_type='peptide')\\\n",
    "             .drop(columns=['prot_sequence','id'])[['peptide','HLA','target','EL_rank', 'peplen','db','uniprot_id','peptide_start']]\n",
    "human = human[['icore_mut','HLA', 'EL_rank_mut']].rename(columns={'icore_mut':'peptide', 'EL_rank_mut':'EL_rank'}).assign(target=0).assign(db='human', input_type='peptide')\n",
    "cedar = cedar[['icore_mut','HLA', 'EL_rank_mut', 'agg_label']].rename(columns={'icore_mut':'peptide', 'EL_rank_mut':'EL_rank', 'agg_label':'target'}).assign(db='cedar', input_type='peptide')\n",
    "prime = prime[['icore_mut','HLA', 'EL_rank_mut', 'agg_label']].rename(columns={'icore_mut':'peptide', 'EL_rank_mut':'EL_rank', 'agg_label':'target'}).assign(db='prime', input_type='peptide')\n",
    "nepdb = nepdb[['icore_mut','HLA', 'EL_rank_mut', 'agg_label']].rename(columns={'icore_mut':'peptide', 'EL_rank_mut':'EL_rank', 'agg_label':'target'}).assign(db='nepdb', input_type='peptide')\n",
    "\n",
    "peptide_data = pd.concat([viral, human, cedar, prime, nepdb]).assign(input_type='peptide')\n",
    "peptide_data = peptide_data.drop_duplicates(['peptide'])\n",
    "peptide_data['peplen'] = peptide_data['peptide'].apply(len)\n",
    "peptide_data.to_csv('../data/multimodal/240311_merged_peptides.csv', index=False)\n",
    "tcr_df.to_csv('../data/multimodal/240311_immrepnegs_tcrs.csv', index=False)\n",
    "tcrpep_df.to_csv('../data/multimodal/240311_nettcr_pairedAB_expanded_noswap.csv', index=False)"
   ]
  },
  {
   "cell_type": "code",
   "execution_count": 141,
   "id": "0bbe4fc3-c631-4b5e-a219-6ee7c67ed67a",
   "metadata": {},
   "outputs": [],
   "source": [
    "multimodal_df = pd.concat([tcrpep_df.assign(input_type='tcr_pep'), \n",
    "                           peptide_data.assign(input_type='pep'), \n",
    "                           tcr_df.assign(input_type='tcr')])[['peptide', 'A1', 'A2', 'A3', 'B1', 'B2', 'B3', 'allele', 'binder', 'target', 'partition', 'input_type', 'db']]\n",
    "multimodal_df.to_csv('../data/multimodal/240311_multimodal_tcr_pep.csv', index=False)"
   ]
  },
  {
   "cell_type": "code",
   "execution_count": 148,
   "id": "70716089-ee77-42d7-963f-b5187e1898ed",
   "metadata": {},
   "outputs": [],
   "source": [
    "multimodal_df['A1'].fillna('X'*7, inplace=True)\n",
    "multimodal_df['A2'].fillna('X'*8, inplace=True)\n",
    "multimodal_df['A3'].fillna('X'*22, inplace=True)\n",
    "multimodal_df['B1'].fillna('X'*6, inplace=True)\n",
    "multimodal_df['B2'].fillna('X'*7, inplace=True)\n",
    "multimodal_df['B3'].fillna('X'*23, inplace=True)"
   ]
  },
  {
   "cell_type": "code",
   "execution_count": 150,
   "id": "9c2a96aa-7759-453a-9483-45ff963aa20e",
   "metadata": {},
   "outputs": [],
   "source": [
    "multimodal_df.to_csv('../data/multimodal/240311_multimodal_tcr_pep.csv', index=False)\n",
    "multimodal_df.query('db!=\"human\"').to_csv('../data/multimodal/240311_multimodal_NO_HUMAN_tcr_pep.csv', index=False)"
   ]
  },
  {
   "cell_type": "code",
   "execution_count": 151,
   "id": "a58637b6-ff12-411f-b965-e267a7b881ef",
   "metadata": {},
   "outputs": [
    {
     "data": {
      "text/html": [
       "<div>\n",
       "<style scoped>\n",
       "    .dataframe tbody tr th:only-of-type {\n",
       "        vertical-align: middle;\n",
       "    }\n",
       "\n",
       "    .dataframe tbody tr th {\n",
       "        vertical-align: top;\n",
       "    }\n",
       "\n",
       "    .dataframe thead th {\n",
       "        text-align: right;\n",
       "    }\n",
       "</style>\n",
       "<table border=\"1\" class=\"dataframe\">\n",
       "  <thead>\n",
       "    <tr style=\"text-align: right;\">\n",
       "      <th></th>\n",
       "      <th>peptide</th>\n",
       "      <th>A1</th>\n",
       "      <th>A2</th>\n",
       "      <th>A3</th>\n",
       "      <th>B1</th>\n",
       "      <th>B2</th>\n",
       "      <th>B3</th>\n",
       "      <th>allele</th>\n",
       "      <th>binder</th>\n",
       "      <th>target</th>\n",
       "      <th>partition</th>\n",
       "      <th>db</th>\n",
       "    </tr>\n",
       "    <tr>\n",
       "      <th>input_type</th>\n",
       "      <th></th>\n",
       "      <th></th>\n",
       "      <th></th>\n",
       "      <th></th>\n",
       "      <th></th>\n",
       "      <th></th>\n",
       "      <th></th>\n",
       "      <th></th>\n",
       "      <th></th>\n",
       "      <th></th>\n",
       "      <th></th>\n",
       "      <th></th>\n",
       "    </tr>\n",
       "  </thead>\n",
       "  <tbody>\n",
       "    <tr>\n",
       "      <th>pep</th>\n",
       "      <td>121997</td>\n",
       "      <td>121997</td>\n",
       "      <td>121997</td>\n",
       "      <td>121997</td>\n",
       "      <td>121997</td>\n",
       "      <td>121997</td>\n",
       "      <td>121997</td>\n",
       "      <td>0</td>\n",
       "      <td>0</td>\n",
       "      <td>121997</td>\n",
       "      <td>0</td>\n",
       "      <td>121997</td>\n",
       "    </tr>\n",
       "    <tr>\n",
       "      <th>tcr</th>\n",
       "      <td>15957</td>\n",
       "      <td>15957</td>\n",
       "      <td>15957</td>\n",
       "      <td>15957</td>\n",
       "      <td>15957</td>\n",
       "      <td>15957</td>\n",
       "      <td>15957</td>\n",
       "      <td>0</td>\n",
       "      <td>0</td>\n",
       "      <td>0</td>\n",
       "      <td>0</td>\n",
       "      <td>15957</td>\n",
       "    </tr>\n",
       "    <tr>\n",
       "      <th>tcr_pep</th>\n",
       "      <td>9769</td>\n",
       "      <td>9769</td>\n",
       "      <td>9769</td>\n",
       "      <td>9769</td>\n",
       "      <td>9769</td>\n",
       "      <td>9769</td>\n",
       "      <td>9769</td>\n",
       "      <td>9769</td>\n",
       "      <td>9769</td>\n",
       "      <td>0</td>\n",
       "      <td>9769</td>\n",
       "      <td>9769</td>\n",
       "    </tr>\n",
       "  </tbody>\n",
       "</table>\n",
       "</div>"
      ],
      "text/plain": [
       "            peptide      A1      A2      A3      B1      B2      B3  allele  \\\n",
       "input_type                                                                    \n",
       "pep          121997  121997  121997  121997  121997  121997  121997       0   \n",
       "tcr           15957   15957   15957   15957   15957   15957   15957       0   \n",
       "tcr_pep        9769    9769    9769    9769    9769    9769    9769    9769   \n",
       "\n",
       "            binder  target  partition      db  \n",
       "input_type                                     \n",
       "pep              0  121997          0  121997  \n",
       "tcr              0       0          0   15957  \n",
       "tcr_pep       9769       0       9769    9769  "
      ]
     },
     "execution_count": 151,
     "metadata": {},
     "output_type": "execute_result"
    }
   ],
   "source": [
    "multimodal_df.groupby('input_type').count()"
   ]
  },
  {
   "cell_type": "code",
   "execution_count": 153,
   "id": "b6b9fa80-6456-4341-bfb0-45b760cdc8c5",
   "metadata": {},
   "outputs": [
    {
     "data": {
      "text/html": [
       "<div>\n",
       "<style scoped>\n",
       "    .dataframe tbody tr th:only-of-type {\n",
       "        vertical-align: middle;\n",
       "    }\n",
       "\n",
       "    .dataframe tbody tr th {\n",
       "        vertical-align: top;\n",
       "    }\n",
       "\n",
       "    .dataframe thead th {\n",
       "        text-align: right;\n",
       "    }\n",
       "</style>\n",
       "<table border=\"1\" class=\"dataframe\">\n",
       "  <thead>\n",
       "    <tr style=\"text-align: right;\">\n",
       "      <th></th>\n",
       "      <th>peptide</th>\n",
       "      <th>A1</th>\n",
       "      <th>A2</th>\n",
       "      <th>A3</th>\n",
       "      <th>B1</th>\n",
       "      <th>B2</th>\n",
       "      <th>B3</th>\n",
       "      <th>allele</th>\n",
       "      <th>binder</th>\n",
       "      <th>target</th>\n",
       "      <th>partition</th>\n",
       "      <th>db</th>\n",
       "    </tr>\n",
       "    <tr>\n",
       "      <th>input_type</th>\n",
       "      <th></th>\n",
       "      <th></th>\n",
       "      <th></th>\n",
       "      <th></th>\n",
       "      <th></th>\n",
       "      <th></th>\n",
       "      <th></th>\n",
       "      <th></th>\n",
       "      <th></th>\n",
       "      <th></th>\n",
       "      <th></th>\n",
       "      <th></th>\n",
       "    </tr>\n",
       "  </thead>\n",
       "  <tbody>\n",
       "    <tr>\n",
       "      <th>pep</th>\n",
       "      <td>13639</td>\n",
       "      <td>13639</td>\n",
       "      <td>13639</td>\n",
       "      <td>13639</td>\n",
       "      <td>13639</td>\n",
       "      <td>13639</td>\n",
       "      <td>13639</td>\n",
       "      <td>0</td>\n",
       "      <td>0</td>\n",
       "      <td>13639</td>\n",
       "      <td>0</td>\n",
       "      <td>13639</td>\n",
       "    </tr>\n",
       "    <tr>\n",
       "      <th>tcr</th>\n",
       "      <td>15957</td>\n",
       "      <td>15957</td>\n",
       "      <td>15957</td>\n",
       "      <td>15957</td>\n",
       "      <td>15957</td>\n",
       "      <td>15957</td>\n",
       "      <td>15957</td>\n",
       "      <td>0</td>\n",
       "      <td>0</td>\n",
       "      <td>0</td>\n",
       "      <td>0</td>\n",
       "      <td>15957</td>\n",
       "    </tr>\n",
       "    <tr>\n",
       "      <th>tcr_pep</th>\n",
       "      <td>9769</td>\n",
       "      <td>9769</td>\n",
       "      <td>9769</td>\n",
       "      <td>9769</td>\n",
       "      <td>9769</td>\n",
       "      <td>9769</td>\n",
       "      <td>9769</td>\n",
       "      <td>9769</td>\n",
       "      <td>9769</td>\n",
       "      <td>0</td>\n",
       "      <td>9769</td>\n",
       "      <td>9769</td>\n",
       "    </tr>\n",
       "  </tbody>\n",
       "</table>\n",
       "</div>"
      ],
      "text/plain": [
       "            peptide     A1     A2     A3     B1     B2     B3  allele  binder  \\\n",
       "input_type                                                                      \n",
       "pep           13639  13639  13639  13639  13639  13639  13639       0       0   \n",
       "tcr           15957  15957  15957  15957  15957  15957  15957       0       0   \n",
       "tcr_pep        9769   9769   9769   9769   9769   9769   9769    9769    9769   \n",
       "\n",
       "            target  partition     db  \n",
       "input_type                            \n",
       "pep          13639          0  13639  \n",
       "tcr              0          0  15957  \n",
       "tcr_pep          0       9769   9769  "
      ]
     },
     "execution_count": 153,
     "metadata": {},
     "output_type": "execute_result"
    }
   ],
   "source": [
    "multimodal_df.query('db!=\"human\"').groupby('input_type').count()"
   ]
  },
  {
   "cell_type": "code",
   "execution_count": 154,
   "id": "f29857be-0e31-4ee4-84e5-a06c508ed05e",
   "metadata": {},
   "outputs": [
    {
     "data": {
      "text/plain": [
       "(147723, 39365)"
      ]
     },
     "execution_count": 154,
     "metadata": {},
     "output_type": "execute_result"
    }
   ],
   "source": [
    "len(multimodal_df), len(multimodal_df.query('db!=\"human\"'))"
   ]
  },
  {
   "cell_type": "markdown",
   "id": "a422a046-7d5d-4ace-844a-37079a0382a2",
   "metadata": {},
   "source": [
    "# Define supervision level as % paired data vs total & deal with batching ?"
   ]
  },
  {
   "cell_type": "code",
   "execution_count": 160,
   "id": "f72236ed-ff8f-429a-805d-b5633019da5f",
   "metadata": {},
   "outputs": [
    {
     "data": {
      "text/plain": [
       "array(['tcr_pep', 'pep', 'tcr'], dtype=object)"
      ]
     },
     "execution_count": 160,
     "metadata": {},
     "output_type": "execute_result"
    }
   ],
   "source": [
    "multimodal_df.input_type.unique()"
   ]
  },
  {
   "cell_type": "code",
   "execution_count": 156,
   "id": "817f977e-4ee8-4e65-8e62-3388b4634d68",
   "metadata": {},
   "outputs": [
    {
     "data": {
      "text/plain": [
       "(tensor([ 4150, 15840, 14944,  ...,  1427, 13464,  7171]), 10000)"
      ]
     },
     "execution_count": 156,
     "metadata": {},
     "output_type": "execute_result"
    }
   ],
   "source": [
    "data_size = 16000\n",
    "n_sample = 10000\n",
    "\n",
    "indices = torch.randperm(data_size)\n",
    "sampled_indices = indices[:n_sample]\n",
    "sampled_indices, len(sampled_indices.unique())"
   ]
  },
  {
   "cell_type": "code",
   "execution_count": 163,
   "id": "0b59037d-ec81-44cf-b1be-5fb2d1e68aea",
   "metadata": {},
   "outputs": [
    {
     "data": {
      "text/plain": [
       "torch.Size([100, 60, 20])"
      ]
     },
     "execution_count": 163,
     "metadata": {},
     "output_type": "execute_result"
    }
   ],
   "source": [
    "x = torch.empty([100, 78, 20])\n",
    "x[:, :60, : ].shape"
   ]
  },
  {
   "cell_type": "code",
   "execution_count": 186,
   "id": "8277be1e-9e89-4fe4-b348-1fc895c1b66a",
   "metadata": {},
   "outputs": [
    {
     "data": {
      "text/plain": [
       "tensor([78, 90, 84,  8, 69, 55, 67, 48, 64, 15])"
      ]
     },
     "execution_count": 186,
     "metadata": {},
     "output_type": "execute_result"
    }
   ],
   "source": [
    "torch.randperm(100)[:10]"
   ]
  },
  {
   "cell_type": "code",
   "execution_count": 203,
   "id": "65f10034-23bd-4400-a6f1-eea36d92d1c8",
   "metadata": {},
   "outputs": [],
   "source": [
    "from src.datasets import MultimodalPepTCRDataset\n",
    "from torch.utils.data import SequentialSampler\n",
    "ds = MultimodalPepTCRDataset(multimodal_df.query('db!=\"human\"'))\n",
    "dl = ds.get_dataloader(1024, SequentialSampler)\n",
    "for b in dl:\n",
    "    pass"
   ]
  },
  {
   "cell_type": "code",
   "execution_count": 206,
   "id": "00b06043-67c9-4a5b-b233-3a49905d29b9",
   "metadata": {
    "scrolled": true
   },
   "outputs": [
    {
     "data": {
      "text/plain": [
       "tensor([[[  0.,  -1.,   0.,  ...,  -3.,  -2.,   0.],\n",
       "         [ -1.,  -4.,  -3.,  ...,  -3.,  -1.,   4.],\n",
       "         [  1.,  -1.,   1.,  ...,  -4.,  -2.,  -2.],\n",
       "         ...,\n",
       "         [-20., -20., -20.,  ..., -20., -20., -20.],\n",
       "         [-20., -20., -20.,  ..., -20., -20., -20.],\n",
       "         [-20., -20., -20.,  ..., -20., -20., -20.]],\n",
       "\n",
       "        [[  0.,  -1.,   0.,  ...,  -3.,  -2.,   0.],\n",
       "         [  1.,  -1.,   1.,  ...,  -4.,  -2.,  -2.],\n",
       "         [  0.,  -3.,   0.,  ...,  -3.,  -3.,  -4.],\n",
       "         ...,\n",
       "         [-20., -20., -20.,  ..., -20., -20., -20.],\n",
       "         [-20., -20., -20.,  ..., -20., -20., -20.],\n",
       "         [-20., -20., -20.,  ..., -20., -20., -20.]],\n",
       "\n",
       "        [[  0.,  -1.,   0.,  ...,  -3.,  -2.,   0.],\n",
       "         [  1.,  -1.,   1.,  ...,  -4.,  -2.,  -2.],\n",
       "         [ -1.,   0.,   0.,  ...,  -3.,  -2.,  -3.],\n",
       "         ...,\n",
       "         [-20., -20., -20.,  ..., -20., -20., -20.],\n",
       "         [-20., -20., -20.,  ..., -20., -20., -20.],\n",
       "         [-20., -20., -20.,  ..., -20., -20., -20.]],\n",
       "\n",
       "        ...,\n",
       "\n",
       "        [[  0.,  -1.,   0.,  ...,  -3.,  -2.,   0.],\n",
       "         [  0.,  -1.,   0.,  ...,  -3.,  -2.,   0.],\n",
       "         [ -2.,  -3.,  -4.,  ...,  -2.,  -1.,   1.],\n",
       "         ...,\n",
       "         [-20., -20., -20.,  ..., -20., -20., -20.],\n",
       "         [-20., -20., -20.,  ..., -20., -20., -20.],\n",
       "         [-20., -20., -20.,  ..., -20., -20., -20.]],\n",
       "\n",
       "        [[ -2.,  -2.,   2.,  ...,  -5.,  -3.,  -4.],\n",
       "         [  1.,  -1.,   1.,  ...,  -4.,  -2.,  -2.],\n",
       "         [  5.,  -2.,  -1.,  ...,  -3.,  -2.,   0.],\n",
       "         ...,\n",
       "         [-20., -20., -20.,  ..., -20., -20., -20.],\n",
       "         [-20., -20., -20.,  ..., -20., -20., -20.],\n",
       "         [-20., -20., -20.,  ..., -20., -20., -20.]],\n",
       "\n",
       "        [[  0.,  -1.,   0.,  ...,  -3.,  -2.,   0.],\n",
       "         [  1.,  -1.,   1.,  ...,  -4.,  -2.,  -2.],\n",
       "         [ -1.,  -4.,  -3.,  ...,  -3.,  -1.,   4.],\n",
       "         ...,\n",
       "         [-20., -20., -20.,  ..., -20., -20., -20.],\n",
       "         [-20., -20., -20.,  ..., -20., -20., -20.],\n",
       "         [-20., -20., -20.,  ..., -20., -20., -20.]]])"
      ]
     },
     "execution_count": 206,
     "metadata": {},
     "output_type": "execute_result"
    }
   ],
   "source": [
    "b[0][:10]"
   ]
  },
  {
   "cell_type": "code",
   "execution_count": 195,
   "id": "67634e10-eeed-4055-abab-d5f793200d08",
   "metadata": {},
   "outputs": [
    {
     "data": {
      "text/plain": [
       "tensor([15875,  5716, 10470,  ...,  9178, 14856,  1519])"
      ]
     },
     "execution_count": 195,
     "metadata": {},
     "output_type": "execute_result"
    }
   ],
   "source": [
    "ds.tcr_indices"
   ]
  },
  {
   "cell_type": "code",
   "execution_count": 207,
   "id": "50ebf093-86cc-4362-aabb-41887e46ca76",
   "metadata": {},
   "outputs": [],
   "source": [
    "ds.increment_counter()\n",
    "ds.tcr_indices\n",
    "for b1 in dl:\n",
    "    pass"
   ]
  },
  {
   "cell_type": "code",
   "execution_count": 209,
   "id": "57242501-7cb9-48d4-a047-070424a0c78a",
   "metadata": {},
   "outputs": [
    {
     "data": {
      "text/plain": [
       "tensor([[[ -2.,  -2.,   2.,  ...,  -5.,  -3.,  -4.],\n",
       "         [  1.,  -1.,   1.,  ...,  -4.,  -2.,  -2.],\n",
       "         [  5.,  -2.,  -1.,  ...,  -3.,  -2.,   0.],\n",
       "         ...,\n",
       "         [-20., -20., -20.,  ..., -20., -20., -20.],\n",
       "         [-20., -20., -20.,  ..., -20., -20., -20.],\n",
       "         [-20., -20., -20.,  ..., -20., -20., -20.]],\n",
       "\n",
       "        [[  0.,  -3.,  -3.,  ...,  -3.,  -1.,   5.],\n",
       "         [  1.,  -1.,   1.,  ...,  -4.,  -2.,  -2.],\n",
       "         [  0.,  -3.,   0.,  ...,  -3.,  -3.,  -4.],\n",
       "         ...,\n",
       "         [-20., -20., -20.,  ..., -20., -20., -20.],\n",
       "         [-20., -20., -20.,  ..., -20., -20., -20.],\n",
       "         [-20., -20., -20.,  ..., -20., -20., -20.]],\n",
       "\n",
       "        [[  0.,  -1.,   0.,  ...,  -3.,  -2.,   0.],\n",
       "         [ -2.,   7.,  -1.,  ...,  -3.,  -1.,  -3.],\n",
       "         [ -2.,  -2.,   2.,  ...,  -5.,  -3.,  -4.],\n",
       "         ...,\n",
       "         [-20., -20., -20.,  ..., -20., -20., -20.],\n",
       "         [-20., -20., -20.,  ..., -20., -20., -20.],\n",
       "         [-20., -20., -20.,  ..., -20., -20., -20.]],\n",
       "\n",
       "        ...,\n",
       "\n",
       "        [[  0.,  -1.,   0.,  ...,  -3.,  -2.,   0.],\n",
       "         [  0.,  -1.,   0.,  ...,  -3.,  -2.,   0.],\n",
       "         [  1.,  -1.,   1.,  ...,  -4.,  -2.,  -2.],\n",
       "         ...,\n",
       "         [-20., -20., -20.,  ..., -20., -20., -20.],\n",
       "         [-20., -20., -20.,  ..., -20., -20., -20.],\n",
       "         [-20., -20., -20.,  ..., -20., -20., -20.]],\n",
       "\n",
       "        [[ -1.,  -1.,   7.,  ...,  -4.,  -2.,  -3.],\n",
       "         [  1.,  -1.,   1.,  ...,  -4.,  -2.,  -2.],\n",
       "         [  5.,  -2.,  -1.,  ...,  -3.,  -2.,   0.],\n",
       "         ...,\n",
       "         [-20., -20., -20.,  ..., -20., -20., -20.],\n",
       "         [-20., -20., -20.,  ..., -20., -20., -20.],\n",
       "         [-20., -20., -20.,  ..., -20., -20., -20.]],\n",
       "\n",
       "        [[  0.,  -1.,   0.,  ...,  -3.,  -2.,   0.],\n",
       "         [  1.,  -1.,   1.,  ...,  -4.,  -2.,  -2.],\n",
       "         [  0.,  -3.,   0.,  ...,  -3.,  -3.,  -4.],\n",
       "         ...,\n",
       "         [-20., -20., -20.,  ..., -20., -20., -20.],\n",
       "         [-20., -20., -20.,  ..., -20., -20., -20.],\n",
       "         [-20., -20., -20.,  ..., -20., -20., -20.]]])"
      ]
     },
     "execution_count": 209,
     "metadata": {},
     "output_type": "execute_result"
    }
   ],
   "source": [
    "b1[0][:10]"
   ]
  }
 ],
 "metadata": {
  "kernelspec": {
   "display_name": "Python [conda env:pynn] *",
   "language": "python",
   "name": "conda-env-pynn-py"
  },
  "language_info": {
   "codemirror_mode": {
    "name": "ipython",
    "version": 3
   },
   "file_extension": ".py",
   "mimetype": "text/x-python",
   "name": "python",
   "nbconvert_exporter": "python",
   "pygments_lexer": "ipython3",
   "version": "3.11.5"
  }
 },
 "nbformat": 4,
 "nbformat_minor": 5
}
