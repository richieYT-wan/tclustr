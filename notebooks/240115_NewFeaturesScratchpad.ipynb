{
 "cells": [
  {
   "cell_type": "code",
   "execution_count": 3,
   "id": "8d7303d2-1cc5-4324-b9af-1a6f8f1a0af7",
   "metadata": {},
   "outputs": [
    {
     "name": "stdout",
     "output_type": "stream",
     "text": [
      "The autoreload extension is already loaded. To reload it, use:\n",
      "  %reload_ext autoreload\n"
     ]
    },
    {
     "data": {
      "image/png": "[encoded data removed]",
      "text/plain": [
       "<Figure size 1.8x1.8 with 1 Axes>"
      ]
     },
     "metadata": {},
     "output_type": "display_data"
    }
   ],
   "source": [
    "%load_ext autoreload\n",
    "%autoreload 2\n",
    "\n",
    "import pandas as pd\n",
    "import numpy as np\n",
    "import sklearn\n",
    "import matplotlib.pyplot as plt\n",
    "import matplotlib as mpl\n",
    "import seaborn as sns\n",
    "f,a = plt.subplots(1,1,figsize=(1e-2, 1e-2))\n",
    "mpl.rcParams['figure.dpi'] = 150\n",
    "sns.set_style('darkgrid')\n",
    "import os,sys\n",
    "module_path = os.path.abspath(os.path.join('..'))\n",
    "if module_path not in sys.path:\n",
    "    sys.path.append(module_path)\n",
    "import warnings\n",
    "warnings.filterwarnings(\"ignore\")\n",
    "import glob\n",
    "from tqdm.auto import tqdm\n",
    "from datetime import datetime as dt\n",
    "from src.utils import mkdirs, convert_path, pkl_dump, pkl_load, add_median_labels, get_palette\n",
    "from src.data_processing import BL62_VALUES, BL62FREQ_VALUES, HLAS, AA_KEYS\n",
    "from src.utils import pkl_load, pkl_dump, get_palette\n",
    "from src.torch_utils import save_checkpoint, load_checkpoint\n",
    "from src.train_eval import predict_model, train_eval_loops\n",
    "from src.models import FullTCRVAE\n",
    "from src.metrics import reconstruction_accuracy, VAELoss, PairedVAELoss, TripletLoss, CombinedVAELoss, compute_cosine_distance\n",
    "from src.datasets import TCRSpecificDataset, FullTCRDataset\n",
    "import torch\n",
    "from torch import optim\n",
    "from torch.utils.data import RandomSampler, SequentialSampler\n",
    "from torch import nn\n",
    "from torch.nn import functional as F\n",
    "mpl.rcParams['figure.dpi'] = 180"
   ]
  },
  {
   "cell_type": "code",
   "execution_count": 2,
   "id": "aabd11d3-ece8-490e-8b57-0d8490a1ec2c",
   "metadata": {},
   "outputs": [],
   "source": [
    "pos_df = pd.read_csv('../data/filtered/230927_nettcr_positives_only.csv')\n",
    "mix_df = pd.read_csv('../data/filtered/231205_nettcr_old_26pep_with_swaps.csv')"
   ]
  },
  {
   "cell_type": "markdown",
   "id": "51cbcba5-5db1-43d5-ac0a-3c1d318615aa",
   "metadata": {},
   "source": [
    "# New dataset"
   ]
  },
  {
   "cell_type": "markdown",
   "id": "680efb42-81f8-4190-a15d-8e4709a2dd5d",
   "metadata": {},
   "source": [
    "## Adding Peptide sequence"
   ]
  },
  {
   "cell_type": "code",
   "execution_count": null,
   "id": "b88227ea-d9c4-45e1-8118-17a84f03a3fd",
   "metadata": {},
   "outputs": [],
   "source": [
    "# Here, best approach seems to be just modifying FullTCRDataset for now "
   ]
  },
  {
   "cell_type": "markdown",
   "id": "2f2f71d3-a6b4-4af1-996d-27dce2d84f58",
   "metadata": {},
   "source": [
    "## Adding positional and/or length encoding"
   ]
  },
  {
   "cell_type": "markdown",
   "id": "b4277580-fede-49e3-bf2c-186d456c790f",
   "metadata": {},
   "source": [
    "## Handling unlabelled data (?)"
   ]
  },
  {
   "cell_type": "markdown",
   "id": "a12222d1-e26c-417a-94d0-02a8fec95843",
   "metadata": {},
   "source": [
    "## Custom batching to group datapoints with same peptide specificity? "
   ]
  }
 ],
 "metadata": {
  "kernelspec": {
   "display_name": "Python [conda env:pynn] *",
   "language": "python",
   "name": "conda-env-pynn-py"
  },
  "language_info": {
   "codemirror_mode": {
    "name": "ipython",
    "version": 3
   },
   "file_extension": ".py",
   "mimetype": "text/x-python",
   "name": "python",
   "nbconvert_exporter": "python",
   "pygments_lexer": "ipython3",
   "version": "3.11.5"
  }
 },
 "nbformat": 4,
 "nbformat_minor": 5
}
