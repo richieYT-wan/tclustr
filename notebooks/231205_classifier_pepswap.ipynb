{
 "cells": [
  {
   "cell_type": "code",
   "execution_count": 1,
   "id": "a5206183-0658-4f0a-a2bc-784e8ba2999e",
   "metadata": {},
   "outputs": [
    {
     "data": {
      "image/png": "[encoded data removed]",
      "text/plain": [
       "<Figure size 1x1 with 1 Axes>"
      ]
     },
     "metadata": {},
     "output_type": "display_data"
    }
   ],
   "source": [
    "%load_ext autoreload\n",
    "%autoreload 2\n",
    "\n",
    "import pandas as pd\n",
    "import numpy as np\n",
    "import sklearn\n",
    "import matplotlib.pyplot as plt\n",
    "import matplotlib as mpl\n",
    "import seaborn as sns\n",
    "f,a = plt.subplots(1,1,figsize=(1e-2, 1e-2))\n",
    "mpl.rcParams['figure.dpi'] = 180\n",
    "sns.set_style('darkgrid')\n",
    "import os,sys\n",
    "module_path = os.path.abspath(os.path.join('..'))\n",
    "if module_path not in sys.path:\n",
    "    sys.path.append(module_path)\n",
    "import warnings\n",
    "warnings.filterwarnings(\"ignore\")\n",
    "\n",
    "from tqdm.auto import tqdm\n",
    "from datetime import datetime as dt\n",
    "from src.utils import mkdirs, convert_path, pkl_dump, pkl_load, add_median_labels, get_palette\n",
    "from src.data_processing import BL62_VALUES, BL62FREQ_VALUES, HLAS, AA_KEYS\n",
    "from src.utils import pkl_load, pkl_dump, get_palette\n",
    "from src.torch_utils import save_checkpoint, load_checkpoint\n",
    "from src.train_eval import predict_model, train_eval_loops\n",
    "from src.models import FullTCRVAE\n",
    "from src.metrics import reconstruction_accuracy, VAELoss, PairedVAELoss, TripletLoss, CombinedVAELoss, compute_cosine_distance\n",
    "from src.datasets import TCRSpecificDataset\n",
    "import torch\n",
    "from torch import optim\n",
    "from torch.utils.data import RandomSampler, SequentialSampler\n",
    "from torch import nn\n",
    "from torch.nn import functional as F\n",
    "mpl.rcParams['figure.dpi'] = 180"
   ]
  },
  {
   "cell_type": "code",
   "execution_count": 4,
   "id": "48a16dd6-97d0-4a81-a6d0-b926e06e15c3",
   "metadata": {},
   "outputs": [],
   "source": [
    "pos_df = pd.read_csv('../data/filtered/230927_nettcr_positives_only.csv')"
   ]
  },
  {
   "cell_type": "code",
   "execution_count": 14,
   "id": "509fd475-369b-4c8e-94af-6ad74d5c2dd8",
   "metadata": {},
   "outputs": [],
   "source": [
    "# This is the swapped dataset\n",
    "b = pd.read_csv('../data/NetTCR/nettcr_train_mathias_with_swaps.csv')\n",
    "b.to_csv('../data/filtered/231205_nettcr_old_26pep_with_swaps.csv', index=False)"
   ]
  },
  {
   "cell_type": "code",
   "execution_count": 2,
   "id": "6fe114f4-fbc4-459c-b2ba-dbde35c0747b",
   "metadata": {},
   "outputs": [],
   "source": [
    "def encode_cat(sequence, max_len):\n",
    "    return F.pad(torch.tensor([CHAR_TO_INT[x] for x in sequence]), (0, max_len-(len(sequence))), value=-1)\n",
    "\n",
    "def batch_encode_cat(sequences, max_len):\n",
    "    return torch.stack([encode_cat(x, max_len) for x in sequences])"
   ]
  },
  {
   "cell_type": "code",
   "execution_count": 4,
   "id": "38f17041-892b-433f-a149-65e9aeaabd15",
   "metadata": {
    "scrolled": true
   },
   "outputs": [
    {
     "name": "stdout",
     "output_type": "stream",
     "text": [
      "Reloading best model:\n",
      "Best epoch: 24959\n",
      "total: 0.2867068297915406\n",
      "reconstruction: 0.2530093719624275\n",
      "kld: 0.006973478481103337\n",
      "triplet: 0.02672399799200579\n",
      "seq_accuracy: 0.9099540710449219\n",
      "v_accuracy: 0\n",
      "j_accuracy: 0\n"
     ]
    }
   ],
   "source": [
    "from src.data_processing import encode_batch, CHAR_TO_INT\n",
    "from src.models import FullTCRVAE\n",
    "from src.datasets import TCRpMHCDataset, TCRSpecificDataset\n",
    "df = pd.read_csv('../data/filtered/231205_nettcr_old_26pep_with_swaps.csv')\n",
    "model = FullTCRVAE(0, 0, 22, 0, 0, 23, 'BL50LO', hidden_dim=128, latent_dim=64)\n",
    "model = load_checkpoint(model, '../output/TripletTest/231108_TripletCosine_A3B3_margin_Auto_25k_epochs_larger_model_7VzZ5/231108_TripletCosine_A3B3_margin01_25k_epochs_larger_model_KFold_0_231130_2321_5PXfp/checkpoint_best_fold00_kcv_230927_nettcr_positives_only_f00_231108_TripletCosine_A3B3_margin_Auto_25k_epochs_larger_model_KFold_0_231130_2321_eLRQs.pt')\n",
    "model.eval()\n",
    "df['set'] = df['partition'].apply(lambda x: 'valid' if x==0 else 'train')\n",
    "\n",
    "dataset = TCRSpecificDataset(df, 0, 0, 22, 0, 0, 23, 'BL50LO', \n",
    "                              -20,'A1', 'A2', 'A3', 'B1', 'B2', 'B3')\n",
    "\n",
    "with torch.no_grad():\n",
    "    z_embed = model.embed(dataset.x)\n",
    "encoded_peps = batch_encode_cat(df['peptide'], 12)"
   ]
  },
  {
   "cell_type": "code",
   "execution_count": 5,
   "id": "00c170bb-030c-4df5-ac12-5fbd76e701e7",
   "metadata": {},
   "outputs": [
    {
     "data": {
      "text/plain": [
       "(tensor([0.7376, 0.8379, 0.4941, 0.4256, 0.0361, 0.0307, 0.0446, 0.1592, 0.2854,\n",
       "         0.4761]),\n",
       " tensor([ 1.0333,  1.6430, -0.0234, -0.2998, -3.2851, -3.4526, -3.0650, -1.6641,\n",
       "         -0.9176, -0.0956]))"
      ]
     },
     "execution_count": 5,
     "metadata": {},
     "output_type": "execute_result"
    }
   ],
   "source": [
    "z=torch.normal(torch.tensor([-0.05]*10), torch.tensor([2]*10))\n",
    "F.sigmoid(z), z"
   ]
  },
  {
   "cell_type": "code",
   "execution_count": 8,
   "id": "01ad6ba9-ca16-4da9-b0f9-da90133b2841",
   "metadata": {},
   "outputs": [
    {
     "name": "stdout",
     "output_type": "stream",
     "text": [
      "Reloading best model:\n",
      "Best epoch: 24959\n",
      "total: 0.2867068297915406\n",
      "reconstruction: 0.2530093719624275\n",
      "kld: 0.006973478481103337\n",
      "triplet: 0.02672399799200579\n",
      "seq_accuracy: 0.9099540710449219\n",
      "v_accuracy: 0\n",
      "j_accuracy: 0\n"
     ]
    }
   ],
   "source": [
    "from src.torch_utils import load_model_full\n",
    "ckpt = '../output/TripletTest/231108_TripletCosine_A3B3_margin_Auto_25k_epochs_larger_model_7VzZ5/231108_TripletCosine_A3B3_margin01_25k_epochs_larger_model_KFold_0_231130_2321_5PXfp/checkpoint_best_fold00_kcv_230927_nettcr_positives_only_f00_231108_TripletCosine_A3B3_margin_Auto_25k_epochs_larger_model_KFold_0_231130_2321_eLRQs.pt'\n",
    "js = '../output/TripletTest/231108_TripletCosine_A3B3_margin_Auto_25k_epochs_larger_model_7VzZ5/231108_TripletCosine_A3B3_margin01_25k_epochs_larger_model_KFold_0_231130_2321_5PXfp/checkpoint_best_fold00_kcv_230927_nettcr_positives_only_f00_231108_TripletCosine_A3B3_margin_Auto_25k_epochs_larger_model_KFold_0_231130_2321_eLRQs_JSON_kwargs.json'\n",
    "model = load_model_full(ckpt, js)\n"
   ]
  },
  {
   "cell_type": "code",
   "execution_count": 13,
   "id": "b8a0ceb4-b93b-4357-8769-2ee6ee16dbfa",
   "metadata": {},
   "outputs": [],
   "source": [
    "args = {'folder': '../output/TripletTest/231108_TripletCosine_A3B3_margin_Auto_25k_epochs_larger_model_7VzZ5/231108_TripletCosine_A3B3_margin01_25k_epochs_larger_model_KFold_0_231130_2321_5PXfp/'}\n",
    "checkpoint_file = next(filter(lambda x: x.startswith('checkpoint') and x.endswith('.pt'), os.listdir(args['folder'])))\n",
    "json_file = next(filter(lambda x: x.startswith('checkpoint') and x.endswith('.json'), os.listdir(args['folder'])))"
   ]
  },
  {
   "cell_type": "code",
   "execution_count": 15,
   "id": "5e7cf825-d83e-49e3-86ae-53f271e4c309",
   "metadata": {},
   "outputs": [
    {
     "data": {
      "text/plain": [
       "('checkpoint_best_fold00_kcv_230927_nettcr_positives_only_f00_231108_TripletCosine_A3B3_margin_Auto_25k_epochs_larger_model_KFold_0_231130_2321_eLRQs.pt',\n",
       " 'checkpoint_best_fold00_kcv_230927_nettcr_positives_only_f00_231108_TripletCosine_A3B3_margin_Auto_25k_epochs_larger_model_KFold_0_231130_2321_eLRQs_JSON_kwargs.json')"
      ]
     },
     "execution_count": 15,
     "metadata": {},
     "output_type": "execute_result"
    }
   ],
   "source": [
    "checkpoint_file,  json_file"
   ]
  },
  {
   "cell_type": "code",
   "execution_count": 11,
   "id": "6d229869-4733-4508-bb04-0ab924a1b968",
   "metadata": {},
   "outputs": [],
   "source": [
    "n_layers=1\n",
    "for _ in range(n_layers-1):\n",
    "    print('xd')"
   ]
  },
  {
   "cell_type": "code",
   "execution_count": 9,
   "id": "418140b1-f184-4912-a629-997334dc1952",
   "metadata": {},
   "outputs": [
    {
     "data": {
      "text/plain": [
       "FullTCRVAE(\n",
       "  (encoder): Sequential(\n",
       "    (0): Linear(in_features=900, out_features=450, bias=True)\n",
       "    (1): SELU()\n",
       "    (2): Linear(in_features=450, out_features=128, bias=True)\n",
       "    (3): SELU()\n",
       "  )\n",
       "  (encoder_mu): Linear(in_features=128, out_features=64, bias=True)\n",
       "  (encoder_logvar): Linear(in_features=128, out_features=64, bias=True)\n",
       "  (decoder): Sequential(\n",
       "    (0): Linear(in_features=64, out_features=128, bias=True)\n",
       "    (1): SELU()\n",
       "    (2): Linear(in_features=128, out_features=128, bias=True)\n",
       "    (3): SELU()\n",
       "  )\n",
       "  (decoder_sequence): Sequential(\n",
       "    (0): Linear(in_features=128, out_features=450, bias=True)\n",
       "    (1): SELU()\n",
       "    (2): Linear(in_features=450, out_features=900, bias=True)\n",
       "  )\n",
       ")"
      ]
     },
     "execution_count": 9,
     "metadata": {},
     "output_type": "execute_result"
    }
   ],
   "source": [
    "model"
   ]
  },
  {
   "cell_type": "code",
   "execution_count": null,
   "id": "ce31f738-9229-46ee-b176-a51380d98df5",
   "metadata": {},
   "outputs": [],
   "source": []
  }
 ],
 "metadata": {
  "kernelspec": {
   "display_name": "Python [conda env:pynn] *",
   "language": "python",
   "name": "conda-env-pynn-py"
  },
  "language_info": {
   "codemirror_mode": {
    "name": "ipython",
    "version": 3
   },
   "file_extension": ".py",
   "mimetype": "text/x-python",
   "name": "python",
   "nbconvert_exporter": "python",
   "pygments_lexer": "ipython3",
   "version": "3.11.5"
  }
 },
 "nbformat": 4,
 "nbformat_minor": 5
}
