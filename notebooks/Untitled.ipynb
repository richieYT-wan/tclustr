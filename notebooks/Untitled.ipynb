{
 "cells": [
  {
   "cell_type": "code",
   "execution_count": 1,
   "id": "fcc116e5-6325-4434-86d5-fb33f9124ed2",
   "metadata": {},
   "outputs": [
    {
     "data": {
      "image/png": "[encoded data removed]",
      "text/plain": [
       "<Figure size 1x1 with 1 Axes>"
      ]
     },
     "metadata": {},
     "output_type": "display_data"
    }
   ],
   "source": [
    "import pandas as pd\n",
    "import numpy as np\n",
    "import sklearn\n",
    "import matplotlib.pyplot as plt\n",
    "import matplotlib as mpl\n",
    "import seaborn as sns\n",
    "f,a = plt.subplots(1,1,figsize=(1e-2, 1e-2))\n",
    "mpl.rcParams['figure.dpi'] = 150\n",
    "sns.set_style('darkgrid')\n",
    "import os,sys\n",
    "module_path = os.path.abspath(os.path.join('..'))\n",
    "if module_path not in sys.path:\n",
    "    sys.path.append(module_path)\n",
    "import warnings\n",
    "warnings.filterwarnings(\"ignore\")\n",
    "import glob\n",
    "from tqdm.auto import tqdm\n",
    "from datetime import datetime as dt\n",
    "\n",
    "# Load models together\n",
    "from src.torch_utils import load_model_full\n",
    "from src.multimodal_metrics import BSSVAELoss\n",
    "from src.utils import get_class_initcode_keys\n",
    "from src.multimodal_models import BSSVAE\n",
    "from src.multimodal_train_eval import predict_multimodal, multimodal_train_eval_loops, train_multimodal_step, eval_multimodal_step\n",
    "from src.multimodal_datasets import MultimodalPepTCRDataset, MultimodalCLFLatentDataset\n",
    "from src.datasets import TwoStageTCRpMHCDataset, FullTCRDataset, LatentTCRpMHCDataset, TCRSpecificDataset\n",
    "from torch.utils.data import SequentialSampler\n",
    "from src.datasets import *\n",
    "from src.models import *\n",
    "%load_ext autoreload\n",
    "%autoreload 2\n",
    "    \n",
    "from src.utils import mkdirs, convert_path, pkl_dump, pkl_load, add_median_labels, get_palette\n",
    "from src.data_processing import BL62_VALUES, BL62FREQ_VALUES, HLAS, AA_KEYS\n",
    "from src.utils import pkl_load, pkl_dump, get_palette\n",
    "from src.torch_utils import save_checkpoint, load_checkpoint\n",
    "from src.train_eval import predict_model, train_eval_loops\n",
    "from src.models import FullTCRVAE\n",
    "from src.metrics import reconstruction_accuracy, VAELoss, TripletLoss, CombinedVAELoss, compute_cosine_distance\n",
    "from src.datasets import TCRSpecificDataset, FullTCRDataset\n",
    "import torch\n",
    "from torch import optim\n",
    "from torch.utils.data import RandomSampler, SequentialSampler\n",
    "from torch import nn\n",
    "from torch.nn import functional as F\n",
    "mpl.rcParams['figure.dpi'] = 180\n",
    "\n",
    "\n",
    "\n",
    "def get_model(folder, **kwargs):\n",
    "    pt = glob.glob(folder+'/*checkpoint_best*.pt')\n",
    "    pt = [x for x in pt if 'interval' not in x][0]\n",
    "    js = glob.glob(folder+'/*checkpoint*.json')[0]\n",
    "    model = load_model_full(pt, js, **kwargs)\n",
    "    return model\n",
    "    "
   ]
  },
  {
   "cell_type": "code",
   "execution_count": 12,
   "id": "9aa1267b-dc4c-4785-a374-a9ac78b53c7a",
   "metadata": {},
   "outputs": [
    {
     "name": "stdout",
     "output_type": "stream",
     "text": [
      "Reloading best model:\n",
      "epoch: 669\n",
      "total: 0.24167719816201078\n",
      "recon_marg: 0.058951238294695785\n",
      "recon_joint: 0.06029103156074707\n",
      "kld_marg: 2.8083470404482448e-05\n",
      "kld_joint: 0.12240684622103679\n",
      "tcr_marg_seq_accuracy: 0.48559725284576416\n",
      "tcr_joint_seq_accuracy: 0.47769173979759216\n",
      "pep_joint_seq_accuracy: 0.7373113036155701\n",
      "pep_marg_seq_accuracy: 0.7518730163574219\n",
      "wmean_seq_accuracy: 0.5605287954211235\n"
     ]
    }
   ],
   "source": [
    "m = get_model('../output/240404_FirstBestLast_comparison/mmvaes/240325_1327_BSSVAE_addlencTrue_addldecTrue_bnTrue_LONG25kepochs_wd1e-6_lwseq2_nhtcr256_nhpep128_nl100_KFold_0_IzcVOH/',\n",
    "             map_location='cpu')"
   ]
  },
  {
   "cell_type": "code",
   "execution_count": 13,
   "id": "3d107d71-608b-4fec-a957-12853716220d",
   "metadata": {},
   "outputs": [
    {
     "data": {
      "text/plain": [
       "Parameter containing:\n",
       "tensor([[-0.0234, -0.0240, -0.0243,  ..., -0.0913,  0.0766, -0.0122],\n",
       "        [ 0.0262, -0.0297, -0.0392,  ..., -0.0189,  0.0290,  0.0296],\n",
       "        [ 0.0534,  0.0113,  0.0441,  ..., -0.0369,  0.0056,  0.0679],\n",
       "        ...,\n",
       "        [-0.0130, -0.0035, -0.0013,  ..., -0.0443, -0.0467,  0.0410],\n",
       "        [ 0.0399, -0.0081, -0.0445,  ..., -0.0227,  0.0327, -0.0109],\n",
       "        [-0.0134, -0.0050,  0.0271,  ...,  0.0510,  0.0298,  0.0463]],\n",
       "       requires_grad=True)"
      ]
     },
     "execution_count": 13,
     "metadata": {},
     "output_type": "execute_result"
    }
   ],
   "source": [
    "m.marg_tcr_encoder.fc_mu.weight"
   ]
  }
 ],
 "metadata": {
  "kernelspec": {
   "display_name": "Python [conda env:pynn] *",
   "language": "python",
   "name": "conda-env-pynn-py"
  },
  "language_info": {
   "codemirror_mode": {
    "name": "ipython",
    "version": 3
   },
   "file_extension": ".py",
   "mimetype": "text/x-python",
   "name": "python",
   "nbconvert_exporter": "python",
   "pygments_lexer": "ipython3",
   "version": "3.11.5"
  }
 },
 "nbformat": 4,
 "nbformat_minor": 5
}
