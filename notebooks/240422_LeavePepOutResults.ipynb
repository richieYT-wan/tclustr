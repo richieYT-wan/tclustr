{
 "cells": [
  {
   "cell_type": "code",
   "execution_count": 3,
   "id": "1092148d-efb2-4a73-a9f6-594ca99290be",
   "metadata": {},
   "outputs": [
    {
     "data": {
      "image/png": "[encoded data removed]",
      "text/plain": [
       "<Figure size 1x1 with 1 Axes>"
      ]
     },
     "metadata": {},
     "output_type": "display_data"
    }
   ],
   "source": [
    "import pandas as pd\n",
    "import numpy as np\n",
    "import sklearn\n",
    "import matplotlib.pyplot as plt\n",
    "import matplotlib as mpl\n",
    "import seaborn as sns\n",
    "f,a = plt.subplots(1,1,figsize=(1e-2, 1e-2))\n",
    "mpl.rcParams['figure.dpi'] = 150\n",
    "sns.set_style('darkgrid')\n",
    "import os,sys\n",
    "module_path = os.path.abspath(os.path.join('..'))\n",
    "if module_path not in sys.path:\n",
    "    sys.path.append(module_path)\n",
    "import warnings\n",
    "warnings.filterwarnings(\"ignore\")\n",
    "import glob\n",
    "from tqdm.auto import tqdm\n",
    "from datetime import datetime as dt\n",
    "\n",
    "# Load models together\n",
    "from src.torch_utils import load_model_full\n",
    "from src.utils import get_class_initcode_keys\n",
    "from torch.utils.data import SequentialSampler\n",
    "from src.datasets import *\n",
    "from src.models import *\n",
    "%load_ext autoreload\n",
    "%autoreload 2\n",
    "    \n",
    "from src.utils import mkdirs, convert_path, pkl_dump, pkl_load, add_median_labels, get_palette\n",
    "from src.data_processing import BL62_VALUES, BL62FREQ_VALUES, HLAS, AA_KEYS\n",
    "from src.utils import pkl_load, pkl_dump, get_palette\n",
    "from src.sim_utils import make_dist_matrix\n",
    "from sklearn.cluster import AgglomerativeClustering\n",
    "from sklearn.preprocessing import LabelEncoder\n",
    "from src.torch_utils import save_checkpoint, load_checkpoint\n",
    "from src.train_eval import predict_model, train_eval_loops\n",
    "from src.models import FullTCRVAE, TwoStageVAECLF\n",
    "from src.multimodal_datasets import MultimodalMarginalLatentDataset\n",
    "from src.multimodal_models import BSSVAE, JMVAE\n",
    "from src.multimodal_train_eval import predict_multimodal\n",
    "from src.metrics import reconstruction_accuracy, VAELoss, TripletLoss, CombinedVAELoss, compute_cosine_distance\n",
    "from src.datasets import TCRSpecificDataset, FullTCRDataset\n",
    "import torch\n",
    "import glob\n",
    "from torch import optim\n",
    "from torch.utils.data import RandomSampler, SequentialSampler\n",
    "from torch import nn\n",
    "from torch.nn import functional as F\n",
    "mpl.rcParams['figure.dpi'] = 180\n"
   ]
  },
  {
   "cell_type": "code",
   "execution_count": 5,
   "id": "95cd03f7-9eac-4b56-8b12-4c06cd96c84d",
   "metadata": {
    "jupyter": {
     "source_hidden": true
    }
   },
   "outputs": [],
   "source": [
    "def read_tcrbase_results(peptide, original_df, dir='../output/tcrbase_expanded_p0_swapped/'):\n",
    "    cols = ['xx', 'xy', 'id_query'] + [f'q_{x}' for x in ['A1','A2','A3','B1','B2','B3']] + ['bs1', 'hit', 'id_db'] + [f'db_{x}' for x in ['A1','A2','A3','B1','B2','B3']] + ['score', 'bs2']\n",
    "    df = pd.read_csv(f'{dir}{peptide}.txt', comment='#', sep='\\s', header=None, names=cols)\n",
    "    results = pd.merge(df.set_index('id_query')[['score', 'id_db']+[f'db_{x}' for x in ['A1','A2','A3','B1','B2','B3']]],\n",
    "                       original_df[['binder', 'peptide', 'A1','A2','A3','B1','B2','B3']],\n",
    "                       left_index=True, right_index=True)\n",
    "    print(peptide, round(roc_auc_score(results['binder'], results['score']),4))\n",
    "    tcrbase_metrics = {'peptide':peptide, \n",
    "                       'method':'tcrbase',\n",
    "                       'n_pos':len(original_df.query('original_peptide==@peptide and partition==0'))}\n",
    "    tcrbase_metrics.update(get_metrics(results['binder'], results['score'], round_digit=5))\n",
    "    print(tcrbase_metrics)\n",
    "    return tcrbase_metrics, results\n",
    "    \n",
    "def read_tcrvae_results(peptide, original_df, dir):\n",
    "    csv_file = glob.glob(f'{dir}*{peptide}*.csv')[0]\n",
    "    df = pd.read_csv(csv_file)\n",
    "    df['binder']=df['label']\n",
    "    df['score'] = 1- df['min_dist']\n",
    "    metrics = {'peptide':peptide, 'method':'_'.join(os.path.basename(csv_file).split('_')[5:]), \n",
    "               'n_pos':len(original_df.query('original_peptide==@peptide and partition==0 and binder==0'))}\n",
    "    metrics.update(get_metrics(df['label'], df['score']))\n",
    "    return metrics, df\n",
    "\n",
    "def get_model(folder, map_location='cpu'):\n",
    "    pt = glob.glob(folder+'/*checkpoint_best*.pt')\n",
    "    pt = [x for x in pt if 'interval' not in x][0]\n",
    "    js = glob.glob(folder+'/*checkpoint*.json')[0]\n",
    "    model = load_model_full(pt, js, map_location='cpu')\n",
    "    # Extract the vae part if the model comes from a two stage VAE\n",
    "    if type(model)==TwoStageVAECLF:\n",
    "        model = model.vae\n",
    "    model.eval()\n",
    "    return model"
   ]
  },
  {
   "cell_type": "code",
   "execution_count": 6,
   "id": "d96b43b1-b819-4785-a86a-3282342c84a0",
   "metadata": {},
   "outputs": [],
   "source": [
    "df = pd.read_csv('../data/filtered/240418_nettcr_expanded_20binders_17pep_with_immrepnegs.csv')"
   ]
  },
  {
   "cell_type": "code",
   "execution_count": null,
   "id": "c94304f3-36d0-4208-88a2-9072018304fc",
   "metadata": {},
   "outputs": [],
   "source": [
    "tbcr_dist = pd.read_csv('../output/240411_ClusteringTests/dist_matrices/"
   ]
  },
  {
   "cell_type": "code",
   "execution_count": 4,
   "id": "6b2e7042-c584-487a-b13c-dbb38c6641f5",
   "metadata": {
    "scrolled": true
   },
   "outputs": [
    {
     "ename": "NameError",
     "evalue": "name 'newpeps' is not defined",
     "output_type": "error",
     "traceback": [
      "\u001b[0;31m---------------------------------------------------------------------------\u001b[0m",
      "\u001b[0;31mNameError\u001b[0m                                 Traceback (most recent call last)",
      "Cell \u001b[0;32mIn[4], line 6\u001b[0m\n\u001b[1;32m      4\u001b[0m ntr \u001b[38;5;241m=\u001b[39m []\n\u001b[1;32m      5\u001b[0m \u001b[38;5;28;01mfor\u001b[39;00m f \u001b[38;5;129;01min\u001b[39;00m glob\u001b[38;5;241m.\u001b[39mglob(\u001b[38;5;124m'\u001b[39m\u001b[38;5;124m../output/240403_MMVAE_TCRBASE/*/\u001b[39m\u001b[38;5;124m'\u001b[39m):\n\u001b[0;32m----> 6\u001b[0m     \u001b[38;5;28;01mfor\u001b[39;00m p \u001b[38;5;129;01min\u001b[39;00m \u001b[43mnewpeps\u001b[49m:\n\u001b[1;32m      7\u001b[0m         ntr\u001b[38;5;241m.\u001b[39mappend(read_tcrvae_results(p, new_df, f)[\u001b[38;5;241m0\u001b[39m])\n\u001b[1;32m      9\u001b[0m old \u001b[38;5;241m=\u001b[39m []\n",
      "\u001b[0;31mNameError\u001b[0m: name 'newpeps' is not defined"
     ]
    }
   ],
   "source": [
    "import pandas as pd\n",
    "import numpy as np\n",
    "\n",
    "ntr = []\n",
    "for f in glob.glob('../output/240403_MMVAE_TCRBASE/*/'):\n",
    "    for p in newpeps:\n",
    "        ntr.append(read_tcrvae_results(p, new_df, f)[0])\n",
    "\n",
    "old = []\n",
    "for f in glob.glob('../output/240403_oldExpVAE_TCRBASE/*/'):\n",
    "    for p in newpeps:\n",
    "        old.append(read_tcrvae_results(p, new_df, f)[0])\n",
    "old = pd.DataFrame(old)\n",
    "ntr = pd.DataFrame(ntr)\n",
    "tcrbase_results['method'] = 'TCRBase'\n",
    "cat = pd.concat([tcrbase_results, old, ntr])\n",
    "cat['weight'] = cat['peptide'].apply(lambda x: len(new_df.query('peptide==@x')) / len(new_df))\n",
    "\n",
    "# Define a function to calculate the multiple operations\n",
    "def calculate_metrics(x):\n",
    "    normal_avg_auc = x['auc'].mean()\n",
    "    weighted_avg_auc = np.average(x['auc'], weights=x['weight'])\n",
    "    normal_avg_auc_01 = x['auc_01'].mean()\n",
    "    weighted_avg_auc_01 = np.average(x['auc_01'], weights=x['weight'])\n",
    "    return pd.Series({\n",
    "        'normal_avg_auc': normal_avg_auc,\n",
    "        'weighted_avg_auc': weighted_avg_auc,\n",
    "        'normal_avg_auc_01': normal_avg_auc_01,\n",
    "        'weighted_avg_auc_01': weighted_avg_auc_01\n",
    "    })\n",
    "\n",
    "# Group by the 'group' column and apply the custom calculation function\n",
    "result = cat.groupby('method').apply(calculate_metrics).reset_index()\n",
    "\n",
    "result.sort_values('normal_avg_auc',ascending=False)\n"
   ]
  },
  {
   "cell_type": "code",
   "execution_count": null,
   "id": "ebf513ed-2faa-4bc8-9986-06c012f6162b",
   "metadata": {
    "jupyter": {
     "source_hidden": true
    }
   },
   "outputs": [],
   "source": [
    "def make_3_plots(peptide, original_df, dir_old, dir_new, dir_tcrbase='../output/TCRBASE/tcrbase_expanded_p0_swapped/',\n",
    "                 name_old=None, name_new=None, name_tcrbase='TCRBase', bins=100):\n",
    "    _, tcrbase_df = read_tcrbase_results(peptide, original_df, dir_tcrbase)\n",
    "    _, tcrold_df = read_tcrvae_results(peptide, original_df, dir_old)\n",
    "    _, tcrnew_df = read_tcrvae_results(peptide, original_df, dir_new)\n",
    "    \n",
    "    f,a = plt.subplots(1,3, figsize=(15,4.5))\n",
    "    ax = a.ravel()\n",
    "    name_old = 'Old VAE' if name_old is None else name_old\n",
    "    name_new = 'New MMVAE' if name_new is None else name_new\n",
    "    tcrbase_auc = roc_auc_score(tcrbase_df['binder'], tcrbase_df['score'])\n",
    "    tcrold_auc = roc_auc_score(tcrold_df['binder'], tcrold_df['score'])\n",
    "    tcrnew_auc = roc_auc_score(tcrnew_df['binder'], tcrnew_df['score'])\n",
    "    \n",
    "\n",
    "    sns.histplot(data = tcrbase_df.rename(columns={'score':'seq_similarity'}), x='seq_similarity', hue='binder', ax=ax[0], kde=False, stat='percent', common_norm=False, bins=bins, alpha=0.75)\n",
    "    ax[0].set_title(f'{name_tcrbase}\\nAUC = {tcrbase_auc:.4f}', fontweight='semibold',fontsize=13)\n",
    "    sns.histplot(data = tcrold_df.rename(columns={'score':'cos_similarity'}), x='cos_similarity', hue='binder', ax=ax[1], kde=False, stat='percent', common_norm=False, bins=bins, alpha=0.75)\n",
    "    ax[1].set_title(f'{name_old}\\nAUC = {tcrold_auc:.4f}', fontweight='semibold',fontsize=13)\n",
    "    sns.histplot(data = tcrnew_df.rename(columns={'score':'cos_similarity'}), x='cos_similarity', hue='binder', ax=ax[2], kde=False, stat='percent', common_norm=False, bins=bins, alpha=0.75)\n",
    "    ax[2].set_title(f'{name_new}\\nAUC = {tcrnew_auc:.4f}', fontweight='semibold',fontsize=13)\n",
    "\n",
    "    # Align plot2 and 3 on xlim\n",
    "    ax0_xlim = ax[1].get_xlim()\n",
    "    ax1_xlim = ax[2].get_xlim()\n",
    "    new_xlim = [min(ax0_xlim[0], ax1_xlim[0]), max(ax0_xlim[1], ax1_xlim[1])]\n",
    "    ax[1].set_xlim(new_xlim)\n",
    "    ax[2].set_xlim(new_xlim)\n",
    "    f.suptitle(f'Pep: {peptide}', fontweight='semibold', fontsize=14)\n",
    "    f.tight_layout()\n",
    "    return ax"
   ]
  },
  {
   "cell_type": "code",
   "execution_count": 914,
   "id": "7d43009f-f19f-4fdf-84a1-6edeea48842f",
   "metadata": {
    "jupyter": {
     "source_hidden": true
    }
   },
   "outputs": [],
   "source": [
    "def do_tcrbase_and_histplots_local(dist_matrix, peptide, f=None, ax=None, unique_filename=None, outdir=None, bins=100):\n",
    "    query = dist_matrix.query('set==\"query\"')\n",
    "    database = dist_matrix.query('set==\"database\"')\n",
    "    db_tcrs = database.index.tolist()\n",
    "    # Scoring query against database & splitting by label\n",
    "    pos = query[db_tcrs + ['binder']].query('binder==1')\n",
    "    neg = query[db_tcrs + ['binder']].query('binder==0')\n",
    "    tcrbase_output = pd.concat([pos, neg])\n",
    "    pos = pos.drop(columns=['binder']).values\n",
    "    neg = neg.drop(columns=['binder']).values\n",
    "\n",
    "    # Getting the AUC for labelling and output DF ;\n",
    "    pos_out = tcrbase_output.query('binder==1').drop(columns=['binder'])\n",
    "    neg_out = tcrbase_output.query('binder!=1').drop(columns=['binder'])\n",
    "    pos_out = pos_out.apply(lambda x: [np.min(x), x.index[int(np.argmin(x))]], axis=1, result_type='expand').rename(\n",
    "        columns={0: 'min_dist', 1: 'most_similar'})\n",
    "    neg_out = neg_out.apply(lambda x: [np.min(x), x.index[int(np.argmin(x))]], axis=1, result_type='expand').rename(\n",
    "        columns={0: 'min_dist', 1: 'most_similar'})\n",
    "    cat_out = pd.concat([pos_out.assign(label=1), neg_out.assign(label=0)])\n",
    "    auc = roc_auc_score(cat_out['label'], 1 - cat_out['min_dist'])\n",
    "\n",
    "    # Plot both the distribution of scores and the \"best\" score as done above\n",
    "    #   Plotting distribution of all scores\n",
    "    pos_flat = pos.flatten()\n",
    "    neg_flat = neg.flatten()\n",
    "    cat = np.concatenate([pos_flat, neg_flat])\n",
    "    labels = np.concatenate([np.array(['pos'] * len(pos_flat) + ['neg'] * len(neg_flat))])\n",
    "    df_plot_allvsall = pd.DataFrame(data=np.stack([cat, labels]).T, columns=['distance', 'label'])\n",
    "    df_plot_allvsall['distance'] = df_plot_allvsall['distance'].astype(float)\n",
    "    pal = sns.color_palette('gnuplot2', 4)\n",
    "    sns.set_palette([pal[-1], pal[0]])\n",
    "    sns.set_style('darkgrid')\n",
    "\n",
    "    if ax is None:\n",
    "        f, ax = plt.subplots(1, 1, figsize=(9, 5))\n",
    "    sns.histplot(data=df_plot_allvsall, x='distance', hue='label', ax=ax, kde=False,\n",
    "                 stat='percent', common_norm=False, bins=bins, alpha=0.75)\n",
    "    # ax.set_xlim([0,1.1])\n",
    "    ax.set_title(f'TCRBase: All vs All {peptide}: {auc:.4f}', fontsize=14, fontweight='semibold')\n",
    "    if unique_filename is not None:\n",
    "        outdir = './' if outdir is None else outdir\n",
    "        f.savefig(f'{outdir}{peptide}_AvA_TCRBase_distances_histplot_{unique_filename}', dpi=150,\n",
    "                  bbox_inches='tight')\n",
    "\n",
    "    #   Plotting \"Best\" score\n",
    "    pos_best = pos.min(axis=1).flatten()\n",
    "    neg_best = neg.min(axis=1).flatten()\n",
    "    cat_best = np.concatenate([pos_best, neg_best])\n",
    "    labels_best = np.concatenate([np.array(['pos'] * len(pos_best) + ['neg'] * len(neg_best))])\n",
    "    df_plot_best = pd.DataFrame(data=np.stack([cat_best, labels_best]).T, columns=['distance', 'label'])\n",
    "    df_plot_best['distance'] = df_plot_best['distance'].astype(float)\n",
    "    f2, ax2 = plt.subplots(1, 1, figsize=(9, 5))\n",
    "    bins = max(int(len(query.query('binder==1')) / 9), 25)\n",
    "\n",
    "    sns.histplot(data=df_plot_best, x='distance', hue='label', ax=ax2, kde=False,\n",
    "                 stat='percent', common_norm=False, bins=bins, alpha=0.75)\n",
    "    # ax.set_xlim([0,1.1])\n",
    "\n",
    "    ax2.set_title(f'TCRBase: Best score {peptide}, AUC = {auc:.4f}', fontsize=14, fontweight='semibold')\n",
    "    if unique_filename is not None:\n",
    "        outdir = './' if outdir is None else outdir\n",
    "        f2.savefig(f'{outdir}{peptide}_Best_TCRBase_distances_histplot_{unique_filename}', dpi=150, bbox_inches='tight')\n",
    "\n",
    "    return cat_out"
   ]
  }
 ],
 "metadata": {
  "kernelspec": {
   "display_name": "Python [conda env:pynn] *",
   "language": "python",
   "name": "conda-env-pynn-py"
  },
  "language_info": {
   "codemirror_mode": {
    "name": "ipython",
    "version": 3
   },
   "file_extension": ".py",
   "mimetype": "text/x-python",
   "name": "python",
   "nbconvert_exporter": "python",
   "pygments_lexer": "ipython3",
   "version": "3.11.5"
  }
 },
 "nbformat": 4,
 "nbformat_minor": 5
}
