{
 "cells": [
  {
   "cell_type": "code",
   "execution_count": 1,
   "id": "5d117bbd-2889-450e-9c63-afdcd02d8df9",
   "metadata": {},
   "outputs": [
    {
     "data": {
      "image/png": "[encoded data removed]",
      "text/plain": [
       "<Figure size 1x1 with 1 Axes>"
      ]
     },
     "metadata": {},
     "output_type": "display_data"
    }
   ],
   "source": [
    "import pandas as pd\n",
    "import numpy as np\n",
    "import sklearn\n",
    "import matplotlib.pyplot as plt\n",
    "import matplotlib as mpl\n",
    "import seaborn as sns\n",
    "f,a = plt.subplots(1,1,figsize=(1e-2, 1e-2))\n",
    "mpl.rcParams['figure.dpi'] = 150\n",
    "\n",
    "sns.set_style('darkgrid')\n",
    "import os,sys\n",
    "module_path = os.path.abspath(os.path.join('..'))\n",
    "if module_path not in sys.path:\n",
    "    sys.path.append(module_path)\n",
    "import warnings\n",
    "warnings.filterwarnings(\"ignore\")\n",
    "import glob\n",
    "from tqdm.auto import tqdm\n",
    "from datetime import datetime as dt\n",
    "from sklearn.cluster import AgglomerativeClustering\n",
    "from sklearn.preprocessing import LabelEncoder\n",
    "import torch\n",
    "from torch import nn\n",
    "from torch.nn import functional as F\n",
    "mpl.rcParams['figure.dpi'] = 180\n",
    "# Load models together\n",
    "%load_ext autoreload\n",
    "%autoreload 2\n",
    "    \n",
    "from src.torch_utils import load_model_full\n",
    "from src.utils import get_class_initcode_keys\n",
    "from torch.utils.data import SequentialSampler\n",
    "from src.datasets import *\n",
    "from src.models import *\n",
    "from src.utils import mkdirs, convert_path, pkl_dump, pkl_load, add_median_labels, get_palette\n",
    "from src.sim_utils import make_dist_matrix\n",
    "from src.torch_utils import save_checkpoint, load_checkpoint\n",
    "from src.train_eval import predict_model, train_eval_loops\n",
    "from src.models import FullTCRVAE, TwoStageVAECLF\n",
    "from src.conv_models import CNNVAE, TwoStageCNNVAECLF\n",
    "from src.metrics import reconstruction_accuracy, compute_cosine_distance\n",
    "from src.cluster_utils import *\n",
    "from src.networkx_utils import *"
   ]
  },
  {
   "cell_type": "markdown",
   "id": "505bdca2-5e66-44ea-b815-787e27ad0a76",
   "metadata": {},
   "source": [
    "# Get patient reconstruction accuracies"
   ]
  },
  {
   "cell_type": "code",
   "execution_count": 2,
   "id": "e51304d4-bdd6-4394-9e03-a67be90737ac",
   "metadata": {
    "jupyter": {
     "source_hidden": true
    }
   },
   "outputs": [],
   "source": [
    "from joblib import Parallel, delayed\n",
    "from functools import partial\n",
    "MAXLENS={'A1':7, 'A2':8, 'A3':22, 'B1':6, 'B2':7, 'B3':23}\n",
    "def split_seq(seq, max_lens={'A1':7, 'A2':8, 'A3':22, 'B1':6, 'B2':7, 'B3':23}):\n",
    "    rec_seq = []\n",
    "    i=0\n",
    "    for name,length in max_lens.items():\n",
    "        if length==0:\n",
    "            continue\n",
    "        rec_seq.append(seq[i:i+length].rstrip('X'))\n",
    "        i+=length\n",
    "    return rec_seq\n",
    "\n",
    "def get_all_split(df, max_lens={'A1':7, 'A2':8, 'A3':22, 'B1':6, 'B2':7, 'B3':23}):\n",
    "    df=df.copy()\n",
    "    df.drop(columns=[x for x in df.columns if x.startswith('z_')], inplace=True)\n",
    "    df[list(f'{k}_true_rec' for k,v in max_lens.items() if v!=0)] = pd.DataFrame(df['true_reconstructed'].apply(split_seq,max_lens=max_lens).tolist(), index=df.index)\n",
    "    df[list(f'{k}_hat_rec' for k,v in max_lens.items() if v!=0)] = pd.DataFrame(df['hat_reconstructed'].apply(split_seq,max_lens=max_lens).tolist(), index=df.index)\n",
    "    return df\n",
    "    \n",
    "def get_cdr_acc(true, rec):\n",
    "    if len(true)==len(rec):\n",
    "        return np.mean([x==y for x,y in zip(true,rec)])\n",
    "    elif len(true)>len(rec):\n",
    "        return np.mean([x==y for x,y in zip(true, rec+(len(true)-len(rec))*'X')])\n",
    "    elif len(true)<len(rec):\n",
    "        return np.mean([x==y for x,y in zip(true, rec+(len(rec)-len(true))*'X')])\n",
    "    else:\n",
    "        return 0\n",
    "        \n",
    "def get_per_seq_acc(df, max_lens={'A1':7, 'A2':8, 'A3':22, 'B1':6, 'B2':7, 'B3':23}):\n",
    "    df = df.copy()\n",
    "    df = get_all_split(df, max_lens)\n",
    "    true_cols=list(f'{k}_true_rec' for k,v in max_lens.items() if v!=0)\n",
    "    rec_cols=list(f'{k}_hat_rec' for k,v in max_lens.items() if v!=0)\n",
    "    for true, rec in zip(true_cols, rec_cols):\n",
    "        chain = true.rstrip('_true_rec')\n",
    "        df[f'acc_{chain}'] =  df.apply(lambda x: get_cdr_acc(x[true], x[rec]), axis=1)\n",
    "    return df"
   ]
  },
  {
   "cell_type": "code",
   "execution_count": 6,
   "id": "2d1b6cd2-d3bb-4d3a-8d61-4f029aea8232",
   "metadata": {},
   "outputs": [],
   "source": [
    "def glob_path(path, pattern):\n",
    "    pt = glob.glob(f'{path}*{pattern}*.pt')[0]\n",
    "    js = glob.glob(f'{path}*JSON_kwargs*.json')[0]\n",
    "    return pt, js"
   ]
  },
  {
   "cell_type": "code",
   "execution_count": 10,
   "id": "c07552cf-10f4-461f-a1b2-4b4df3f31dd6",
   "metadata": {},
   "outputs": [],
   "source": [
    "garner = pd.read_csv('../data/OTS/garner_merged/garner_merged_41_42_43.csv')\n",
    "francis = pd.concat([pd.read_csv(x) for x in glob.glob(f'../data/OTS/francis_covid_042/*')])"
   ]
  },
  {
   "cell_type": "code",
   "execution_count": 9,
   "id": "f4c073ce-5ed0-49f2-ab57-becf4e5373cb",
   "metadata": {
    "collapsed": true,
    "jupyter": {
     "outputs_hidden": true
    }
   },
   "outputs": [
    {
     "name": "stdout",
     "output_type": "stream",
     "text": [
      "<class 'torch.nn.modules.batchnorm.BatchNorm1d'> 128 9 4 2 1 0 SELU()\n",
      "No GPUs available. Using CPU.\n",
      "Reloading best model:\n",
      "Best epoch: 19904\n",
      "total: 0.3804485993018143\n",
      "reconstruction: 0.3688316931078958\n",
      "kld: 0.011616906193918503\n",
      "triplet: 0.0\n",
      "seq_accuracy: 0.9929980039596558\n",
      "pos_accuracy: 0.9998289346694946\n",
      "<class 'torch.nn.modules.batchnorm.BatchNorm1d'> 128 9 4 2 1 0 SELU()\n",
      "No GPUs available. Using CPU.\n",
      "Reloading best model:\n",
      "epoch: 4500\n",
      "total: 0.7775099739190969\n",
      "reconstruction: 0.24511546373418122\n",
      "kld: 0.0\n",
      "triplet: 0.0\n",
      "BCE: 0.5323945055735589\n",
      "seq_accuracy: 0.9910694360733032\n",
      "pos_accuracy: 0.9997903108596802\n",
      "auc: 0.7436\n",
      "auc_01: 0.59057\n",
      "auc_01_real: 0.22208\n",
      "precision: 0.39935\n",
      "recall: 0.43906\n",
      "accuracy: 0.79582\n",
      "AP: 0.35665\n",
      "<class 'torch.nn.modules.batchnorm.BatchNorm1d'> 128 9 4 2 1 0 SELU()\n",
      "No GPUs available. Using CPU.\n",
      "Reloading best model:\n",
      "Best epoch: 19934\n",
      "total: 0.07886607476881971\n",
      "reconstruction: 0.05939108139774983\n",
      "kld: 0.003005831211369365\n",
      "triplet: 0.01646916461991662\n",
      "seq_accuracy: 0.9946388602256775\n",
      "pos_accuracy: 0.9974550008773804\n",
      "<class 'torch.nn.modules.batchnorm.BatchNorm1d'> 128 9 4 2 1 0 SELU()\n",
      "No GPUs available. Using CPU.\n",
      "Reloading best model:\n",
      "epoch: 4500\n",
      "total: 0.28910083712824164\n",
      "reconstruction: 0.05983970926761729\n",
      "kld: 0.0\n",
      "triplet: 0.0\n",
      "BCE: 0.22926112741663837\n",
      "seq_accuracy: 0.9946567416191101\n",
      "pos_accuracy: 0.9978268146514893\n",
      "auc: 0.73856\n",
      "auc_01: 0.57302\n",
      "auc_01_real: 0.18874\n",
      "precision: 0.40048\n",
      "recall: 0.42172\n",
      "accuracy: 0.79778\n",
      "AP: 0.34001\n"
     ]
    }
   ],
   "source": [
    "os_notrp_path = '../output/240618_NestedKCV_CNNVAE/Nested_CNNVAE_NOTRIPLET_ld128_kld_1e-2_ExpData_KFold_0_240730_1501_6omni/'\n",
    "os_cstrp_path = '../output/240618_NestedKCV_CNNVAE/Nested_CNNVAE_latent_128_kld_1e-2_ExpData_KFold_0_240618_1607_ER8wJ/'\n",
    "ts_notrp_path = '../output/240618_NestedKCV_CNNVAE/Nested_TwoStageCNNVAE_NOTRIPLET_ld128_kld_1e-2_ExpData_BLOSUM_PEP_KFold_0_240910_1436_N1jMC/'\n",
    "ts_cstrp_path = '../output/240618_NestedKCV_CNNVAE/Nested_TwoStageCNNVAE_latent_128_kld_1e-2_ExpData_BLOSUM_PEP_KFold_0_240910_1436_jyGpd/'\n",
    "os_notrp = load_model_full(*glob_path(os_notrp_path, 'best'))\n",
    "ts_notrp = load_model_full(*glob_path(ts_notrp_path, '4500'))\n",
    "os_cstrp = load_model_full(*glob_path(os_cstrp_path, 'best'))\n",
    "ts_cstrp = load_model_full(*glob_path(ts_cstrp_path, '4500'))"
   ]
  },
  {
   "cell_type": "code",
   "execution_count": null,
   "id": "0e5f4dab-dbc4-44a6-9b45-6172d4fb6694",
   "metadata": {},
   "outputs": [],
   "source": [
    "get_latent_df(os_notrp, garner)"
   ]
  }
 ],
 "metadata": {
  "kernelspec": {
   "display_name": "Python [conda env:pynn] *",
   "language": "python",
   "name": "conda-env-pynn-py"
  },
  "language_info": {
   "codemirror_mode": {
    "name": "ipython",
    "version": 3
   },
   "file_extension": ".py",
   "mimetype": "text/x-python",
   "name": "python",
   "nbconvert_exporter": "python",
   "pygments_lexer": "ipython3",
   "version": "3.11.5"
  }
 },
 "nbformat": 4,
 "nbformat_minor": 5
}
