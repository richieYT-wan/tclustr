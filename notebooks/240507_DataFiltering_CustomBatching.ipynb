{
 "cells": [
  {
   "cell_type": "code",
   "execution_count": 2,
   "id": "6c0424bb-037d-4732-aa53-e69ce791fbe0",
   "metadata": {},
   "outputs": [
    {
     "data": {
      "image/png": "[encoded data removed]",
      "text/plain": [
       "<Figure size 1x1 with 1 Axes>"
      ]
     },
     "metadata": {},
     "output_type": "display_data"
    }
   ],
   "source": [
    "import pandas as pd\n",
    "import numpy as np\n",
    "import sklearn\n",
    "import matplotlib.pyplot as plt\n",
    "import matplotlib as mpl\n",
    "import seaborn as sns\n",
    "f,a = plt.subplots(1,1,figsize=(1e-2, 1e-2))\n",
    "mpl.rcParams['figure.dpi'] = 150\n",
    "sns.set_style('darkgrid')\n",
    "import os,sys\n",
    "module_path = os.path.abspath(os.path.join('..'))\n",
    "if module_path not in sys.path:\n",
    "    sys.path.append(module_path)\n",
    "import warnings\n",
    "warnings.filterwarnings(\"ignore\")\n",
    "import glob\n",
    "from tqdm.auto import tqdm\n",
    "from datetime import datetime as dt\n",
    "from sklearn.cluster import AgglomerativeClustering\n",
    "from sklearn.preprocessing import LabelEncoder\n",
    "import torch\n",
    "from torch import optim\n",
    "from torch.utils.data import RandomSampler, SequentialSampler\n",
    "from torch import nn\n",
    "from torch.nn import functional as F\n",
    "mpl.rcParams['figure.dpi'] = 180\n",
    "# Load models together\n",
    "%load_ext autoreload\n",
    "%autoreload 2\n",
    "    \n",
    "from src.torch_utils import load_model_full\n",
    "from src.utils import get_class_initcode_keys\n",
    "from torch.utils.data import SequentialSampler\n",
    "from src.datasets import *\n",
    "from src.models import *\n",
    "from src.utils import mkdirs, convert_path, pkl_dump, pkl_load, add_median_labels, get_palette\n",
    "from src.data_processing import BL62_VALUES, BL62FREQ_VALUES, HLAS, AA_KEYS\n",
    "from src.utils import pkl_load, pkl_dump, get_palette\n",
    "from src.sim_utils import make_dist_matrix\n",
    "from src.torch_utils import save_checkpoint, load_checkpoint\n",
    "from src.train_eval import predict_model, train_eval_loops\n",
    "from src.models import FullTCRVAE, TwoStageVAECLF\n",
    "from src.multimodal_datasets import MultimodalMarginalLatentDataset\n",
    "from src.multimodal_models import BSSVAE, JMVAE\n",
    "from src.multimodal_train_eval import predict_multimodal\n",
    "from src.metrics import reconstruction_accuracy, VAELoss, TripletLoss, CombinedVAELoss, compute_cosine_distance\n",
    "from src.datasets import TCRSpecificDataset, FullTCRDataset\n",
    "\n"
   ]
  },
  {
   "cell_type": "code",
   "execution_count": 6,
   "id": "85d63c06-c72f-4b30-a7d6-64652a7e5ef9",
   "metadata": {},
   "outputs": [],
   "source": [
    "import networkx as nx"
   ]
  },
  {
   "cell_type": "code",
   "execution_count": 11,
   "id": "f266c3ad-2577-4ae8-acf3-f71276ab81da",
   "metadata": {},
   "outputs": [],
   "source": [
    "new_df_noswap = pd.read_csv('../data/multimodal/240326_nettcr_paired_NOswaps.csv')\n",
    "new_df_wswap = pd.read_csv('../data/multimodal/240326_nettcr_paired_withswaps.csv')\n",
    "new_df_filt = pd.read_csv('../data/filtered/240418_nettcr_expanded_20binders_17pep_POSONLY.csv')\n",
    "\n",
    "old_df_noswap = pd.read_csv('../data/filtered/240416_nettcr_old_26pep_no_swaps.csv')\n",
    "old_df_wswap = pd.read_csv('../data/filtered/231205_nettcr_old_26pep_with_swaps.csv')"
   ]
  },
  {
   "cell_type": "markdown",
   "id": "158759cb-b7cc-4309-aab0-e6ecfef55462",
   "metadata": {},
   "source": [
    "# fct defs"
   ]
  },
  {
   "cell_type": "code",
   "execution_count": 4,
   "id": "51a98e63-2398-4229-b003-95967f7ca6c6",
   "metadata": {
    "jupyter": {
     "source_hidden": true
    }
   },
   "outputs": [],
   "source": [
    "def get_latent_df(model, df, dataset_params:dict=None):\n",
    "    \n",
    "    # Init dataset and pred fct depending on model type\n",
    "    dataset_params = dict(max_len_a1=7, max_len_a2=8, max_len_a3=22,\n",
    "                          max_len_b1=6, max_len_b2=7, max_len_b3=23, max_len_pep=0,\n",
    "                          encoding='BL50LO', pad_scale=-20,\n",
    "                          a1_col='A1', a2_col='A2', a3_col='A3', b1_col='B1', b2_col='B2', b3_col='B3',\n",
    "                          pep_col='peptide') if dataset_params is None else dataset_params\n",
    "    \n",
    "    if hasattr(model, 'vae'):\n",
    "        model = model.vae\n",
    "        if model.max_len>7+8+22+6+7+23:\n",
    "            dataset_params['max_len_pep']=12\n",
    "        else:\n",
    "            dataset_params['max_len_pep']=0\n",
    "            \n",
    "    dataset_params['add_positional_encoding'] = model.add_positional_encoding\n",
    "\n",
    "    if type(model) == FullTCRVAE:\n",
    "        print(dataset_params)\n",
    "        dataset = FullTCRDataset(df, **dataset_params)\n",
    "        dataloader = dataset.get_dataloader(512, SequentialSampler)\n",
    "        latent_df = predict_model(model, dataset, dataloader)\n",
    "        \n",
    "    elif type(model) in [BSSVAE, JMVAE]:\n",
    "        pred_fct = predict_multimodal\n",
    "        dataset_params['pair_only'] = True\n",
    "        dataset_params['return_pair'] = type(model)==JMVAE\n",
    "        dataset_params['modality']='tcr'\n",
    "        dataset = MultimodalMarginalLatentDataset(model, df, **dataset_params)\n",
    "        latent_df = df.copy()\n",
    "        zdim = dataset.z.shape[1]\n",
    "        latent_df[[f'z_{i}' for i in range(zdim)]] = dataset.z\n",
    "\n",
    "    return latent_df\n",
    "\n",
    "def get_distances_labels_from_latent(latent_df, label_col='peptide', seq_cols= ('A1','A2','A3','B1','B2','B3')):\n",
    "    # Columns for making distmatrix\n",
    "    rest_cols = list(x for x in latent_df.columns if x in ['peptide', 'original_peptide','origin', 'binder'])\n",
    "    # Getting distmatrix and arrays\n",
    "    dist_matrix = make_dist_matrix(latent_df, label_col, seq_cols, cols=rest_cols)\n",
    "    dist_array = dist_matrix.iloc[:len(dist_matrix), :len(dist_matrix)].values\n",
    "    # Getting label encoder and features for computing metrics\n",
    "    features = latent_df[[z for z in latent_df.columns if z.startswith('z_')]].values\n",
    "    label_encoder = LabelEncoder()\n",
    "    labels = dist_matrix[label_col].values\n",
    "    encoded_labels = label_encoder.fit_transform(labels)\n",
    "    return dist_matrix, dist_array, features, labels, encoded_labels, label_encoder\n",
    "\n",
    "def get_merged_distances_labels(dist_matrix, original_df, index_tcr_df, label_col='peptide', query_subset=None):\n",
    "    # Assumes a square matrix with no other columns, and that the original_df and index_tcr_df match\n",
    "    merged = pd.merge(index_tcr_df, original_df[[x for x in original_df.columns if x in['seq_id','peptide','partition','binder','origin','fulltcr']]],\n",
    "         left_on=['q_index', 'tcr'], right_on=['seq_id','fulltcr'])\n",
    "    \n",
    "    assert((merged['seq_id']==merged['q_index']).all() and (merged['tcr']==merged['fulltcr']).all()),'fuck'\n",
    "    merged = merged.set_index('q_index')[[x for x in merged.columns if x in ['peptide','partition','binder','origin']]]\n",
    "    merged_dist_matrix = pd.merge(dist_matrix, merged, left_index=True,right_index=True)\n",
    "    extra_cols = merged_dist_matrix.columns.difference(dist_matrix.columns)\n",
    "    \n",
    "    if query_subset is not None:\n",
    "        query = merged_dist_matrix.query(query_subset)\n",
    "        merged_dist_matrix = query[list(str(x) for x in query.index)+list(extra_cols)]\n",
    "    \n",
    "    return merged_dist_matrix, extra_cols\n",
    "\n",
    "def get_distances_labels_from_distmatrix(dist_matrix, original_df, index_tcr_df, label_col='peptide', query_subset=None):\n",
    "    merged_dist_matrix, extra_cols = get_merged_distances_labels(dist_matrix, original_df, index_tcr_df, label_col, query_subset)\n",
    "    dist_array = merged_dist_matrix.iloc[:,:-len(extra_cols)].values\n",
    "    features = torch.randn([dist_array.shape[0], 3])\n",
    "    label_encoder = LabelEncoder()\n",
    "    labels = merged_dist_matrix[label_col].values\n",
    "    encoded_labels = label_encoder.fit_transform(labels)\n",
    "    return merged_dist_matrix, dist_array, features, labels, encoded_labels, label_encoder\n",
    "\n",
    "def cluster_all_thresholds(dist_array, features, labels, encoded_labels, label_encoder,\n",
    "                           decimals=5, n_points=1500):\n",
    "    # Getting clustering at all thresholds\n",
    "    limits = get_linspace(dist_array, decimals, n_points)\n",
    "    results = []\n",
    "    for t in tqdm(limits):\n",
    "        c = AgglomerativeClustering(n_clusters=None, metric='precomputed', distance_threshold=t, linkage='complete')\n",
    "        c.fit(dist_array)\n",
    "        results.append(get_all_metrics(t, features, c, dist_array, labels, encoded_labels, label_encoder))\n",
    "    results = pd.DataFrame(results)\n",
    "    results['retention'] = (dist_array.shape[0]-results['n_singletons']) / dist_array.shape[0]\n",
    "    return results"
   ]
  },
  {
   "cell_type": "code",
   "execution_count": 5,
   "id": "d5096f55-6579-4715-9de5-fecba1dd6000",
   "metadata": {
    "jupyter": {
     "source_hidden": true
    }
   },
   "outputs": [],
   "source": [
    "from sklearn.metrics import silhouette_score, calinski_harabasz_score as ch_score, davies_bouldin_score as db_score, adjusted_rand_score\n",
    "def get_model(folder, map_location='cpu'):\n",
    "    pt = glob.glob(folder+'/*checkpoint_best*.pt')\n",
    "    pt = [x for x in pt if 'interval' not in x][0]\n",
    "    js = glob.glob(folder+'/*checkpoint*.json')[0]\n",
    "    model = load_model_full(pt, js, map_location='cpu')\n",
    "    # Extract the vae part if the model comes from a two stage VAE\n",
    "    if type(model)==TwoStageVAECLF:\n",
    "        model = model.vae\n",
    "    model.eval()\n",
    "    return model\n",
    "\n",
    "\n",
    "def get_purity(counts):\n",
    "    # Purity in absolute % of a cluster, taking the majority label \n",
    "    # high = better\n",
    "    sorted_counts = dict(sorted(counts.items(), key=lambda item: item[1], reverse=True))\n",
    "    return sorted_counts[list(sorted_counts.keys())[0]] / sum(sorted_counts.values())\n",
    "    \n",
    "def get_mixity(counts):\n",
    "    # how many different labels are inside a cluster, weighted by the number of members\n",
    "    # low = better\n",
    "    return len(counts.keys()) / sum(counts.values())\n",
    "    \n",
    "def get_coherence(dist_array):\n",
    "    # Assumes dist_array is the subset of the distance array for a given cluster label\n",
    "    # mean distance within a cluster\n",
    "    # low = better\n",
    "\n",
    "    # get upper triangle mask without the diagonale\n",
    "    mask = np.triu(np.ones(dist_array.shape), k=0) - np.eye(dist_array.shape[0])\n",
    "    flat_array = dist_array[mask==1]\n",
    "    return np.mean(flat_array)\n",
    "\n",
    "def get_purity_mixity_coherence(cluster_label:int, \n",
    "                                true_labels:list, \n",
    "                                pred_labels:list, \n",
    "                                dist_array:np.array,\n",
    "                                label_encoder):\n",
    "    \"\"\"\n",
    "        For a given cluster label (int) returned by clustering.labels_, \n",
    "        Return the purity, mixity, coherence, cluster_size, and scale (==cluster_size/total_size)\n",
    "        scale should be used to get a weighted average metric at the end\n",
    "    \"\"\"\n",
    "    indices = np.where(pred_labels==cluster_label)[0]\n",
    "    cluster_size = len(indices)\n",
    "    if cluster_size<=1:\n",
    "        # return np.nan, np.nan, np.nan, 1, 1/len(true_labels)\n",
    "        return {'purity':np.nan, 'coherence':np.nan, 'cluster_size':1}\n",
    "\n",
    "    # Query the subset of the true labels belonging to this cluster using indices \n",
    "    # Convert to int label encodings in order to use np.bincount to get purity and mixity\n",
    "    subset = true_labels[indices]\n",
    "    encoded_subset = label_encoder.transform(subset)\n",
    "    counts = {i:k for i,k in enumerate(np.bincount(encoded_subset)) if k>0}\n",
    "    purity = get_purity(counts)\n",
    "    # mixity = get_mixity(counts)\n",
    "    # index the distance matrix and return the mean distance within this cluster (i.e. coherence)\n",
    "    coherence = get_coherence(dist_array[indices][:, indices])\n",
    "    \n",
    "    # return purity, mixity, coherence, cluster_size, cluster_size / len(true_labels)\n",
    "    return {'purity':purity, 'coherence':coherence, 'cluster_size':cluster_size}\n",
    "\n",
    "def get_all_metrics(t, features, c, array, true_labels, encoded_labels, label_encoder, return_df=False):\n",
    "    n_cluster = np.sum((np.bincount(c.labels_)>1))\n",
    "    n_singletons = (np.bincount(c.labels_)==1).sum()\n",
    "    try:\n",
    "        s_score = silhouette_score(array, c.labels_, metric='precomputed')\n",
    "    except:\n",
    "        s_score = np.nan\n",
    "    try:\n",
    "        c_score = ch_score(features, c.labels_)\n",
    "    except:\n",
    "        c_score = np.nan\n",
    "    try:\n",
    "        d_score = db_score(features, c.labels_)\n",
    "    except:\n",
    "        d_score = np.nan\n",
    "    try:\n",
    "        ari_score = adjusted_rand_score(encoded_labels, c.labels_)\n",
    "    except:\n",
    "        ari_score = np.nan\n",
    "    \n",
    "    xd = pd.concat([pd.DataFrame(get_purity_mixity_coherence(k, true_labels, c.labels_, array, label_encoder), index=[0]).assign(pred_label=k)\n",
    "                    for k in set(c.labels_)])\n",
    "    mean_purity = xd['purity'].dropna().mean()\n",
    "    mean_coherence = xd['coherence'].dropna().mean()\n",
    "    mean_cs = xd['cluster_size'].dropna().mean()\n",
    "    nc_07 = len(xd.dropna().query('purity>=0.7'))\n",
    "    metrics = {'threshold':t, \n",
    "            'n_cluster':n_cluster, 'n_singletons':n_singletons,\n",
    "            'n_cluster_over_70p':nc_07,\n",
    "            'mean_purity':xd.dropna()['purity'].mean(), \n",
    "            'min_purity':xd.dropna()['purity'].min(), \n",
    "            'max_purity':xd.dropna()['purity'].max(), \n",
    "            'mean_coherence':xd.dropna()['coherence'].mean(), \n",
    "            'min_coherence':xd.dropna()['coherence'].min(), \n",
    "            'max_coherence':xd.dropna()['coherence'].max(), \n",
    "            'mean_cluster_size': xd.dropna()['cluster_size'].mean(),\n",
    "            'min_cluster_size': xd.dropna()['cluster_size'].min(),\n",
    "            'max_cluster_size': xd.dropna()['cluster_size'].max(),\n",
    "            'silhouette':s_score,\n",
    "            'ch_index':c_score, 'db_index':d_score, 'ARI':ari_score}\n",
    "    if return_df :\n",
    "        return metrics, xd\n",
    "    else:\n",
    "        return metrics\n",
    "\n",
    "def get_bounds(array, decimals=5):\n",
    "    lower_bound = array[array>0].min()\n",
    "    upper_bound = array.max()\n",
    "    factor = 10 ** decimals\n",
    "    return np.floor(lower_bound * factor)/factor, np.ceil(upper_bound*factor)/factor\n",
    "\n",
    "\n",
    "def get_linspace(array, decimals=5, n_points=1500):\n",
    "    return np.round(np.linspace(*get_bounds(array, decimals), n_points), decimals)"
   ]
  },
  {
   "cell_type": "code",
   "execution_count": 6,
   "id": "5dfcfc3c-19b4-4d89-95b1-35ebb93398d9",
   "metadata": {
    "jupyter": {
     "source_hidden": true
    }
   },
   "outputs": [],
   "source": [
    "def plot_curve_clustersizes(run, filter=None):\n",
    "    if filter is None:\n",
    "        filter = run.input_type.unique()\n",
    "    else:\n",
    "        if ['TBCRalign'] not in filter:\n",
    "            filter = ['TBCRalign']+filter\n",
    "        if ['tcrdist3'] not in filter:\n",
    "            filter = ['tcrdist3']+filter\n",
    "            \n",
    "    sns.set_palette('gnuplot2', n_colors=len(filter)-2)\n",
    "    f,a = plt.subplots(1, 1, figsize=(13,9))\n",
    "    a.set_xlim([0,1])\n",
    "    a.set_ylim([0,1])\n",
    "    a.set_xlabel('Retention', fontweight='semibold', fontsize=14)\n",
    "    a.set_ylabel('Avg Purity', fontweight='semibold', fontsize=14)\n",
    "    # Setting major ticks\n",
    "    major_ticks = np.arange(0, 1.1, 0.1)\n",
    "    a.set_xticks(major_ticks)\n",
    "    a.set_yticks(major_ticks)\n",
    "    # Setting minor ticks\n",
    "    minor_ticks = np.arange(0, 1.1, 0.05)\n",
    "    a.set_xticks(minor_ticks, minor=True)\n",
    "    a.set_yticks(minor_ticks, minor=True)\n",
    "    plt.grid(which='both', linestyle='--', linewidth=0.5)\n",
    "    ax2 = a.twinx()  # instantiate a second axes that shares the same x-axis\n",
    "    ax2.set_yscale('log', base=2)\n",
    "    \n",
    "    markers = ['*', '.', '+', 'h', 's', '3', 'v', 'o', 'x', 'p']\n",
    "    print(len(filter))\n",
    "    for i,input_type in enumerate(filter):\n",
    "        query = run.query('input_type==@input_type')\n",
    "        retentions = query['retention'].values\n",
    "        purities = query['mean_purity'].values\n",
    "        clustersizes = query['mean_cluster_size']\n",
    "        if input_type==\"TBCRalign\":\n",
    "            a.plot(retentions, purities, label=input_type.lstrip('_'), ls='-.', c='g', lw=1.)\n",
    "            ax2.scatter(retentions, clustersizes, label=input_type.lstrip('_'), marker='x', lw=0.5, s=8, c='g')\n",
    "        elif input_type==\"tcrdist3\":\n",
    "            a.plot(retentions, purities, label=input_type.lstrip('_'), ls='-.', c='y', lw=1.)\n",
    "            ax2.scatter(retentions, clustersizes, label=input_type.lstrip('_'), marker='v', lw=0.1, s=8, c='y')\n",
    "        else:\n",
    "            a.plot(retentions, purities, label=input_type.lstrip('_'), ls='--', lw=1.)\n",
    "            ax2.scatter(retentions, clustersizes, label=input_type.lstrip('_'), marker='+', lw=1.15, s=12)\n",
    "        \n",
    "    a.axhline(0.6, label='60% purity cut-off', ls=':', lw=.75, c='m')\n",
    "    a.axhline(0.7, label='70% purity cut-off', ls=':', lw=.75, c='c')\n",
    "    a.axhline(0.8, label='80% purity cut-off', ls=':', lw=.75, c='y')\n",
    "    \n",
    "    a.legend(title='distance matrix', bbox_to_anchor=(1.1, 0.85),\n",
    "             title_fontproperties={'size':14, 'weight':'semibold'}, prop={'weight':'semibold','size':12})\n",
    "    \n",
    "    ax2.legend(title='Mean cluster size', bbox_to_anchor=(1.1, 0.35),\n",
    "             title_fontproperties={'size':14, 'weight':'semibold'}, prop={'weight':'semibold','size':12})\n",
    "    \n",
    "    f.tight_layout()"
   ]
  },
  {
   "cell_type": "code",
   "execution_count": 7,
   "id": "809d1add-ca05-47b4-8142-0f61a5a02674",
   "metadata": {
    "jupyter": {
     "source_hidden": true
    }
   },
   "outputs": [],
   "source": [
    "from sklearn.metrics import auc\n",
    "\n",
    "def vae_clustering_pipeline(model_folder, input_df, name, dataset_params=None, n_points=500):\n",
    "    model = get_model(model_folder, map_location='cpu')\n",
    "    latent_df = get_latent_df(model, input_df, dataset_params)\n",
    "    dist_matrix, dist_array, features, labels, encoded_labels, label_encoder = get_distances_labels(latent_df)\n",
    "    results = cluster_all_thresholds(dist_array, features, labels, encoded_labels, label_encoder, n_points=n_points)\n",
    "    results['input_type'] = name\n",
    "    return results\n",
    "\n",
    "def plot_pipeline(results, b, plot_title = 'None', fig_fn = None, filter=None, palette=None, more=False, add_cluster_size=False):\n",
    "    runs = pd.concat([b, results])\n",
    "    # plotting options\n",
    "    if filter is None:\n",
    "        filter = ['TBCRalign', 'KernelSim', 'tcrdist3'] + list(results.input_type.unique())\n",
    "\n",
    "    if palette is None:\n",
    "        palette='gnuplot2'\n",
    "    if more:\n",
    "        palette = get_palette(palette, n_colors=len(filter)-3)\n",
    "    else:\n",
    "        palette = sns.color_palette(palette, n_colors=len(filter)-3)\n",
    "\n",
    "    sns.set_palette(palette)\n",
    "    f,a = plt.subplots(1, 1, figsize=(9,9))\n",
    "    a.set_xlim([0,1])\n",
    "    a.set_ylim([0,1])\n",
    "    a.set_xlabel('Retention', fontweight='semibold', fontsize=14)\n",
    "    a.set_ylabel('Avg Purity', fontweight='semibold', fontsize=14)\n",
    "    # Setting major ticks\n",
    "    major_ticks = np.arange(0, 1.1, 0.1)\n",
    "    a.set_xticks(major_ticks)\n",
    "    a.set_yticks(major_ticks)\n",
    "    # Setting minor ticks\n",
    "    minor_ticks = np.arange(0, 1.1, 0.05)\n",
    "    a.set_xticks(minor_ticks, minor=True)\n",
    "    a.set_yticks(minor_ticks, minor=True)\n",
    "    plt.grid(which='both', linestyle='--', linewidth=0.5)\n",
    "    print(runs.duplicated().any())\n",
    "    if add_cluster_size:\n",
    "        ax2 = a.twinx()  # instantiate a second axes that shares the same x-axis\n",
    "        ax2.set_yscale('log', base=2)\n",
    "        \n",
    "    for i, input_type in enumerate(filter):\n",
    "        query = runs.query('input_type==@input_type')\n",
    "        retentions = query['retention'].values[1:-1]\n",
    "        purities = query['mean_purity'].values[1:-1]\n",
    "        print(input_type, '\\t', round(get_retpur_auc(retentions, purities),4))\n",
    "        ls = '-' if i%2==0 else '--'\n",
    "        if add_cluster_size:\n",
    "            cluster_sizes = query['mean_cluster_size'].values[1:-1]\n",
    "        # Plotting baselines with fixed styles colors etc\n",
    "        if input_type==\"TBCRalign\":\n",
    "            a.plot(retentions, purities, label='TBCRalign', ls=':', c='k', lw=1.)\n",
    "            if add_cluster_size:\n",
    "                ax2.scatter(retentions, cluster_sizes, label=input_type.lstrip('_'), marker='x', lw=0.5, s=8, c='k')\n",
    "        elif input_type==\"KernelSim\":\n",
    "            a.plot(retentions, purities, label='KernelSim', ls=':', c='m', lw=1.)\n",
    "            if add_cluster_size:\n",
    "                ax2.scatter(retentions, cluster_sizes, label=input_type.lstrip('_'), marker='v', lw=0.1, s=8, c='m')\n",
    "        elif input_type==\"tcrdist3\":\n",
    "            a.plot(retentions, purities, label='tcrdist3', ls=':', c='y', lw=1.)\n",
    "            if add_cluster_size:\n",
    "                ax2.scatter(retentions, cluster_sizes, label=input_type.lstrip('_'), marker='*', lw=0.1, s=8, c='y')\n",
    "        # Plotting the actual things\n",
    "        else:\n",
    "            a.plot(retentions, purities, label=input_type.lstrip('_').replace('_',' ').replace('checkpoint best',''), ls=ls, lw=1.)\n",
    "            if add_cluster_size:\n",
    "                ax2.scatter(retentions, cluster_sizes, label=input_type.lstrip('_'), marker='+', lw=1.15, s=12)\n",
    "        \n",
    "    a.axhline(0.6, label='60% purity cut-off', ls=':', lw=.75, c='m')\n",
    "    a.axhline(0.7, label='70% purity cut-off', ls=':', lw=.75, c='c')\n",
    "    a.axhline(0.8, label='80% purity cut-off', ls=':', lw=.75, c='y')\n",
    "    \n",
    "    a.legend(title='distance matrix', title_fontproperties={'size':14, 'weight':'semibold'}, prop={'weight':'semibold','size':12})\n",
    "\n",
    "    \n",
    "\n",
    "    \n",
    "    f.suptitle(f'{plot_title}', fontweight='semibold', fontsize=15)\n",
    "    f.tight_layout()\n",
    "    if fig_fn is not None:\n",
    "        f.savefig(f'../output/240411_ClusteringTests/{fig_fn}.png', dpi=200)\n",
    "    return runs\n",
    "    \n",
    "def get_retpur_auc(retentions, purities):\n",
    "    return auc(retentions, purities)\n",
    " \n",
    "def plot_pipeline(results, b, plot_title = 'None', f=None, ax=None, fig_fn = None, filter=None, palette=None, more=False, add_cluster_size=False):\n",
    "    runs = pd.concat([b, results])\n",
    "    # plotting options\n",
    "    if filter is None:\n",
    "        filter = ['TBCRalign', 'KernelSim', 'tcrdist3'] + list(results.input_type.unique())\n",
    "\n",
    "    if palette is None:\n",
    "        palette='gnuplot2'\n",
    "    if more:\n",
    "        palette = get_palette(palette, n_colors=len(filter)-3)\n",
    "    else:\n",
    "        palette = sns.color_palette(palette, n_colors=len(filter)-3)\n",
    "\n",
    "    sns.set_palette(palette)\n",
    "    if f is None and ax is None:\n",
    "        f,ax = plt.subplots(1, 1, figsize=(9,9))\n",
    "    ax.set_xlim([0,1])\n",
    "    ax.set_ylim([0,1])\n",
    "    ax.set_xlabel('Retention', fontweight='semibold', fontsize=14)\n",
    "    ax.set_ylabel('Avg Purity', fontweight='semibold', fontsize=14)\n",
    "    # Setting major ticks\n",
    "    major_ticks = np.arange(0, 1.1, 0.1)\n",
    "    ax.set_xticks(major_ticks)\n",
    "    ax.set_yticks(major_ticks)\n",
    "    # Setting minor ticks\n",
    "    minor_ticks = np.arange(0, 1.1, 0.05)\n",
    "    ax.set_xticks(minor_ticks, minor=True)\n",
    "    ax.set_yticks(minor_ticks, minor=True)\n",
    "    plt.grid(which='both', linestyle='--', linewidth=0.5)\n",
    "    print(runs.duplicated().any())\n",
    "    if add_cluster_size:\n",
    "        ax2 = ax.twinx()  # instantiate a second axes that shares the same x-axis\n",
    "        ax2.set_yscale('log', base=2)\n",
    "        \n",
    "    for i, input_type in enumerate(filter):\n",
    "        query = runs.query('input_type==@input_type')\n",
    "        retentions = query['retention'].values[1:-1]\n",
    "        purities = query['mean_purity'].values[1:-1]\n",
    "        try:\n",
    "            print(input_type, '\\t', round(get_retpur_auc(retentions, purities),4))\n",
    "        except:\n",
    "            print(input_type)\n",
    "        ls = '-' if i%2==0 else '--'\n",
    "        if add_cluster_size:\n",
    "            cluster_sizes = query['mean_cluster_size'].values[1:-1]\n",
    "        # Plotting baselines with fixed styles colors etc\n",
    "        if input_type==\"TBCRalign\":\n",
    "            ax.plot(retentions, purities, label='TBCRalign', ls=':', c='k', lw=1.)\n",
    "            if add_cluster_size:\n",
    "                ax2.scatter(retentions, cluster_sizes, label=input_type.lstrip('_'), marker='x', lw=0.5, s=8, c='k')\n",
    "        elif input_type==\"KernelSim\":\n",
    "            ax.plot(retentions, purities, label='KernelSim', ls=':', c='m', lw=1.)\n",
    "            if add_cluster_size:\n",
    "                ax2.scatter(retentions, cluster_sizes, label=input_type.lstrip('_'), marker='v', lw=0.1, s=8, c='m')\n",
    "        elif input_type==\"tcrdist3\":\n",
    "            ax.plot(retentions, purities, label='tcrdist3', ls=':', c='y', lw=1.)\n",
    "            if add_cluster_size:\n",
    "                ax2.scatter(retentions, cluster_sizes, label=input_type.lstrip('_'), marker='*', lw=0.1, s=8, c='y')\n",
    "        # Plotting the actual things\n",
    "        else:\n",
    "            ax.plot(retentions, purities, label=input_type.lstrip('_').replace('_',' ').replace('checkpoint best',''), ls=ls, lw=1.)\n",
    "            if add_cluster_size:\n",
    "                ax2.scatter(retentions, cluster_sizes, label=input_type.lstrip('_'), marker='+', lw=1.15, s=12)\n",
    "        \n",
    "    ax.axhline(0.6, label='60% purity cut-off', ls=':', lw=.75, c='m')\n",
    "    ax.axhline(0.7, label='70% purity cut-off', ls=':', lw=.75, c='c')\n",
    "    ax.axhline(0.8, label='80% purity cut-off', ls=':', lw=.75, c='y')\n",
    "    \n",
    "    ax.legend(title='distance matrix', title_fontproperties={'size':14, 'weight':'semibold'}, prop={'weight':'semibold','size':12})\n",
    "\n",
    "    \n",
    "\n",
    "    \n",
    "    f.suptitle(f'{plot_title}', fontweight='semibold', fontsize=15)\n",
    "    f.tight_layout()\n",
    "    if fig_fn is not None:\n",
    "        f.savefig(f'../output/240411_ClusteringTests/{fig_fn}.png', dpi=200)\n",
    "    return runs"
   ]
  },
  {
   "cell_type": "code",
   "execution_count": 8,
   "id": "74068272-1da7-4a48-8048-b317c56c45a5",
   "metadata": {
    "jupyter": {
     "source_hidden": true
    }
   },
   "outputs": [],
   "source": [
    "def pipeline_best_model_clustering(model, input_df, name, n_points=500):\n",
    "    # Assuming we are using VAE based models \n",
    "    if type(model)==str:\n",
    "        model = get_model(model_folder, map_location='cpu')\n",
    "    latent_df = get_latent_df(model, input_df)\n",
    "    print(len(latent_df))\n",
    "    dist_matrix, dist_array, features, labels, encoded_labels, label_encoder = get_distances_labels_from_latent(latent_df)\n",
    "    results = cluster_all_thresholds(dist_array, features, labels, encoded_labels, label_encoder, n_points=n_points)\n",
    "    results['input_type'] = name\n",
    "    return results\n",
    "    \n",
    "# Here, do a run ith only the best"
   ]
  },
  {
   "cell_type": "markdown",
   "id": "edc75ff7-fec7-40cc-b81a-ab0be7342177",
   "metadata": {},
   "source": [
    "# Prune dataset based on TCRBase results"
   ]
  },
  {
   "cell_type": "code",
   "execution_count": 77,
   "id": "9080229c-f1f2-4d65-9489-8e4a19320df5",
   "metadata": {},
   "outputs": [],
   "source": [
    "from sklearn.metrics import roc_auc_score\n",
    "from src.metrics import get_metrics\n",
    "def read_tcrbase_results_old(peptide, original_df, partition=0, dir_='../output/TCRBASE/tcrbase_old_ALL_swapped/'):\n",
    "    cols = ['xx', 'xy', 'id_query'] + [f'q_{x}' for x in ['A1','A2','A3','B1','B2','B3']] + ['bs1', 'hit', 'id_db'] + [f'db_{x}' for x in ['A1','A2','A3','B1','B2','B3']] + ['score', 'bs2']\n",
    "    df = pd.read_csv(f'{dir_}{peptide}.txt', comment='#', sep='\\s', header=None, names=cols)\n",
    "    df['q_seq'] = df.apply(lambda x: ''.join([x[f'q_{c}'] for c in ['A1','A2','A3','B1','B2','B3']]), axis=1)\n",
    "    original_df = original_df.query(f'peptide==\"{peptide.split(\"_\")[0]}\" and partition==@partition')\n",
    "\n",
    "    original_df['q_seq'] = original_df.apply(lambda x: ''.join([x[c] for c in ['A1','A2','A3','B1','B2','B3']]), axis=1)\n",
    "    results = pd.merge(df.set_index('q_seq')[['score', 'id_db']+[f'db_{x}' for x in ['A1','A2','A3','B1','B2','B3']]],\n",
    "                       original_df.set_index('q_seq')[['partition','binder', 'peptide', 'A1','A2','A3','B1','B2','B3']],\n",
    "                       left_index=True, right_index=True)\n",
    "    print(peptide, round(roc_auc_score(results['binder'], results['score']),4))\n",
    "    tcrbase_metrics = {'peptide':peptide, \n",
    "                       'method':'tcrbase',\n",
    "                       'n_pos':len(original_df.query('original_peptide==@peptide and partition==0'))}\n",
    "    tcrbase_metrics.update(get_metrics(results['binder'], results['score'], round_digit=5))\n",
    "\n",
    "    return tcrbase_metrics, results\n",
    "\n",
    "def read_tcrbase_results_exp(peptide, original_df, dir='../output/TCRBASE/tcrbase_expanded_p0_swapped/'):\n",
    "    cols = ['xx', 'xy', 'id_query'] + [f'q_{x}' for x in ['A1','A2','A3','B1','B2','B3']] + ['bs1', 'hit', 'id_db'] + [f'db_{x}' for x in ['A1','A2','A3','B1','B2','B3']] + ['score', 'bs2']\n",
    "    df = pd.read_csv(f'{dir}{peptide}.txt', comment='#', sep='\\s', header=None, names=cols)\n",
    "    results = pd.merge(df.set_index('id_query')[['score', 'id_db']+[f'db_{x}' for x in ['A1','A2','A3','B1','B2','B3']]],\n",
    "                       original_df[['binder', 'peptide', 'A1','A2','A3','B1','B2','B3']],\n",
    "                       left_index=True, right_index=True)\n",
    "    print(peptide, round(roc_auc_score(results['binder'], results['score']),4))\n",
    "    tcrbase_metrics = {'peptide':peptide, \n",
    "                       'method':'tcrbase',\n",
    "                       'n_pos':len(original_df.query('original_peptide==@peptide and partition==0'))}\n",
    "    tcrbase_metrics.update(get_metrics(results['binder'], results['score'], round_digit=5))\n",
    "    print(tcrbase_metrics)\n",
    "    return tcrbase_metrics, results\n"
   ]
  },
  {
   "cell_type": "code",
   "execution_count": 78,
   "id": "63f90ea5-aacb-4082-9e48-65f2e3eea704",
   "metadata": {
    "collapsed": true,
    "jupyter": {
     "outputs_hidden": true
    },
    "scrolled": true
   },
   "outputs": [
    {
     "name": "stdout",
     "output_type": "stream",
     "text": [
      "RFPLTFGWCF_p0 0.8314\n",
      "GILGFVFTL_p0 0.803\n",
      "KLGGALQAK_p0 0.5518\n",
      "DATYQRTRALVR_p0 0.7622\n",
      "RAKFKQLL_p0 0.8868\n",
      "ELAGIGILTV_p0 0.9001\n",
      "GLCTLVAML_p0 0.8821\n",
      "AVFDRKSDAK_p0 0.5317\n",
      "SPRWYFYYL_p0 0.6803\n",
      "ATDALMTGF_p0 0.7735\n",
      "IVTDFSVIK_p0 0.6719\n",
      "SLFNTVATLY_p0 0.5789\n",
      "HPVTKYIM_p0 0.8576\n",
      "YLQPRTFLL_p0 0.8747\n",
      "RLPGVLPRA_p0 0.6925\n",
      "FEDLRLLSF_p0 0.5968\n",
      "CINGVCWTV_p0 0.7465\n",
      "KSKRTPMGF_p0 0.8983\n",
      "FEDLRVLSF_p0 0.6087\n",
      "GPRLGVRAT_p0 0.7917\n",
      "NLVPMVATV_p0 0.5637\n",
      "VLFGLGFAI_p0 0.8756\n",
      "LLWNGPMAV_p0 0.8518\n",
      "RPPIFIRRL_p0 0.8148\n",
      "CTELKLSDY_p0 0.8458\n",
      "RLRAEAQVK_p0 0.4745\n"
     ]
    }
   ],
   "source": [
    "# Remove peptides below a certain TCRBase AUC ; Based on the old dataset \n",
    "tcrbase_old = pd.DataFrame([read_tcrbase_results_old(f'{p}_p0', old_df_wswap, 0)[0] for p in old_df.peptide.unique()])\n",
    "tcrbase_old['peptide']=tcrbase_old['peptide'].apply(lambda x: x.replace('_p0', ''))\n",
    "to_remove_old = tcrbase_old.query('auc_01<0.6').peptide.values"
   ]
  },
  {
   "cell_type": "code",
   "execution_count": 79,
   "id": "3b6dc8f6-75ee-495d-aac2-66fca4e10626",
   "metadata": {
    "collapsed": true,
    "jupyter": {
     "outputs_hidden": true
    },
    "scrolled": true
   },
   "outputs": [
    {
     "name": "stdout",
     "output_type": "stream",
     "text": [
      "AVFDRKSDAK 0.4855\n",
      "{'peptide': 'AVFDRKSDAK', 'method': 'tcrbase', 'n_pos': 752, 'auc': 0.48551, 'auc_01': 0.50745, 'auc_01_real': 0.06416, 'precision': 0.16628, 'recall': 1.0, 'accuracy': 0.16628, 'AP': 0.18505}\n",
      "KLGGALQAK 0.6103\n",
      "{'peptide': 'KLGGALQAK', 'method': 'tcrbase', 'n_pos': 1130, 'auc': 0.6103, 'auc_01': 0.55241, 'auc_01_real': 0.14958, 'precision': 0.16728, 'recall': 1.0, 'accuracy': 0.16728, 'AP': 0.29468}\n",
      "ELAGIGILTV 0.932\n",
      "{'peptide': 'ELAGIGILTV', 'method': 'tcrbase', 'n_pos': 502, 'auc': 0.93198, 'auc_01': 0.80832, 'auc_01_real': 0.63581, 'precision': 0.16758, 'recall': 1.0, 'accuracy': 0.16758, 'AP': 0.80004}\n",
      "TTDPSFLGRY 0.6819\n",
      "{'peptide': 'TTDPSFLGRY', 'method': 'tcrbase', 'n_pos': 535, 'auc': 0.68187, 'auc_01': 0.61969, 'auc_01_real': 0.27741, 'precision': 0.16774, 'recall': 1.0, 'accuracy': 0.16774, 'AP': 0.44064}\n",
      "RAKFKQLL 0.8805\n",
      "{'peptide': 'RAKFKQLL', 'method': 'tcrbase', 'n_pos': 945, 'auc': 0.88051, 'auc_01': 0.80623, 'auc_01_real': 0.63184, 'precision': 0.16667, 'recall': 1.0, 'accuracy': 0.16667, 'AP': 0.76444}\n",
      "QYIKWPWYI 0.7559\n",
      "{'peptide': 'QYIKWPWYI', 'method': 'tcrbase', 'n_pos': 181, 'auc': 0.75589, 'auc_01': 0.75486, 'auc_01_real': 0.53423, 'precision': 0.16981, 'recall': 1.0, 'accuracy': 0.16981, 'AP': 0.66691}\n",
      "RIRGGDGKM 1.0\n",
      "{'peptide': 'RIRGGDGKM', 'method': 'tcrbase', 'n_pos': 3, 'auc': 1.0, 'auc_01': 1.0, 'auc_01_real': 1.0, 'precision': 0.14286, 'recall': 1.0, 'accuracy': 0.14286, 'AP': 1.0}\n",
      "FEDLRVSSF 0.8636\n",
      "{'peptide': 'FEDLRVSSF', 'method': 'tcrbase', 'n_pos': 39, 'auc': 0.86364, 'auc_01': 0.67703, 'auc_01_real': 0.38636, 'precision': 0.15385, 'recall': 1.0, 'accuracy': 0.15385, 'AP': 0.625}\n",
      "NYNYLYRLF 0.972\n",
      "{'peptide': 'NYNYLYRLF', 'method': 'tcrbase', 'n_pos': 52, 'auc': 0.97203, 'auc_01': 0.95215, 'auc_01_real': 0.90909, 'precision': 0.1746, 'recall': 1.0, 'accuracy': 0.1746, 'AP': 0.94613}\n",
      "GILGFVFTL 0.803\n",
      "{'peptide': 'GILGFVFTL', 'method': 'tcrbase', 'n_pos': 1095, 'auc': 0.80299, 'auc_01': 0.7191, 'auc_01_real': 0.46628, 'precision': 0.16667, 'recall': 1.0, 'accuracy': 0.16667, 'AP': 0.57919}\n",
      "NLVPMVATV 0.69\n",
      "{'peptide': 'NLVPMVATV', 'method': 'tcrbase', 'n_pos': 421, 'auc': 0.69003, 'auc_01': 0.65184, 'auc_01_real': 0.3385, 'precision': 0.16742, 'recall': 1.0, 'accuracy': 0.16742, 'AP': 0.49353}\n",
      "RLPGVLPRA 0.6822\n",
      "{'peptide': 'RLPGVLPRA', 'method': 'tcrbase', 'n_pos': 46, 'auc': 0.68217, 'auc_01': 0.59472, 'auc_01_real': 0.22997, 'precision': 0.17308, 'recall': 1.0, 'accuracy': 0.17308, 'AP': 0.47297}\n",
      "GKTELLAPF 1.0\n",
      "{'peptide': 'GKTELLAPF', 'method': 'tcrbase', 'n_pos': 15, 'auc': 1.0, 'auc_01': 1.0, 'auc_01_real': 1.0, 'precision': 0.16667, 'recall': 1.0, 'accuracy': 0.16667, 'AP': 1.0}\n",
      "KLKDCVMYA 0.0\n",
      "{'peptide': 'KLKDCVMYA', 'method': 'tcrbase', 'n_pos': 12, 'auc': 0.0, 'auc_01': 0.47368, 'auc_01_real': 0.0, 'precision': 0.22222, 'recall': 1.0, 'accuracy': 0.22222, 'AP': 0.17361}\n",
      "SLLMPILTL 0.8\n",
      "{'peptide': 'SLLMPILTL', 'method': 'tcrbase', 'n_pos': 5, 'auc': 0.8, 'auc_01': 0.47368, 'auc_01_real': 0.0, 'precision': 0.16667, 'recall': 1.0, 'accuracy': 0.16667, 'AP': 0.5}\n",
      "CTELKLNDY 1.0\n",
      "{'peptide': 'CTELKLNDY', 'method': 'tcrbase', 'n_pos': 11, 'auc': 1.0, 'auc_01': 1.0, 'auc_01_real': 1.0, 'precision': 0.125, 'recall': 1.0, 'accuracy': 0.125, 'AP': 1.0}\n",
      "YLQPRTFLL 0.7077\n",
      "{'peptide': 'YLQPRTFLL', 'method': 'tcrbase', 'n_pos': 460, 'auc': 0.70768, 'auc_01': 0.65268, 'auc_01_real': 0.3401, 'precision': 0.16701, 'recall': 1.0, 'accuracy': 0.16701, 'AP': 0.51549}\n",
      "RFPLTFGWCF 0.9\n",
      "{'peptide': 'RFPLTFGWCF', 'method': 'tcrbase', 'n_pos': 53, 'auc': 0.9, 'auc_01': 0.77851, 'auc_01_real': 0.57917, 'precision': 0.17241, 'recall': 1.0, 'accuracy': 0.17241, 'AP': 0.7657}\n",
      "FEDLRLLSF 0.784\n",
      "{'peptide': 'FEDLRLLSF', 'method': 'tcrbase', 'n_pos': 30, 'auc': 0.78395, 'auc_01': 0.73684, 'auc_01_real': 0.5, 'precision': 0.18182, 'recall': 1.0, 'accuracy': 0.18182, 'AP': 0.68436}\n",
      "LLDFVRFMGV 0.819\n",
      "{'peptide': 'LLDFVRFMGV', 'method': 'tcrbase', 'n_pos': 29, 'auc': 0.81905, 'auc_01': 0.89474, 'auc_01_real': 0.8, 'precision': 0.19231, 'recall': 1.0, 'accuracy': 0.19231, 'AP': 0.84167}\n",
      "VSDGGPNLY 0.7976\n",
      "{'peptide': 'VSDGGPNLY', 'method': 'tcrbase', 'n_pos': 18, 'auc': 0.79762, 'auc_01': 0.73684, 'auc_01_real': 0.5, 'precision': 0.16, 'recall': 1.0, 'accuracy': 0.16, 'AP': 0.65}\n",
      "SPRWYFYYL 0.6768\n",
      "{'peptide': 'SPRWYFYYL', 'method': 'tcrbase', 'n_pos': 516, 'auc': 0.67681, 'auc_01': 0.62682, 'auc_01_real': 0.29096, 'precision': 0.16543, 'recall': 1.0, 'accuracy': 0.16543, 'AP': 0.44767}\n",
      "VYFLQSINF 0.433\n",
      "{'peptide': 'VYFLQSINF', 'method': 'tcrbase', 'n_pos': 46, 'auc': 0.43304, 'auc_01': 0.47368, 'auc_01_real': 0.0, 'precision': 0.17949, 'recall': 1.0, 'accuracy': 0.17949, 'AP': 0.1946}\n",
      "LTDEMIAQY 0.6333\n",
      "{'peptide': 'LTDEMIAQY', 'method': 'tcrbase', 'n_pos': 162, 'auc': 0.63327, 'auc_01': 0.64614, 'auc_01_real': 0.32767, 'precision': 0.16774, 'recall': 1.0, 'accuracy': 0.16774, 'AP': 0.46615}\n",
      "GLCTLVAML 0.9038\n",
      "{'peptide': 'GLCTLVAML', 'method': 'tcrbase', 'n_pos': 322, 'auc': 0.90379, 'auc_01': 0.82235, 'auc_01_real': 0.66246, 'precision': 0.16871, 'recall': 1.0, 'accuracy': 0.16871, 'AP': 0.78858}\n",
      "LLWNGPMAV 0.8906\n",
      "{'peptide': 'LLWNGPMAV', 'method': 'tcrbase', 'n_pos': 428, 'auc': 0.89064, 'auc_01': 0.83816, 'auc_01_real': 0.69251, 'precision': 0.16816, 'recall': 1.0, 'accuracy': 0.16816, 'AP': 0.7745}\n",
      "IVTDFSVIK 0.6179\n",
      "{'peptide': 'IVTDFSVIK', 'method': 'tcrbase', 'n_pos': 429, 'auc': 0.61789, 'auc_01': 0.63913, 'auc_01_real': 0.31435, 'precision': 0.16623, 'recall': 1.0, 'accuracy': 0.16623, 'AP': 0.44935}\n",
      "YLGGMSYYC 0.8\n",
      "{'peptide': 'YLGGMSYYC', 'method': 'tcrbase', 'n_pos': 13, 'auc': 0.8, 'auc_01': 0.47368, 'auc_01_real': 0.0, 'precision': 0.16667, 'recall': 1.0, 'accuracy': 0.16667, 'AP': 0.5}\n",
      "QYDPVAALF 0.25\n",
      "{'peptide': 'QYDPVAALF', 'method': 'tcrbase', 'n_pos': 10, 'auc': 0.25, 'auc_01': 0.47368, 'auc_01_real': 0.0, 'precision': 0.2, 'recall': 1.0, 'accuracy': 0.2, 'AP': 0.19643}\n",
      "KLWAQCVQL 0.75\n",
      "{'peptide': 'KLWAQCVQL', 'method': 'tcrbase', 'n_pos': 23, 'auc': 0.75, 'auc_01': 0.86842, 'auc_01_real': 0.75, 'precision': 0.15385, 'recall': 1.0, 'accuracy': 0.15385, 'AP': 0.78846}\n",
      "YLYALVYFL 0.5714\n",
      "{'peptide': 'YLYALVYFL', 'method': 'tcrbase', 'n_pos': 8, 'auc': 0.57143, 'auc_01': 0.47368, 'auc_01_real': 0.0, 'precision': 0.125, 'recall': 1.0, 'accuracy': 0.125, 'AP': 0.25}\n",
      "ALWEIQQVV 0.6726\n",
      "{'peptide': 'ALWEIQQVV', 'method': 'tcrbase', 'n_pos': 33, 'auc': 0.67262, 'auc_01': 0.64286, 'auc_01_real': 0.32143, 'precision': 0.17647, 'recall': 1.0, 'accuracy': 0.17647, 'AP': 0.49181}\n",
      "RLARLALVL 1.0\n",
      "{'peptide': 'RLARLALVL', 'method': 'tcrbase', 'n_pos': 12, 'auc': 1.0, 'auc_01': 1.0, 'auc_01_real': 1.0, 'precision': 0.22222, 'recall': 1.0, 'accuracy': 0.22222, 'AP': 1.0}\n",
      "RPRGEVRFL 0.963\n",
      "{'peptide': 'RPRGEVRFL', 'method': 'tcrbase', 'n_pos': 69, 'auc': 0.96296, 'auc_01': 0.82456, 'auc_01_real': 0.66667, 'precision': 0.14286, 'recall': 1.0, 'accuracy': 0.14286, 'AP': 0.86667}\n",
      "RPPIFIRRL 0.8703\n",
      "{'peptide': 'RPPIFIRRL', 'method': 'tcrbase', 'n_pos': 71, 'auc': 0.87026, 'auc_01': 0.8725, 'auc_01_real': 0.75775, 'precision': 0.1625, 'recall': 1.0, 'accuracy': 0.1625, 'AP': 0.82077}\n",
      "KLSALGINAV 0.7273\n",
      "{'peptide': 'KLSALGINAV', 'method': 'tcrbase', 'n_pos': 27, 'auc': 0.72727, 'auc_01': 0.64593, 'auc_01_real': 0.32727, 'precision': 0.18519, 'recall': 1.0, 'accuracy': 0.18519, 'AP': 0.48302}\n",
      "AIFYLITPV 0.0\n",
      "{'peptide': 'AIFYLITPV', 'method': 'tcrbase', 'n_pos': 12, 'auc': 0.0, 'auc_01': 0.47368, 'auc_01_real': 0.0, 'precision': 0.22222, 'recall': 1.0, 'accuracy': 0.22222, 'AP': 0.17361}\n",
      "KTFPPTEPK 0.4499\n",
      "{'peptide': 'KTFPPTEPK', 'method': 'tcrbase', 'n_pos': 165, 'auc': 0.44993, 'auc_01': 0.5157, 'auc_01_real': 0.07983, 'precision': 0.16783, 'recall': 1.0, 'accuracy': 0.16783, 'AP': 0.21459}\n",
      "KSKRTPMGF 0.8235\n",
      "{'peptide': 'KSKRTPMGF', 'method': 'tcrbase', 'n_pos': 120, 'auc': 0.82353, 'auc_01': 0.74504, 'auc_01_real': 0.51557, 'precision': 0.16667, 'recall': 1.0, 'accuracy': 0.16667, 'AP': 0.69088}\n",
      "CINGVCWTV 0.7992\n",
      "{'peptide': 'CINGVCWTV', 'method': 'tcrbase', 'n_pos': 267, 'auc': 0.79921, 'auc_01': 0.72344, 'auc_01_real': 0.47453, 'precision': 0.16605, 'recall': 1.0, 'accuracy': 0.16605, 'AP': 0.64002}\n",
      "TPRVTGGGAM 0.9422\n",
      "{'peptide': 'TPRVTGGGAM', 'method': 'tcrbase', 'n_pos': 81, 'auc': 0.94223, 'auc_01': 0.86953, 'auc_01_real': 0.7521, 'precision': 0.17073, 'recall': 1.0, 'accuracy': 0.17073, 'AP': 0.86233}\n",
      "CYTWNQMNL 1.0\n",
      "{'peptide': 'CYTWNQMNL', 'method': 'tcrbase', 'n_pos': 9, 'auc': 1.0, 'auc_01': 1.0, 'auc_01_real': 1.0, 'precision': 0.14286, 'recall': 1.0, 'accuracy': 0.14286, 'AP': 1.0}\n",
      "SLLMWITQC 0.0\n",
      "{'peptide': 'SLLMWITQC', 'method': 'tcrbase', 'n_pos': 3, 'auc': 0.0, 'auc_01': 0.47368, 'auc_01_real': 0.0, 'precision': 0.16667, 'recall': 1.0, 'accuracy': 0.16667, 'AP': 0.16667}\n",
      "FLYALALLL 1.0\n",
      "{'peptide': 'FLYALALLL', 'method': 'tcrbase', 'n_pos': 32, 'auc': 1.0, 'auc_01': 1.0, 'auc_01_real': 1.0, 'precision': 0.17241, 'recall': 1.0, 'accuracy': 0.17241, 'AP': 1.0}\n",
      "RQLLFVVEV 0.9545\n",
      "{'peptide': 'RQLLFVVEV', 'method': 'tcrbase', 'n_pos': 18, 'auc': 0.95455, 'auc_01': 0.76077, 'auc_01_real': 0.54545, 'precision': 0.15385, 'recall': 1.0, 'accuracy': 0.15385, 'AP': 0.83333}\n",
      "GPRLGVRAT 0.6157\n",
      "{'peptide': 'GPRLGVRAT', 'method': 'tcrbase', 'n_pos': 35, 'auc': 0.61574, 'auc_01': 0.7076, 'auc_01_real': 0.44444, 'precision': 0.15789, 'recall': 1.0, 'accuracy': 0.15789, 'AP': 0.54022}\n",
      "PTDNYITTY 0.631\n",
      "{'peptide': 'PTDNYITTY', 'method': 'tcrbase', 'n_pos': 30, 'auc': 0.63095, 'auc_01': 0.61779, 'auc_01_real': 0.27381, 'precision': 0.17647, 'recall': 1.0, 'accuracy': 0.17647, 'AP': 0.46458}\n",
      "CVNGSCFTV 0.2857\n",
      "{'peptide': 'CVNGSCFTV', 'method': 'tcrbase', 'n_pos': 15, 'auc': 0.28571, 'auc_01': 0.47368, 'auc_01_real': 0.0, 'precision': 0.125, 'recall': 1.0, 'accuracy': 0.125, 'AP': 0.12879}\n",
      "RLGPVQNEV 1.0\n",
      "{'peptide': 'RLGPVQNEV', 'method': 'tcrbase', 'n_pos': 13, 'auc': 1.0, 'auc_01': 1.0, 'auc_01_real': 1.0, 'precision': 0.2, 'recall': 1.0, 'accuracy': 0.2, 'AP': 1.0}\n",
      "CTELKLSDY 0.5986\n",
      "{'peptide': 'CTELKLSDY', 'method': 'tcrbase', 'n_pos': 61, 'auc': 0.59861, 'auc_01': 0.51754, 'auc_01_real': 0.08333, 'precision': 0.16667, 'recall': 1.0, 'accuracy': 0.16667, 'AP': 0.277}\n",
      "NQKLIANQF 0.474\n",
      "{'peptide': 'NQKLIANQF', 'method': 'tcrbase', 'n_pos': 104, 'auc': 0.47397, 'auc_01': 0.5453, 'auc_01_real': 0.13607, 'precision': 0.17045, 'recall': 1.0, 'accuracy': 0.17045, 'AP': 0.27398}\n",
      "KSVNITFEL 0.4\n",
      "{'peptide': 'KSVNITFEL', 'method': 'tcrbase', 'n_pos': 18, 'auc': 0.4, 'auc_01': 0.47368, 'auc_01_real': 0.0, 'precision': 0.16667, 'recall': 1.0, 'accuracy': 0.16667, 'AP': 0.17415}\n",
      "FTSDYYQLY 0.6281\n",
      "{'peptide': 'FTSDYYQLY', 'method': 'tcrbase', 'n_pos': 48, 'auc': 0.62813, 'auc_01': 0.73684, 'auc_01_real': 0.5, 'precision': 0.16667, 'recall': 1.0, 'accuracy': 0.16667, 'AP': 0.59534}\n",
      "SIIAYTMSL 0.5417\n",
      "{'peptide': 'SIIAYTMSL', 'method': 'tcrbase', 'n_pos': 30, 'auc': 0.54167, 'auc_01': 0.47368, 'auc_01_real': 0.0, 'precision': 0.15789, 'recall': 1.0, 'accuracy': 0.15789, 'AP': 0.20665}\n",
      "KTWGQYWQV 0.6154\n",
      "{'peptide': 'KTWGQYWQV', 'method': 'tcrbase', 'n_pos': 14, 'auc': 0.61538, 'auc_01': 0.73684, 'auc_01_real': 0.5, 'precision': 0.13333, 'recall': 1.0, 'accuracy': 0.13333, 'AP': 0.58333}\n",
      "SVYGDTLEK 1.0\n",
      "{'peptide': 'SVYGDTLEK', 'method': 'tcrbase', 'n_pos': 35, 'auc': 1.0, 'auc_01': 1.0, 'auc_01_real': 1.0, 'precision': 0.17857, 'recall': 1.0, 'accuracy': 0.17857, 'AP': 1.0}\n",
      "AYAQKIFKI 0.5\n",
      "{'peptide': 'AYAQKIFKI', 'method': 'tcrbase', 'n_pos': 19, 'auc': 0.5, 'auc_01': 0.47368, 'auc_01_real': 0.0, 'precision': 0.18182, 'recall': 1.0, 'accuracy': 0.18182, 'AP': 0.22375}\n",
      "ATDALMTGF 0.6985\n",
      "{'peptide': 'ATDALMTGF', 'method': 'tcrbase', 'n_pos': 107, 'auc': 0.69854, 'auc_01': 0.73505, 'auc_01_real': 0.4966, 'precision': 0.1626, 'recall': 1.0, 'accuracy': 0.1626, 'AP': 0.61238}\n",
      "MEVTPSGTWL 0.4539\n",
      "{'peptide': 'MEVTPSGTWL', 'method': 'tcrbase', 'n_pos': 63, 'auc': 0.4539, 'auc_01': 0.59064, 'auc_01_real': 0.22222, 'precision': 0.16071, 'recall': 1.0, 'accuracy': 0.16071, 'AP': 0.35292}\n",
      "FEDLRVLSF 0.875\n",
      "{'peptide': 'FEDLRVLSF', 'method': 'tcrbase', 'n_pos': 24, 'auc': 0.875, 'auc_01': 0.86842, 'auc_01_real': 0.75, 'precision': 0.16667, 'recall': 1.0, 'accuracy': 0.16667, 'AP': 0.82143}\n",
      "QELIRQGTDY 0.7778\n",
      "{'peptide': 'QELIRQGTDY', 'method': 'tcrbase', 'n_pos': 11, 'auc': 0.77778, 'auc_01': 0.73684, 'auc_01_real': 0.5, 'precision': 0.18182, 'recall': 1.0, 'accuracy': 0.18182, 'AP': 0.66667}\n",
      "RLRAEAQVK 0.3475\n",
      "{'peptide': 'RLRAEAQVK', 'method': 'tcrbase', 'n_pos': 51, 'auc': 0.34752, 'auc_01': 0.47368, 'auc_01_real': 0.0, 'precision': 0.16071, 'recall': 1.0, 'accuracy': 0.16071, 'AP': 0.12982}\n",
      "CLAVHECFV 0.3889\n",
      "{'peptide': 'CLAVHECFV', 'method': 'tcrbase', 'n_pos': 12, 'auc': 0.38889, 'auc_01': 0.47368, 'auc_01_real': 0.0, 'precision': 0.18182, 'recall': 1.0, 'accuracy': 0.18182, 'AP': 0.25758}\n",
      "KLFIRQEEV 0.2\n",
      "{'peptide': 'KLFIRQEEV', 'method': 'tcrbase', 'n_pos': 3, 'auc': 0.2, 'auc_01': 0.47368, 'auc_01_real': 0.0, 'precision': 0.16667, 'recall': 1.0, 'accuracy': 0.16667, 'AP': 0.2}\n",
      "VTEHDTLLY 0.6\n",
      "{'peptide': 'VTEHDTLLY', 'method': 'tcrbase', 'n_pos': 11, 'auc': 0.6, 'auc_01': 0.73684, 'auc_01_real': 0.5, 'precision': 0.16667, 'recall': 1.0, 'accuracy': 0.16667, 'AP': 0.6}\n",
      "VMVELVAEL 0.6154\n",
      "{'peptide': 'VMVELVAEL', 'method': 'tcrbase', 'n_pos': 26, 'auc': 0.61538, 'auc_01': 0.51417, 'auc_01_real': 0.07692, 'precision': 0.1875, 'recall': 1.0, 'accuracy': 0.1875, 'AP': 0.34524}\n",
      "YVDNSSLTI 0.1429\n",
      "{'peptide': 'YVDNSSLTI', 'method': 'tcrbase', 'n_pos': 6, 'auc': 0.14286, 'auc_01': 0.47368, 'auc_01_real': 0.0, 'precision': 0.125, 'recall': 1.0, 'accuracy': 0.125, 'AP': 0.14286}\n",
      "YLLEMLWRL 0.1667\n",
      "{'peptide': 'YLLEMLWRL', 'method': 'tcrbase', 'n_pos': 5, 'auc': 0.16667, 'auc_01': 0.47368, 'auc_01_real': 0.0, 'precision': 0.14286, 'recall': 1.0, 'accuracy': 0.14286, 'AP': 0.16667}\n",
      "HPVTKYIM 0.7067\n",
      "{'peptide': 'HPVTKYIM', 'method': 'tcrbase', 'n_pos': 55, 'auc': 0.70669, 'auc_01': 0.66507, 'auc_01_real': 0.36364, 'precision': 0.17188, 'recall': 1.0, 'accuracy': 0.17188, 'AP': 0.57481}\n",
      "FLASKIGRLV 0.431\n",
      "{'peptide': 'FLASKIGRLV', 'method': 'tcrbase', 'n_pos': 39, 'auc': 0.43103, 'auc_01': 0.47368, 'auc_01_real': 0.0, 'precision': 0.17143, 'recall': 1.0, 'accuracy': 0.17143, 'AP': 0.16617}\n",
      "MALWMRLLPLL 1.0\n",
      "{'peptide': 'MALWMRLLPLL', 'method': 'tcrbase', 'n_pos': 7, 'auc': 1.0, 'auc_01': 1.0, 'auc_01_real': 1.0, 'precision': 0.14286, 'recall': 1.0, 'accuracy': 0.14286, 'AP': 1.0}\n",
      "RYPLTFGW 0.9559\n",
      "{'peptide': 'RYPLTFGW', 'method': 'tcrbase', 'n_pos': 29, 'auc': 0.95588, 'auc_01': 0.79102, 'auc_01_real': 0.60294, 'precision': 0.19048, 'recall': 1.0, 'accuracy': 0.19048, 'AP': 0.85417}\n",
      "EAAGIGILTV 1.0\n",
      "{'peptide': 'EAAGIGILTV', 'method': 'tcrbase', 'n_pos': 13, 'auc': 1.0, 'auc_01': 1.0, 'auc_01_real': 1.0, 'precision': 0.16667, 'recall': 1.0, 'accuracy': 0.16667, 'AP': 1.0}\n",
      "YADVFHLYL 0.45\n",
      "{'peptide': 'YADVFHLYL', 'method': 'tcrbase', 'n_pos': 12, 'auc': 0.45, 'auc_01': 0.47368, 'auc_01_real': 0.0, 'precision': 0.16667, 'recall': 1.0, 'accuracy': 0.16667, 'AP': 0.33333}\n",
      "DATYQRTRALVR 0.7633\n",
      "{'peptide': 'DATYQRTRALVR', 'method': 'tcrbase', 'n_pos': 126, 'auc': 0.76329, 'auc_01': 0.66374, 'auc_01_real': 0.36111, 'precision': 0.16364, 'recall': 1.0, 'accuracy': 0.16364, 'AP': 0.5601}\n",
      "KLQFTSLEI 0.1875\n",
      "{'peptide': 'KLQFTSLEI', 'method': 'tcrbase', 'n_pos': 56, 'auc': 0.1875, 'auc_01': 0.47368, 'auc_01_real': 0.0, 'precision': 0.2, 'recall': 1.0, 'accuracy': 0.2, 'AP': 0.18333}\n",
      "RYPLTFGWCF 0.7778\n",
      "{'peptide': 'RYPLTFGWCF', 'method': 'tcrbase', 'n_pos': 6, 'auc': 0.77778, 'auc_01': 0.47368, 'auc_01_real': 0.0, 'precision': 0.18182, 'recall': 1.0, 'accuracy': 0.18182, 'AP': 0.41667}\n",
      "VYIGDPAQL 0.6923\n",
      "{'peptide': 'VYIGDPAQL', 'method': 'tcrbase', 'n_pos': 11, 'auc': 0.69231, 'auc_01': 0.64912, 'auc_01_real': 0.33333, 'precision': 0.1875, 'recall': 1.0, 'accuracy': 0.1875, 'AP': 0.53535}\n",
      "YMPYFFTLL 0.0\n",
      "{'peptide': 'YMPYFFTLL', 'method': 'tcrbase', 'n_pos': 8, 'auc': 0.0, 'auc_01': 0.47368, 'auc_01_real': 0.0, 'precision': 0.11111, 'recall': 1.0, 'accuracy': 0.11111, 'AP': 0.11111}\n",
      "RPHERNGFTVL 0.7407\n",
      "{'peptide': 'RPHERNGFTVL', 'method': 'tcrbase', 'n_pos': 19, 'auc': 0.74074, 'auc_01': 0.7115, 'auc_01_real': 0.45185, 'precision': 0.15625, 'recall': 1.0, 'accuracy': 0.15625, 'AP': 0.62}\n",
      "RAQAPPPSW 0.6429\n",
      "{'peptide': 'RAQAPPPSW', 'method': 'tcrbase', 'n_pos': 18, 'auc': 0.64286, 'auc_01': 0.60526, 'auc_01_real': 0.25, 'precision': 0.16, 'recall': 1.0, 'accuracy': 0.16, 'AP': 0.43175}\n",
      "VAANIVLTV 0.5965\n",
      "{'peptide': 'VAANIVLTV', 'method': 'tcrbase', 'n_pos': 13, 'auc': 0.59649, 'auc_01': 0.55679, 'auc_01_real': 0.15789, 'precision': 0.13636, 'recall': 1.0, 'accuracy': 0.13636, 'AP': 0.34545}\n",
      "RMFPNAPYL 0.5152\n",
      "{'peptide': 'RMFPNAPYL', 'method': 'tcrbase', 'n_pos': 15, 'auc': 0.51515, 'auc_01': 0.64912, 'auc_01_real': 0.33333, 'precision': 0.21429, 'recall': 1.0, 'accuracy': 0.21429, 'AP': 0.49359}\n",
      "SLFNTVATLY 0.5902\n",
      "{'peptide': 'SLFNTVATLY', 'method': 'tcrbase', 'n_pos': 45, 'auc': 0.59023, 'auc_01': 0.48951, 'auc_01_real': 0.03008, 'precision': 0.15556, 'recall': 1.0, 'accuracy': 0.15556, 'AP': 0.21211}\n",
      "KLVALGINAV 0.9244\n",
      "{'peptide': 'KLVALGINAV', 'method': 'tcrbase', 'n_pos': 47, 'auc': 0.92437, 'auc_01': 0.8054, 'auc_01_real': 0.63025, 'precision': 0.17073, 'recall': 1.0, 'accuracy': 0.17073, 'AP': 0.80372}\n",
      "IPSINVHHY 0.2143\n",
      "{'peptide': 'IPSINVHHY', 'method': 'tcrbase', 'n_pos': 47, 'auc': 0.21429, 'auc_01': 0.47368, 'auc_01_real': 0.0, 'precision': 0.22222, 'recall': 1.0, 'accuracy': 0.22222, 'AP': 0.21111}\n",
      "LWLLWPVTL 0.1667\n",
      "{'peptide': 'LWLLWPVTL', 'method': 'tcrbase', 'n_pos': 3, 'auc': 0.16667, 'auc_01': 0.47368, 'auc_01_real': 0.0, 'precision': 0.14286, 'recall': 1.0, 'accuracy': 0.14286, 'AP': 0.16667}\n",
      "WPWYIWLGF 0.4286\n",
      "{'peptide': 'WPWYIWLGF', 'method': 'tcrbase', 'n_pos': 22, 'auc': 0.42857, 'auc_01': 0.47368, 'auc_01_real': 0.0, 'precision': 0.22222, 'recall': 1.0, 'accuracy': 0.22222, 'AP': 0.36111}\n",
      "FLRGRAYGL 0.75\n",
      "{'peptide': 'FLRGRAYGL', 'method': 'tcrbase', 'n_pos': 29, 'auc': 0.75, 'auc_01': 0.86842, 'auc_01_real': 0.75, 'precision': 0.15385, 'recall': 1.0, 'accuracy': 0.15385, 'AP': 0.78846}\n",
      "MPYFFTLLL 0.0\n",
      "{'peptide': 'MPYFFTLLL', 'method': 'tcrbase', 'n_pos': 5, 'auc': 0.0, 'auc_01': 0.47368, 'auc_01_real': 0.0, 'precision': 0.125, 'recall': 1.0, 'accuracy': 0.125, 'AP': 0.125}\n",
      "NYMPYFFTL 0.375\n",
      "{'peptide': 'NYMPYFFTL', 'method': 'tcrbase', 'n_pos': 25, 'auc': 0.375, 'auc_01': 0.47368, 'auc_01_real': 0.0, 'precision': 0.2, 'recall': 1.0, 'accuracy': 0.2, 'AP': 0.225}\n",
      "NMLSTVLGV 0.2\n",
      "{'peptide': 'NMLSTVLGV', 'method': 'tcrbase', 'n_pos': 17, 'auc': 0.2, 'auc_01': 0.47368, 'auc_01_real': 0.0, 'precision': 0.16667, 'recall': 1.0, 'accuracy': 0.16667, 'AP': 0.2}\n",
      "KLVAMGINAV 1.0\n",
      "{'peptide': 'KLVAMGINAV', 'method': 'tcrbase', 'n_pos': 23, 'auc': 1.0, 'auc_01': 1.0, 'auc_01_real': 1.0, 'precision': 0.17647, 'recall': 1.0, 'accuracy': 0.17647, 'AP': 1.0}\n",
      "NSSTCMMCY 0.8333\n",
      "{'peptide': 'NSSTCMMCY', 'method': 'tcrbase', 'n_pos': 6, 'auc': 0.83333, 'auc_01': 0.47368, 'auc_01_real': 0.0, 'precision': 0.14286, 'recall': 1.0, 'accuracy': 0.14286, 'AP': 0.5}\n",
      "LWFHISCLTF 1.0\n",
      "{'peptide': 'LWFHISCLTF', 'method': 'tcrbase', 'n_pos': 3, 'auc': 1.0, 'auc_01': 1.0, 'auc_01_real': 1.0, 'precision': 0.16667, 'recall': 1.0, 'accuracy': 0.16667, 'AP': 1.0}\n",
      "HTMLCMCCK 1.0\n",
      "{'peptide': 'HTMLCMCCK', 'method': 'tcrbase', 'n_pos': 18, 'auc': 1.0, 'auc_01': 1.0, 'auc_01_real': 1.0, 'precision': 0.125, 'recall': 1.0, 'accuracy': 0.125, 'AP': 1.0}\n",
      "IMLCCMTSC 0.1667\n",
      "{'peptide': 'IMLCCMTSC', 'method': 'tcrbase', 'n_pos': 13, 'auc': 0.16667, 'auc_01': 0.47368, 'auc_01_real': 0.0, 'precision': 0.25, 'recall': 1.0, 'accuracy': 0.25, 'AP': 0.225}\n",
      "SVLYYQNNV 0.1667\n",
      "{'peptide': 'SVLYYQNNV', 'method': 'tcrbase', 'n_pos': 12, 'auc': 0.16667, 'auc_01': 0.47368, 'auc_01_real': 0.0, 'precision': 0.25, 'recall': 1.0, 'accuracy': 0.25, 'AP': 0.22619}\n",
      "FLLNKEMYL 0.6667\n",
      "{'peptide': 'FLLNKEMYL', 'method': 'tcrbase', 'n_pos': 10, 'auc': 0.66667, 'auc_01': 0.47368, 'auc_01_real': 0.0, 'precision': 0.18182, 'recall': 1.0, 'accuracy': 0.18182, 'AP': 0.39286}\n",
      "LPRWYFYYL 0.824\n",
      "{'peptide': 'LPRWYFYYL', 'method': 'tcrbase', 'n_pos': 26, 'auc': 0.824, 'auc_01': 0.74737, 'auc_01_real': 0.52, 'precision': 0.16667, 'recall': 1.0, 'accuracy': 0.16667, 'AP': 0.67036}\n",
      "FLNRFTTTL 0.8\n",
      "{'peptide': 'FLNRFTTTL', 'method': 'tcrbase', 'n_pos': 2, 'auc': 0.8, 'auc_01': 0.47368, 'auc_01_real': 0.0, 'precision': 0.16667, 'recall': 1.0, 'accuracy': 0.16667, 'AP': 0.5}\n",
      "WPVTLACFV 0.3333\n",
      "{'peptide': 'WPVTLACFV', 'method': 'tcrbase', 'n_pos': 24, 'auc': 0.33333, 'auc_01': 0.47368, 'auc_01_real': 0.0, 'precision': 0.17647, 'recall': 1.0, 'accuracy': 0.17647, 'AP': 0.17499}\n",
      "QIKVRVDMV 0.7857\n",
      "{'peptide': 'QIKVRVDMV', 'method': 'tcrbase', 'n_pos': 69, 'auc': 0.78571, 'auc_01': 0.73684, 'auc_01_real': 0.5, 'precision': 0.22222, 'recall': 1.0, 'accuracy': 0.22222, 'AP': 0.7}\n",
      "CLGGLLTMV 1.0\n",
      "{'peptide': 'CLGGLLTMV', 'method': 'tcrbase', 'n_pos': 10, 'auc': 1.0, 'auc_01': 1.0, 'auc_01_real': 1.0, 'precision': 0.125, 'recall': 1.0, 'accuracy': 0.125, 'AP': 1.0}\n",
      "TLMNVLTLV 0.3889\n",
      "{'peptide': 'TLMNVLTLV', 'method': 'tcrbase', 'n_pos': 6, 'auc': 0.38889, 'auc_01': 0.47368, 'auc_01_real': 0.0, 'precision': 0.18182, 'recall': 1.0, 'accuracy': 0.18182, 'AP': 0.225}\n",
      "AEVQIDRLI 0.1429\n",
      "{'peptide': 'AEVQIDRLI', 'method': 'tcrbase', 'n_pos': 13, 'auc': 0.14286, 'auc_01': 0.47368, 'auc_01_real': 0.0, 'precision': 0.125, 'recall': 1.0, 'accuracy': 0.125, 'AP': 0.14286}\n",
      "MTLHGHMMY 0.9524\n",
      "{'peptide': 'MTLHGHMMY', 'method': 'tcrbase', 'n_pos': 64, 'auc': 0.95238, 'auc_01': 0.74937, 'auc_01_real': 0.52381, 'precision': 0.17647, 'recall': 1.0, 'accuracy': 0.17647, 'AP': 0.80556}\n",
      "TLMNVITLV 0.4\n",
      "{'peptide': 'TLMNVITLV', 'method': 'tcrbase', 'n_pos': 3, 'auc': 0.4, 'auc_01': 0.47368, 'auc_01_real': 0.0, 'precision': 0.16667, 'recall': 1.0, 'accuracy': 0.16667, 'AP': 0.25}\n",
      "ALSKGVHFV 0.576\n",
      "{'peptide': 'ALSKGVHFV', 'method': 'tcrbase', 'n_pos': 31, 'auc': 0.576, 'auc_01': 0.57895, 'auc_01_real': 0.2, 'precision': 0.16667, 'recall': 1.0, 'accuracy': 0.16667, 'AP': 0.37117}\n",
      "ILGFVFTLT 0.8\n",
      "{'peptide': 'ILGFVFTLT', 'method': 'tcrbase', 'n_pos': 2, 'auc': 0.8, 'auc_01': 0.47368, 'auc_01_real': 0.0, 'precision': 0.16667, 'recall': 1.0, 'accuracy': 0.16667, 'AP': 0.5}\n",
      "VLFGLGFAI 0.5108\n",
      "{'peptide': 'VLFGLGFAI', 'method': 'tcrbase', 'n_pos': 46, 'auc': 0.51075, 'auc_01': 0.5614, 'auc_01_real': 0.16667, 'precision': 0.16216, 'recall': 1.0, 'accuracy': 0.16216, 'AP': 0.32137}\n",
      "HPVGEADYFEY 1.0\n",
      "{'peptide': 'HPVGEADYFEY', 'method': 'tcrbase', 'n_pos': 9, 'auc': 1.0, 'auc_01': 1.0, 'auc_01_real': 1.0, 'precision': 0.11111, 'recall': 1.0, 'accuracy': 0.11111, 'AP': 1.0}\n",
      "DTDFVNEFY 1.0\n",
      "{'peptide': 'DTDFVNEFY', 'method': 'tcrbase', 'n_pos': 3, 'auc': 1.0, 'auc_01': 1.0, 'auc_01_real': 1.0, 'precision': 0.14286, 'recall': 1.0, 'accuracy': 0.14286, 'AP': 1.0}\n",
      "KVYPIILRL 0.2778\n",
      "{'peptide': 'KVYPIILRL', 'method': 'tcrbase', 'n_pos': 8, 'auc': 0.27778, 'auc_01': 0.47368, 'auc_01_real': 0.0, 'precision': 0.18182, 'recall': 1.0, 'accuracy': 0.18182, 'AP': 0.18254}\n",
      "TAFTIPSI 0.3636\n",
      "{'peptide': 'TAFTIPSI', 'method': 'tcrbase', 'n_pos': 12, 'auc': 0.36364, 'auc_01': 0.47368, 'auc_01_real': 0.0, 'precision': 0.15385, 'recall': 1.0, 'accuracy': 0.15385, 'AP': 0.18333}\n",
      "TTIQTIVEV 0.2\n",
      "{'peptide': 'TTIQTIVEV', 'method': 'tcrbase', 'n_pos': 4, 'auc': 0.2, 'auc_01': 0.47368, 'auc_01_real': 0.0, 'precision': 0.16667, 'recall': 1.0, 'accuracy': 0.16667, 'AP': 0.2}\n",
      "KLNEEIAII 0.5\n",
      "{'peptide': 'KLNEEIAII', 'method': 'tcrbase', 'n_pos': 8, 'auc': 0.5, 'auc_01': 0.47368, 'auc_01_real': 0.0, 'precision': 0.14286, 'recall': 1.0, 'accuracy': 0.14286, 'AP': 0.25}\n",
      "LLFLVLIML 0.0\n",
      "{'peptide': 'LLFLVLIML', 'method': 'tcrbase', 'n_pos': 6, 'auc': 0.0, 'auc_01': 0.47368, 'auc_01_real': 0.0, 'precision': 0.16667, 'recall': 1.0, 'accuracy': 0.16667, 'AP': 0.16667}\n",
      "FLHVTYVPA 0.8\n",
      "{'peptide': 'FLHVTYVPA', 'method': 'tcrbase', 'n_pos': 9, 'auc': 0.8, 'auc_01': 0.47368, 'auc_01_real': 0.0, 'precision': 0.16667, 'recall': 1.0, 'accuracy': 0.16667, 'AP': 0.5}\n",
      "FLPGVYSVI 0.2\n",
      "{'peptide': 'FLPGVYSVI', 'method': 'tcrbase', 'n_pos': 6, 'auc': 0.2, 'auc_01': 0.47368, 'auc_01_real': 0.0, 'precision': 0.16667, 'recall': 1.0, 'accuracy': 0.16667, 'AP': 0.2}\n",
      "YLFDESGEF 0.4\n",
      "{'peptide': 'YLFDESGEF', 'method': 'tcrbase', 'n_pos': 4, 'auc': 0.4, 'auc_01': 0.47368, 'auc_01_real': 0.0, 'precision': 0.16667, 'recall': 1.0, 'accuracy': 0.16667, 'AP': 0.25}\n",
      "FLALCADSI 0.0714\n",
      "{'peptide': 'FLALCADSI', 'method': 'tcrbase', 'n_pos': 18, 'auc': 0.07143, 'auc_01': 0.47368, 'auc_01_real': 0.0, 'precision': 0.22222, 'recall': 1.0, 'accuracy': 0.22222, 'AP': 0.18254}\n",
      "RTLNAWVKV 0.5545\n",
      "{'peptide': 'RTLNAWVKV', 'method': 'tcrbase', 'n_pos': 30, 'auc': 0.55455, 'auc_01': 0.57895, 'auc_01_real': 0.2, 'precision': 0.18519, 'recall': 1.0, 'accuracy': 0.18519, 'AP': 0.38462}\n",
      "RLITGRLQSL 0.5\n",
      "{'peptide': 'RLITGRLQSL', 'method': 'tcrbase', 'n_pos': 43, 'auc': 0.5, 'auc_01': 0.73684, 'auc_01_real': 0.5, 'precision': 0.16667, 'recall': 1.0, 'accuracy': 0.16667, 'AP': 0.58333}\n",
      "TSTLQEQIGW 0.75\n",
      "{'peptide': 'TSTLQEQIGW', 'method': 'tcrbase', 'n_pos': 17, 'auc': 0.75, 'auc_01': 0.47368, 'auc_01_real': 0.0, 'precision': 0.11111, 'recall': 1.0, 'accuracy': 0.11111, 'AP': 0.33333}\n",
      "YSEHPTFTSQY 0.7417\n",
      "{'peptide': 'YSEHPTFTSQY', 'method': 'tcrbase', 'n_pos': 47, 'auc': 0.74167, 'auc_01': 0.57895, 'auc_01_real': 0.2, 'precision': 0.17241, 'recall': 1.0, 'accuracy': 0.17241, 'AP': 0.48556}\n",
      "LLYDANYFL 0.7692\n",
      "{'peptide': 'LLYDANYFL', 'method': 'tcrbase', 'n_pos': 25, 'auc': 0.76923, 'auc_01': 0.64372, 'auc_01_real': 0.32308, 'precision': 0.16129, 'recall': 1.0, 'accuracy': 0.16129, 'AP': 0.52262}\n",
      "TSQWLTNIF 0.6\n",
      "{'peptide': 'TSQWLTNIF', 'method': 'tcrbase', 'n_pos': 20, 'auc': 0.6, 'auc_01': 0.47368, 'auc_01_real': 0.0, 'precision': 0.16667, 'recall': 1.0, 'accuracy': 0.16667, 'AP': 0.36111}\n",
      "TLWCSPIKV 0.5\n",
      "{'peptide': 'TLWCSPIKV', 'method': 'tcrbase', 'n_pos': 16, 'auc': 0.5, 'auc_01': 0.47368, 'auc_01_real': 0.0, 'precision': 0.16667, 'recall': 1.0, 'accuracy': 0.16667, 'AP': 0.26667}\n",
      "AIMEKNIVL 0.75\n",
      "{'peptide': 'AIMEKNIVL', 'method': 'tcrbase', 'n_pos': 10, 'auc': 0.75, 'auc_01': 0.73684, 'auc_01_real': 0.5, 'precision': 0.16667, 'recall': 1.0, 'accuracy': 0.16667, 'AP': 0.64286}\n",
      "VYGIRLEHF 0.4\n",
      "{'peptide': 'VYGIRLEHF', 'method': 'tcrbase', 'n_pos': 2, 'auc': 0.4, 'auc_01': 0.47368, 'auc_01_real': 0.0, 'precision': 0.16667, 'recall': 1.0, 'accuracy': 0.16667, 'AP': 0.25}\n",
      "IVCPICSQK 1.0\n",
      "{'peptide': 'IVCPICSQK', 'method': 'tcrbase', 'n_pos': 25, 'auc': 1.0, 'auc_01': 1.0, 'auc_01_real': 1.0, 'precision': 0.15625, 'recall': 1.0, 'accuracy': 0.15625, 'AP': 1.0}\n",
      "EPLPQGQLTAY 0.55\n",
      "{'peptide': 'EPLPQGQLTAY', 'method': 'tcrbase', 'n_pos': 13, 'auc': 0.55, 'auc_01': 0.73684, 'auc_01_real': 0.5, 'precision': 0.16667, 'recall': 1.0, 'accuracy': 0.16667, 'AP': 0.59091}\n",
      "FLPRVFSAV 0.5\n",
      "{'peptide': 'FLPRVFSAV', 'method': 'tcrbase', 'n_pos': 15, 'auc': 0.5, 'auc_01': 0.47368, 'auc_01_real': 0.0, 'precision': 0.25, 'recall': 1.0, 'accuracy': 0.25, 'AP': 0.325}\n",
      "MPASWVMRI 0.8\n",
      "{'peptide': 'MPASWVMRI', 'method': 'tcrbase', 'n_pos': 12, 'auc': 0.8, 'auc_01': 0.47368, 'auc_01_real': 0.0, 'precision': 0.16667, 'recall': 1.0, 'accuracy': 0.16667, 'AP': 0.5}\n",
      "SLLMWITQV 1.0\n",
      "{'peptide': 'SLLMWITQV', 'method': 'tcrbase', 'n_pos': 12, 'auc': 1.0, 'auc_01': 1.0, 'auc_01_real': 1.0, 'precision': 0.14286, 'recall': 1.0, 'accuracy': 0.14286, 'AP': 1.0}\n",
      "IMDQVPFSV 0.4375\n",
      "{'peptide': 'IMDQVPFSV', 'method': 'tcrbase', 'n_pos': 14, 'auc': 0.4375, 'auc_01': 0.47368, 'auc_01_real': 0.0, 'precision': 0.2, 'recall': 1.0, 'accuracy': 0.2, 'AP': 0.25}\n",
      "RVAGDSGFAAY 0.475\n",
      "{'peptide': 'RVAGDSGFAAY', 'method': 'tcrbase', 'n_pos': 37, 'auc': 0.475, 'auc_01': 0.53509, 'auc_01_real': 0.11667, 'precision': 0.17241, 'recall': 1.0, 'accuracy': 0.17241, 'AP': 0.24863}\n",
      "LMNVLTLVY 0.8\n",
      "{'peptide': 'LMNVLTLVY', 'method': 'tcrbase', 'n_pos': 9, 'auc': 0.8, 'auc_01': 0.47368, 'auc_01_real': 0.0, 'precision': 0.16667, 'recall': 1.0, 'accuracy': 0.16667, 'AP': 0.5}\n",
      "AAFKRSCLK 0.2\n",
      "{'peptide': 'AAFKRSCLK', 'method': 'tcrbase', 'n_pos': 11, 'auc': 0.2, 'auc_01': 0.47368, 'auc_01_real': 0.0, 'precision': 0.16667, 'recall': 1.0, 'accuracy': 0.16667, 'AP': 0.2}\n",
      "LLFGYPVYV 0.7455\n",
      "{'peptide': 'LLFGYPVYV', 'method': 'tcrbase', 'n_pos': 25, 'auc': 0.74545, 'auc_01': 0.78947, 'auc_01_real': 0.6, 'precision': 0.18519, 'recall': 1.0, 'accuracy': 0.18519, 'AP': 0.69706}\n",
      "LLDDFVEII 0.3333\n",
      "{'peptide': 'LLDDFVEII', 'method': 'tcrbase', 'n_pos': 30, 'auc': 0.33333, 'auc_01': 0.47368, 'auc_01_real': 0.0, 'precision': 0.14286, 'recall': 1.0, 'accuracy': 0.14286, 'AP': 0.2}\n",
      "WLLWPVTLA 0.3333\n",
      "{'peptide': 'WLLWPVTLA', 'method': 'tcrbase', 'n_pos': 10, 'auc': 0.33333, 'auc_01': 0.47368, 'auc_01_real': 0.0, 'precision': 0.18182, 'recall': 1.0, 'accuracy': 0.18182, 'AP': 0.19444}\n",
      "AYSSAGASI 0.2857\n",
      "{'peptide': 'AYSSAGASI', 'method': 'tcrbase', 'n_pos': 10, 'auc': 0.28571, 'auc_01': 0.47368, 'auc_01_real': 0.0, 'precision': 0.125, 'recall': 1.0, 'accuracy': 0.125, 'AP': 0.16667}\n",
      "KVLEYVIKV 0.5\n",
      "{'peptide': 'KVLEYVIKV', 'method': 'tcrbase', 'n_pos': 6, 'auc': 0.5, 'auc_01': 0.47368, 'auc_01_real': 0.0, 'precision': 0.14286, 'recall': 1.0, 'accuracy': 0.14286, 'AP': 0.25}\n",
      "YVWKSYVHV 0.1667\n",
      "{'peptide': 'YVWKSYVHV', 'method': 'tcrbase', 'n_pos': 5, 'auc': 0.16667, 'auc_01': 0.47368, 'auc_01_real': 0.0, 'precision': 0.14286, 'recall': 1.0, 'accuracy': 0.14286, 'AP': 0.16667}\n",
      "LMIERFVSL 0.0\n",
      "{'peptide': 'LMIERFVSL', 'method': 'tcrbase', 'n_pos': 8, 'auc': 0.0, 'auc_01': 0.47368, 'auc_01_real': 0.0, 'precision': 0.16667, 'recall': 1.0, 'accuracy': 0.16667, 'AP': 0.16667}\n",
      "CLLWSFQTSA 0.2\n",
      "{'peptide': 'CLLWSFQTSA', 'method': 'tcrbase', 'n_pos': 10, 'auc': 0.2, 'auc_01': 0.47368, 'auc_01_real': 0.0, 'precision': 0.16667, 'recall': 1.0, 'accuracy': 0.16667, 'AP': 0.15556}\n",
      "QPGQTFSVL 1.0\n",
      "{'peptide': 'QPGQTFSVL', 'method': 'tcrbase', 'n_pos': 17, 'auc': 1.0, 'auc_01': 1.0, 'auc_01_real': 1.0, 'precision': 0.16667, 'recall': 1.0, 'accuracy': 0.16667, 'AP': 1.0}\n",
      "FLAHIQWMV 0.5625\n",
      "{'peptide': 'FLAHIQWMV', 'method': 'tcrbase', 'n_pos': 15, 'auc': 0.5625, 'auc_01': 0.47368, 'auc_01_real': 0.0, 'precision': 0.2, 'recall': 1.0, 'accuracy': 0.2, 'AP': 0.29167}\n",
      "FTVLCLTPV 0.1429\n",
      "{'peptide': 'FTVLCLTPV', 'method': 'tcrbase', 'n_pos': 7, 'auc': 0.14286, 'auc_01': 0.47368, 'auc_01_real': 0.0, 'precision': 0.125, 'recall': 1.0, 'accuracy': 0.125, 'AP': 0.14286}\n",
      "YTMADLVYA 0.0\n",
      "{'peptide': 'YTMADLVYA', 'method': 'tcrbase', 'n_pos': 4, 'auc': 0.0, 'auc_01': 0.47368, 'auc_01_real': 0.0, 'precision': 0.16667, 'recall': 1.0, 'accuracy': 0.16667, 'AP': 0.16667}\n",
      "SMMILSDDA 0.8333\n",
      "{'peptide': 'SMMILSDDA', 'method': 'tcrbase', 'n_pos': 8, 'auc': 0.83333, 'auc_01': 0.47368, 'auc_01_real': 0.0, 'precision': 0.14286, 'recall': 1.0, 'accuracy': 0.14286, 'AP': 0.5}\n",
      "ALYGFVPVL 0.3333\n",
      "{'peptide': 'ALYGFVPVL', 'method': 'tcrbase', 'n_pos': 14, 'auc': 0.33333, 'auc_01': 0.47368, 'auc_01_real': 0.0, 'precision': 0.14286, 'recall': 1.0, 'accuracy': 0.14286, 'AP': 0.2}\n",
      "LLLEWLAMA 0.1\n",
      "{'peptide': 'LLLEWLAMA', 'method': 'tcrbase', 'n_pos': 14, 'auc': 0.1, 'auc_01': 0.47368, 'auc_01_real': 0.0, 'precision': 0.16667, 'recall': 1.0, 'accuracy': 0.16667, 'AP': 0.14091}\n",
      "VVMSWAPPV 0.375\n",
      "{'peptide': 'VVMSWAPPV', 'method': 'tcrbase', 'n_pos': 12, 'auc': 0.375, 'auc_01': 0.47368, 'auc_01_real': 0.0, 'precision': 0.2, 'recall': 1.0, 'accuracy': 0.2, 'AP': 0.26667}\n",
      "MLDLQPETT 0.5833\n",
      "{'peptide': 'MLDLQPETT', 'method': 'tcrbase', 'n_pos': 9, 'auc': 0.58333, 'auc_01': 0.47368, 'auc_01_real': 0.0, 'precision': 0.2, 'recall': 1.0, 'accuracy': 0.2, 'AP': 0.27778}\n",
      "VFLVLLPLV 0.125\n",
      "{'peptide': 'VFLVLLPLV', 'method': 'tcrbase', 'n_pos': 10, 'auc': 0.125, 'auc_01': 0.47368, 'auc_01_real': 0.0, 'precision': 0.2, 'recall': 1.0, 'accuracy': 0.2, 'AP': 0.17143}\n",
      "SMWALVISV 1.0\n",
      "{'peptide': 'SMWALVISV', 'method': 'tcrbase', 'n_pos': 2, 'auc': 1.0, 'auc_01': 1.0, 'auc_01_real': 1.0, 'precision': 0.16667, 'recall': 1.0, 'accuracy': 0.16667, 'AP': 1.0}\n",
      "VMHANYIFW 1.0\n",
      "{'peptide': 'VMHANYIFW', 'method': 'tcrbase', 'n_pos': 6, 'auc': 1.0, 'auc_01': 1.0, 'auc_01_real': 1.0, 'precision': 0.14286, 'recall': 1.0, 'accuracy': 0.14286, 'AP': 1.0}\n",
      "MLDMYSVML 0.2\n",
      "{'peptide': 'MLDMYSVML', 'method': 'tcrbase', 'n_pos': 3, 'auc': 0.2, 'auc_01': 0.47368, 'auc_01_real': 0.0, 'precision': 0.16667, 'recall': 1.0, 'accuracy': 0.16667, 'AP': 0.2}\n",
      "YVLDHLIVV 0.5\n",
      "{'peptide': 'YVLDHLIVV', 'method': 'tcrbase', 'n_pos': 11, 'auc': 0.5, 'auc_01': 0.73684, 'auc_01_real': 0.5, 'precision': 0.15385, 'recall': 1.0, 'accuracy': 0.15385, 'AP': 0.57692}\n",
      "LLLDRLNQL 1.0\n",
      "{'peptide': 'LLLDRLNQL', 'method': 'tcrbase', 'n_pos': 3, 'auc': 1.0, 'auc_01': 1.0, 'auc_01_real': 1.0, 'precision': 0.16667, 'recall': 1.0, 'accuracy': 0.16667, 'AP': 1.0}\n",
      "AAGIGILTV 1.0\n",
      "{'peptide': 'AAGIGILTV', 'method': 'tcrbase', 'n_pos': 6, 'auc': 1.0, 'auc_01': 1.0, 'auc_01_real': 1.0, 'precision': 0.14286, 'recall': 1.0, 'accuracy': 0.14286, 'AP': 1.0}\n",
      "RYSIFFDYM 0.8571\n",
      "{'peptide': 'RYSIFFDYM', 'method': 'tcrbase', 'n_pos': 7, 'auc': 0.85714, 'auc_01': 0.47368, 'auc_01_real': 0.0, 'precision': 0.125, 'recall': 1.0, 'accuracy': 0.125, 'AP': 0.5}\n",
      "TSAMQTMLF 0.0\n",
      "{'peptide': 'TSAMQTMLF', 'method': 'tcrbase', 'n_pos': 10, 'auc': 0.0, 'auc_01': 0.47368, 'auc_01_real': 0.0, 'precision': 0.16667, 'recall': 1.0, 'accuracy': 0.16667, 'AP': 0.16667}\n",
      "KMVTVCPNT 1.0\n",
      "{'peptide': 'KMVTVCPNT', 'method': 'tcrbase', 'n_pos': 2, 'auc': 1.0, 'auc_01': 1.0, 'auc_01_real': 1.0, 'precision': 0.16667, 'recall': 1.0, 'accuracy': 0.16667, 'AP': 1.0}\n",
      "KQIYKTPPI 0.3333\n",
      "{'peptide': 'KQIYKTPPI', 'method': 'tcrbase', 'n_pos': 7, 'auc': 0.33333, 'auc_01': 0.47368, 'auc_01_real': 0.0, 'precision': 0.14286, 'recall': 1.0, 'accuracy': 0.14286, 'AP': 0.2}\n",
      "NVFAFPFTI 0.4286\n",
      "{'peptide': 'NVFAFPFTI', 'method': 'tcrbase', 'n_pos': 10, 'auc': 0.42857, 'auc_01': 0.47368, 'auc_01_real': 0.0, 'precision': 0.125, 'recall': 1.0, 'accuracy': 0.125, 'AP': 0.2}\n",
      "TLKNTVCTV 1.0\n",
      "{'peptide': 'TLKNTVCTV', 'method': 'tcrbase', 'n_pos': 5, 'auc': 1.0, 'auc_01': 1.0, 'auc_01_real': 1.0, 'precision': 0.16667, 'recall': 1.0, 'accuracy': 0.16667, 'AP': 1.0}\n"
     ]
    }
   ],
   "source": [
    "# Remove peptides below a certain TCRBase AUC ; Based on the old dataset \n",
    "tcrbase_exp = pd.DataFrame([read_tcrbase_results_exp(p, new_df_wswap)[0] for p in new_df_wswap.peptide.unique()])\n",
    "tcrbase_exp['peptide']=tcrbase_exp['peptide'].apply(lambda x: x.replace('_p0', ''))\n",
    "to_remove_exp = tcrbase_exp.query('auc_01<0.6').peptide.values"
   ]
  },
  {
   "cell_type": "code",
   "execution_count": 88,
   "id": "8fe2f6a5-0f66-4ba1-838e-59f1d1fccb06",
   "metadata": {},
   "outputs": [],
   "source": [
    "old_pruned_wswap = old_df_wswap.query('peptide not in @to_remove_old')\n",
    "old_pruned_noswap = old_df_noswap.query('peptide not in @to_remove_old')\n",
    "new_pruned_wswap = new_df_wswap.query('peptide not in @to_remove_exp')\n",
    "new_pruned_noswap = new_df_noswap.query('peptide not in @to_remove_exp')"
   ]
  },
  {
   "cell_type": "code",
   "execution_count": 96,
   "id": "2a295cd3-b8a0-43c8-8c2d-f46be9dd7ddc",
   "metadata": {},
   "outputs": [],
   "source": [
    "# FOR TCRBASE: THE NON-PRUNED VERSION SHOULD BE USED FOR THE QUERY!\n",
    "old_pruned_wswap.to_csv('../data/filtered/240507_nettcr_old_pruned_wswap_20peps.csv')\n",
    "old_pruned_noswap.to_csv('../data/filtered/240507_nettcr_old_pruned_noswap_20peps.csv')\n",
    "new_pruned_wswap.to_csv('../data/filtered/240507_nettcr_exp_pruned_wswap_78peps.csv')\n",
    "new_pruned_noswap.to_csv('../data/filtered/240507_nettcr_exp_pruned_noswap_78peps.csv')"
   ]
  },
  {
   "cell_type": "code",
   "execution_count": 101,
   "id": "8bee1a46-0304-48a7-8369-32dc7a117d9a",
   "metadata": {},
   "outputs": [
    {
     "data": {
      "text/html": [
       "<div>\n",
       "<style scoped>\n",
       "    .dataframe tbody tr th:only-of-type {\n",
       "        vertical-align: middle;\n",
       "    }\n",
       "\n",
       "    .dataframe tbody tr th {\n",
       "        vertical-align: top;\n",
       "    }\n",
       "\n",
       "    .dataframe thead th {\n",
       "        text-align: right;\n",
       "    }\n",
       "</style>\n",
       "<table border=\"1\" class=\"dataframe\">\n",
       "  <thead>\n",
       "    <tr style=\"text-align: right;\">\n",
       "      <th></th>\n",
       "      <th>peptide</th>\n",
       "      <th>method</th>\n",
       "      <th>n_pos</th>\n",
       "      <th>auc</th>\n",
       "      <th>auc_01</th>\n",
       "      <th>auc_01_real</th>\n",
       "      <th>precision</th>\n",
       "      <th>recall</th>\n",
       "      <th>accuracy</th>\n",
       "      <th>AP</th>\n",
       "    </tr>\n",
       "  </thead>\n",
       "  <tbody>\n",
       "    <tr>\n",
       "      <th>23</th>\n",
       "      <td>RPPIFIRRL</td>\n",
       "      <td>tcrbase</td>\n",
       "      <td>0</td>\n",
       "      <td>0.81481</td>\n",
       "      <td>0.73684</td>\n",
       "      <td>0.5</td>\n",
       "      <td>0.14286</td>\n",
       "      <td>1.0</td>\n",
       "      <td>0.14286</td>\n",
       "      <td>0.64833</td>\n",
       "    </tr>\n",
       "  </tbody>\n",
       "</table>\n",
       "</div>"
      ],
      "text/plain": [
       "      peptide   method  n_pos      auc   auc_01  auc_01_real  precision  \\\n",
       "23  RPPIFIRRL  tcrbase      0  0.81481  0.73684          0.5    0.14286   \n",
       "\n",
       "    recall  accuracy       AP  \n",
       "23     1.0   0.14286  0.64833  "
      ]
     },
     "execution_count": 101,
     "metadata": {},
     "output_type": "execute_result"
    }
   ],
   "source": [
    "tcrbase_old.query('peptide==\"RPPIFIRRL\"')"
   ]
  },
  {
   "cell_type": "code",
   "execution_count": 104,
   "id": "523e1af2-a73f-484e-b387-a00991259d0e",
   "metadata": {},
   "outputs": [
    {
     "data": {
      "text/html": [
       "<div>\n",
       "<style scoped>\n",
       "    .dataframe tbody tr th:only-of-type {\n",
       "        vertical-align: middle;\n",
       "    }\n",
       "\n",
       "    .dataframe tbody tr th {\n",
       "        vertical-align: top;\n",
       "    }\n",
       "\n",
       "    .dataframe thead th {\n",
       "        text-align: right;\n",
       "    }\n",
       "</style>\n",
       "<table border=\"1\" class=\"dataframe\">\n",
       "  <thead>\n",
       "    <tr style=\"text-align: right;\">\n",
       "      <th></th>\n",
       "      <th>peptide</th>\n",
       "      <th>method</th>\n",
       "      <th>n_pos</th>\n",
       "      <th>auc</th>\n",
       "      <th>auc_01</th>\n",
       "      <th>auc_01_real</th>\n",
       "      <th>precision</th>\n",
       "      <th>recall</th>\n",
       "      <th>accuracy</th>\n",
       "      <th>AP</th>\n",
       "    </tr>\n",
       "  </thead>\n",
       "  <tbody>\n",
       "    <tr>\n",
       "      <th>14</th>\n",
       "      <td>RLPGVLPRA</td>\n",
       "      <td>tcrbase</td>\n",
       "      <td>0</td>\n",
       "      <td>0.69251</td>\n",
       "      <td>0.69400</td>\n",
       "      <td>0.41860</td>\n",
       "      <td>0.17308</td>\n",
       "      <td>1.0</td>\n",
       "      <td>0.17308</td>\n",
       "      <td>0.56772</td>\n",
       "    </tr>\n",
       "    <tr>\n",
       "      <th>18</th>\n",
       "      <td>FEDLRVLSF</td>\n",
       "      <td>tcrbase</td>\n",
       "      <td>0</td>\n",
       "      <td>0.60870</td>\n",
       "      <td>0.68421</td>\n",
       "      <td>0.40000</td>\n",
       "      <td>0.17857</td>\n",
       "      <td>1.0</td>\n",
       "      <td>0.17857</td>\n",
       "      <td>0.52989</td>\n",
       "    </tr>\n",
       "    <tr>\n",
       "      <th>19</th>\n",
       "      <td>GPRLGVRAT</td>\n",
       "      <td>tcrbase</td>\n",
       "      <td>0</td>\n",
       "      <td>0.79167</td>\n",
       "      <td>0.77851</td>\n",
       "      <td>0.57917</td>\n",
       "      <td>0.17241</td>\n",
       "      <td>1.0</td>\n",
       "      <td>0.17241</td>\n",
       "      <td>0.70666</td>\n",
       "    </tr>\n",
       "    <tr>\n",
       "      <th>21</th>\n",
       "      <td>VLFGLGFAI</td>\n",
       "      <td>tcrbase</td>\n",
       "      <td>0</td>\n",
       "      <td>0.87558</td>\n",
       "      <td>0.84962</td>\n",
       "      <td>0.71429</td>\n",
       "      <td>0.18421</td>\n",
       "      <td>1.0</td>\n",
       "      <td>0.18421</td>\n",
       "      <td>0.80952</td>\n",
       "    </tr>\n",
       "    <tr>\n",
       "      <th>23</th>\n",
       "      <td>RPPIFIRRL</td>\n",
       "      <td>tcrbase</td>\n",
       "      <td>0</td>\n",
       "      <td>0.81481</td>\n",
       "      <td>0.73684</td>\n",
       "      <td>0.50000</td>\n",
       "      <td>0.14286</td>\n",
       "      <td>1.0</td>\n",
       "      <td>0.14286</td>\n",
       "      <td>0.64833</td>\n",
       "    </tr>\n",
       "    <tr>\n",
       "      <th>24</th>\n",
       "      <td>CTELKLSDY</td>\n",
       "      <td>tcrbase</td>\n",
       "      <td>0</td>\n",
       "      <td>0.84583</td>\n",
       "      <td>0.71491</td>\n",
       "      <td>0.45833</td>\n",
       "      <td>0.17241</td>\n",
       "      <td>1.0</td>\n",
       "      <td>0.17241</td>\n",
       "      <td>0.64817</td>\n",
       "    </tr>\n",
       "  </tbody>\n",
       "</table>\n",
       "</div>"
      ],
      "text/plain": [
       "      peptide   method  n_pos      auc   auc_01  auc_01_real  precision  \\\n",
       "14  RLPGVLPRA  tcrbase      0  0.69251  0.69400      0.41860    0.17308   \n",
       "18  FEDLRVLSF  tcrbase      0  0.60870  0.68421      0.40000    0.17857   \n",
       "19  GPRLGVRAT  tcrbase      0  0.79167  0.77851      0.57917    0.17241   \n",
       "21  VLFGLGFAI  tcrbase      0  0.87558  0.84962      0.71429    0.18421   \n",
       "23  RPPIFIRRL  tcrbase      0  0.81481  0.73684      0.50000    0.14286   \n",
       "24  CTELKLSDY  tcrbase      0  0.84583  0.71491      0.45833    0.17241   \n",
       "\n",
       "    recall  accuracy       AP  \n",
       "14     1.0   0.17308  0.56772  \n",
       "18     1.0   0.17857  0.52989  \n",
       "19     1.0   0.17241  0.70666  \n",
       "21     1.0   0.18421  0.80952  \n",
       "23     1.0   0.14286  0.64833  \n",
       "24     1.0   0.17241  0.64817  "
      ]
     },
     "execution_count": 104,
     "metadata": {},
     "output_type": "execute_result"
    }
   ],
   "source": [
    "below_50_pep = old_pruned_noswap.groupby('peptide').agg(count=('B3','count')).query('count<=50').index\n",
    "tcrbase_old.query(\"peptide in @below_50_pep\")"
   ]
  },
  {
   "cell_type": "code",
   "execution_count": 94,
   "id": "a8be88b5-be59-4516-a0d4-31ca6e11f9ce",
   "metadata": {},
   "outputs": [
    {
     "data": {
      "text/plain": [
       "(4289, 6955)"
      ]
     },
     "execution_count": 94,
     "metadata": {},
     "output_type": "execute_result"
    }
   ],
   "source": [
    "len(old_pruned_noswap), len(new_pruned_noswap)"
   ]
  },
  {
   "cell_type": "markdown",
   "id": "7dbc801b-0ca3-4c20-90ee-7278999d8e24",
   "metadata": {},
   "source": [
    "# Custom sampler"
   ]
  },
  {
   "cell_type": "code",
   "execution_count": 452,
   "id": "6c26bbbb-a6d5-40d6-b28a-c67b8627c0fc",
   "metadata": {},
   "outputs": [
    {
     "data": {
      "text/plain": [
       "6"
      ]
     },
     "execution_count": 452,
     "metadata": {},
     "output_type": "execute_result"
    }
   ],
   "source": [
    "math.ceil(len(df)/1024)"
   ]
  },
  {
   "cell_type": "code",
   "execution_count": 455,
   "id": "6e3b11d5-7678-4039-9d76-b408afa58296",
   "metadata": {
    "collapsed": true,
    "jupyter": {
     "outputs_hidden": true
    },
    "scrolled": true
   },
   "outputs": [
    {
     "name": "stderr",
     "output_type": "stream",
     "text": [
      "100%|███████████████████████████████████████████████████████████████████████████████████████████████████████████████████████████████████████████| 1000/1000 [00:23<00:00, 42.23it/s]"
     ]
    },
    {
     "name": "stdout",
     "output_type": "stream",
     "text": [
      "After 1000 epochs: in old pruned dataset (n=3429)\n",
      "Sum of number of batches containing a single instance of a given minority class (count<50):\n",
      "\n",
      "Batch size = 512 ; total batches (n_epochs * n_batch) 7000 \n",
      "\t\n",
      "RFPLTFGWCF 99 1.414% of all batches\n",
      "HPVTKYIM 97 1.386% of all batches\n",
      "YLQPRTFLL 43 0.614% of all batches\n",
      "GPRLGVRAT 161 2.300% of all batches\n",
      "VLFGLGFAI 702 10.029% of all batches\n",
      "FEDLRVLSF 1328 18.971% of all batches\n",
      "RPPIFIRRL 353 5.043% of all batches\n",
      "CTELKLSDY 149 2.129% of all batches\n",
      "RLPGVLPRA 226 3.229% of all batches\n",
      "\n",
      "Batch size = 1024 ; total batches (n_epochs * n_batch) 4000\n",
      "\t\n",
      "RFPLTFGWCF 62 1.550% of all batches\n",
      "HPVTKYIM 49 1.225% of all batches\n",
      "YLQPRTFLL 25 0.625% of all batches\n",
      "GPRLGVRAT 69 1.725% of all batches\n",
      "VLFGLGFAI 195 4.875% of all batches\n",
      "FEDLRVLSF 305 7.625% of all batches\n",
      "RPPIFIRRL 134 3.350% of all batches\n",
      "CTELKLSDY 68 1.700% of all batches\n",
      "RLPGVLPRA 80 2.000% of all batches\n"
     ]
    },
    {
     "name": "stderr",
     "output_type": "stream",
     "text": [
      "\n"
     ]
    }
   ],
   "source": [
    "from src.datasets import TCRSpecificDataset\n",
    "from tqdm.auto import tqdm\n",
    "# from pprint import pprint\n",
    "## first check that my current implementation with batch_sizes of 512 or 1024 really leaves some classes by themselves\n",
    "\n",
    "df = old_pruned_noswap.query('partition!=0').copy()\n",
    "pepmap = {k: v for v, k in enumerate(df[pep_col].unique())} # FIX\n",
    "\n",
    "dataset_params = dict(max_len_a1=7, max_len_a2=8, max_len_a3=22, \n",
    "                      max_len_b1=6, max_len_b2=7, max_len_b3=23,\n",
    "                      a1_col='A1', a2_col='A2', a3_col='A3', \n",
    "                      b1_col='B1', b2_col='B2', b3_col='B3', pep_col='peptide', pep_weighted=False)\n",
    "dataset = TCRSpecificDataset(df, **dataset_params)\n",
    "minimum_size=50\n",
    "low_number = df.groupby('peptide').agg(count=('B3','count')).query('count<=@minimum_size').index\n",
    "\n",
    "df['minority_class'] = df['peptide'].apply(lambda x: x in low_number)\n",
    "minority_classes = [pepmap[x] for x in df.query('minority_class').peptide.unique()]\n",
    "loader_512 = dataset.get_dataloader(512, RandomSampler)\n",
    "loader_1024 = dataset.get_dataloader(1024, RandomSampler)\n",
    "\n",
    "sum_minority_512 = {m:0 for m in minority_classes}\n",
    "sum_minority_1024 = {m:0 for m in minority_classes}\n",
    "n_epochs = 1000\n",
    "for _ in tqdm(range(n_epochs)):\n",
    "    labels_512 = [x[1] for x in loader_512]\n",
    "    labels_1024 = [x[1] for x in loader_1024]\n",
    "    minority_512 = {m:len(torch.where(torch.tensor([len(torch.where(x==m)[0]) for x in labels_512])==1)[0]) for m in minority_classes}\n",
    "    minority_1024 = {m:len(torch.where(torch.tensor([len(torch.where(x==m)[0]) for x in labels_1024])==1)[0]) for m in minority_classes}\n",
    "    for m in minority_classes:\n",
    "        sum_minority_512[m] +=minority_512[m]\n",
    "        sum_minority_1024[m] +=minority_1024[m]\n",
    "\n",
    "print(f'After {n_epochs} epochs: in old pruned dataset (n={len(df)})\\nSum of number of batches containing a single instance of a given minority class (count<{minimum_size}):')\n",
    "print(f'\\nBatch size = 512 ; total batches (n_epochs * n_batch) {n_epochs * math.ceil(len(df)/512)} \\n\\t')\n",
    "for k,v in sum_minority_512.items():\n",
    "    print({v:k for k,v in pepmap.items()}[k], v, f'{(v / (n_epochs * math.ceil(len(df)/512))):.3%} of all batches')\n",
    "print(f'\\nBatch size = 1024 ; total batches (n_epochs * n_batch) {n_epochs * math.ceil(len(df)/1024)}\\n\\t')\n",
    "for k,v in sum_minority_1024.items():\n",
    "    print({v:k for k,v in pepmap.items()}[k], v, f'{(v / (n_epochs * math.ceil(len(df)/1024))):.3%} of all batches')"
   ]
  },
  {
   "cell_type": "code",
   "execution_count": 456,
   "id": "abf4beb4-7508-4512-b39d-d3a6a0c26905",
   "metadata": {
    "collapsed": true,
    "jupyter": {
     "outputs_hidden": true
    }
   },
   "outputs": [
    {
     "name": "stderr",
     "output_type": "stream",
     "text": [
      "100%|███████████████████████████████████████████████████████████████████████████████████████████████████████████████████████████████████████████| 1000/1000 [00:43<00:00, 23.13it/s]"
     ]
    },
    {
     "name": "stdout",
     "output_type": "stream",
     "text": [
      "After 1000 epochs: in old pruned dataset (n=5561)\n",
      "Sum of number of batches containing a single instance of a given minority class (count<50):\n",
      "\n",
      "Batch size = 512 ; total batches (n_epochs * n_batch) 11000 \n",
      "\t\n",
      "LLDFVRFMGV 3832 34.836% of all batches\n",
      "RPRGEVRFL 3990 36.273% of all batches\n",
      "SVYGDTLEK 3512 31.927% of all batches\n",
      "ALWEIQQVV 3043 27.664% of all batches\n",
      "VSDGGPNLY 3655 33.227% of all batches\n",
      "RFPLTFGWCF 1061 9.645% of all batches\n",
      "EAAGIGILTV 3881 35.282% of all batches\n",
      "FEDLRVLSF 3845 34.955% of all batches\n",
      "FEDLRVSSF 3620 32.909% of all batches\n",
      "LPRWYFYYL 3204 29.127% of all batches\n",
      "HPVTKYIM 831 7.555% of all batches\n",
      "MTLHGHMMY 4243 38.573% of all batches\n",
      "GPRLGVRAT 1018 9.255% of all batches\n",
      "QELIRQGTDY 3993 36.300% of all batches\n",
      "KLWAQCVQL 3477 31.609% of all batches\n",
      "FLYALALLL 3410 31.000% of all batches\n",
      "FTSDYYQLY 1638 14.891% of all batches\n",
      "CLGGLLTMV 4133 37.573% of all batches\n",
      "HTMLCMCCK 4214 38.309% of all batches\n",
      "FEDLRLLSF 3065 27.864% of all batches\n",
      "NYNYLYRLF 881 8.009% of all batches\n",
      "VMHANYIFW 3407 30.973% of all batches\n",
      "HPVGEADYFEY 3971 36.100% of all batches\n",
      "RPHERNGFTVL 2989 27.173% of all batches\n",
      "DTDFVNEFY 3367 30.609% of all batches\n",
      "KTWGQYWQV 4233 38.482% of all batches\n",
      "RLGPVQNEV 4205 38.227% of all batches\n",
      "KLVALGINAV 2275 20.682% of all batches\n",
      "RYPLTFGW 4233 38.482% of all batches\n",
      "RLITGRLQSL 4052 36.836% of all batches\n",
      "SLLMWITQV 3484 31.673% of all batches\n",
      "KLSALGINAV 3672 33.382% of all batches\n",
      "CTELKLNDY 3730 33.909% of all batches\n",
      "GKTELLAPF 2992 27.200% of all batches\n",
      "PTDNYITTY 2944 26.764% of all batches\n",
      "IVCPICSQK 2987 27.155% of all batches\n",
      "RQLLFVVEV 4211 38.282% of all batches\n",
      "FLRGRAYGL 3469 31.536% of all batches\n",
      "QPGQTFSVL 3013 27.391% of all batches\n",
      "RMFPNAPYL 4115 37.409% of all batches\n",
      "RLARLALVL 3475 31.591% of all batches\n",
      "VYIGDPAQL 4152 37.745% of all batches\n",
      "VTEHDTLLY 4226 38.418% of all batches\n",
      "RIRGGDGKM 3452 31.382% of all batches\n",
      "SMWALVISV 3049 27.718% of all batches\n",
      "YVLDHLIVV 4171 37.918% of all batches\n",
      "LLFGYPVYV 3616 32.873% of all batches\n",
      "AIMEKNIVL 4266 38.782% of all batches\n",
      "MALWMRLLPLL 3314 30.127% of all batches\n",
      "RAQAPPPSW 3791 34.464% of all batches\n",
      "KLVAMGINAV 4243 38.573% of all batches\n",
      "LLYDANYFL 3061 27.827% of all batches\n",
      "AAGIGILTV 3375 30.682% of all batches\n",
      "EPLPQGQLTAY 4191 38.100% of all batches\n",
      "KMVTVCPNT 3025 27.500% of all batches\n",
      "CYTWNQMNL 3412 31.018% of all batches\n",
      "TLKNTVCTV 2965 26.955% of all batches\n",
      "LLLDRLNQL 2968 26.982% of all batches\n",
      "QIKVRVDMV 3406 30.964% of all batches\n",
      "LWFHISCLTF 2933 26.664% of all batches\n",
      "\n",
      "Batch size = 1024 ; total batches (n_epochs * n_batch) 6000\n",
      "\t\n",
      "LLDFVRFMGV 1062 17.700% of all batches\n",
      "RPRGEVRFL 1236 20.600% of all batches\n",
      "SVYGDTLEK 829 13.817% of all batches\n",
      "ALWEIQQVV 575 9.583% of all batches\n",
      "VSDGGPNLY 970 16.167% of all batches\n",
      "RFPLTFGWCF 162 2.700% of all batches\n",
      "EAAGIGILTV 1052 17.533% of all batches\n",
      "FEDLRVLSF 1028 17.133% of all batches\n",
      "FEDLRVSSF 897 14.950% of all batches\n",
      "LPRWYFYYL 758 12.633% of all batches\n",
      "HPVTKYIM 119 1.983% of all batches\n",
      "MTLHGHMMY 1709 28.483% of all batches\n",
      "GPRLGVRAT 164 2.733% of all batches\n",
      "QELIRQGTDY 2278 37.967% of all batches\n",
      "KLWAQCVQL 887 14.783% of all batches\n",
      "FLYALALLL 819 13.650% of all batches\n",
      "FTSDYYQLY 255 4.250% of all batches\n",
      "CLGGLLTMV 1557 25.950% of all batches\n",
      "HTMLCMCCK 1521 25.350% of all batches\n",
      "FEDLRLLSF 671 11.183% of all batches\n",
      "NYNYLYRLF 130 2.167% of all batches\n",
      "VMHANYIFW 2303 38.383% of all batches\n",
      "HPVGEADYFEY 2270 37.833% of all batches\n",
      "RPHERNGFTVL 594 9.900% of all batches\n",
      "DTDFVNEFY 2336 38.933% of all batches\n",
      "KTWGQYWQV 1722 28.700% of all batches\n",
      "RLGPVQNEV 2032 33.867% of all batches\n",
      "KLVALGINAV 353 5.883% of all batches\n",
      "RYPLTFGW 1408 23.467% of all batches\n",
      "RLITGRLQSL 2120 35.333% of all batches\n",
      "SLLMWITQV 2335 38.917% of all batches\n",
      "KLSALGINAV 941 15.683% of all batches\n",
      "CTELKLNDY 2330 38.833% of all batches\n",
      "GKTELLAPF 2255 37.583% of all batches\n",
      "PTDNYITTY 611 10.183% of all batches\n",
      "IVCPICSQK 614 10.233% of all batches\n",
      "RQLLFVVEV 1988 33.133% of all batches\n",
      "FLRGRAYGL 850 14.167% of all batches\n",
      "QPGQTFSVL 2292 38.200% of all batches\n",
      "RMFPNAPYL 2165 36.083% of all batches\n",
      "RLARLALVL 2305 38.417% of all batches\n",
      "VYIGDPAQL 1879 31.317% of all batches\n",
      "VTEHDTLLY 2129 35.483% of all batches\n",
      "RIRGGDGKM 2362 39.367% of all batches\n",
      "SMWALVISV 2254 37.567% of all batches\n",
      "YVLDHLIVV 2015 33.583% of all batches\n",
      "LLFGYPVYV 1013 16.883% of all batches\n",
      "AIMEKNIVL 2115 35.250% of all batches\n",
      "MALWMRLLPLL 2328 38.800% of all batches\n",
      "RAQAPPPSW 959 15.983% of all batches\n",
      "KLVAMGINAV 1694 28.233% of all batches\n",
      "LLYDANYFL 661 11.017% of all batches\n",
      "AAGIGILTV 2319 38.650% of all batches\n",
      "EPLPQGQLTAY 2117 35.283% of all batches\n",
      "KMVTVCPNT 2282 38.033% of all batches\n",
      "CYTWNQMNL 2324 38.733% of all batches\n",
      "TLKNTVCTV 2255 37.583% of all batches\n",
      "LLLDRLNQL 2250 37.500% of all batches\n",
      "QIKVRVDMV 2333 38.883% of all batches\n",
      "LWFHISCLTF 2270 37.833% of all batches\n"
     ]
    },
    {
     "name": "stderr",
     "output_type": "stream",
     "text": [
      "\n"
     ]
    }
   ],
   "source": [
    "from src.datasets import TCRSpecificDataset\n",
    "from tqdm.auto import tqdm\n",
    "# from pprint import pprint\n",
    "## first check that my current implementation with batch_sizes of 512 or 1024 really leaves some classes by themselves\n",
    "\n",
    "df = new_pruned_noswap.query('partition!=0').copy()\n",
    "pepmap = {k: v for v, k in enumerate(df[pep_col].unique())} # FIX\n",
    "\n",
    "dataset_params = dict(max_len_a1=7, max_len_a2=8, max_len_a3=22, \n",
    "                      max_len_b1=6, max_len_b2=7, max_len_b3=23,\n",
    "                      a1_col='A1', a2_col='A2', a3_col='A3', \n",
    "                      b1_col='B1', b2_col='B2', b3_col='B3', pep_col='peptide', pep_weighted=False)\n",
    "dataset = TCRSpecificDataset(df, **dataset_params)\n",
    "minimum_size=50\n",
    "low_number = df.groupby('peptide').agg(count=('B3','count')).query('count<=@minimum_size').index\n",
    "\n",
    "df['minority_class'] = df['peptide'].apply(lambda x: x in low_number)\n",
    "minority_classes = [pepmap[x] for x in df.query('minority_class').peptide.unique()]\n",
    "loader_512 = dataset.get_dataloader(512, RandomSampler)\n",
    "loader_1024 = dataset.get_dataloader(1024, RandomSampler)\n",
    "\n",
    "sum_minority_512 = {m:0 for m in minority_classes}\n",
    "sum_minority_1024 = {m:0 for m in minority_classes}\n",
    "n_epochs = 1000\n",
    "for _ in tqdm(range(n_epochs)):\n",
    "    labels_512 = [x[1] for x in loader_512]\n",
    "    labels_1024 = [x[1] for x in loader_1024]\n",
    "    minority_512 = {m:len(torch.where(torch.tensor([len(torch.where(x==m)[0]) for x in labels_512])==1)[0]) for m in minority_classes}\n",
    "    minority_1024 = {m:len(torch.where(torch.tensor([len(torch.where(x==m)[0]) for x in labels_1024])==1)[0]) for m in minority_classes}\n",
    "    for m in minority_classes:\n",
    "        sum_minority_512[m] +=minority_512[m]\n",
    "        sum_minority_1024[m] +=minority_1024[m]\n",
    "\n",
    "print(f'After {n_epochs} epochs: in old pruned dataset (n={len(df)})\\nSum of number of batches containing a single instance of a given minority class (count<{minimum_size}):')\n",
    "print(f'\\nBatch size = 512 ; total batches (n_epochs * n_batch) {n_epochs * math.ceil(len(df)/512)} \\n\\t')\n",
    "for k,v in sum_minority_512.items():\n",
    "    print({v:k for k,v in pepmap.items()}[k], v, f'{(v / (n_epochs * math.ceil(len(df)/512))):.3%} of all batches')\n",
    "print(f'\\nBatch size = 1024 ; total batches (n_epochs * n_batch) {n_epochs * math.ceil(len(df)/1024)}\\n\\t')\n",
    "for k,v in sum_minority_1024.items():\n",
    "    print({v:k for k,v in pepmap.items()}[k], v, f'{(v / (n_epochs * math.ceil(len(df)/1024))):.3%} of all batches')"
   ]
  },
  {
   "cell_type": "code",
   "execution_count": 468,
   "id": "e6507cee-3f1a-44d9-96e3-555ec2d836a7",
   "metadata": {},
   "outputs": [
    {
     "data": {
      "text/plain": [
       "count    229\n",
       "dtype: int64"
      ]
     },
     "execution_count": 468,
     "metadata": {},
     "output_type": "execute_result"
    }
   ],
   "source": [
    "low = old_pruned_noswap.groupby('peptide').agg(count=('B3','count')).query('count<=50').index\n",
    "old_pruned_noswap.query('peptide in @low').groupby('peptide').agg(count=('B3','count')).sum()"
   ]
  },
  {
   "cell_type": "code",
   "execution_count": 474,
   "id": "61bdea36-0a68-41b3-b06c-d66d123b2081",
   "metadata": {},
   "outputs": [
    {
     "data": {
      "text/plain": [
       "13"
      ]
     },
     "execution_count": 474,
     "metadata": {},
     "output_type": "execute_result"
    }
   ],
   "source": [
    "len(x)"
   ]
  },
  {
   "cell_type": "code",
   "execution_count": 478,
   "id": "d8a8a8be-dab9-41d4-a9b2-e55b1e3a42a2",
   "metadata": {},
   "outputs": [
    {
     "data": {
      "text/plain": [
       "60"
      ]
     },
     "execution_count": 478,
     "metadata": {},
     "output_type": "execute_result"
    }
   ],
   "source": [
    "len(low_number)"
   ]
  },
  {
   "cell_type": "code",
   "execution_count": 481,
   "id": "1e1c3aff-61ab-4ea8-8ca6-5523575ccee9",
   "metadata": {},
   "outputs": [
    {
     "name": "stdout",
     "output_type": "stream",
     "text": [
      "epoch:0, num_selected 6, num_remaining54\n",
      "epoch:1, num_selected 6, num_remaining48\n",
      "epoch:2, num_selected 6, num_remaining42\n",
      "epoch:3, num_selected 6, num_remaining36\n",
      "epoch:4, num_selected 6, num_remaining30\n",
      "epoch:5, num_selected 6, num_remaining24\n",
      "epoch:6, num_selected 6, num_remaining18\n",
      "epoch:7, num_selected 6, num_remaining12\n",
      "epoch:8, num_selected 6, num_remaining6\n",
      "epoch:9, num_selected 6, num_remaining0\n",
      "epoch:10, num_selected 0, num_remaining0\n"
     ]
    }
   ],
   "source": [
    "# x = torch.arange(0, 60, 1)\n",
    "from copy import deepcopy\n",
    "minority_classes = deepcopy(low_number)\n",
    "batch_size = 512\n",
    "n_batches = math.ceil(len(df)/batch_size)\n",
    "n_classes_to_pick = math.ceil(len(minority_classes)/n_batches)\n",
    "for i in range(n_batches):\n",
    "    selected = minority_classes[:min(n_classes_to_pick, len(minority_classes))]\n",
    "    minority_classes = minority_classes[n_classes_to_pick:]\n",
    "    print(f'epoch:{i}, num_selected {len(selected)}, num_remaining{len(minority_classes)}')"
   ]
  },
  {
   "cell_type": "code",
   "execution_count": 392,
   "id": "2f186ddf-fd9e-4036-bd38-8db74b5f5b8c",
   "metadata": {
    "jupyter": {
     "source_hidden": true
    }
   },
   "outputs": [
    {
     "data": {
      "text/plain": [
       "(54, 11, 5561, 5)"
      ]
     },
     "execution_count": 392,
     "metadata": {},
     "output_type": "execute_result"
    }
   ],
   "source": [
    "from torch.utils.data import Sampler\n",
    "from itertools import cycle, islice\n",
    "df = new_pruned_noswap.query('partition!=0').copy()\n",
    "pep_col = 'peptide'\n",
    "pepmap = {k: v for v, k in enumerate(df[pep_col].unique())} # FIX\n",
    "labels = torch.from_numpy(df[pep_col].map(pepmap).values)\n",
    "minimum_size=25\n",
    "low_number = df.groupby('peptide').agg(count=('B3','count')).query('count<=@minimum_size').index\n",
    "df['minority_class'] = df['peptide'].apply(lambda x: x in low_number)\n",
    "minority_classes = [pepmap[x] for x in df.query('minority_class').peptide.unique()]\n",
    "non_minority_classes = [pepmap[x] for x in df.query('not minority_class').peptide.unique()]\n",
    "class_indices = {cls: np.where(labels == cls)[0] for cls in minority_classes}\n",
    "\n",
    "# Extend minority indices to ensure they can fill many batches\n",
    "extended_minority_indices = np.hstack([class_indices[cls] for cls in minority_classes])\n",
    "np.random.shuffle(extended_minority_indices)\n",
    "minority_indices_cycle = cycle(extended_minority_indices)\n",
    "mcs = torch.tensor(minority_classes)\n",
    "batch_size = 512\n",
    "\n",
    "num_batches = math.ceil(len(labels)/batch_size)\n",
    "class_per_batch = math.ceil(len(mcs)/num_batches)\n",
    "len(mcs), num_batches, len(labels), class_per_batch"
   ]
  },
  {
   "cell_type": "code",
   "execution_count": 387,
   "id": "2c416b31-3cbf-4828-a48c-fc5646a2eaee",
   "metadata": {},
   "outputs": [
    {
     "data": {
      "text/plain": [
       "(11, 6)"
      ]
     },
     "execution_count": 387,
     "metadata": {},
     "output_type": "execute_result"
    }
   ],
   "source": [
    "batch_size=1024\n",
    "num_batches = math.ceil(len(labels)/batch_size)\n",
    "math.ceil(61/num_batches), num_batches"
   ]
  },
  {
   "cell_type": "code",
   "execution_count": 391,
   "id": "fdbe7252-b804-485c-a7f5-f0ba476f7343",
   "metadata": {},
   "outputs": [
    {
     "ename": "TypeError",
     "evalue": "pop expected at most 1 argument, got 3",
     "output_type": "error",
     "traceback": [
      "\u001b[0;31m---------------------------------------------------------------------------\u001b[0m",
      "\u001b[0;31mTypeError\u001b[0m                                 Traceback (most recent call last)",
      "Cell \u001b[0;32mIn[391], line 2\u001b[0m\n\u001b[1;32m      1\u001b[0m x \u001b[38;5;241m=\u001b[39m [ \u001b[38;5;241m0\u001b[39m,  \u001b[38;5;241m9\u001b[39m, \u001b[38;5;241m10\u001b[39m, \u001b[38;5;241m11\u001b[39m, \u001b[38;5;241m14\u001b[39m, \u001b[38;5;241m15\u001b[39m, \u001b[38;5;241m16\u001b[39m, \u001b[38;5;241m18\u001b[39m, \u001b[38;5;241m19\u001b[39m]\n\u001b[0;32m----> 2\u001b[0m z\u001b[38;5;241m=\u001b[39m\u001b[43mx\u001b[49m\u001b[38;5;241;43m.\u001b[39;49m\u001b[43mpop\u001b[49m\u001b[43m(\u001b[49m\u001b[38;5;241;43m0\u001b[39;49m\u001b[43m,\u001b[49m\u001b[43m \u001b[49m\u001b[38;5;241;43m9\u001b[39;49m\u001b[43m,\u001b[49m\u001b[43m \u001b[49m\u001b[38;5;241;43m10\u001b[39;49m\u001b[43m)\u001b[49m\n\u001b[1;32m      3\u001b[0m x\n",
      "\u001b[0;31mTypeError\u001b[0m: pop expected at most 1 argument, got 3"
     ]
    }
   ],
   "source": [
    "x = [ 0,  9, 10, 11, 14, 15, 16, 18, 19]\n",
    "x.pop([0, 9, 10])\n",
    "x"
   ]
  },
  {
   "cell_type": "code",
   "execution_count": 389,
   "id": "bb011e8a-359e-4af3-a5aa-e303c3c2eb25",
   "metadata": {},
   "outputs": [
    {
     "data": {
      "text/plain": [
       "0"
      ]
     },
     "execution_count": 389,
     "metadata": {},
     "output_type": "execute_result"
    }
   ],
   "source": [
    "60%num_batches"
   ]
  },
  {
   "cell_type": "code",
   "execution_count": 208,
   "id": "a9de1e0e-8f53-4e7a-9e1b-45919b3723da",
   "metadata": {},
   "outputs": [
    {
     "data": {
      "text/plain": [
       "(tensor([ 0,  9, 10, 11, 14, 15, 16, 18, 19]),\n",
       " tensor([14,  9, 15, 10, 16, 19, 18, 11,  0]))"
      ]
     },
     "execution_count": 208,
     "metadata": {},
     "output_type": "execute_result"
    }
   ],
   "source": [
    "mcs = torch.tensor(minority_classes)\n",
    "mcs, mcs[torch.randperm(len(mcs))]"
   ]
  },
  {
   "cell_type": "code",
   "execution_count": 537,
   "id": "ecbc855e-b029-4bd0-89e5-26aa4a3fcbe7",
   "metadata": {},
   "outputs": [
    {
     "data": {
      "text/plain": [
       "tensor([3, 3, 3, 3, 3, 3, 3, 3, 3, 3])"
      ]
     },
     "execution_count": 537,
     "metadata": {},
     "output_type": "execute_result"
    }
   ],
   "source": [
    "x=torch.randint(0,5,[10])\n",
    "x.fill_(3)\n",
    "x"
   ]
  },
  {
   "cell_type": "code",
   "execution_count": 558,
   "id": "c4bca63c-960f-4f4b-809f-bd39b075813d",
   "metadata": {},
   "outputs": [],
   "source": [
    "class MinorityClassSampler(Sampler):\n",
    "    \"\"\"\n",
    "        Custom Superclass to handle saving labels, minority classes, pepmap, indices as attributes as well as a counter\n",
    "    \"\"\"\n",
    "\n",
    "    def __init__(self, labels, batch_size, minority_classes):\n",
    "        super(MinorityClassSampler, self).__init__(labels)\n",
    "        # self.pepmap = pepmap\n",
    "        # self.inverse_pepmap = {v: k for k, v in pepmap.items()}\n",
    "        self.labels = torch.tensor(labels)\n",
    "        self.minority_classes = torch.tensor(minority_classes)\n",
    "        self.n_minorities = len(minority_classes)\n",
    "        self.non_minority_classes = torch.tensor(\n",
    "            [cls for cls in torch.unique(self.labels) if cls not in minority_classes])\n",
    "        self.batch_size = batch_size\n",
    "        self.num_batches = math.ceil(len(labels) / batch_size)\n",
    "        self.last_size = len(labels) % batch_size\n",
    "        self.counter = 0\n",
    "        self.batch_count = 1\n",
    "        self.available_indices = torch.full_like(self.labels, True)\n",
    "\n",
    "    def __len__(self):\n",
    "        return self.num_batches\n",
    "\n",
    "    def __iter__(self):\n",
    "        raise NotImplementedError\n",
    "\n",
    "    def increment_counter(self):\n",
    "        \"\"\"\n",
    "        Resets the batch counter and the available indices to indicate that one epoch has passed (i.e. all batches were done)\n",
    "        Returns:\n",
    "\n",
    "        \"\"\"\n",
    "        # self.class_cycle = cycle(self.minority_classes[torch.randperm(len(self.minority_classes))])\n",
    "        self.counter += 1\n",
    "        self.batch_count = 1\n",
    "        self.available_indices.fill_(True)\n",
    "        # print('Incremented!')\n",
    "\n",
    "\n",
    "class GroupClassBatchSampler(MinorityClassSampler):\n",
    "    def __init__(self, labels, batch_size, minority_classes):\n",
    "        super(GroupClassBatchSampler, self).__init__(labels, batch_size, minority_classes)\n",
    "        self.n_classes_to_pick = math.ceil(len(self.minority_classes) / self.num_batches)\n",
    "\n",
    "    def __iter__(self):\n",
    "        # Ensure reproducibility on each epoch\n",
    "        torch.manual_seed(self.counter)\n",
    "        # Shuffle all indices\n",
    "        # all_indices = torch.randperm(len(self.labels))\n",
    "        # Keep check of which index has already been used in a batch\n",
    "        available_indices = torch.full_like(self.labels, True)\n",
    "        # Shuffle minority classes each epoch so that they mix in together\n",
    "        shuffled_minority_classes = self.minority_classes[torch.randperm(len(self.minority_classes))]\n",
    "\n",
    "        for _ in range(self.num_batches):\n",
    "            # Shuffled, select minimum between the n_classes to fit in a batch or the remaining clases\n",
    "            chosen_classes = shuffled_minority_classes[:min(self.n_classes_to_pick, len(shuffled_minority_classes))]\n",
    "            # shift in the shuffled classes vector to \"advance\"\n",
    "            shuffled_minority_classes = shuffled_minority_classes[self.n_classes_to_pick:]\n",
    "            batch_indices = []\n",
    "            for cls in chosen_classes:\n",
    "                class_indices = (self.labels == cls).nonzero(as_tuple=True)[0]\n",
    "                # This shuffles the indices of this class ; But since it's within a batch, shouldn't be needed\n",
    "                # Also the minority classes are shuffled each epoch and taken in groups so doens't matter\n",
    "                # class_indices = class_indices[torch.randperm(len(class_indices))]\n",
    "\n",
    "                # Ensure balanced class representation\n",
    "                # TODO: THIS IS OK FOR NOW BECAUSE I DON'T PLAN ON USING BATCH-SIZES SMALLER THAN 256\n",
    "                # And am pre-setting a threshold at 50 as minimum_size\n",
    "                count = min(len(class_indices), self.batch_size // 5)\n",
    "                selected_minority = class_indices[:count]\n",
    "                # This in theory shouldn't matter because we're gonna fit all of them \"sequentially\"\n",
    "                self.available_indices[selected_minority] = False\n",
    "                batch_indices.extend(selected_minority)\n",
    "\n",
    "            # Fill the rest of the batch with samples from non-minority classes\n",
    "            max_size = self.batch_size if self.batch_count != self.num_batches else self.last_size\n",
    "            remaining_size = max_size - len(batch_indices)\n",
    "            if remaining_size > 0:\n",
    "                # Select all the majority_class indices\n",
    "                non_minority_indices = torch.cat(\n",
    "                    [(self.labels == cls).nonzero(as_tuple=True)[0] for cls in self.non_minority_classes])\n",
    "            # from all the indices ; Do randperm to shuffle, :remaning_size to index those up to a size or the maximum size\n",
    "            non_minority_size = len(non_minority_indices)\n",
    "            non_minority_indices = non_minority_indices[torch.randperm(non_minority_size)][available_indices][\n",
    "                                   :min(remaining_size, non_minority_size)]\n",
    "            # Update available indices to keep track of what is available\n",
    "            self.available_indices[non_minority_indices] = False\n",
    "            batch_indices.extend(non_minority_indices)\n",
    "            \n",
    "            # this step should not be used because we are already random batching\n",
    "            # batch_indices = torch.tensor(batch_indices)\n",
    "            # # Shuffle batch indices to mix classes\n",
    "            # batch_indices = batch_indices[torch.randperm(len(batch_indices))]\n",
    "            self.batch_count += 1\n",
    "            yield batch_indices\n",
    "\n",
    "        self.increment_counter()\n",
    "\n",
    "    def __len__(self):\n",
    "        return self.num_batches\n",
    "\n"
   ]
  },
  {
   "cell_type": "code",
   "execution_count": 528,
   "id": "fb7f2679-ba3c-4ce6-8a86-a4962e37b631",
   "metadata": {
    "jupyter": {
     "source_hidden": true
    }
   },
   "outputs": [],
   "source": [
    "import random\n",
    "from time import perf_counter_ns\n",
    "\n",
    "def no_shuffle(batch_size):\n",
    "    bidx = torch.tensor(list(range(batch_size)))\n",
    "    return bidx\n",
    "    \n",
    "def w_shuffle(batch_size):\n",
    "    bidx = list(range(batch_size))\n",
    "    random.shuffle(bidx)\n",
    "    return torch.tensor(bidx)\n",
    "\n",
    "def tensor_shuffle(batch_size):\n",
    "    bidx = torch.tensor(list(range(batch_size)))\n",
    "    return bidx[torch.randperm(len(bidx))]"
   ]
  },
  {
   "cell_type": "code",
   "execution_count": 534,
   "id": "5a116f4a-8007-4cbd-bcb6-41f62b860cd6",
   "metadata": {
    "jupyter": {
     "source_hidden": true
    }
   },
   "outputs": [
    {
     "name": "stdout",
     "output_type": "stream",
     "text": [
      "wshuffle: Total time: 0.0002615385635450366 ; Average execution time: 1.307692817725183e-09 seconds\n",
      "noshuffle: Total time: 9.247662104520714e-05 ; Average execution time: 4.6238310522603567e-10 seconds\n",
      "tensorshuffle: Total time: 0.00010092158916493645 ; Average execution time: 5.046079458246822e-10 seconds\n"
     ]
    }
   ],
   "source": [
    "import timeit\n",
    "n_iter = 20000*10\n",
    "wshuffle_time = timeit.timeit('w_shuffle(1024)', globals=globals(), number=n_iter) / n_iter\n",
    "noshuffle_time = timeit.timeit('no_shuffle(1024)', globals=globals(), number=n_iter) / n_iter\n",
    "tensorshuffle_time = timeit.timeit('tensor_shuffle(1024)', globals=globals(), number=n_iter) / n_iter\n",
    "print(f\"wshuffle: Total time: {wshuffle_time } ; Average execution time: {wshuffle_time / n_iter} seconds\")\n",
    "print(f\"noshuffle: Total time: {noshuffle_time } ; Average execution time: {noshuffle_time / n_iter} seconds\")\n",
    "print(f\"tensorshuffle: Total time: {tensorshuffle_time } ; Average execution time: {tensorshuffle_time / n_iter} seconds\")"
   ]
  },
  {
   "cell_type": "code",
   "execution_count": 533,
   "id": "0a38b8ce-d395-4b75-a79f-04da1c32b17e",
   "metadata": {
    "collapsed": true,
    "jupyter": {
     "outputs_hidden": true,
     "source_hidden": true
    }
   },
   "outputs": [
    {
     "name": "stdout",
     "output_type": "stream",
     "text": [
      "wshuffle: Total time: 51.59775504202116 ; Average execution time: 0.0001289943876050529 seconds\n",
      "noshuffle: Total time: 19.46273954201024 ; Average execution time: 4.86568488550256e-05 seconds\n",
      "tensorshuffle: Total time: 21.82950533402618 ; Average execution time: 5.457376333506545e-05 seconds\n"
     ]
    }
   ],
   "source": [
    "n_iter = 20000*20\n",
    "wshuffle_time = timeit.timeit('w_shuffle(512)', globals=globals(), number=n_iter) \n",
    "noshuffle_time = timeit.timeit('no_shuffle(512)', globals=globals(), number=n_iter) \n",
    "\n",
    "tensorshuffle_time = timeit.timeit('tensor_shuffle(512)', globals=globals(), number=n_iter) \n"
   ]
  },
  {
   "cell_type": "code",
   "execution_count": 572,
   "id": "4c07c287-60d2-4e02-bf05-d88c7dde0f6e",
   "metadata": {},
   "outputs": [],
   "source": [
    "from src.datasets import TCRSpecificDataset\n",
    "pep_col = 'peptide'\n",
    "df = new_pruned_noswap.query('partition!=0').copy()\n",
    "pepmap = {k: v for v, k in enumerate(df[pep_col].unique())} # FIX\n",
    "labels = torch.from_numpy(df[pep_col].map(pepmap).values)\n",
    "dataset_params = dict(max_len_a1=7, max_len_a2=8, max_len_a3=22, \n",
    "                      max_len_b1=6, max_len_b2=7, max_len_b3=23,\n",
    "                      a1_col='A1', a2_col='A2', a3_col='A3', \n",
    "                      b1_col='B1', b2_col='B2', b3_col='B3', pep_col='peptide', pep_weighted=False)\n",
    "dataset = TCRSpecificDataset(df, **dataset_params)\n",
    "minimum_size=50\n",
    "low_number = df.groupby('peptide').agg(count=('B3','count')).query('count<=@minimum_size').index\n",
    "\n",
    "df['minority_class'] = df['peptide'].apply(lambda x: x in low_number)\n",
    "minority_classes = [pepmap[x] for x in df.query('minority_class').peptide.unique()]"
   ]
  },
  {
   "cell_type": "code",
   "execution_count": 576,
   "id": "c00ef1d3-04d7-4ec3-9c0f-8d7bd5bc6ed3",
   "metadata": {},
   "outputs": [
    {
     "data": {
      "text/plain": [
       "11"
      ]
     },
     "execution_count": 576,
     "metadata": {},
     "output_type": "execute_result"
    }
   ],
   "source": [
    "math.ceil(len(df)/batch_size)"
   ]
  },
  {
   "cell_type": "code",
   "execution_count": 582,
   "id": "9be874d0-1aef-497c-b00c-8d6592863abe",
   "metadata": {},
   "outputs": [
    {
     "data": {
      "text/plain": [
       "[512, 512, 512, 512, 512, 512, 512, 512, 512, 512, 441]"
      ]
     },
     "execution_count": 582,
     "metadata": {},
     "output_type": "execute_result"
    }
   ],
   "source": [
    "[len(x) for x in indices]"
   ]
  },
  {
   "cell_type": "code",
   "execution_count": null,
   "id": "71f8dbc2-a7e2-47d7-98d7-f89cd7db84e2",
   "metadata": {},
   "outputs": [],
   "source": []
  },
  {
   "cell_type": "code",
   "execution_count": 597,
   "id": "bf10f07a-b480-4a3b-acf2-3b04c359cfa7",
   "metadata": {
    "collapsed": true,
    "jupyter": {
     "outputs_hidden": true
    }
   },
   "outputs": [
    {
     "data": {
      "text/plain": [
       "['SMWALVISV',\n",
       " 'SMWALVISV',\n",
       " 'SMWALVISV',\n",
       " 'SMWALVISV',\n",
       " 'RAQAPPPSW',\n",
       " 'RAQAPPPSW',\n",
       " 'RAQAPPPSW',\n",
       " 'RAQAPPPSW',\n",
       " 'RAQAPPPSW',\n",
       " 'RAQAPPPSW',\n",
       " 'RAQAPPPSW',\n",
       " 'RAQAPPPSW',\n",
       " 'RAQAPPPSW',\n",
       " 'RAQAPPPSW',\n",
       " 'RAQAPPPSW',\n",
       " 'RAQAPPPSW',\n",
       " 'RAQAPPPSW',\n",
       " 'RAQAPPPSW',\n",
       " 'RAQAPPPSW',\n",
       " 'RAQAPPPSW',\n",
       " 'RAQAPPPSW',\n",
       " 'FEDLRLLSF',\n",
       " 'FEDLRLLSF',\n",
       " 'FEDLRLLSF',\n",
       " 'FEDLRLLSF',\n",
       " 'FEDLRLLSF',\n",
       " 'FEDLRLLSF',\n",
       " 'FEDLRLLSF',\n",
       " 'FEDLRLLSF',\n",
       " 'FEDLRLLSF',\n",
       " 'FEDLRLLSF',\n",
       " 'FEDLRLLSF',\n",
       " 'FEDLRLLSF',\n",
       " 'FEDLRLLSF',\n",
       " 'FEDLRLLSF',\n",
       " 'FEDLRLLSF',\n",
       " 'FEDLRLLSF',\n",
       " 'FEDLRLLSF',\n",
       " 'FEDLRLLSF',\n",
       " 'FEDLRLLSF',\n",
       " 'FEDLRLLSF',\n",
       " 'FEDLRLLSF',\n",
       " 'ALWEIQQVV',\n",
       " 'ALWEIQQVV',\n",
       " 'ALWEIQQVV',\n",
       " 'ALWEIQQVV',\n",
       " 'ALWEIQQVV',\n",
       " 'ALWEIQQVV',\n",
       " 'ALWEIQQVV',\n",
       " 'ALWEIQQVV',\n",
       " 'ALWEIQQVV',\n",
       " 'ALWEIQQVV',\n",
       " 'ALWEIQQVV',\n",
       " 'ALWEIQQVV',\n",
       " 'ALWEIQQVV',\n",
       " 'ALWEIQQVV',\n",
       " 'ALWEIQQVV',\n",
       " 'ALWEIQQVV',\n",
       " 'ALWEIQQVV',\n",
       " 'ALWEIQQVV',\n",
       " 'ALWEIQQVV',\n",
       " 'ALWEIQQVV',\n",
       " 'ALWEIQQVV',\n",
       " 'ALWEIQQVV',\n",
       " 'AIMEKNIVL',\n",
       " 'AIMEKNIVL',\n",
       " 'AIMEKNIVL',\n",
       " 'AIMEKNIVL',\n",
       " 'AIMEKNIVL',\n",
       " 'AIMEKNIVL',\n",
       " 'AIMEKNIVL',\n",
       " 'AIMEKNIVL',\n",
       " 'SVYGDTLEK',\n",
       " 'SVYGDTLEK',\n",
       " 'SVYGDTLEK',\n",
       " 'SVYGDTLEK',\n",
       " 'SVYGDTLEK',\n",
       " 'SVYGDTLEK',\n",
       " 'SVYGDTLEK',\n",
       " 'SVYGDTLEK',\n",
       " 'SVYGDTLEK',\n",
       " 'SVYGDTLEK',\n",
       " 'SVYGDTLEK',\n",
       " 'SVYGDTLEK',\n",
       " 'SVYGDTLEK',\n",
       " 'SVYGDTLEK',\n",
       " 'SVYGDTLEK',\n",
       " 'SVYGDTLEK',\n",
       " 'SVYGDTLEK',\n",
       " 'SVYGDTLEK',\n",
       " 'GILGFVFTL',\n",
       " 'GILGFVFTL',\n",
       " 'GILGFVFTL']"
      ]
     },
     "execution_count": 597,
     "metadata": {},
     "output_type": "execute_result"
    }
   ],
   "source": [
    "invmap={v:k for k,v in pepmap.items()}\n",
    "[invmap[k.item()] for k in labels[torch.tensor(indices[0][:93])]]"
   ]
  },
  {
   "cell_type": "code",
   "execution_count": 652,
   "id": "c58f3016-4f85-44cd-8f40-01a138d0655c",
   "metadata": {},
   "outputs": [
    {
     "data": {
      "text/plain": [
       "tensor([   0,   53,   55,  ..., 5441, 5460, 5464])"
      ]
     },
     "execution_count": 652,
     "metadata": {},
     "output_type": "execute_result"
    }
   ],
   "source": [
    "non_minority_idx = torch.cat([((sampler.labels == c)&(sampler.available_indices)).nonzero(as_tuple=True)[0] for c in sampler.non_minority_classes])\n",
    "non_minority_size = len(non_minority_idx)\n",
    "non_minority_idx"
   ]
  },
  {
   "cell_type": "code",
   "execution_count": 657,
   "id": "a27f9dc3-d8f5-47cd-9f92-686728e4ca58",
   "metadata": {},
   "outputs": [
    {
     "data": {
      "text/plain": [
       "tensor([5017, 2211,  130, 1288,  554,  730, 2293,   31, 1796, 4162, 2168, 1311,\n",
       "        1494, 2689, 4926,  511, 1134, 1578, 5402, 2672, 1299, 5090, 1224, 4734,\n",
       "         184, 2993, 3072, 2237, 4967, 3755, 4708, 3977, 3566,  759, 1609, 2105,\n",
       "        3626, 3974, 3420, 3215, 1078, 1235, 2106, 3345, 5408, 3650, 1612, 3899,\n",
       "        3830, 3331, 2931,   98, 4300, 4392,  602, 3572, 3155, 2774, 1023, 3276,\n",
       "        5241, 1802, 4292, 1206, 2439, 2750, 2057, 2154, 2972, 3605, 1679, 1881,\n",
       "         223,  969, 1431, 3541, 2538, 4425, 5091, 4925, 4056, 1875, 1420, 2686,\n",
       "        4820, 2602, 1464, 5472, 2060, 2296, 3797, 2270,  910, 1198, 4904, 5541,\n",
       "        4477, 3183, 5400, 1007, 2062, 4536, 2888, 4124, 2356,   61,   96, 2789,\n",
       "        2911, 1770, 1871, 3812, 3099, 2184, 4973, 1569, 5349, 2077,  873, 2914,\n",
       "        1157, 1352, 2641,  414, 5360, 2877,  492, 3010, 5122,   99, 2150, 5494,\n",
       "        4364, 3971, 3029, 4598,  258, 4436, 5509, 1267, 4723, 3328, 5266, 4751,\n",
       "        1433, 2103, 4623, 1908, 3984, 1622, 1758,  990, 2380, 1205,  862, 2971,\n",
       "        1821, 2710, 1776, 2690, 1780, 4055,  516, 2899, 5078, 5344, 1176, 3008,\n",
       "         335, 1614, 2391,  190, 1106, 1730, 1107, 5392, 1840, 1917, 3017, 2401,\n",
       "        3790, 5197, 4401, 2930, 4443, 2147, 4198,  162, 2064, 1114,   25, 4557,\n",
       "         928, 4398,    8, 4783, 5258, 5303, 3174, 3098, 4210, 3016,  338,  742,\n",
       "        5515, 4370, 3672,  545, 2859, 1089, 3979, 2465, 4612, 1125, 5342, 5024,\n",
       "        3547,  564, 2440, 3244, 2313, 2827, 3210,  579, 4216,  221, 2563, 3819,\n",
       "        3118, 2257, 2600, 2501, 1335, 1144,  621, 1954, 1588,  366, 4795, 4400,\n",
       "        4201,  861, 1528, 5384,   68, 2624, 3890, 1586,  328,  629, 5086, 1113,\n",
       "        1257, 3536, 1059,  960,  510, 5066, 4818, 3920,  308, 4634,  978, 3061,\n",
       "        2635, 3361, 1690, 5543, 1392, 3346, 3084, 4114, 3121, 4496, 2949, 2632,\n",
       "        3335, 2228, 2998,   60, 5430, 1049, 1401, 3712, 1665, 2164, 4733, 5222,\n",
       "        1381,  182, 2405, 4466, 2921, 4744, 4253, 5261, 2414,  717, 1461, 3964,\n",
       "        5364, 1480,   95, 2528, 2813, 5322, 5071, 5476, 5432,  139, 1100,  926,\n",
       "        4214,  603,  709, 3775, 4547, 2441,  334, 2002, 3729, 1677, 5260, 3280,\n",
       "        5160, 2940, 2819, 1527, 5019, 4571, 3451, 4852, 3641, 3918, 3086, 5092,\n",
       "        5485, 4060, 4442, 1070, 4145, 3800, 2953, 2812, 3417, 1707,  209, 1079,\n",
       "        1222, 3530])"
      ]
     },
     "execution_count": 657,
     "metadata": {},
     "output_type": "execute_result"
    }
   ],
   "source": [
    "remaining_size = 350\n",
    "non_minority_idx[torch.randperm(non_minority_size)][:min(remaining_size, non_minority_size)]"
   ]
  },
  {
   "cell_type": "code",
   "execution_count": null,
   "id": "e0be57dc-255b-4adf-b93a-dbe323a8cb60",
   "metadata": {},
   "outputs": [],
   "source": []
  },
  {
   "cell_type": "code",
   "execution_count": null,
   "id": "a1c8decf-a3ca-476b-b2b9-faca64db8cc1",
   "metadata": {},
   "outputs": [],
   "source": []
  },
  {
   "cell_type": "code",
   "execution_count": 646,
   "id": "d12a7326-5394-454d-a0af-8fde735a4bf6",
   "metadata": {},
   "outputs": [],
   "source": [
    "av_idx = torch.full_like(sampler.available_indices, 1)\n",
    "av_idx[torch.randperm(2500)] = False"
   ]
  },
  {
   "cell_type": "code",
   "execution_count": 647,
   "id": "1d754fad-2b34-4d90-a2b2-8d5889a8730c",
   "metadata": {},
   "outputs": [
    {
     "data": {
      "text/plain": [
       "tensor(3061)"
      ]
     },
     "execution_count": 647,
     "metadata": {},
     "output_type": "execute_result"
    }
   ],
   "source": [
    "av_idx.sum()"
   ]
  },
  {
   "cell_type": "code",
   "execution_count": 649,
   "id": "1408473d-261e-4b7f-9115-b983cadd2cfc",
   "metadata": {},
   "outputs": [
    {
     "data": {
      "text/plain": [
       "tensor(173)"
      ]
     },
     "execution_count": 649,
     "metadata": {},
     "output_type": "execute_result"
    }
   ],
   "source": [
    "for i in range(["
   ]
  },
  {
   "cell_type": "code",
   "execution_count": 688,
   "id": "078240a7-79ab-4318-b991-e1c595af2c42",
   "metadata": {
    "scrolled": true
   },
   "outputs": [
    {
     "name": "stdout",
     "output_type": "stream",
     "text": [
      "11\n",
      "0 1\n",
      "iter 1 0\n",
      "batch 1 0\n",
      "batch 2 0\n",
      "batch 3 0\n",
      "batch 4 0\n",
      "batch 5 0\n",
      "batch 6 0\n",
      "batch 7 0\n",
      "batch 8 0\n",
      "batch 9 0\n",
      "batch 10 0\n",
      "batch 11 0\n",
      "tensor([ 970, 2413, 4753, 5447, 1417, 1437, 2269, 2551, 2696, 2990, 3078, 3517,\n",
      "        3668, 3844, 3961, 3986, 4010, 4122, 4178, 4537, 4683,  237,  254,  271,\n",
      "         337,  369,  373,  736,  913, 1978, 2042, 2427, 2497, 2916, 3439, 3520,\n",
      "        4134, 4514, 4827, 4895, 5417, 5445,   15,  514,  722,  977, 1324, 1366,\n",
      "        1571, 1669, 2036, 2201, 2249, 2459, 2960, 3343, 3646, 3841, 3874, 4051,\n",
      "        4068, 4472, 4633, 4812, 1301, 1338, 1699, 3038, 3387, 3618, 4279, 4480,\n",
      "          11,   85,  286,  363,  924, 1739, 1749, 1825, 2404, 2628, 2919, 2974,\n",
      "        3473, 4089, 4556, 4570, 5193, 5194, 2886, 1883,  142,  206, 1360, 1337,\n",
      "        4150, 4946,  563, 2795, 5473,  245, 3792, 2613, 1748, 3882, 5474, 2090,\n",
      "        5414, 4561, 3718, 1809, 2187,   57, 1823, 3418, 4426, 4309, 2428, 3136,\n",
      "        3279,  479, 1925, 4621, 1888, 3016, 1449, 1913, 4415,  556, 5448,  128,\n",
      "        5346,  838, 4157,  125, 3554, 1341, 1684, 3870,  117, 3902, 5326, 4169,\n",
      "        2410, 2264, 4602, 5191, 5261, 2457])\n",
      "0\n",
      "1 1\n"
     ]
    }
   ],
   "source": [
    "from src.samplers import GroupClassBatchSampler\n",
    "batch_size = 512\n",
    "sampler = GroupClassBatchSampler(labels, batch_size, minority_classes)\n",
    "\n",
    "print(sampler.num_batches)\n",
    "print(sampler.counter, sampler.batch_count)\n",
    "indices = [x for x in sampler]\n",
    "print(torch.tensor(indices[0][:150]))\n",
    "assert([len(x) for x in indices] == [batch_size]*(sampler.num_batches-1) + [len(labels)%batch_size]), 'batch size incorrect'\n",
    "not_seen = [x for x in range(len(labels)) if x not in torch.unique(torch.cat(indices))]\n",
    "print(len(not_seen))\n",
    "assert(len(torch.unique(torch.cat(indices)))==len(labels)), 'Not all instances seen'\n",
    "print(sampler.counter, sampler.batch_count)"
   ]
  },
  {
   "cell_type": "markdown",
   "id": "cef1e3ea-4684-464e-b6a9-9ef1da474825",
   "metadata": {},
   "source": [
    "# triplet loss tweaks"
   ]
  },
  {
   "cell_type": "code",
   "execution_count": 717,
   "id": "949fe862-e814-47b2-adcb-9d9c5d09af1b",
   "metadata": {},
   "outputs": [
    {
     "data": {
      "text/plain": [
       "[<matplotlib.lines.Line2D at 0x13dbd1dd0>]"
      ]
     },
     "execution_count": 717,
     "metadata": {},
     "output_type": "execute_result"
    },
    {
     "data": {
      "image/png": "[encoded data removed]",
      "text/plain": [
       "<Figure size 1080x360 with 1 Axes>"
      ]
     },
     "metadata": {},
     "output_type": "display_data"
    }
   ],
   "source": [
    "weight = 1\n",
    "warm_up = None\n",
    "cooldown = None\n",
    "n_epochs = 700\n",
    "xd = []\n",
    "for i in range(n_epochs):\n",
    "    wu = i >= warm_up if warm_up is not None else True\n",
    "    cd = i <= cooldown if cooldown is not None else True\n",
    "    wt = weight>0 \n",
    "    xd.append(int(wu&cd&wt))\n",
    "\n",
    "f,a = plt.subplots(1,1,figsize=(6,2))\n",
    "a.set_ylim([-.5,1])\n",
    "a.plot(range(len(xd)), xd)"
   ]
  },
  {
   "cell_type": "code",
   "execution_count": 692,
   "id": "100dc2bc-4735-4f73-a06e-5b2f2b5d8c57",
   "metadata": {},
   "outputs": [],
   "source": [
    "from torch import optim\n",
    "model = nn.Sequential(nn.Linear(100, 50), nn.ReLU(), nn.Linear(50, 1))\n",
    "optimizer = optim.SGD(model.parameters(), lr=1e-3)\n",
    "criterion = nn.MSELoss()\n",
    "x = torch.randn(1000, 100)\n",
    "z = model(x)\n",
    "y = torch.randn(1000, 1)\n",
    "mse_loss = criterion(y,z)\n",
    "extra_loss = torch.zeros_like(mse_loss)\n",
    "total_loss = mse_loss+extra_loss\n",
    "model.zero_grad()\n",
    "optimizer.zero_grad()\n",
    "total_loss.backward()\n",
    "optimizer.step()"
   ]
  },
  {
   "cell_type": "code",
   "execution_count": 694,
   "id": "b051e731-c0c5-442b-8046-7b369b014f78",
   "metadata": {},
   "outputs": [
    {
     "data": {
      "text/plain": [
       "tensor(0.)"
      ]
     },
     "execution_count": 694,
     "metadata": {},
     "output_type": "execute_result"
    }
   ],
   "source": [
    "extra_loss"
   ]
  }
 ],
 "metadata": {
  "kernelspec": {
   "display_name": "Python [conda env:pynn] *",
   "language": "python",
   "name": "conda-env-pynn-py"
  },
  "language_info": {
   "codemirror_mode": {
    "name": "ipython",
    "version": 3
   },
   "file_extension": ".py",
   "mimetype": "text/x-python",
   "name": "python",
   "nbconvert_exporter": "python",
   "pygments_lexer": "ipython3",
   "version": "3.11.5"
  }
 },
 "nbformat": 4,
 "nbformat_minor": 5
}
