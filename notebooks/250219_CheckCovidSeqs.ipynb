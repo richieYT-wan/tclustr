{
 "cells": [
  {
   "cell_type": "code",
   "execution_count": 1,
   "id": "a0b3c81b-a1f4-49e3-99a1-063f4aad36d0",
   "metadata": {},
   "outputs": [
    {
     "data": {
      "image/png": "[encoded data removed]",
      "text/plain": [
       "<Figure size 1x1 with 1 Axes>"
      ]
     },
     "metadata": {},
     "output_type": "display_data"
    }
   ],
   "source": [
    "import pandas as pd\n",
    "import numpy as np\n",
    "import sklearn\n",
    "import matplotlib.pyplot as plt\n",
    "import matplotlib as mpl\n",
    "import seaborn as sns\n",
    "f,a = plt.subplots(1,1,figsize=(1e-2, 1e-2))\n",
    "mpl.rcParams['figure.dpi'] = 150\n",
    "\n",
    "sns.set_style('darkgrid')\n",
    "import os,sys\n",
    "module_path = os.path.abspath(os.path.join('..'))\n",
    "if module_path not in sys.path:\n",
    "    sys.path.append(module_path)\n",
    "import warnings\n",
    "warnings.filterwarnings(\"ignore\")\n",
    "import glob\n",
    "from tqdm.auto import tqdm\n",
    "from datetime import datetime as dt\n",
    "from sklearn.cluster import AgglomerativeClustering\n",
    "from sklearn.preprocessing import LabelEncoder\n",
    "import torch\n",
    "from torch import nn\n",
    "from torch.nn import functional as F\n",
    "mpl.rcParams['figure.dpi'] = 180\n",
    "# Load models together\n",
    "%load_ext autoreload\n",
    "%autoreload 2\n",
    "    \n",
    "from src.torch_utils import load_model_full\n",
    "from src.utils import get_class_initcode_keys\n",
    "from torch.utils.data import SequentialSampler\n",
    "from src.datasets import *\n",
    "from src.models import *\n",
    "from src.utils import mkdirs, convert_path, pkl_dump, pkl_load, add_median_labels, get_palette\n",
    "from src.sim_utils import make_dist_matrix\n",
    "from src.torch_utils import save_checkpoint, load_checkpoint\n",
    "from src.train_eval import predict_model, train_eval_loops\n",
    "from src.models import FullTCRVAE, TwoStageVAECLF\n",
    "from src.conv_models import CNNVAE, TwoStageCNNVAECLF\n",
    "from src.metrics import reconstruction_accuracy, compute_cosine_distance\n",
    "from src.cluster_utils import *\n",
    "from src.networkx_utils import *"
   ]
  },
  {
   "cell_type": "code",
   "execution_count": 19,
   "id": "5ccb9b59-8f4a-48cb-b01a-0581b15d04d3",
   "metadata": {},
   "outputs": [],
   "source": [
    "from tqdm.auto import tqdm\n",
    "tqdm.pandas()"
   ]
  },
  {
   "cell_type": "code",
   "execution_count": 2,
   "id": "632adc52-4c8d-4b24-8245-6744bcf54718",
   "metadata": {},
   "outputs": [
    {
     "name": "stdout",
     "output_type": "stream",
     "text": [
      "\u001b[34mTBCRalign\u001b[m\u001b[m/                       \u001b[34mVAE_TS_NoTRP\u001b[m\u001b[m/\n",
      "\u001b[34mVAE_OS_CsTRP\u001b[m\u001b[m/                    iedb_sarscov2_anyAlphaBeta.xlsx\n",
      "\u001b[34mVAE_OS_NoTrp\u001b[m\u001b[m/                    iedb_sarscov2_fullpaired.xlsx\n",
      "\u001b[34mVAE_TS_CsTRP\u001b[m\u001b[m/                    \u001b[34mtcrdist3\u001b[m\u001b[m/\n"
     ]
    }
   ],
   "source": [
    "%ls ../output/250219_FrancisCovid_IndividualAnalyses/"
   ]
  },
  {
   "cell_type": "code",
   "execution_count": 3,
   "id": "c9ddce47-d7f7-4513-963d-2e9a52144f1d",
   "metadata": {},
   "outputs": [],
   "source": [
    "train_ts = pd.read_csv('../data/filtered/240618_nettcr_exp_nested_swap_train_p0234.csv').query('partition!=0')\n",
    "train_os = pd.read_csv('../data/filtered/240618_nettcr_exp_nested_posonly_train_p0234.csv').query('partition!=0')"
   ]
  },
  {
   "cell_type": "code",
   "execution_count": 63,
   "id": "eb3ea209-d8f2-4384-91ca-1bacf5e9cdea",
   "metadata": {},
   "outputs": [
    {
     "data": {
      "text/plain": [
       "['../output/250219_FrancisCovid_IndividualAnalyses/TBCRalign/',\n",
       " '../output/250219_FrancisCovid_IndividualAnalyses/tcrdist3/',\n",
       " '../output/250219_FrancisCovid_IndividualAnalyses/VAE_OS_NoTrp/',\n",
       " '../output/250219_FrancisCovid_IndividualAnalyses/VAE_TS_CsTRP/',\n",
       " '../output/250219_FrancisCovid_IndividualAnalyses/VAE_TS_NoTRP/',\n",
       " '../output/250219_FrancisCovid_IndividualAnalyses/VAE_OS_CsTRP/']"
      ]
     },
     "execution_count": 63,
     "metadata": {},
     "output_type": "execute_result"
    }
   ],
   "source": [
    "glob.glob('../output/250219_FrancisCovid_IndividualAnalyses/*/')"
   ]
  },
  {
   "cell_type": "code",
   "execution_count": 4,
   "id": "c93c5534-fb69-41d2-b380-aa093e4d6e20",
   "metadata": {},
   "outputs": [],
   "source": [
    "lvl0 = pd.read_csv('../output/250219_FrancisCovid_IndividualAnalyses/VAE_TS_CsTRP/concat_siglvl_ns.csv')\n",
    "lvl1 = pd.read_csv('../output/250219_FrancisCovid_IndividualAnalyses/VAE_TS_CsTRP/concat_siglvl_1.csv')\n",
    "lvl2 = pd.read_csv('../output/250219_FrancisCovid_IndividualAnalyses/VAE_TS_CsTRP/concat_siglvl_2.csv')\n",
    "lvl3 = pd.read_csv('../output/250219_FrancisCovid_IndividualAnalyses/VAE_TS_CsTRP/concat_siglvl_3.csv')\n",
    "lvl4 = pd.read_csv('../output/250219_FrancisCovid_IndividualAnalyses/VAE_TS_CsTRP/concat_siglvl_4.csv')\n",
    "lvlcols=['tcr','v_beta','d_beta','j_beta','v_alpha','j_alpha', 'A1','A2','A3', 'B1','B2','B3', 'Subject','count','Run','cluster_count', 'cluster_percent', 'cluster_binom_pval','merged_index']"
   ]
  },
  {
   "cell_type": "code",
   "execution_count": 5,
   "id": "9f1fa99a-aab5-44a4-a3ad-739d1c1da656",
   "metadata": {},
   "outputs": [],
   "source": [
    "top1p = pd.read_csv('../output/250219_FrancisCovid_IndividualAnalyses/VAE_TS_CsTRP/concat_top1_percent.csv')\n",
    "bot1p = pd.read_csv('../output/250219_FrancisCovid_IndividualAnalyses/VAE_TS_CsTRP/concat_bot1_percent.csv')\n",
    "top50 = pd.read_csv('../output/250219_FrancisCovid_IndividualAnalyses/VAE_TS_CsTRP/concat_top50.csv')\n",
    "bot50 = pd.read_csv('../output/250219_FrancisCovid_IndividualAnalyses/VAE_TS_CsTRP/concat_bot50.csv')"
   ]
  },
  {
   "cell_type": "code",
   "execution_count": 6,
   "id": "6bdbfbd5-f3be-4ca2-9adf-812eb633092c",
   "metadata": {},
   "outputs": [],
   "source": [
    "from src.utils import flatten_level_columns\n",
    "def read_iedb(fn):\n",
    "    df=flatten_level_columns(pd.read_excel(fn, header=[0,1]))\n",
    "    df.columns = df.columns.str.replace(' ','-')\n",
    "    return df \n",
    "cov2 = ['SARS-CoV2', 'Severe acute respiratory syndrome coronavirus 2 Wuhan/Hu-1/2019']"
   ]
  },
  {
   "cell_type": "code",
   "execution_count": 7,
   "id": "f15422f1-53cc-44bb-a8ba-6ad73e080558",
   "metadata": {},
   "outputs": [],
   "source": [
    "covid_any = read_iedb('../output/250219_FrancisCovid_IndividualAnalyses/iedb_sarscov2_anyAlphaBeta.xlsx').query('`epitope_source-organism` in @cov2')\n",
    "covid_pair = read_iedb('../output/250219_FrancisCovid_IndividualAnalyses/iedb_sarscov2_fullpaired.xlsx').query('`epitope_source-organism` in @cov2')\n",
    "cols_to_drop = covid_any.columns[covid_any.isna().all(axis=0)]\n",
    "covid_any.drop(columns = cols_to_drop, inplace=True)\n",
    "covid_pair.drop(columns = cols_to_drop, inplace=True)\n",
    "covid_any['db_index'] = [f'db_idx_{i:05}' for i in range(len(covid_any))]\n",
    "covid_pair['db_index'] = [f'db_idx_{i:05}' for i in range(len(covid_pair))]"
   ]
  },
  {
   "cell_type": "code",
   "execution_count": 8,
   "id": "16e66454-3f06-486f-b54f-155ade8c5ede",
   "metadata": {
    "scrolled": true
   },
   "outputs": [
    {
     "data": {
      "text/html": [
       "<div>\n",
       "<style scoped>\n",
       "    .dataframe tbody tr th:only-of-type {\n",
       "        vertical-align: middle;\n",
       "    }\n",
       "\n",
       "    .dataframe tbody tr th {\n",
       "        vertical-align: top;\n",
       "    }\n",
       "\n",
       "    .dataframe thead th {\n",
       "        text-align: right;\n",
       "    }\n",
       "</style>\n",
       "<table border=\"1\" class=\"dataframe\">\n",
       "  <thead>\n",
       "    <tr style=\"text-align: right;\">\n",
       "      <th></th>\n",
       "      <th>receptor_group-iri</th>\n",
       "      <th>receptor_iedb-receptor-id</th>\n",
       "      <th>receptor_reference-name</th>\n",
       "      <th>receptor_type</th>\n",
       "      <th>reference_iedb-iri</th>\n",
       "      <th>epitope_iedb-iri</th>\n",
       "      <th>epitope_name</th>\n",
       "      <th>epitope_source-molecule</th>\n",
       "      <th>epitope_source-organism</th>\n",
       "      <th>assay_type</th>\n",
       "      <th>...</th>\n",
       "      <th>chain-2_cdr3-calculated</th>\n",
       "      <th>chain-2_cdr3-start-calculated</th>\n",
       "      <th>chain-2_cdr3-end-calculated</th>\n",
       "      <th>chain-2_cdr1-calculated</th>\n",
       "      <th>chain-2_cdr1-start-calculated</th>\n",
       "      <th>chain-2_cdr1-end-calculated</th>\n",
       "      <th>chain-2_cdr2-calculated</th>\n",
       "      <th>chain-2_cdr2-start-calculated</th>\n",
       "      <th>chain-2_cdr2-end-calculated</th>\n",
       "      <th>db_index</th>\n",
       "    </tr>\n",
       "  </thead>\n",
       "  <tbody>\n",
       "    <tr>\n",
       "      <th>3</th>\n",
       "      <td>http://www.iedb.org/receptor/8670</td>\n",
       "      <td>9437</td>\n",
       "      <td>NaN</td>\n",
       "      <td>alphabeta</td>\n",
       "      <td>http://www.iedb.org/reference/1036945</td>\n",
       "      <td>http://www.iedb.org/epitope/1074888</td>\n",
       "      <td>FLPFFSNVTWFHAI</td>\n",
       "      <td>Spike glycoprotein</td>\n",
       "      <td>SARS-CoV2</td>\n",
       "      <td>T cell</td>\n",
       "      <td>...</td>\n",
       "      <td>ASSIRSSYEQY</td>\n",
       "      <td>NaN</td>\n",
       "      <td>NaN</td>\n",
       "      <td>NaN</td>\n",
       "      <td>NaN</td>\n",
       "      <td>NaN</td>\n",
       "      <td>NaN</td>\n",
       "      <td>NaN</td>\n",
       "      <td>NaN</td>\n",
       "      <td>db_any_00000</td>\n",
       "    </tr>\n",
       "    <tr>\n",
       "      <th>4</th>\n",
       "      <td>http://www.iedb.org/receptor/8670</td>\n",
       "      <td>9437</td>\n",
       "      <td>NaN</td>\n",
       "      <td>alphabeta</td>\n",
       "      <td>http://www.iedb.org/reference/1036945</td>\n",
       "      <td>http://www.iedb.org/epitope/1075108</td>\n",
       "      <td>VQPTESIVRFPNITNLCPF</td>\n",
       "      <td>surface glycoprotein [Severe acute respiratory...</td>\n",
       "      <td>SARS-CoV2</td>\n",
       "      <td>T cell</td>\n",
       "      <td>...</td>\n",
       "      <td>ASSIRSSYEQY</td>\n",
       "      <td>NaN</td>\n",
       "      <td>NaN</td>\n",
       "      <td>NaN</td>\n",
       "      <td>NaN</td>\n",
       "      <td>NaN</td>\n",
       "      <td>NaN</td>\n",
       "      <td>NaN</td>\n",
       "      <td>NaN</td>\n",
       "      <td>db_any_00001</td>\n",
       "    </tr>\n",
       "    <tr>\n",
       "      <th>6</th>\n",
       "      <td>http://www.iedb.org/receptor/8678</td>\n",
       "      <td>9445</td>\n",
       "      <td>NaN</td>\n",
       "      <td>alphabeta</td>\n",
       "      <td>http://www.iedb.org/reference/1036945</td>\n",
       "      <td>http://www.iedb.org/epitope/1074888</td>\n",
       "      <td>FLPFFSNVTWFHAI</td>\n",
       "      <td>Spike glycoprotein</td>\n",
       "      <td>SARS-CoV2</td>\n",
       "      <td>T cell</td>\n",
       "      <td>...</td>\n",
       "      <td>ASSIGVYGYT</td>\n",
       "      <td>NaN</td>\n",
       "      <td>NaN</td>\n",
       "      <td>NaN</td>\n",
       "      <td>NaN</td>\n",
       "      <td>NaN</td>\n",
       "      <td>NaN</td>\n",
       "      <td>NaN</td>\n",
       "      <td>NaN</td>\n",
       "      <td>db_any_00002</td>\n",
       "    </tr>\n",
       "  </tbody>\n",
       "</table>\n",
       "<p>3 rows × 50 columns</p>\n",
       "</div>"
      ],
      "text/plain": [
       "                  receptor_group-iri  receptor_iedb-receptor-id  \\\n",
       "3  http://www.iedb.org/receptor/8670                       9437   \n",
       "4  http://www.iedb.org/receptor/8670                       9437   \n",
       "6  http://www.iedb.org/receptor/8678                       9445   \n",
       "\n",
       "  receptor_reference-name receptor_type  \\\n",
       "3                     NaN     alphabeta   \n",
       "4                     NaN     alphabeta   \n",
       "6                     NaN     alphabeta   \n",
       "\n",
       "                      reference_iedb-iri                     epitope_iedb-iri  \\\n",
       "3  http://www.iedb.org/reference/1036945  http://www.iedb.org/epitope/1074888   \n",
       "4  http://www.iedb.org/reference/1036945  http://www.iedb.org/epitope/1075108   \n",
       "6  http://www.iedb.org/reference/1036945  http://www.iedb.org/epitope/1074888   \n",
       "\n",
       "          epitope_name                            epitope_source-molecule  \\\n",
       "3       FLPFFSNVTWFHAI                                 Spike glycoprotein   \n",
       "4  VQPTESIVRFPNITNLCPF  surface glycoprotein [Severe acute respiratory...   \n",
       "6       FLPFFSNVTWFHAI                                 Spike glycoprotein   \n",
       "\n",
       "  epitope_source-organism assay_type  ... chain-2_cdr3-calculated  \\\n",
       "3               SARS-CoV2     T cell  ...             ASSIRSSYEQY   \n",
       "4               SARS-CoV2     T cell  ...             ASSIRSSYEQY   \n",
       "6               SARS-CoV2     T cell  ...              ASSIGVYGYT   \n",
       "\n",
       "  chain-2_cdr3-start-calculated chain-2_cdr3-end-calculated  \\\n",
       "3                           NaN                         NaN   \n",
       "4                           NaN                         NaN   \n",
       "6                           NaN                         NaN   \n",
       "\n",
       "  chain-2_cdr1-calculated chain-2_cdr1-start-calculated  \\\n",
       "3                     NaN                           NaN   \n",
       "4                     NaN                           NaN   \n",
       "6                     NaN                           NaN   \n",
       "\n",
       "  chain-2_cdr1-end-calculated chain-2_cdr2-calculated  \\\n",
       "3                         NaN                     NaN   \n",
       "4                         NaN                     NaN   \n",
       "6                         NaN                     NaN   \n",
       "\n",
       "  chain-2_cdr2-start-calculated chain-2_cdr2-end-calculated      db_index  \n",
       "3                           NaN                         NaN  db_any_00000  \n",
       "4                           NaN                         NaN  db_any_00001  \n",
       "6                           NaN                         NaN  db_any_00002  \n",
       "\n",
       "[3 rows x 50 columns]"
      ]
     },
     "execution_count": 8,
     "metadata": {},
     "output_type": "execute_result"
    }
   ],
   "source": [
    "covid_any['db_index'] = [f'db_any_{i:05}' for i in range(len(covid_any))]\n",
    "covid_pair['db_index'] = [f'db_pair_{i:05}' for i in range(len(covid_pair))]\n",
    "covid_any.head(3)"
   ]
  },
  {
   "cell_type": "code",
   "execution_count": 9,
   "id": "cef4183b-c950-4544-81c2-45c6bab5d93b",
   "metadata": {},
   "outputs": [
    {
     "data": {
      "text/html": [
       "<div>\n",
       "<style scoped>\n",
       "    .dataframe tbody tr th:only-of-type {\n",
       "        vertical-align: middle;\n",
       "    }\n",
       "\n",
       "    .dataframe tbody tr th {\n",
       "        vertical-align: top;\n",
       "    }\n",
       "\n",
       "    .dataframe thead th {\n",
       "        text-align: right;\n",
       "    }\n",
       "</style>\n",
       "<table border=\"1\" class=\"dataframe\">\n",
       "  <thead>\n",
       "    <tr style=\"text-align: right;\">\n",
       "      <th></th>\n",
       "      <th>chain-1_cdr1-calculated</th>\n",
       "      <th>chain-2_cdr1-calculated</th>\n",
       "      <th>chain-1_cdr2-calculated</th>\n",
       "      <th>chain-2_cdr2-calculated</th>\n",
       "    </tr>\n",
       "  </thead>\n",
       "  <tbody>\n",
       "    <tr>\n",
       "      <th>97903</th>\n",
       "      <td>NSASQS</td>\n",
       "      <td>LNHDA</td>\n",
       "      <td>VYSSG</td>\n",
       "      <td>SQIVND</td>\n",
       "    </tr>\n",
       "    <tr>\n",
       "      <th>97904</th>\n",
       "      <td>DRGSQS</td>\n",
       "      <td>SEHNR</td>\n",
       "      <td>IYSNGD</td>\n",
       "      <td>FQNEAQ</td>\n",
       "    </tr>\n",
       "    <tr>\n",
       "      <th>97905</th>\n",
       "      <td>YSGSPE</td>\n",
       "      <td>SGHAT</td>\n",
       "      <td>HISR</td>\n",
       "      <td>FQNNGV</td>\n",
       "    </tr>\n",
       "    <tr>\n",
       "      <th>97906</th>\n",
       "      <td>NSASQS</td>\n",
       "      <td>SEHNR</td>\n",
       "      <td>VYSSG</td>\n",
       "      <td>FQNEAQ</td>\n",
       "    </tr>\n",
       "    <tr>\n",
       "      <th>97907</th>\n",
       "      <td>TSESDYY</td>\n",
       "      <td>SGHNS</td>\n",
       "      <td>QEAYKQQN</td>\n",
       "      <td>FNNNVP</td>\n",
       "    </tr>\n",
       "    <tr>\n",
       "      <th>97908</th>\n",
       "      <td>TSESDYY</td>\n",
       "      <td>SGHNS</td>\n",
       "      <td>QEAYKQQN</td>\n",
       "      <td>FNNNVP</td>\n",
       "    </tr>\n",
       "  </tbody>\n",
       "</table>\n",
       "</div>"
      ],
      "text/plain": [
       "      chain-1_cdr1-calculated chain-2_cdr1-calculated chain-1_cdr2-calculated  \\\n",
       "97903                  NSASQS                   LNHDA                   VYSSG   \n",
       "97904                  DRGSQS                   SEHNR                  IYSNGD   \n",
       "97905                  YSGSPE                   SGHAT                    HISR   \n",
       "97906                  NSASQS                   SEHNR                   VYSSG   \n",
       "97907                 TSESDYY                   SGHNS                QEAYKQQN   \n",
       "97908                 TSESDYY                   SGHNS                QEAYKQQN   \n",
       "\n",
       "      chain-2_cdr2-calculated  \n",
       "97903                  SQIVND  \n",
       "97904                  FQNEAQ  \n",
       "97905                  FQNNGV  \n",
       "97906                  FQNEAQ  \n",
       "97907                  FNNNVP  \n",
       "97908                  FNNNVP  "
      ]
     },
     "execution_count": 9,
     "metadata": {},
     "output_type": "execute_result"
    }
   ],
   "source": [
    "c1cols = [x for x in covid_any.columns if ('cdr1' in x) and (\"start\" not in x and 'end' not in x)]\n",
    "c2cols = [x for x in covid_any.columns if ('cdr2' in x) and (\"start\" not in x and 'end' not in x)]\n",
    "c12cols = c1cols+c2cols\n",
    "c3cols = [x for x in covid_any.columns if 'cdr3' in x and \"start\" not in x and 'end' not in x]\n",
    "seqcols = [x for x in c1cols+c2cols+c3cols if \"start\" not in x and 'end' not in x]\n",
    "genecols = [x for x in covid_any.columns if 'gene' in x]\n",
    "assaycols = [x for x in covid_any.columns if 'assay' in x]\n",
    "epicols = [x for x in covid_any.columns if 'epitope' in x]\n",
    "\n",
    "keepcols = ['assay_mhc-allele-names']+seqcols+genecols+epicols+genecols\n",
    "keep3cols = ['assay_mhc-allele-names']+c3cols+genecols+epicols+genecols\n",
    "covid_any.loc[(~covid_any[c12cols].isna()).any(axis=1)][c12cols]"
   ]
  },
  {
   "cell_type": "code",
   "execution_count": 10,
   "id": "1e2cf751-79f6-4951-a63d-cf46a835dbab",
   "metadata": {},
   "outputs": [
    {
     "data": {
      "text/html": [
       "<div>\n",
       "<style scoped>\n",
       "    .dataframe tbody tr th:only-of-type {\n",
       "        vertical-align: middle;\n",
       "    }\n",
       "\n",
       "    .dataframe tbody tr th {\n",
       "        vertical-align: top;\n",
       "    }\n",
       "\n",
       "    .dataframe thead th {\n",
       "        text-align: right;\n",
       "    }\n",
       "</style>\n",
       "<table border=\"1\" class=\"dataframe\">\n",
       "  <thead>\n",
       "    <tr style=\"text-align: right;\">\n",
       "      <th></th>\n",
       "      <th>chain-1_cdr1-calculated</th>\n",
       "      <th>chain-2_cdr1-calculated</th>\n",
       "      <th>chain-1_cdr2-calculated</th>\n",
       "      <th>chain-2_cdr2-calculated</th>\n",
       "    </tr>\n",
       "  </thead>\n",
       "  <tbody>\n",
       "    <tr>\n",
       "      <th>3377</th>\n",
       "      <td>NSASQS</td>\n",
       "      <td>LNHDA</td>\n",
       "      <td>VYSSG</td>\n",
       "      <td>SQIVND</td>\n",
       "    </tr>\n",
       "    <tr>\n",
       "      <th>3378</th>\n",
       "      <td>DRGSQS</td>\n",
       "      <td>SEHNR</td>\n",
       "      <td>IYSNGD</td>\n",
       "      <td>FQNEAQ</td>\n",
       "    </tr>\n",
       "    <tr>\n",
       "      <th>3379</th>\n",
       "      <td>YSGSPE</td>\n",
       "      <td>SGHAT</td>\n",
       "      <td>HISR</td>\n",
       "      <td>FQNNGV</td>\n",
       "    </tr>\n",
       "    <tr>\n",
       "      <th>3380</th>\n",
       "      <td>NSASQS</td>\n",
       "      <td>SEHNR</td>\n",
       "      <td>VYSSG</td>\n",
       "      <td>FQNEAQ</td>\n",
       "    </tr>\n",
       "    <tr>\n",
       "      <th>3381</th>\n",
       "      <td>TSESDYY</td>\n",
       "      <td>SGHNS</td>\n",
       "      <td>QEAYKQQN</td>\n",
       "      <td>FNNNVP</td>\n",
       "    </tr>\n",
       "    <tr>\n",
       "      <th>3382</th>\n",
       "      <td>TSESDYY</td>\n",
       "      <td>SGHNS</td>\n",
       "      <td>QEAYKQQN</td>\n",
       "      <td>FNNNVP</td>\n",
       "    </tr>\n",
       "  </tbody>\n",
       "</table>\n",
       "</div>"
      ],
      "text/plain": [
       "     chain-1_cdr1-calculated chain-2_cdr1-calculated chain-1_cdr2-calculated  \\\n",
       "3377                  NSASQS                   LNHDA                   VYSSG   \n",
       "3378                  DRGSQS                   SEHNR                  IYSNGD   \n",
       "3379                  YSGSPE                   SGHAT                    HISR   \n",
       "3380                  NSASQS                   SEHNR                   VYSSG   \n",
       "3381                 TSESDYY                   SGHNS                QEAYKQQN   \n",
       "3382                 TSESDYY                   SGHNS                QEAYKQQN   \n",
       "\n",
       "     chain-2_cdr2-calculated  \n",
       "3377                  SQIVND  \n",
       "3378                  FQNEAQ  \n",
       "3379                  FQNNGV  \n",
       "3380                  FQNEAQ  \n",
       "3381                  FNNNVP  \n",
       "3382                  FNNNVP  "
      ]
     },
     "execution_count": 10,
     "metadata": {},
     "output_type": "execute_result"
    }
   ],
   "source": [
    "# it's the same 6 datapoints that has the full CDR1-2-3_A/B\n",
    "covid_pair.loc[(~covid_pair[c12cols].isna()).any(axis=1)][c12cols]"
   ]
  },
  {
   "cell_type": "code",
   "execution_count": 26,
   "id": "ea4d9af2-5893-467b-b46b-4abd0e02bacd",
   "metadata": {},
   "outputs": [],
   "source": [
    "# Find only the sequences cause the gene formatting is iffy\n",
    "def find_cdr3(row, db, case=\"or\"):\n",
    "    chain_dict = {'A3': ('`chain-1_cdr3-calculated`', '`chain-1_cdr3-curated`'), \n",
    "                  'B3': ('`chain-2_cdr3-calculated`', '`chain-2_cdr3-curated`')}\n",
    "    ac1, ac2 = '`chain-1_cdr3-calculated`', '`chain-1_cdr3-curated`'\n",
    "    bc1, bc2 = '`chain-2_cdr3-calculated`', '`chain-2_cdr3-curated`'\n",
    "    A3 = row['A3']\n",
    "    B3 = row['B3']\n",
    "    match = db.query(f'({ac1}.str.contains(@A3) or {ac2}.str.contains(@A3)) {case} ({bc1}.str.contains(@B3) or {bc2}.str.contains(@B3))')\n",
    "    if len(match)==0:\n",
    "        return 'none'\n",
    "    else:\n",
    "        return match['db_index'].unique()\n",
    "\n",
    "def find_train(row, db, case=\"or\"):\n",
    "    a3=row['A3']\n",
    "    b3=row['B3']\n",
    "    match = db.query(f'A3==@a3 {case} B3==@b3')\n",
    "    if len(match)==0:\n",
    "        return 'none'\n",
    "    else:\n",
    "        return match['raw_index'].unique()"
   ]
  },
  {
   "cell_type": "code",
   "execution_count": 38,
   "id": "2b0df4c9-d7e8-4c11-ae19-b9ecc92920f6",
   "metadata": {},
   "outputs": [],
   "source": [
    "top50['match_train'] = top50.apply(find_train, db=train_ts, case=\"and\", axis=1)\n",
    "bot50['match_train'] = bot50.apply(find_train, db=train_ts, case=\"and\", axis=1)\n",
    "top50['match_any_id'] = top50.apply(find_cdr3, db=covid_any, case=\"or\", axis=1)\n",
    "bot50['match_any_id'] = bot50.apply(find_cdr3, db=covid_any, case=\"or\", axis=1)"
   ]
  },
  {
   "cell_type": "code",
   "execution_count": 32,
   "id": "7d4a4d00-4025-458b-94aa-d5b347684121",
   "metadata": {
    "scrolled": true
   },
   "outputs": [],
   "source": [
    "lvl0['match_any_id'] = lvl0.apply(find_cdr3, db=covid_any, case=\"or\", axis=1)\n",
    "lvl1['match_any_id'] = lvl1.apply(find_cdr3, db=covid_any, case=\"or\", axis=1)\n",
    "lvl2['match_any_id'] = lvl2.apply(find_cdr3, db=covid_any, case=\"or\", axis=1)\n",
    "lvl3['match_any_id'] = lvl3.apply(find_cdr3, db=covid_any, case=\"or\", axis=1)\n",
    "lvl4['match_any_id'] = lvl4.apply(find_cdr3, db=covid_any, case=\"or\", axis=1)\n",
    "top1p['match_any_id'] = top1p.apply(find_cdr3, db=covid_any, case=\"or\", axis=1)\n",
    "bot1p['match_any_id'] = bot1p.apply(find_cdr3, db=covid_any, case=\"or\", axis=1)\n",
    "top50['match_any_id'] = top50.apply(find_cdr3, db=covid_any, case=\"or\", axis=1)\n",
    "bot50['match_any_id'] = bot50.apply(find_cdr3, db=covid_any, case=\"or\", axis=1)\n",
    "# lvl0['match_pair_id'] = lvl0.apply(find_cdr3, db=covid_pair, case=\"and\", axis=1)\n",
    "# lvl1['match_pair_id'] = lvl1.apply(find_cdr3, db=covid_pair, case=\"and\", axis=1)\n",
    "# lvl2['match_pair_id'] = lvl2.apply(find_cdr3, db=covid_pair, case=\"and\", axis=1)\n",
    "# lvl3['match_pair_id'] = lvl3.apply(find_cdr3, db=covid_pair, case=\"and\", axis=1)\n",
    "# lvl4['match_pair_id'] = lvl4.apply(find_cdr3, db=covid_pair, case=\"and\", axis=1)"
   ]
  },
  {
   "cell_type": "code",
   "execution_count": null,
   "id": "9892a397-0743-4081-9b5f-6d6aef9c1e5b",
   "metadata": {},
   "outputs": [],
   "source": [
    "# select top X and bottom X% instead of significance level --> redo this match query thing\n",
    "# and do the same with training set and hope not to see the proportions increase"
   ]
  },
  {
   "cell_type": "code",
   "execution_count": 55,
   "id": "c7cffd5c-7602-4849-ae78-d80e78cd801c",
   "metadata": {},
   "outputs": [
    {
     "name": "stdout",
     "output_type": "stream",
     "text": [
      "Found in IEDB (A3 OR B3 match)\n",
      "bot 1%:\t 0.0328\n",
      "top 1%:\t 0.2186\n",
      "bot 50:\t 0.02\n",
      "top 50:\t 0.14\n",
      "******************************\n",
      "lvl 0:\t 0.0531\n",
      "lvl 1:\t 0.0706\n",
      "lvl 2:\t 0.0843\n",
      "lvl 3:\t 0.1778\n",
      "lvl 4:\t 0.1793\n"
     ]
    }
   ],
   "source": [
    "print('Found in IEDB (A3 OR B3 match)')\n",
    "print(f\"bot 1%:\\t\", round((len(bot1p.query('match_any_id!=\"none\"'))/ len(bot1p)),4))\n",
    "print(f\"top 1%:\\t\", round((len(top1p.query('match_any_id!=\"none\"'))/ len(top1p)),4))\n",
    "print(f\"bot 50:\\t\", round((len(bot50.query('match_any_id!=\"none\"'))/ len(bot50)),4))\n",
    "print(f\"top 50:\\t\", round((len(top50.query('match_any_id!=\"none\"'))/ len(top50)),4))\n",
    "print('*'*30)\n",
    "print(f'lvl 0:\\t', round((len(lvl0.query('match_any_id!=\"none\"'))/ len(lvl0)),4))\n",
    "print(f\"lvl 1:\\t\", round((len(lvl1.query('match_any_id!=\"none\"'))/ len(lvl1)),4))\n",
    "print(f\"lvl 2:\\t\", round((len(lvl2.query('match_any_id!=\"none\"'))/ len(lvl2)),4))\n",
    "print(f\"lvl 3:\\t\", round((len(lvl3.query('match_any_id!=\"none\"'))/ len(lvl3)),4))\n",
    "print(f\"lvl 4:\\t\", round((len(lvl4.query('match_any_id!=\"none\"'))/ len(lvl4)),4))"
   ]
  },
  {
   "cell_type": "code",
   "execution_count": 62,
   "id": "9b2d0089-147e-44f1-a0c7-ca4d894c2be4",
   "metadata": {
    "scrolled": true
   },
   "outputs": [
    {
     "name": "stdout",
     "output_type": "stream",
     "text": [
      "Found in train (A3 and B3 exact match)\n",
      "bot 1%:\t 0.0055\n",
      "top 1%:\t 0.0273\n",
      "bot 50:\t 0.0\n",
      "top 50:\t 0.04\n",
      "******************************\n",
      "lvl 0:\t 0.0173\n",
      "lvl 1:\t 0.0275\n",
      "lvl 2:\t 0.0723\n",
      "lvl 3:\t 0.0444\n",
      "lvl 4:\t 0.0552\n"
     ]
    }
   ],
   "source": [
    "print('Found in train (A3 and B3 exact match)')\n",
    "print(\"bot 1%:\\t\", round((len(bot1p.query('match_train!=\"none\"'))/ len(bot1p)), 4))\n",
    "print(\"top 1%:\\t\", round((len(top1p.query('match_train!=\"none\"'))/ len(top1p)), 4))\n",
    "print(\"bot 50:\\t\", round((len(bot50.query('match_train!=\"none\"'))/ len(bot50)), 4))\n",
    "print(\"top 50:\\t\", round((len(top50.query('match_train!=\"none\"'))/ len(top50)), 4))\n",
    "print('*'*30)\n",
    "print('lvl 0:\\t', round((len(lvl0.query('match_train!=\"none\"'))/ len(lvl0)),4))\n",
    "print(\"lvl 1:\\t\", round((len(lvl1.query('match_train!=\"none\"'))/ len(lvl1)), 4))\n",
    "print(\"lvl 2:\\t\", round((len(lvl2.query('match_train!=\"none\"'))/ len(lvl2)), 4))\n",
    "print(\"lvl 3:\\t\", round((len(lvl3.query('match_train!=\"none\"'))/ len(lvl3)), 4))\n",
    "print(\"lvl 4:\\t\", round((len(lvl4.query('match_train!=\"none\"'))/ len(lvl4)), 4))"
   ]
  },
  {
   "cell_type": "markdown",
   "id": "aa02b71e-80f8-4e02-bad9-5fa41ee995f6",
   "metadata": {},
   "source": [
    "# redo for everything"
   ]
  },
  {
   "cell_type": "code",
   "execution_count": 72,
   "id": "649b143e-13b2-434a-a742-3f08ae609a5d",
   "metadata": {},
   "outputs": [
    {
     "data": {
      "application/vnd.jupyter.widget-view+json": {
       "model_id": "c61b68a4eb724c07830d4396933ca1bc",
       "version_major": 2,
       "version_minor": 0
      },
      "text/plain": [
       "  0%|          | 0/17223 [00:00<?, ?it/s]"
      ]
     },
     "metadata": {},
     "output_type": "display_data"
    },
    {
     "data": {
      "application/vnd.jupyter.widget-view+json": {
       "model_id": "bcb30fadfdf84d76891160fe66fb3ac4",
       "version_major": 2,
       "version_minor": 0
      },
      "text/plain": [
       "  0%|          | 0/941 [00:00<?, ?it/s]"
      ]
     },
     "metadata": {},
     "output_type": "display_data"
    },
    {
     "data": {
      "application/vnd.jupyter.widget-view+json": {
       "model_id": "57a700e86eed4a259d97a399279e9c63",
       "version_major": 2,
       "version_minor": 0
      },
      "text/plain": [
       "  0%|          | 0/65 [00:00<?, ?it/s]"
      ]
     },
     "metadata": {},
     "output_type": "display_data"
    },
    {
     "data": {
      "application/vnd.jupyter.widget-view+json": {
       "model_id": "eec4f3b2812f4c7e9bde6be69af129e2",
       "version_major": 2,
       "version_minor": 0
      },
      "text/plain": [
       "  0%|          | 0/34 [00:00<?, ?it/s]"
      ]
     },
     "metadata": {},
     "output_type": "display_data"
    },
    {
     "data": {
      "application/vnd.jupyter.widget-view+json": {
       "model_id": "3ec76f56001144ce84ccc87d8601522f",
       "version_major": 2,
       "version_minor": 0
      },
      "text/plain": [
       "  0%|          | 0/123 [00:00<?, ?it/s]"
      ]
     },
     "metadata": {},
     "output_type": "display_data"
    },
    {
     "data": {
      "application/vnd.jupyter.widget-view+json": {
       "model_id": "7c73caca5fc84beb80aa7be7ffb71867",
       "version_major": 2,
       "version_minor": 0
      },
      "text/plain": [
       "  0%|          | 0/183 [00:00<?, ?it/s]"
      ]
     },
     "metadata": {},
     "output_type": "display_data"
    },
    {
     "data": {
      "application/vnd.jupyter.widget-view+json": {
       "model_id": "ff8bbecf724b489e8387f54dd52e8327",
       "version_major": 2,
       "version_minor": 0
      },
      "text/plain": [
       "  0%|          | 0/183 [00:00<?, ?it/s]"
      ]
     },
     "metadata": {},
     "output_type": "display_data"
    },
    {
     "data": {
      "application/vnd.jupyter.widget-view+json": {
       "model_id": "33325f040f6d4e8983fd04ba40bf387d",
       "version_major": 2,
       "version_minor": 0
      },
      "text/plain": [
       "  0%|          | 0/50 [00:00<?, ?it/s]"
      ]
     },
     "metadata": {},
     "output_type": "display_data"
    },
    {
     "data": {
      "application/vnd.jupyter.widget-view+json": {
       "model_id": "2bd96149706a4de79ac910c519511d4c",
       "version_major": 2,
       "version_minor": 0
      },
      "text/plain": [
       "  0%|          | 0/50 [00:00<?, ?it/s]"
      ]
     },
     "metadata": {},
     "output_type": "display_data"
    },
    {
     "data": {
      "application/vnd.jupyter.widget-view+json": {
       "model_id": "57cbe1e5edd2484fa157cbc565789048",
       "version_major": 2,
       "version_minor": 0
      },
      "text/plain": [
       "  0%|          | 0/17223 [00:00<?, ?it/s]"
      ]
     },
     "metadata": {},
     "output_type": "display_data"
    },
    {
     "data": {
      "application/vnd.jupyter.widget-view+json": {
       "model_id": "8146559585b743aaa5c44f2639714b96",
       "version_major": 2,
       "version_minor": 0
      },
      "text/plain": [
       "  0%|          | 0/941 [00:00<?, ?it/s]"
      ]
     },
     "metadata": {},
     "output_type": "display_data"
    },
    {
     "data": {
      "application/vnd.jupyter.widget-view+json": {
       "model_id": "7a684efc41a943eba3af67f8fef9a573",
       "version_major": 2,
       "version_minor": 0
      },
      "text/plain": [
       "  0%|          | 0/65 [00:00<?, ?it/s]"
      ]
     },
     "metadata": {},
     "output_type": "display_data"
    },
    {
     "data": {
      "application/vnd.jupyter.widget-view+json": {
       "model_id": "a3392153bec24a5da95a93d7a227266c",
       "version_major": 2,
       "version_minor": 0
      },
      "text/plain": [
       "  0%|          | 0/34 [00:00<?, ?it/s]"
      ]
     },
     "metadata": {},
     "output_type": "display_data"
    },
    {
     "data": {
      "application/vnd.jupyter.widget-view+json": {
       "model_id": "a8730c4368f84875873624f1c87b6041",
       "version_major": 2,
       "version_minor": 0
      },
      "text/plain": [
       "  0%|          | 0/123 [00:00<?, ?it/s]"
      ]
     },
     "metadata": {},
     "output_type": "display_data"
    },
    {
     "data": {
      "application/vnd.jupyter.widget-view+json": {
       "model_id": "8c4908b7a3904515807102c3af9b59a5",
       "version_major": 2,
       "version_minor": 0
      },
      "text/plain": [
       "  0%|          | 0/183 [00:00<?, ?it/s]"
      ]
     },
     "metadata": {},
     "output_type": "display_data"
    },
    {
     "data": {
      "application/vnd.jupyter.widget-view+json": {
       "model_id": "423a987b4a27495287e98c4b10fd3ca4",
       "version_major": 2,
       "version_minor": 0
      },
      "text/plain": [
       "  0%|          | 0/183 [00:00<?, ?it/s]"
      ]
     },
     "metadata": {},
     "output_type": "display_data"
    },
    {
     "data": {
      "application/vnd.jupyter.widget-view+json": {
       "model_id": "c5cd6f35b9cb44f189f8d9175409e8d6",
       "version_major": 2,
       "version_minor": 0
      },
      "text/plain": [
       "  0%|          | 0/50 [00:00<?, ?it/s]"
      ]
     },
     "metadata": {},
     "output_type": "display_data"
    },
    {
     "data": {
      "application/vnd.jupyter.widget-view+json": {
       "model_id": "bb1ef30fbee447cbb3a97b56b83bcc10",
       "version_major": 2,
       "version_minor": 0
      },
      "text/plain": [
       "  0%|          | 0/50 [00:00<?, ?it/s]"
      ]
     },
     "metadata": {},
     "output_type": "display_data"
    },
    {
     "data": {
      "application/vnd.jupyter.widget-view+json": {
       "model_id": "eed572c28a3247e7842a3fc13e952be8",
       "version_major": 2,
       "version_minor": 0
      },
      "text/plain": [
       "  0%|          | 0/17223 [00:00<?, ?it/s]"
      ]
     },
     "metadata": {},
     "output_type": "display_data"
    },
    {
     "data": {
      "application/vnd.jupyter.widget-view+json": {
       "model_id": "de9987599f6c4769a7812e6b9e84dee6",
       "version_major": 2,
       "version_minor": 0
      },
      "text/plain": [
       "  0%|          | 0/941 [00:00<?, ?it/s]"
      ]
     },
     "metadata": {},
     "output_type": "display_data"
    },
    {
     "data": {
      "application/vnd.jupyter.widget-view+json": {
       "model_id": "e956e38c3b9e4e9c82961eae1432010d",
       "version_major": 2,
       "version_minor": 0
      },
      "text/plain": [
       "  0%|          | 0/65 [00:00<?, ?it/s]"
      ]
     },
     "metadata": {},
     "output_type": "display_data"
    },
    {
     "data": {
      "application/vnd.jupyter.widget-view+json": {
       "model_id": "d53d76ccdff64689b4d478cedb85f00b",
       "version_major": 2,
       "version_minor": 0
      },
      "text/plain": [
       "  0%|          | 0/34 [00:00<?, ?it/s]"
      ]
     },
     "metadata": {},
     "output_type": "display_data"
    },
    {
     "data": {
      "application/vnd.jupyter.widget-view+json": {
       "model_id": "dfe449a112b24b8783bcc91c8aac38fb",
       "version_major": 2,
       "version_minor": 0
      },
      "text/plain": [
       "  0%|          | 0/123 [00:00<?, ?it/s]"
      ]
     },
     "metadata": {},
     "output_type": "display_data"
    },
    {
     "data": {
      "application/vnd.jupyter.widget-view+json": {
       "model_id": "f79e97a8c0f7497382df4671cebdf3c8",
       "version_major": 2,
       "version_minor": 0
      },
      "text/plain": [
       "  0%|          | 0/183 [00:00<?, ?it/s]"
      ]
     },
     "metadata": {},
     "output_type": "display_data"
    },
    {
     "data": {
      "application/vnd.jupyter.widget-view+json": {
       "model_id": "7a99e223229e4214b5b534bde603bd41",
       "version_major": 2,
       "version_minor": 0
      },
      "text/plain": [
       "  0%|          | 0/183 [00:00<?, ?it/s]"
      ]
     },
     "metadata": {},
     "output_type": "display_data"
    },
    {
     "data": {
      "application/vnd.jupyter.widget-view+json": {
       "model_id": "c7dfe0e08ef64140a2cd9be3c2fea227",
       "version_major": 2,
       "version_minor": 0
      },
      "text/plain": [
       "  0%|          | 0/50 [00:00<?, ?it/s]"
      ]
     },
     "metadata": {},
     "output_type": "display_data"
    },
    {
     "data": {
      "application/vnd.jupyter.widget-view+json": {
       "model_id": "1bae3a93766e40e1a4e4506ab278eda2",
       "version_major": 2,
       "version_minor": 0
      },
      "text/plain": [
       "  0%|          | 0/50 [00:00<?, ?it/s]"
      ]
     },
     "metadata": {},
     "output_type": "display_data"
    },
    {
     "name": "stdout",
     "output_type": "stream",
     "text": [
      "../output/250219_FrancisCovid_IndividualAnalyses/TBCRalign/\n",
      "Found in IEDB (A3 OR B3 partial match)\n",
      "bot 1%:\t 0.0328\n",
      "top 1%:\t 0.071\n",
      "bot 50:\t 0.04\n",
      "top 50:\t 0.04\n",
      "******************************\n",
      "lvl 0:\t 0.0562\n",
      "lvl 1:\t 0.0574\n",
      "lvl 2:\t 0.2308\n",
      "lvl 3:\t 0.0294\n",
      "lvl 4:\t 0.0407\n",
      "------------------------------\n",
      "Found in train (A3 and B3 exact match)\n",
      "bot 1%:\t 0.0\n",
      "top 1%:\t 0.0164\n",
      "bot 50:\t 0.0\n",
      "top 50:\t 0.0\n",
      "******************************\n",
      "lvl 0:\t 0.0168\n",
      "lvl 1:\t 0.0521\n",
      "lvl 2:\t 0.0154\n",
      "lvl 3:\t 0.0882\n",
      "lvl 4:\t 0.0\n",
      "------------------------------\n",
      "Found in train (A3 or B3 partial match)\n",
      "bot 1%:\t 0.0383\n",
      "top 1%:\t 0.5956\n",
      "bot 50:\t 0.06\n",
      "top 50:\t 0.76\n",
      "******************************\n",
      "lvl 0:\t 0.0809\n",
      "lvl 1:\t 0.1116\n",
      "lvl 2:\t 0.4154\n",
      "lvl 3:\t 0.6176\n",
      "lvl 4:\t 0.5935\n"
     ]
    },
    {
     "data": {
      "application/vnd.jupyter.widget-view+json": {
       "model_id": "dfe1177e966745d48e423bfb925f57d6",
       "version_major": 2,
       "version_minor": 0
      },
      "text/plain": [
       "  0%|          | 0/17922 [00:00<?, ?it/s]"
      ]
     },
     "metadata": {},
     "output_type": "display_data"
    },
    {
     "data": {
      "application/vnd.jupyter.widget-view+json": {
       "model_id": "333b078c29724a5fb41972a4e5d331f9",
       "version_major": 2,
       "version_minor": 0
      },
      "text/plain": [
       "  0%|          | 0/203 [00:00<?, ?it/s]"
      ]
     },
     "metadata": {},
     "output_type": "display_data"
    },
    {
     "data": {
      "application/vnd.jupyter.widget-view+json": {
       "model_id": "fdafd64af4a348eaae2d8f917648a78f",
       "version_major": 2,
       "version_minor": 0
      },
      "text/plain": [
       "  0%|          | 0/38 [00:00<?, ?it/s]"
      ]
     },
     "metadata": {},
     "output_type": "display_data"
    },
    {
     "data": {
      "application/vnd.jupyter.widget-view+json": {
       "model_id": "542d0cbc59444d50a481e3e8267f13f3",
       "version_major": 2,
       "version_minor": 0
      },
      "text/plain": [
       "  0%|          | 0/36 [00:00<?, ?it/s]"
      ]
     },
     "metadata": {},
     "output_type": "display_data"
    },
    {
     "data": {
      "application/vnd.jupyter.widget-view+json": {
       "model_id": "31b3e348d5c9453cbd27b6128720f0df",
       "version_major": 2,
       "version_minor": 0
      },
      "text/plain": [
       "  0%|          | 0/187 [00:00<?, ?it/s]"
      ]
     },
     "metadata": {},
     "output_type": "display_data"
    },
    {
     "data": {
      "application/vnd.jupyter.widget-view+json": {
       "model_id": "9752f02855624e8fb9c6f44eb2dc0224",
       "version_major": 2,
       "version_minor": 0
      },
      "text/plain": [
       "  0%|          | 0/183 [00:00<?, ?it/s]"
      ]
     },
     "metadata": {},
     "output_type": "display_data"
    },
    {
     "data": {
      "application/vnd.jupyter.widget-view+json": {
       "model_id": "e6396a0cc44249ecb4b41c21f0f68ebb",
       "version_major": 2,
       "version_minor": 0
      },
      "text/plain": [
       "  0%|          | 0/183 [00:00<?, ?it/s]"
      ]
     },
     "metadata": {},
     "output_type": "display_data"
    },
    {
     "data": {
      "application/vnd.jupyter.widget-view+json": {
       "model_id": "6614fa95701e49df9fc66c62f2ba306e",
       "version_major": 2,
       "version_minor": 0
      },
      "text/plain": [
       "  0%|          | 0/50 [00:00<?, ?it/s]"
      ]
     },
     "metadata": {},
     "output_type": "display_data"
    },
    {
     "data": {
      "application/vnd.jupyter.widget-view+json": {
       "model_id": "bbd862a1732d4b9f9cf753aba6dbf4a0",
       "version_major": 2,
       "version_minor": 0
      },
      "text/plain": [
       "  0%|          | 0/50 [00:00<?, ?it/s]"
      ]
     },
     "metadata": {},
     "output_type": "display_data"
    },
    {
     "data": {
      "application/vnd.jupyter.widget-view+json": {
       "model_id": "934013b1ed2a462a90b441d33c802bc7",
       "version_major": 2,
       "version_minor": 0
      },
      "text/plain": [
       "  0%|          | 0/17922 [00:00<?, ?it/s]"
      ]
     },
     "metadata": {},
     "output_type": "display_data"
    },
    {
     "data": {
      "application/vnd.jupyter.widget-view+json": {
       "model_id": "ef515aa86e60448c9f6160e2d102e035",
       "version_major": 2,
       "version_minor": 0
      },
      "text/plain": [
       "  0%|          | 0/203 [00:00<?, ?it/s]"
      ]
     },
     "metadata": {},
     "output_type": "display_data"
    },
    {
     "data": {
      "application/vnd.jupyter.widget-view+json": {
       "model_id": "4b751f43acc248e2816b0ba6d2d59f34",
       "version_major": 2,
       "version_minor": 0
      },
      "text/plain": [
       "  0%|          | 0/38 [00:00<?, ?it/s]"
      ]
     },
     "metadata": {},
     "output_type": "display_data"
    },
    {
     "data": {
      "application/vnd.jupyter.widget-view+json": {
       "model_id": "664d97b2222e404c868c83be2b6c14ec",
       "version_major": 2,
       "version_minor": 0
      },
      "text/plain": [
       "  0%|          | 0/36 [00:00<?, ?it/s]"
      ]
     },
     "metadata": {},
     "output_type": "display_data"
    },
    {
     "data": {
      "application/vnd.jupyter.widget-view+json": {
       "model_id": "55cfa448004648dabe65333da3b5f589",
       "version_major": 2,
       "version_minor": 0
      },
      "text/plain": [
       "  0%|          | 0/187 [00:00<?, ?it/s]"
      ]
     },
     "metadata": {},
     "output_type": "display_data"
    },
    {
     "data": {
      "application/vnd.jupyter.widget-view+json": {
       "model_id": "52eda8a256f441d197f4c61784202519",
       "version_major": 2,
       "version_minor": 0
      },
      "text/plain": [
       "  0%|          | 0/183 [00:00<?, ?it/s]"
      ]
     },
     "metadata": {},
     "output_type": "display_data"
    },
    {
     "data": {
      "application/vnd.jupyter.widget-view+json": {
       "model_id": "48e4bd4d855a4f7c8ad532ca5cceb005",
       "version_major": 2,
       "version_minor": 0
      },
      "text/plain": [
       "  0%|          | 0/183 [00:00<?, ?it/s]"
      ]
     },
     "metadata": {},
     "output_type": "display_data"
    },
    {
     "data": {
      "application/vnd.jupyter.widget-view+json": {
       "model_id": "3bae774c8e51489da70e407f6e52e5be",
       "version_major": 2,
       "version_minor": 0
      },
      "text/plain": [
       "  0%|          | 0/50 [00:00<?, ?it/s]"
      ]
     },
     "metadata": {},
     "output_type": "display_data"
    },
    {
     "data": {
      "application/vnd.jupyter.widget-view+json": {
       "model_id": "accc1a8831af4d4f830d14383789acb9",
       "version_major": 2,
       "version_minor": 0
      },
      "text/plain": [
       "  0%|          | 0/50 [00:00<?, ?it/s]"
      ]
     },
     "metadata": {},
     "output_type": "display_data"
    },
    {
     "data": {
      "application/vnd.jupyter.widget-view+json": {
       "model_id": "1b2af54eba0f43268923b8fbee74a3f5",
       "version_major": 2,
       "version_minor": 0
      },
      "text/plain": [
       "  0%|          | 0/17922 [00:00<?, ?it/s]"
      ]
     },
     "metadata": {},
     "output_type": "display_data"
    },
    {
     "data": {
      "application/vnd.jupyter.widget-view+json": {
       "model_id": "6c19c75156e745e8b19160e176ff1b5b",
       "version_major": 2,
       "version_minor": 0
      },
      "text/plain": [
       "  0%|          | 0/203 [00:00<?, ?it/s]"
      ]
     },
     "metadata": {},
     "output_type": "display_data"
    },
    {
     "data": {
      "application/vnd.jupyter.widget-view+json": {
       "model_id": "b1c8abbb54df4aec9337661cf4570cd2",
       "version_major": 2,
       "version_minor": 0
      },
      "text/plain": [
       "  0%|          | 0/38 [00:00<?, ?it/s]"
      ]
     },
     "metadata": {},
     "output_type": "display_data"
    },
    {
     "data": {
      "application/vnd.jupyter.widget-view+json": {
       "model_id": "201f4de3305443b5982133143adc9cb1",
       "version_major": 2,
       "version_minor": 0
      },
      "text/plain": [
       "  0%|          | 0/36 [00:00<?, ?it/s]"
      ]
     },
     "metadata": {},
     "output_type": "display_data"
    },
    {
     "data": {
      "application/vnd.jupyter.widget-view+json": {
       "model_id": "1773f9f198e34de0bfaa1784d2b54a9d",
       "version_major": 2,
       "version_minor": 0
      },
      "text/plain": [
       "  0%|          | 0/187 [00:00<?, ?it/s]"
      ]
     },
     "metadata": {},
     "output_type": "display_data"
    },
    {
     "data": {
      "application/vnd.jupyter.widget-view+json": {
       "model_id": "1aab419688a84609972a45226d19e4dc",
       "version_major": 2,
       "version_minor": 0
      },
      "text/plain": [
       "  0%|          | 0/183 [00:00<?, ?it/s]"
      ]
     },
     "metadata": {},
     "output_type": "display_data"
    },
    {
     "data": {
      "application/vnd.jupyter.widget-view+json": {
       "model_id": "2bfc2909799f48d7aabb431c10a67e32",
       "version_major": 2,
       "version_minor": 0
      },
      "text/plain": [
       "  0%|          | 0/183 [00:00<?, ?it/s]"
      ]
     },
     "metadata": {},
     "output_type": "display_data"
    },
    {
     "data": {
      "application/vnd.jupyter.widget-view+json": {
       "model_id": "1441df3cdbc4455e82b422bae3c312a9",
       "version_major": 2,
       "version_minor": 0
      },
      "text/plain": [
       "  0%|          | 0/50 [00:00<?, ?it/s]"
      ]
     },
     "metadata": {},
     "output_type": "display_data"
    },
    {
     "data": {
      "application/vnd.jupyter.widget-view+json": {
       "model_id": "42b546f5d4b04e8ba7157f4b165e5e88",
       "version_major": 2,
       "version_minor": 0
      },
      "text/plain": [
       "  0%|          | 0/50 [00:00<?, ?it/s]"
      ]
     },
     "metadata": {},
     "output_type": "display_data"
    },
    {
     "name": "stdout",
     "output_type": "stream",
     "text": [
      "../output/250219_FrancisCovid_IndividualAnalyses/tcrdist3/\n",
      "Found in IEDB (A3 OR B3 partial match)\n",
      "bot 1%:\t 0.0055\n",
      "top 1%:\t 0.1858\n",
      "bot 50:\t 0.0\n",
      "top 50:\t 0.04\n",
      "******************************\n",
      "lvl 0:\t 0.055\n",
      "lvl 1:\t 0.069\n",
      "lvl 2:\t 0.0526\n",
      "lvl 3:\t 0.1667\n",
      "lvl 4:\t 0.1872\n",
      "------------------------------\n",
      "Found in train (A3 and B3 exact match)\n",
      "bot 1%:\t 0.0219\n",
      "top 1%:\t 0.0164\n",
      "bot 50:\t 0.04\n",
      "top 50:\t 0.04\n",
      "******************************\n",
      "lvl 0:\t 0.0184\n",
      "lvl 1:\t 0.0394\n",
      "lvl 2:\t 0.0526\n",
      "lvl 3:\t 0.0278\n",
      "lvl 4:\t 0.016\n",
      "------------------------------\n",
      "Found in train (A3 or B3 partial match)\n",
      "bot 1%:\t 0.0437\n",
      "top 1%:\t 0.6776\n",
      "bot 50:\t 0.08\n",
      "top 50:\t 0.84\n",
      "******************************\n",
      "lvl 0:\t 0.0795\n",
      "lvl 1:\t 0.1724\n",
      "lvl 2:\t 0.4211\n",
      "lvl 3:\t 0.5\n",
      "lvl 4:\t 0.6684\n"
     ]
    },
    {
     "data": {
      "application/vnd.jupyter.widget-view+json": {
       "model_id": "70a6383f95fe4948b4d4f3e18a5ef44c",
       "version_major": 2,
       "version_minor": 0
      },
      "text/plain": [
       "  0%|          | 0/17248 [00:00<?, ?it/s]"
      ]
     },
     "metadata": {},
     "output_type": "display_data"
    },
    {
     "data": {
      "application/vnd.jupyter.widget-view+json": {
       "model_id": "c889edea78af4cad851acb8ce215f7a5",
       "version_major": 2,
       "version_minor": 0
      },
      "text/plain": [
       "  0%|          | 0/661 [00:00<?, ?it/s]"
      ]
     },
     "metadata": {},
     "output_type": "display_data"
    },
    {
     "data": {
      "application/vnd.jupyter.widget-view+json": {
       "model_id": "52a7d236337e4db3a832e27875ab60ba",
       "version_major": 2,
       "version_minor": 0
      },
      "text/plain": [
       "  0%|          | 0/71 [00:00<?, ?it/s]"
      ]
     },
     "metadata": {},
     "output_type": "display_data"
    },
    {
     "data": {
      "application/vnd.jupyter.widget-view+json": {
       "model_id": "1fd93b14cec44500b5b47d01fb674821",
       "version_major": 2,
       "version_minor": 0
      },
      "text/plain": [
       "  0%|          | 0/61 [00:00<?, ?it/s]"
      ]
     },
     "metadata": {},
     "output_type": "display_data"
    },
    {
     "data": {
      "application/vnd.jupyter.widget-view+json": {
       "model_id": "0bcff339160449929571f2789fd49c27",
       "version_major": 2,
       "version_minor": 0
      },
      "text/plain": [
       "  0%|          | 0/345 [00:00<?, ?it/s]"
      ]
     },
     "metadata": {},
     "output_type": "display_data"
    },
    {
     "data": {
      "application/vnd.jupyter.widget-view+json": {
       "model_id": "ccb181a848904c1687c41f443d63321d",
       "version_major": 2,
       "version_minor": 0
      },
      "text/plain": [
       "  0%|          | 0/183 [00:00<?, ?it/s]"
      ]
     },
     "metadata": {},
     "output_type": "display_data"
    },
    {
     "data": {
      "application/vnd.jupyter.widget-view+json": {
       "model_id": "38cc37d413e249299aff380ad9de1610",
       "version_major": 2,
       "version_minor": 0
      },
      "text/plain": [
       "  0%|          | 0/183 [00:00<?, ?it/s]"
      ]
     },
     "metadata": {},
     "output_type": "display_data"
    },
    {
     "data": {
      "application/vnd.jupyter.widget-view+json": {
       "model_id": "972eb8e27d8e4e5c9d441418cca22aa0",
       "version_major": 2,
       "version_minor": 0
      },
      "text/plain": [
       "  0%|          | 0/50 [00:00<?, ?it/s]"
      ]
     },
     "metadata": {},
     "output_type": "display_data"
    },
    {
     "data": {
      "application/vnd.jupyter.widget-view+json": {
       "model_id": "5cbe60fecfe84bcc911f0ece28990044",
       "version_major": 2,
       "version_minor": 0
      },
      "text/plain": [
       "  0%|          | 0/50 [00:00<?, ?it/s]"
      ]
     },
     "metadata": {},
     "output_type": "display_data"
    },
    {
     "data": {
      "application/vnd.jupyter.widget-view+json": {
       "model_id": "fd82dc869cd445a28de72612ddc0b44c",
       "version_major": 2,
       "version_minor": 0
      },
      "text/plain": [
       "  0%|          | 0/17248 [00:00<?, ?it/s]"
      ]
     },
     "metadata": {},
     "output_type": "display_data"
    },
    {
     "data": {
      "application/vnd.jupyter.widget-view+json": {
       "model_id": "63d6ff03c2b347e4bce3354a9de24c0f",
       "version_major": 2,
       "version_minor": 0
      },
      "text/plain": [
       "  0%|          | 0/661 [00:00<?, ?it/s]"
      ]
     },
     "metadata": {},
     "output_type": "display_data"
    },
    {
     "data": {
      "application/vnd.jupyter.widget-view+json": {
       "model_id": "e4352b7992c3490f95c026057877d334",
       "version_major": 2,
       "version_minor": 0
      },
      "text/plain": [
       "  0%|          | 0/71 [00:00<?, ?it/s]"
      ]
     },
     "metadata": {},
     "output_type": "display_data"
    },
    {
     "data": {
      "application/vnd.jupyter.widget-view+json": {
       "model_id": "32410c100d524a77ad3db9a7f2ce5910",
       "version_major": 2,
       "version_minor": 0
      },
      "text/plain": [
       "  0%|          | 0/61 [00:00<?, ?it/s]"
      ]
     },
     "metadata": {},
     "output_type": "display_data"
    },
    {
     "data": {
      "application/vnd.jupyter.widget-view+json": {
       "model_id": "54da3071b36e4de2b6a9917c904a1f54",
       "version_major": 2,
       "version_minor": 0
      },
      "text/plain": [
       "  0%|          | 0/345 [00:00<?, ?it/s]"
      ]
     },
     "metadata": {},
     "output_type": "display_data"
    },
    {
     "data": {
      "application/vnd.jupyter.widget-view+json": {
       "model_id": "3b33618dcb5948029a2c44a619b3a34b",
       "version_major": 2,
       "version_minor": 0
      },
      "text/plain": [
       "  0%|          | 0/183 [00:00<?, ?it/s]"
      ]
     },
     "metadata": {},
     "output_type": "display_data"
    },
    {
     "data": {
      "application/vnd.jupyter.widget-view+json": {
       "model_id": "fc9ac421fadf444ab26db9d9969c7916",
       "version_major": 2,
       "version_minor": 0
      },
      "text/plain": [
       "  0%|          | 0/183 [00:00<?, ?it/s]"
      ]
     },
     "metadata": {},
     "output_type": "display_data"
    },
    {
     "data": {
      "application/vnd.jupyter.widget-view+json": {
       "model_id": "5ba32132c7dd4e03a2d56a7ce47d0062",
       "version_major": 2,
       "version_minor": 0
      },
      "text/plain": [
       "  0%|          | 0/50 [00:00<?, ?it/s]"
      ]
     },
     "metadata": {},
     "output_type": "display_data"
    },
    {
     "data": {
      "application/vnd.jupyter.widget-view+json": {
       "model_id": "2868be782c504f2ba67db088c25f9ddb",
       "version_major": 2,
       "version_minor": 0
      },
      "text/plain": [
       "  0%|          | 0/50 [00:00<?, ?it/s]"
      ]
     },
     "metadata": {},
     "output_type": "display_data"
    },
    {
     "data": {
      "application/vnd.jupyter.widget-view+json": {
       "model_id": "5651da7630434cd99cc515c58f7e63e6",
       "version_major": 2,
       "version_minor": 0
      },
      "text/plain": [
       "  0%|          | 0/17248 [00:00<?, ?it/s]"
      ]
     },
     "metadata": {},
     "output_type": "display_data"
    },
    {
     "data": {
      "application/vnd.jupyter.widget-view+json": {
       "model_id": "fc888a8372044f399e2990a2c7d44196",
       "version_major": 2,
       "version_minor": 0
      },
      "text/plain": [
       "  0%|          | 0/661 [00:00<?, ?it/s]"
      ]
     },
     "metadata": {},
     "output_type": "display_data"
    },
    {
     "data": {
      "application/vnd.jupyter.widget-view+json": {
       "model_id": "4d26d8609a874de1868ffe3d4bc0bc4c",
       "version_major": 2,
       "version_minor": 0
      },
      "text/plain": [
       "  0%|          | 0/71 [00:00<?, ?it/s]"
      ]
     },
     "metadata": {},
     "output_type": "display_data"
    },
    {
     "data": {
      "application/vnd.jupyter.widget-view+json": {
       "model_id": "d6d2e9af7bb44b98bd69ab7922dd2131",
       "version_major": 2,
       "version_minor": 0
      },
      "text/plain": [
       "  0%|          | 0/61 [00:00<?, ?it/s]"
      ]
     },
     "metadata": {},
     "output_type": "display_data"
    },
    {
     "data": {
      "application/vnd.jupyter.widget-view+json": {
       "model_id": "25ef66d3b48a422d8c6ec7e992b5bd36",
       "version_major": 2,
       "version_minor": 0
      },
      "text/plain": [
       "  0%|          | 0/345 [00:00<?, ?it/s]"
      ]
     },
     "metadata": {},
     "output_type": "display_data"
    },
    {
     "data": {
      "application/vnd.jupyter.widget-view+json": {
       "model_id": "863c6c3a34184f48a94f7d692482e04e",
       "version_major": 2,
       "version_minor": 0
      },
      "text/plain": [
       "  0%|          | 0/183 [00:00<?, ?it/s]"
      ]
     },
     "metadata": {},
     "output_type": "display_data"
    },
    {
     "data": {
      "application/vnd.jupyter.widget-view+json": {
       "model_id": "8163f8ee3cbb4bb980a6c7fe5c3a506d",
       "version_major": 2,
       "version_minor": 0
      },
      "text/plain": [
       "  0%|          | 0/183 [00:00<?, ?it/s]"
      ]
     },
     "metadata": {},
     "output_type": "display_data"
    },
    {
     "data": {
      "application/vnd.jupyter.widget-view+json": {
       "model_id": "280521d85aad4d218ec8ca128ebcb8c8",
       "version_major": 2,
       "version_minor": 0
      },
      "text/plain": [
       "  0%|          | 0/50 [00:00<?, ?it/s]"
      ]
     },
     "metadata": {},
     "output_type": "display_data"
    },
    {
     "data": {
      "application/vnd.jupyter.widget-view+json": {
       "model_id": "07d7fd5d42a344be8fb000410c207971",
       "version_major": 2,
       "version_minor": 0
      },
      "text/plain": [
       "  0%|          | 0/50 [00:00<?, ?it/s]"
      ]
     },
     "metadata": {},
     "output_type": "display_data"
    },
    {
     "data": {
      "application/vnd.jupyter.widget-view+json": {
       "model_id": "cd03e191b97c442286f9f1185a36ccc4",
       "version_major": 2,
       "version_minor": 0
      },
      "text/plain": [
       "  0%|          | 0/17568 [00:00<?, ?it/s]"
      ]
     },
     "metadata": {},
     "output_type": "display_data"
    },
    {
     "data": {
      "application/vnd.jupyter.widget-view+json": {
       "model_id": "5b96096fc31941e9808949138dc9f4fb",
       "version_major": 2,
       "version_minor": 0
      },
      "text/plain": [
       "  0%|          | 0/255 [00:00<?, ?it/s]"
      ]
     },
     "metadata": {},
     "output_type": "display_data"
    },
    {
     "data": {
      "application/vnd.jupyter.widget-view+json": {
       "model_id": "0d088c4b2c4d45e7a5afa4d765909055",
       "version_major": 2,
       "version_minor": 0
      },
      "text/plain": [
       "  0%|          | 0/83 [00:00<?, ?it/s]"
      ]
     },
     "metadata": {},
     "output_type": "display_data"
    },
    {
     "data": {
      "application/vnd.jupyter.widget-view+json": {
       "model_id": "aa54c225526c48d9bc270ac5518ece4a",
       "version_major": 2,
       "version_minor": 0
      },
      "text/plain": [
       "  0%|          | 0/45 [00:00<?, ?it/s]"
      ]
     },
     "metadata": {},
     "output_type": "display_data"
    },
    {
     "data": {
      "application/vnd.jupyter.widget-view+json": {
       "model_id": "085bec44b20b4df4aede090d7e300975",
       "version_major": 2,
       "version_minor": 0
      },
      "text/plain": [
       "  0%|          | 0/435 [00:00<?, ?it/s]"
      ]
     },
     "metadata": {},
     "output_type": "display_data"
    },
    {
     "data": {
      "application/vnd.jupyter.widget-view+json": {
       "model_id": "d634b1c3eb1f4d86bba7e1a0ca3d764c",
       "version_major": 2,
       "version_minor": 0
      },
      "text/plain": [
       "  0%|          | 0/183 [00:00<?, ?it/s]"
      ]
     },
     "metadata": {},
     "output_type": "display_data"
    },
    {
     "data": {
      "application/vnd.jupyter.widget-view+json": {
       "model_id": "1fbcb630193d49779d82ceae18072230",
       "version_major": 2,
       "version_minor": 0
      },
      "text/plain": [
       "  0%|          | 0/183 [00:00<?, ?it/s]"
      ]
     },
     "metadata": {},
     "output_type": "display_data"
    },
    {
     "data": {
      "application/vnd.jupyter.widget-view+json": {
       "model_id": "e2e806b7523342029101fe6f55d983ed",
       "version_major": 2,
       "version_minor": 0
      },
      "text/plain": [
       "  0%|          | 0/50 [00:00<?, ?it/s]"
      ]
     },
     "metadata": {},
     "output_type": "display_data"
    },
    {
     "data": {
      "application/vnd.jupyter.widget-view+json": {
       "model_id": "f352a6e84f91474891a6aea576960051",
       "version_major": 2,
       "version_minor": 0
      },
      "text/plain": [
       "  0%|          | 0/50 [00:00<?, ?it/s]"
      ]
     },
     "metadata": {},
     "output_type": "display_data"
    },
    {
     "data": {
      "application/vnd.jupyter.widget-view+json": {
       "model_id": "d6acb72f7d1b465fb22270accf6622c7",
       "version_major": 2,
       "version_minor": 0
      },
      "text/plain": [
       "  0%|          | 0/17568 [00:00<?, ?it/s]"
      ]
     },
     "metadata": {},
     "output_type": "display_data"
    },
    {
     "data": {
      "application/vnd.jupyter.widget-view+json": {
       "model_id": "1462138b58ec4dbd81cbf90a793a6cde",
       "version_major": 2,
       "version_minor": 0
      },
      "text/plain": [
       "  0%|          | 0/255 [00:00<?, ?it/s]"
      ]
     },
     "metadata": {},
     "output_type": "display_data"
    },
    {
     "data": {
      "application/vnd.jupyter.widget-view+json": {
       "model_id": "d59782624d8a4105b8e5b447e178df33",
       "version_major": 2,
       "version_minor": 0
      },
      "text/plain": [
       "  0%|          | 0/83 [00:00<?, ?it/s]"
      ]
     },
     "metadata": {},
     "output_type": "display_data"
    },
    {
     "data": {
      "application/vnd.jupyter.widget-view+json": {
       "model_id": "9e2e9d485a4f4081bfb157bfaaeb1970",
       "version_major": 2,
       "version_minor": 0
      },
      "text/plain": [
       "  0%|          | 0/45 [00:00<?, ?it/s]"
      ]
     },
     "metadata": {},
     "output_type": "display_data"
    },
    {
     "data": {
      "application/vnd.jupyter.widget-view+json": {
       "model_id": "9fef14bf9b7244ce90e70136c5bc5e11",
       "version_major": 2,
       "version_minor": 0
      },
      "text/plain": [
       "  0%|          | 0/435 [00:00<?, ?it/s]"
      ]
     },
     "metadata": {},
     "output_type": "display_data"
    },
    {
     "data": {
      "application/vnd.jupyter.widget-view+json": {
       "model_id": "da361d403d864b82af898a444e55713b",
       "version_major": 2,
       "version_minor": 0
      },
      "text/plain": [
       "  0%|          | 0/183 [00:00<?, ?it/s]"
      ]
     },
     "metadata": {},
     "output_type": "display_data"
    },
    {
     "data": {
      "application/vnd.jupyter.widget-view+json": {
       "model_id": "a10a4242906748929d7843e81ce23f20",
       "version_major": 2,
       "version_minor": 0
      },
      "text/plain": [
       "  0%|          | 0/183 [00:00<?, ?it/s]"
      ]
     },
     "metadata": {},
     "output_type": "display_data"
    },
    {
     "data": {
      "application/vnd.jupyter.widget-view+json": {
       "model_id": "74d246f419004af18c7058172a72da15",
       "version_major": 2,
       "version_minor": 0
      },
      "text/plain": [
       "  0%|          | 0/50 [00:00<?, ?it/s]"
      ]
     },
     "metadata": {},
     "output_type": "display_data"
    },
    {
     "data": {
      "application/vnd.jupyter.widget-view+json": {
       "model_id": "b6e6d19d67a1424783f30c10d5395a1f",
       "version_major": 2,
       "version_minor": 0
      },
      "text/plain": [
       "  0%|          | 0/50 [00:00<?, ?it/s]"
      ]
     },
     "metadata": {},
     "output_type": "display_data"
    },
    {
     "data": {
      "application/vnd.jupyter.widget-view+json": {
       "model_id": "416f84a5a58f4f64a98628aeffd6f304",
       "version_major": 2,
       "version_minor": 0
      },
      "text/plain": [
       "  0%|          | 0/17568 [00:00<?, ?it/s]"
      ]
     },
     "metadata": {},
     "output_type": "display_data"
    },
    {
     "data": {
      "application/vnd.jupyter.widget-view+json": {
       "model_id": "b2a09c491c244924b998b0e6aaf433c7",
       "version_major": 2,
       "version_minor": 0
      },
      "text/plain": [
       "  0%|          | 0/255 [00:00<?, ?it/s]"
      ]
     },
     "metadata": {},
     "output_type": "display_data"
    },
    {
     "data": {
      "application/vnd.jupyter.widget-view+json": {
       "model_id": "d63b28a24b9e41e3857cef085287b9d3",
       "version_major": 2,
       "version_minor": 0
      },
      "text/plain": [
       "  0%|          | 0/83 [00:00<?, ?it/s]"
      ]
     },
     "metadata": {},
     "output_type": "display_data"
    },
    {
     "data": {
      "application/vnd.jupyter.widget-view+json": {
       "model_id": "b8d8784abb33470f824c8adfee41cdc9",
       "version_major": 2,
       "version_minor": 0
      },
      "text/plain": [
       "  0%|          | 0/45 [00:00<?, ?it/s]"
      ]
     },
     "metadata": {},
     "output_type": "display_data"
    },
    {
     "data": {
      "application/vnd.jupyter.widget-view+json": {
       "model_id": "7990574e68c646b38f1cc9f7dc66233f",
       "version_major": 2,
       "version_minor": 0
      },
      "text/plain": [
       "  0%|          | 0/435 [00:00<?, ?it/s]"
      ]
     },
     "metadata": {},
     "output_type": "display_data"
    },
    {
     "data": {
      "application/vnd.jupyter.widget-view+json": {
       "model_id": "14501aea72a24b409a0fcdf8efe6b131",
       "version_major": 2,
       "version_minor": 0
      },
      "text/plain": [
       "  0%|          | 0/183 [00:00<?, ?it/s]"
      ]
     },
     "metadata": {},
     "output_type": "display_data"
    },
    {
     "data": {
      "application/vnd.jupyter.widget-view+json": {
       "model_id": "1b1ed3852ebe415db71ae776b37d35de",
       "version_major": 2,
       "version_minor": 0
      },
      "text/plain": [
       "  0%|          | 0/183 [00:00<?, ?it/s]"
      ]
     },
     "metadata": {},
     "output_type": "display_data"
    },
    {
     "data": {
      "application/vnd.jupyter.widget-view+json": {
       "model_id": "941a2406ec664c2cb09b4bb9a9eaadc4",
       "version_major": 2,
       "version_minor": 0
      },
      "text/plain": [
       "  0%|          | 0/50 [00:00<?, ?it/s]"
      ]
     },
     "metadata": {},
     "output_type": "display_data"
    },
    {
     "data": {
      "application/vnd.jupyter.widget-view+json": {
       "model_id": "d3317016698c44069efda7de516ee491",
       "version_major": 2,
       "version_minor": 0
      },
      "text/plain": [
       "  0%|          | 0/50 [00:00<?, ?it/s]"
      ]
     },
     "metadata": {},
     "output_type": "display_data"
    },
    {
     "data": {
      "application/vnd.jupyter.widget-view+json": {
       "model_id": "c409ac8f547f4142a5a9a5f60c5c334f",
       "version_major": 2,
       "version_minor": 0
      },
      "text/plain": [
       "  0%|          | 0/17367 [00:00<?, ?it/s]"
      ]
     },
     "metadata": {},
     "output_type": "display_data"
    },
    {
     "data": {
      "application/vnd.jupyter.widget-view+json": {
       "model_id": "7839e5599eba4bab990cb04aa13185c4",
       "version_major": 2,
       "version_minor": 0
      },
      "text/plain": [
       "  0%|          | 0/270 [00:00<?, ?it/s]"
      ]
     },
     "metadata": {},
     "output_type": "display_data"
    },
    {
     "data": {
      "application/vnd.jupyter.widget-view+json": {
       "model_id": "9c112faae0064c5a85b91388da3f945a",
       "version_major": 2,
       "version_minor": 0
      },
      "text/plain": [
       "  0%|          | 0/108 [00:00<?, ?it/s]"
      ]
     },
     "metadata": {},
     "output_type": "display_data"
    },
    {
     "data": {
      "application/vnd.jupyter.widget-view+json": {
       "model_id": "ec91885313734c1bb0fe4f8bc09c8192",
       "version_major": 2,
       "version_minor": 0
      },
      "text/plain": [
       "  0%|          | 0/78 [00:00<?, ?it/s]"
      ]
     },
     "metadata": {},
     "output_type": "display_data"
    },
    {
     "data": {
      "application/vnd.jupyter.widget-view+json": {
       "model_id": "26492b0ca54f4d71b0bba00086675621",
       "version_major": 2,
       "version_minor": 0
      },
      "text/plain": [
       "  0%|          | 0/563 [00:00<?, ?it/s]"
      ]
     },
     "metadata": {},
     "output_type": "display_data"
    },
    {
     "data": {
      "application/vnd.jupyter.widget-view+json": {
       "model_id": "b44b737ea51b4e01bf821d0c5f4904a8",
       "version_major": 2,
       "version_minor": 0
      },
      "text/plain": [
       "  0%|          | 0/183 [00:00<?, ?it/s]"
      ]
     },
     "metadata": {},
     "output_type": "display_data"
    },
    {
     "data": {
      "application/vnd.jupyter.widget-view+json": {
       "model_id": "f0c3acf4ccb34b94a19f1ce2c86e61e2",
       "version_major": 2,
       "version_minor": 0
      },
      "text/plain": [
       "  0%|          | 0/183 [00:00<?, ?it/s]"
      ]
     },
     "metadata": {},
     "output_type": "display_data"
    },
    {
     "data": {
      "application/vnd.jupyter.widget-view+json": {
       "model_id": "1c289b083f5448fdb6f7a926cc37023f",
       "version_major": 2,
       "version_minor": 0
      },
      "text/plain": [
       "  0%|          | 0/50 [00:00<?, ?it/s]"
      ]
     },
     "metadata": {},
     "output_type": "display_data"
    },
    {
     "data": {
      "application/vnd.jupyter.widget-view+json": {
       "model_id": "856dfa03933842ad81a892af4e14573c",
       "version_major": 2,
       "version_minor": 0
      },
      "text/plain": [
       "  0%|          | 0/50 [00:00<?, ?it/s]"
      ]
     },
     "metadata": {},
     "output_type": "display_data"
    },
    {
     "data": {
      "application/vnd.jupyter.widget-view+json": {
       "model_id": "b6be5d206f614a57b566e88dda6ef8d4",
       "version_major": 2,
       "version_minor": 0
      },
      "text/plain": [
       "  0%|          | 0/17367 [00:00<?, ?it/s]"
      ]
     },
     "metadata": {},
     "output_type": "display_data"
    },
    {
     "data": {
      "application/vnd.jupyter.widget-view+json": {
       "model_id": "a302896d85f64641bf1d7ed0ae6efb6b",
       "version_major": 2,
       "version_minor": 0
      },
      "text/plain": [
       "  0%|          | 0/270 [00:00<?, ?it/s]"
      ]
     },
     "metadata": {},
     "output_type": "display_data"
    },
    {
     "data": {
      "application/vnd.jupyter.widget-view+json": {
       "model_id": "1813e5bbdb9e41dea554b692e4033a3d",
       "version_major": 2,
       "version_minor": 0
      },
      "text/plain": [
       "  0%|          | 0/108 [00:00<?, ?it/s]"
      ]
     },
     "metadata": {},
     "output_type": "display_data"
    },
    {
     "data": {
      "application/vnd.jupyter.widget-view+json": {
       "model_id": "8ec0e2a14aea4a6c8b5184c901ad8a9c",
       "version_major": 2,
       "version_minor": 0
      },
      "text/plain": [
       "  0%|          | 0/78 [00:00<?, ?it/s]"
      ]
     },
     "metadata": {},
     "output_type": "display_data"
    },
    {
     "data": {
      "application/vnd.jupyter.widget-view+json": {
       "model_id": "ecd383aa9f1e42ba85161f62ad450fc7",
       "version_major": 2,
       "version_minor": 0
      },
      "text/plain": [
       "  0%|          | 0/563 [00:00<?, ?it/s]"
      ]
     },
     "metadata": {},
     "output_type": "display_data"
    },
    {
     "data": {
      "application/vnd.jupyter.widget-view+json": {
       "model_id": "a37f6806bf0c4a69a3c3a7b1c4d6258c",
       "version_major": 2,
       "version_minor": 0
      },
      "text/plain": [
       "  0%|          | 0/183 [00:00<?, ?it/s]"
      ]
     },
     "metadata": {},
     "output_type": "display_data"
    },
    {
     "data": {
      "application/vnd.jupyter.widget-view+json": {
       "model_id": "17299e7089b5472082c5d18764716c81",
       "version_major": 2,
       "version_minor": 0
      },
      "text/plain": [
       "  0%|          | 0/183 [00:00<?, ?it/s]"
      ]
     },
     "metadata": {},
     "output_type": "display_data"
    },
    {
     "data": {
      "application/vnd.jupyter.widget-view+json": {
       "model_id": "9c8f9d98eaca4f3799db7d9b60af0cb7",
       "version_major": 2,
       "version_minor": 0
      },
      "text/plain": [
       "  0%|          | 0/50 [00:00<?, ?it/s]"
      ]
     },
     "metadata": {},
     "output_type": "display_data"
    },
    {
     "data": {
      "application/vnd.jupyter.widget-view+json": {
       "model_id": "60b490fc55924a749995266914e04cfd",
       "version_major": 2,
       "version_minor": 0
      },
      "text/plain": [
       "  0%|          | 0/50 [00:00<?, ?it/s]"
      ]
     },
     "metadata": {},
     "output_type": "display_data"
    },
    {
     "data": {
      "application/vnd.jupyter.widget-view+json": {
       "model_id": "08eb3c32ef0843e0ab6491e1e8139b47",
       "version_major": 2,
       "version_minor": 0
      },
      "text/plain": [
       "  0%|          | 0/17367 [00:00<?, ?it/s]"
      ]
     },
     "metadata": {},
     "output_type": "display_data"
    },
    {
     "data": {
      "application/vnd.jupyter.widget-view+json": {
       "model_id": "b9b25e04a6a54908a6ab50f5c444a255",
       "version_major": 2,
       "version_minor": 0
      },
      "text/plain": [
       "  0%|          | 0/270 [00:00<?, ?it/s]"
      ]
     },
     "metadata": {},
     "output_type": "display_data"
    },
    {
     "data": {
      "application/vnd.jupyter.widget-view+json": {
       "model_id": "1ef607fec02640b3a10bb00f3782a150",
       "version_major": 2,
       "version_minor": 0
      },
      "text/plain": [
       "  0%|          | 0/108 [00:00<?, ?it/s]"
      ]
     },
     "metadata": {},
     "output_type": "display_data"
    },
    {
     "data": {
      "application/vnd.jupyter.widget-view+json": {
       "model_id": "9af40f8a73f246d78dc25623d9736ff9",
       "version_major": 2,
       "version_minor": 0
      },
      "text/plain": [
       "  0%|          | 0/78 [00:00<?, ?it/s]"
      ]
     },
     "metadata": {},
     "output_type": "display_data"
    },
    {
     "data": {
      "application/vnd.jupyter.widget-view+json": {
       "model_id": "f1180752f4d34457ad6904ad22438e5d",
       "version_major": 2,
       "version_minor": 0
      },
      "text/plain": [
       "  0%|          | 0/563 [00:00<?, ?it/s]"
      ]
     },
     "metadata": {},
     "output_type": "display_data"
    },
    {
     "data": {
      "application/vnd.jupyter.widget-view+json": {
       "model_id": "8ed91c8b17394a4d89c0d65414e366ca",
       "version_major": 2,
       "version_minor": 0
      },
      "text/plain": [
       "  0%|          | 0/183 [00:00<?, ?it/s]"
      ]
     },
     "metadata": {},
     "output_type": "display_data"
    },
    {
     "data": {
      "application/vnd.jupyter.widget-view+json": {
       "model_id": "6b2ec7b27eef48eb9f434109e67023a9",
       "version_major": 2,
       "version_minor": 0
      },
      "text/plain": [
       "  0%|          | 0/183 [00:00<?, ?it/s]"
      ]
     },
     "metadata": {},
     "output_type": "display_data"
    },
    {
     "data": {
      "application/vnd.jupyter.widget-view+json": {
       "model_id": "46293780f32f4edb8132238f33016d28",
       "version_major": 2,
       "version_minor": 0
      },
      "text/plain": [
       "  0%|          | 0/50 [00:00<?, ?it/s]"
      ]
     },
     "metadata": {},
     "output_type": "display_data"
    },
    {
     "data": {
      "application/vnd.jupyter.widget-view+json": {
       "model_id": "9bf99321406140d7814b445b20dd0c39",
       "version_major": 2,
       "version_minor": 0
      },
      "text/plain": [
       "  0%|          | 0/50 [00:00<?, ?it/s]"
      ]
     },
     "metadata": {},
     "output_type": "display_data"
    },
    {
     "data": {
      "application/vnd.jupyter.widget-view+json": {
       "model_id": "ec98fee2aa0947108c8d57a9adb61f92",
       "version_major": 2,
       "version_minor": 0
      },
      "text/plain": [
       "  0%|          | 0/16070 [00:00<?, ?it/s]"
      ]
     },
     "metadata": {},
     "output_type": "display_data"
    },
    {
     "data": {
      "application/vnd.jupyter.widget-view+json": {
       "model_id": "6c2cf443a1004955b2a8712322f00e46",
       "version_major": 2,
       "version_minor": 0
      },
      "text/plain": [
       "  0%|          | 0/2156 [00:00<?, ?it/s]"
      ]
     },
     "metadata": {},
     "output_type": "display_data"
    },
    {
     "data": {
      "application/vnd.jupyter.widget-view+json": {
       "model_id": "888ae43931aa4e16b9e7058921b70abc",
       "version_major": 2,
       "version_minor": 0
      },
      "text/plain": [
       "  0%|          | 0/19 [00:00<?, ?it/s]"
      ]
     },
     "metadata": {},
     "output_type": "display_data"
    },
    {
     "data": {
      "application/vnd.jupyter.widget-view+json": {
       "model_id": "3fd1ae9c81fd400d9f013e03612294e2",
       "version_major": 2,
       "version_minor": 0
      },
      "text/plain": [
       "  0%|          | 0/29 [00:00<?, ?it/s]"
      ]
     },
     "metadata": {},
     "output_type": "display_data"
    },
    {
     "data": {
      "application/vnd.jupyter.widget-view+json": {
       "model_id": "3ce14648dfe8446683e97e838ea46b05",
       "version_major": 2,
       "version_minor": 0
      },
      "text/plain": [
       "  0%|          | 0/112 [00:00<?, ?it/s]"
      ]
     },
     "metadata": {},
     "output_type": "display_data"
    },
    {
     "data": {
      "application/vnd.jupyter.widget-view+json": {
       "model_id": "7132c6ff2f574476856fe452e737bc55",
       "version_major": 2,
       "version_minor": 0
      },
      "text/plain": [
       "  0%|          | 0/183 [00:00<?, ?it/s]"
      ]
     },
     "metadata": {},
     "output_type": "display_data"
    },
    {
     "data": {
      "application/vnd.jupyter.widget-view+json": {
       "model_id": "5be438233e9a419d8083deeb88f53aa1",
       "version_major": 2,
       "version_minor": 0
      },
      "text/plain": [
       "  0%|          | 0/183 [00:00<?, ?it/s]"
      ]
     },
     "metadata": {},
     "output_type": "display_data"
    },
    {
     "data": {
      "application/vnd.jupyter.widget-view+json": {
       "model_id": "430b09d5c04c4215add7191af6721569",
       "version_major": 2,
       "version_minor": 0
      },
      "text/plain": [
       "  0%|          | 0/50 [00:00<?, ?it/s]"
      ]
     },
     "metadata": {},
     "output_type": "display_data"
    },
    {
     "data": {
      "application/vnd.jupyter.widget-view+json": {
       "model_id": "cfe4128bd29c4a489e36357598ccc2db",
       "version_major": 2,
       "version_minor": 0
      },
      "text/plain": [
       "  0%|          | 0/50 [00:00<?, ?it/s]"
      ]
     },
     "metadata": {},
     "output_type": "display_data"
    },
    {
     "data": {
      "application/vnd.jupyter.widget-view+json": {
       "model_id": "43602bdc91ba47e589d1cb6c630a9cbd",
       "version_major": 2,
       "version_minor": 0
      },
      "text/plain": [
       "  0%|          | 0/16070 [00:00<?, ?it/s]"
      ]
     },
     "metadata": {},
     "output_type": "display_data"
    },
    {
     "data": {
      "application/vnd.jupyter.widget-view+json": {
       "model_id": "2488224439d04801b44cbb807aef6f09",
       "version_major": 2,
       "version_minor": 0
      },
      "text/plain": [
       "  0%|          | 0/2156 [00:00<?, ?it/s]"
      ]
     },
     "metadata": {},
     "output_type": "display_data"
    },
    {
     "data": {
      "application/vnd.jupyter.widget-view+json": {
       "model_id": "169f28efa189418283f73cc211848b23",
       "version_major": 2,
       "version_minor": 0
      },
      "text/plain": [
       "  0%|          | 0/19 [00:00<?, ?it/s]"
      ]
     },
     "metadata": {},
     "output_type": "display_data"
    },
    {
     "data": {
      "application/vnd.jupyter.widget-view+json": {
       "model_id": "d9cbf09455f9431f9b60b623a2d8b9e3",
       "version_major": 2,
       "version_minor": 0
      },
      "text/plain": [
       "  0%|          | 0/29 [00:00<?, ?it/s]"
      ]
     },
     "metadata": {},
     "output_type": "display_data"
    },
    {
     "data": {
      "application/vnd.jupyter.widget-view+json": {
       "model_id": "4c85b38e661f4c69ba41c241f79624a1",
       "version_major": 2,
       "version_minor": 0
      },
      "text/plain": [
       "  0%|          | 0/112 [00:00<?, ?it/s]"
      ]
     },
     "metadata": {},
     "output_type": "display_data"
    },
    {
     "data": {
      "application/vnd.jupyter.widget-view+json": {
       "model_id": "9192763d8eee40de80801c49897c821b",
       "version_major": 2,
       "version_minor": 0
      },
      "text/plain": [
       "  0%|          | 0/183 [00:00<?, ?it/s]"
      ]
     },
     "metadata": {},
     "output_type": "display_data"
    },
    {
     "data": {
      "application/vnd.jupyter.widget-view+json": {
       "model_id": "b9b41dd8d59c497f943b2ee7bbff9ff8",
       "version_major": 2,
       "version_minor": 0
      },
      "text/plain": [
       "  0%|          | 0/183 [00:00<?, ?it/s]"
      ]
     },
     "metadata": {},
     "output_type": "display_data"
    },
    {
     "data": {
      "application/vnd.jupyter.widget-view+json": {
       "model_id": "a5bb08c1c39943d0b87e8862d4205079",
       "version_major": 2,
       "version_minor": 0
      },
      "text/plain": [
       "  0%|          | 0/50 [00:00<?, ?it/s]"
      ]
     },
     "metadata": {},
     "output_type": "display_data"
    },
    {
     "data": {
      "application/vnd.jupyter.widget-view+json": {
       "model_id": "a5654b9ff83b4c528c741d0c421c21c6",
       "version_major": 2,
       "version_minor": 0
      },
      "text/plain": [
       "  0%|          | 0/50 [00:00<?, ?it/s]"
      ]
     },
     "metadata": {},
     "output_type": "display_data"
    },
    {
     "data": {
      "application/vnd.jupyter.widget-view+json": {
       "model_id": "15fcdf3c067f4e9c86a10d5e2c228479",
       "version_major": 2,
       "version_minor": 0
      },
      "text/plain": [
       "  0%|          | 0/16070 [00:00<?, ?it/s]"
      ]
     },
     "metadata": {},
     "output_type": "display_data"
    },
    {
     "data": {
      "application/vnd.jupyter.widget-view+json": {
       "model_id": "1f1c6cf35a1c4deba968326ef8a41db1",
       "version_major": 2,
       "version_minor": 0
      },
      "text/plain": [
       "  0%|          | 0/2156 [00:00<?, ?it/s]"
      ]
     },
     "metadata": {},
     "output_type": "display_data"
    },
    {
     "data": {
      "application/vnd.jupyter.widget-view+json": {
       "model_id": "a3858f75f5e542e0be82a6a100a241e7",
       "version_major": 2,
       "version_minor": 0
      },
      "text/plain": [
       "  0%|          | 0/19 [00:00<?, ?it/s]"
      ]
     },
     "metadata": {},
     "output_type": "display_data"
    },
    {
     "data": {
      "application/vnd.jupyter.widget-view+json": {
       "model_id": "6cdbf002748b46e39c3d80888c9e336f",
       "version_major": 2,
       "version_minor": 0
      },
      "text/plain": [
       "  0%|          | 0/29 [00:00<?, ?it/s]"
      ]
     },
     "metadata": {},
     "output_type": "display_data"
    },
    {
     "data": {
      "application/vnd.jupyter.widget-view+json": {
       "model_id": "a7c9ad33f911440ab2d418a5780db8b5",
       "version_major": 2,
       "version_minor": 0
      },
      "text/plain": [
       "  0%|          | 0/112 [00:00<?, ?it/s]"
      ]
     },
     "metadata": {},
     "output_type": "display_data"
    },
    {
     "data": {
      "application/vnd.jupyter.widget-view+json": {
       "model_id": "e74f6d6f509a463bb2667b588b48b152",
       "version_major": 2,
       "version_minor": 0
      },
      "text/plain": [
       "  0%|          | 0/183 [00:00<?, ?it/s]"
      ]
     },
     "metadata": {},
     "output_type": "display_data"
    },
    {
     "data": {
      "application/vnd.jupyter.widget-view+json": {
       "model_id": "bfe48126bde6428b92188b3487a73ff7",
       "version_major": 2,
       "version_minor": 0
      },
      "text/plain": [
       "  0%|          | 0/183 [00:00<?, ?it/s]"
      ]
     },
     "metadata": {},
     "output_type": "display_data"
    },
    {
     "data": {
      "application/vnd.jupyter.widget-view+json": {
       "model_id": "c5fb0c8cd45b46288e42eb993367795d",
       "version_major": 2,
       "version_minor": 0
      },
      "text/plain": [
       "  0%|          | 0/50 [00:00<?, ?it/s]"
      ]
     },
     "metadata": {},
     "output_type": "display_data"
    },
    {
     "data": {
      "application/vnd.jupyter.widget-view+json": {
       "model_id": "0e33b609afdd4d8196baa9f894b7822e",
       "version_major": 2,
       "version_minor": 0
      },
      "text/plain": [
       "  0%|          | 0/50 [00:00<?, ?it/s]"
      ]
     },
     "metadata": {},
     "output_type": "display_data"
    }
   ],
   "source": [
    "for directory in glob.glob('../output/250219_FrancisCovid_IndividualAnalyses/*/'):\n",
    "    # Read\n",
    "    lvl0 = pd.read_csv(f'{directory}concat_siglvl_ns.csv')\n",
    "    lvl1 = pd.read_csv(f'{directory}concat_siglvl_1.csv')\n",
    "    lvl2 = pd.read_csv(f'{directory}concat_siglvl_2.csv')\n",
    "    lvl3 = pd.read_csv(f'{directory}concat_siglvl_3.csv')\n",
    "    lvl4 = pd.read_csv(f'{directory}concat_siglvl_4.csv')\n",
    "    top1p = pd.read_csv(f'{directory}concat_top1_percent.csv')\n",
    "    bot1p = pd.read_csv(f'{directory}concat_bot1_percent.csv')\n",
    "    top50 = pd.read_csv(f'{directory}concat_top50.csv')\n",
    "    bot50 = pd.read_csv(f'{directory}concat_bot50.csv')\n",
    "    # query train\n",
    "    lvl0['match_train_AND'] = lvl0.progress_apply(find_train, db=train_ts, case=\"and\", axis=1)\n",
    "    lvl1['match_train_AND'] = lvl1.progress_apply(find_train, db=train_ts, case=\"and\", axis=1)\n",
    "    lvl2['match_train_AND'] = lvl2.progress_apply(find_train, db=train_ts, case=\"and\", axis=1)\n",
    "    lvl3['match_train_AND'] = lvl3.progress_apply(find_train, db=train_ts, case=\"and\", axis=1)\n",
    "    lvl4['match_train_AND'] = lvl4.progress_apply(find_train, db=train_ts, case=\"and\", axis=1)\n",
    "    top1p['match_train_AND'] = top1p.progress_apply(find_train, db=train_ts, case=\"and\", axis=1)\n",
    "    bot1p['match_train_AND'] = bot1p.progress_apply(find_train, db=train_ts, case=\"and\", axis=1)\n",
    "    top50['match_train_AND'] = top50.progress_apply(find_train, db=train_ts, case=\"and\", axis=1)\n",
    "    bot50['match_train_AND'] = bot50.progress_apply(find_train, db=train_ts, case=\"and\", axis=1)\n",
    "    # query train\n",
    "    lvl0['match_train_OR'] = lvl0.progress_apply(find_train, db=train_ts, case=\"or\", axis=1)\n",
    "    lvl1['match_train_OR'] = lvl1.progress_apply(find_train, db=train_ts, case=\"or\", axis=1)\n",
    "    lvl2['match_train_OR'] = lvl2.progress_apply(find_train, db=train_ts, case=\"or\", axis=1)\n",
    "    lvl3['match_train_OR'] = lvl3.progress_apply(find_train, db=train_ts, case=\"or\", axis=1)\n",
    "    lvl4['match_train_OR'] = lvl4.progress_apply(find_train, db=train_ts, case=\"or\", axis=1)\n",
    "    top1p['match_train_OR'] = top1p.progress_apply(find_train, db=train_ts, case=\"or\", axis=1)\n",
    "    bot1p['match_train_OR'] = bot1p.progress_apply(find_train, db=train_ts, case=\"or\", axis=1)\n",
    "    top50['match_train_OR'] = top50.progress_apply(find_train, db=train_ts, case=\"or\", axis=1)\n",
    "    bot50['match_train_OR'] = bot50.progress_apply(find_train, db=train_ts, case=\"or\", axis=1)\n",
    "    # query iedb\n",
    "    lvl0['match_any_id'] = lvl0.progress_apply(find_cdr3, db=covid_any, case=\"or\", axis=1)\n",
    "    lvl1['match_any_id'] = lvl1.progress_apply(find_cdr3, db=covid_any, case=\"or\", axis=1)\n",
    "    lvl2['match_any_id'] = lvl2.progress_apply(find_cdr3, db=covid_any, case=\"or\", axis=1)\n",
    "    lvl3['match_any_id'] = lvl3.progress_apply(find_cdr3, db=covid_any, case=\"or\", axis=1)\n",
    "    lvl4['match_any_id'] = lvl4.progress_apply(find_cdr3, db=covid_any, case=\"or\", axis=1)\n",
    "    top1p['match_any_id'] = top1p.progress_apply(find_cdr3, db=covid_any, case=\"or\", axis=1)\n",
    "    bot1p['match_any_id'] = bot1p.progress_apply(find_cdr3, db=covid_any, case=\"or\", axis=1)\n",
    "    top50['match_any_id'] = top50.progress_apply(find_cdr3, db=covid_any, case=\"or\", axis=1)\n",
    "    bot50['match_any_id'] = bot50.progress_apply(find_cdr3, db=covid_any, case=\"or\", axis=1)\n",
    "    # saving\n",
    "    lvl0.to_csv(f'{directory}matched_concat_siglvl_ns.csv')\n",
    "    lvl1.to_csv(f'{directory}matched_concat_siglvl_1.csv')\n",
    "    lvl2.to_csv(f'{directory}matched_concat_siglvl_2.csv')\n",
    "    lvl3.to_csv(f'{directory}matched_concat_siglvl_3.csv')\n",
    "    lvl4.to_csv(f'{directory}matched_concat_siglvl_4.csv')\n",
    "    top1p.to_csv(f'{directory}matched_concat_top1_percent.csv')\n",
    "    bot1p.to_csv(f'{directory}matched_concat_bot1_percent.csv')\n",
    "    top50.to_csv(f'{directory}matched_concat_top50.csv')\n",
    "    bot50.to_csv(f'{directory}matched_concat_bot50.csv')\n",
    "\n",
    "    pd.DataFrame([\n",
    "        [len(bot1p.query('match_any_id!=\"none\"'))/len(bot1p), len(bot1p.query('match_train_AND!=\"none\"'))/len(bot1p), len(bot1p.query('match_train_OR!=\"none\"'))/len(bot1p)],\n",
    "        [len(top1p.query('match_any_id!=\"none\"'))/len(top1p), len(top1p.query('match_train_AND!=\"none\"'))/len(top1p), len(top1p.query('match_train_OR!=\"none\"'))/len(top1p)],\n",
    "        [len(bot50.query('match_any_id!=\"none\"'))/len(bot50), len(bot50.query('match_train_AND!=\"none\"'))/len(bot50), len(bot50.query('match_train_OR!=\"none\"'))/len(bot50)],\n",
    "        [len(top50.query('match_any_id!=\"none\"'))/len(top50), len(top50.query('match_train_AND!=\"none\"'))/len(top50), len(top50.query('match_train_OR!=\"none\"'))/len(top50)],\n",
    "        [len(lvl0.query('match_any_id!=\"none\"'))/len(lvl0), len(lvl0.query('match_train_AND!=\"none\"'))/len(lvl0), len(lvl0.query('match_train_OR!=\"none\"'))/len(lvl0)],\n",
    "        [len(lvl1.query('match_any_id!=\"none\"'))/len(lvl1), len(lvl1.query('match_train_AND!=\"none\"'))/len(lvl1), len(lvl1.query('match_train_OR!=\"none\"'))/len(lvl1)],\n",
    "        [len(lvl2.query('match_any_id!=\"none\"'))/len(lvl2), len(lvl2.query('match_train_AND!=\"none\"'))/len(lvl2), len(lvl2.query('match_train_OR!=\"none\"'))/len(lvl2)],\n",
    "        [len(lvl3.query('match_any_id!=\"none\"'))/len(lvl3), len(lvl3.query('match_train_AND!=\"none\"'))/len(lvl3), len(lvl3.query('match_train_OR!=\"none\"'))/len(lvl3)],\n",
    "        [len(lvl4.query('match_any_id!=\"none\"'))/len(lvl4), len(lvl4.query('match_train_AND!=\"none\"'))/len(lvl4), len(lvl3.query('match_train_OR!=\"none\"'))/len(lvl4)]],\n",
    "                 index=['bot_1p', 'top_1p', 'bot_50', 'top_50', 'lvl0', 'lvl1', 'lvl2', 'lvl3', 'lvl4'],\n",
    "                 columns=['match_OR_IEDB','match_AND_train', 'match_OR_train']).round(5).to_csv(f'{directory}all_results_rounded_5.csv')\n",
    "    # Print if VAE Cs Trp, TBCRalign, tcrdist3\n",
    "    if 'VAE_TS_CsTrp' in directory or 'TBCRalign' in directory or 'tcrdist' in directory:\n",
    "        print(directory)\n",
    "        print('Found in IEDB (A3 OR B3 partial match)')\n",
    "        print(f\"bot 1%:\\t\", round((len(bot1p.query('match_any_id!=\"none\"'))/ len(bot1p)),4))\n",
    "        print(f\"top 1%:\\t\", round((len(top1p.query('match_any_id!=\"none\"'))/ len(top1p)),4))\n",
    "        print(f\"bot 50:\\t\", round((len(bot50.query('match_any_id!=\"none\"'))/ len(bot50)),4))\n",
    "        print(f\"top 50:\\t\", round((len(top50.query('match_any_id!=\"none\"'))/ len(top50)),4))\n",
    "        print('*'*30)\n",
    "        print(f'lvl 0:\\t', round((len(lvl0.query('match_any_id!=\"none\"'))/ len(lvl0)),4))\n",
    "        print(f\"lvl 1:\\t\", round((len(lvl1.query('match_any_id!=\"none\"'))/ len(lvl1)),4))\n",
    "        print(f\"lvl 2:\\t\", round((len(lvl2.query('match_any_id!=\"none\"'))/ len(lvl2)),4))\n",
    "        print(f\"lvl 3:\\t\", round((len(lvl3.query('match_any_id!=\"none\"'))/ len(lvl3)),4))\n",
    "        print(f\"lvl 4:\\t\", round((len(lvl4.query('match_any_id!=\"none\"'))/ len(lvl4)),4))\n",
    "        print('-'*30)\n",
    "        print('Found in train (A3 and B3 exact match)')\n",
    "        print(\"bot 1%:\\t\", round((len(bot1p.query('match_train_AND!=\"none\"'))/ len(bot1p)), 4))\n",
    "        print(\"top 1%:\\t\", round((len(top1p.query('match_train_AND!=\"none\"'))/ len(top1p)), 4))\n",
    "        print(\"bot 50:\\t\", round((len(bot50.query('match_train_AND!=\"none\"'))/ len(bot50)), 4))\n",
    "        print(\"top 50:\\t\", round((len(top50.query('match_train_AND!=\"none\"'))/ len(top50)), 4))\n",
    "        print('*'*30)\n",
    "        print('lvl 0:\\t', round((len(lvl0.query('match_train_AND!=\"none\"'))/ len(lvl0)),4))\n",
    "        print(\"lvl 1:\\t\", round((len(lvl1.query('match_train_AND!=\"none\"'))/ len(lvl1)), 4))\n",
    "        print(\"lvl 2:\\t\", round((len(lvl2.query('match_train_AND!=\"none\"'))/ len(lvl2)), 4))\n",
    "        print(\"lvl 3:\\t\", round((len(lvl3.query('match_train_AND!=\"none\"'))/ len(lvl3)), 4))\n",
    "        print(\"lvl 4:\\t\", round((len(lvl4.query('match_train_AND!=\"none\"'))/ len(lvl4)), 4))\n",
    "        print('-'*30)\n",
    "        print('Found in train (A3 or B3 partial match)')\n",
    "        print(\"bot 1%:\\t\", round((len(bot1p.query('match_train_OR!=\"none\"'))/ len(bot1p)), 4))\n",
    "        print(\"top 1%:\\t\", round((len(top1p.query('match_train_OR!=\"none\"'))/ len(top1p)), 4))\n",
    "        print(\"bot 50:\\t\", round((len(bot50.query('match_train_OR!=\"none\"'))/ len(bot50)), 4))\n",
    "        print(\"top 50:\\t\", round((len(top50.query('match_train_OR!=\"none\"'))/ len(top50)), 4))\n",
    "        print('*'*30)\n",
    "        print('lvl 0:\\t', round((len(lvl0.query('match_train_OR!=\"none\"'))/ len(lvl0)),4))\n",
    "        print(\"lvl 1:\\t\", round((len(lvl1.query('match_train_OR!=\"none\"'))/ len(lvl1)), 4))\n",
    "        print(\"lvl 2:\\t\", round((len(lvl2.query('match_train_OR!=\"none\"'))/ len(lvl2)), 4))\n",
    "        print(\"lvl 3:\\t\", round((len(lvl3.query('match_train_OR!=\"none\"'))/ len(lvl3)), 4))\n",
    "        print(\"lvl 4:\\t\", round((len(lvl4.query('match_train_OR!=\"none\"'))/ len(lvl4)), 4))"
   ]
  },
  {
   "cell_type": "code",
   "execution_count": 3,
   "id": "22e3eafb-a4c2-4456-a3ad-64a2ebaf1578",
   "metadata": {},
   "outputs": [
    {
     "data": {
      "image/png": "[encoded data removed]",
      "text/plain": [
       "<Figure size 800x500 with 1 Axes>"
      ]
     },
     "metadata": {},
     "output_type": "display_data"
    }
   ],
   "source": [
    "import numpy as np\n",
    "import matplotlib.pyplot as plt\n",
    "from scipy.stats import norm\n",
    "\n",
    "# Generate x values\n",
    "x = np.linspace(0, 100, 1000)\n",
    "\n",
    "# Define distributions\n",
    "mu_pos, sigma_pos = 60, 10  # Mean and std for positives\n",
    "mu_neg, sigma_neg = 40, 10  # Mean and std for negatives\n",
    "\n",
    "# Compute densities\n",
    "pos_density = norm.pdf(x, mu_pos, sigma_pos)\n",
    "neg_density = norm.pdf(x, mu_neg, sigma_neg)\n",
    "\n",
    "# Decision threshold\n",
    "threshold = 50\n",
    "\n",
    "# Create figure\n",
    "plt.figure(figsize=(8, 5))\n",
    "\n",
    "# Plot density curves\n",
    "plt.plot(x, pos_density, color='green', lw=2, label='Positives')\n",
    "plt.plot(x, neg_density, color='darkred', lw=2, label='Negatives')\n",
    "\n",
    "# Fill TP, FN, FP, TN regions\n",
    "plt.fill_between(x, 0, pos_density, where=(x >= threshold), color='lightgreen', alpha=0.75, label=\"TP\")\n",
    "plt.fill_between(x, 0, pos_density, where=(x < threshold), color='lightblue', alpha=0.75, label=\"FN\")\n",
    "plt.fill_between(x, 0, neg_density, where=(x >= threshold), color='khaki', alpha=0.75, label=\"FP\")\n",
    "plt.fill_between(x, 0, neg_density, where=(x < threshold), color='lightcoral', alpha=0.75, label=\"TN\")\n",
    "\n",
    "# Add threshold line\n",
    "plt.axvline(threshold, color='gray', linestyle='dashed', linewidth=2)\n",
    "\n",
    "# Labels and legend\n",
    "plt.xlabel(\"Prediction\")\n",
    "plt.ylabel(\"Density\")\n",
    "plt.legend()\n",
    "plt.show()"
   ]
  }
 ],
 "metadata": {
  "kernelspec": {
   "display_name": "Python [conda env:pynn] *",
   "language": "python",
   "name": "conda-env-pynn-py"
  },
  "language_info": {
   "codemirror_mode": {
    "name": "ipython",
    "version": 3
   },
   "file_extension": ".py",
   "mimetype": "text/x-python",
   "name": "python",
   "nbconvert_exporter": "python",
   "pygments_lexer": "ipython3",
   "version": "3.11.5"
  }
 },
 "nbformat": 4,
 "nbformat_minor": 5
}
