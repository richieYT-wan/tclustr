{
 "cells": [
  {
   "cell_type": "code",
   "execution_count": 2,
   "id": "fd973f6d-462b-490c-8d7d-b445e8709514",
   "metadata": {},
   "outputs": [
    {
     "data": {
      "image/png": "[encoded data removed]",
      "text/plain": [
       "<Figure size 1x1 with 1 Axes>"
      ]
     },
     "metadata": {},
     "output_type": "display_data"
    }
   ],
   "source": [
    "%load_ext autoreload\n",
    "%autoreload 2\n",
    "\n",
    "import pandas as pd\n",
    "import numpy as np\n",
    "import sklearn\n",
    "import matplotlib.pyplot as plt\n",
    "import matplotlib as mpl\n",
    "import seaborn as sns\n",
    "f,a = plt.subplots(1,1,figsize=(1e-2, 1e-2))\n",
    "mpl.rcParams['figure.dpi'] = 150\n",
    "sns.set_style('darkgrid')\n",
    "import os,sys\n",
    "module_path = os.path.abspath(os.path.join('..'))\n",
    "if module_path not in sys.path:\n",
    "    sys.path.append(module_path)\n",
    "import warnings\n",
    "warnings.filterwarnings(\"ignore\")\n",
    "import glob\n",
    "from tqdm.auto import tqdm\n",
    "from datetime import datetime as dt\n",
    "from src.utils import mkdirs, convert_path, pkl_dump, pkl_load, add_median_labels, get_palette\n",
    "from src.data_processing import BL62_VALUES, BL62FREQ_VALUES, HLAS, AA_KEYS\n",
    "from src.utils import pkl_load, pkl_dump, get_palette\n",
    "from src.torch_utils import save_checkpoint, load_checkpoint\n",
    "from src.train_eval import predict_model, train_eval_loops\n",
    "from src.models import FullTCRVAE\n",
    "from src.metrics import reconstruction_accuracy, VAELoss, TripletLoss, CombinedVAELoss, compute_cosine_distance\n",
    "from src.datasets import TCRSpecificDataset, FullTCRDataset\n",
    "import torch\n",
    "from torch import optim\n",
    "from torch.utils.data import RandomSampler, SequentialSampler\n",
    "from torch import nn\n",
    "from torch.nn import functional as F\n",
    "mpl.rcParams['figure.dpi'] = 180"
   ]
  },
  {
   "cell_type": "code",
   "execution_count": 3,
   "id": "a1579c50-a961-4cac-8fc5-5d5bf6452a68",
   "metadata": {},
   "outputs": [],
   "source": [
    "# Load models together\n",
    "from src.torch_utils import load_model_full\n",
    "from src.metrics import compute_cosine_distance\n",
    "from src.utils import get_class_initcode_keys\n",
    "from src.models import BimodalVAEClassifier, FullTCRVAE, PeptideClassifier\n",
    "from src.datasets import BimodalTCRpMHCDataset, FullTCRDataset, LatentTCRpMHCDataset, TCRSpecificDataset\n",
    "from src.train_eval import predict_bimodal, predict_model\n",
    "from torch.utils.data import SequentialSampler\n",
    "from src.datasets import *\n",
    "from src.models import *\n",
    "pos_df = pd.read_csv('../data/filtered/230927_nettcr_positives_only.csv')\n",
    "mix_df = pd.read_csv('../data/filtered/231205_nettcr_old_26pep_with_swaps.csv')\n",
    "\n",
    "\n",
    "def get_model(folder):\n",
    "    pt = glob.glob(folder+'/*.pt')[0]\n",
    "    js = glob.glob(folder+'/*.json')[0]\n",
    "    model = load_model_full(pt, js, return_json=False, verbose=False)\n",
    "    return model\n",
    "    "
   ]
  },
  {
   "cell_type": "code",
   "execution_count": 8,
   "id": "6208e80e-fe14-4881-b54b-c7e31486b4f9",
   "metadata": {
    "collapsed": true,
    "jupyter": {
     "outputs_hidden": true
    }
   },
   "outputs": [
    {
     "data": {
      "text/html": [
       "<div>\n",
       "<style scoped>\n",
       "    .dataframe tbody tr th:only-of-type {\n",
       "        vertical-align: middle;\n",
       "    }\n",
       "\n",
       "    .dataframe tbody tr th {\n",
       "        vertical-align: top;\n",
       "    }\n",
       "\n",
       "    .dataframe thead th {\n",
       "        text-align: right;\n",
       "    }\n",
       "</style>\n",
       "<table border=\"1\" class=\"dataframe\">\n",
       "  <thead>\n",
       "    <tr style=\"text-align: right;\">\n",
       "      <th></th>\n",
       "      <th>peptide</th>\n",
       "      <th>A1</th>\n",
       "      <th>A2</th>\n",
       "      <th>A3</th>\n",
       "      <th>B1</th>\n",
       "      <th>B2</th>\n",
       "      <th>B3</th>\n",
       "      <th>allele</th>\n",
       "      <th>partition</th>\n",
       "      <th>binder</th>\n",
       "      <th>origin</th>\n",
       "      <th>original_peptide</th>\n",
       "      <th>raw_index</th>\n",
       "      <th>reference</th>\n",
       "      <th>source_organism</th>\n",
       "      <th>input_type</th>\n",
       "    </tr>\n",
       "  </thead>\n",
       "  <tbody>\n",
       "    <tr>\n",
       "      <th>0</th>\n",
       "      <td>SMWSFNPETNIL</td>\n",
       "      <td>XXXXXXX</td>\n",
       "      <td>XXXXXXXX</td>\n",
       "      <td>XXXXXXXXXXXXXXXXXXXXXX</td>\n",
       "      <td>SGHDN</td>\n",
       "      <td>FVKESK</td>\n",
       "      <td>ASSPLWDRGPLSYGYT</td>\n",
       "      <td>NaN</td>\n",
       "      <td>4</td>\n",
       "      <td>0</td>\n",
       "      <td>peptide_swapped</td>\n",
       "      <td>SPRWYFYYL</td>\n",
       "      <td>VDJdb_80565</td>\n",
       "      <td>35750048</td>\n",
       "      <td>SARS-CoV-2</td>\n",
       "      <td>beta</td>\n",
       "    </tr>\n",
       "    <tr>\n",
       "      <th>1</th>\n",
       "      <td>AVFDRKSDAK</td>\n",
       "      <td>TSDQSYG</td>\n",
       "      <td>QGSYDEQN</td>\n",
       "      <td>ALHSGGYQKVT</td>\n",
       "      <td>MNHEY</td>\n",
       "      <td>SMNVEV</td>\n",
       "      <td>ASSPTRPVEQY</td>\n",
       "      <td>HLA-A*11:01</td>\n",
       "      <td>4</td>\n",
       "      <td>0</td>\n",
       "      <td>peptide_swapped</td>\n",
       "      <td>GILGFVFTL</td>\n",
       "      <td>VDJdb_65943</td>\n",
       "      <td>28636592</td>\n",
       "      <td>InfluenzaA</td>\n",
       "      <td>paired</td>\n",
       "    </tr>\n",
       "    <tr>\n",
       "      <th>2</th>\n",
       "      <td>KLGGALQAK</td>\n",
       "      <td>TISGTDY</td>\n",
       "      <td>GLTSN</td>\n",
       "      <td>ILTETSYDKVI</td>\n",
       "      <td>SEHNR</td>\n",
       "      <td>FQNEAQ</td>\n",
       "      <td>ASASLGGGLYEQY</td>\n",
       "      <td>HLA-A*03:01</td>\n",
       "      <td>0</td>\n",
       "      <td>0</td>\n",
       "      <td>peptide_swapped</td>\n",
       "      <td>RAKFKQLL</td>\n",
       "      <td>ITRAP_793</td>\n",
       "      <td>37133356</td>\n",
       "      <td>NaN</td>\n",
       "      <td>paired</td>\n",
       "    </tr>\n",
       "    <tr>\n",
       "      <th>3</th>\n",
       "      <td>FVDGVPFVV</td>\n",
       "      <td>XXXXXXX</td>\n",
       "      <td>XXXXXXXX</td>\n",
       "      <td>XXXXXXXXXXXXXXXXXXXXXX</td>\n",
       "      <td>SGHTA</td>\n",
       "      <td>FQGNSA</td>\n",
       "      <td>ASSFGTGWSDEQF</td>\n",
       "      <td>HLA-A*02:01</td>\n",
       "      <td>1</td>\n",
       "      <td>0</td>\n",
       "      <td>peptide_swapped</td>\n",
       "      <td>LPRRSGAAGA</td>\n",
       "      <td>IEDB_23086</td>\n",
       "      <td>28636589</td>\n",
       "      <td>Influenza A virus</td>\n",
       "      <td>beta</td>\n",
       "    </tr>\n",
       "    <tr>\n",
       "      <th>4</th>\n",
       "      <td>NLVPMVATV</td>\n",
       "      <td>YGATPY</td>\n",
       "      <td>YFSGDTLV</td>\n",
       "      <td>ALFNFGNDKLT</td>\n",
       "      <td>XXXXXX</td>\n",
       "      <td>XXXXXXX</td>\n",
       "      <td>XXXXXXXXXXXXXXXXXXXXXXX</td>\n",
       "      <td>HLA-A*02:01</td>\n",
       "      <td>2</td>\n",
       "      <td>0</td>\n",
       "      <td>peptide_swapped</td>\n",
       "      <td>YVLDHLIVV</td>\n",
       "      <td>IEDB_150754</td>\n",
       "      <td>32184241</td>\n",
       "      <td>Human herpesvirus 4 (Epstein Barr virus)</td>\n",
       "      <td>alpha</td>\n",
       "    </tr>\n",
       "    <tr>\n",
       "      <th>...</th>\n",
       "      <td>...</td>\n",
       "      <td>...</td>\n",
       "      <td>...</td>\n",
       "      <td>...</td>\n",
       "      <td>...</td>\n",
       "      <td>...</td>\n",
       "      <td>...</td>\n",
       "      <td>...</td>\n",
       "      <td>...</td>\n",
       "      <td>...</td>\n",
       "      <td>...</td>\n",
       "      <td>...</td>\n",
       "      <td>...</td>\n",
       "      <td>...</td>\n",
       "      <td>...</td>\n",
       "      <td>...</td>\n",
       "    </tr>\n",
       "    <tr>\n",
       "      <th>417088</th>\n",
       "      <td>GLCTLVAML</td>\n",
       "      <td>DRGSQS</td>\n",
       "      <td>IYSNGD</td>\n",
       "      <td>AVNHRDDKII</td>\n",
       "      <td>XXXXXX</td>\n",
       "      <td>XXXXXXX</td>\n",
       "      <td>XXXXXXXXXXXXXXXXXXXXXXX</td>\n",
       "      <td>HLA-A*02:01</td>\n",
       "      <td>3</td>\n",
       "      <td>0</td>\n",
       "      <td>peptide_swapped</td>\n",
       "      <td>YLQPRTFLL</td>\n",
       "      <td>VDJdb_79199</td>\n",
       "      <td>https://github.com/antigenomics/vdjdb-db/issue...</td>\n",
       "      <td>SARS-CoV-2</td>\n",
       "      <td>alpha</td>\n",
       "    </tr>\n",
       "    <tr>\n",
       "      <th>417089</th>\n",
       "      <td>GLCTLVAML</td>\n",
       "      <td>DSSSTY</td>\n",
       "      <td>IFSNMDM</td>\n",
       "      <td>AESPGSGNTPLVI</td>\n",
       "      <td>XXXXXX</td>\n",
       "      <td>XXXXXXX</td>\n",
       "      <td>XXXXXXXXXXXXXXXXXXXXXXX</td>\n",
       "      <td>HLA-A*02:01</td>\n",
       "      <td>0</td>\n",
       "      <td>1</td>\n",
       "      <td>IEDB</td>\n",
       "      <td>GLCTLVAML</td>\n",
       "      <td>IEDB_150417</td>\n",
       "      <td>32184241</td>\n",
       "      <td>Human herpesvirus 4 (Epstein Barr virus)</td>\n",
       "      <td>alpha</td>\n",
       "    </tr>\n",
       "    <tr>\n",
       "      <th>417090</th>\n",
       "      <td>EIYKRWII</td>\n",
       "      <td>XXXXXXX</td>\n",
       "      <td>XXXXXXXX</td>\n",
       "      <td>XXXXXXXXXXXXXXXXXXXXXX</td>\n",
       "      <td>SQVTM</td>\n",
       "      <td>ANQGSEA</td>\n",
       "      <td>SEQAPAGLRPSYNEQ</td>\n",
       "      <td>HLA-B*08:01</td>\n",
       "      <td>1</td>\n",
       "      <td>0</td>\n",
       "      <td>peptide_swapped</td>\n",
       "      <td>GILGFVFTL</td>\n",
       "      <td>IEDB_17378</td>\n",
       "      <td>28250417</td>\n",
       "      <td>Influenza A virus</td>\n",
       "      <td>beta</td>\n",
       "    </tr>\n",
       "    <tr>\n",
       "      <th>417091</th>\n",
       "      <td>QLMCQPILLL</td>\n",
       "      <td>XXXXXXX</td>\n",
       "      <td>XXXXXXXX</td>\n",
       "      <td>XXXXXXXXXXXXXXXXXXXXXX</td>\n",
       "      <td>SGHVS</td>\n",
       "      <td>FNYEAQ</td>\n",
       "      <td>ASSLAEGQESSYNSPLH</td>\n",
       "      <td>NaN</td>\n",
       "      <td>3</td>\n",
       "      <td>0</td>\n",
       "      <td>peptide_swapped</td>\n",
       "      <td>YEQYIKWPWYI</td>\n",
       "      <td>IEDB_81268</td>\n",
       "      <td>32793919</td>\n",
       "      <td>SARS-CoV2</td>\n",
       "      <td>beta</td>\n",
       "    </tr>\n",
       "    <tr>\n",
       "      <th>417092</th>\n",
       "      <td>LPRRSGAAGA</td>\n",
       "      <td>XXXXXXX</td>\n",
       "      <td>XXXXXXXX</td>\n",
       "      <td>XXXXXXXXXXXXXXXXXXXXXX</td>\n",
       "      <td>LNHDA</td>\n",
       "      <td>SQIVND</td>\n",
       "      <td>ASSIGQDFSNQPQH</td>\n",
       "      <td>HLA-B*07:02</td>\n",
       "      <td>3</td>\n",
       "      <td>0</td>\n",
       "      <td>peptide_swapped</td>\n",
       "      <td>VFITLCFTLK</td>\n",
       "      <td>IEDB_82213</td>\n",
       "      <td>32793919</td>\n",
       "      <td>SARS-CoV2</td>\n",
       "      <td>beta</td>\n",
       "    </tr>\n",
       "  </tbody>\n",
       "</table>\n",
       "<p>417093 rows × 16 columns</p>\n",
       "</div>"
      ],
      "text/plain": [
       "             peptide       A1        A2                      A3      B1  \\\n",
       "0       SMWSFNPETNIL  XXXXXXX  XXXXXXXX  XXXXXXXXXXXXXXXXXXXXXX   SGHDN   \n",
       "1         AVFDRKSDAK  TSDQSYG  QGSYDEQN             ALHSGGYQKVT   MNHEY   \n",
       "2          KLGGALQAK  TISGTDY     GLTSN             ILTETSYDKVI   SEHNR   \n",
       "3          FVDGVPFVV  XXXXXXX  XXXXXXXX  XXXXXXXXXXXXXXXXXXXXXX   SGHTA   \n",
       "4          NLVPMVATV   YGATPY  YFSGDTLV             ALFNFGNDKLT  XXXXXX   \n",
       "...              ...      ...       ...                     ...     ...   \n",
       "417088     GLCTLVAML   DRGSQS    IYSNGD              AVNHRDDKII  XXXXXX   \n",
       "417089     GLCTLVAML   DSSSTY   IFSNMDM           AESPGSGNTPLVI  XXXXXX   \n",
       "417090      EIYKRWII  XXXXXXX  XXXXXXXX  XXXXXXXXXXXXXXXXXXXXXX   SQVTM   \n",
       "417091    QLMCQPILLL  XXXXXXX  XXXXXXXX  XXXXXXXXXXXXXXXXXXXXXX   SGHVS   \n",
       "417092    LPRRSGAAGA  XXXXXXX  XXXXXXXX  XXXXXXXXXXXXXXXXXXXXXX   LNHDA   \n",
       "\n",
       "             B2                       B3       allele  partition  binder  \\\n",
       "0        FVKESK         ASSPLWDRGPLSYGYT          NaN          4       0   \n",
       "1        SMNVEV              ASSPTRPVEQY  HLA-A*11:01          4       0   \n",
       "2        FQNEAQ            ASASLGGGLYEQY  HLA-A*03:01          0       0   \n",
       "3        FQGNSA            ASSFGTGWSDEQF  HLA-A*02:01          1       0   \n",
       "4       XXXXXXX  XXXXXXXXXXXXXXXXXXXXXXX  HLA-A*02:01          2       0   \n",
       "...         ...                      ...          ...        ...     ...   \n",
       "417088  XXXXXXX  XXXXXXXXXXXXXXXXXXXXXXX  HLA-A*02:01          3       0   \n",
       "417089  XXXXXXX  XXXXXXXXXXXXXXXXXXXXXXX  HLA-A*02:01          0       1   \n",
       "417090  ANQGSEA          SEQAPAGLRPSYNEQ  HLA-B*08:01          1       0   \n",
       "417091   FNYEAQ        ASSLAEGQESSYNSPLH          NaN          3       0   \n",
       "417092   SQIVND           ASSIGQDFSNQPQH  HLA-B*07:02          3       0   \n",
       "\n",
       "                 origin original_peptide    raw_index  \\\n",
       "0       peptide_swapped        SPRWYFYYL  VDJdb_80565   \n",
       "1       peptide_swapped        GILGFVFTL  VDJdb_65943   \n",
       "2       peptide_swapped         RAKFKQLL    ITRAP_793   \n",
       "3       peptide_swapped       LPRRSGAAGA   IEDB_23086   \n",
       "4       peptide_swapped        YVLDHLIVV  IEDB_150754   \n",
       "...                 ...              ...          ...   \n",
       "417088  peptide_swapped        YLQPRTFLL  VDJdb_79199   \n",
       "417089             IEDB        GLCTLVAML  IEDB_150417   \n",
       "417090  peptide_swapped        GILGFVFTL   IEDB_17378   \n",
       "417091  peptide_swapped      YEQYIKWPWYI   IEDB_81268   \n",
       "417092  peptide_swapped       VFITLCFTLK   IEDB_82213   \n",
       "\n",
       "                                                reference  \\\n",
       "0                                                35750048   \n",
       "1                                                28636592   \n",
       "2                                                37133356   \n",
       "3                                                28636589   \n",
       "4                                                32184241   \n",
       "...                                                   ...   \n",
       "417088  https://github.com/antigenomics/vdjdb-db/issue...   \n",
       "417089                                           32184241   \n",
       "417090                                           28250417   \n",
       "417091                                           32793919   \n",
       "417092                                           32793919   \n",
       "\n",
       "                                 source_organism input_type  \n",
       "0                                     SARS-CoV-2       beta  \n",
       "1                                     InfluenzaA     paired  \n",
       "2                                            NaN     paired  \n",
       "3                              Influenza A virus       beta  \n",
       "4       Human herpesvirus 4 (Epstein Barr virus)      alpha  \n",
       "...                                          ...        ...  \n",
       "417088                                SARS-CoV-2      alpha  \n",
       "417089  Human herpesvirus 4 (Epstein Barr virus)      alpha  \n",
       "417090                         Influenza A virus       beta  \n",
       "417091                                 SARS-CoV2       beta  \n",
       "417092                                 SARS-CoV2       beta  \n",
       "\n",
       "[417093 rows x 16 columns]"
      ]
     },
     "execution_count": 8,
     "metadata": {},
     "output_type": "execute_result"
    }
   ],
   "source": [
    "df = pd.read_csv('../data/NetTCR/231205_nettcr2-2_alpha_beta_paired_expanded.csv')\n",
    "df\n",
    "# DF has been pre-filled with Xs for missing data."
   ]
  },
  {
   "cell_type": "code",
   "execution_count": 10,
   "id": "1d725f56-c542-4748-9859-313d48d67a62",
   "metadata": {},
   "outputs": [
    {
     "data": {
      "text/html": [
       "<div>\n",
       "<style scoped>\n",
       "    .dataframe tbody tr th:only-of-type {\n",
       "        vertical-align: middle;\n",
       "    }\n",
       "\n",
       "    .dataframe tbody tr th {\n",
       "        vertical-align: top;\n",
       "    }\n",
       "\n",
       "    .dataframe thead th {\n",
       "        text-align: right;\n",
       "    }\n",
       "</style>\n",
       "<table border=\"1\" class=\"dataframe\">\n",
       "  <thead>\n",
       "    <tr style=\"text-align: right;\">\n",
       "      <th></th>\n",
       "      <th>peptide</th>\n",
       "      <th>A1</th>\n",
       "      <th>A2</th>\n",
       "      <th>A3</th>\n",
       "      <th>B1</th>\n",
       "      <th>B2</th>\n",
       "      <th>B3</th>\n",
       "      <th>allele</th>\n",
       "      <th>partition</th>\n",
       "      <th>binder</th>\n",
       "      <th>origin</th>\n",
       "      <th>original_peptide</th>\n",
       "      <th>raw_index</th>\n",
       "      <th>reference</th>\n",
       "      <th>source_organism</th>\n",
       "      <th>input_type</th>\n",
       "    </tr>\n",
       "  </thead>\n",
       "  <tbody>\n",
       "    <tr>\n",
       "      <th>8</th>\n",
       "      <td>TTDPSFLGRY</td>\n",
       "      <td>ATGYPS</td>\n",
       "      <td>ATKADDK</td>\n",
       "      <td>ALSGNTDKLI</td>\n",
       "      <td>MDHEN</td>\n",
       "      <td>SYDVKM</td>\n",
       "      <td>ASSLAGGIVDEQF</td>\n",
       "      <td>HLA-A*01:01</td>\n",
       "      <td>1</td>\n",
       "      <td>1</td>\n",
       "      <td>VDJdb</td>\n",
       "      <td>TTDPSFLGRY</td>\n",
       "      <td>VDJdb_69875</td>\n",
       "      <td>https://github.com/antigenomics/vdjdb-db/issue...</td>\n",
       "      <td>SARS-CoV-2</td>\n",
       "      <td>paired</td>\n",
       "    </tr>\n",
       "    <tr>\n",
       "      <th>12</th>\n",
       "      <td>KRWIILGLNK</td>\n",
       "      <td>XXXXXXX</td>\n",
       "      <td>XXXXXXXX</td>\n",
       "      <td>XXXXXXXXXXXXXXXXXXXXXX</td>\n",
       "      <td>MNHNY</td>\n",
       "      <td>SVGAGI</td>\n",
       "      <td>ASSSSPGTSGNQPQH</td>\n",
       "      <td>HLA-B*27:05</td>\n",
       "      <td>2</td>\n",
       "      <td>1</td>\n",
       "      <td>VDJdb</td>\n",
       "      <td>KRWIILGLNK</td>\n",
       "      <td>VDJdb_954</td>\n",
       "      <td>21135165</td>\n",
       "      <td>HIV-1</td>\n",
       "      <td>beta</td>\n",
       "    </tr>\n",
       "    <tr>\n",
       "      <th>18</th>\n",
       "      <td>TVATSRTLSYYK</td>\n",
       "      <td>XXXXXXX</td>\n",
       "      <td>XXXXXXXX</td>\n",
       "      <td>XXXXXXXXXXXXXXXXXXXXXX</td>\n",
       "      <td>LNHDA</td>\n",
       "      <td>SQIVND</td>\n",
       "      <td>ASSTSRGGTEAF</td>\n",
       "      <td>NaN</td>\n",
       "      <td>1</td>\n",
       "      <td>1</td>\n",
       "      <td>IEDB</td>\n",
       "      <td>TVATSRTLSYYK</td>\n",
       "      <td>IEDB_123556</td>\n",
       "      <td>32793919</td>\n",
       "      <td>SARS-CoV1</td>\n",
       "      <td>beta</td>\n",
       "    </tr>\n",
       "    <tr>\n",
       "      <th>21</th>\n",
       "      <td>SMWSFNPETNIL</td>\n",
       "      <td>XXXXXXX</td>\n",
       "      <td>XXXXXXXX</td>\n",
       "      <td>XXXXXXXXXXXXXXXXXXXXXX</td>\n",
       "      <td>SGHNT</td>\n",
       "      <td>YYREEE</td>\n",
       "      <td>ASSEGGMAYGYT</td>\n",
       "      <td>NaN</td>\n",
       "      <td>1</td>\n",
       "      <td>1</td>\n",
       "      <td>IEDB</td>\n",
       "      <td>SMWSFNPETNIL</td>\n",
       "      <td>IEDB_69947</td>\n",
       "      <td>32793919</td>\n",
       "      <td>SARS-CoV1</td>\n",
       "      <td>beta</td>\n",
       "    </tr>\n",
       "    <tr>\n",
       "      <th>34</th>\n",
       "      <td>RLQSLQTYV</td>\n",
       "      <td>TSENNYY</td>\n",
       "      <td>QEAYKQQN</td>\n",
       "      <td>AFDPLYNDMR</td>\n",
       "      <td>XXXXXX</td>\n",
       "      <td>XXXXXXX</td>\n",
       "      <td>XXXXXXXXXXXXXXXXXXXXXXX</td>\n",
       "      <td>HLA-A*02:01</td>\n",
       "      <td>3</td>\n",
       "      <td>1</td>\n",
       "      <td>VDJdb</td>\n",
       "      <td>RLQSLQTYV</td>\n",
       "      <td>VDJdb_4716</td>\n",
       "      <td>https://github.com/antigenomics/vdjdb-db/issue...</td>\n",
       "      <td>SARS-CoV-2</td>\n",
       "      <td>alpha</td>\n",
       "    </tr>\n",
       "    <tr>\n",
       "      <th>...</th>\n",
       "      <td>...</td>\n",
       "      <td>...</td>\n",
       "      <td>...</td>\n",
       "      <td>...</td>\n",
       "      <td>...</td>\n",
       "      <td>...</td>\n",
       "      <td>...</td>\n",
       "      <td>...</td>\n",
       "      <td>...</td>\n",
       "      <td>...</td>\n",
       "      <td>...</td>\n",
       "      <td>...</td>\n",
       "      <td>...</td>\n",
       "      <td>...</td>\n",
       "      <td>...</td>\n",
       "      <td>...</td>\n",
       "    </tr>\n",
       "    <tr>\n",
       "      <th>417075</th>\n",
       "      <td>FLNGSCGSV</td>\n",
       "      <td>XXXXXXX</td>\n",
       "      <td>XXXXXXXX</td>\n",
       "      <td>XXXXXXXXXXXXXXXXXXXXXX</td>\n",
       "      <td>WNHNN</td>\n",
       "      <td>SYGVQD</td>\n",
       "      <td>ASSPTDGGADTQY</td>\n",
       "      <td>NaN</td>\n",
       "      <td>2</td>\n",
       "      <td>1</td>\n",
       "      <td>IEDB</td>\n",
       "      <td>FLNGSCGSV</td>\n",
       "      <td>IEDB_107654</td>\n",
       "      <td>32793919</td>\n",
       "      <td>SARS-CoV2</td>\n",
       "      <td>beta</td>\n",
       "    </tr>\n",
       "    <tr>\n",
       "      <th>417080</th>\n",
       "      <td>CMTSCCSCLK</td>\n",
       "      <td>XXXXXXX</td>\n",
       "      <td>XXXXXXXX</td>\n",
       "      <td>XXXXXXXXXXXXXXXXXXXXXX</td>\n",
       "      <td>WSHSY</td>\n",
       "      <td>SAAADI</td>\n",
       "      <td>AIRQDGAEY</td>\n",
       "      <td>NaN</td>\n",
       "      <td>3</td>\n",
       "      <td>1</td>\n",
       "      <td>IEDB</td>\n",
       "      <td>CMTSCCSCLK</td>\n",
       "      <td>IEDB_58798</td>\n",
       "      <td>32793919</td>\n",
       "      <td>SARS coronavirus Tor2 (Severe acute respirator...</td>\n",
       "      <td>beta</td>\n",
       "    </tr>\n",
       "    <tr>\n",
       "      <th>417081</th>\n",
       "      <td>FPRPWLHGL</td>\n",
       "      <td>XXXXXXX</td>\n",
       "      <td>XXXXXXXX</td>\n",
       "      <td>XXXXXXXXXXXXXXXXXXXXXX</td>\n",
       "      <td>SQVTM</td>\n",
       "      <td>ANQGSEA</td>\n",
       "      <td>SVEDSLVNEQF</td>\n",
       "      <td>HLA-B*42:01</td>\n",
       "      <td>1</td>\n",
       "      <td>1</td>\n",
       "      <td>VDJdb</td>\n",
       "      <td>FPRPWLHGL</td>\n",
       "      <td>VDJdb_68648</td>\n",
       "      <td>25911754</td>\n",
       "      <td>HIV-1</td>\n",
       "      <td>beta</td>\n",
       "    </tr>\n",
       "    <tr>\n",
       "      <th>417084</th>\n",
       "      <td>VAANIVLTV</td>\n",
       "      <td>TSINN</td>\n",
       "      <td>IRSNERE</td>\n",
       "      <td>AVTGANNLF</td>\n",
       "      <td>LNHDA</td>\n",
       "      <td>SQIVND</td>\n",
       "      <td>ASSIEGPTGELF</td>\n",
       "      <td>HLA-A*02:01</td>\n",
       "      <td>0</td>\n",
       "      <td>1</td>\n",
       "      <td>VDJdb</td>\n",
       "      <td>VAANIVLTV</td>\n",
       "      <td>VDJdb_24025</td>\n",
       "      <td>29429978</td>\n",
       "      <td>HomoSapiens</td>\n",
       "      <td>paired</td>\n",
       "    </tr>\n",
       "    <tr>\n",
       "      <th>417089</th>\n",
       "      <td>GLCTLVAML</td>\n",
       "      <td>DSSSTY</td>\n",
       "      <td>IFSNMDM</td>\n",
       "      <td>AESPGSGNTPLVI</td>\n",
       "      <td>XXXXXX</td>\n",
       "      <td>XXXXXXX</td>\n",
       "      <td>XXXXXXXXXXXXXXXXXXXXXXX</td>\n",
       "      <td>HLA-A*02:01</td>\n",
       "      <td>0</td>\n",
       "      <td>1</td>\n",
       "      <td>IEDB</td>\n",
       "      <td>GLCTLVAML</td>\n",
       "      <td>IEDB_150417</td>\n",
       "      <td>32184241</td>\n",
       "      <td>Human herpesvirus 4 (Epstein Barr virus)</td>\n",
       "      <td>alpha</td>\n",
       "    </tr>\n",
       "  </tbody>\n",
       "</table>\n",
       "<p>67459 rows × 16 columns</p>\n",
       "</div>"
      ],
      "text/plain": [
       "             peptide       A1        A2                      A3      B1  \\\n",
       "8         TTDPSFLGRY   ATGYPS   ATKADDK              ALSGNTDKLI   MDHEN   \n",
       "12        KRWIILGLNK  XXXXXXX  XXXXXXXX  XXXXXXXXXXXXXXXXXXXXXX   MNHNY   \n",
       "18      TVATSRTLSYYK  XXXXXXX  XXXXXXXX  XXXXXXXXXXXXXXXXXXXXXX   LNHDA   \n",
       "21      SMWSFNPETNIL  XXXXXXX  XXXXXXXX  XXXXXXXXXXXXXXXXXXXXXX   SGHNT   \n",
       "34         RLQSLQTYV  TSENNYY  QEAYKQQN              AFDPLYNDMR  XXXXXX   \n",
       "...              ...      ...       ...                     ...     ...   \n",
       "417075     FLNGSCGSV  XXXXXXX  XXXXXXXX  XXXXXXXXXXXXXXXXXXXXXX   WNHNN   \n",
       "417080    CMTSCCSCLK  XXXXXXX  XXXXXXXX  XXXXXXXXXXXXXXXXXXXXXX   WSHSY   \n",
       "417081     FPRPWLHGL  XXXXXXX  XXXXXXXX  XXXXXXXXXXXXXXXXXXXXXX   SQVTM   \n",
       "417084     VAANIVLTV    TSINN   IRSNERE               AVTGANNLF   LNHDA   \n",
       "417089     GLCTLVAML   DSSSTY   IFSNMDM           AESPGSGNTPLVI  XXXXXX   \n",
       "\n",
       "             B2                       B3       allele  partition  binder  \\\n",
       "8        SYDVKM            ASSLAGGIVDEQF  HLA-A*01:01          1       1   \n",
       "12       SVGAGI          ASSSSPGTSGNQPQH  HLA-B*27:05          2       1   \n",
       "18       SQIVND             ASSTSRGGTEAF          NaN          1       1   \n",
       "21       YYREEE             ASSEGGMAYGYT          NaN          1       1   \n",
       "34      XXXXXXX  XXXXXXXXXXXXXXXXXXXXXXX  HLA-A*02:01          3       1   \n",
       "...         ...                      ...          ...        ...     ...   \n",
       "417075   SYGVQD            ASSPTDGGADTQY          NaN          2       1   \n",
       "417080   SAAADI                AIRQDGAEY          NaN          3       1   \n",
       "417081  ANQGSEA              SVEDSLVNEQF  HLA-B*42:01          1       1   \n",
       "417084   SQIVND             ASSIEGPTGELF  HLA-A*02:01          0       1   \n",
       "417089  XXXXXXX  XXXXXXXXXXXXXXXXXXXXXXX  HLA-A*02:01          0       1   \n",
       "\n",
       "       origin original_peptide    raw_index  \\\n",
       "8       VDJdb       TTDPSFLGRY  VDJdb_69875   \n",
       "12      VDJdb       KRWIILGLNK    VDJdb_954   \n",
       "18       IEDB     TVATSRTLSYYK  IEDB_123556   \n",
       "21       IEDB     SMWSFNPETNIL   IEDB_69947   \n",
       "34      VDJdb        RLQSLQTYV   VDJdb_4716   \n",
       "...       ...              ...          ...   \n",
       "417075   IEDB        FLNGSCGSV  IEDB_107654   \n",
       "417080   IEDB       CMTSCCSCLK   IEDB_58798   \n",
       "417081  VDJdb        FPRPWLHGL  VDJdb_68648   \n",
       "417084  VDJdb        VAANIVLTV  VDJdb_24025   \n",
       "417089   IEDB        GLCTLVAML  IEDB_150417   \n",
       "\n",
       "                                                reference  \\\n",
       "8       https://github.com/antigenomics/vdjdb-db/issue...   \n",
       "12                                               21135165   \n",
       "18                                               32793919   \n",
       "21                                               32793919   \n",
       "34      https://github.com/antigenomics/vdjdb-db/issue...   \n",
       "...                                                   ...   \n",
       "417075                                           32793919   \n",
       "417080                                           32793919   \n",
       "417081                                           25911754   \n",
       "417084                                           29429978   \n",
       "417089                                           32184241   \n",
       "\n",
       "                                          source_organism input_type  \n",
       "8                                              SARS-CoV-2     paired  \n",
       "12                                                  HIV-1       beta  \n",
       "18                                              SARS-CoV1       beta  \n",
       "21                                              SARS-CoV1       beta  \n",
       "34                                             SARS-CoV-2      alpha  \n",
       "...                                                   ...        ...  \n",
       "417075                                          SARS-CoV2       beta  \n",
       "417080  SARS coronavirus Tor2 (Severe acute respirator...       beta  \n",
       "417081                                              HIV-1       beta  \n",
       "417084                                        HomoSapiens     paired  \n",
       "417089           Human herpesvirus 4 (Epstein Barr virus)      alpha  \n",
       "\n",
       "[67459 rows x 16 columns]"
      ]
     },
     "execution_count": 10,
     "metadata": {},
     "output_type": "execute_result"
    }
   ],
   "source": [
    "df.query('origin!=\"peptide_swapped\" and origin!=\"10x\"')"
   ]
  },
  {
   "cell_type": "markdown",
   "id": "f50d9ca3-fff6-4311-a845-f5e42882f797",
   "metadata": {},
   "source": [
    "# Try out mask approach from Copilot"
   ]
  },
  {
   "cell_type": "code",
   "execution_count": 46,
   "id": "1e82c175-199d-47fc-93d1-e4169e6763be",
   "metadata": {},
   "outputs": [],
   "source": [
    "from src.models import SequenceVAE\n",
    "\n",
    "# Also maybe peptide is not the right modality but we should have a joint A+B modality instead?\n",
    "from torch import nn\n",
    "from torch.utils.data import Dataset, DataLoader\n",
    "\n",
    "\n",
    "class TrimodalVAE(nn.Module):\n",
    "    def __init__(self, alpha_dim, beta_dim, pep_dim):\n",
    "        self.vae_alpha = SequenceVAE(alpha_dim)\n",
    "        self.vae_beta = SequenceVAE(beta_dim)\n",
    "        self.vae_pep = SequenceVAE(pep_dim)\n",
    "\n",
    "    \n",
    "    def forward(self, x_alpha, x_beta, x_pep, mask_alpha, mask_beta, mask_pep):\n",
    "        mu_alpha, logvar_alpha = self.vae_alpha.encode(x_alpha) if mask_alpha else None, None\n",
    "        mu_beta, logvar_beta = self.vae_beta.encode(x_beta) if mask_beta else None, None\n",
    "        mu_pep, logvar_pep = self.vae_pep.encode(x_pep) if mask_pep else None, None\n",
    "    \n",
    "        # Get the joint distribution from a product of experts to join the modalities\n",
    "        mus = [mu for mu in [mu_alpha, mu_beta, mu_pep] if mu is not None]\n",
    "        logvars = [logvar for logvar in [logvar_alpha, logvar_beta, logvar_pep] if logvar is not None]\n",
    "        mu_joint, logvar_joint = self.product_of_experts(mus, logvars)\n",
    "    \n",
    "        # Decode from the joint latent to capture information shared by the modalities\n",
    "        z = self.reparameterise(mu_joint, logvar_joint)\n",
    "        recon_alpha = self.vae_alpha.decode(z) if mask_alpha else None\n",
    "        recon_beta = self.vae_beta.decode(z) if mask_beta else None\n",
    "        recon_pep = self.vae_pep.decode(z) if mask_pep else None\n",
    "    \n",
    "        return recon_alpha, recon_beta, recon_pep, mu_joint, logvar_joint\n",
    "\n",
    "class TrimodalDataset(Dataset):\n",
    "    def __init__(self, df):\n",
    "        super(TrimodalDataset, self).__init__()\n",
    "        self.df = df\n",
    "\n",
    "    def __len__(self):\n",
    "        return len(self.df)\n",
    "\n",
    "    def __getitem__(self, idx):\n",
    "        row = self.df.iloc[idx]\n",
    "        # Should really create the sequence tensors and the mask first, then just \n",
    "        alpha = row['sequence_alpha']\n",
    "        beta = row['sequence_beta']\n",
    "        peptide = row['sequence_peptide']\n",
    "\n",
    "        # Compute mask values\n",
    "        mask_alpha = 1 if pd.notnull(alpha) else 0\n",
    "        mask_beta = 1 if pd.notnull(beta) else 0\n",
    "        mask_peptide = 1 if pd.notnull(peptide) else 0\n",
    "\n",
    "        return mask_alpha, mask_beta, mask_peptide\n",
    "\n"
   ]
  },
  {
   "cell_type": "code",
   "execution_count": 39,
   "id": "65495e20-168f-41e1-ac51-aa1d41aa0f32",
   "metadata": {},
   "outputs": [],
   "source": [
    "# Also need to handle how to pad : \n",
    "# Whether to pad the concatenated sequence at the end or pad first then concat\n",
    "df['sequence_alpha'] = df['A1']+df['A2']+df['A3']\n",
    "df['sequence_beta'] = df['B1']+df['B2']+df['B3']\n",
    "df['sequence_peptide'] = df['peptide']\n",
    "df['sequence_alpha'] = df['sequence_alpha'].apply(lambda x: np.nan if all([z==\"X\" for z in x]) else x)\n",
    "df['sequence_beta'] = df['sequence_beta'].apply(lambda x: np.nan if all([z==\"X\" for z in x]) else x)\n",
    "df['sequence_peptide'] = df['sequence_peptide'].apply(lambda x: np.nan if all([z==\"X\" for z in x]) else x)"
   ]
  },
  {
   "cell_type": "code",
   "execution_count": 151,
   "id": "0d3d9110-ecd5-4fc0-90a6-4704db2e59e2",
   "metadata": {
    "scrolled": true
   },
   "outputs": [
    {
     "ename": "KeyError",
     "evalue": "'X'",
     "output_type": "error",
     "traceback": [
      "\u001b[0;31m---------------------------------------------------------------------------\u001b[0m",
      "\u001b[0;31mKeyError\u001b[0m                                  Traceback (most recent call last)",
      "Cell \u001b[0;32mIn[151], line 1\u001b[0m\n\u001b[0;32m----> 1\u001b[0m \u001b[43mencode_batch\u001b[49m\u001b[43m(\u001b[49m\u001b[43m[\u001b[49m\u001b[38;5;124;43m'\u001b[39;49m\u001b[38;5;124;43mXXXXXXX\u001b[39;49m\u001b[38;5;124;43m'\u001b[39;49m\u001b[43m]\u001b[49m\u001b[43m,\u001b[49m\u001b[43m \u001b[49m\u001b[38;5;241;43m12\u001b[39;49m\u001b[43m,\u001b[49m\u001b[43m \u001b[49m\u001b[38;5;124;43m'\u001b[39;49m\u001b[38;5;124;43mBL50LO\u001b[39;49m\u001b[38;5;124;43m'\u001b[39;49m\u001b[43m,\u001b[49m\u001b[43m \u001b[49m\u001b[38;5;241;43m-\u001b[39;49m\u001b[38;5;241;43m20\u001b[39;49m\u001b[43m)\u001b[49m\n",
      "File \u001b[0;32m~/Documents/code/tclustr/src/data_processing.py:254\u001b[0m, in \u001b[0;36mencode_batch\u001b[0;34m(sequences, max_len, encoding, pad_scale)\u001b[0m\n\u001b[1;32m    252\u001b[0m     max_len \u001b[38;5;241m=\u001b[39m \u001b[38;5;28mmax\u001b[39m([\u001b[38;5;28mlen\u001b[39m(x) \u001b[38;5;28;01mfor\u001b[39;00m x \u001b[38;5;129;01min\u001b[39;00m sequences])\n\u001b[1;32m    253\u001b[0m \u001b[38;5;66;03m# Contiguous to allow for .view operation\u001b[39;00m\n\u001b[0;32m--> 254\u001b[0m \u001b[38;5;28;01mreturn\u001b[39;00m torch\u001b[38;5;241m.\u001b[39mstack(\u001b[43m[\u001b[49m\u001b[43mencode\u001b[49m\u001b[43m(\u001b[49m\u001b[43mseq\u001b[49m\u001b[43m,\u001b[49m\u001b[43m \u001b[49m\u001b[43mmax_len\u001b[49m\u001b[43m,\u001b[49m\u001b[43m \u001b[49m\u001b[43mencoding\u001b[49m\u001b[43m,\u001b[49m\u001b[43m \u001b[49m\u001b[43mpad_scale\u001b[49m\u001b[43m)\u001b[49m\u001b[43m \u001b[49m\u001b[38;5;28;43;01mfor\u001b[39;49;00m\u001b[43m \u001b[49m\u001b[43mseq\u001b[49m\u001b[43m \u001b[49m\u001b[38;5;129;43;01min\u001b[39;49;00m\u001b[43m \u001b[49m\u001b[43msequences\u001b[49m\u001b[43m]\u001b[49m)\u001b[38;5;241m.\u001b[39mcontiguous()\n",
      "File \u001b[0;32m~/Documents/code/tclustr/src/data_processing.py:254\u001b[0m, in \u001b[0;36m<listcomp>\u001b[0;34m(.0)\u001b[0m\n\u001b[1;32m    252\u001b[0m     max_len \u001b[38;5;241m=\u001b[39m \u001b[38;5;28mmax\u001b[39m([\u001b[38;5;28mlen\u001b[39m(x) \u001b[38;5;28;01mfor\u001b[39;00m x \u001b[38;5;129;01min\u001b[39;00m sequences])\n\u001b[1;32m    253\u001b[0m \u001b[38;5;66;03m# Contiguous to allow for .view operation\u001b[39;00m\n\u001b[0;32m--> 254\u001b[0m \u001b[38;5;28;01mreturn\u001b[39;00m torch\u001b[38;5;241m.\u001b[39mstack([\u001b[43mencode\u001b[49m\u001b[43m(\u001b[49m\u001b[43mseq\u001b[49m\u001b[43m,\u001b[49m\u001b[43m \u001b[49m\u001b[43mmax_len\u001b[49m\u001b[43m,\u001b[49m\u001b[43m \u001b[49m\u001b[43mencoding\u001b[49m\u001b[43m,\u001b[49m\u001b[43m \u001b[49m\u001b[43mpad_scale\u001b[49m\u001b[43m)\u001b[49m \u001b[38;5;28;01mfor\u001b[39;00m seq \u001b[38;5;129;01min\u001b[39;00m sequences])\u001b[38;5;241m.\u001b[39mcontiguous()\n",
      "File \u001b[0;32m~/Documents/code/tclustr/src/data_processing.py:228\u001b[0m, in \u001b[0;36mencode\u001b[0;34m(sequence, max_len, encoding, pad_scale)\u001b[0m\n\u001b[1;32m    226\u001b[0m     tmp \u001b[38;5;241m=\u001b[39m np\u001b[38;5;241m.\u001b[39mzeros([size, \u001b[38;5;28mlen\u001b[39m(AA_KEYS)], dtype\u001b[38;5;241m=\u001b[39mnp\u001b[38;5;241m.\u001b[39mfloat32)\n\u001b[1;32m    227\u001b[0m     \u001b[38;5;28;01mfor\u001b[39;00m idx \u001b[38;5;129;01min\u001b[39;00m \u001b[38;5;28mrange\u001b[39m(size):\n\u001b[0;32m--> 228\u001b[0m         tmp[idx, :] \u001b[38;5;241m=\u001b[39m \u001b[43mblosum_matrix\u001b[49m\u001b[43m[\u001b[49m\u001b[43msequence\u001b[49m\u001b[43m[\u001b[49m\u001b[43midx\u001b[49m\u001b[43m]\u001b[49m\u001b[43m]\u001b[49m\n\u001b[1;32m    230\u001b[0m \u001b[38;5;66;03m# Padding if max_len is provided\u001b[39;00m\n\u001b[1;32m    231\u001b[0m \u001b[38;5;28;01mif\u001b[39;00m max_len \u001b[38;5;129;01mis\u001b[39;00m \u001b[38;5;129;01mnot\u001b[39;00m \u001b[38;5;28;01mNone\u001b[39;00m \u001b[38;5;129;01mand\u001b[39;00m max_len \u001b[38;5;241m>\u001b[39m size:\n",
      "\u001b[0;31mKeyError\u001b[0m: 'X'"
     ]
    }
   ],
   "source": [
    "encode_batch(['XXXXXXX'], 12, 'BL50LO', -20)"
   ]
  },
  {
   "cell_type": "code",
   "execution_count": 51,
   "id": "329882ae-5041-4595-bd2d-8516b17c0cc7",
   "metadata": {},
   "outputs": [],
   "source": [
    "from torch.utils.data import SequentialSampler\n",
    "sample = df.sample(100)\n",
    "dataset = TrimodalDataset(sample)\n",
    "loader = DataLoader(dataset, batch_size=32, sampler=SequentialSampler(dataset))\n",
    "i=0\n",
    "for batch in loader:\n",
    "    break"
   ]
  },
  {
   "cell_type": "code",
   "execution_count": 53,
   "id": "da3d7c04-da56-46d9-8adb-a6ab68b4fbe8",
   "metadata": {},
   "outputs": [
    {
     "data": {
      "text/plain": [
       "torch.Size([32])"
      ]
     },
     "execution_count": 53,
     "metadata": {},
     "output_type": "execute_result"
    }
   ],
   "source": [
    "batch[0].shape"
   ]
  },
  {
   "cell_type": "code",
   "execution_count": 85,
   "id": "1220b297-e6b6-4f11-9d97-6aab30fca583",
   "metadata": {},
   "outputs": [
    {
     "data": {
      "text/plain": [
       "(torch.Size([1000, 1]),\n",
       " torch.Size([1000, 1]),\n",
       " torch.Size([1000, 1]),\n",
       " torch.Size([1000, 1]),\n",
       " torch.Size([]))"
      ]
     },
     "execution_count": 85,
     "metadata": {},
     "output_type": "execute_result"
    }
   ],
   "source": [
    "def mask_modality(tensor, mask):\n",
    "    return torch.where(mask.bool(), tensor, torch.zeros_like(tensor))\n",
    "\n",
    "layers = nn.Sequential(nn.Linear(100, 50), nn.ReLU(), nn.Linear(50, 1))\n",
    "x = torch.rand(1000, 100)\n",
    "y = torch.rand(1000, 1)\n",
    "criterion = nn.MSELoss(reduction='none')\n",
    "mask = torch.randint(0, 2, (1000,1)).float()\n",
    "optimizer = torch.optim.SGD(layers.parameters(), lr=1e-4)\n",
    "z = layers(x)\n",
    "loss = criterion(y,z)\n",
    "masked_loss = mask_modality(loss, mask)\n",
    "masked_loss = masked_loss.mean()\n",
    "\n",
    "optimizer.zero_grad()\n",
    "masked_loss.backward()\n",
    "optimizer.step()\n",
    "\n",
    "loss.shape, z.shape, y.shape, mask.shape, masked_loss.shape"
   ]
  },
  {
   "cell_type": "code",
   "execution_count": 98,
   "id": "81ebcc43-96a4-4e64-a182-6d4c817c2955",
   "metadata": {},
   "outputs": [
    {
     "data": {
      "text/plain": [
       "torch.Size([1000, 1])"
      ]
     },
     "execution_count": 98,
     "metadata": {},
     "output_type": "execute_result"
    }
   ],
   "source": [
    "torch.randint(0, 2, (1000,)).unsqueeze(1).shape"
   ]
  },
  {
   "cell_type": "code",
   "execution_count": 104,
   "id": "c2f85f07-edcc-44a8-b8e9-d60fbfcaa97f",
   "metadata": {},
   "outputs": [
    {
     "data": {
      "text/plain": [
       "(tensor([0.0872, 0.0000, 0.0000, 0.0605, 0.0000, 0.0000, 0.0067, 0.0000, 0.4428,\n",
       "         0.0000], grad_fn=<SelectBackward0>),\n",
       " tensor([1, 0, 0, 1, 0, 0, 1, 0, 1, 0]))"
      ]
     },
     "execution_count": 104,
     "metadata": {},
     "output_type": "execute_result"
    }
   ],
   "source": [
    "def mask_modality(tensor, mask):\n",
    "    \"\"\"\n",
    "    Check that the shapes match, and broadcast if needed in a very crude manner\n",
    "    Used for example to mask inputs or loss for datapoints with missing modalities\n",
    "    Assumes (and asserts) that mask has a dimensions <= tensor's dim\n",
    "    Args:\n",
    "        tensor: tensor to mask\n",
    "        mask: mask\n",
    "    Returns:\n",
    "        masked_tensor: same tensor but with some elements set to zero\n",
    "    \"\"\"\n",
    "    assert len(mask.shape)<= len(tensor.shape), f'Check mask/tensor dimensions! Mask: {mask.shape} ; Tensor : {tensor.shape}'\n",
    "    if mask.shape != tensor.shape:\n",
    "        while len(mask.shape)<len(tensor.shape):\n",
    "            mask = mask.unsqueeze(1)\n",
    "    return torch.where(mask.bool(), tensor, torch.zeros_like(tensor))\n",
    "mask2 = torch.randint(0, 2, (1000,))\n",
    "mask_modality(loss, mask2)[:10, 0], mask2[:10]"
   ]
  },
  {
   "cell_type": "code",
   "execution_count": 88,
   "id": "db0ea23a-49dd-442d-b3d5-2bf21a96e322",
   "metadata": {
    "scrolled": true
   },
   "outputs": [
    {
     "data": {
      "text/plain": [
       "(torch.Size([1000]), 1)"
      ]
     },
     "execution_count": 88,
     "metadata": {},
     "output_type": "execute_result"
    }
   ],
   "source": [
    "mask2 = torch.randint(0, 2, (1000,)).float()\n",
    "mask2.shape, len(mask2.shape)"
   ]
  },
  {
   "cell_type": "code",
   "execution_count": 95,
   "id": "442ca921-8d22-4cc1-81b7-f8b63be1880f",
   "metadata": {},
   "outputs": [
    {
     "data": {
      "text/plain": [
       "torch.Size([1000, 1000, 100])"
      ]
     },
     "execution_count": 95,
     "metadata": {},
     "output_type": "execute_result"
    }
   ],
   "source": [
    "mask = torch.randint(0, 2, (1000,1,1)).float()\n",
    "mask_modality(x, mask).shape"
   ]
  },
  {
   "cell_type": "code",
   "execution_count": 111,
   "id": "dab663c4-3396-4528-bef9-f16a92878245",
   "metadata": {},
   "outputs": [
    {
     "data": {
      "text/plain": [
       "tensor(-0.5567)"
      ]
     },
     "execution_count": 111,
     "metadata": {},
     "output_type": "execute_result"
    }
   ],
   "source": [
    "mu = torch.rand(100, 32)\n",
    "logvar = torch.rand(100, 32)\n",
    "kld = 1+logvar-mu.pow(2)-logvar.exp()\n",
    "torch.mean(kld)"
   ]
  },
  {
   "cell_type": "code",
   "execution_count": 112,
   "id": "c8d5e449-9e79-40f8-8351-533996460806",
   "metadata": {},
   "outputs": [
    {
     "data": {
      "text/plain": [
       "(torch.Size([100, 32]), torch.Size([100, 32]))"
      ]
     },
     "execution_count": 112,
     "metadata": {},
     "output_type": "execute_result"
    }
   ],
   "source": [
    "m1,m2,m3 = torch.rand(100,32),torch.rand(100,32),torch.rand(100,32)\n",
    "l1,l2,l3 = torch.rand(100,32),torch.rand(100,32),torch.rand(100,32)\n",
    "def product_of_experts(mus, logvars):\n",
    "    mu_poe = torch.sum(torch.stack(mus) / torch.exp(torch.stack(logvars)), dim=0) / torch.sum(\n",
    "        1. / torch.exp(torch.stack(logvars)), dim=0)\n",
    "    logvar_poe = -torch.log(torch.sum(1. / torch.exp(torch.stack(logvars)), dim=0))\n",
    "    return mu_poe, logvar_poe\n",
    "mp, lp = product_of_experts([m1,m2,m3], [l1,l2,l3])\n",
    "mp.shape, lp.shape"
   ]
  },
  {
   "cell_type": "code",
   "execution_count": null,
   "id": "e989a249-8081-471e-bf18-9c4c665bde87",
   "metadata": {},
   "outputs": [],
   "source": [
    "# Currently : dataset is constructed with XXX for missing datapoints : \n",
    "# Can feed in the \"noisy\" data and use mask to ignore specific datapoints for KLD and Reconstruction losses"
   ]
  },
  {
   "cell_type": "code",
   "execution_count": 114,
   "id": "af62d9cc-ced8-446a-851b-9ba0028a3e5e",
   "metadata": {},
   "outputs": [],
   "source": [
    "sample = df.sample(100)"
   ]
  },
  {
   "cell_type": "code",
   "execution_count": 156,
   "id": "b2fd4ac9-e312-4ca6-a6f3-9c206144a273",
   "metadata": {
    "scrolled": true
   },
   "outputs": [
    {
     "data": {
      "text/html": [
       "<div>\n",
       "<style scoped>\n",
       "    .dataframe tbody tr th:only-of-type {\n",
       "        vertical-align: middle;\n",
       "    }\n",
       "\n",
       "    .dataframe tbody tr th {\n",
       "        vertical-align: top;\n",
       "    }\n",
       "\n",
       "    .dataframe thead th {\n",
       "        text-align: right;\n",
       "    }\n",
       "</style>\n",
       "<table border=\"1\" class=\"dataframe\">\n",
       "  <thead>\n",
       "    <tr style=\"text-align: right;\">\n",
       "      <th></th>\n",
       "      <th>A1</th>\n",
       "      <th>A2</th>\n",
       "      <th>A3</th>\n",
       "      <th>flag_alpha</th>\n",
       "    </tr>\n",
       "  </thead>\n",
       "  <tbody>\n",
       "    <tr>\n",
       "      <th>182156</th>\n",
       "      <td>XXXXXXX</td>\n",
       "      <td>XXXXXXXX</td>\n",
       "      <td>XXXXXXXXXXXXXXXXXXXXXX</td>\n",
       "      <td>False</td>\n",
       "    </tr>\n",
       "    <tr>\n",
       "      <th>73059</th>\n",
       "      <td>XXXXXXX</td>\n",
       "      <td>XXXXXXXX</td>\n",
       "      <td>XXXXXXXXXXXXXXXXXXXXXX</td>\n",
       "      <td>False</td>\n",
       "    </tr>\n",
       "    <tr>\n",
       "      <th>253205</th>\n",
       "      <td>XXXXXXX</td>\n",
       "      <td>XXXXXXXX</td>\n",
       "      <td>XXXXXXXXXXXXXXXXXXXXXX</td>\n",
       "      <td>False</td>\n",
       "    </tr>\n",
       "    <tr>\n",
       "      <th>357326</th>\n",
       "      <td>VSPFSN</td>\n",
       "      <td>MTFSENT</td>\n",
       "      <td>VGGGTDKLI</td>\n",
       "      <td>True</td>\n",
       "    </tr>\n",
       "    <tr>\n",
       "      <th>34119</th>\n",
       "      <td>XXXXXXX</td>\n",
       "      <td>XXXXXXXX</td>\n",
       "      <td>XXXXXXXXXXXXXXXXXXXXXX</td>\n",
       "      <td>False</td>\n",
       "    </tr>\n",
       "  </tbody>\n",
       "</table>\n",
       "</div>"
      ],
      "text/plain": [
       "             A1        A2                      A3  flag_alpha\n",
       "182156  XXXXXXX  XXXXXXXX  XXXXXXXXXXXXXXXXXXXXXX       False\n",
       "73059   XXXXXXX  XXXXXXXX  XXXXXXXXXXXXXXXXXXXXXX       False\n",
       "253205  XXXXXXX  XXXXXXXX  XXXXXXXXXXXXXXXXXXXXXX       False\n",
       "357326   VSPFSN   MTFSENT               VGGGTDKLI        True\n",
       "34119   XXXXXXX  XXXXXXXX  XXXXXXXXXXXXXXXXXXXXXX       False"
      ]
     },
     "execution_count": 156,
     "metadata": {},
     "output_type": "execute_result"
    }
   ],
   "source": [
    "sample['flag_alpha'] = sample.apply(lambda x: not all([z=='X' for z in x['A1']+x['A2']+x['A3']]), axis=1)\n",
    "sample['flag_beta'] = sample.apply(lambda x: not all([z=='X' for z in x['B1']+x['B2']+x['B3']]), axis=1)\n",
    "# sample['flag_pep'] = ??\n",
    "sample[acols+['flag_alpha']].head()\n"
   ]
  },
  {
   "cell_type": "code",
   "execution_count": 123,
   "id": "d110c51a-3b1f-408a-aabd-f2ec219cead1",
   "metadata": {
    "collapsed": true,
    "jupyter": {
     "outputs_hidden": true
    },
    "scrolled": true
   },
   "outputs": [
    {
     "ename": "TypeError",
     "evalue": "unsupported operand type(s) for +: 'int' and 'str'",
     "output_type": "error",
     "traceback": [
      "\u001b[0;31m---------------------------------------------------------------------------\u001b[0m",
      "\u001b[0;31mTypeError\u001b[0m                                 Traceback (most recent call last)",
      "Cell \u001b[0;32mIn[123], line 2\u001b[0m\n\u001b[1;32m      1\u001b[0m acols \u001b[38;5;241m=\u001b[39m [\u001b[38;5;124m'\u001b[39m\u001b[38;5;124mA1\u001b[39m\u001b[38;5;124m'\u001b[39m, \u001b[38;5;124m'\u001b[39m\u001b[38;5;124mA2\u001b[39m\u001b[38;5;124m'\u001b[39m, \u001b[38;5;124m'\u001b[39m\u001b[38;5;124mA3\u001b[39m\u001b[38;5;124m'\u001b[39m]\n\u001b[0;32m----> 2\u001b[0m sample[\u001b[38;5;124m'\u001b[39m\u001b[38;5;124malpha_seq\u001b[39m\u001b[38;5;124m'\u001b[39m] \u001b[38;5;241m=\u001b[39m \u001b[43msample\u001b[49m\u001b[38;5;241;43m.\u001b[39;49m\u001b[43mapply\u001b[49m\u001b[43m(\u001b[49m\u001b[38;5;28;43;01mlambda\u001b[39;49;00m\u001b[43m \u001b[49m\u001b[43mx\u001b[49m\u001b[43m:\u001b[49m\u001b[43m \u001b[49m\u001b[38;5;28;43msum\u001b[39;49m\u001b[43m(\u001b[49m\u001b[43m[\u001b[49m\u001b[43mx\u001b[49m\u001b[43m[\u001b[49m\u001b[43mz\u001b[49m\u001b[43m]\u001b[49m\u001b[43m \u001b[49m\u001b[38;5;28;43;01mfor\u001b[39;49;00m\u001b[43m \u001b[49m\u001b[43mz\u001b[49m\u001b[43m \u001b[49m\u001b[38;5;129;43;01min\u001b[39;49;00m\u001b[43m \u001b[49m\u001b[43macols\u001b[49m\u001b[43m]\u001b[49m\u001b[43m)\u001b[49m\u001b[43m,\u001b[49m\u001b[43m \u001b[49m\u001b[43maxis\u001b[49m\u001b[38;5;241;43m=\u001b[39;49m\u001b[38;5;241;43m1\u001b[39;49m\u001b[43m)\u001b[49m\n",
      "File \u001b[0;32m~/opt/anaconda3/envs/pynn/lib/python3.11/site-packages/pandas/core/frame.py:9423\u001b[0m, in \u001b[0;36mDataFrame.apply\u001b[0;34m(self, func, axis, raw, result_type, args, **kwargs)\u001b[0m\n\u001b[1;32m   9412\u001b[0m \u001b[38;5;28;01mfrom\u001b[39;00m \u001b[38;5;21;01mpandas\u001b[39;00m\u001b[38;5;21;01m.\u001b[39;00m\u001b[38;5;21;01mcore\u001b[39;00m\u001b[38;5;21;01m.\u001b[39;00m\u001b[38;5;21;01mapply\u001b[39;00m \u001b[38;5;28;01mimport\u001b[39;00m frame_apply\n\u001b[1;32m   9414\u001b[0m op \u001b[38;5;241m=\u001b[39m frame_apply(\n\u001b[1;32m   9415\u001b[0m     \u001b[38;5;28mself\u001b[39m,\n\u001b[1;32m   9416\u001b[0m     func\u001b[38;5;241m=\u001b[39mfunc,\n\u001b[0;32m   (...)\u001b[0m\n\u001b[1;32m   9421\u001b[0m     kwargs\u001b[38;5;241m=\u001b[39mkwargs,\n\u001b[1;32m   9422\u001b[0m )\n\u001b[0;32m-> 9423\u001b[0m \u001b[38;5;28;01mreturn\u001b[39;00m \u001b[43mop\u001b[49m\u001b[38;5;241;43m.\u001b[39;49m\u001b[43mapply\u001b[49m\u001b[43m(\u001b[49m\u001b[43m)\u001b[49m\u001b[38;5;241m.\u001b[39m__finalize__(\u001b[38;5;28mself\u001b[39m, method\u001b[38;5;241m=\u001b[39m\u001b[38;5;124m\"\u001b[39m\u001b[38;5;124mapply\u001b[39m\u001b[38;5;124m\"\u001b[39m)\n",
      "File \u001b[0;32m~/opt/anaconda3/envs/pynn/lib/python3.11/site-packages/pandas/core/apply.py:678\u001b[0m, in \u001b[0;36mFrameApply.apply\u001b[0;34m(self)\u001b[0m\n\u001b[1;32m    675\u001b[0m \u001b[38;5;28;01melif\u001b[39;00m \u001b[38;5;28mself\u001b[39m\u001b[38;5;241m.\u001b[39mraw:\n\u001b[1;32m    676\u001b[0m     \u001b[38;5;28;01mreturn\u001b[39;00m \u001b[38;5;28mself\u001b[39m\u001b[38;5;241m.\u001b[39mapply_raw()\n\u001b[0;32m--> 678\u001b[0m \u001b[38;5;28;01mreturn\u001b[39;00m \u001b[38;5;28;43mself\u001b[39;49m\u001b[38;5;241;43m.\u001b[39;49m\u001b[43mapply_standard\u001b[49m\u001b[43m(\u001b[49m\u001b[43m)\u001b[49m\n",
      "File \u001b[0;32m~/opt/anaconda3/envs/pynn/lib/python3.11/site-packages/pandas/core/apply.py:798\u001b[0m, in \u001b[0;36mFrameApply.apply_standard\u001b[0;34m(self)\u001b[0m\n\u001b[1;32m    797\u001b[0m \u001b[38;5;28;01mdef\u001b[39;00m \u001b[38;5;21mapply_standard\u001b[39m(\u001b[38;5;28mself\u001b[39m):\n\u001b[0;32m--> 798\u001b[0m     results, res_index \u001b[38;5;241m=\u001b[39m \u001b[38;5;28;43mself\u001b[39;49m\u001b[38;5;241;43m.\u001b[39;49m\u001b[43mapply_series_generator\u001b[49m\u001b[43m(\u001b[49m\u001b[43m)\u001b[49m\n\u001b[1;32m    800\u001b[0m     \u001b[38;5;66;03m# wrap results\u001b[39;00m\n\u001b[1;32m    801\u001b[0m     \u001b[38;5;28;01mreturn\u001b[39;00m \u001b[38;5;28mself\u001b[39m\u001b[38;5;241m.\u001b[39mwrap_results(results, res_index)\n",
      "File \u001b[0;32m~/opt/anaconda3/envs/pynn/lib/python3.11/site-packages/pandas/core/apply.py:814\u001b[0m, in \u001b[0;36mFrameApply.apply_series_generator\u001b[0;34m(self)\u001b[0m\n\u001b[1;32m    811\u001b[0m \u001b[38;5;28;01mwith\u001b[39;00m option_context(\u001b[38;5;124m\"\u001b[39m\u001b[38;5;124mmode.chained_assignment\u001b[39m\u001b[38;5;124m\"\u001b[39m, \u001b[38;5;28;01mNone\u001b[39;00m):\n\u001b[1;32m    812\u001b[0m     \u001b[38;5;28;01mfor\u001b[39;00m i, v \u001b[38;5;129;01min\u001b[39;00m \u001b[38;5;28menumerate\u001b[39m(series_gen):\n\u001b[1;32m    813\u001b[0m         \u001b[38;5;66;03m# ignore SettingWithCopy here in case the user mutates\u001b[39;00m\n\u001b[0;32m--> 814\u001b[0m         results[i] \u001b[38;5;241m=\u001b[39m \u001b[38;5;28;43mself\u001b[39;49m\u001b[38;5;241;43m.\u001b[39;49m\u001b[43mf\u001b[49m\u001b[43m(\u001b[49m\u001b[43mv\u001b[49m\u001b[43m)\u001b[49m\n\u001b[1;32m    815\u001b[0m         \u001b[38;5;28;01mif\u001b[39;00m \u001b[38;5;28misinstance\u001b[39m(results[i], ABCSeries):\n\u001b[1;32m    816\u001b[0m             \u001b[38;5;66;03m# If we have a view on v, we need to make a copy because\u001b[39;00m\n\u001b[1;32m    817\u001b[0m             \u001b[38;5;66;03m#  series_generator will swap out the underlying data\u001b[39;00m\n\u001b[1;32m    818\u001b[0m             results[i] \u001b[38;5;241m=\u001b[39m results[i]\u001b[38;5;241m.\u001b[39mcopy(deep\u001b[38;5;241m=\u001b[39m\u001b[38;5;28;01mFalse\u001b[39;00m)\n",
      "Cell \u001b[0;32mIn[123], line 2\u001b[0m, in \u001b[0;36m<lambda>\u001b[0;34m(x)\u001b[0m\n\u001b[1;32m      1\u001b[0m acols \u001b[38;5;241m=\u001b[39m [\u001b[38;5;124m'\u001b[39m\u001b[38;5;124mA1\u001b[39m\u001b[38;5;124m'\u001b[39m, \u001b[38;5;124m'\u001b[39m\u001b[38;5;124mA2\u001b[39m\u001b[38;5;124m'\u001b[39m, \u001b[38;5;124m'\u001b[39m\u001b[38;5;124mA3\u001b[39m\u001b[38;5;124m'\u001b[39m]\n\u001b[0;32m----> 2\u001b[0m sample[\u001b[38;5;124m'\u001b[39m\u001b[38;5;124malpha_seq\u001b[39m\u001b[38;5;124m'\u001b[39m] \u001b[38;5;241m=\u001b[39m sample\u001b[38;5;241m.\u001b[39mapply(\u001b[38;5;28;01mlambda\u001b[39;00m x: \u001b[38;5;28;43msum\u001b[39;49m\u001b[43m(\u001b[49m\u001b[43m[\u001b[49m\u001b[43mx\u001b[49m\u001b[43m[\u001b[49m\u001b[43mz\u001b[49m\u001b[43m]\u001b[49m\u001b[43m \u001b[49m\u001b[38;5;28;43;01mfor\u001b[39;49;00m\u001b[43m \u001b[49m\u001b[43mz\u001b[49m\u001b[43m \u001b[49m\u001b[38;5;129;43;01min\u001b[39;49;00m\u001b[43m \u001b[49m\u001b[43macols\u001b[49m\u001b[43m]\u001b[49m\u001b[43m)\u001b[49m, axis\u001b[38;5;241m=\u001b[39m\u001b[38;5;241m1\u001b[39m)\n",
      "\u001b[0;31mTypeError\u001b[0m: unsupported operand type(s) for +: 'int' and 'str'"
     ]
    }
   ],
   "source": [
    "acols = ['A1', 'A2', 'A3']\n",
    "sample['alpha_seq'] = sample.apply(lambda x: sum([x[z] for z in acols]), axis=1)"
   ]
  },
  {
   "cell_type": "code",
   "execution_count": 134,
   "id": "98ae8924-f3f3-43a3-b5d2-3ba881b3c6ff",
   "metadata": {
    "jupyter": {
     "source_hidden": true
    }
   },
   "outputs": [],
   "source": [
    "x_recon = torch.rand((100, 50))\n",
    "x_true = torch.rand((100,50))\n",
    "xmask = torch.randint(0,2, (100,1))\n",
    "\n",
    "def mask_modality(tensor, mask, fill_value: float = 0.):\n",
    "    \"\"\"\n",
    "    Check that the shapes match, and broadcast if needed in a very crude manner\n",
    "    Used for example to mask inputs or loss for datapoints with missing modalities\n",
    "    Assumes (and asserts) that mask has a dimensions <= tensor's dim\n",
    "    Args:\n",
    "        tensor: tensor to mask\n",
    "        mask: Binary mask, should be binary and at least have the same number of elements as tensor (shape[0])\n",
    "        fill_value (float): value with which to fill the masked version of the tensor. Use 0 when disabling gradients\n",
    "                            Could be another value to make it easier to mask a reconstructed sequence tensor.\n",
    "                            For example (ex set to -99) then use tensor[tensor!=-99] to index\n",
    "    Returns:\n",
    "        masked_tensor: same tensor but with some elements set to zero\n",
    "    \"\"\"\n",
    "    assert len(mask.shape) <= len(tensor.shape) and mask.shape[0] == tensor.shape[\n",
    "        0], f'Check mask/tensor dimensions! Mask: {mask.shape} ; Tensor : {tensor.shape}'\n",
    "    if mask.shape != tensor.shape:\n",
    "        while len(mask.shape) < len(tensor.shape):\n",
    "            mask = mask.unsqueeze(1)\n",
    "\n",
    "    return torch.where(mask.bool(), tensor, torch.full_like(tensor, fill_value))\n",
    "x_recon_masked = mask_modality(x_recon, xmask, 50)\n",
    "x_true_masked = mask_modality(x_true, xmask, 50)"
   ]
  },
  {
   "cell_type": "code",
   "execution_count": 149,
   "id": "c75a28d5-7c1f-44a8-a197-28308deb5fb9",
   "metadata": {},
   "outputs": [
    {
     "data": {
      "text/plain": [
       "torch.Size([45, 50])"
      ]
     },
     "execution_count": 149,
     "metadata": {},
     "output_type": "execute_result"
    }
   ],
   "source": [
    "x_recon_masked[(x_recon_masked!=50)[:, 0]].shape"
   ]
  },
  {
   "cell_type": "code",
   "execution_count": 159,
   "id": "24a10b12-c770-4cc4-a46d-4e9f930e14fb",
   "metadata": {},
   "outputs": [
    {
     "data": {
      "text/plain": [
       "torch.Size([100])"
      ]
     },
     "execution_count": 159,
     "metadata": {},
     "output_type": "execute_result"
    }
   ],
   "source": [
    "alpha_mask = torch.from_numpy(sample['flag_alpha'].values)\n",
    "alpha_mask.shape"
   ]
  },
  {
   "cell_type": "code",
   "execution_count": 174,
   "id": "6bed7848-5790-4df4-a67c-c367d89e5e03",
   "metadata": {},
   "outputs": [
    {
     "data": {
      "text/plain": [
       "\u001b[0;31mSignature:\u001b[0m\n",
       "\u001b[0mF\u001b[0m\u001b[0;34m.\u001b[0m\u001b[0mmse_loss\u001b[0m\u001b[0;34m(\u001b[0m\u001b[0;34m\u001b[0m\n",
       "\u001b[0;34m\u001b[0m    \u001b[0minput\u001b[0m\u001b[0;34m:\u001b[0m \u001b[0mtorch\u001b[0m\u001b[0;34m.\u001b[0m\u001b[0mTensor\u001b[0m\u001b[0;34m,\u001b[0m\u001b[0;34m\u001b[0m\n",
       "\u001b[0;34m\u001b[0m    \u001b[0mtarget\u001b[0m\u001b[0;34m:\u001b[0m \u001b[0mtorch\u001b[0m\u001b[0;34m.\u001b[0m\u001b[0mTensor\u001b[0m\u001b[0;34m,\u001b[0m\u001b[0;34m\u001b[0m\n",
       "\u001b[0;34m\u001b[0m    \u001b[0msize_average\u001b[0m\u001b[0;34m:\u001b[0m \u001b[0mOptional\u001b[0m\u001b[0;34m[\u001b[0m\u001b[0mbool\u001b[0m\u001b[0;34m]\u001b[0m \u001b[0;34m=\u001b[0m \u001b[0;32mNone\u001b[0m\u001b[0;34m,\u001b[0m\u001b[0;34m\u001b[0m\n",
       "\u001b[0;34m\u001b[0m    \u001b[0mreduce\u001b[0m\u001b[0;34m:\u001b[0m \u001b[0mOptional\u001b[0m\u001b[0;34m[\u001b[0m\u001b[0mbool\u001b[0m\u001b[0;34m]\u001b[0m \u001b[0;34m=\u001b[0m \u001b[0;32mNone\u001b[0m\u001b[0;34m,\u001b[0m\u001b[0;34m\u001b[0m\n",
       "\u001b[0;34m\u001b[0m    \u001b[0mreduction\u001b[0m\u001b[0;34m:\u001b[0m \u001b[0mstr\u001b[0m \u001b[0;34m=\u001b[0m \u001b[0;34m'mean'\u001b[0m\u001b[0;34m,\u001b[0m\u001b[0;34m\u001b[0m\n",
       "\u001b[0;34m\u001b[0m\u001b[0;34m)\u001b[0m \u001b[0;34m->\u001b[0m \u001b[0mtorch\u001b[0m\u001b[0;34m.\u001b[0m\u001b[0mTensor\u001b[0m\u001b[0;34m\u001b[0m\u001b[0;34m\u001b[0m\u001b[0m\n",
       "\u001b[0;31mSource:\u001b[0m   \n",
       "\u001b[0;32mdef\u001b[0m \u001b[0mmse_loss\u001b[0m\u001b[0;34m(\u001b[0m\u001b[0;34m\u001b[0m\n",
       "\u001b[0;34m\u001b[0m    \u001b[0minput\u001b[0m\u001b[0;34m:\u001b[0m \u001b[0mTensor\u001b[0m\u001b[0;34m,\u001b[0m\u001b[0;34m\u001b[0m\n",
       "\u001b[0;34m\u001b[0m    \u001b[0mtarget\u001b[0m\u001b[0;34m:\u001b[0m \u001b[0mTensor\u001b[0m\u001b[0;34m,\u001b[0m\u001b[0;34m\u001b[0m\n",
       "\u001b[0;34m\u001b[0m    \u001b[0msize_average\u001b[0m\u001b[0;34m:\u001b[0m \u001b[0mOptional\u001b[0m\u001b[0;34m[\u001b[0m\u001b[0mbool\u001b[0m\u001b[0;34m]\u001b[0m \u001b[0;34m=\u001b[0m \u001b[0;32mNone\u001b[0m\u001b[0;34m,\u001b[0m\u001b[0;34m\u001b[0m\n",
       "\u001b[0;34m\u001b[0m    \u001b[0mreduce\u001b[0m\u001b[0;34m:\u001b[0m \u001b[0mOptional\u001b[0m\u001b[0;34m[\u001b[0m\u001b[0mbool\u001b[0m\u001b[0;34m]\u001b[0m \u001b[0;34m=\u001b[0m \u001b[0;32mNone\u001b[0m\u001b[0;34m,\u001b[0m\u001b[0;34m\u001b[0m\n",
       "\u001b[0;34m\u001b[0m    \u001b[0mreduction\u001b[0m\u001b[0;34m:\u001b[0m \u001b[0mstr\u001b[0m \u001b[0;34m=\u001b[0m \u001b[0;34m\"mean\"\u001b[0m\u001b[0;34m,\u001b[0m\u001b[0;34m\u001b[0m\n",
       "\u001b[0;34m\u001b[0m\u001b[0;34m)\u001b[0m \u001b[0;34m->\u001b[0m \u001b[0mTensor\u001b[0m\u001b[0;34m:\u001b[0m\u001b[0;34m\u001b[0m\n",
       "\u001b[0;34m\u001b[0m    \u001b[0;34mr\"\"\"mse_loss(input, target, size_average=None, reduce=None, reduction='mean') -> Tensor\u001b[0m\n",
       "\u001b[0;34m\u001b[0m\n",
       "\u001b[0;34m    Measures the element-wise mean squared error.\u001b[0m\n",
       "\u001b[0;34m\u001b[0m\n",
       "\u001b[0;34m    See :class:`~torch.nn.MSELoss` for details.\u001b[0m\n",
       "\u001b[0;34m    \"\"\"\u001b[0m\u001b[0;34m\u001b[0m\n",
       "\u001b[0;34m\u001b[0m    \u001b[0;32mif\u001b[0m \u001b[0mhas_torch_function_variadic\u001b[0m\u001b[0;34m(\u001b[0m\u001b[0minput\u001b[0m\u001b[0;34m,\u001b[0m \u001b[0mtarget\u001b[0m\u001b[0;34m)\u001b[0m\u001b[0;34m:\u001b[0m\u001b[0;34m\u001b[0m\n",
       "\u001b[0;34m\u001b[0m        \u001b[0;32mreturn\u001b[0m \u001b[0mhandle_torch_function\u001b[0m\u001b[0;34m(\u001b[0m\u001b[0;34m\u001b[0m\n",
       "\u001b[0;34m\u001b[0m            \u001b[0mmse_loss\u001b[0m\u001b[0;34m,\u001b[0m \u001b[0;34m(\u001b[0m\u001b[0minput\u001b[0m\u001b[0;34m,\u001b[0m \u001b[0mtarget\u001b[0m\u001b[0;34m)\u001b[0m\u001b[0;34m,\u001b[0m \u001b[0minput\u001b[0m\u001b[0;34m,\u001b[0m \u001b[0mtarget\u001b[0m\u001b[0;34m,\u001b[0m \u001b[0msize_average\u001b[0m\u001b[0;34m=\u001b[0m\u001b[0msize_average\u001b[0m\u001b[0;34m,\u001b[0m \u001b[0mreduce\u001b[0m\u001b[0;34m=\u001b[0m\u001b[0mreduce\u001b[0m\u001b[0;34m,\u001b[0m \u001b[0mreduction\u001b[0m\u001b[0;34m=\u001b[0m\u001b[0mreduction\u001b[0m\u001b[0;34m\u001b[0m\n",
       "\u001b[0;34m\u001b[0m        \u001b[0;34m)\u001b[0m\u001b[0;34m\u001b[0m\n",
       "\u001b[0;34m\u001b[0m    \u001b[0;32mif\u001b[0m \u001b[0;32mnot\u001b[0m \u001b[0;34m(\u001b[0m\u001b[0mtarget\u001b[0m\u001b[0;34m.\u001b[0m\u001b[0msize\u001b[0m\u001b[0;34m(\u001b[0m\u001b[0;34m)\u001b[0m \u001b[0;34m==\u001b[0m \u001b[0minput\u001b[0m\u001b[0;34m.\u001b[0m\u001b[0msize\u001b[0m\u001b[0;34m(\u001b[0m\u001b[0;34m)\u001b[0m\u001b[0;34m)\u001b[0m\u001b[0;34m:\u001b[0m\u001b[0;34m\u001b[0m\n",
       "\u001b[0;34m\u001b[0m        \u001b[0mwarnings\u001b[0m\u001b[0;34m.\u001b[0m\u001b[0mwarn\u001b[0m\u001b[0;34m(\u001b[0m\u001b[0;34m\u001b[0m\n",
       "\u001b[0;34m\u001b[0m            \u001b[0;34m\"Using a target size ({}) that is different to the input size ({}). \"\u001b[0m\u001b[0;34m\u001b[0m\n",
       "\u001b[0;34m\u001b[0m            \u001b[0;34m\"This will likely lead to incorrect results due to broadcasting. \"\u001b[0m\u001b[0;34m\u001b[0m\n",
       "\u001b[0;34m\u001b[0m            \u001b[0;34m\"Please ensure they have the same size.\"\u001b[0m\u001b[0;34m.\u001b[0m\u001b[0mformat\u001b[0m\u001b[0;34m(\u001b[0m\u001b[0mtarget\u001b[0m\u001b[0;34m.\u001b[0m\u001b[0msize\u001b[0m\u001b[0;34m(\u001b[0m\u001b[0;34m)\u001b[0m\u001b[0;34m,\u001b[0m \u001b[0minput\u001b[0m\u001b[0;34m.\u001b[0m\u001b[0msize\u001b[0m\u001b[0;34m(\u001b[0m\u001b[0;34m)\u001b[0m\u001b[0;34m)\u001b[0m\u001b[0;34m,\u001b[0m\u001b[0;34m\u001b[0m\n",
       "\u001b[0;34m\u001b[0m            \u001b[0mstacklevel\u001b[0m\u001b[0;34m=\u001b[0m\u001b[0;36m2\u001b[0m\u001b[0;34m,\u001b[0m\u001b[0;34m\u001b[0m\n",
       "\u001b[0;34m\u001b[0m        \u001b[0;34m)\u001b[0m\u001b[0;34m\u001b[0m\n",
       "\u001b[0;34m\u001b[0m    \u001b[0;32mif\u001b[0m \u001b[0msize_average\u001b[0m \u001b[0;32mis\u001b[0m \u001b[0;32mnot\u001b[0m \u001b[0;32mNone\u001b[0m \u001b[0;32mor\u001b[0m \u001b[0mreduce\u001b[0m \u001b[0;32mis\u001b[0m \u001b[0;32mnot\u001b[0m \u001b[0;32mNone\u001b[0m\u001b[0;34m:\u001b[0m\u001b[0;34m\u001b[0m\n",
       "\u001b[0;34m\u001b[0m        \u001b[0mreduction\u001b[0m \u001b[0;34m=\u001b[0m \u001b[0m_Reduction\u001b[0m\u001b[0;34m.\u001b[0m\u001b[0mlegacy_get_string\u001b[0m\u001b[0;34m(\u001b[0m\u001b[0msize_average\u001b[0m\u001b[0;34m,\u001b[0m \u001b[0mreduce\u001b[0m\u001b[0;34m)\u001b[0m\u001b[0;34m\u001b[0m\n",
       "\u001b[0;34m\u001b[0m\u001b[0;34m\u001b[0m\n",
       "\u001b[0;34m\u001b[0m    \u001b[0mexpanded_input\u001b[0m\u001b[0;34m,\u001b[0m \u001b[0mexpanded_target\u001b[0m \u001b[0;34m=\u001b[0m \u001b[0mtorch\u001b[0m\u001b[0;34m.\u001b[0m\u001b[0mbroadcast_tensors\u001b[0m\u001b[0;34m(\u001b[0m\u001b[0minput\u001b[0m\u001b[0;34m,\u001b[0m \u001b[0mtarget\u001b[0m\u001b[0;34m)\u001b[0m\u001b[0;34m\u001b[0m\n",
       "\u001b[0;34m\u001b[0m    \u001b[0;32mreturn\u001b[0m \u001b[0mtorch\u001b[0m\u001b[0;34m.\u001b[0m\u001b[0m_C\u001b[0m\u001b[0;34m.\u001b[0m\u001b[0m_nn\u001b[0m\u001b[0;34m.\u001b[0m\u001b[0mmse_loss\u001b[0m\u001b[0;34m(\u001b[0m\u001b[0mexpanded_input\u001b[0m\u001b[0;34m,\u001b[0m \u001b[0mexpanded_target\u001b[0m\u001b[0;34m,\u001b[0m \u001b[0m_Reduction\u001b[0m\u001b[0;34m.\u001b[0m\u001b[0mget_enum\u001b[0m\u001b[0;34m(\u001b[0m\u001b[0mreduction\u001b[0m\u001b[0;34m)\u001b[0m\u001b[0;34m)\u001b[0m\u001b[0;34m\u001b[0m\u001b[0;34m\u001b[0m\u001b[0m\n",
       "\u001b[0;31mFile:\u001b[0m      ~/opt/anaconda3/envs/pynn/lib/python3.11/site-packages/torch/nn/functional.py\n",
       "\u001b[0;31mType:\u001b[0m      function"
      ]
     },
     "metadata": {},
     "output_type": "display_data"
    }
   ],
   "source": [
    "F.mse_loss??"
   ]
  },
  {
   "cell_type": "code",
   "execution_count": 166,
   "id": "fdc05d98-f8aa-47d3-98d6-fdc4b459c286",
   "metadata": {},
   "outputs": [
    {
     "data": {
      "text/plain": [
       "tensor([False, False, False,  True, False, False, False, False, False, False,\n",
       "         True, False,  True, False, False, False, False, False, False,  True,\n",
       "        False, False,  True, False, False, False, False, False,  True, False,\n",
       "        False,  True, False,  True,  True,  True, False,  True, False,  True,\n",
       "         True, False, False, False, False, False, False, False, False, False,\n",
       "        False, False, False,  True, False,  True, False, False, False, False,\n",
       "        False, False,  True, False, False, False,  True, False,  True, False,\n",
       "         True,  True, False, False, False, False,  True, False,  True,  True,\n",
       "         True, False, False,  True, False,  True,  True,  True, False,  True,\n",
       "         True,  True, False, False, False, False,  True, False, False, False])"
      ]
     },
     "execution_count": 166,
     "metadata": {},
     "output_type": "execute_result"
    }
   ],
   "source": [
    "torch.from_numpy(sample[acols].sum(axis=1).apply(lambda x: not all([z==\"X\" for z in x])).values)"
   ]
  },
  {
   "cell_type": "code",
   "execution_count": 163,
   "id": "ad619136-a808-496a-9383-224a50060dbf",
   "metadata": {},
   "outputs": [
    {
     "data": {
      "text/plain": [
       "tensor([False, False, False,  True, False, False, False, False, False, False,\n",
       "         True, False,  True, False, False, False, False, False, False,  True,\n",
       "        False, False,  True, False, False, False, False, False,  True, False,\n",
       "        False,  True, False,  True,  True,  True, False,  True, False,  True,\n",
       "         True, False, False, False, False, False, False, False, False, False,\n",
       "        False, False, False,  True, False,  True, False, False, False, False,\n",
       "        False, False,  True, False, False, False,  True, False,  True, False,\n",
       "         True,  True, False, False, False, False,  True, False,  True,  True,\n",
       "         True, False, False,  True, False,  True,  True,  True, False,  True,\n",
       "         True,  True, False, False, False, False,  True, False, False, False])"
      ]
     },
     "execution_count": 163,
     "metadata": {},
     "output_type": "execute_result"
    }
   ],
   "source": [
    "alpha_mask"
   ]
  },
  {
   "cell_type": "code",
   "execution_count": 168,
   "id": "9e49a1eb-0c8d-4067-a852-349a80efc84e",
   "metadata": {},
   "outputs": [],
   "source": [
    "x = mask_modality(torch.rand(100,50), alpha_mask, torch.nan)[:10]"
   ]
  },
  {
   "cell_type": "code",
   "execution_count": 171,
   "id": "0d77d55d-85e4-4f9a-9a00-9ee1a6587376",
   "metadata": {},
   "outputs": [
    {
     "data": {
      "text/plain": [
       "tensor([   nan,    nan,    nan, 0.4890,    nan,    nan,    nan,    nan,    nan,\n",
       "           nan])"
      ]
     },
     "execution_count": 171,
     "metadata": {},
     "output_type": "execute_result"
    }
   ],
   "source": [
    "x.nanmean(axis=1)"
   ]
  }
 ],
 "metadata": {
  "kernelspec": {
   "display_name": "Python [conda env:pynn] *",
   "language": "python",
   "name": "conda-env-pynn-py"
  },
  "language_info": {
   "codemirror_mode": {
    "name": "ipython",
    "version": 3
   },
   "file_extension": ".py",
   "mimetype": "text/x-python",
   "name": "python",
   "nbconvert_exporter": "python",
   "pygments_lexer": "ipython3",
   "version": "3.11.5"
  }
 },
 "nbformat": 4,
 "nbformat_minor": 5
}
