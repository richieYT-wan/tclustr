{
 "cells": [
  {
   "cell_type": "code",
   "execution_count": 1,
   "id": "cognitive-sandwich",
   "metadata": {},
   "outputs": [
    {
     "name": "stdout",
     "output_type": "stream",
     "text": [
      "Using : cuda\n"
     ]
    }
   ],
   "source": [
    "from __future__ import print_function, division\n",
    "#Allows relative imports\n",
    "import os, sys\n",
    "module_path = os.path.abspath(os.path.join('..'))\n",
    "if module_path not in sys.path:\n",
    "    sys.path.append(module_path)\n",
    "#imports from files\n",
    "from src.preprocessing import *\n",
    "from src.train_eval_helpers import *\n",
    "from src.VAE_train import *\n",
    "\n",
    "from src.vautoencoders import *\n",
    "#from loss_metrics import *\n",
    "from src.plots import *\n",
    "from src.pickling import *\n",
    "from src.datasets import *\n",
    "\n",
    "import pandas as pd \n",
    "import numpy as np\n",
    "import math\n",
    "\n",
    "import torch\n",
    "import torch.nn as nn\n",
    "import torch.nn.functional as F\n",
    "from torch.utils.data import Dataset, DataLoader\n",
    "\n",
    "#checking gpu status\n",
    "if torch.cuda.is_available():\n",
    "    device = torch.device('cuda')\n",
    "    print(\"Using : {}\".format(device))\n",
    "else:\n",
    "    device = torch.device('cpu')\n",
    "    print(\"Using : {}\".format(device))\n",
    "    \n",
    "#Plot and stuff\n",
    "import seaborn as sns\n",
    "import matplotlib as mpl\n",
    "import matplotlib.pyplot as plt\n",
    "mpl.rcParams['figure.dpi']= 300\n",
    "sns.set_style('darkgrid')\n",
    "\n",
    "\n",
    "# Ignore warnings)\n",
    "import warnings\n",
    "warnings.filterwarnings(\"ignore\")\n",
    "    \n",
    "%load_ext autoreload\n",
    "%autoreload 2"
   ]
  },
  {
   "cell_type": "code",
   "execution_count": 2,
   "id": "necessary-paris",
   "metadata": {},
   "outputs": [],
   "source": [
    "train_dataset, valid_dataset, test_dataset  = load_naive_dataset('../training_data_new/db_TRB.csv')"
   ]
  },
  {
   "cell_type": "markdown",
   "id": "personalized-guess",
   "metadata": {},
   "source": [
    "## Now, try to reproduce and retrain the best model I got (no manual tuning)\n",
    "- with the full dataset and smaller LR\n",
    "- latent dim = 40\n",
    "- act = nn.SELU()\n",
    "- weight decay ~= LR\n",
    "- weighted labeling (= 1.6)"
   ]
  },
  {
   "cell_type": "code",
   "execution_count": 48,
   "id": "dressed-portuguese",
   "metadata": {
    "jupyter": {
     "source_hidden": true
    }
   },
   "outputs": [],
   "source": [
    "ls = list('CASSLYNGEQFFXXXX')\n",
    "ls[-4] = 'X1'\n",
    "ls[-3] = 'X2'\n",
    "ls[-2] = 'X3'\n",
    "ls[-1] = 'X4'"
   ]
  },
  {
   "cell_type": "code",
   "execution_count": 66,
   "id": "possible-modification",
   "metadata": {
    "jupyter": {
     "source_hidden": true
    }
   },
   "outputs": [],
   "source": [
    "df = pd.DataFrame(columns = ls, index = ['X', 'A', 'C', '...', 'Y', 'N-term','centre','C-term','pad'])\n",
    "#df = df.rename(columns= {}\n",
    "df.loc['...'] = '...'\n",
    "df.loc['X'] = [0]*12 + 4*[0]\n",
    "df.loc['A'] = [0]*1 + 1*[1] + 14*[0]\n",
    "df.loc['C'] = [1]*1 + 15*[0]\n",
    "df.loc['Y'] = [0]*5 + 1 * [1] + 10*[0]\n",
    "df.loc['N-term'] = 4*[1] + 12*[0]\n",
    "df.loc['centre'] = 4*[0]+ 4*[1] + 8*[0]\n",
    "df.loc['C-term'] = 8*[0] + 4*[1] + 4*[0]\n",
    "df.loc['pad'] = 12*[0] + 4*[1]"
   ]
  },
  {
   "cell_type": "code",
   "execution_count": 6,
   "id": "defined-wrong",
   "metadata": {},
   "outputs": [],
   "source": [
    "nb_epochs = 25\n",
    "latent_dim = 40\n",
    "batchsize = 2**15\n",
    "lr = 1e-3\n",
    "adaptive = (3, 0.95)\n",
    "\n",
    "\n",
    "model_redo = AutoEncoder(latent_dim = latent_dim, aa_dim = 21, \n",
    "                             seq_len = 23, act = nn.SELU())\n",
    "\n",
    "model_redo.to(device)\n",
    "optimizer = torch.optim.AdamW(model_redo.parameters(), lr = lr, weight_decay=1e-3)\n",
    "criterion = nn.MSELoss()\n",
    "\n",
    "name = '_'.join(['NormalAE','redo-weighted','WD','latdim'+str(latent_dim),\n",
    "                 f'adaptive{adaptive[0]}-{adaptive[1]}','lr'+str(lr)])"
   ]
  },
  {
   "cell_type": "code",
   "execution_count": 3,
   "id": "seven-qatar",
   "metadata": {
    "scrolled": true
   },
   "outputs": [
    {
     "name": "stdout",
     "output_type": "stream",
     "text": [
      "\n",
      "For model : NormalAE_redo-weighted_WD_latdim40_adaptive3-0.95_lr0.001\n"
     ]
    },
    {
     "data": {
      "application/vnd.jupyter.widget-view+json": {
       "model_id": "",
       "version_major": 2,
       "version_minor": 0
      },
      "text/plain": [
       "  0%|          | 0/20 [00:00<?, ?it/s]"
      ]
     },
     "metadata": {},
     "output_type": "display_data"
    },
    {
     "data": {
      "application/vnd.jupyter.widget-view+json": {
       "model_id": "",
       "version_major": 2,
       "version_minor": 0
      },
      "text/plain": [
       "Train Batch, epoch 0::   0%|          | 0/98 [00:00<?, ?it/s]"
      ]
     },
     "metadata": {},
     "output_type": "display_data"
    },
    {
     "data": {
      "application/vnd.jupyter.widget-view+json": {
       "model_id": "",
       "version_major": 2,
       "version_minor": 0
      },
      "text/plain": [
       "Valid batch:   0%|          | 0/35 [00:00<?, ?it/s]"
      ]
     },
     "metadata": {},
     "output_type": "display_data"
    },
    {
     "name": "stdout",
     "output_type": "stream",
     "text": [
      "\tLosses at 0 epochs: \tTRAIN:0.02367617618482636\tVAL:0.012538785114884377\n"
     ]
    },
    {
     "data": {
      "application/vnd.jupyter.widget-view+json": {
       "model_id": "",
       "version_major": 2,
       "version_minor": 0
      },
      "text/plain": [
       "Train Batch, epoch 1::   0%|          | 0/98 [00:00<?, ?it/s]"
      ]
     },
     "metadata": {},
     "output_type": "display_data"
    },
    {
     "data": {
      "application/vnd.jupyter.widget-view+json": {
       "model_id": "",
       "version_major": 2,
       "version_minor": 0
      },
      "text/plain": [
       "Valid batch:   0%|          | 0/35 [00:00<?, ?it/s]"
      ]
     },
     "metadata": {},
     "output_type": "display_data"
    },
    {
     "name": "stdout",
     "output_type": "stream",
     "text": [
      "\tLosses at 1 epochs: \tTRAIN:0.01016431072802872\tVAL:0.008213163779250214\n"
     ]
    },
    {
     "data": {
      "application/vnd.jupyter.widget-view+json": {
       "model_id": "",
       "version_major": 2,
       "version_minor": 0
      },
      "text/plain": [
       "Train Batch, epoch 2::   0%|          | 0/98 [00:00<?, ?it/s]"
      ]
     },
     "metadata": {},
     "output_type": "display_data"
    },
    {
     "data": {
      "application/vnd.jupyter.widget-view+json": {
       "model_id": "",
       "version_major": 2,
       "version_minor": 0
      },
      "text/plain": [
       "Valid batch:   0%|          | 0/35 [00:00<?, ?it/s]"
      ]
     },
     "metadata": {},
     "output_type": "display_data"
    },
    {
     "name": "stdout",
     "output_type": "stream",
     "text": [
      "\tLosses at 2 epochs: \tTRAIN:0.007585280408550586\tVAL:0.006675202678889036\n"
     ]
    },
    {
     "data": {
      "application/vnd.jupyter.widget-view+json": {
       "model_id": "",
       "version_major": 2,
       "version_minor": 0
      },
      "text/plain": [
       "Train Batch, epoch 3::   0%|          | 0/98 [00:00<?, ?it/s]"
      ]
     },
     "metadata": {},
     "output_type": "display_data"
    },
    {
     "data": {
      "application/vnd.jupyter.widget-view+json": {
       "model_id": "",
       "version_major": 2,
       "version_minor": 0
      },
      "text/plain": [
       "Valid batch:   0%|          | 0/35 [00:00<?, ?it/s]"
      ]
     },
     "metadata": {},
     "output_type": "display_data"
    },
    {
     "name": "stdout",
     "output_type": "stream",
     "text": [
      "\tLosses at 3 epochs: \tTRAIN:0.006466871849736389\tVAL:0.005955197090016944\n"
     ]
    },
    {
     "data": {
      "application/vnd.jupyter.widget-view+json": {
       "model_id": "",
       "version_major": 2,
       "version_minor": 0
      },
      "text/plain": [
       "Train Batch, epoch 4::   0%|          | 0/98 [00:00<?, ?it/s]"
      ]
     },
     "metadata": {},
     "output_type": "display_data"
    },
    {
     "data": {
      "application/vnd.jupyter.widget-view+json": {
       "model_id": "",
       "version_major": 2,
       "version_minor": 0
      },
      "text/plain": [
       "Valid batch:   0%|          | 0/35 [00:00<?, ?it/s]"
      ]
     },
     "metadata": {},
     "output_type": "display_data"
    },
    {
     "name": "stdout",
     "output_type": "stream",
     "text": [
      "\tLosses at 4 epochs: \tTRAIN:0.005867884052461203\tVAL:0.0054594238421746665\n"
     ]
    },
    {
     "data": {
      "application/vnd.jupyter.widget-view+json": {
       "model_id": "",
       "version_major": 2,
       "version_minor": 0
      },
      "text/plain": [
       "Train Batch, epoch 5::   0%|          | 0/98 [00:00<?, ?it/s]"
      ]
     },
     "metadata": {},
     "output_type": "display_data"
    },
    {
     "data": {
      "application/vnd.jupyter.widget-view+json": {
       "model_id": "",
       "version_major": 2,
       "version_minor": 0
      },
      "text/plain": [
       "Valid batch:   0%|          | 0/35 [00:00<?, ?it/s]"
      ]
     },
     "metadata": {},
     "output_type": "display_data"
    },
    {
     "name": "stdout",
     "output_type": "stream",
     "text": [
      "\tLosses at 5 epochs: \tTRAIN:0.005423836329267646\tVAL:0.005089918484113046\n"
     ]
    },
    {
     "data": {
      "application/vnd.jupyter.widget-view+json": {
       "model_id": "",
       "version_major": 2,
       "version_minor": 0
      },
      "text/plain": [
       "Train Batch, epoch 6::   0%|          | 0/98 [00:00<?, ?it/s]"
      ]
     },
     "metadata": {},
     "output_type": "display_data"
    },
    {
     "data": {
      "application/vnd.jupyter.widget-view+json": {
       "model_id": "",
       "version_major": 2,
       "version_minor": 0
      },
      "text/plain": [
       "Valid batch:   0%|          | 0/35 [00:00<?, ?it/s]"
      ]
     },
     "metadata": {},
     "output_type": "display_data"
    },
    {
     "name": "stdout",
     "output_type": "stream",
     "text": [
      "\tLosses at 6 epochs: \tTRAIN:0.005092397598283631\tVAL:0.0047937679503645214\n"
     ]
    },
    {
     "data": {
      "application/vnd.jupyter.widget-view+json": {
       "model_id": "",
       "version_major": 2,
       "version_minor": 0
      },
      "text/plain": [
       "Train Batch, epoch 7::   0%|          | 0/98 [00:00<?, ?it/s]"
      ]
     },
     "metadata": {},
     "output_type": "display_data"
    },
    {
     "data": {
      "application/vnd.jupyter.widget-view+json": {
       "model_id": "",
       "version_major": 2,
       "version_minor": 0
      },
      "text/plain": [
       "Valid batch:   0%|          | 0/35 [00:00<?, ?it/s]"
      ]
     },
     "metadata": {},
     "output_type": "display_data"
    },
    {
     "name": "stdout",
     "output_type": "stream",
     "text": [
      "\tLosses at 7 epochs: \tTRAIN:0.004827395627959346\tVAL:0.004603898139404399\n"
     ]
    },
    {
     "data": {
      "application/vnd.jupyter.widget-view+json": {
       "model_id": "",
       "version_major": 2,
       "version_minor": 0
      },
      "text/plain": [
       "Train Batch, epoch 8::   0%|          | 0/98 [00:00<?, ?it/s]"
      ]
     },
     "metadata": {},
     "output_type": "display_data"
    },
    {
     "data": {
      "application/vnd.jupyter.widget-view+json": {
       "model_id": "",
       "version_major": 2,
       "version_minor": 0
      },
      "text/plain": [
       "Valid batch:   0%|          | 0/35 [00:00<?, ?it/s]"
      ]
     },
     "metadata": {},
     "output_type": "display_data"
    },
    {
     "name": "stdout",
     "output_type": "stream",
     "text": [
      "\tLosses at 8 epochs: \tTRAIN:0.0046172111095594505\tVAL:0.004414280131459236\n"
     ]
    },
    {
     "data": {
      "application/vnd.jupyter.widget-view+json": {
       "model_id": "",
       "version_major": 2,
       "version_minor": 0
      },
      "text/plain": [
       "Train Batch, epoch 9::   0%|          | 0/98 [00:00<?, ?it/s]"
      ]
     },
     "metadata": {},
     "output_type": "display_data"
    },
    {
     "data": {
      "application/vnd.jupyter.widget-view+json": {
       "model_id": "",
       "version_major": 2,
       "version_minor": 0
      },
      "text/plain": [
       "Valid batch:   0%|          | 0/35 [00:00<?, ?it/s]"
      ]
     },
     "metadata": {},
     "output_type": "display_data"
    },
    {
     "name": "stdout",
     "output_type": "stream",
     "text": [
      "\tLosses at 9 epochs: \tTRAIN:0.0044951140025288475\tVAL:0.004319178273103067\n"
     ]
    },
    {
     "data": {
      "application/vnd.jupyter.widget-view+json": {
       "model_id": "",
       "version_major": 2,
       "version_minor": 0
      },
      "text/plain": [
       "Train Batch, epoch 10::   0%|          | 0/98 [00:00<?, ?it/s]"
      ]
     },
     "metadata": {},
     "output_type": "display_data"
    },
    {
     "data": {
      "application/vnd.jupyter.widget-view+json": {
       "model_id": "",
       "version_major": 2,
       "version_minor": 0
      },
      "text/plain": [
       "Valid batch:   0%|          | 0/35 [00:00<?, ?it/s]"
      ]
     },
     "metadata": {},
     "output_type": "display_data"
    },
    {
     "name": "stdout",
     "output_type": "stream",
     "text": [
      "\tLosses at 10 epochs: \tTRAIN:0.004400624941122167\tVAL:0.004208930541894265\n"
     ]
    },
    {
     "data": {
      "application/vnd.jupyter.widget-view+json": {
       "model_id": "",
       "version_major": 2,
       "version_minor": 0
      },
      "text/plain": [
       "Train Batch, epoch 11::   0%|          | 0/98 [00:00<?, ?it/s]"
      ]
     },
     "metadata": {},
     "output_type": "display_data"
    },
    {
     "data": {
      "application/vnd.jupyter.widget-view+json": {
       "model_id": "",
       "version_major": 2,
       "version_minor": 0
      },
      "text/plain": [
       "Valid batch:   0%|          | 0/35 [00:00<?, ?it/s]"
      ]
     },
     "metadata": {},
     "output_type": "display_data"
    },
    {
     "name": "stdout",
     "output_type": "stream",
     "text": [
      "\tLosses at 11 epochs: \tTRAIN:0.004293879080677823\tVAL:0.004147620286260333\n"
     ]
    },
    {
     "data": {
      "application/vnd.jupyter.widget-view+json": {
       "model_id": "",
       "version_major": 2,
       "version_minor": 0
      },
      "text/plain": [
       "Train Batch, epoch 12::   0%|          | 0/98 [00:00<?, ?it/s]"
      ]
     },
     "metadata": {},
     "output_type": "display_data"
    },
    {
     "data": {
      "application/vnd.jupyter.widget-view+json": {
       "model_id": "",
       "version_major": 2,
       "version_minor": 0
      },
      "text/plain": [
       "Valid batch:   0%|          | 0/35 [00:00<?, ?it/s]"
      ]
     },
     "metadata": {},
     "output_type": "display_data"
    },
    {
     "name": "stdout",
     "output_type": "stream",
     "text": [
      "\tLosses at 12 epochs: \tTRAIN:0.004238066567602206\tVAL:0.004074750814054694\n"
     ]
    },
    {
     "data": {
      "application/vnd.jupyter.widget-view+json": {
       "model_id": "",
       "version_major": 2,
       "version_minor": 0
      },
      "text/plain": [
       "Train Batch, epoch 13::   0%|          | 0/98 [00:00<?, ?it/s]"
      ]
     },
     "metadata": {},
     "output_type": "display_data"
    },
    {
     "data": {
      "application/vnd.jupyter.widget-view+json": {
       "model_id": "",
       "version_major": 2,
       "version_minor": 0
      },
      "text/plain": [
       "Valid batch:   0%|          | 0/35 [00:00<?, ?it/s]"
      ]
     },
     "metadata": {},
     "output_type": "display_data"
    },
    {
     "name": "stdout",
     "output_type": "stream",
     "text": [
      "\tLosses at 13 epochs: \tTRAIN:0.004167625851625082\tVAL:0.004047632363757917\n"
     ]
    },
    {
     "data": {
      "application/vnd.jupyter.widget-view+json": {
       "model_id": "",
       "version_major": 2,
       "version_minor": 0
      },
      "text/plain": [
       "Train Batch, epoch 14::   0%|          | 0/98 [00:00<?, ?it/s]"
      ]
     },
     "metadata": {},
     "output_type": "display_data"
    },
    {
     "data": {
      "application/vnd.jupyter.widget-view+json": {
       "model_id": "",
       "version_major": 2,
       "version_minor": 0
      },
      "text/plain": [
       "Valid batch:   0%|          | 0/35 [00:00<?, ?it/s]"
      ]
     },
     "metadata": {},
     "output_type": "display_data"
    },
    {
     "name": "stdout",
     "output_type": "stream",
     "text": [
      "\tLosses at 14 epochs: \tTRAIN:0.0041206808219074595\tVAL:0.003986332565546036\n"
     ]
    },
    {
     "data": {
      "application/vnd.jupyter.widget-view+json": {
       "model_id": "",
       "version_major": 2,
       "version_minor": 0
      },
      "text/plain": [
       "Train Batch, epoch 15::   0%|          | 0/98 [00:00<?, ?it/s]"
      ]
     },
     "metadata": {},
     "output_type": "display_data"
    },
    {
     "data": {
      "application/vnd.jupyter.widget-view+json": {
       "model_id": "",
       "version_major": 2,
       "version_minor": 0
      },
      "text/plain": [
       "Valid batch:   0%|          | 0/35 [00:00<?, ?it/s]"
      ]
     },
     "metadata": {},
     "output_type": "display_data"
    },
    {
     "name": "stdout",
     "output_type": "stream",
     "text": [
      "\tLosses at 15 epochs: \tTRAIN:0.004081203317155643\tVAL:0.00396255495558892\n"
     ]
    },
    {
     "data": {
      "application/vnd.jupyter.widget-view+json": {
       "model_id": "",
       "version_major": 2,
       "version_minor": 0
      },
      "text/plain": [
       "Train Batch, epoch 16::   0%|          | 0/98 [00:00<?, ?it/s]"
      ]
     },
     "metadata": {},
     "output_type": "display_data"
    },
    {
     "data": {
      "application/vnd.jupyter.widget-view+json": {
       "model_id": "",
       "version_major": 2,
       "version_minor": 0
      },
      "text/plain": [
       "Valid batch:   0%|          | 0/35 [00:00<?, ?it/s]"
      ]
     },
     "metadata": {},
     "output_type": "display_data"
    },
    {
     "name": "stdout",
     "output_type": "stream",
     "text": [
      "\tLosses at 16 epochs: \tTRAIN:0.004046769394558303\tVAL:0.003923117056755083\n"
     ]
    },
    {
     "data": {
      "application/vnd.jupyter.widget-view+json": {
       "model_id": "",
       "version_major": 2,
       "version_minor": 0
      },
      "text/plain": [
       "Train Batch, epoch 17::   0%|          | 0/98 [00:00<?, ?it/s]"
      ]
     },
     "metadata": {},
     "output_type": "display_data"
    },
    {
     "data": {
      "application/vnd.jupyter.widget-view+json": {
       "model_id": "",
       "version_major": 2,
       "version_minor": 0
      },
      "text/plain": [
       "Valid batch:   0%|          | 0/35 [00:00<?, ?it/s]"
      ]
     },
     "metadata": {},
     "output_type": "display_data"
    },
    {
     "name": "stdout",
     "output_type": "stream",
     "text": [
      "\tLosses at 17 epochs: \tTRAIN:0.004020813857300245\tVAL:0.003901110522981201\n"
     ]
    },
    {
     "data": {
      "application/vnd.jupyter.widget-view+json": {
       "model_id": "",
       "version_major": 2,
       "version_minor": 0
      },
      "text/plain": [
       "Train Batch, epoch 18::   0%|          | 0/98 [00:00<?, ?it/s]"
      ]
     },
     "metadata": {},
     "output_type": "display_data"
    },
    {
     "data": {
      "application/vnd.jupyter.widget-view+json": {
       "model_id": "",
       "version_major": 2,
       "version_minor": 0
      },
      "text/plain": [
       "Valid batch:   0%|          | 0/35 [00:00<?, ?it/s]"
      ]
     },
     "metadata": {},
     "output_type": "display_data"
    },
    {
     "name": "stdout",
     "output_type": "stream",
     "text": [
      "\tLosses at 18 epochs: \tTRAIN:0.003992625588209045\tVAL:0.0038714721466281583\n"
     ]
    },
    {
     "data": {
      "application/vnd.jupyter.widget-view+json": {
       "model_id": "",
       "version_major": 2,
       "version_minor": 0
      },
      "text/plain": [
       "Train Batch, epoch 19::   0%|          | 0/98 [00:00<?, ?it/s]"
      ]
     },
     "metadata": {},
     "output_type": "display_data"
    },
    {
     "data": {
      "application/vnd.jupyter.widget-view+json": {
       "model_id": "",
       "version_major": 2,
       "version_minor": 0
      },
      "text/plain": [
       "Valid batch:   0%|          | 0/35 [00:00<?, ?it/s]"
      ]
     },
     "metadata": {},
     "output_type": "display_data"
    },
    {
     "name": "stdout",
     "output_type": "stream",
     "text": [
      "\tLosses at 19 epochs: \tTRAIN:0.003968353178922315\tVAL:0.0038534583257777352\n"
     ]
    },
    {
     "data": {
      "image/png": "[encoded data removed]",
      "text/plain": [
       "<Figure size 2000x1400 with 1 Axes>"
      ]
     },
     "metadata": {},
     "output_type": "display_data"
    }
   ],
   "source": [
    "from src.vautoencoders import AutoEncoder\n",
    "nb_epochs = 25\n",
    "latent_dim = 40\n",
    "batchsize = 2**15\n",
    "lr = 1e-3\n",
    "adaptive = (3, 0.95)\n",
    "\n",
    "\n",
    "model_redo = AutoEncoder(latent_dim = latent_dim, aa_dim = 21, \n",
    "                             seq_len = 23, act = nn.SELU())\n",
    "\n",
    "model_redo.to(device)\n",
    "optimizer = torch.optim.AdamW(model_redo.parameters(), lr = lr, weight_decay=1e-3)\n",
    "criterion = nn.MSELoss()\n",
    "\n",
    "name = '_'.join(['NormalAE','redo-weighted','WD','latdim'+str(latent_dim),\n",
    "                 f'adaptive{adaptive[0]}-{adaptive[1]}','lr'+str(lr)])\n",
    "\n",
    "train_losses, val_losses = train_eval(model_redo, criterion, optimizer, \n",
    "                                      train_dataset, valid_dataset,\n",
    "                                      batchsize, max_len= 23, weighted=1.6, device=device, \n",
    "                                      lr= lr, nb_epochs = 20, outdir=os.getcwd(),\n",
    "                                      filename = name, adaptive=adaptive)"
   ]
  },
  {
   "cell_type": "markdown",
   "id": "adopted-trauma",
   "metadata": {},
   "source": [
    "### Re-evaluating the model"
   ]
  },
  {
   "cell_type": "code",
   "execution_count": 5,
   "id": "crazy-snapshot",
   "metadata": {
    "jupyter": {
     "source_hidden": true
    }
   },
   "outputs": [
    {
     "data": {
      "text/plain": [
       "<All keys matched successfully>"
      ]
     },
     "execution_count": 5,
     "metadata": {},
     "output_type": "execute_result"
    }
   ],
   "source": [
    "# Reloading the best weight\n",
    "best_chkpt = torch.load('./'+name+'.pth.tar')\n",
    "model_redo.load_state_dict(best_chkpt['state_dict'])"
   ]
  },
  {
   "cell_type": "code",
   "execution_count": null,
   "id": "seeing-latin",
   "metadata": {
    "jupyter": {
     "source_hidden": true
    }
   },
   "outputs": [],
   "source": [
    "model_redo = AutoEncoder(latent_dim = latent_dim, aa_dim = 21, \n",
    "                             seq_len = 23, act = nn.SELU())"
   ]
  },
  {
   "cell_type": "code",
   "execution_count": null,
   "id": "electronic-plant",
   "metadata": {
    "jupyter": {
     "source_hidden": true
    }
   },
   "outputs": [],
   "source": [
    "# Loading emerson data\n",
    "emerson = pd.read_csv('../training_data_new/emerson_raw/batch1/emerson_batch1_626hla_parsed_tagged.tsv', sep='\\t')\n",
    "#emerson_dataset = np.array([x for x in emerson.query('amino_acid.str.len() <= 23').amino_acid.values if x not in train_dataset])"
   ]
  },
  {
   "cell_type": "code",
   "execution_count": 31,
   "id": "productive-training",
   "metadata": {
    "jupyter": {
     "source_hidden": true
    }
   },
   "outputs": [],
   "source": [
    "emerson_sub = emerson.sample(100000).query('amino_acid.str.len() <= 23').amino_acid.values"
   ]
  },
  {
   "cell_type": "code",
   "execution_count": 26,
   "id": "north-handbook",
   "metadata": {
    "collapsed": true,
    "jupyter": {
     "outputs_hidden": true,
     "source_hidden": true
    }
   },
   "outputs": [
    {
     "name": "stdout",
     "output_type": "stream",
     "text": [
      "\n",
      "#######################\n",
      "EMERSON\n",
      "\n",
      "real:\t\tCASSSQGGGDNEQFFXXXXXXXX\n",
      "decoded:\tCASSSXGGGDNEQFFXXXXXXXX\n",
      "\n",
      "real:\t\tCASSYLNQPQHFXXXXXXXXXXX\n",
      "decoded:\tCASSTLNQPQHFXXXXXXXXXXX\n",
      "\n",
      "real:\t\tCASSYVREVENEQFFXXXXXXXX\n",
      "decoded:\tCASSTVREVXNEQFFXXXXXXXX\n",
      "\n",
      "real:\t\tCASSSDRVTGELFFXXXXXXXXX\n",
      "decoded:\tCASSSDRXTGELFFXXXXXXXXX\n",
      "\n",
      "real:\t\tCASSEERRGPEAFFXXXXXXXXX\n",
      "decoded:\tCASSEERRGXEAFFXXXXXXXXX\n",
      "\n",
      "real:\t\tCASSLSGGPTNEKLFFXXXXXXX\n",
      "decoded:\tCASSLSGGPTNEXLFFXXXXXXX\n",
      "\n",
      "real:\t\tCASFGISGANVLTFXXXXXXXXX\n",
      "decoded:\tCASSGXSGANVLTFXXXXXXXXX\n",
      "\n",
      "real:\t\tCASSQSIEPSNQPQHFXXXXXXX\n",
      "decoded:\tCASSQSXEPSNQPQHFXXXXXXX\n",
      "\n",
      "real:\t\tCASSPRGGTNYGYTFXXXXXXXX\n",
      "decoded:\tCASSPRGGTNYGYTFXXXXXXXX\n",
      "\n",
      "real:\t\tCASSWGQGTQETQYFXXXXXXXX\n",
      "decoded:\tCASSXGQGTQETQYFXXXXXXXX\n",
      "\n",
      "#######################\n",
      "\n",
      "Test set\n",
      "\n",
      "real:\t\tCASSAMGAAISNTEAFFXXXXXX\n",
      "decoded:\tCASSAXGAAXSNTEXFFXXXXXX\n",
      "\n",
      "real:\t\tCASNPQRGAGGGDTQYFXXXXXX\n",
      "decoded:\tCASNPXRGAGGGXTQYFXXXXXX\n",
      "\n",
      "real:\t\tCASSSRQAYQYERFFXXXXXXXX\n",
      "decoded:\tCASSSRQAYQYERFFXXXXXXXX\n",
      "\n",
      "real:\t\tCASSLEGQGPTDTQYFXXXXXXX\n",
      "decoded:\tCASSLEGQGXTDTQYFXXXXXXX\n",
      "\n",
      "real:\t\tCASSLASFGGVDFXXXXXXXXXX\n",
      "decoded:\tCASSLASXGGVXFXXXXXXXXXX\n",
      "\n",
      "real:\t\tCASSESSNYGYTFXXXXXXXXXX\n",
      "decoded:\tCASSESSNYGYTFXXXXXXXXXX\n",
      "\n",
      "real:\t\tCASRVQNQLATEAFFXXXXXXXX\n",
      "decoded:\tCASRVXNQLATEAFFXXXXXXXX\n",
      "\n",
      "real:\t\tCASSPTGGRETQFFXXXXXXXXX\n",
      "decoded:\tCASSPTGGRETQFFXXXXXXXXX\n",
      "\n",
      "real:\t\tCSGGLAGLQFFXXXXXXXXXXXX\n",
      "decoded:\tCSGGLAGLQFFXXXXXXXXXXXX\n",
      "\n",
      "real:\t\tCASSPEWAANCYNEQFFXXXXXX\n",
      "decoded:\tCASSPEXAANXYNEQFFXXXXXX\n"
     ]
    }
   ],
   "source": [
    "from src.VAE_train import test_decode\n",
    "print('\\n#######################\\nEMERSON')\n",
    "test_decode(model_redo, emerson_sub, 10)\n",
    "print('\\n#######################\\n\\nTest set')\n",
    "test_decode(model_redo, test_dataset, 10)"
   ]
  },
  {
   "cell_type": "markdown",
   "id": "occupational-hammer",
   "metadata": {},
   "source": [
    "#### Train the same model for 20 more epochs since it seemed to go well"
   ]
  },
  {
   "cell_type": "code",
   "execution_count": 4,
   "id": "together-indonesian",
   "metadata": {
    "collapsed": true,
    "jupyter": {
     "outputs_hidden": true
    }
   },
   "outputs": [
    {
     "name": "stdout",
     "output_type": "stream",
     "text": [
      "\n",
      "For model : NormalAE_BestModel_20more_epochs_latdim40_adaptive2-0.95_lr0.000667\n"
     ]
    },
    {
     "data": {
      "application/vnd.jupyter.widget-view+json": {
       "model_id": "",
       "version_major": 2,
       "version_minor": 0
      },
      "text/plain": [
       "  0%|          | 0/25 [00:00<?, ?it/s]"
      ]
     },
     "metadata": {},
     "output_type": "display_data"
    },
    {
     "data": {
      "application/vnd.jupyter.widget-view+json": {
       "model_id": "",
       "version_major": 2,
       "version_minor": 0
      },
      "text/plain": [
       "Train Batch, epoch 0::   0%|          | 0/98 [00:00<?, ?it/s]"
      ]
     },
     "metadata": {},
     "output_type": "display_data"
    },
    {
     "data": {
      "application/vnd.jupyter.widget-view+json": {
       "model_id": "",
       "version_major": 2,
       "version_minor": 0
      },
      "text/plain": [
       "Valid batch:   0%|          | 0/35 [00:00<?, ?it/s]"
      ]
     },
     "metadata": {},
     "output_type": "display_data"
    },
    {
     "name": "stdout",
     "output_type": "stream",
     "text": [
      "Losses at 0 epochs: \tTRAIN: 4.9414e-03\tVAL: 3.9960e-03\n"
     ]
    },
    {
     "data": {
      "application/vnd.jupyter.widget-view+json": {
       "model_id": "",
       "version_major": 2,
       "version_minor": 0
      },
      "text/plain": [
       "Train Batch, epoch 1::   0%|          | 0/98 [00:00<?, ?it/s]"
      ]
     },
     "metadata": {},
     "output_type": "display_data"
    },
    {
     "data": {
      "application/vnd.jupyter.widget-view+json": {
       "model_id": "",
       "version_major": 2,
       "version_minor": 0
      },
      "text/plain": [
       "Valid batch:   0%|          | 0/35 [00:00<?, ?it/s]"
      ]
     },
     "metadata": {},
     "output_type": "display_data"
    },
    {
     "name": "stdout",
     "output_type": "stream",
     "text": [
      "Losses at 1 epochs: \tTRAIN: 4.0200e-03\tVAL: 3.8617e-03\n"
     ]
    },
    {
     "data": {
      "application/vnd.jupyter.widget-view+json": {
       "model_id": "",
       "version_major": 2,
       "version_minor": 0
      },
      "text/plain": [
       "Train Batch, epoch 2::   0%|          | 0/98 [00:00<?, ?it/s]"
      ]
     },
     "metadata": {},
     "output_type": "display_data"
    },
    {
     "data": {
      "application/vnd.jupyter.widget-view+json": {
       "model_id": "",
       "version_major": 2,
       "version_minor": 0
      },
      "text/plain": [
       "Valid batch:   0%|          | 0/35 [00:00<?, ?it/s]"
      ]
     },
     "metadata": {},
     "output_type": "display_data"
    },
    {
     "name": "stdout",
     "output_type": "stream",
     "text": [
      "Losses at 2 epochs: \tTRAIN: 3.9653e-03\tVAL: 3.8453e-03\n"
     ]
    },
    {
     "data": {
      "application/vnd.jupyter.widget-view+json": {
       "model_id": "",
       "version_major": 2,
       "version_minor": 0
      },
      "text/plain": [
       "Train Batch, epoch 3::   0%|          | 0/98 [00:00<?, ?it/s]"
      ]
     },
     "metadata": {},
     "output_type": "display_data"
    },
    {
     "data": {
      "application/vnd.jupyter.widget-view+json": {
       "model_id": "",
       "version_major": 2,
       "version_minor": 0
      },
      "text/plain": [
       "Valid batch:   0%|          | 0/35 [00:00<?, ?it/s]"
      ]
     },
     "metadata": {},
     "output_type": "display_data"
    },
    {
     "name": "stdout",
     "output_type": "stream",
     "text": [
      "Losses at 3 epochs: \tTRAIN: 3.9502e-03\tVAL: 3.8311e-03\n"
     ]
    },
    {
     "data": {
      "application/vnd.jupyter.widget-view+json": {
       "model_id": "",
       "version_major": 2,
       "version_minor": 0
      },
      "text/plain": [
       "Train Batch, epoch 4::   0%|          | 0/98 [00:00<?, ?it/s]"
      ]
     },
     "metadata": {},
     "output_type": "display_data"
    },
    {
     "data": {
      "application/vnd.jupyter.widget-view+json": {
       "model_id": "",
       "version_major": 2,
       "version_minor": 0
      },
      "text/plain": [
       "Valid batch:   0%|          | 0/35 [00:00<?, ?it/s]"
      ]
     },
     "metadata": {},
     "output_type": "display_data"
    },
    {
     "name": "stdout",
     "output_type": "stream",
     "text": [
      "Losses at 4 epochs: \tTRAIN: 3.9373e-03\tVAL: 3.8198e-03\n"
     ]
    },
    {
     "data": {
      "application/vnd.jupyter.widget-view+json": {
       "model_id": "",
       "version_major": 2,
       "version_minor": 0
      },
      "text/plain": [
       "Train Batch, epoch 5::   0%|          | 0/98 [00:00<?, ?it/s]"
      ]
     },
     "metadata": {},
     "output_type": "display_data"
    },
    {
     "data": {
      "application/vnd.jupyter.widget-view+json": {
       "model_id": "",
       "version_major": 2,
       "version_minor": 0
      },
      "text/plain": [
       "Valid batch:   0%|          | 0/35 [00:00<?, ?it/s]"
      ]
     },
     "metadata": {},
     "output_type": "display_data"
    },
    {
     "name": "stdout",
     "output_type": "stream",
     "text": [
      "Losses at 5 epochs: \tTRAIN: 3.9250e-03\tVAL: 3.8103e-03\n"
     ]
    },
    {
     "data": {
      "application/vnd.jupyter.widget-view+json": {
       "model_id": "",
       "version_major": 2,
       "version_minor": 0
      },
      "text/plain": [
       "Train Batch, epoch 6::   0%|          | 0/98 [00:00<?, ?it/s]"
      ]
     },
     "metadata": {},
     "output_type": "display_data"
    },
    {
     "data": {
      "application/vnd.jupyter.widget-view+json": {
       "model_id": "",
       "version_major": 2,
       "version_minor": 0
      },
      "text/plain": [
       "Valid batch:   0%|          | 0/35 [00:00<?, ?it/s]"
      ]
     },
     "metadata": {},
     "output_type": "display_data"
    },
    {
     "name": "stdout",
     "output_type": "stream",
     "text": [
      "Losses at 6 epochs: \tTRAIN: 3.9130e-03\tVAL: 3.7990e-03\n"
     ]
    },
    {
     "data": {
      "application/vnd.jupyter.widget-view+json": {
       "model_id": "",
       "version_major": 2,
       "version_minor": 0
      },
      "text/plain": [
       "Train Batch, epoch 7::   0%|          | 0/98 [00:00<?, ?it/s]"
      ]
     },
     "metadata": {},
     "output_type": "display_data"
    },
    {
     "data": {
      "application/vnd.jupyter.widget-view+json": {
       "model_id": "",
       "version_major": 2,
       "version_minor": 0
      },
      "text/plain": [
       "Valid batch:   0%|          | 0/35 [00:00<?, ?it/s]"
      ]
     },
     "metadata": {},
     "output_type": "display_data"
    },
    {
     "name": "stdout",
     "output_type": "stream",
     "text": [
      "Losses at 7 epochs: \tTRAIN: 3.9096e-03\tVAL: 3.8228e-03\n"
     ]
    },
    {
     "data": {
      "application/vnd.jupyter.widget-view+json": {
       "model_id": "",
       "version_major": 2,
       "version_minor": 0
      },
      "text/plain": [
       "Train Batch, epoch 8::   0%|          | 0/98 [00:00<?, ?it/s]"
      ]
     },
     "metadata": {},
     "output_type": "display_data"
    },
    {
     "data": {
      "application/vnd.jupyter.widget-view+json": {
       "model_id": "",
       "version_major": 2,
       "version_minor": 0
      },
      "text/plain": [
       "Valid batch:   0%|          | 0/35 [00:00<?, ?it/s]"
      ]
     },
     "metadata": {},
     "output_type": "display_data"
    },
    {
     "name": "stdout",
     "output_type": "stream",
     "text": [
      "Losses at 8 epochs: \tTRAIN: 3.8978e-03\tVAL: 3.7741e-03\n"
     ]
    },
    {
     "data": {
      "application/vnd.jupyter.widget-view+json": {
       "model_id": "",
       "version_major": 2,
       "version_minor": 0
      },
      "text/plain": [
       "Train Batch, epoch 9::   0%|          | 0/98 [00:00<?, ?it/s]"
      ]
     },
     "metadata": {},
     "output_type": "display_data"
    },
    {
     "data": {
      "application/vnd.jupyter.widget-view+json": {
       "model_id": "",
       "version_major": 2,
       "version_minor": 0
      },
      "text/plain": [
       "Valid batch:   0%|          | 0/35 [00:00<?, ?it/s]"
      ]
     },
     "metadata": {},
     "output_type": "display_data"
    },
    {
     "name": "stdout",
     "output_type": "stream",
     "text": [
      "Losses at 9 epochs: \tTRAIN: 3.8814e-03\tVAL: 3.8019e-03\n"
     ]
    },
    {
     "data": {
      "application/vnd.jupyter.widget-view+json": {
       "model_id": "",
       "version_major": 2,
       "version_minor": 0
      },
      "text/plain": [
       "Train Batch, epoch 10::   0%|          | 0/98 [00:00<?, ?it/s]"
      ]
     },
     "metadata": {},
     "output_type": "display_data"
    },
    {
     "data": {
      "application/vnd.jupyter.widget-view+json": {
       "model_id": "",
       "version_major": 2,
       "version_minor": 0
      },
      "text/plain": [
       "Valid batch:   0%|          | 0/35 [00:00<?, ?it/s]"
      ]
     },
     "metadata": {},
     "output_type": "display_data"
    },
    {
     "name": "stdout",
     "output_type": "stream",
     "text": [
      "Losses at 10 epochs: \tTRAIN: 3.8820e-03\tVAL: 3.7511e-03\n"
     ]
    },
    {
     "data": {
      "application/vnd.jupyter.widget-view+json": {
       "model_id": "",
       "version_major": 2,
       "version_minor": 0
      },
      "text/plain": [
       "Train Batch, epoch 11::   0%|          | 0/98 [00:00<?, ?it/s]"
      ]
     },
     "metadata": {},
     "output_type": "display_data"
    },
    {
     "data": {
      "application/vnd.jupyter.widget-view+json": {
       "model_id": "",
       "version_major": 2,
       "version_minor": 0
      },
      "text/plain": [
       "Valid batch:   0%|          | 0/35 [00:00<?, ?it/s]"
      ]
     },
     "metadata": {},
     "output_type": "display_data"
    },
    {
     "name": "stdout",
     "output_type": "stream",
     "text": [
      "Losses at 11 epochs: \tTRAIN: 3.8662e-03\tVAL: 4.1456e-03\n"
     ]
    },
    {
     "data": {
      "application/vnd.jupyter.widget-view+json": {
       "model_id": "",
       "version_major": 2,
       "version_minor": 0
      },
      "text/plain": [
       "Train Batch, epoch 12::   0%|          | 0/98 [00:00<?, ?it/s]"
      ]
     },
     "metadata": {},
     "output_type": "display_data"
    },
    {
     "data": {
      "application/vnd.jupyter.widget-view+json": {
       "model_id": "",
       "version_major": 2,
       "version_minor": 0
      },
      "text/plain": [
       "Valid batch:   0%|          | 0/35 [00:00<?, ?it/s]"
      ]
     },
     "metadata": {},
     "output_type": "display_data"
    },
    {
     "name": "stdout",
     "output_type": "stream",
     "text": [
      "Losses at 12 epochs: \tTRAIN: 3.8977e-03\tVAL: 3.7164e-03\n"
     ]
    },
    {
     "data": {
      "application/vnd.jupyter.widget-view+json": {
       "model_id": "",
       "version_major": 2,
       "version_minor": 0
      },
      "text/plain": [
       "Train Batch, epoch 13::   0%|          | 0/98 [00:00<?, ?it/s]"
      ]
     },
     "metadata": {},
     "output_type": "display_data"
    },
    {
     "data": {
      "application/vnd.jupyter.widget-view+json": {
       "model_id": "",
       "version_major": 2,
       "version_minor": 0
      },
      "text/plain": [
       "Valid batch:   0%|          | 0/35 [00:00<?, ?it/s]"
      ]
     },
     "metadata": {},
     "output_type": "display_data"
    },
    {
     "name": "stdout",
     "output_type": "stream",
     "text": [
      "Losses at 13 epochs: \tTRAIN: 3.8031e-03\tVAL: 3.6867e-03\n"
     ]
    },
    {
     "data": {
      "application/vnd.jupyter.widget-view+json": {
       "model_id": "",
       "version_major": 2,
       "version_minor": 0
      },
      "text/plain": [
       "Train Batch, epoch 14::   0%|          | 0/98 [00:00<?, ?it/s]"
      ]
     },
     "metadata": {},
     "output_type": "display_data"
    },
    {
     "data": {
      "application/vnd.jupyter.widget-view+json": {
       "model_id": "",
       "version_major": 2,
       "version_minor": 0
      },
      "text/plain": [
       "Valid batch:   0%|          | 0/35 [00:00<?, ?it/s]"
      ]
     },
     "metadata": {},
     "output_type": "display_data"
    },
    {
     "name": "stdout",
     "output_type": "stream",
     "text": [
      "Losses at 14 epochs: \tTRAIN: 3.7885e-03\tVAL: 3.6796e-03\n"
     ]
    },
    {
     "data": {
      "application/vnd.jupyter.widget-view+json": {
       "model_id": "",
       "version_major": 2,
       "version_minor": 0
      },
      "text/plain": [
       "Train Batch, epoch 15::   0%|          | 0/98 [00:00<?, ?it/s]"
      ]
     },
     "metadata": {},
     "output_type": "display_data"
    },
    {
     "data": {
      "application/vnd.jupyter.widget-view+json": {
       "model_id": "",
       "version_major": 2,
       "version_minor": 0
      },
      "text/plain": [
       "Valid batch:   0%|          | 0/35 [00:00<?, ?it/s]"
      ]
     },
     "metadata": {},
     "output_type": "display_data"
    },
    {
     "name": "stdout",
     "output_type": "stream",
     "text": [
      "Losses at 15 epochs: \tTRAIN: 3.7792e-03\tVAL: 3.6706e-03\n"
     ]
    },
    {
     "data": {
      "application/vnd.jupyter.widget-view+json": {
       "model_id": "",
       "version_major": 2,
       "version_minor": 0
      },
      "text/plain": [
       "Train Batch, epoch 16::   0%|          | 0/98 [00:00<?, ?it/s]"
      ]
     },
     "metadata": {},
     "output_type": "display_data"
    },
    {
     "data": {
      "application/vnd.jupyter.widget-view+json": {
       "model_id": "",
       "version_major": 2,
       "version_minor": 0
      },
      "text/plain": [
       "Valid batch:   0%|          | 0/35 [00:00<?, ?it/s]"
      ]
     },
     "metadata": {},
     "output_type": "display_data"
    },
    {
     "name": "stdout",
     "output_type": "stream",
     "text": [
      "Losses at 16 epochs: \tTRAIN: 3.7691e-03\tVAL: 3.6595e-03\n"
     ]
    },
    {
     "data": {
      "application/vnd.jupyter.widget-view+json": {
       "model_id": "",
       "version_major": 2,
       "version_minor": 0
      },
      "text/plain": [
       "Train Batch, epoch 17::   0%|          | 0/98 [00:00<?, ?it/s]"
      ]
     },
     "metadata": {},
     "output_type": "display_data"
    },
    {
     "data": {
      "application/vnd.jupyter.widget-view+json": {
       "model_id": "",
       "version_major": 2,
       "version_minor": 0
      },
      "text/plain": [
       "Valid batch:   0%|          | 0/35 [00:00<?, ?it/s]"
      ]
     },
     "metadata": {},
     "output_type": "display_data"
    },
    {
     "name": "stdout",
     "output_type": "stream",
     "text": [
      "Losses at 17 epochs: \tTRAIN: 3.7585e-03\tVAL: 3.6744e-03\n"
     ]
    },
    {
     "data": {
      "application/vnd.jupyter.widget-view+json": {
       "model_id": "",
       "version_major": 2,
       "version_minor": 0
      },
      "text/plain": [
       "Train Batch, epoch 18::   0%|          | 0/98 [00:00<?, ?it/s]"
      ]
     },
     "metadata": {},
     "output_type": "display_data"
    },
    {
     "data": {
      "application/vnd.jupyter.widget-view+json": {
       "model_id": "",
       "version_major": 2,
       "version_minor": 0
      },
      "text/plain": [
       "Valid batch:   0%|          | 0/35 [00:00<?, ?it/s]"
      ]
     },
     "metadata": {},
     "output_type": "display_data"
    },
    {
     "name": "stdout",
     "output_type": "stream",
     "text": [
      "Losses at 18 epochs: \tTRAIN: 3.7492e-03\tVAL: 3.6405e-03\n"
     ]
    },
    {
     "data": {
      "application/vnd.jupyter.widget-view+json": {
       "model_id": "",
       "version_major": 2,
       "version_minor": 0
      },
      "text/plain": [
       "Train Batch, epoch 19::   0%|          | 0/98 [00:00<?, ?it/s]"
      ]
     },
     "metadata": {},
     "output_type": "display_data"
    },
    {
     "data": {
      "application/vnd.jupyter.widget-view+json": {
       "model_id": "",
       "version_major": 2,
       "version_minor": 0
      },
      "text/plain": [
       "Valid batch:   0%|          | 0/35 [00:00<?, ?it/s]"
      ]
     },
     "metadata": {},
     "output_type": "display_data"
    },
    {
     "name": "stdout",
     "output_type": "stream",
     "text": [
      "Losses at 19 epochs: \tTRAIN: 3.7437e-03\tVAL: 3.6883e-03\n"
     ]
    },
    {
     "data": {
      "application/vnd.jupyter.widget-view+json": {
       "model_id": "",
       "version_major": 2,
       "version_minor": 0
      },
      "text/plain": [
       "Train Batch, epoch 20::   0%|          | 0/98 [00:00<?, ?it/s]"
      ]
     },
     "metadata": {},
     "output_type": "display_data"
    },
    {
     "data": {
      "application/vnd.jupyter.widget-view+json": {
       "model_id": "",
       "version_major": 2,
       "version_minor": 0
      },
      "text/plain": [
       "Valid batch:   0%|          | 0/35 [00:00<?, ?it/s]"
      ]
     },
     "metadata": {},
     "output_type": "display_data"
    },
    {
     "name": "stdout",
     "output_type": "stream",
     "text": [
      "Losses at 20 epochs: \tTRAIN: 3.7363e-03\tVAL: 3.6265e-03\n"
     ]
    },
    {
     "data": {
      "application/vnd.jupyter.widget-view+json": {
       "model_id": "",
       "version_major": 2,
       "version_minor": 0
      },
      "text/plain": [
       "Train Batch, epoch 21::   0%|          | 0/98 [00:00<?, ?it/s]"
      ]
     },
     "metadata": {},
     "output_type": "display_data"
    },
    {
     "data": {
      "application/vnd.jupyter.widget-view+json": {
       "model_id": "",
       "version_major": 2,
       "version_minor": 0
      },
      "text/plain": [
       "Valid batch:   0%|          | 0/35 [00:00<?, ?it/s]"
      ]
     },
     "metadata": {},
     "output_type": "display_data"
    },
    {
     "name": "stdout",
     "output_type": "stream",
     "text": [
      "Losses at 21 epochs: \tTRAIN: 3.7257e-03\tVAL: 3.6284e-03\n"
     ]
    },
    {
     "data": {
      "application/vnd.jupyter.widget-view+json": {
       "model_id": "",
       "version_major": 2,
       "version_minor": 0
      },
      "text/plain": [
       "Train Batch, epoch 22::   0%|          | 0/98 [00:00<?, ?it/s]"
      ]
     },
     "metadata": {},
     "output_type": "display_data"
    },
    {
     "data": {
      "application/vnd.jupyter.widget-view+json": {
       "model_id": "",
       "version_major": 2,
       "version_minor": 0
      },
      "text/plain": [
       "Valid batch:   0%|          | 0/35 [00:00<?, ?it/s]"
      ]
     },
     "metadata": {},
     "output_type": "display_data"
    },
    {
     "name": "stdout",
     "output_type": "stream",
     "text": [
      "Losses at 22 epochs: \tTRAIN: 3.7200e-03\tVAL: 3.6203e-03\n"
     ]
    },
    {
     "data": {
      "application/vnd.jupyter.widget-view+json": {
       "model_id": "",
       "version_major": 2,
       "version_minor": 0
      },
      "text/plain": [
       "Train Batch, epoch 23::   0%|          | 0/98 [00:00<?, ?it/s]"
      ]
     },
     "metadata": {},
     "output_type": "display_data"
    },
    {
     "data": {
      "application/vnd.jupyter.widget-view+json": {
       "model_id": "",
       "version_major": 2,
       "version_minor": 0
      },
      "text/plain": [
       "Valid batch:   0%|          | 0/35 [00:00<?, ?it/s]"
      ]
     },
     "metadata": {},
     "output_type": "display_data"
    },
    {
     "name": "stdout",
     "output_type": "stream",
     "text": [
      "Losses at 23 epochs: \tTRAIN: 3.7139e-03\tVAL: 3.6096e-03\n"
     ]
    },
    {
     "data": {
      "application/vnd.jupyter.widget-view+json": {
       "model_id": "",
       "version_major": 2,
       "version_minor": 0
      },
      "text/plain": [
       "Train Batch, epoch 24::   0%|          | 0/98 [00:00<?, ?it/s]"
      ]
     },
     "metadata": {},
     "output_type": "display_data"
    },
    {
     "data": {
      "application/vnd.jupyter.widget-view+json": {
       "model_id": "",
       "version_major": 2,
       "version_minor": 0
      },
      "text/plain": [
       "Valid batch:   0%|          | 0/35 [00:00<?, ?it/s]"
      ]
     },
     "metadata": {},
     "output_type": "display_data"
    },
    {
     "name": "stdout",
     "output_type": "stream",
     "text": [
      "Losses at 24 epochs: \tTRAIN: 3.7051e-03\tVAL: 3.5998e-03\n"
     ]
    },
    {
     "data": {
      "image/png": "[encoded data removed]",
      "text/plain": [
       "<Figure size 2000x1400 with 1 Axes>"
      ]
     },
     "metadata": {},
     "output_type": "display_data"
    }
   ],
   "source": [
    "from src.vautoencoders import AutoEncoder\n",
    "nb_epochs = 25\n",
    "latent_dim = 40\n",
    "batchsize = 2**15\n",
    "lr = 6.67e-4\n",
    "adaptive = (2, 0.95)\n",
    "model_redo = AutoEncoder(latent_dim = latent_dim, aa_dim = 21, \n",
    "                             seq_len = 23, act = nn.SELU())\n",
    "model_redo.to(device)\n",
    "# Reloading the best weight\n",
    "best_chkpt = torch.load('./'+'NormalAE_redo-weighted_WD_latdim40_adaptive3-0.95_lr0.001'+'.pth.tar')\n",
    "model_redo.load_state_dict(best_chkpt['state_dict'])\n",
    "\n",
    "optimizer = torch.optim.AdamW(model_redo.parameters(), lr = lr, weight_decay=1e-3)\n",
    "criterion = nn.MSELoss()\n",
    "\n",
    "name = '_'.join(['NormalAE_BestModel_20more_epochs','latdim'+str(latent_dim),\n",
    "                 f'adaptive{adaptive[0]}-{adaptive[1]}','lr'+str(lr)])\n",
    "\n",
    "train_losses, val_losses = train_eval(model_redo, criterion, optimizer, \n",
    "                                      train_dataset, valid_dataset,\n",
    "                                      batchsize, max_len= 23, weighted=1.6, device=device, \n",
    "                                      lr= lr, nb_epochs = nb_epochs, outdir=os.getcwd(),\n",
    "                                      filename = name, adaptive=adaptive)"
   ]
  },
  {
   "cell_type": "markdown",
   "id": "twelve-vitamin",
   "metadata": {},
   "source": [
    "## MORE\n",
    "with Emerson dataset"
   ]
  },
  {
   "cell_type": "code",
   "execution_count": 2,
   "id": "green-adaptation",
   "metadata": {},
   "outputs": [],
   "source": [
    "emerson = pd.read_csv('../training_data_new/emerson_raw/batch1/emerson_batch1_626hla_parsed_tagged.tsv', sep='\\t')\n",
    "sample_tags = pd.read_csv('../training_data_new/emerson_raw/batch1/emerson_batch1_sampletags.tsv', sep ='\\t')"
   ]
  },
  {
   "cell_type": "code",
   "execution_count": 3,
   "id": "supreme-european",
   "metadata": {},
   "outputs": [],
   "source": [
    "train_dataset, valid_dataset, test_dataset  = load_naive_dataset('../training_data_new/db_TRB.csv')"
   ]
  },
  {
   "cell_type": "code",
   "execution_count": 4,
   "id": "saved-identifier",
   "metadata": {},
   "outputs": [],
   "source": [
    "a = emerson.sample(frac=0.8).query('len > 10 and len <= 23')\n",
    "b = emerson.loc[emerson.index.difference(a.index)].query('len > 10 and len <= 23')\n",
    "train_dataset = np.append(train_dataset,a.amino_acid.values)\n",
    "valid_dataset = np.append(valid_dataset,b.amino_acid.values)"
   ]
  },
  {
   "cell_type": "code",
   "execution_count": 5,
   "id": "unusual-pierce",
   "metadata": {},
   "outputs": [
    {
     "data": {
      "text/plain": [
       "<All keys matched successfully>"
      ]
     },
     "execution_count": 5,
     "metadata": {},
     "output_type": "execute_result"
    }
   ],
   "source": [
    "from src.vautoencoders import AutoEncoder\n",
    "### Normal AE without positional Encoding (best model) ###\n",
    "model_reload =  AutoEncoder(latent_dim = 40, aa_dim = 21, \n",
    "                             seq_len = 23, act = nn.SELU())\n",
    "chkpt = torch.load('./Best_AE_model_latdim40_withSELU.pth.tar')\n",
    "model_reload.load_state_dict(chkpt['state_dict'])\n",
    "##########################################################"
   ]
  },
  {
   "cell_type": "code",
   "execution_count": 67,
   "id": "local-figure",
   "metadata": {},
   "outputs": [
    {
     "data": {
      "text/plain": [
       "'ContinueTrainingBestModelWithEmerson_latdim40_WD1e-3adaptive3-0.95_lr0.0005'"
      ]
     },
     "execution_count": 67,
     "metadata": {},
     "output_type": "execute_result"
    }
   ],
   "source": [
    "name"
   ]
  },
  {
   "cell_type": "code",
   "execution_count": 6,
   "id": "stupid-reminder",
   "metadata": {
    "collapsed": true,
    "jupyter": {
     "outputs_hidden": true
    }
   },
   "outputs": [
    {
     "name": "stdout",
     "output_type": "stream",
     "text": [
      "\n",
      "For model : ContinueTrainingBestModelWithEmersonSECONDTIME_latdim40_WD1e-3adaptive3-0.95_lr0.0005\n"
     ]
    },
    {
     "data": {
      "application/vnd.jupyter.widget-view+json": {
       "model_id": "",
       "version_major": 2,
       "version_minor": 0
      },
      "text/plain": [
       "  0%|          | 0/10 [00:00<?, ?it/s]"
      ]
     },
     "metadata": {},
     "output_type": "display_data"
    },
    {
     "data": {
      "application/vnd.jupyter.widget-view+json": {
       "model_id": "",
       "version_major": 2,
       "version_minor": 0
      },
      "text/plain": [
       "Train Batch, epoch 0::   0%|          | 0/695 [00:00<?, ?it/s]"
      ]
     },
     "metadata": {},
     "output_type": "display_data"
    },
    {
     "data": {
      "application/vnd.jupyter.widget-view+json": {
       "model_id": "",
       "version_major": 2,
       "version_minor": 0
      },
      "text/plain": [
       "Valid batch:   0%|          | 0/184 [00:00<?, ?it/s]"
      ]
     },
     "metadata": {},
     "output_type": "display_data"
    },
    {
     "name": "stdout",
     "output_type": "stream",
     "text": [
      "Losses at 0 epochs: \tTRAIN: 3.4065e-03\tVAL: 2.8365e-03\n",
      "\n",
      "real:\t\tCASSYGGSQETQYFXXXXXXXXX\n",
      "decoded:\tCASSXGGSQETQYFXXXXXXXXX\n"
     ]
    },
    {
     "data": {
      "application/vnd.jupyter.widget-view+json": {
       "model_id": "",
       "version_major": 2,
       "version_minor": 0
      },
      "text/plain": [
       "test set:   0%|          | 0/56 [00:00<?, ?it/s]"
      ]
     },
     "metadata": {},
     "output_type": "display_data"
    },
    {
     "data": {
      "text/html": [
       "<div>\n",
       "<style scoped>\n",
       "    .dataframe tbody tr th:only-of-type {\n",
       "        vertical-align: middle;\n",
       "    }\n",
       "\n",
       "    .dataframe tbody tr th {\n",
       "        vertical-align: top;\n",
       "    }\n",
       "\n",
       "    .dataframe thead th {\n",
       "        text-align: right;\n",
       "    }\n",
       "</style>\n",
       "<table border=\"1\" class=\"dataframe\">\n",
       "  <thead>\n",
       "    <tr style=\"text-align: right;\">\n",
       "      <th></th>\n",
       "      <th>Accuracy</th>\n",
       "      <th>Precision</th>\n",
       "      <th>Recall</th>\n",
       "      <th>F1_score</th>\n",
       "      <th>Hamming_loss</th>\n",
       "      <th>Criterion_loss</th>\n",
       "    </tr>\n",
       "  </thead>\n",
       "  <tbody>\n",
       "    <tr>\n",
       "      <th>mean</th>\n",
       "      <td>0.978451</td>\n",
       "      <td>0.589269</td>\n",
       "      <td>0.935942</td>\n",
       "      <td>0.721093</td>\n",
       "      <td>0.042006</td>\n",
       "      <td>0.002835</td>\n",
       "    </tr>\n",
       "    <tr>\n",
       "      <th>var</th>\n",
       "      <td>0.0</td>\n",
       "      <td>0.0</td>\n",
       "      <td>0.0</td>\n",
       "      <td>0.0</td>\n",
       "      <td>0.0</td>\n",
       "      <td>0.0</td>\n",
       "    </tr>\n",
       "  </tbody>\n",
       "</table>\n",
       "</div>"
      ],
      "text/plain": [
       "      Accuracy Precision    Recall  F1_score Hamming_loss Criterion_loss\n",
       "mean  0.978451  0.589269  0.935942  0.721093     0.042006       0.002835\n",
       "var        0.0       0.0       0.0       0.0          0.0            0.0"
      ]
     },
     "metadata": {},
     "output_type": "display_data"
    },
    {
     "data": {
      "application/vnd.jupyter.widget-view+json": {
       "model_id": "",
       "version_major": 2,
       "version_minor": 0
      },
      "text/plain": [
       "Train Batch, epoch 1::   0%|          | 0/695 [00:00<?, ?it/s]"
      ]
     },
     "metadata": {},
     "output_type": "display_data"
    },
    {
     "data": {
      "application/vnd.jupyter.widget-view+json": {
       "model_id": "",
       "version_major": 2,
       "version_minor": 0
      },
      "text/plain": [
       "Valid batch:   0%|          | 0/184 [00:00<?, ?it/s]"
      ]
     },
     "metadata": {},
     "output_type": "display_data"
    },
    {
     "name": "stdout",
     "output_type": "stream",
     "text": [
      "Losses at 1 epochs: \tTRAIN: 2.8137e-03\tVAL: 2.7518e-03\n",
      "\n",
      "real:\t\tCASSFQGARGETQYFXXXXXXXX\n",
      "decoded:\tCASSXXGARGETQYFXXXXXXXX\n"
     ]
    },
    {
     "data": {
      "application/vnd.jupyter.widget-view+json": {
       "model_id": "",
       "version_major": 2,
       "version_minor": 0
      },
      "text/plain": [
       "test set:   0%|          | 0/56 [00:00<?, ?it/s]"
      ]
     },
     "metadata": {},
     "output_type": "display_data"
    },
    {
     "data": {
      "text/html": [
       "<div>\n",
       "<style scoped>\n",
       "    .dataframe tbody tr th:only-of-type {\n",
       "        vertical-align: middle;\n",
       "    }\n",
       "\n",
       "    .dataframe tbody tr th {\n",
       "        vertical-align: top;\n",
       "    }\n",
       "\n",
       "    .dataframe thead th {\n",
       "        text-align: right;\n",
       "    }\n",
       "</style>\n",
       "<table border=\"1\" class=\"dataframe\">\n",
       "  <thead>\n",
       "    <tr style=\"text-align: right;\">\n",
       "      <th></th>\n",
       "      <th>Accuracy</th>\n",
       "      <th>Precision</th>\n",
       "      <th>Recall</th>\n",
       "      <th>F1_score</th>\n",
       "      <th>Hamming_loss</th>\n",
       "      <th>Criterion_loss</th>\n",
       "    </tr>\n",
       "  </thead>\n",
       "  <tbody>\n",
       "    <tr>\n",
       "      <th>mean</th>\n",
       "      <td>0.978626</td>\n",
       "      <td>0.591096</td>\n",
       "      <td>0.938858</td>\n",
       "      <td>0.723331</td>\n",
       "      <td>0.040182</td>\n",
       "      <td>0.002751</td>\n",
       "    </tr>\n",
       "    <tr>\n",
       "      <th>var</th>\n",
       "      <td>0.0</td>\n",
       "      <td>0.0</td>\n",
       "      <td>0.0</td>\n",
       "      <td>0.0</td>\n",
       "      <td>0.0</td>\n",
       "      <td>0.0</td>\n",
       "    </tr>\n",
       "  </tbody>\n",
       "</table>\n",
       "</div>"
      ],
      "text/plain": [
       "      Accuracy Precision    Recall  F1_score Hamming_loss Criterion_loss\n",
       "mean  0.978626  0.591096  0.938858  0.723331     0.040182       0.002751\n",
       "var        0.0       0.0       0.0       0.0          0.0            0.0"
      ]
     },
     "metadata": {},
     "output_type": "display_data"
    },
    {
     "data": {
      "application/vnd.jupyter.widget-view+json": {
       "model_id": "",
       "version_major": 2,
       "version_minor": 0
      },
      "text/plain": [
       "Train Batch, epoch 2::   0%|          | 0/695 [00:00<?, ?it/s]"
      ]
     },
     "metadata": {},
     "output_type": "display_data"
    },
    {
     "data": {
      "application/vnd.jupyter.widget-view+json": {
       "model_id": "",
       "version_major": 2,
       "version_minor": 0
      },
      "text/plain": [
       "Valid batch:   0%|          | 0/184 [00:00<?, ?it/s]"
      ]
     },
     "metadata": {},
     "output_type": "display_data"
    },
    {
     "name": "stdout",
     "output_type": "stream",
     "text": [
      "Losses at 2 epochs: \tTRAIN: 2.7129e-03\tVAL: 2.7379e-03\n",
      "\n",
      "real:\t\tCASNANPMATQFFXXXXXXXXXX\n",
      "decoded:\tCASNAXPXATQFFXXXXXXXXXX\n"
     ]
    },
    {
     "data": {
      "application/vnd.jupyter.widget-view+json": {
       "model_id": "",
       "version_major": 2,
       "version_minor": 0
      },
      "text/plain": [
       "test set:   0%|          | 0/56 [00:00<?, ?it/s]"
      ]
     },
     "metadata": {},
     "output_type": "display_data"
    },
    {
     "data": {
      "text/html": [
       "<div>\n",
       "<style scoped>\n",
       "    .dataframe tbody tr th:only-of-type {\n",
       "        vertical-align: middle;\n",
       "    }\n",
       "\n",
       "    .dataframe tbody tr th {\n",
       "        vertical-align: top;\n",
       "    }\n",
       "\n",
       "    .dataframe thead th {\n",
       "        text-align: right;\n",
       "    }\n",
       "</style>\n",
       "<table border=\"1\" class=\"dataframe\">\n",
       "  <thead>\n",
       "    <tr style=\"text-align: right;\">\n",
       "      <th></th>\n",
       "      <th>Accuracy</th>\n",
       "      <th>Precision</th>\n",
       "      <th>Recall</th>\n",
       "      <th>F1_score</th>\n",
       "      <th>Hamming_loss</th>\n",
       "      <th>Criterion_loss</th>\n",
       "    </tr>\n",
       "  </thead>\n",
       "  <tbody>\n",
       "    <tr>\n",
       "      <th>mean</th>\n",
       "      <td>0.978628</td>\n",
       "      <td>0.591152</td>\n",
       "      <td>0.938855</td>\n",
       "      <td>0.723376</td>\n",
       "      <td>0.040152</td>\n",
       "      <td>0.002738</td>\n",
       "    </tr>\n",
       "    <tr>\n",
       "      <th>var</th>\n",
       "      <td>0.0</td>\n",
       "      <td>0.0</td>\n",
       "      <td>0.0</td>\n",
       "      <td>0.0</td>\n",
       "      <td>0.0</td>\n",
       "      <td>0.0</td>\n",
       "    </tr>\n",
       "  </tbody>\n",
       "</table>\n",
       "</div>"
      ],
      "text/plain": [
       "      Accuracy Precision    Recall  F1_score Hamming_loss Criterion_loss\n",
       "mean  0.978628  0.591152  0.938855  0.723376     0.040152       0.002738\n",
       "var        0.0       0.0       0.0       0.0          0.0            0.0"
      ]
     },
     "metadata": {},
     "output_type": "display_data"
    },
    {
     "data": {
      "application/vnd.jupyter.widget-view+json": {
       "model_id": "",
       "version_major": 2,
       "version_minor": 0
      },
      "text/plain": [
       "Train Batch, epoch 3::   0%|          | 0/695 [00:00<?, ?it/s]"
      ]
     },
     "metadata": {},
     "output_type": "display_data"
    },
    {
     "data": {
      "application/vnd.jupyter.widget-view+json": {
       "model_id": "",
       "version_major": 2,
       "version_minor": 0
      },
      "text/plain": [
       "Valid batch:   0%|          | 0/184 [00:00<?, ?it/s]"
      ]
     },
     "metadata": {},
     "output_type": "display_data"
    },
    {
     "name": "stdout",
     "output_type": "stream",
     "text": [
      "Losses at 3 epochs: \tTRAIN: 3.6351e-03\tVAL: 3.8809e-03\n",
      "\n",
      "real:\t\tCSVGLTVNTEAFFXXXXXXXXXX\n",
      "decoded:\tCSVGLTVNXEAFFXXXXXXXXXX\n"
     ]
    },
    {
     "data": {
      "application/vnd.jupyter.widget-view+json": {
       "model_id": "",
       "version_major": 2,
       "version_minor": 0
      },
      "text/plain": [
       "test set:   0%|          | 0/56 [00:00<?, ?it/s]"
      ]
     },
     "metadata": {},
     "output_type": "display_data"
    },
    {
     "data": {
      "text/html": [
       "<div>\n",
       "<style scoped>\n",
       "    .dataframe tbody tr th:only-of-type {\n",
       "        vertical-align: middle;\n",
       "    }\n",
       "\n",
       "    .dataframe tbody tr th {\n",
       "        vertical-align: top;\n",
       "    }\n",
       "\n",
       "    .dataframe thead th {\n",
       "        text-align: right;\n",
       "    }\n",
       "</style>\n",
       "<table border=\"1\" class=\"dataframe\">\n",
       "  <thead>\n",
       "    <tr style=\"text-align: right;\">\n",
       "      <th></th>\n",
       "      <th>Accuracy</th>\n",
       "      <th>Precision</th>\n",
       "      <th>Recall</th>\n",
       "      <th>F1_score</th>\n",
       "      <th>Hamming_loss</th>\n",
       "      <th>Criterion_loss</th>\n",
       "    </tr>\n",
       "  </thead>\n",
       "  <tbody>\n",
       "    <tr>\n",
       "      <th>mean</th>\n",
       "      <td>0.976537</td>\n",
       "      <td>0.569242</td>\n",
       "      <td>0.904204</td>\n",
       "      <td>0.696612</td>\n",
       "      <td>0.062162</td>\n",
       "      <td>0.003877</td>\n",
       "    </tr>\n",
       "    <tr>\n",
       "      <th>var</th>\n",
       "      <td>0.0</td>\n",
       "      <td>0.0</td>\n",
       "      <td>0.000001</td>\n",
       "      <td>0.000001</td>\n",
       "      <td>0.0</td>\n",
       "      <td>0.0</td>\n",
       "    </tr>\n",
       "  </tbody>\n",
       "</table>\n",
       "</div>"
      ],
      "text/plain": [
       "      Accuracy Precision    Recall  F1_score Hamming_loss Criterion_loss\n",
       "mean  0.976537  0.569242  0.904204  0.696612     0.062162       0.003877\n",
       "var        0.0       0.0  0.000001  0.000001          0.0            0.0"
      ]
     },
     "metadata": {},
     "output_type": "display_data"
    },
    {
     "data": {
      "application/vnd.jupyter.widget-view+json": {
       "model_id": "",
       "version_major": 2,
       "version_minor": 0
      },
      "text/plain": [
       "Train Batch, epoch 4::   0%|          | 0/695 [00:00<?, ?it/s]"
      ]
     },
     "metadata": {},
     "output_type": "display_data"
    },
    {
     "data": {
      "application/vnd.jupyter.widget-view+json": {
       "model_id": "",
       "version_major": 2,
       "version_minor": 0
      },
      "text/plain": [
       "Valid batch:   0%|          | 0/184 [00:00<?, ?it/s]"
      ]
     },
     "metadata": {},
     "output_type": "display_data"
    },
    {
     "name": "stdout",
     "output_type": "stream",
     "text": [
      "Losses at 4 epochs: \tTRAIN: 3.9631e-03\tVAL: 4.1549e-03\n",
      "\n",
      "real:\t\tCASRTSGGFTDTQYFXXXXXXXX\n",
      "decoded:\tCASRTSGGXTDTQYFXXXXXXXX\n"
     ]
    },
    {
     "data": {
      "application/vnd.jupyter.widget-view+json": {
       "model_id": "",
       "version_major": 2,
       "version_minor": 0
      },
      "text/plain": [
       "test set:   0%|          | 0/56 [00:00<?, ?it/s]"
      ]
     },
     "metadata": {},
     "output_type": "display_data"
    },
    {
     "data": {
      "text/html": [
       "<div>\n",
       "<style scoped>\n",
       "    .dataframe tbody tr th:only-of-type {\n",
       "        vertical-align: middle;\n",
       "    }\n",
       "\n",
       "    .dataframe tbody tr th {\n",
       "        vertical-align: top;\n",
       "    }\n",
       "\n",
       "    .dataframe thead th {\n",
       "        text-align: right;\n",
       "    }\n",
       "</style>\n",
       "<table border=\"1\" class=\"dataframe\">\n",
       "  <thead>\n",
       "    <tr style=\"text-align: right;\">\n",
       "      <th></th>\n",
       "      <th>Accuracy</th>\n",
       "      <th>Precision</th>\n",
       "      <th>Recall</th>\n",
       "      <th>F1_score</th>\n",
       "      <th>Hamming_loss</th>\n",
       "      <th>Criterion_loss</th>\n",
       "    </tr>\n",
       "  </thead>\n",
       "  <tbody>\n",
       "    <tr>\n",
       "      <th>mean</th>\n",
       "      <td>0.975973</td>\n",
       "      <td>0.563258</td>\n",
       "      <td>0.894892</td>\n",
       "      <td>0.689349</td>\n",
       "      <td>0.068017</td>\n",
       "      <td>0.004158</td>\n",
       "    </tr>\n",
       "    <tr>\n",
       "      <th>var</th>\n",
       "      <td>0.0</td>\n",
       "      <td>0.0</td>\n",
       "      <td>0.0</td>\n",
       "      <td>0.0</td>\n",
       "      <td>0.0</td>\n",
       "      <td>0.0</td>\n",
       "    </tr>\n",
       "  </tbody>\n",
       "</table>\n",
       "</div>"
      ],
      "text/plain": [
       "      Accuracy Precision    Recall  F1_score Hamming_loss Criterion_loss\n",
       "mean  0.975973  0.563258  0.894892  0.689349     0.068017       0.004158\n",
       "var        0.0       0.0       0.0       0.0          0.0            0.0"
      ]
     },
     "metadata": {},
     "output_type": "display_data"
    },
    {
     "data": {
      "application/vnd.jupyter.widget-view+json": {
       "model_id": "",
       "version_major": 2,
       "version_minor": 0
      },
      "text/plain": [
       "Train Batch, epoch 5::   0%|          | 0/695 [00:00<?, ?it/s]"
      ]
     },
     "metadata": {},
     "output_type": "display_data"
    },
    {
     "data": {
      "application/vnd.jupyter.widget-view+json": {
       "model_id": "",
       "version_major": 2,
       "version_minor": 0
      },
      "text/plain": [
       "Valid batch:   0%|          | 0/184 [00:00<?, ?it/s]"
      ]
     },
     "metadata": {},
     "output_type": "display_data"
    },
    {
     "name": "stdout",
     "output_type": "stream",
     "text": [
      "Losses at 5 epochs: \tTRAIN: 4.3302e-03\tVAL: 5.5969e-03\n",
      "\n",
      "real:\t\tCASSPEAGYEQYFXXXXXXXXXX\n",
      "decoded:\tCASSPEAXYEQYFXXXXXXXXXX\n"
     ]
    },
    {
     "data": {
      "application/vnd.jupyter.widget-view+json": {
       "model_id": "",
       "version_major": 2,
       "version_minor": 0
      },
      "text/plain": [
       "test set:   0%|          | 0/56 [00:00<?, ?it/s]"
      ]
     },
     "metadata": {},
     "output_type": "display_data"
    },
    {
     "data": {
      "text/html": [
       "<div>\n",
       "<style scoped>\n",
       "    .dataframe tbody tr th:only-of-type {\n",
       "        vertical-align: middle;\n",
       "    }\n",
       "\n",
       "    .dataframe tbody tr th {\n",
       "        vertical-align: top;\n",
       "    }\n",
       "\n",
       "    .dataframe thead th {\n",
       "        text-align: right;\n",
       "    }\n",
       "</style>\n",
       "<table border=\"1\" class=\"dataframe\">\n",
       "  <thead>\n",
       "    <tr style=\"text-align: right;\">\n",
       "      <th></th>\n",
       "      <th>Accuracy</th>\n",
       "      <th>Precision</th>\n",
       "      <th>Recall</th>\n",
       "      <th>F1_score</th>\n",
       "      <th>Hamming_loss</th>\n",
       "      <th>Criterion_loss</th>\n",
       "    </tr>\n",
       "  </thead>\n",
       "  <tbody>\n",
       "    <tr>\n",
       "      <th>mean</th>\n",
       "      <td>0.973182</td>\n",
       "      <td>0.533929</td>\n",
       "      <td>0.848177</td>\n",
       "      <td>0.653406</td>\n",
       "      <td>0.097395</td>\n",
       "      <td>0.005596</td>\n",
       "    </tr>\n",
       "    <tr>\n",
       "      <th>var</th>\n",
       "      <td>0.0</td>\n",
       "      <td>0.0</td>\n",
       "      <td>0.0</td>\n",
       "      <td>0.0</td>\n",
       "      <td>0.0</td>\n",
       "      <td>0.0</td>\n",
       "    </tr>\n",
       "  </tbody>\n",
       "</table>\n",
       "</div>"
      ],
      "text/plain": [
       "      Accuracy Precision    Recall  F1_score Hamming_loss Criterion_loss\n",
       "mean  0.973182  0.533929  0.848177  0.653406     0.097395       0.005596\n",
       "var        0.0       0.0       0.0       0.0          0.0            0.0"
      ]
     },
     "metadata": {},
     "output_type": "display_data"
    },
    {
     "data": {
      "application/vnd.jupyter.widget-view+json": {
       "model_id": "",
       "version_major": 2,
       "version_minor": 0
      },
      "text/plain": [
       "Train Batch, epoch 6::   0%|          | 0/695 [00:00<?, ?it/s]"
      ]
     },
     "metadata": {},
     "output_type": "display_data"
    },
    {
     "data": {
      "application/vnd.jupyter.widget-view+json": {
       "model_id": "",
       "version_major": 2,
       "version_minor": 0
      },
      "text/plain": [
       "Valid batch:   0%|          | 0/184 [00:00<?, ?it/s]"
      ]
     },
     "metadata": {},
     "output_type": "display_data"
    },
    {
     "name": "stdout",
     "output_type": "stream",
     "text": [
      "Losses at 6 epochs: \tTRAIN: 5.5407e-03\tVAL: 5.5570e-03\n",
      "\n",
      "real:\t\tCASSLRPGGDGGPGELFFXXXXX\n",
      "decoded:\tCASSLRPXXDGGTGELFFXXXXX\n"
     ]
    },
    {
     "data": {
      "application/vnd.jupyter.widget-view+json": {
       "model_id": "",
       "version_major": 2,
       "version_minor": 0
      },
      "text/plain": [
       "test set:   0%|          | 0/56 [00:00<?, ?it/s]"
      ]
     },
     "metadata": {},
     "output_type": "display_data"
    },
    {
     "data": {
      "text/html": [
       "<div>\n",
       "<style scoped>\n",
       "    .dataframe tbody tr th:only-of-type {\n",
       "        vertical-align: middle;\n",
       "    }\n",
       "\n",
       "    .dataframe tbody tr th {\n",
       "        vertical-align: top;\n",
       "    }\n",
       "\n",
       "    .dataframe thead th {\n",
       "        text-align: right;\n",
       "    }\n",
       "</style>\n",
       "<table border=\"1\" class=\"dataframe\">\n",
       "  <thead>\n",
       "    <tr style=\"text-align: right;\">\n",
       "      <th></th>\n",
       "      <th>Accuracy</th>\n",
       "      <th>Precision</th>\n",
       "      <th>Recall</th>\n",
       "      <th>F1_score</th>\n",
       "      <th>Hamming_loss</th>\n",
       "      <th>Criterion_loss</th>\n",
       "    </tr>\n",
       "  </thead>\n",
       "  <tbody>\n",
       "    <tr>\n",
       "      <th>mean</th>\n",
       "      <td>0.973192</td>\n",
       "      <td>0.534102</td>\n",
       "      <td>0.848266</td>\n",
       "      <td>0.653561</td>\n",
       "      <td>0.097249</td>\n",
       "      <td>0.00556</td>\n",
       "    </tr>\n",
       "    <tr>\n",
       "      <th>var</th>\n",
       "      <td>0.0</td>\n",
       "      <td>0.0</td>\n",
       "      <td>0.0</td>\n",
       "      <td>0.0</td>\n",
       "      <td>0.0</td>\n",
       "      <td>0.0</td>\n",
       "    </tr>\n",
       "  </tbody>\n",
       "</table>\n",
       "</div>"
      ],
      "text/plain": [
       "      Accuracy Precision    Recall  F1_score Hamming_loss Criterion_loss\n",
       "mean  0.973192  0.534102  0.848266  0.653561     0.097249        0.00556\n",
       "var        0.0       0.0       0.0       0.0          0.0            0.0"
      ]
     },
     "metadata": {},
     "output_type": "display_data"
    },
    {
     "data": {
      "application/vnd.jupyter.widget-view+json": {
       "model_id": "",
       "version_major": 2,
       "version_minor": 0
      },
      "text/plain": [
       "Train Batch, epoch 7::   0%|          | 0/695 [00:00<?, ?it/s]"
      ]
     },
     "metadata": {},
     "output_type": "display_data"
    },
    {
     "data": {
      "application/vnd.jupyter.widget-view+json": {
       "model_id": "",
       "version_major": 2,
       "version_minor": 0
      },
      "text/plain": [
       "Valid batch:   0%|          | 0/184 [00:00<?, ?it/s]"
      ]
     },
     "metadata": {},
     "output_type": "display_data"
    },
    {
     "name": "stdout",
     "output_type": "stream",
     "text": [
      "Losses at 7 epochs: \tTRAIN: 5.5255e-03\tVAL: 5.5566e-03\n",
      "\n",
      "real:\t\tCAWEPLAEGCYNEQFFXXXXXXX\n",
      "decoded:\tCAWEPXAEXXYNEQFFXXXXXXX\n"
     ]
    },
    {
     "data": {
      "application/vnd.jupyter.widget-view+json": {
       "model_id": "",
       "version_major": 2,
       "version_minor": 0
      },
      "text/plain": [
       "test set:   0%|          | 0/56 [00:00<?, ?it/s]"
      ]
     },
     "metadata": {},
     "output_type": "display_data"
    },
    {
     "data": {
      "text/html": [
       "<div>\n",
       "<style scoped>\n",
       "    .dataframe tbody tr th:only-of-type {\n",
       "        vertical-align: middle;\n",
       "    }\n",
       "\n",
       "    .dataframe tbody tr th {\n",
       "        vertical-align: top;\n",
       "    }\n",
       "\n",
       "    .dataframe thead th {\n",
       "        text-align: right;\n",
       "    }\n",
       "</style>\n",
       "<table border=\"1\" class=\"dataframe\">\n",
       "  <thead>\n",
       "    <tr style=\"text-align: right;\">\n",
       "      <th></th>\n",
       "      <th>Accuracy</th>\n",
       "      <th>Precision</th>\n",
       "      <th>Recall</th>\n",
       "      <th>F1_score</th>\n",
       "      <th>Hamming_loss</th>\n",
       "      <th>Criterion_loss</th>\n",
       "    </tr>\n",
       "  </thead>\n",
       "  <tbody>\n",
       "    <tr>\n",
       "      <th>mean</th>\n",
       "      <td>0.973194</td>\n",
       "      <td>0.534043</td>\n",
       "      <td>0.848349</td>\n",
       "      <td>0.653545</td>\n",
       "      <td>0.097152</td>\n",
       "      <td>0.005558</td>\n",
       "    </tr>\n",
       "    <tr>\n",
       "      <th>var</th>\n",
       "      <td>0.0</td>\n",
       "      <td>0.0</td>\n",
       "      <td>0.0</td>\n",
       "      <td>0.0</td>\n",
       "      <td>0.0</td>\n",
       "      <td>0.0</td>\n",
       "    </tr>\n",
       "  </tbody>\n",
       "</table>\n",
       "</div>"
      ],
      "text/plain": [
       "      Accuracy Precision    Recall  F1_score Hamming_loss Criterion_loss\n",
       "mean  0.973194  0.534043  0.848349  0.653545     0.097152       0.005558\n",
       "var        0.0       0.0       0.0       0.0          0.0            0.0"
      ]
     },
     "metadata": {},
     "output_type": "display_data"
    },
    {
     "data": {
      "application/vnd.jupyter.widget-view+json": {
       "model_id": "",
       "version_major": 2,
       "version_minor": 0
      },
      "text/plain": [
       "Train Batch, epoch 8::   0%|          | 0/695 [00:00<?, ?it/s]"
      ]
     },
     "metadata": {},
     "output_type": "display_data"
    },
    {
     "data": {
      "application/vnd.jupyter.widget-view+json": {
       "model_id": "",
       "version_major": 2,
       "version_minor": 0
      },
      "text/plain": [
       "Valid batch:   0%|          | 0/184 [00:00<?, ?it/s]"
      ]
     },
     "metadata": {},
     "output_type": "display_data"
    },
    {
     "name": "stdout",
     "output_type": "stream",
     "text": [
      "Losses at 8 epochs: \tTRAIN: 5.5194e-03\tVAL: 5.5434e-03\n",
      "\n",
      "real:\t\tCASSSEWDREYFXXXXXXXXXXX\n",
      "decoded:\tCASSSEXXREYFYXXXXXXXXXX\n"
     ]
    },
    {
     "data": {
      "application/vnd.jupyter.widget-view+json": {
       "model_id": "",
       "version_major": 2,
       "version_minor": 0
      },
      "text/plain": [
       "test set:   0%|          | 0/56 [00:00<?, ?it/s]"
      ]
     },
     "metadata": {},
     "output_type": "display_data"
    },
    {
     "data": {
      "text/html": [
       "<div>\n",
       "<style scoped>\n",
       "    .dataframe tbody tr th:only-of-type {\n",
       "        vertical-align: middle;\n",
       "    }\n",
       "\n",
       "    .dataframe tbody tr th {\n",
       "        vertical-align: top;\n",
       "    }\n",
       "\n",
       "    .dataframe thead th {\n",
       "        text-align: right;\n",
       "    }\n",
       "</style>\n",
       "<table border=\"1\" class=\"dataframe\">\n",
       "  <thead>\n",
       "    <tr style=\"text-align: right;\">\n",
       "      <th></th>\n",
       "      <th>Accuracy</th>\n",
       "      <th>Precision</th>\n",
       "      <th>Recall</th>\n",
       "      <th>F1_score</th>\n",
       "      <th>Hamming_loss</th>\n",
       "      <th>Criterion_loss</th>\n",
       "    </tr>\n",
       "  </thead>\n",
       "  <tbody>\n",
       "    <tr>\n",
       "      <th>mean</th>\n",
       "      <td>0.973213</td>\n",
       "      <td>0.53431</td>\n",
       "      <td>0.848611</td>\n",
       "      <td>0.65382</td>\n",
       "      <td>0.096992</td>\n",
       "      <td>0.005539</td>\n",
       "    </tr>\n",
       "    <tr>\n",
       "      <th>var</th>\n",
       "      <td>0.0</td>\n",
       "      <td>0.0</td>\n",
       "      <td>0.000001</td>\n",
       "      <td>0.0</td>\n",
       "      <td>0.0</td>\n",
       "      <td>0.0</td>\n",
       "    </tr>\n",
       "  </tbody>\n",
       "</table>\n",
       "</div>"
      ],
      "text/plain": [
       "      Accuracy Precision    Recall F1_score Hamming_loss Criterion_loss\n",
       "mean  0.973213   0.53431  0.848611  0.65382     0.096992       0.005539\n",
       "var        0.0       0.0  0.000001      0.0          0.0            0.0"
      ]
     },
     "metadata": {},
     "output_type": "display_data"
    },
    {
     "data": {
      "application/vnd.jupyter.widget-view+json": {
       "model_id": "",
       "version_major": 2,
       "version_minor": 0
      },
      "text/plain": [
       "Train Batch, epoch 9::   0%|          | 0/695 [00:00<?, ?it/s]"
      ]
     },
     "metadata": {},
     "output_type": "display_data"
    },
    {
     "data": {
      "application/vnd.jupyter.widget-view+json": {
       "model_id": "",
       "version_major": 2,
       "version_minor": 0
      },
      "text/plain": [
       "Valid batch:   0%|          | 0/184 [00:00<?, ?it/s]"
      ]
     },
     "metadata": {},
     "output_type": "display_data"
    },
    {
     "name": "stdout",
     "output_type": "stream",
     "text": [
      "Losses at 9 epochs: \tTRAIN: 5.5132e-03\tVAL: 5.5433e-03\n",
      "\n",
      "real:\t\tCSVAGPAGELFFXXXXXXXXXXX\n",
      "decoded:\tCSVAGPAXELFFXXXXXXXXXXX\n"
     ]
    },
    {
     "data": {
      "application/vnd.jupyter.widget-view+json": {
       "model_id": "",
       "version_major": 2,
       "version_minor": 0
      },
      "text/plain": [
       "test set:   0%|          | 0/56 [00:00<?, ?it/s]"
      ]
     },
     "metadata": {},
     "output_type": "display_data"
    },
    {
     "data": {
      "text/html": [
       "<div>\n",
       "<style scoped>\n",
       "    .dataframe tbody tr th:only-of-type {\n",
       "        vertical-align: middle;\n",
       "    }\n",
       "\n",
       "    .dataframe tbody tr th {\n",
       "        vertical-align: top;\n",
       "    }\n",
       "\n",
       "    .dataframe thead th {\n",
       "        text-align: right;\n",
       "    }\n",
       "</style>\n",
       "<table border=\"1\" class=\"dataframe\">\n",
       "  <thead>\n",
       "    <tr style=\"text-align: right;\">\n",
       "      <th></th>\n",
       "      <th>Accuracy</th>\n",
       "      <th>Precision</th>\n",
       "      <th>Recall</th>\n",
       "      <th>F1_score</th>\n",
       "      <th>Hamming_loss</th>\n",
       "      <th>Criterion_loss</th>\n",
       "    </tr>\n",
       "  </thead>\n",
       "  <tbody>\n",
       "    <tr>\n",
       "      <th>mean</th>\n",
       "      <td>0.973204</td>\n",
       "      <td>0.534217</td>\n",
       "      <td>0.848452</td>\n",
       "      <td>0.653704</td>\n",
       "      <td>0.097104</td>\n",
       "      <td>0.005547</td>\n",
       "    </tr>\n",
       "    <tr>\n",
       "      <th>var</th>\n",
       "      <td>0.0</td>\n",
       "      <td>0.0</td>\n",
       "      <td>0.0</td>\n",
       "      <td>0.0</td>\n",
       "      <td>0.0</td>\n",
       "      <td>0.0</td>\n",
       "    </tr>\n",
       "  </tbody>\n",
       "</table>\n",
       "</div>"
      ],
      "text/plain": [
       "      Accuracy Precision    Recall  F1_score Hamming_loss Criterion_loss\n",
       "mean  0.973204  0.534217  0.848452  0.653704     0.097104       0.005547\n",
       "var        0.0       0.0       0.0       0.0          0.0            0.0"
      ]
     },
     "metadata": {},
     "output_type": "display_data"
    },
    {
     "data": {
      "image/png": "[encoded data removed]",
      "text/plain": [
       "<Figure size 3000x2100 with 1 Axes>"
      ]
     },
     "metadata": {},
     "output_type": "display_data"
    }
   ],
   "source": [
    "nb_epochs = 10\n",
    "latent_dim = 40\n",
    "batchsize = 2**15\n",
    "lr = 5e-4\n",
    "adaptive = (3, 0.95)\n",
    "model_reload =  AutoEncoder(latent_dim = 40, aa_dim = 21, \n",
    "                             seq_len = 23, act = nn.SELU())\n",
    "chkpt = torch.load('./ContinueTrainingBestModelWithEmerson_latdim40_WD1e-3adaptive3-0.95_lr0.0005.pth.tar')\n",
    "model_reload.load_state_dict(chkpt['state_dict'])\n",
    "model_reload.to(device)\n",
    "\n",
    "optimizer = torch.optim.AdamW(model_reload.parameters(), lr = lr, weight_decay=1e-3)\n",
    "criterion = nn.MSELoss()\n",
    "\n",
    "name = '_'.join(['ContinueTrainingBestModelWithEmersonSECONDTIME','latdim'+str(latent_dim),'WD1e-3'\n",
    "                 f'adaptive{adaptive[0]}-{adaptive[1]}','lr'+str(lr)])\n",
    "\n",
    "train_losses, val_losses = train_eval(model_reload, criterion, optimizer, \n",
    "                                      train_dataset, valid_dataset,\n",
    "                                      batchsize, max_len= 23, weighted=1.6, \n",
    "                                      positional = False, device=device, \n",
    "                                      lr= lr, nb_epochs = nb_epochs, outdir=os.getcwd(),\n",
    "                                      filename = name, adaptive=adaptive)"
   ]
  },
  {
   "cell_type": "markdown",
   "id": "further-amateur",
   "metadata": {},
   "source": [
    "### Then, combine with DeepRC and check prediction ? "
   ]
  },
  {
   "cell_type": "code",
   "execution_count": 8,
   "id": "established-scout",
   "metadata": {},
   "outputs": [],
   "source": [
    "from src.DeepRC_mod import *\n",
    "class DeepRC_AutoEncoder(nn.Module): \n",
    "    \n",
    "    def __init__(self, #20 for the initial onehot encode dim\n",
    "                 embedding_net: torch.nn.Module = AutoEncoder(latent_dim = 40, aa_dim = 21, \n",
    "                                                              seq_len = 23, act = nn.SELU()).encoder,\n",
    "                 attention_net: torch.nn.Module = AttentionNetwork(n_input_features = 40, \n",
    "                                                                   n_layers=2, n_units = 32),\n",
    "                 output_net_A: torch.nn.Module = OutputNetwork(n_input_features=40, \n",
    "                                                             n_output_features = 21,\n",
    "                                                              n_layers = 2, n_units = 32),\n",
    "                 output_net_B: torch.nn.Module = OutputNetwork(n_input_features=40, \n",
    "                                                             n_output_features = 40,\n",
    "                                                              n_layers = 2, n_units = 32),\n",
    "                 freeze_encoding = True\n",
    "                ):\n",
    "        super(DeepRC_AutoEncoder, self).__init__()\n",
    "        self.embedding = embedding_net.to(dtype=torch.float32)\n",
    "        #Freezing encoding layer, maybe unfreeze later\n",
    "        if freeze_encoding:\n",
    "            for p in self.embedding.parameters():\n",
    "                p.requires_grad = False\n",
    "                \n",
    "        self.attention = attention_net.to(dtype=torch.float32)\n",
    "        self.out_A = output_net_A.to(dtype=torch.float32)\n",
    "        self.out_B = output_net_B.to(dtype=torch.float32)\n",
    "        \n",
    "    def forward(self, x, n_per_bag):\n",
    "        seq_embed = self.embedding(x.view(-1, 23*21)) #should be shape (N, latent_dim)\n",
    "        seq_attention = self.attention(seq_embed)\n",
    "        # BUT softmax(attn_weight) must be done PER BAG. Given we have the number of sequences,\n",
    "        #we treat the input (A sequence of bags) sequentially : \n",
    "        \n",
    "        x = []\n",
    "        start_i = 0\n",
    "        # n_per_bag stores the number of sequences per bag, so we can use it to slice the attention and embedding\n",
    "        for n_seqs in n_per_bag : \n",
    "            #SLICE AND SOFTMAX OVER THE SLICE\n",
    "            attention_slice = torch.softmax(seq_attention[start_i:start_i+n_seqs], dim=0)\n",
    "            embedding_slice = seq_embed[start_i:start_i+n_seqs]\n",
    "            \n",
    "            embedding_attention = embedding_slice * attention_slice\n",
    "            #Weighted sum over the features. The Weight is from the attention\n",
    "            x.append(embedding_attention.sum(dim=0))\n",
    "            start_i += n_seqs\n",
    "            del embedding_attention\n",
    "            \n",
    "        x = torch.stack(x, dim = 0)\n",
    "        pred_a = self.out_A(x)\n",
    "        pred_b = self.out_B(x)\n",
    "        return pred_a, pred_b"
   ]
  },
  {
   "cell_type": "code",
   "execution_count": 9,
   "id": "united-township",
   "metadata": {
    "collapsed": true,
    "jupyter": {
     "outputs_hidden": true
    }
   },
   "outputs": [
    {
     "data": {
      "text/plain": [
       "<All keys matched successfully>"
      ]
     },
     "execution_count": 9,
     "metadata": {},
     "output_type": "execute_result"
    }
   ],
   "source": [
    "model_reload = AutoEncoder(latent_dim = latent_dim, aa_dim = 21, \n",
    "                             seq_len = 23, act = nn.SELU())\n",
    "best_chkpt = torch.load('./'+name+'.pth.tar')\n",
    "model_reload.load_state_dict(best_chkpt['state_dict'])"
   ]
  },
  {
   "cell_type": "code",
   "execution_count": 11,
   "id": "thermal-double",
   "metadata": {},
   "outputs": [],
   "source": [
    "encoder = model_reload.encoder\n",
    "\n",
    "attn = AttentionNetwork(n_input_features=40,\n",
    "                           n_layers=2,\n",
    "                           n_units=64)\n",
    "out_a = OutputNetwork(n_input_features=40, \n",
    "                      n_output_features=21,\n",
    "                      n_layers=2,\n",
    "                      n_units=32)\n",
    "out_b = OutputNetwork(n_input_features=40, \n",
    "                      n_output_features=40,\n",
    "                      n_layers=2,\n",
    "                      n_units=32)\n",
    "\n",
    "AutoEncoder_DeepRC = DeepRC_AutoEncoder(encoder, attn, out_a, out_b, freeze_encoding=True)"
   ]
  },
  {
   "cell_type": "code",
   "execution_count": 13,
   "id": "quick-flour",
   "metadata": {},
   "outputs": [],
   "source": [
    "#Datasets\n",
    "from src.datasets import * \n",
    "from src.DeepRC_mod import *\n",
    "train_data = EmersonDataset('../training_data_new/emerson_raw/batch1/emerson_batch1_train_top10k_hla.tsv',\n",
    "                            max_len = 23, scale_by_freq=True)\n",
    "test_data = EmersonDataset('../training_data_new/emerson_raw/batch1/emerson_batch1_test_top10k_hla.tsv',\n",
    "                            max_len = 23, scale_by_freq = True)"
   ]
  },
  {
   "cell_type": "code",
   "execution_count": 14,
   "id": "median-crystal",
   "metadata": {
    "collapsed": true,
    "jupyter": {
     "outputs_hidden": true
    }
   },
   "outputs": [
    {
     "name": "stdout",
     "output_type": "stream",
     "text": [
      "\n",
      "Time elapsed:\n",
      "\t0.0 minutes\n",
      "\t40.274042 seconds to do a split lol\n"
     ]
    }
   ],
   "source": [
    "from datetime import datetime as dt\n",
    "start_time = dt.now()\n",
    "\n",
    "train, val = train_data.random_split(val_size=0.3)\n",
    "del train_data #Once split, we don't need the original Dataset object anymore\n",
    "end_time = dt.now()       \n",
    "elapsed = divmod((end_time-start_time).total_seconds(), 60)\n",
    "print(f\"\\nTime elapsed:\\n\\t{elapsed[0]} minutes\\n\\t{elapsed[1]} seconds to do a split lol\")"
   ]
  },
  {
   "cell_type": "code",
   "execution_count": 15,
   "id": "advanced-virgin",
   "metadata": {},
   "outputs": [],
   "source": [
    "def drc_train_model(model, criterion, optimizer, dataset, mini_batch_size):\n",
    "    model.train()\n",
    "    train_loss_a = 0\n",
    "    train_loss_b = 0\n",
    "    #Minibatch SGD, get a list of indices to separate the train data into batches \n",
    "    for b in tqdm(BatchSampler(RandomSampler(dataset.unique),\n",
    "                          batch_size = mini_batch_size, drop_last=False), \n",
    "                  desc='Train batches',\n",
    "                 position = 1, leave=False): \n",
    "        #Standard train loops\n",
    "        seq, target_A, target_B, n_per = train.get_patient(train.unique[b])\n",
    "        #Sending everything to device\n",
    "        seq = seq.to(device, dtype=torch.float32)\n",
    "        target_A = target_A.to(device, dtype=torch.float32)\n",
    "        target_B = target_B.to(device, dtype=torch.float32)\n",
    "        #Prediction & loss for each label\n",
    "        pred_a, pred_b = model(seq, n_per)\n",
    "        loss_A = criterion(pred_a, target_A)\n",
    "        loss_B = criterion(pred_b, target_B)\n",
    "        #Optimizer\n",
    "        model.zero_grad()\n",
    "        loss = loss_A+loss_B\n",
    "        loss.backward()\n",
    "        optimizer.step()\n",
    "        train_loss_a += loss_A.item()\n",
    "        train_loss_b += loss_B.item()\n",
    "        \n",
    "    train_loss_a /= math.floor(len(dataset.unique)/mini_batch_size)\n",
    "    train_loss_b /= math.floor(len(dataset.unique)/mini_batch_size)\n",
    "\n",
    "    return train_loss_a, train_loss_b\n",
    "\n",
    "\n",
    "def drc_eval_model(model, criterion, dataset, mini_batch_size):\n",
    "    model.eval()\n",
    "    val_loss_a = 0\n",
    "    val_loss_b = 0\n",
    "    with torch.no_grad():\n",
    "        for b in tqdm(BatchSampler(RandomSampler(dataset.unique), batch_size = mini_batch_size,\n",
    "                         drop_last = False), desc = 'Val batches',\n",
    "                      position = 2, leave=False):\n",
    "            seq, target_A, target_B, n_per = dataset.get_patient(dataset.unique[b])\n",
    "            #Sending everything to device\n",
    "            seq = seq.to(device, dtype=torch.float32)\n",
    "            target_A = target_A.to(device, dtype=torch.float32)\n",
    "            target_B = target_B.to(device, dtype=torch.float32)\n",
    "            pred_a, pred_b = model(seq, n_per)\n",
    "            val_loss_a += criterion(pred_a, target_A).item()\n",
    "            val_loss_b += criterion(pred_b, target_B).item()\n",
    "    val_loss_a /= math.floor(len(dataset.unique)/mini_batch_size)\n",
    "    val_loss_b /= math.floor(len(dataset.unique)/mini_batch_size)\n",
    "    return val_loss_a, val_loss_b"
   ]
  },
  {
   "cell_type": "code",
   "execution_count": 24,
   "id": "regulated-choir",
   "metadata": {
    "collapsed": true,
    "jupyter": {
     "outputs_hidden": true
    }
   },
   "outputs": [
    {
     "data": {
      "application/vnd.jupyter.widget-view+json": {
       "model_id": "7a3788d7d7f54e2a8cbea10d13fc5ddd",
       "version_major": 2,
       "version_minor": 0
      },
      "text/plain": [
       "  0%|          | 0/30 [00:00<?, ?it/s]"
      ]
     },
     "metadata": {},
     "output_type": "display_data"
    },
    {
     "data": {
      "application/vnd.jupyter.widget-view+json": {
       "model_id": "",
       "version_major": 2,
       "version_minor": 0
      },
      "text/plain": [
       "Train batches:   0%|          | 0/25 [00:00<?, ?it/s]"
      ]
     },
     "metadata": {},
     "output_type": "display_data"
    },
    {
     "name": "stdout",
     "output_type": "stream",
     "text": [
      "train loss at 0 epochs: 6.8204e-01,6.9402e-01\r"
     ]
    },
    {
     "data": {
      "application/vnd.jupyter.widget-view+json": {
       "model_id": "",
       "version_major": 2,
       "version_minor": 0
      },
      "text/plain": [
       "Val batches:   0%|          | 0/11 [00:00<?, ?it/s]"
      ]
     },
     "metadata": {},
     "output_type": "display_data"
    },
    {
     "name": "stdout",
     "output_type": "stream",
     "text": [
      " val loss at 0 epochs: A: 7.1151e-01,7.2495e-01\r"
     ]
    },
    {
     "data": {
      "application/vnd.jupyter.widget-view+json": {
       "model_id": "",
       "version_major": 2,
       "version_minor": 0
      },
      "text/plain": [
       "Train batches:   0%|          | 0/25 [00:00<?, ?it/s]"
      ]
     },
     "metadata": {},
     "output_type": "display_data"
    },
    {
     "name": "stdout",
     "output_type": "stream",
     "text": [
      "train loss at 1 epochs: 6.6823e-01,6.7907e-01\r"
     ]
    },
    {
     "data": {
      "application/vnd.jupyter.widget-view+json": {
       "model_id": "",
       "version_major": 2,
       "version_minor": 0
      },
      "text/plain": [
       "Val batches:   0%|          | 0/11 [00:00<?, ?it/s]"
      ]
     },
     "metadata": {},
     "output_type": "display_data"
    },
    {
     "name": "stdout",
     "output_type": "stream",
     "text": [
      " val loss at 1 epochs: A: 6.9505e-01,7.0702e-01\r"
     ]
    },
    {
     "data": {
      "application/vnd.jupyter.widget-view+json": {
       "model_id": "",
       "version_major": 2,
       "version_minor": 0
      },
      "text/plain": [
       "Train batches:   0%|          | 0/25 [00:00<?, ?it/s]"
      ]
     },
     "metadata": {},
     "output_type": "display_data"
    },
    {
     "name": "stdout",
     "output_type": "stream",
     "text": [
      "train loss at 2 epochs: 6.5002e-01,6.5904e-01\r"
     ]
    },
    {
     "data": {
      "application/vnd.jupyter.widget-view+json": {
       "model_id": "",
       "version_major": 2,
       "version_minor": 0
      },
      "text/plain": [
       "Val batches:   0%|          | 0/11 [00:00<?, ?it/s]"
      ]
     },
     "metadata": {},
     "output_type": "display_data"
    },
    {
     "name": "stdout",
     "output_type": "stream",
     "text": [
      " val loss at 2 epochs: A: 6.7080e-01,6.8037e-01\r"
     ]
    },
    {
     "data": {
      "application/vnd.jupyter.widget-view+json": {
       "model_id": "",
       "version_major": 2,
       "version_minor": 0
      },
      "text/plain": [
       "Train batches:   0%|          | 0/25 [00:00<?, ?it/s]"
      ]
     },
     "metadata": {},
     "output_type": "display_data"
    },
    {
     "name": "stdout",
     "output_type": "stream",
     "text": [
      "train loss at 3 epochs: 6.1183e-01,6.1723e-01\r"
     ]
    },
    {
     "data": {
      "application/vnd.jupyter.widget-view+json": {
       "model_id": "",
       "version_major": 2,
       "version_minor": 0
      },
      "text/plain": [
       "Val batches:   0%|          | 0/11 [00:00<?, ?it/s]"
      ]
     },
     "metadata": {},
     "output_type": "display_data"
    },
    {
     "name": "stdout",
     "output_type": "stream",
     "text": [
      " val loss at 3 epochs: A: 5.9387e-01,5.9765e-01\r"
     ]
    },
    {
     "data": {
      "application/vnd.jupyter.widget-view+json": {
       "model_id": "",
       "version_major": 2,
       "version_minor": 0
      },
      "text/plain": [
       "Train batches:   0%|          | 0/25 [00:00<?, ?it/s]"
      ]
     },
     "metadata": {},
     "output_type": "display_data"
    },
    {
     "name": "stdout",
     "output_type": "stream",
     "text": [
      "train loss at 4 epochs: 5.0730e-01,4.9725e-01\r"
     ]
    },
    {
     "data": {
      "application/vnd.jupyter.widget-view+json": {
       "model_id": "",
       "version_major": 2,
       "version_minor": 0
      },
      "text/plain": [
       "Val batches:   0%|          | 0/11 [00:00<?, ?it/s]"
      ]
     },
     "metadata": {},
     "output_type": "display_data"
    },
    {
     "name": "stdout",
     "output_type": "stream",
     "text": [
      " val loss at 4 epochs: A: 4.6496e-01,4.4330e-01\r"
     ]
    },
    {
     "data": {
      "application/vnd.jupyter.widget-view+json": {
       "model_id": "",
       "version_major": 2,
       "version_minor": 0
      },
      "text/plain": [
       "Train batches:   0%|          | 0/25 [00:00<?, ?it/s]"
      ]
     },
     "metadata": {},
     "output_type": "display_data"
    },
    {
     "name": "stdout",
     "output_type": "stream",
     "text": [
      "train loss at 5 epochs: 4.1424e-01,3.7874e-01\r"
     ]
    },
    {
     "data": {
      "application/vnd.jupyter.widget-view+json": {
       "model_id": "",
       "version_major": 2,
       "version_minor": 0
      },
      "text/plain": [
       "Val batches:   0%|          | 0/11 [00:00<?, ?it/s]"
      ]
     },
     "metadata": {},
     "output_type": "display_data"
    },
    {
     "name": "stdout",
     "output_type": "stream",
     "text": [
      " val loss at 5 epochs: A: 3.9699e-01,3.5427e-01\r"
     ]
    },
    {
     "data": {
      "application/vnd.jupyter.widget-view+json": {
       "model_id": "",
       "version_major": 2,
       "version_minor": 0
      },
      "text/plain": [
       "Train batches:   0%|          | 0/25 [00:00<?, ?it/s]"
      ]
     },
     "metadata": {},
     "output_type": "display_data"
    },
    {
     "name": "stdout",
     "output_type": "stream",
     "text": [
      "train loss at 6 epochs: 3.6404e-01,3.1280e-01\r"
     ]
    },
    {
     "data": {
      "application/vnd.jupyter.widget-view+json": {
       "model_id": "",
       "version_major": 2,
       "version_minor": 0
      },
      "text/plain": [
       "Val batches:   0%|          | 0/11 [00:00<?, ?it/s]"
      ]
     },
     "metadata": {},
     "output_type": "display_data"
    },
    {
     "name": "stdout",
     "output_type": "stream",
     "text": [
      " val loss at 6 epochs: A: 3.5389e-01,3.0034e-01\r"
     ]
    },
    {
     "data": {
      "application/vnd.jupyter.widget-view+json": {
       "model_id": "",
       "version_major": 2,
       "version_minor": 0
      },
      "text/plain": [
       "Train batches:   0%|          | 0/25 [00:00<?, ?it/s]"
      ]
     },
     "metadata": {},
     "output_type": "display_data"
    },
    {
     "name": "stdout",
     "output_type": "stream",
     "text": [
      "train loss at 7 epochs: 3.3197e-01,2.7097e-01\r"
     ]
    },
    {
     "data": {
      "application/vnd.jupyter.widget-view+json": {
       "model_id": "",
       "version_major": 2,
       "version_minor": 0
      },
      "text/plain": [
       "Val batches:   0%|          | 0/11 [00:00<?, ?it/s]"
      ]
     },
     "metadata": {},
     "output_type": "display_data"
    },
    {
     "name": "stdout",
     "output_type": "stream",
     "text": [
      " val loss at 7 epochs: A: 3.2785e-01,2.6391e-01\r"
     ]
    },
    {
     "data": {
      "application/vnd.jupyter.widget-view+json": {
       "model_id": "",
       "version_major": 2,
       "version_minor": 0
      },
      "text/plain": [
       "Train batches:   0%|          | 0/25 [00:00<?, ?it/s]"
      ]
     },
     "metadata": {},
     "output_type": "display_data"
    },
    {
     "name": "stdout",
     "output_type": "stream",
     "text": [
      "train loss at 8 epochs: 3.0915e-01,2.4267e-01\r"
     ]
    },
    {
     "data": {
      "application/vnd.jupyter.widget-view+json": {
       "model_id": "",
       "version_major": 2,
       "version_minor": 0
      },
      "text/plain": [
       "Val batches:   0%|          | 0/11 [00:00<?, ?it/s]"
      ]
     },
     "metadata": {},
     "output_type": "display_data"
    },
    {
     "name": "stdout",
     "output_type": "stream",
     "text": [
      " val loss at 8 epochs: A: 3.0765e-01,2.3899e-01\r"
     ]
    },
    {
     "data": {
      "application/vnd.jupyter.widget-view+json": {
       "model_id": "",
       "version_major": 2,
       "version_minor": 0
      },
      "text/plain": [
       "Train batches:   0%|          | 0/25 [00:00<?, ?it/s]"
      ]
     },
     "metadata": {},
     "output_type": "display_data"
    },
    {
     "name": "stdout",
     "output_type": "stream",
     "text": [
      "train loss at 9 epochs: 2.9293e-01,2.2308e-01\r"
     ]
    },
    {
     "data": {
      "application/vnd.jupyter.widget-view+json": {
       "model_id": "",
       "version_major": 2,
       "version_minor": 0
      },
      "text/plain": [
       "Val batches:   0%|          | 0/11 [00:00<?, ?it/s]"
      ]
     },
     "metadata": {},
     "output_type": "display_data"
    },
    {
     "name": "stdout",
     "output_type": "stream",
     "text": [
      " val loss at 9 epochs: A: 2.9369e-01,2.2180e-01\r"
     ]
    },
    {
     "data": {
      "application/vnd.jupyter.widget-view+json": {
       "model_id": "",
       "version_major": 2,
       "version_minor": 0
      },
      "text/plain": [
       "Train batches:   0%|          | 0/25 [00:00<?, ?it/s]"
      ]
     },
     "metadata": {},
     "output_type": "display_data"
    },
    {
     "name": "stdout",
     "output_type": "stream",
     "text": [
      "train loss at 10 epochs: 2.8205e-01,2.0963e-01\r"
     ]
    },
    {
     "data": {
      "application/vnd.jupyter.widget-view+json": {
       "model_id": "",
       "version_major": 2,
       "version_minor": 0
      },
      "text/plain": [
       "Val batches:   0%|          | 0/11 [00:00<?, ?it/s]"
      ]
     },
     "metadata": {},
     "output_type": "display_data"
    },
    {
     "name": "stdout",
     "output_type": "stream",
     "text": [
      " val loss at 10 epochs: A: 2.8229e-01,2.0904e-01\r"
     ]
    },
    {
     "data": {
      "application/vnd.jupyter.widget-view+json": {
       "model_id": "",
       "version_major": 2,
       "version_minor": 0
      },
      "text/plain": [
       "Train batches:   0%|          | 0/25 [00:00<?, ?it/s]"
      ]
     },
     "metadata": {},
     "output_type": "display_data"
    },
    {
     "name": "stdout",
     "output_type": "stream",
     "text": [
      "train loss at 11 epochs: 2.7264e-01,1.9962e-01\r"
     ]
    },
    {
     "data": {
      "application/vnd.jupyter.widget-view+json": {
       "model_id": "",
       "version_major": 2,
       "version_minor": 0
      },
      "text/plain": [
       "Val batches:   0%|          | 0/11 [00:00<?, ?it/s]"
      ]
     },
     "metadata": {},
     "output_type": "display_data"
    },
    {
     "name": "stdout",
     "output_type": "stream",
     "text": [
      " val loss at 11 epochs: A: 2.7617e-01,2.0040e-01\r"
     ]
    },
    {
     "data": {
      "application/vnd.jupyter.widget-view+json": {
       "model_id": "",
       "version_major": 2,
       "version_minor": 0
      },
      "text/plain": [
       "Train batches:   0%|          | 0/25 [00:00<?, ?it/s]"
      ]
     },
     "metadata": {},
     "output_type": "display_data"
    },
    {
     "name": "stdout",
     "output_type": "stream",
     "text": [
      "train loss at 12 epochs: 2.6726e-01,1.9254e-01\r"
     ]
    },
    {
     "data": {
      "application/vnd.jupyter.widget-view+json": {
       "model_id": "",
       "version_major": 2,
       "version_minor": 0
      },
      "text/plain": [
       "Val batches:   0%|          | 0/11 [00:00<?, ?it/s]"
      ]
     },
     "metadata": {},
     "output_type": "display_data"
    },
    {
     "name": "stdout",
     "output_type": "stream",
     "text": [
      " val loss at 12 epochs: A: 2.6952e-01,1.9443e-01\r"
     ]
    },
    {
     "data": {
      "application/vnd.jupyter.widget-view+json": {
       "model_id": "",
       "version_major": 2,
       "version_minor": 0
      },
      "text/plain": [
       "Train batches:   0%|          | 0/25 [00:00<?, ?it/s]"
      ]
     },
     "metadata": {},
     "output_type": "display_data"
    },
    {
     "name": "stdout",
     "output_type": "stream",
     "text": [
      "train loss at 13 epochs: 2.6276e-01,1.8718e-01\r"
     ]
    },
    {
     "data": {
      "application/vnd.jupyter.widget-view+json": {
       "model_id": "",
       "version_major": 2,
       "version_minor": 0
      },
      "text/plain": [
       "Val batches:   0%|          | 0/11 [00:00<?, ?it/s]"
      ]
     },
     "metadata": {},
     "output_type": "display_data"
    },
    {
     "name": "stdout",
     "output_type": "stream",
     "text": [
      " val loss at 13 epochs: A: 2.6560e-01,1.8830e-01\r"
     ]
    },
    {
     "data": {
      "application/vnd.jupyter.widget-view+json": {
       "model_id": "",
       "version_major": 2,
       "version_minor": 0
      },
      "text/plain": [
       "Train batches:   0%|          | 0/25 [00:00<?, ?it/s]"
      ]
     },
     "metadata": {},
     "output_type": "display_data"
    },
    {
     "name": "stdout",
     "output_type": "stream",
     "text": [
      "train loss at 14 epochs: 2.5866e-01,1.8322e-01\r"
     ]
    },
    {
     "data": {
      "application/vnd.jupyter.widget-view+json": {
       "model_id": "",
       "version_major": 2,
       "version_minor": 0
      },
      "text/plain": [
       "Val batches:   0%|          | 0/11 [00:00<?, ?it/s]"
      ]
     },
     "metadata": {},
     "output_type": "display_data"
    },
    {
     "name": "stdout",
     "output_type": "stream",
     "text": [
      " val loss at 14 epochs: A: 2.6101e-01,1.8501e-01\r"
     ]
    },
    {
     "data": {
      "application/vnd.jupyter.widget-view+json": {
       "model_id": "",
       "version_major": 2,
       "version_minor": 0
      },
      "text/plain": [
       "Train batches:   0%|          | 0/25 [00:00<?, ?it/s]"
      ]
     },
     "metadata": {},
     "output_type": "display_data"
    },
    {
     "name": "stdout",
     "output_type": "stream",
     "text": [
      "train loss at 15 epochs: 2.5618e-01,1.8030e-01\r"
     ]
    },
    {
     "data": {
      "application/vnd.jupyter.widget-view+json": {
       "model_id": "",
       "version_major": 2,
       "version_minor": 0
      },
      "text/plain": [
       "Val batches:   0%|          | 0/11 [00:00<?, ?it/s]"
      ]
     },
     "metadata": {},
     "output_type": "display_data"
    },
    {
     "name": "stdout",
     "output_type": "stream",
     "text": [
      " val loss at 15 epochs: A: 2.6079e-01,1.8208e-01\r"
     ]
    },
    {
     "data": {
      "application/vnd.jupyter.widget-view+json": {
       "model_id": "",
       "version_major": 2,
       "version_minor": 0
      },
      "text/plain": [
       "Train batches:   0%|          | 0/25 [00:00<?, ?it/s]"
      ]
     },
     "metadata": {},
     "output_type": "display_data"
    },
    {
     "name": "stdout",
     "output_type": "stream",
     "text": [
      "train loss at 16 epochs: 2.5436e-01,1.7779e-01\r"
     ]
    },
    {
     "data": {
      "application/vnd.jupyter.widget-view+json": {
       "model_id": "",
       "version_major": 2,
       "version_minor": 0
      },
      "text/plain": [
       "Val batches:   0%|          | 0/11 [00:00<?, ?it/s]"
      ]
     },
     "metadata": {},
     "output_type": "display_data"
    },
    {
     "name": "stdout",
     "output_type": "stream",
     "text": [
      " val loss at 16 epochs: A: 2.5780e-01,1.7976e-01\r"
     ]
    },
    {
     "data": {
      "application/vnd.jupyter.widget-view+json": {
       "model_id": "",
       "version_major": 2,
       "version_minor": 0
      },
      "text/plain": [
       "Train batches:   0%|          | 0/25 [00:00<?, ?it/s]"
      ]
     },
     "metadata": {},
     "output_type": "display_data"
    },
    {
     "name": "stdout",
     "output_type": "stream",
     "text": [
      "train loss at 17 epochs: 2.5201e-01,1.7575e-01\r"
     ]
    },
    {
     "data": {
      "application/vnd.jupyter.widget-view+json": {
       "model_id": "",
       "version_major": 2,
       "version_minor": 0
      },
      "text/plain": [
       "Val batches:   0%|          | 0/11 [00:00<?, ?it/s]"
      ]
     },
     "metadata": {},
     "output_type": "display_data"
    },
    {
     "name": "stdout",
     "output_type": "stream",
     "text": [
      " val loss at 17 epochs: A: 2.5668e-01,1.7813e-01\r"
     ]
    },
    {
     "data": {
      "application/vnd.jupyter.widget-view+json": {
       "model_id": "",
       "version_major": 2,
       "version_minor": 0
      },
      "text/plain": [
       "Train batches:   0%|          | 0/25 [00:00<?, ?it/s]"
      ]
     },
     "metadata": {},
     "output_type": "display_data"
    },
    {
     "name": "stdout",
     "output_type": "stream",
     "text": [
      "train loss at 18 epochs: 2.5076e-01,1.7426e-01\r"
     ]
    },
    {
     "data": {
      "application/vnd.jupyter.widget-view+json": {
       "model_id": "",
       "version_major": 2,
       "version_minor": 0
      },
      "text/plain": [
       "Val batches:   0%|          | 0/11 [00:00<?, ?it/s]"
      ]
     },
     "metadata": {},
     "output_type": "display_data"
    },
    {
     "name": "stdout",
     "output_type": "stream",
     "text": [
      " val loss at 18 epochs: A: 2.5501e-01,1.7613e-01\r"
     ]
    },
    {
     "data": {
      "application/vnd.jupyter.widget-view+json": {
       "model_id": "",
       "version_major": 2,
       "version_minor": 0
      },
      "text/plain": [
       "Train batches:   0%|          | 0/25 [00:00<?, ?it/s]"
      ]
     },
     "metadata": {},
     "output_type": "display_data"
    },
    {
     "name": "stdout",
     "output_type": "stream",
     "text": [
      "train loss at 19 epochs: 2.4960e-01,1.7295e-01\r"
     ]
    },
    {
     "data": {
      "application/vnd.jupyter.widget-view+json": {
       "model_id": "",
       "version_major": 2,
       "version_minor": 0
      },
      "text/plain": [
       "Val batches:   0%|          | 0/11 [00:00<?, ?it/s]"
      ]
     },
     "metadata": {},
     "output_type": "display_data"
    },
    {
     "name": "stdout",
     "output_type": "stream",
     "text": [
      " val loss at 19 epochs: A: 2.5380e-01,1.7533e-01\r"
     ]
    },
    {
     "data": {
      "application/vnd.jupyter.widget-view+json": {
       "model_id": "",
       "version_major": 2,
       "version_minor": 0
      },
      "text/plain": [
       "Train batches:   0%|          | 0/25 [00:00<?, ?it/s]"
      ]
     },
     "metadata": {},
     "output_type": "display_data"
    },
    {
     "name": "stdout",
     "output_type": "stream",
     "text": [
      "train loss at 20 epochs: 2.4878e-01,1.7188e-01\r"
     ]
    },
    {
     "data": {
      "application/vnd.jupyter.widget-view+json": {
       "model_id": "",
       "version_major": 2,
       "version_minor": 0
      },
      "text/plain": [
       "Val batches:   0%|          | 0/11 [00:00<?, ?it/s]"
      ]
     },
     "metadata": {},
     "output_type": "display_data"
    },
    {
     "name": "stdout",
     "output_type": "stream",
     "text": [
      " val loss at 20 epochs: A: 2.5465e-01,1.7416e-01\r"
     ]
    },
    {
     "data": {
      "application/vnd.jupyter.widget-view+json": {
       "model_id": "",
       "version_major": 2,
       "version_minor": 0
      },
      "text/plain": [
       "Train batches:   0%|          | 0/25 [00:00<?, ?it/s]"
      ]
     },
     "metadata": {},
     "output_type": "display_data"
    },
    {
     "name": "stdout",
     "output_type": "stream",
     "text": [
      "train loss at 21 epochs: 2.4829e-01,1.7100e-01\r"
     ]
    },
    {
     "data": {
      "application/vnd.jupyter.widget-view+json": {
       "model_id": "",
       "version_major": 2,
       "version_minor": 0
      },
      "text/plain": [
       "Val batches:   0%|          | 0/11 [00:00<?, ?it/s]"
      ]
     },
     "metadata": {},
     "output_type": "display_data"
    },
    {
     "name": "stdout",
     "output_type": "stream",
     "text": [
      " val loss at 21 epochs: A: 2.5294e-01,1.7249e-01\r"
     ]
    },
    {
     "data": {
      "application/vnd.jupyter.widget-view+json": {
       "model_id": "",
       "version_major": 2,
       "version_minor": 0
      },
      "text/plain": [
       "Train batches:   0%|          | 0/25 [00:00<?, ?it/s]"
      ]
     },
     "metadata": {},
     "output_type": "display_data"
    },
    {
     "name": "stdout",
     "output_type": "stream",
     "text": [
      "train loss at 22 epochs: 2.4783e-01,1.7006e-01\r"
     ]
    },
    {
     "data": {
      "application/vnd.jupyter.widget-view+json": {
       "model_id": "",
       "version_major": 2,
       "version_minor": 0
      },
      "text/plain": [
       "Val batches:   0%|          | 0/11 [00:00<?, ?it/s]"
      ]
     },
     "metadata": {},
     "output_type": "display_data"
    },
    {
     "name": "stdout",
     "output_type": "stream",
     "text": [
      " val loss at 22 epochs: A: 2.5330e-01,1.7264e-01\r"
     ]
    },
    {
     "data": {
      "application/vnd.jupyter.widget-view+json": {
       "model_id": "",
       "version_major": 2,
       "version_minor": 0
      },
      "text/plain": [
       "Train batches:   0%|          | 0/25 [00:00<?, ?it/s]"
      ]
     },
     "metadata": {},
     "output_type": "display_data"
    },
    {
     "name": "stdout",
     "output_type": "stream",
     "text": [
      "train loss at 23 epochs: 2.4759e-01,1.6987e-01\r"
     ]
    },
    {
     "data": {
      "application/vnd.jupyter.widget-view+json": {
       "model_id": "",
       "version_major": 2,
       "version_minor": 0
      },
      "text/plain": [
       "Val batches:   0%|          | 0/11 [00:00<?, ?it/s]"
      ]
     },
     "metadata": {},
     "output_type": "display_data"
    },
    {
     "name": "stdout",
     "output_type": "stream",
     "text": [
      " val loss at 23 epochs: A: 2.5194e-01,1.7218e-01\r"
     ]
    },
    {
     "data": {
      "application/vnd.jupyter.widget-view+json": {
       "model_id": "",
       "version_major": 2,
       "version_minor": 0
      },
      "text/plain": [
       "Train batches:   0%|          | 0/25 [00:00<?, ?it/s]"
      ]
     },
     "metadata": {},
     "output_type": "display_data"
    },
    {
     "name": "stdout",
     "output_type": "stream",
     "text": [
      "train loss at 24 epochs: 2.4692e-01,1.6891e-01\r"
     ]
    },
    {
     "data": {
      "application/vnd.jupyter.widget-view+json": {
       "model_id": "",
       "version_major": 2,
       "version_minor": 0
      },
      "text/plain": [
       "Val batches:   0%|          | 0/11 [00:00<?, ?it/s]"
      ]
     },
     "metadata": {},
     "output_type": "display_data"
    },
    {
     "name": "stdout",
     "output_type": "stream",
     "text": [
      " val loss at 24 epochs: A: 2.5100e-01,1.7249e-01\r"
     ]
    },
    {
     "data": {
      "application/vnd.jupyter.widget-view+json": {
       "model_id": "",
       "version_major": 2,
       "version_minor": 0
      },
      "text/plain": [
       "Train batches:   0%|          | 0/25 [00:00<?, ?it/s]"
      ]
     },
     "metadata": {},
     "output_type": "display_data"
    },
    {
     "name": "stdout",
     "output_type": "stream",
     "text": [
      "train loss at 25 epochs: 2.4647e-01,1.6834e-01\r"
     ]
    },
    {
     "data": {
      "application/vnd.jupyter.widget-view+json": {
       "model_id": "",
       "version_major": 2,
       "version_minor": 0
      },
      "text/plain": [
       "Val batches:   0%|          | 0/11 [00:00<?, ?it/s]"
      ]
     },
     "metadata": {},
     "output_type": "display_data"
    },
    {
     "name": "stdout",
     "output_type": "stream",
     "text": [
      " val loss at 25 epochs: A: 2.5084e-01,1.7191e-01\r"
     ]
    },
    {
     "data": {
      "application/vnd.jupyter.widget-view+json": {
       "model_id": "",
       "version_major": 2,
       "version_minor": 0
      },
      "text/plain": [
       "Train batches:   0%|          | 0/25 [00:00<?, ?it/s]"
      ]
     },
     "metadata": {},
     "output_type": "display_data"
    },
    {
     "name": "stdout",
     "output_type": "stream",
     "text": [
      "train loss at 26 epochs: 2.4586e-01,1.6830e-01\r"
     ]
    },
    {
     "data": {
      "application/vnd.jupyter.widget-view+json": {
       "model_id": "",
       "version_major": 2,
       "version_minor": 0
      },
      "text/plain": [
       "Val batches:   0%|          | 0/11 [00:00<?, ?it/s]"
      ]
     },
     "metadata": {},
     "output_type": "display_data"
    },
    {
     "name": "stdout",
     "output_type": "stream",
     "text": [
      " val loss at 26 epochs: A: 2.5046e-01,1.7077e-01\r"
     ]
    },
    {
     "data": {
      "application/vnd.jupyter.widget-view+json": {
       "model_id": "",
       "version_major": 2,
       "version_minor": 0
      },
      "text/plain": [
       "Train batches:   0%|          | 0/25 [00:00<?, ?it/s]"
      ]
     },
     "metadata": {},
     "output_type": "display_data"
    },
    {
     "name": "stdout",
     "output_type": "stream",
     "text": [
      "train loss at 27 epochs: 2.4622e-01,1.6775e-01\r"
     ]
    },
    {
     "data": {
      "application/vnd.jupyter.widget-view+json": {
       "model_id": "",
       "version_major": 2,
       "version_minor": 0
      },
      "text/plain": [
       "Val batches:   0%|          | 0/11 [00:00<?, ?it/s]"
      ]
     },
     "metadata": {},
     "output_type": "display_data"
    },
    {
     "name": "stdout",
     "output_type": "stream",
     "text": [
      " val loss at 27 epochs: A: 2.5012e-01,1.7058e-01\r"
     ]
    },
    {
     "data": {
      "application/vnd.jupyter.widget-view+json": {
       "model_id": "",
       "version_major": 2,
       "version_minor": 0
      },
      "text/plain": [
       "Train batches:   0%|          | 0/25 [00:00<?, ?it/s]"
      ]
     },
     "metadata": {},
     "output_type": "display_data"
    },
    {
     "name": "stdout",
     "output_type": "stream",
     "text": [
      "train loss at 28 epochs: 2.4564e-01,1.6741e-01\r"
     ]
    },
    {
     "data": {
      "application/vnd.jupyter.widget-view+json": {
       "model_id": "",
       "version_major": 2,
       "version_minor": 0
      },
      "text/plain": [
       "Val batches:   0%|          | 0/11 [00:00<?, ?it/s]"
      ]
     },
     "metadata": {},
     "output_type": "display_data"
    },
    {
     "name": "stdout",
     "output_type": "stream",
     "text": [
      " val loss at 28 epochs: A: 2.5008e-01,1.6937e-01\r"
     ]
    },
    {
     "data": {
      "application/vnd.jupyter.widget-view+json": {
       "model_id": "",
       "version_major": 2,
       "version_minor": 0
      },
      "text/plain": [
       "Train batches:   0%|          | 0/25 [00:00<?, ?it/s]"
      ]
     },
     "metadata": {},
     "output_type": "display_data"
    },
    {
     "name": "stdout",
     "output_type": "stream",
     "text": [
      "train loss at 29 epochs: 2.4443e-01,1.6758e-01\r"
     ]
    },
    {
     "data": {
      "application/vnd.jupyter.widget-view+json": {
       "model_id": "",
       "version_major": 2,
       "version_minor": 0
      },
      "text/plain": [
       "Val batches:   0%|          | 0/11 [00:00<?, ?it/s]"
      ]
     },
     "metadata": {},
     "output_type": "display_data"
    },
    {
     "name": "stdout",
     "output_type": "stream",
     "text": [
      " val loss at 29 epochs: A: 2.4873e-01,1.6905e-01\r"
     ]
    },
    {
     "data": {
      "image/png": "[encoded data removed]",
      "text/plain": [
       "<Figure size 2000x1400 with 1 Axes>"
      ]
     },
     "metadata": {},
     "output_type": "display_data"
    }
   ],
   "source": [
    "from tqdm.auto import tqdm\n",
    "#Training stuff\n",
    "nb_epochs = 30\n",
    "mini_batch_size = 16 # 16 bags at a time\n",
    "lr = 1e-4 # the creator used 1e-4\n",
    "criterion = nn.BCELoss() #Used for multilabel classification + Sigmoid\n",
    "adam = optim.Adam(params=AutoEncoder_DeepRC.parameters(), lr = lr)\n",
    "train_losses_a = []\n",
    "train_losses_b = []\n",
    "AutoEncoder_DeepRC.to(device)\n",
    "val_losses_a = []\n",
    "val_losses_b = [] \n",
    "\n",
    "best_a = 100000\n",
    "best_b = 100000\n",
    "\n",
    "for e in tqdm(range(nb_epochs),position=0):\n",
    "    train_loss_a, train_loss_b = drc_train_model(AutoEncoder_DeepRC, criterion, optimizer=adam, dataset=train,\n",
    "                                      mini_batch_size=mini_batch_size)\n",
    "    print(f'train loss at {e} epochs: A:\\t{train_loss_a:.4e}, B:\\t{train_loss_b:.4e}', end='\\r')\n",
    "    train_losses_a.append(train_loss_a)\n",
    "    train_losses_b.append(train_loss_b)\n",
    "    #validation\n",
    "    val_a, val_b = drc_eval_model(AutoEncoder_DeepRC, criterion, dataset=val, \n",
    "                              mini_batch_size=mini_batch_size)\n",
    "    \n",
    "    if val_a < best_a : best_a = val_a\n",
    "    if val_b < best_b : best_b = val_b\n",
    "        \n",
    "    if e != 0 and np.mean([val_a, val_b]) <= np.mean([best_a, best_b]):\n",
    "        torch.save({'state_dict':AutoEncoder_DeepRC.state_dict(), 'epoch':e}, './DeepRC_Autoencoder.pth.tar')\n",
    "        \n",
    "    val_losses_a.append(val_a)\n",
    "    val_losses_b.append(val_b)\n",
    "    print(f'val loss at {e} epochs: A:\\t{val_a:.4e}, B:\\t{val_b:.4e}', end='\\r')\n",
    "    \n",
    "losses = {'train_a':train_losses_a,\n",
    "          'train_b':train_losses_b,\n",
    "          'val_a' : val_losses_a,\n",
    "          'val_b' : val_losses_b}\n",
    "plt.figure(figsize=(10,7))\n",
    "for k in losses.keys():\n",
    "    plt.plot(losses[k], label = k)\n",
    "plt.legend()\n",
    "save_pkl('./withBestAutoEncoder_frozen_losses.pkl', losses)"
   ]
  },
  {
   "cell_type": "code",
   "execution_count": 262,
   "id": "orange-fundamental",
   "metadata": {
    "collapsed": true,
    "jupyter": {
     "outputs_hidden": true
    }
   },
   "outputs": [
    {
     "data": {
      "text/plain": [
       "DeepRC_AutoEncoder(\n",
       "  (embedding): Sequential(\n",
       "    (0): Linear(in_features=483, out_features=241, bias=True)\n",
       "    (1): SELU()\n",
       "    (2): Linear(in_features=241, out_features=100, bias=True)\n",
       "    (3): SELU()\n",
       "    (4): Linear(in_features=100, out_features=40, bias=True)\n",
       "  )\n",
       "  (attention): AttentionNetwork(\n",
       "    (attention_nn): Sequential(\n",
       "      (0): Linear(in_features=40, out_features=64, bias=True)\n",
       "      (1): SELU()\n",
       "      (2): Linear(in_features=64, out_features=64, bias=True)\n",
       "      (3): SELU()\n",
       "      (4): Linear(in_features=64, out_features=1, bias=True)\n",
       "    )\n",
       "  )\n",
       "  (out_A): OutputNetwork(\n",
       "    (output_nn): Sequential(\n",
       "      (0): Linear(in_features=40, out_features=32, bias=True)\n",
       "      (1): SELU()\n",
       "      (2): Linear(in_features=32, out_features=21, bias=True)\n",
       "    )\n",
       "    (sig): Sigmoid()\n",
       "    (dropout): Identity()\n",
       "  )\n",
       "  (out_B): OutputNetwork(\n",
       "    (output_nn): Sequential(\n",
       "      (0): Linear(in_features=40, out_features=32, bias=True)\n",
       "      (1): SELU()\n",
       "      (2): Linear(in_features=32, out_features=40, bias=True)\n",
       "    )\n",
       "    (sig): Sigmoid()\n",
       "    (dropout): Identity()\n",
       "  )\n",
       ")"
      ]
     },
     "execution_count": 262,
     "metadata": {},
     "output_type": "execute_result"
    }
   ],
   "source": [
    "AutoEncoder_DeepRC"
   ]
  },
  {
   "cell_type": "markdown",
   "id": "related-rider",
   "metadata": {},
   "source": [
    "### Multi-label classification metrics"
   ]
  },
  {
   "cell_type": "code",
   "execution_count": 303,
   "id": "cultural-humor",
   "metadata": {
    "collapsed": true,
    "jupyter": {
     "outputs_hidden": true
    }
   },
   "outputs": [
    {
     "data": {
      "text/plain": [
       "<All keys matched successfully>"
      ]
     },
     "execution_count": 303,
     "metadata": {},
     "output_type": "execute_result"
    }
   ],
   "source": [
    "chkpt = torch.load('./DeepRC_Autoencoder.pth.tar')\n",
    "AutoEncoder_DeepRC.load_state_dict(chkpt['state_dict'])"
   ]
  },
  {
   "cell_type": "code",
   "execution_count": 316,
   "id": "american-campus",
   "metadata": {},
   "outputs": [
    {
     "data": {
      "text/plain": [
       "(tensor([[ True,  True,  True, False, False, False, False, False, False, False,\n",
       "          False, False, False, False, False, False, False, False, False, False,\n",
       "          False]]),\n",
       " tensor([[False,  True, False, False, False, False, False, False, False, False,\n",
       "          False, False, False, False, False, False, False, False, False, False,\n",
       "          False, False, False, False, False, False, False, False, False, False,\n",
       "          False, False, False, False, False, False, False, False, False, False]]),\n",
       " tensor([[0., 1., 0., 0., 0., 0., 0., 0., 0., 0., 0., 0., 1., 0., 0., 0., 0., 0.,\n",
       "          0., 0., 0.]]),\n",
       " tensor([[0., 0., 0., 0., 0., 0., 0., 1., 0., 0., 0., 0., 0., 0., 0., 0., 0., 0.,\n",
       "          0., 0., 0., 0., 0., 0., 0., 1., 0., 0., 0., 0., 0., 0., 0., 0., 0., 0.,\n",
       "          0., 0., 0., 0.]]))"
      ]
     },
     "execution_count": 316,
     "metadata": {},
     "output_type": "execute_result"
    }
   ],
   "source": [
    "DATA = test_data.get_random_patients(1)\n",
    "AutoEncoder_DeepRC = AutoEncoder_DeepRC.cpu()\n",
    "out_A, out_B = AutoEncoder_DeepRC(DATA[0], DATA[3])\n",
    "#out_A[out_A>=0.51] = 1 else 0\n",
    "out_A>=0.2, out_B>=0.2, DATA[1], DATA[2]"
   ]
  },
  {
   "cell_type": "code",
   "execution_count": 312,
   "id": "generous-swimming",
   "metadata": {},
   "outputs": [
    {
     "data": {
      "text/plain": [
       "tensor(2.)"
      ]
     },
     "execution_count": 312,
     "metadata": {},
     "output_type": "execute_result"
    }
   ],
   "source": [
    "DATA[1].sum()"
   ]
  },
  {
   "cell_type": "code",
   "execution_count": 313,
   "id": "retained-patrick",
   "metadata": {},
   "outputs": [
    {
     "data": {
      "text/plain": [
       "(tensor([0, 0, 0, 0]), tensor([0, 1, 2, 5]))"
      ]
     },
     "execution_count": 313,
     "metadata": {},
     "output_type": "execute_result"
    }
   ],
   "source": [
    "torch.where(out_A>=0.2)"
   ]
  }
 ],
 "metadata": {
  "kernelspec": {
   "display_name": "Python 3 (ipykernel)",
   "language": "python",
   "name": "python3"
  },
  "language_info": {
   "codemirror_mode": {
    "name": "ipython",
    "version": 3
   },
   "file_extension": ".py",
   "mimetype": "text/x-python",
   "name": "python",
   "nbconvert_exporter": "python",
   "pygments_lexer": "ipython3",
   "version": "3.11.4"
  }
 },
 "nbformat": 4,
 "nbformat_minor": 5
}
