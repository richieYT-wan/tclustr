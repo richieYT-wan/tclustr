{
 "cells": [
  {
   "cell_type": "code",
   "execution_count": 1,
   "id": "recovered-faculty",
   "metadata": {},
   "outputs": [
    {
     "name": "stdout",
     "output_type": "stream",
     "text": [
      "Using : cuda\n"
     ]
    }
   ],
   "source": [
    "from __future__ import print_function, division\n",
    "#Allows relative imports\n",
    "import os, sys\n",
    "module_path = os.path.abspath(os.path.join('..'))\n",
    "if module_path not in sys.path:\n",
    "    sys.path.append(module_path)\n",
    "#imports from files\n",
    "from src.preprocessing import *\n",
    "from src.train_eval_helpers import *\n",
    "from src.VAE_train import *\n",
    "\n",
    "from src.vautoencoders import *\n",
    "#from loss_metrics import *\n",
    "from src.plots import *\n",
    "from src.pickling import *\n",
    "from src.datasets import *\n",
    "\n",
    "import pandas as pd \n",
    "import numpy as np\n",
    "import math\n",
    "\n",
    "import torch\n",
    "import torch.nn as nn\n",
    "import torch.nn.functional as F\n",
    "from torch.utils.data import Dataset, DataLoader\n",
    "\n",
    "#checking gpu status\n",
    "if torch.cuda.is_available():\n",
    "    device = torch.device('cuda')\n",
    "    print(\"Using : {}\".format(device))\n",
    "else:\n",
    "    device = torch.device('cpu')\n",
    "    print(\"Using : {}\".format(device))\n",
    "    \n",
    "#Plot and stuff\n",
    "import seaborn as sns\n",
    "import matplotlib as mpl\n",
    "import matplotlib.pyplot as plt\n",
    "mpl.rcParams['figure.dpi']= 300\n",
    "sns.set_style('darkgrid')\n",
    "\n",
    "\n",
    "# Ignore warnings)\n",
    "import warnings\n",
    "warnings.filterwarnings(\"ignore\")\n",
    "    \n",
    "%load_ext autoreload\n",
    "%autoreload 2"
   ]
  },
  {
   "cell_type": "code",
   "execution_count": 2,
   "id": "limited-pennsylvania",
   "metadata": {},
   "outputs": [],
   "source": [
    "train_dataset, valid_dataset, test_dataset  = load_naive_dataset('../training_data_new/db_TRB.csv')"
   ]
  },
  {
   "cell_type": "markdown",
   "id": "double-improvement",
   "metadata": {},
   "source": [
    "## Now, try to reproduce and retrain the best model I got (no manual tuning)\n",
    "- with the full dataset and smaller LR\n",
    "- latent dim = 40\n",
    "- act = nn.SELU()\n",
    "- weight decay ~= LR\n",
    "- weighted labeling (= 1.6)"
   ]
  },
  {
   "cell_type": "code",
   "execution_count": 5,
   "id": "romance-drawing",
   "metadata": {},
   "outputs": [
    {
     "data": {
      "text/plain": [
       "<All keys matched successfully>"
      ]
     },
     "execution_count": 5,
     "metadata": {},
     "output_type": "execute_result"
    }
   ],
   "source": [
    "autoencoder = AutoEncoder(latent_dim = 40, aa_dim = 21, \n",
    "                             seq_len = 23, act = nn.SELU())\n",
    "\n",
    "autoencoder.to(device)\n",
    "# Reloading the best weight\n",
    "best_chkpt = torch.load('./Best_AE_model_latdim40_withSELU.pth.tar')\n",
    "autoencoder.load_state_dict(best_chkpt['state_dict'])"
   ]
  },
  {
   "cell_type": "code",
   "execution_count": 6,
   "id": "sweet-defense",
   "metadata": {
    "collapsed": true,
    "jupyter": {
     "outputs_hidden": true
    }
   },
   "outputs": [
    {
     "name": "stdout",
     "output_type": "stream",
     "text": [
      "\n",
      "#######################\n",
      "\n",
      "Test set\n",
      "\n",
      "real:\t\tCSVEEDNRDTEAFFXXXXXXXXX\n",
      "decoded:\tCSVEEDNRDTEAFFXXXXXXXXX\n",
      "\n",
      "real:\t\tCARDPNGGGGGGVTEAFFXXXXX\n",
      "decoded:\tCARDPXGGGGGGNTEQFFXXXXX\n",
      "\n",
      "real:\t\tCAGSPEFSGAEETQYFXXXXXXX\n",
      "decoded:\tCAGSPEXSGAQETQYFXXXXXXX\n",
      "\n",
      "real:\t\tCASSQLREGPDERVFXXXXXXXX\n",
      "decoded:\tCASSQLREGXXERFFXXXXXXXX\n",
      "\n",
      "real:\t\tCSAETGLAYGYTFXXXXXXXXXX\n",
      "decoded:\tCSAETGLAYGYTFXLXXXXXXXX\n",
      "\n",
      "real:\t\tCASSCRGLAGGPDTQYCXXXXXX\n",
      "decoded:\tCASSXRGLAGGPETQYFXXXXXX\n",
      "\n",
      "real:\t\tYASSPHTTSTETQYFXXXXXXXX\n",
      "decoded:\tYASSPXTTSTETQYFXXXXXXXX\n",
      "\n",
      "real:\t\tCASIKYQGSTGELFFXXXXXXXX\n",
      "decoded:\tCASIXXQGSTGELFFXXXXXXXX\n",
      "\n",
      "real:\t\tCAISKDPPGTDTQYFXXXXXXXX\n",
      "decoded:\tCAISXDPPGTDTQYFXXXXXXXX\n",
      "\n",
      "real:\t\tCASSPEGGQGAIGANVLTFXXXX\n",
      "decoded:\tCASSPEGGQGAGGXNXLXFXXXX\n"
     ]
    },
    {
     "data": {
      "text/plain": [
       "(array(['CSVEEDNRDTEAFFXXXXXXXXX', 'CARDPNGGGGGGVTEAFFXXXXX',\n",
       "        'CAGSPEFSGAEETQYFXXXXXXX', 'CASSQLREGPDERVFXXXXXXXX',\n",
       "        'CSAETGLAYGYTFXXXXXXXXXX', 'CASSCRGLAGGPDTQYCXXXXXX',\n",
       "        'YASSPHTTSTETQYFXXXXXXXX', 'CASIKYQGSTGELFFXXXXXXXX',\n",
       "        'CAISKDPPGTDTQYFXXXXXXXX', 'CASSPEGGQGAIGANVLTFXXXX'], dtype=object),\n",
       " array(['CSVEEDNRDTEAFFXXXXXXXXX', 'CARDPXGGGGGGNTEQFFXXXXX',\n",
       "        'CAGSPEXSGAQETQYFXXXXXXX', 'CASSQLREGXXERFFXXXXXXXX',\n",
       "        'CSAETGLAYGYTFXLXXXXXXXX', 'CASSXRGLAGGPETQYFXXXXXX',\n",
       "        'YASSPXTTSTETQYFXXXXXXXX', 'CASIXXQGSTGELFFXXXXXXXX',\n",
       "        'CAISXDPPGTDTQYFXXXXXXXX', 'CASSPEGGQGAGGXNXLXFXXXX'], dtype=object))"
      ]
     },
     "execution_count": 6,
     "metadata": {},
     "output_type": "execute_result"
    }
   ],
   "source": [
    "print('\\n#######################\\n\\nTest set')\n",
    "test_decode(autoencoder, test_dataset, 10)"
   ]
  },
  {
   "cell_type": "code",
   "execution_count": 10,
   "id": "potential-stuart",
   "metadata": {
    "collapsed": true,
    "jupyter": {
     "outputs_hidden": true
    }
   },
   "outputs": [
    {
     "data": {
      "text/plain": [
       "['CASSFERQANTEAFF',\n",
       " 'CASSFPPGAYGYTF',\n",
       " 'CASSFGHGLNEKLFF',\n",
       " 'CASSFRTKTDTQYF',\n",
       " 'CASSFYELNTEAFF',\n",
       " 'CASSFISSGVGETQYF',\n",
       " 'CASSFVGTGVGSNQPQHF',\n",
       " 'CASSFKQGWFGTGVFF',\n",
       " 'CASSFAWGNYEQYF',\n",
       " 'CASSFGALTQSYEQYF',\n",
       " 'CASSFWAGNTIYF',\n",
       " 'CASSFRDFQETQYF',\n",
       " 'CASSFGTANQPQHF',\n",
       " 'CASSFVSGRVYEQFF',\n",
       " 'CASSFIPPGEGLYYGYTF',\n",
       " 'CASSFSPGRPQHF',\n",
       " 'CASSFGFGASGNVEQFF',\n",
       " 'CASSFKGDRDTQYF',\n",
       " 'CASSFRQGSNTGELFF',\n",
       " 'CASSFRLPYEQYF',\n",
       " 'CASSFRYEQYF',\n",
       " 'CASSFDGPGPGQYF',\n",
       " 'CASSFKTRDNEQFF',\n",
       " 'CASSFSPGRENYGYTF',\n",
       " 'CASSFRLGLSNQPQHF',\n",
       " 'CASSFPPGGGNEQFF',\n",
       " 'CASSFQRGRRNEQFF',\n",
       " 'CASSFLESGANVLTF',\n",
       " 'CASSFPSGGSYNEQFF',\n",
       " 'CASSFPGGCNQPQHF',\n",
       " 'CASSFELAGALTDTQYF',\n",
       " 'CASSFRTTDTQYF',\n",
       " 'CASSFAPRDTQYF',\n",
       " 'CASSFSGYDGYTF',\n",
       " 'CASSFGFSGGTYEQYF',\n",
       " 'CASSFLSGNEQFF',\n",
       " 'CASSFLGSLEGRTQYF',\n",
       " 'CASSFSAPSEQYF',\n",
       " 'CASSFGGGAEDTQYF',\n",
       " 'CASSFEANYGYTF',\n",
       " 'CASSFFLRGRTGTGGETQYF',\n",
       " 'CASSFGLAGPITDTQYF',\n",
       " 'CASSFRQGPDTQYF',\n",
       " 'CASSFSQFNEQFF',\n",
       " 'CASSFSPPQGGPYGYTF',\n",
       " 'CASSFRRSNEQFF',\n",
       " 'CASSFGVGAYRQPQHF',\n",
       " 'CASSFSLAGYADTQYF',\n",
       " 'CASSFPAGARNTEAFF',\n",
       " 'CASSFQGAEETQYF',\n",
       " 'CASSFNWGNQPQHF',\n",
       " 'CASSFHRSTGMNTEAFF',\n",
       " 'CASSFGLGTEPTDTQYF',\n",
       " 'CASSFALPGREQYF',\n",
       " 'CASSFRQERNYGYTF',\n",
       " 'CASSFLGLSYNEQFF',\n",
       " 'CASSFTTGSFSGQPQHF',\n",
       " 'CASSFLGQVNLAVTNEKLFV',\n",
       " 'CASSFGSREQDQHF',\n",
       " 'CASSFATSGSTDPQYF',\n",
       " 'CASSFSLADYEQYF',\n",
       " 'CASSFGTATDTQYF',\n",
       " 'CASSFLGQAADTQYF',\n",
       " 'CASSFPDRVGYGYTF',\n",
       " 'CASSFLGGGSNYGYTF',\n",
       " 'CASSFPTTTGKTAFF',\n",
       " 'CASSFPTSGTLGQETQYF',\n",
       " 'CASSFRTATNQPQHF',\n",
       " 'CASSFSGGRGTDTQYF',\n",
       " 'CASSFSAGDYNEQFF',\n",
       " 'CASSFIENTEAFV',\n",
       " 'CASSFSTEAYEQYF',\n",
       " 'CASSFISGIPYEQYF',\n",
       " 'CASSFSLAGGAGELFF',\n",
       " 'CASSFGEGLNYGYTF',\n",
       " 'CASSFISGIPYEQYV',\n",
       " 'CASSFNPGLAGAYEQYF',\n",
       " 'CASSFTRGAYEQYF',\n",
       " 'CASSFPGTAEKLFF',\n",
       " 'CASSFTWDTDYEQYF',\n",
       " 'CASSFRDLPYEQYF',\n",
       " 'CASSFAPTATYEQYV',\n",
       " 'CASSFGKDPYSYEQYF',\n",
       " 'CASSFTGPGELFF',\n",
       " 'CASSFENSPSYEQYV',\n",
       " 'CASSFGPGYRYNEQFF',\n",
       " 'CASSFSSLNTGELFF',\n",
       " 'CASSFAAVTQYF',\n",
       " 'CASSFGFEGLQYF',\n",
       " 'CASSFRRFIGIPNTEAFF',\n",
       " 'CASSFPGTGTEQYV',\n",
       " 'CASSFTRCNQPQHF',\n",
       " 'CASSFYQTDTQYF',\n",
       " 'CASSFWVGGETQYF',\n",
       " 'CASSFLAGGWEQYF',\n",
       " 'CASSFSPVAGTNPGELFF',\n",
       " 'CASSFSGSYEETQYF',\n",
       " 'CASSFENSPYYEQYF',\n",
       " 'CASSFRASSYNSPLHF',\n",
       " 'CASSFVAEGPADTQYF',\n",
       " 'CASSFTIKNIQYF',\n",
       " 'CASSFENSPSYEQYC',\n",
       " 'CASSFLASRETQYF',\n",
       " 'CASSFTGTGGYYGYTF',\n",
       " 'CASSFDLSGDTQYV',\n",
       " 'CASSFGTGTHKGGELFF',\n",
       " 'CASSFHGRSQETQYF',\n",
       " 'CASSFRIGLNTGELFF',\n",
       " 'CASSFYGQGGNTEAFF',\n",
       " 'CASSFGDAGTYEQYF',\n",
       " 'CASSFERTIQETQYF',\n",
       " 'CASSFAPTATYEQYF',\n",
       " 'CASSFQGLAGQQETQYF',\n",
       " 'CASSFSYGTGGRLNQNTEAFF',\n",
       " 'CASSFVGSVDEQFF',\n",
       " 'CASSFEGSNIQYF',\n",
       " 'CASSFGTSGSNELFF',\n",
       " 'CASSFSGGGGYEQYF',\n",
       " 'CASSFGDRGQGTQYF',\n",
       " 'CASSFLGKETQYF',\n",
       " 'CASSFLETVTGTGGYEQYF',\n",
       " 'CASSFTLHEQVF',\n",
       " 'CASSFDSSSPLHF',\n",
       " 'CASSFPPVLAKNIQYF',\n",
       " 'CASSFKRRGRNETQYF',\n",
       " 'CASSFLTGTLSGNTIYF',\n",
       " 'CASSFRPERSYNEQFF',\n",
       " 'CASSFRVQRGAHNEQFF',\n",
       " 'CASSFQGGSNQPQHF',\n",
       " 'CASSFGGINQPQNF',\n",
       " 'CASSFLGTDGYTF',\n",
       " 'CASSFNFVTSGGREQFF',\n",
       " 'CASSFSGNQPQHV',\n",
       " 'CASSFRDRAHYGYNF',\n",
       " 'CASSFNWQSLFF',\n",
       " 'CASSFMLGGQGVEAFF',\n",
       " 'CASSFAQGPTDTQYF',\n",
       " 'CASSFGQEKTTQYF',\n",
       " 'CASSFRGTDANSPLHF',\n",
       " 'CASSFLGQVNLVVTNEKLFF',\n",
       " 'CASSFEGLPNTEAFF',\n",
       " 'CASSFREADTQYF',\n",
       " 'CASSFEPINTDTQYF',\n",
       " 'CASSFTGTDYEQYF',\n",
       " 'CASSFDLSGDTQYF',\n",
       " 'CASSFWNVNTEAFF',\n",
       " 'CASSFFSGTQDALETQYF',\n",
       " 'CASSFSGTGMLKETQYF',\n",
       " 'CASSFGFASEQYF',\n",
       " 'CASSFSDRGGEKLFF',\n",
       " 'CASSFNIPPSGGESTDTQYF',\n",
       " 'CASSFSTAEQFF',\n",
       " 'CASSFGISNQPQHF',\n",
       " 'CASSFPLSGGNNEQFF',\n",
       " 'CASSFFFRGDQFF',\n",
       " 'CASSFTGAINNEQFF',\n",
       " 'CASSFGGVSGSHSNEQFF',\n",
       " 'CASSFSGGASPTQYF',\n",
       " 'CASSFSRLAGGPDTQYF',\n",
       " 'CASSFGLAGSEQFF',\n",
       " 'CASSFQGAEADTQYF',\n",
       " 'CASSFGGTDEQFF',\n",
       " 'CASSFDTPGTPDVLTF',\n",
       " 'CASSFLASGRNTGELFF',\n",
       " 'CASSFSGDVLTF',\n",
       " 'CASSFTSGRLNEQFF',\n",
       " 'CASSFSGTKETQYF',\n",
       " 'CASSFSTSNEQYF',\n",
       " 'CASSFMGEQYF',\n",
       " 'CASSFFQETGELFF',\n",
       " 'CASSFGVESYEQYF',\n",
       " 'CASSFRDSLMYQETQYF',\n",
       " 'CASSFVQERHNEQFF',\n",
       " 'CASSFDGSNTEAFF',\n",
       " 'CASSFMNGPGEQNIQYF',\n",
       " 'CASSFGQGARVAGHLSGANVLTF',\n",
       " 'CASSFPPGVAPYQETQYF',\n",
       " 'CASSFDEVSGRPGANVLTF',\n",
       " 'CASSFPGQGSGYTF',\n",
       " 'CASSFIPQGSSYNEQFF',\n",
       " 'CASSFVFGRINEQFF',\n",
       " 'CASSFSQLTDTQYF',\n",
       " 'CASSFARPGREQYF',\n",
       " 'CASSFSPGIGKETQYF',\n",
       " 'CASSFSLAGEIYNEQFF',\n",
       " 'CASSFTGANNQPQHF',\n",
       " 'CASSFPGLTVGDTQYF',\n",
       " 'CASSFGRGWGDTQYF',\n",
       " 'CASSFDDRGRRGYGYTF',\n",
       " 'CASSFPGSGGYEQYF',\n",
       " 'CASSFEGATGANVLTF',\n",
       " 'CASSFWQSYEQYF',\n",
       " 'CASSFQTGEYNEQFF',\n",
       " 'CASSFRSPARDNEQFF',\n",
       " 'CASSFWGSEHFF',\n",
       " 'CASSFHRERGAGELFF',\n",
       " 'CASSFYTGGLEQYF',\n",
       " 'CASSFPVDGVQQYC',\n",
       " 'CASSFGGRTEAFV',\n",
       " 'CASSFLSAGGRNIQYF',\n",
       " 'CASSFRAGNQETQYF',\n",
       " 'CASSFYDNQPQHF',\n",
       " 'CASSFRPGQGVDEQFF',\n",
       " 'CASSFLTDDQPQHF',\n",
       " 'CASSFDWTYEQYF',\n",
       " 'CASSFASAEQFF',\n",
       " 'CASSFENRPSYEQYF',\n",
       " 'CASSFSREETQYF',\n",
       " 'CASSFGLGSQETQYF',\n",
       " 'CASSFIRADSPLHF',\n",
       " 'CASSFGTVEQYF',\n",
       " 'CASSFATSGRTDTQYF',\n",
       " 'CASSFKTSGEETQYF',\n",
       " 'CASSFKVAGDVEQFF',\n",
       " 'CASSFFDRATEAFF',\n",
       " 'CASSFRGATYNEQFF',\n",
       " 'CASSFRGPRTGANVLTF',\n",
       " 'CASSFGVPYTKYNEQFF',\n",
       " 'CASSFTPQLSYEQYF',\n",
       " 'CASSFLAGDRYNEQFF',\n",
       " 'CASSFNSDTDTQYF',\n",
       " 'CASSFVGQGRGDTQYF',\n",
       " 'CASSFLAGGLTGELFF',\n",
       " 'CASSFALPRREQYF',\n",
       " 'CASSFKAGEETQYF',\n",
       " 'CASSFGASWETQYF',\n",
       " 'CASSFISRPADTQYF',\n",
       " 'CASSFQNEQYF',\n",
       " 'CASSFENSPSYEQYG',\n",
       " 'CASSFWDREKETQYF',\n",
       " 'CASSFEGQGNEQFF',\n",
       " 'CASSFRLVYTDTQYF',\n",
       " 'CASSFGLAGNQETQYF',\n",
       " 'CASSFTSGGEKDEQFF',\n",
       " 'CASSFPTSGGSETQYF',\n",
       " 'CASSFPARNEQFF',\n",
       " 'CASSFSTGGLSDEQFF',\n",
       " 'CASSFTGTENEQFF',\n",
       " 'CASSFGLAGVLEESVKETQYF',\n",
       " 'CASSFSGGRGTDSQYF',\n",
       " 'CASSFPSGDQETQYF',\n",
       " 'CASSFIGSDEQFF',\n",
       " 'CASSFPWKDTGELFF',\n",
       " 'CASSFCFRGEQFF',\n",
       " 'CASSFKGTAPEAFF',\n",
       " 'CASSFLDTQETQYF',\n",
       " 'CASSFPTSGESTDTQYF',\n",
       " 'CASSFGTGFSRANVLTF',\n",
       " 'CASSFKQAATEAFF',\n",
       " 'CASSFIRADSPLHL',\n",
       " 'CASSFSRGLIEQYF',\n",
       " 'CASSFNSDTNTQYF',\n",
       " 'CASSFSSGLITDTQYF',\n",
       " 'CASSFPIAGRTDTQYF',\n",
       " 'CASSFPRTEAKNIQYF',\n",
       " 'CASSFTSGHNEQFF',\n",
       " 'CASSFKSGLREQYF',\n",
       " 'CASSFFLNGAGTPDTQYF',\n",
       " 'CASSFEAELFF',\n",
       " 'CASSFIGSDEQFC',\n",
       " 'CASSFPSGGSETQYF',\n",
       " 'CASSFTQLAKNIQYF',\n",
       " 'CASSFENGPSDEQYF',\n",
       " 'CASSFKASGEETQYF',\n",
       " 'CASSFSGTGSETQYF',\n",
       " 'CASSFESSPSYEQYF',\n",
       " 'CASSFENSPSYEQCV',\n",
       " 'CASSFGQGAEGETQYF',\n",
       " 'CASSFAQGREQYF',\n",
       " 'CASSFTSGSYNEQFF',\n",
       " 'CASSFRGAGEFSEQFF',\n",
       " 'CASSFPPGGELFF',\n",
       " 'CASSFENSPCYEQYF',\n",
       " 'CASSFRGFDEQYF',\n",
       " 'CASSFGLAGEGEQYF',\n",
       " 'CASSFGLAGGQSYEQYF',\n",
       " 'CASSFSRGRSEQYF',\n",
       " 'CASSFALPGREQYV',\n",
       " 'CASSFARDSSGYEQFF',\n",
       " 'CASSFGATNEQFF',\n",
       " 'CASSFGEGLWYF',\n",
       " 'CASSFNAGGFNEQFF',\n",
       " 'CASSFGTGFAGANVLTF',\n",
       " 'CASSFGTGFSGASVLTI',\n",
       " 'CASSFGTGAGEKLFF',\n",
       " 'CASSFGISNQPQHV',\n",
       " 'CASSFRAGGDQYF',\n",
       " 'CASSFGVAGSEQFF',\n",
       " 'CASSFETSGGLYQETQYF',\n",
       " 'CASSFSPPEASGEEDTQYF',\n",
       " 'CASSFGTSSHNEQFF',\n",
       " 'CASSFTTSGIDEQFF',\n",
       " 'CASSFGPGYRYNEQFV',\n",
       " 'CASSFEDSPSYEQYF',\n",
       " 'CASSFSLAEYEQYF',\n",
       " 'CASSFDSDHGELFF',\n",
       " 'CASSFWGSEQFF',\n",
       " 'CASSFVGVQFF',\n",
       " 'CASSFENSPSYEQYL',\n",
       " 'CASSFTGANNQPQHV',\n",
       " 'CASSFPWEDTGELFF',\n",
       " 'CASSFMVGDIQYF',\n",
       " 'CASSFELETQYI',\n",
       " 'CASSFGTGFSGANVLTF',\n",
       " 'CASSFGISGAYTQYF',\n",
       " 'CASSFERGAGEQFF',\n",
       " 'CASSFGISGADTQYF',\n",
       " 'CASSFSEDGETQYF',\n",
       " 'CASSFGAGAGEKLFF',\n",
       " 'CASSFGGLGTDTQYV',\n",
       " 'CASSFENSPSYVQYF',\n",
       " 'CASSFIVSDEQFF',\n",
       " 'CASSFLWSPPEQFF',\n",
       " 'CASSFVGGSRGNTIYF',\n",
       " 'CASSFRQASGDAQYF',\n",
       " 'CASSFESSPCYEQYF',\n",
       " 'CASSFESRPYYEQYF',\n",
       " 'CASSFGAHSTDTRYI',\n",
       " 'CASSFESSPYYQQYV',\n",
       " 'CASSFDTGPSYEQYF',\n",
       " 'CASSFSPVAGTNNGELFV',\n",
       " 'CASSFMVQRGTHNEQFF',\n",
       " 'CASSFRDSLIDQEPQYF',\n",
       " 'CASSFDSASSQPQHF',\n",
       " 'CASSFDNSPSYEQYV',\n",
       " 'CASSFAGSIQPQHF',\n",
       " 'CASSFTGSNNQPQHF',\n",
       " 'CASSFFAGAYKQYF',\n",
       " 'CASSFSGGRAIGEQFF',\n",
       " 'CASSFFLNGAGTQDTQYF',\n",
       " 'CASSFNPREAGNVDTQYL',\n",
       " 'CASSFPPGLARTGELFL',\n",
       " 'CASSFRGGSGAFDQYF',\n",
       " 'CASSFDRGGSYNEQFF',\n",
       " 'CASSFKQAENQAFL',\n",
       " 'CASSFAQGDRSEQYF',\n",
       " 'CASSFSEGGYKEQFL',\n",
       " 'CASSFALPEREQYF',\n",
       " 'CASSFGSDHEELFV',\n",
       " 'CASSFGQGAEDEDQYF',\n",
       " 'CASSFERRPSYEQYF',\n",
       " 'CASSFGGRGTDEQYV',\n",
       " 'CASSFVGDDEEYF',\n",
       " 'CASSFERGYPDTQYL',\n",
       " 'CASSFENSPYYQLYF',\n",
       " 'CASSFSTSLSYNVQFV',\n",
       " 'CASSFDNSPSYEQYF',\n",
       " 'CASSFDNRPYYEQYF',\n",
       " 'CASSFNAGGCNEQFF',\n",
       " 'CASSFQLPCFTYQFF',\n",
       " 'CASSFLASGRNTEELFF',\n",
       " 'CASSFENSPSYQQYF',\n",
       " 'CASSFEDVSETRYF',\n",
       " 'CASSFGRGCGDAQYV',\n",
       " 'CASSFLASGRNTEHLFF',\n",
       " 'CASSFNSDTDTHYF',\n",
       " 'CASSFETSGRRRRDTQYF',\n",
       " 'CASSFAGSNQPHHF',\n",
       " 'CASSFAVPAREQYF',\n",
       " 'CASSFGGVRGSQSNEQFF',\n",
       " 'CASSFNADTDTQYF',\n",
       " 'CASSFGVSNEAFF',\n",
       " 'CASSFGTGDEKLFF',\n",
       " 'CASSFQTSGRSETQYF',\n",
       " 'CASSFENRPCYEQYL',\n",
       " 'CASSFNAGGYNQQFI',\n",
       " 'CASSFETRPSYEQYF',\n",
       " 'CASSFDTSPSYEQYF',\n",
       " 'CASSFENSPSCEQYI',\n",
       " 'CASSFCSAANEELFV',\n",
       " 'CASSFSAGDCNEQFF',\n",
       " 'CASSFENSTSYEQYF',\n",
       " 'CASSFYTGDHEQYF',\n",
       " 'CASSFESGPSYEQYF',\n",
       " 'CASSFRLGYTDTEYL',\n",
       " 'CASSFGLAPNLDTQYF',\n",
       " 'CASSFEERPYSEAYF',\n",
       " 'CASSFGISSQPQHF',\n",
       " 'CASSFRPGQGVDQQFF',\n",
       " 'CASSFLTGLNNETFF',\n",
       " 'CASSFSAGDDKEQFF',\n",
       " 'CASSFLSAETNIQYF',\n",
       " 'CASSFSGDGEAQYF',\n",
       " 'CASSFGRKDSTQYL',\n",
       " 'CASSFAGNEKLFF',\n",
       " 'CASSFARPAKEQYF',\n",
       " 'CASSFGLGSEETQYC',\n",
       " 'CASSFFLATAAYQQYF',\n",
       " 'CASSFENSSSYEQYF',\n",
       " 'CASSFGGSASNEQFF',\n",
       " 'CASSFEKSPYYQQYV',\n",
       " 'CASSFPQGAREELFF',\n",
       " 'CASSFSAGDYNEQFV',\n",
       " 'CASSFPSGGSEAQYF',\n",
       " 'CASSFSDNKQFF',\n",
       " 'CASSFGGRGKDTQYV',\n",
       " 'CASSFERRPYYEQYV',\n",
       " 'CASSFGQGARVAGHRAGANVLTF',\n",
       " 'CASSFGGETYEQYF',\n",
       " 'CASSFENRASYEQYF',\n",
       " 'CASSFENSHTNEQYC',\n",
       " 'CASSFENSPSYEKYF',\n",
       " 'CASSFWSGTTEELFF',\n",
       " 'CASSFFLNGTGTQDTLYV',\n",
       " 'CASSFRQTNEQFF',\n",
       " 'CASSFSHKYEQYF',\n",
       " 'CASSFWSATNEKLFL',\n",
       " 'CASSFVGGSRENAIYL',\n",
       " 'CASSFGGLGRDTQYF',\n",
       " 'CASSFDPRGWFNDEQFV',\n",
       " 'CASSFKGAGDDEQFF',\n",
       " 'CASSFEKRPYYEQYF',\n",
       " 'CASSFAQGREQYV',\n",
       " 'CASSFGRLNNEPFF',\n",
       " 'CASSFDPGRTDTQYL',\n",
       " 'CASSFSTDEQFF',\n",
       " 'CASSFRHENEQYF',\n",
       " 'CASSFNGDNVLTF',\n",
       " 'CASSFAGDGETQYF',\n",
       " 'CASSFENSPYYEQYV',\n",
       " 'CASSFATVQETQYV',\n",
       " 'CASSFENSPSCEEYV',\n",
       " 'CASSFEISPSYEQYF',\n",
       " 'CASSFSGGEYNQQFV',\n",
       " 'CASSFKPDRDPQYF',\n",
       " 'CASSFGRDPTCEQYF',\n",
       " 'CASSFGLAGEGEQYV',\n",
       " 'CASSFGTGAGEKQFF',\n",
       " 'CASSFGGSAYNDEFV',\n",
       " 'CASSFSAGDNNEQFF',\n",
       " 'CASSFWTDTTAELFF',\n",
       " 'CASSFHHASSNEQFF',\n",
       " 'CASSFGLAGVLEESVKETQYV',\n",
       " 'CASSFSAGVDNEQFF',\n",
       " 'CASSFRSGTRGNQQFV',\n",
       " 'CASSFRRGDNEQYF',\n",
       " 'CASSFDLNTETLL',\n",
       " 'CASSFSTSNEQYV',\n",
       " 'CASSFRGGANVQYV',\n",
       " 'CASSFWSATSEKLFF',\n",
       " 'CASSFWWGTREKLFF',\n",
       " 'CASSFQGYNAQYF',\n",
       " 'CASSFFFRDEQFV',\n",
       " 'CASSFGLPGREQYF',\n",
       " 'CASSFKGAGADKQFF',\n",
       " 'CASSFRLGYSDAQYF',\n",
       " 'CASSFTAYEQYF',\n",
       " 'CASSFGTRTRETQYV',\n",
       " 'CASSFDSSPSYQQYF',\n",
       " 'CASSFEETQYL',\n",
       " 'CASSFRSPASDNEQFF',\n",
       " 'CASSFGGSRNTIYF',\n",
       " 'CASSFRPGQGADEQFF',\n",
       " 'CASSFLAGSYNEQFV',\n",
       " 'CASSFDDNQPQHV',\n",
       " 'CASSFDEGTSDAQYF',\n",
       " 'CASSFSGGGGKDKQYF',\n",
       " 'CASSFERPDKEQYF',\n",
       " 'CASSFPDRRKDTQYV',\n",
       " 'CASSFTQLAKNIQYV',\n",
       " 'CASSFSPAGGQETQYV',\n",
       " 'CASSFAHGREQYF',\n",
       " 'CASSFTGANTQPKHV',\n",
       " 'CASSFENRPSYEQYV',\n",
       " 'CASSFVGQGREDTQYL',\n",
       " 'CASSFSLEPEQYF',\n",
       " 'CASSFPSGGCEAQYF',\n",
       " 'CASSFALPGKQQYV',\n",
       " 'CASSFQTGDYNEQFF',\n",
       " 'CASSFENRPYYEQYF',\n",
       " 'CASSFEAGYEEYF',\n",
       " 'CASSFETGPSYEQYF',\n",
       " 'CASSFESSACYEQYF',\n",
       " 'CASSFGTATDTQYV',\n",
       " 'CASSFGLEYEQYF',\n",
       " 'CASSFCRVTEELFF',\n",
       " 'CASSFRGGAYPAHYV',\n",
       " 'CASSFATGDPGEMFF',\n",
       " 'CASSFETSPCYEYYV',\n",
       " 'CASSFWDRDKETQYL',\n",
       " 'CASSFRGPGTGANAQTF',\n",
       " 'CASSFRRGDTGKLFV',\n",
       " 'CASSFSLAGPGDTQYF',\n",
       " 'CASSFSAGDYNEQFL',\n",
       " 'CASSFQGCNTQYF',\n",
       " 'CASSFDGSSTEAFV',\n",
       " 'CASSFTNEQFF',\n",
       " 'CASSFDEVSGRPGANGLTF',\n",
       " 'CASSFDNGAYYEQYF',\n",
       " 'CASSFRLVDTDAQYF',\n",
       " 'CASSFERSAYYQQYV',\n",
       " 'CASSFGVAGSEQFV',\n",
       " 'CASSFDNSPCYEQYV',\n",
       " 'CASSFENSPYYEEYV',\n",
       " 'CASSFIGYDEQFV',\n",
       " 'CASSFGGVSGSHYNEQFV',\n",
       " 'CASSFCQETGELFV',\n",
       " 'CASSFGLAGKQETQYF',\n",
       " 'CASSFSSGLINDPQYV',\n",
       " 'CASSFALLGREQFF',\n",
       " 'CASSFSGGRGTDAQYF',\n",
       " 'CASSFRGGVDIQYF',\n",
       " 'CASSFETSGGLYQEIKYV',\n",
       " 'CASSFTGAISNEQFF',\n",
       " 'CASSFESTLAYEQCF',\n",
       " 'CASSFNPREAGDVDTQYF',\n",
       " 'CASSFTQLAKNIQYF',\n",
       " 'CASSFALPEREQYV',\n",
       " 'CASSFLSAGGTNIQYF',\n",
       " 'CASSFRGGAYQTQYV',\n",
       " 'CASSFDGSNNETFV',\n",
       " 'CASSFGGPSTDTQYY',\n",
       " 'CASSFRQVYTDAQYF',\n",
       " 'CASSFVSADSPLHV',\n",
       " 'CASSFWSATNEELFF',\n",
       " 'CASSFGGNDNQQFF',\n",
       " 'CASSFEGAAGANVMTF',\n",
       " 'CASSFYRVTGELFF',\n",
       " 'CASSFSLAGPGGTQYL',\n",
       " 'CASSFDGSTTEAFF',\n",
       " 'CASSFDPRAEVTEEQFF',\n",
       " 'CASSFKGEEYL',\n",
       " 'CASSFPPPSNEQFF',\n",
       " 'CASSFRAGELFV',\n",
       " 'CASSFEGSPYYEQYV',\n",
       " 'CASSFAHEDQYF',\n",
       " 'CASSFERGPSYEQYF',\n",
       " 'CASSFIQHQPQYF',\n",
       " 'CASSFMVQRGAHNEQFV',\n",
       " 'CASSFMNGPGEQNIQYV',\n",
       " 'CASSFENSPSSEQYV',\n",
       " 'CASSFRGPRTGANGRTF',\n",
       " 'CASSFGGPSPDTQYF',\n",
       " 'CASSFGGQSTKPQFW',\n",
       " 'CASSFALPVREKYV',\n",
       " 'CASSFQGYNTQYF',\n",
       " 'CASSFSSEETQYF',\n",
       " 'CASSFEGVSENTIYV',\n",
       " 'CASSFLAGDSCNEQFV',\n",
       " 'CASSFGGNGNVQFV',\n",
       " 'CASSFNADTDTKYV',\n",
       " 'CASSFMVHRGAHNEQFV',\n",
       " 'CASSFLAGSCNEQFF',\n",
       " 'CASSFRDEQYV',\n",
       " 'CASSFAHPGREQYF',\n",
       " 'CASSFDSEHGELFF',\n",
       " 'CASSFPAGVSNEQFF',\n",
       " 'CASSFWSATTEKLFF',\n",
       " 'CASSFVGRGGGAPEYL',\n",
       " 'CASSFNAEKDAQYV',\n",
       " 'CASSFNIPPSGGESSDTQYF',\n",
       " 'CASSFGGVSGSQSNEQFF',\n",
       " 'CASSFSGGACPTQYV',\n",
       " 'CASSFDGFLNGELFF',\n",
       " 'CASSFGGRGTDPQYL',\n",
       " 'CASSFESGPYYVQYV',\n",
       " 'CASSFTRGSSNEQFF',\n",
       " 'CASSFSAGEYNEQFF',\n",
       " 'CASSFLPETQYF',\n",
       " 'CASSFGRGCGDTQYF',\n",
       " 'CASSFSSIGGWASSLQYF',\n",
       " 'CASSFEAGRHF',\n",
       " 'CASSFCTATDAQYF',\n",
       " 'CASSFHRGRGDDEQFF',\n",
       " 'CASSFSPAGGRETQYF',\n",
       " 'CASSFPMYNEQFF',\n",
       " 'CASSFGADRDVQYV',\n",
       " 'CASSFGREPSYEQYV',\n",
       " 'CASSFERSPYYQKYV',\n",
       " 'CASSFYQEQYF',\n",
       " 'CASSFAAEDYEQYF',\n",
       " 'CASSFLLHDEQFF',\n",
       " 'CASSFGGDRDTQYF',\n",
       " 'CASSFENKASYLQYV',\n",
       " 'CASSFEGATGANVLTV',\n",
       " 'CASSFENRPCYKQYF',\n",
       " 'CASSFERGAGEQFL',\n",
       " 'CASSFLSADRNIQYF',\n",
       " 'CASSFGVPDANYNEQLL',\n",
       " 'CASSFSPGDTNEQFF',\n",
       " 'CASSFQGGGYNEQFV',\n",
       " 'CASSFDGDKGQYF',\n",
       " 'CASSFTGAMTNEQFF',\n",
       " 'CASSFTGTIARSGDNVLTF',\n",
       " 'CASSFENSPCYEQYL',\n",
       " 'CASSFEKSTSYQQYV',\n",
       " 'CASSFGVSTQTQHF',\n",
       " 'CASSFEKSPSCEQYF',\n",
       " 'CASSFESRPSYEQYF',\n",
       " 'CASSFSQLTDTQYL',\n",
       " 'CASSFGTGTNEAFF',\n",
       " 'CASSFENRPYYQQYF',\n",
       " 'CASSFEDSPYYEQYV',\n",
       " 'CASSFALPGRQQYV',\n",
       " 'CASSFSGGRCTDTQYF',\n",
       " 'CASSFGTDAQFF',\n",
       " 'CASSFGGVSGSHSNEQFV',\n",
       " 'CASSFGLGRQETQYF',\n",
       " 'CASSFGTATDAQYF',\n",
       " 'CASSFSGGRGTDTQYL',\n",
       " 'CASSFSAGDYTEQFF',\n",
       " 'CASSFLFKGKQFF',\n",
       " 'CASSFGTSRHNEQFF',\n",
       " 'CASSFSLAGAAGALYV',\n",
       " 'CASSFRDSLMYRETQYF',\n",
       " 'CASSFSPAGGHETQYL',\n",
       " 'CASSFSGNLHFV',\n",
       " 'CASSFLAGDRSNEQFF',\n",
       " 'CASSFGVPYTKYNQQFF',\n",
       " 'CASSFGRDPSYQQYF',\n",
       " 'CASSFEKSPSYEQSF',\n",
       " 'CASSFFQDNGELFF',\n",
       " 'CASSFAGPARQQYF',\n",
       " 'CASSFEIGPYYEQYF',\n",
       " 'CASSFRGGSGDYEQYF',\n",
       " 'CASSFAPVAGTNTGELFF',\n",
       " 'CASSFSGGASPTQYV',\n",
       " 'CASSFALPGRKQYF',\n",
       " 'CASSFENSGSYEQYF',\n",
       " 'CASSFDREGYEQYF',\n",
       " 'CASSFFAGAYEQYF',\n",
       " 'CASSFENSPSYEQFC',\n",
       " 'CASSFFIRGEQFF',\n",
       " 'CASSFGRAVYEQYF',\n",
       " 'CASSFDPGRTDTQYF',\n",
       " 'CASSFMGEQFF',\n",
       " 'CASSFRLANEQFV',\n",
       " 'CASSFGGGYYEQYF',\n",
       " 'CASSFGGSACNEQFF',\n",
       " 'CASSFAPSGDGNQPQHF',\n",
       " 'CASSFSLSAGASDTQYF',\n",
       " 'CASSFIRGANEQYF',\n",
       " 'CASSFENSPSDEQYF',\n",
       " 'CASSFMVQRGDHNEQFF',\n",
       " 'CASSFPASGTLGQETQYF',\n",
       " 'CASSFNTYTDTQYF',\n",
       " 'CASSFQEAQETQYF',\n",
       " 'CASSFENSASYEQYC',\n",
       " 'CASSFWTLGGDEQFF',\n",
       " 'CASSFENSPSYEQCF',\n",
       " 'CASSFGGHGTDTQYF',\n",
       " 'CASSFPWDTEAFF',\n",
       " 'CASSFGGNVNEQFF',\n",
       " 'CASSFGLAGGEQFF',\n",
       " 'CASSFRRGANKQYF',\n",
       " 'CASSFRDRSSGANVLTF',\n",
       " 'CASSFPGRRTDTQYF',\n",
       " 'CASSFGRDNDYEQYF',\n",
       " 'CASSFGQVVYNEQFF',\n",
       " 'CASSFTQLAKDIQYF',\n",
       " 'CASSFWSGTNKKLFF',\n",
       " 'CASSFPPPYNEQCF',\n",
       " 'CASSFPPPYTEQFF',\n",
       " 'CASSFENSPSNEKYF',\n",
       " 'CASSFENTPSYEQYF',\n",
       " 'CASSFRQASADAQYF',\n",
       " 'CASSFGASTQETQYF',\n",
       " 'CASSFRPGQGGDEQFF',\n",
       " 'CASSFENSTSYKQYF',\n",
       " 'CASSFGFEGLPYF',\n",
       " 'CASSFNAGGYSEQFF',\n",
       " 'CASSFRLDNEQFF',\n",
       " 'CASSFGKNYGDTF',\n",
       " 'CASSFENSPSYEQSF',\n",
       " 'CASSFGEGLGYF',\n",
       " 'CASSFQEQGYEQYF',\n",
       " 'CASSFPPGVAPYQETQSF',\n",
       " 'CASSFHRERGARELFF',\n",
       " 'CASSFGNSPSYEQYF',\n",
       " 'CASSFENSHSYKQYI',\n",
       " 'CASSFQRGEYNEQFF',\n",
       " 'CASSFENSPTYEQYF',\n",
       " 'CASSFRGTDDNSPLHF',\n",
       " 'CASSFVGTEAFV',\n",
       " 'CASSFGGSWETQYF',\n",
       " 'CASSFFLNGVGTPDTQYF',\n",
       " 'CASSFWAATNEKLFF',\n",
       " 'CASSFPDRRPDTQYF',\n",
       " 'CASSFNAREAGEVDTQYF',\n",
       " 'CASSFSRLTDTQYF',\n",
       " 'CASSFYGDTHYF',\n",
       " 'CASSFSTGDYNEQFF',\n",
       " 'CASSFSGTGKTQYF',\n",
       " 'CASSFQGAQETQYC',\n",
       " 'CASSFSDRGDEKLFF',\n",
       " 'CASSFPQGAREKLFV',\n",
       " 'CASSFGLAGGRETQYF',\n",
       " 'CASSFGLAGNQGTQFF',\n",
       " 'CASSFEGVSGNTIYF',\n",
       " 'CASSFQGGGYTEAFF',\n",
       " 'CASSFGGVGTDTKYF',\n",
       " 'CASSFPLRGRSYEQYF',\n",
       " 'CASSFDEVSGRPEANVLTF',\n",
       " 'CASSFRSGQGVDEQFF',\n",
       " 'CASSFELGYEQYF',\n",
       " 'CASSFWSATNDKLFF',\n",
       " 'CASSFTLAAATYEQYF',\n",
       " 'CASSFMGEQCF',\n",
       " 'CASSFSFGGADTQYV',\n",
       " 'CASSFSWGQETQYV',\n",
       " 'CASSFGGSRYYEQYF',\n",
       " 'CASSFPEASRYEQYF',\n",
       " 'CASSFGQGARVAGHLSGANVLTV',\n",
       " 'CASSFPAGVGEKFF',\n",
       " 'CASSFTSWRLNEQFF',\n",
       " 'CASSFENSPSHEQYF',\n",
       " 'CASSFENSPSCGQYI',\n",
       " 'CASSFGLAVYEQYV',\n",
       " 'CASSFMGEQYI',\n",
       " 'CASSFRTGGTDTQYV',\n",
       " 'CASSFSDRRGEKLFF',\n",
       " 'CASSFEEQDNEQFF',\n",
       " 'CASSFGKELRYF',\n",
       " 'CASSFGGLGTDAQYF',\n",
       " 'CASSFMVEDIQYV',\n",
       " 'CASSFSLAGPGGTQYV',\n",
       " 'CASSFDRGNQPQHV',\n",
       " 'CASSFGQGAGQPQHV',\n",
       " 'CASSFGTGFSGANVLTV',\n",
       " 'CASSFETSGVVYQETQYF',\n",
       " 'CASSFTGTGTCEQYF',\n",
       " 'CASSFDRGSSYNERFF',\n",
       " 'CASSFENSPAYEQSF',\n",
       " 'CASSFVTATDTQYF',\n",
       " 'CASSFKGPKNIQYV',\n",
       " 'CASSFENSPSYGRCF',\n",
       " 'CASSFGGAAGDNVLTF',\n",
       " 'CASSFERGYQDTLYF',\n",
       " 'CASSFGWDTQYF',\n",
       " 'CASSFTTSGSDEQFF',\n",
       " 'CASSFQVAQETQYV',\n",
       " 'CASSFRQASADTQYV',\n",
       " 'CASSFENSPSYEQSI',\n",
       " 'CASSFRGTDANSPLHI',\n",
       " 'CASSFRTGGKDTQYF',\n",
       " 'CASSFRGTGANSPLHF',\n",
       " 'CASSFSILGGGWNTEAFF',\n",
       " 'CASSFAGAEKLFF',\n",
       " 'CASSFGRGWGDTQYV',\n",
       " 'CASSFDRGSCYNEQFF',\n",
       " 'CASSFPPPYNEQFV',\n",
       " 'CASSFRGTDANSHLHF',\n",
       " 'CASSFQGFNTQYI',\n",
       " 'CASSFQGYEQYV',\n",
       " 'CASSFNIPPSGGESADTQYL',\n",
       " 'CASSFGDPGTYEQYF',\n",
       " 'CASSFSGSGVSSYNEQFF',\n",
       " 'CASSFDGVSGRPGANVLTF',\n",
       " 'CASSFKQGSGANVLTF',\n",
       " 'CASSFENGPSYEQFF',\n",
       " 'CASSFDSSPSYEQYF',\n",
       " 'CASSFENSPSYERYF',\n",
       " 'CASSFSGRGGEKLFF',\n",
       " 'CASSFENSRSYEQYF',\n",
       " 'CASSFRQGIRNEQFF',\n",
       " 'CASSFATGAPGELFF',\n",
       " 'CASSFSSGFITDTQYF',\n",
       " 'CASSFPGLAVGDTQYF',\n",
       " 'CASSFKVAGDDEQFF',\n",
       " 'CASSFGVPYPKYNEQFF',\n",
       " 'CASSFPVAGLAKNIQYF',\n",
       " 'CASSFKDSPSNEQYF',\n",
       " 'CASSFDRGCSSNEQFF',\n",
       " 'CASSFDGSYTEAFF',\n",
       " 'CASSFRGPYNEQFV',\n",
       " 'CASSFNPREAGEGDTQYF',\n",
       " 'CASSFTGETDTQYF',\n",
       " 'CASSFMGEKYF',\n",
       " 'CASSFSGGRDTDTQYF',\n",
       " 'CASSFLLGRNGEETQYF',\n",
       " 'CASSFQAREYNEQFF',\n",
       " 'CASSFGKNYGYTV',\n",
       " 'CASSFPDRRTDTQYV',\n",
       " 'CASSFENIPSYEQYF',\n",
       " 'CASSFGFEGRQYF',\n",
       " 'CASSFPAGVGKQFF',\n",
       " 'CASSFEGATEANVLTF',\n",
       " 'CASSFGTGKTEAFV',\n",
       " 'CASSFWSTTNEKLFF',\n",
       " 'CASSFEESASYEQSF',\n",
       " 'CASSFPGANVLTV',\n",
       " 'CASSFTGYGQYF',\n",
       " 'CASSFPSGGSEPQYF',\n",
       " 'CASSFDRGSSYSEQFF',\n",
       " 'CASSFGEGARVAGHLAGANVLNF',\n",
       " 'CASSFRGAGECSEQFF',\n",
       " 'CASSFRRGANEQSF',\n",
       " 'CASSFSLHSSKNSQYF',\n",
       " 'CASSFENSPSYEQFF',\n",
       " 'CASSFQLAGLREQFL',\n",
       " 'CASSFTGANNQPQYF',\n",
       " 'CASSFRADEQYF',\n",
       " 'CASSFCQETGELFF',\n",
       " 'CASSFTGAITNEQFF',\n",
       " 'CASSFTRGVYEQYF',\n",
       " 'CASSFTGYNEQFV',\n",
       " 'CASSFMGEQYV',\n",
       " 'CASSFRMVYTDTQYF',\n",
       " 'CASSFMGEQYS',\n",
       " 'CASSFTQLAKNIQSF',\n",
       " 'CASSFSPRGGRVMLEELFF',\n",
       " 'CASSFSGDGETQYC',\n",
       " 'CASSFANRTAYEQYF',\n",
       " 'CASSFETSGGLYRETQYF',\n",
       " 'CASSFSGTKETQCF',\n",
       " 'CASSFSRGTYEQYF',\n",
       " 'CASSFSPVAGTNAGELFF',\n",
       " 'CASSFSAVAGTNTGELFF',\n",
       " 'CASSFATGEPWELFF',\n",
       " 'CASSFARPGREQYV',\n",
       " 'CASSFRGFDEQFF',\n",
       " 'CASSFSTAEQFS',\n",
       " 'CASSFVKNYGYTF',\n",
       " 'CASSFNLGGPKGTQYF',\n",
       " 'CASSFSTGGGPSYEQYF',\n",
       " 'CASSFGGLGTDKQYF',\n",
       " 'CASSFRDSLRYQETQYF',\n",
       " 'CASSFSAGGYNEQFF',\n",
       " 'CASSFGRGAGQPQHF',\n",
       " 'CASSFRGFDEQYV',\n",
       " 'CASSFEGQGNEQFY',\n",
       " 'CASSFGGSAYSEQFF',\n",
       " 'CASSFRGFGEQFF',\n",
       " 'CASSFPPPYNEHFF',\n",
       " 'CASSFARPRREQYF',\n",
       " 'CASSFGVTDEQFF',\n",
       " 'CASSFARCNQPQHF',\n",
       " 'CASSFWTGAGEKLFF',\n",
       " 'CASSFLTDDQPQHC',\n",
       " 'CASSFGGGKGQYF',\n",
       " 'CASSFARWAYEQYF',\n",
       " 'CASSFEGATGANVPTF',\n",
       " 'CASSFFCRGEQFF',\n",
       " 'CASSFPGLTVGDTQYV',\n",
       " 'CASSFALPGREQFF',\n",
       " 'CASSFGVTYTKYNEQFF',\n",
       " 'CASSFQGSTEAFF',\n",
       " 'CASSFQAGEYNEQFF',\n",
       " 'CASSFLAGEGTGELFF',\n",
       " 'CASSFMVQRGAHNEQFL',\n",
       " 'CASSFSKLTDTQYF',\n",
       " 'CASSFALPGKEQYF',\n",
       " 'CASSFYICSARPSGGREQYF',\n",
       " 'CASSFPTSEESTNTQYF',\n",
       " 'CASSFPGRSNEQFF',\n",
       " 'CASSFSWGQETQCF',\n",
       " 'CASSFAGEWEQYV',\n",
       " 'CASSFRGGSGAYELYF',\n",
       " 'CASSFIRADSPLNV',\n",
       " 'CASSFRLVYTDTQYV',\n",
       " 'CASSFVLAGDVVSDTQYF',\n",
       " 'CASSFRVGDIQYF',\n",
       " 'CASSFMVQRGVHNEQFF',\n",
       " 'CASSFSQANTDTQYF',\n",
       " 'CASSFGGTDEQFV',\n",
       " 'CASSFRMYNEQFF',\n",
       " 'CASSFESSPSDEQYF',\n",
       " 'CASSFKTSGEETQYV',\n",
       " 'CASSFAPGLPPEEQYF',\n",
       " 'CASSFTGAVPGTDTQYF',\n",
       " 'CASSFPNGLAGRGGNTGELFF',\n",
       " 'CASSFGASGFDEQFF',\n",
       " 'CASSFENSPSYEQFF',\n",
       " 'CASSFDWTYDQYF',\n",
       " 'CASSFPGQGSGYTV',\n",
       " 'CASSFRGPRTGTNVLTF',\n",
       " 'CASSFKAGGYNEQFF',\n",
       " 'CASSFLSAEGRNIQYF',\n",
       " 'CASSFTSTDTQYV',\n",
       " 'CASSFETSGRLRTDTQYV',\n",
       " 'CASSFSGSDEQFF',\n",
       " 'CASSFSGLAGVREQYF',\n",
       " 'CASSFGGRTEAYF',\n",
       " 'CASSFENSPSDEQYV',\n",
       " 'CASSFPPGVAPYQENQYF',\n",
       " 'CASSFGTGFSGVNVLTF',\n",
       " 'CASSFGAGDEKLFF',\n",
       " 'CASSFAGALAGADTQYF',\n",
       " 'CASSFSGGRGTDTQYC',\n",
       " 'CASSFRPPARDNEQFF',\n",
       " 'CASSFEGAAGANVLTF',\n",
       " 'CASSFTGGTYNEQFF',\n",
       " 'CASSFDDRGRRGYGYTV',\n",
       " 'CASSFENSPSGEQYF',\n",
       " 'CASSFRRGANKQYC',\n",
       " 'CASSFRTGGADTQYF',\n",
       " 'CASSFSREETQYV',\n",
       " 'CASSFQGAQETQYV',\n",
       " 'CASSFGQGARVAGNLSGANVLTF',\n",
       " 'CASSFWSGGTEAFF',\n",
       " 'CASSFREGSGAYEQYF',\n",
       " 'CASSFGQKNNETFF',\n",
       " 'CASSFYQGNYGYTF',\n",
       " 'CASSFRTGGGYTF',\n",
       " 'CASSFGIEAFF',\n",
       " 'CASSFPPPPAGELFF',\n",
       " 'CASSFLHPQGFTMNTEAFF',\n",
       " 'CASSFSGGEADTQYF',\n",
       " 'CASSFRTGGGYSF',\n",
       " 'CASSFGQGGGYTF',\n",
       " 'CASSFTTGVNFLGYGYTF',\n",
       " 'CASSFNPSYEQYF',\n",
       " 'CASSFWVGGDGNTEAFF',\n",
       " 'CASSFSPGQGYNEQFF',\n",
       " 'CASSFALGDRSSSYNEQFF',\n",
       " 'CASSFGSGTETQYF',\n",
       " 'CASSFSGPPEDYGYTF',\n",
       " 'CASSFRAGGVYEQYF',\n",
       " 'CASSFPPRRPGSCFF',\n",
       " 'CASSFTGTSGGDKSTDTQYF',\n",
       " 'CASSFSQGQGYSEQFF',\n",
       " 'CASSFGQGGIETQYF',\n",
       " 'CASSFMATGNQPQHF',\n",
       " 'CASSFGRRDYGYTF',\n",
       " 'CASSFGPGQGYNEQFF',\n",
       " 'CASSFGMTDTQYF',\n",
       " 'CASSFSGSGSNQPQHF',\n",
       " 'CASSFRTSGGAGNEQFF',\n",
       " 'CASSFSGAAGGLQETQCF',\n",
       " 'CASSFSAGQTYEQYF',\n",
       " 'CASSFLQGLNTEAFF',\n",
       " 'CASSFSGGHEQYF',\n",
       " 'CASSFGPGAFSYEQYF',\n",
       " 'CASSFQGGADYGYTF',\n",
       " 'CASSFGKGNEQFF',\n",
       " 'CASSFDSSNEQFF',\n",
       " 'CASSFDRAGYTF',\n",
       " 'CASSFRTEGGYTF',\n",
       " 'CASSFSPGQGFNEQFF',\n",
       " 'CASSFNPGQKQFF',\n",
       " 'CASSFTGPGGSPLHF',\n",
       " 'CASSFRAGGGYTF',\n",
       " 'CASSFSGGNKEKYF',\n",
       " 'CASSFPNRLHNEQFL',\n",
       " 'CASSFGQGKGYGYTF',\n",
       " 'CASSFSGGGIYNEQFF',\n",
       " 'CASSFHGTGSYEQYF',\n",
       " 'CASSFEQGALYEQYF',\n",
       " 'CASSFPPLRPGSCFF',\n",
       " 'CASSFWPSGDQQFF',\n",
       " 'CASSFYQGNYGYSF',\n",
       " 'CASSFSGAAGGMQETQYF',\n",
       " 'CASSFSTSYSYEQYF',\n",
       " 'CASSFRTVGGYTF',\n",
       " 'CASSFSHPPNSYNHQFF',\n",
       " 'CASSFASGGAYEQYF',\n",
       " 'CASSFRDATYEQYF',\n",
       " 'CASSFLQVSYGYTF',\n",
       " 'CASSFSPGHGYNEQFF',\n",
       " 'CASSFSRNEQLF',\n",
       " 'CASSFSPGNTEAFF',\n",
       " 'CASSFYVGGMGDTQYF',\n",
       " 'CASSFGIEAFV',\n",
       " 'CASSFNPSNEQYV',\n",
       " 'CASSFSGGNKEQHF',\n",
       " 'CASSFDSSITEAFF',\n",
       " 'CASSFRASGGETQYF',\n",
       " 'CASSFAGTGIADTQYF',\n",
       " 'CASSFSVGGIYNEQFF',\n",
       " 'CASSFLHPQGFTMNTEDFF',\n",
       " 'CASSFSGPGWNTEAFF',\n",
       " 'CASSFEGTTTYEQYF',\n",
       " 'CASSFVGGVTNTGELFF',\n",
       " 'CASSFQGVVNSPLLF',\n",
       " 'CASSFPPRPPGELFF',\n",
       " 'CASSFQGASWGTGELFF',\n",
       " 'CASSFRDRNQPQHF',\n",
       " 'CASSFRIGGGYTF',\n",
       " 'CASSFGGTVSAGELFF',\n",
       " 'CASSFDYYNEQFF',\n",
       " 'CASSFSSRGGWADTQYF',\n",
       " 'CASSFYGGGALNEQFF',\n",
       " 'CASSFNPSGDALETQSF',\n",
       " 'CASSFRTGGGYPF',\n",
       " 'CASSFGSYEQYL',\n",
       " 'CASSFRNSGGAGNEQFF',\n",
       " 'CASSFSRGQGYNEQFF',\n",
       " 'CASSFQGGGYTF',\n",
       " 'CASSFSGTATYEQYF',\n",
       " 'CASSFGSRTETQYF',\n",
       " 'CASSFRPSGTDTQYF',\n",
       " 'CASSFSQGQGYNEQFF',\n",
       " 'CASSFNTSYEQYF',\n",
       " 'CASSFPPTPAGELFF',\n",
       " 'CASSFSSGEGCDEQFF',\n",
       " 'CASSFGSGAREKLFF',\n",
       " 'CASSFPRPPAGELFF',\n",
       " 'CASSFRQLLNSPLHF',\n",
       " 'CASSFQGVGNSPLHF',\n",
       " 'CASSFSGAAGWLQETQYF',\n",
       " 'CASSFGPSRGYQETQYF',\n",
       " 'CASSFGERGAYNEQFF',\n",
       " 'CASSFGQGKGYGYSF',\n",
       " 'CASSFGGSGELFF',\n",
       " 'CASSFDRDRNEQFF',\n",
       " 'CASSFEGQANEQFF',\n",
       " 'CASSFKGGGEAFF',\n",
       " 'CASSFPTPPAGELFF',\n",
       " 'CASSFSGENKEQYF',\n",
       " 'CASSFDSYNGQFF',\n",
       " ...]"
      ]
     },
     "execution_count": 10,
     "metadata": {},
     "output_type": "execute_result"
    }
   ],
   "source": [
    "[x for x in train_dataset if x.startswith('CASSF')]"
   ]
  },
  {
   "cell_type": "code",
   "execution_count": 47,
   "id": "grand-dominant",
   "metadata": {
    "collapsed": true,
    "jupyter": {
     "outputs_hidden": true
    }
   },
   "outputs": [
    {
     "data": {
      "text/html": [
       "<div>\n",
       "<style scoped>\n",
       "    .dataframe tbody tr th:only-of-type {\n",
       "        vertical-align: middle;\n",
       "    }\n",
       "\n",
       "    .dataframe tbody tr th {\n",
       "        vertical-align: top;\n",
       "    }\n",
       "\n",
       "    .dataframe thead th {\n",
       "        text-align: right;\n",
       "    }\n",
       "</style>\n",
       "<table border=\"1\" class=\"dataframe\">\n",
       "  <thead>\n",
       "    <tr style=\"text-align: right;\">\n",
       "      <th></th>\n",
       "      <th>sequence</th>\n",
       "      <th>central</th>\n",
       "    </tr>\n",
       "  </thead>\n",
       "  <tbody>\n",
       "    <tr>\n",
       "      <th>0</th>\n",
       "      <td>CASSFFFTEQYF</td>\n",
       "      <td>FF</td>\n",
       "    </tr>\n",
       "    <tr>\n",
       "      <th>1</th>\n",
       "      <td>CASSFWWTEQYF</td>\n",
       "      <td>WW</td>\n",
       "    </tr>\n",
       "    <tr>\n",
       "      <th>2</th>\n",
       "      <td>CASSFYYTEQYF</td>\n",
       "      <td>YY</td>\n",
       "    </tr>\n",
       "    <tr>\n",
       "      <th>3</th>\n",
       "      <td>CASSFIITEQYF</td>\n",
       "      <td>II</td>\n",
       "    </tr>\n",
       "    <tr>\n",
       "      <th>4</th>\n",
       "      <td>CASSFLLTEQYF</td>\n",
       "      <td>LL</td>\n",
       "    </tr>\n",
       "    <tr>\n",
       "      <th>5</th>\n",
       "      <td>CASSFEETEQYF</td>\n",
       "      <td>EE</td>\n",
       "    </tr>\n",
       "    <tr>\n",
       "      <th>6</th>\n",
       "      <td>CASSFDDTEQYF</td>\n",
       "      <td>DD</td>\n",
       "    </tr>\n",
       "  </tbody>\n",
       "</table>\n",
       "</div>"
      ],
      "text/plain": [
       "       sequence central\n",
       "0  CASSFFFTEQYF      FF\n",
       "1  CASSFWWTEQYF      WW\n",
       "2  CASSFYYTEQYF      YY\n",
       "3  CASSFIITEQYF      II\n",
       "4  CASSFLLTEQYF      LL\n",
       "5  CASSFEETEQYF      EE\n",
       "6  CASSFDDTEQYF      DD"
      ]
     },
     "execution_count": 47,
     "metadata": {},
     "output_type": "execute_result"
    }
   ],
   "source": [
    "# Is there a similarity measure possible ?? \n",
    "# Given the amino acid groups, some amino acid are more similar than to others\n",
    "# Like Leucine vs Isoleucine (I, L) or other aromatic amino acids (F, W ,Y)\n",
    "# (THIS DOESNT work AT ALL)\n",
    "df = pd.DataFrame()\n",
    "def get_seq(aa = ''):\n",
    "    return 'CASSF' + 2*aa + 'TEQYF'\n",
    "\n",
    "embds = []\n",
    "for aa in ['F','W','Y', 'I', 'L' ,'E' ,'D']:\n",
    "    s = get_seq(aa)\n",
    "    embed, _ = autoencoder(onehot_batch(s, max_len = 23, weighted = 1.6).to(device))\n",
    "    embds.append(embed.cpu().detach().numpy())\n",
    "    df = df.append(pd.DataFrame(data=[[s, 2*aa]], columns = ['sequence', 'central']), ignore_index =True)\n",
    "df"
   ]
  },
  {
   "cell_type": "code",
   "execution_count": 61,
   "id": "affiliated-agent",
   "metadata": {
    "collapsed": true,
    "jupyter": {
     "outputs_hidden": true
    }
   },
   "outputs": [
    {
     "data": {
      "text/plain": [
       "<AxesSubplot:xlabel='UMAP_1', ylabel='UMAP_2'>"
      ]
     },
     "execution_count": 61,
     "metadata": {},
     "output_type": "execute_result"
    },
    {
     "data": {
      "image/png": "[encoded data removed]",
      "text/plain": [
       "<Figure size 3000x3000 with 2 Axes>"
      ]
     },
     "metadata": {},
     "output_type": "display_data"
    }
   ],
   "source": [
    "from sklearn.manifold import TSNE\n",
    "from umap import UMAP\n",
    "tsne = TSNE(n_components = 2)\n",
    "umap = UMAP(n_components = 2)\n",
    "\n",
    "df.loc[0:3,'group'] = 'aromatic'\n",
    "df.loc[3:5,'group'] = 'aliphatic'\n",
    "df.loc[5:,'group'] = 'negative'\n",
    "seq = df.sequence.values\n",
    "oh = onehot_batch(seq, max_len=23, weighted=1.6)\n",
    "emb, _ = autoencoder(oh.to(device))\n",
    "res = tsne.fit_transform(emb.detach().cpu())\n",
    "df['TSNE_1'] = res[:,0]\n",
    "df['TSNE_2'] = res[:,1]\n",
    "res = umap.fit_transform(emb.detach().cpu())\n",
    "df['UMAP_1'] = res[:,0]\n",
    "df['UMAP_2'] = res[:,1]\n",
    "\n",
    "f,a = plt.subplots(2,1, figsize=(10,10))\n",
    "sns.scatterplot(data=df, x='TSNE_1', y='TSNE_2', hue = 'group', ax = a[0])\n",
    "sns.scatterplot(data=df, x='UMAP_1', y='UMAP_2', hue = 'group', ax = a[1])"
   ]
  },
  {
   "cell_type": "markdown",
   "id": "massive-interaction",
   "metadata": {},
   "source": [
    "### Then, combine with DeepRC and check prediction ? "
   ]
  },
  {
   "cell_type": "code",
   "execution_count": 9,
   "id": "senior-advancement",
   "metadata": {},
   "outputs": [],
   "source": [
    "from src.DeepRC_mod import *\n",
    "class DeepRC_CMV(nn.Module): \n",
    "    \n",
    "    def __init__(self, #20 for the initial onehot encode dim\n",
    "                 embedding_net: torch.nn.Module = AutoEncoder(latent_dim = 40, aa_dim = 21, \n",
    "                                                              seq_len = 23, act = nn.SELU()).encoder,\n",
    "                 attention_net: torch.nn.Module = AttentionNetwork(n_input_features = 40, \n",
    "                                                                   n_layers=2, n_units = 32),\n",
    "                 output_net: torch.nn.Module = OutputNetwork(n_input_features=40, \n",
    "                                                             n_output_features = 21,\n",
    "                                                              n_layers = 2, n_units = 32),\n",
    "freeze_encoding = True\n",
    "                ):\n",
    "        super(DeepRC_AutoEncoder, self).__init__()\n",
    "        self.embedding = embedding_net.to(dtype=torch.float32)\n",
    "        \n",
    "        self.feature_extractor = nn.Sequential(nn.Conv1d(1,8,20, bias=True),\n",
    "                                               nn.SELU(),\n",
    "                                               nn.Conv1d(8,16,20, bias=True),\n",
    "                                               nn.MaxPool1d(2),\n",
    "                                               nn.ReLU())\n",
    "        # #Freezing encoding layer, maybe unfreeze later\n",
    "        # if freeze_encoding:\n",
    "        for p in self.embedding.parameters():\n",
    "            p.requires_grad = False\n",
    "                \n",
    "        self.attention = attention_net.to(dtype=torch.float32)\n",
    "        self.out = output_net.to(dtype=torch.float32)\n",
    "        \n",
    "    def forward(self, x, n_per_bag):\n",
    "        seq_embed = self.embedding(x.view(-1, 23*21)) #should be shape (N, latent_dim)\n",
    "        seq_embed = self.feature_extractor(seq_embed)\n",
    "        seq_attention = self.attention(seq_embed)\n",
    "        # BUT softmax(attn_weight) must be done PER BAG. Given we have the number of sequences,\n",
    "        #we treat the input (A sequence of bags) sequentially : \n",
    "        \n",
    "        x = []\n",
    "        start_i = 0\n",
    "        # n_per_bag stores the number of sequences per bag, so we can use it to slice the attention and embedding\n",
    "        for n_seqs in n_per_bag : \n",
    "            #SLICE AND SOFTMAX OVER THE SLICE\n",
    "            attention_slice = torch.softmax(seq_attention[start_i:start_i+n_seqs], dim=0)\n",
    "            embedding_slice = seq_embed[start_i:start_i+n_seqs]\n",
    "            \n",
    "            embedding_attention = embedding_slice * attention_slice\n",
    "            #Weighted sum over the features. The Weight is from the attention\n",
    "            x.append(embedding_attention.sum(dim=0))\n",
    "            start_i += n_seqs\n",
    "            del embedding_attention\n",
    "            \n",
    "        x = torch.stack(x, dim = 0)\n",
    "        predicted = self.out(x)\n",
    "        return predicted"
   ]
  },
  {
   "cell_type": "markdown",
   "id": "divided-valentine",
   "metadata": {},
   "source": [
    "encoder = autoencoder.encoder\n",
    "\n",
    "attn = AttentionNetwork(n_input_features=16,\n",
    "                           n_layers=2,\n",
    "                           n_units=64)\n",
    "out_a = OutputNetwork(n_input_features=16, \n",
    "                      n_output_features=2,\n",
    "                      n_layers=2,\n",
    "                      n_units=32)\n",
    "\n",
    "AutoEncoder_DeepRC = DeepRC_AutoEncoder(encoder, attn, out, freeze_encoding=True)"
   ]
  },
  {
   "cell_type": "code",
   "execution_count": 13,
   "id": "printable-feedback",
   "metadata": {},
   "outputs": [],
   "source": [
    "#Datasets\n",
    "from src.datasets import * \n",
    "from src.DeepRC_mod import *\n",
    "train_data = EmersonDataset('../training_data_new/emerson_raw/batch1/emerson_batch1_train_top10k_hla.tsv',\n",
    "                            max_len = 23, scale_by_freq=True)\n",
    "test_data = EmersonDataset('../training_data_new/emerson_raw/batch1/emerson_batch1_test_top10k_hla.tsv',\n",
    "                            max_len = 23, scale_by_freq = True)"
   ]
  },
  {
   "cell_type": "code",
   "execution_count": 14,
   "id": "special-alberta",
   "metadata": {
    "collapsed": true,
    "jupyter": {
     "outputs_hidden": true
    }
   },
   "outputs": [
    {
     "name": "stdout",
     "output_type": "stream",
     "text": [
      "\n",
      "Time elapsed:\n",
      "\t0.0 minutes\n",
      "\t40.274042 seconds to do a split lol\n"
     ]
    }
   ],
   "source": [
    "from datetime import datetime as dt\n",
    "start_time = dt.now()\n",
    "\n",
    "train, val = train_data.random_split(val_size=0.3)\n",
    "del train_data #Once split, we don't need the original Dataset object anymore\n",
    "end_time = dt.now()       \n",
    "elapsed = divmod((end_time-start_time).total_seconds(), 60)\n",
    "print(f\"\\nTime elapsed:\\n\\t{elapsed[0]} minutes\\n\\t{elapsed[1]} seconds to do a split lol\")"
   ]
  },
  {
   "cell_type": "code",
   "execution_count": 3,
   "id": "experienced-angel",
   "metadata": {},
   "outputs": [
    {
     "data": {
      "text/html": [
       "<div>\n",
       "<style scoped>\n",
       "    .dataframe tbody tr th:only-of-type {\n",
       "        vertical-align: middle;\n",
       "    }\n",
       "\n",
       "    .dataframe tbody tr th {\n",
       "        vertical-align: top;\n",
       "    }\n",
       "\n",
       "    .dataframe thead th {\n",
       "        text-align: right;\n",
       "    }\n",
       "</style>\n",
       "<table border=\"1\" class=\"dataframe\">\n",
       "  <thead>\n",
       "    <tr style=\"text-align: right;\">\n",
       "      <th></th>\n",
       "      <th>amino_acid</th>\n",
       "      <th>frequency</th>\n",
       "      <th>rel_freq</th>\n",
       "      <th>v_family</th>\n",
       "      <th>v_gene</th>\n",
       "      <th>d_family</th>\n",
       "      <th>d_gene</th>\n",
       "      <th>j_family</th>\n",
       "      <th>j_gene</th>\n",
       "      <th>filename</th>\n",
       "      <th>pred_cmv</th>\n",
       "      <th>true_cmv</th>\n",
       "      <th>age</th>\n",
       "      <th>sex</th>\n",
       "      <th>race</th>\n",
       "      <th>hla_a1</th>\n",
       "      <th>hla_a2</th>\n",
       "      <th>hla_b1</th>\n",
       "      <th>hla_b2</th>\n",
       "      <th>len</th>\n",
       "    </tr>\n",
       "  </thead>\n",
       "  <tbody>\n",
       "    <tr>\n",
       "      <th>0</th>\n",
       "      <td>CATTGTSGGPSQSTQYF</td>\n",
       "      <td>0.010946</td>\n",
       "      <td>1.000000</td>\n",
       "      <td>TCRBV10</td>\n",
       "      <td>TCRBV10-03</td>\n",
       "      <td>TCRBD02</td>\n",
       "      <td>TCRBD02-01</td>\n",
       "      <td>TCRBJ02</td>\n",
       "      <td>TCRBJ02-03</td>\n",
       "      <td>HIP00110.tsv</td>\n",
       "      <td>0</td>\n",
       "      <td>0</td>\n",
       "      <td>55</td>\n",
       "      <td>Male</td>\n",
       "      <td>Unknown</td>\n",
       "      <td>A03</td>\n",
       "      <td>A24</td>\n",
       "      <td>B07</td>\n",
       "      <td>Unknown</td>\n",
       "      <td>17</td>\n",
       "    </tr>\n",
       "    <tr>\n",
       "      <th>1</th>\n",
       "      <td>CASSLRVGGYGYTF</td>\n",
       "      <td>0.010841</td>\n",
       "      <td>0.990413</td>\n",
       "      <td>TCRBV07</td>\n",
       "      <td>TCRBV07-09</td>\n",
       "      <td>TCRBD02</td>\n",
       "      <td>TCRBD02-01</td>\n",
       "      <td>TCRBJ01</td>\n",
       "      <td>TCRBJ01-02</td>\n",
       "      <td>HIP00110.tsv</td>\n",
       "      <td>0</td>\n",
       "      <td>0</td>\n",
       "      <td>55</td>\n",
       "      <td>Male</td>\n",
       "      <td>Unknown</td>\n",
       "      <td>A03</td>\n",
       "      <td>A24</td>\n",
       "      <td>B07</td>\n",
       "      <td>Unknown</td>\n",
       "      <td>14</td>\n",
       "    </tr>\n",
       "    <tr>\n",
       "      <th>2</th>\n",
       "      <td>CASRRLGGLNTEAFF</td>\n",
       "      <td>0.006130</td>\n",
       "      <td>0.559999</td>\n",
       "      <td>TCRBV25</td>\n",
       "      <td>TCRBV25-01</td>\n",
       "      <td>TCRBD02</td>\n",
       "      <td>TCRBD02-01</td>\n",
       "      <td>TCRBJ01</td>\n",
       "      <td>TCRBJ01-01</td>\n",
       "      <td>HIP00110.tsv</td>\n",
       "      <td>0</td>\n",
       "      <td>0</td>\n",
       "      <td>55</td>\n",
       "      <td>Male</td>\n",
       "      <td>Unknown</td>\n",
       "      <td>A03</td>\n",
       "      <td>A24</td>\n",
       "      <td>B07</td>\n",
       "      <td>Unknown</td>\n",
       "      <td>15</td>\n",
       "    </tr>\n",
       "    <tr>\n",
       "      <th>3</th>\n",
       "      <td>CASSLRGSGNTIYF</td>\n",
       "      <td>0.003510</td>\n",
       "      <td>0.320633</td>\n",
       "      <td>TCRBV05</td>\n",
       "      <td>TCRBV05-01</td>\n",
       "      <td>TCRBD02</td>\n",
       "      <td>TCRBD02-01</td>\n",
       "      <td>TCRBJ01</td>\n",
       "      <td>TCRBJ01-03</td>\n",
       "      <td>HIP00110.tsv</td>\n",
       "      <td>0</td>\n",
       "      <td>0</td>\n",
       "      <td>55</td>\n",
       "      <td>Male</td>\n",
       "      <td>Unknown</td>\n",
       "      <td>A03</td>\n",
       "      <td>A24</td>\n",
       "      <td>B07</td>\n",
       "      <td>Unknown</td>\n",
       "      <td>14</td>\n",
       "    </tr>\n",
       "    <tr>\n",
       "      <th>4</th>\n",
       "      <td>CASRQDGSTEAFF</td>\n",
       "      <td>0.003188</td>\n",
       "      <td>0.291286</td>\n",
       "      <td>TCRBV06</td>\n",
       "      <td>TCRBV06-01</td>\n",
       "      <td>TCRBD02</td>\n",
       "      <td>TCRBD02-01</td>\n",
       "      <td>TCRBJ01</td>\n",
       "      <td>TCRBJ01-01</td>\n",
       "      <td>HIP00110.tsv</td>\n",
       "      <td>0</td>\n",
       "      <td>0</td>\n",
       "      <td>55</td>\n",
       "      <td>Male</td>\n",
       "      <td>Unknown</td>\n",
       "      <td>A03</td>\n",
       "      <td>A24</td>\n",
       "      <td>B07</td>\n",
       "      <td>Unknown</td>\n",
       "      <td>13</td>\n",
       "    </tr>\n",
       "    <tr>\n",
       "      <th>...</th>\n",
       "      <td>...</td>\n",
       "      <td>...</td>\n",
       "      <td>...</td>\n",
       "      <td>...</td>\n",
       "      <td>...</td>\n",
       "      <td>...</td>\n",
       "      <td>...</td>\n",
       "      <td>...</td>\n",
       "      <td>...</td>\n",
       "      <td>...</td>\n",
       "      <td>...</td>\n",
       "      <td>...</td>\n",
       "      <td>...</td>\n",
       "      <td>...</td>\n",
       "      <td>...</td>\n",
       "      <td>...</td>\n",
       "      <td>...</td>\n",
       "      <td>...</td>\n",
       "      <td>...</td>\n",
       "      <td>...</td>\n",
       "    </tr>\n",
       "    <tr>\n",
       "      <th>24558229</th>\n",
       "      <td>CASSLMGGTNTGELFF</td>\n",
       "      <td>0.000003</td>\n",
       "      <td>0.000097</td>\n",
       "      <td>TCRBV07</td>\n",
       "      <td>TCRBV07-06</td>\n",
       "      <td>TCRBD02</td>\n",
       "      <td>TCRBD02-01</td>\n",
       "      <td>TCRBJ02</td>\n",
       "      <td>TCRBJ02-02</td>\n",
       "      <td>HIP19717.tsv</td>\n",
       "      <td>1</td>\n",
       "      <td>1</td>\n",
       "      <td>48</td>\n",
       "      <td>Male</td>\n",
       "      <td>Unknown</td>\n",
       "      <td>A01</td>\n",
       "      <td>Unknown</td>\n",
       "      <td>B18</td>\n",
       "      <td>B35</td>\n",
       "      <td>16</td>\n",
       "    </tr>\n",
       "    <tr>\n",
       "      <th>24558230</th>\n",
       "      <td>CASSLTGESGYTF</td>\n",
       "      <td>0.000003</td>\n",
       "      <td>0.000097</td>\n",
       "      <td>TCRBV06</td>\n",
       "      <td>TCRBV06-01</td>\n",
       "      <td>TCRBD01</td>\n",
       "      <td>TCRBD01-01</td>\n",
       "      <td>TCRBJ01</td>\n",
       "      <td>TCRBJ01-02</td>\n",
       "      <td>HIP19717.tsv</td>\n",
       "      <td>1</td>\n",
       "      <td>1</td>\n",
       "      <td>48</td>\n",
       "      <td>Male</td>\n",
       "      <td>Unknown</td>\n",
       "      <td>A01</td>\n",
       "      <td>Unknown</td>\n",
       "      <td>B18</td>\n",
       "      <td>B35</td>\n",
       "      <td>13</td>\n",
       "    </tr>\n",
       "    <tr>\n",
       "      <th>24558231</th>\n",
       "      <td>CASSRGQQSIPYEQYF</td>\n",
       "      <td>0.000003</td>\n",
       "      <td>0.000097</td>\n",
       "      <td>TCRBV07</td>\n",
       "      <td>TCRBV07-09</td>\n",
       "      <td>TCRBD02</td>\n",
       "      <td>TCRBD02-01</td>\n",
       "      <td>TCRBJ02</td>\n",
       "      <td>TCRBJ02-07</td>\n",
       "      <td>HIP19717.tsv</td>\n",
       "      <td>1</td>\n",
       "      <td>1</td>\n",
       "      <td>48</td>\n",
       "      <td>Male</td>\n",
       "      <td>Unknown</td>\n",
       "      <td>A01</td>\n",
       "      <td>Unknown</td>\n",
       "      <td>B18</td>\n",
       "      <td>B35</td>\n",
       "      <td>16</td>\n",
       "    </tr>\n",
       "    <tr>\n",
       "      <th>24558232</th>\n",
       "      <td>CASSPEGAGGFGVQYF</td>\n",
       "      <td>0.000003</td>\n",
       "      <td>0.000097</td>\n",
       "      <td>TCRBV07</td>\n",
       "      <td>TCRBV07-09</td>\n",
       "      <td>TCRBD02</td>\n",
       "      <td>TCRBD02-01</td>\n",
       "      <td>TCRBJ02</td>\n",
       "      <td>TCRBJ02-07</td>\n",
       "      <td>HIP19717.tsv</td>\n",
       "      <td>1</td>\n",
       "      <td>1</td>\n",
       "      <td>48</td>\n",
       "      <td>Male</td>\n",
       "      <td>Unknown</td>\n",
       "      <td>A01</td>\n",
       "      <td>Unknown</td>\n",
       "      <td>B18</td>\n",
       "      <td>B35</td>\n",
       "      <td>16</td>\n",
       "    </tr>\n",
       "    <tr>\n",
       "      <th>24558233</th>\n",
       "      <td>CASSPRRRENRHEQFF</td>\n",
       "      <td>0.000003</td>\n",
       "      <td>0.000097</td>\n",
       "      <td>TCRBV07</td>\n",
       "      <td>TCRBV07-09</td>\n",
       "      <td>TCRBD02</td>\n",
       "      <td>TCRBD02-01</td>\n",
       "      <td>TCRBJ02</td>\n",
       "      <td>TCRBJ02-01</td>\n",
       "      <td>HIP19717.tsv</td>\n",
       "      <td>1</td>\n",
       "      <td>1</td>\n",
       "      <td>48</td>\n",
       "      <td>Male</td>\n",
       "      <td>Unknown</td>\n",
       "      <td>A01</td>\n",
       "      <td>Unknown</td>\n",
       "      <td>B18</td>\n",
       "      <td>B35</td>\n",
       "      <td>16</td>\n",
       "    </tr>\n",
       "  </tbody>\n",
       "</table>\n",
       "<p>24558234 rows × 20 columns</p>\n",
       "</div>"
      ],
      "text/plain": [
       "                 amino_acid  frequency  rel_freq v_family      v_gene  \\\n",
       "0         CATTGTSGGPSQSTQYF   0.010946  1.000000  TCRBV10  TCRBV10-03   \n",
       "1            CASSLRVGGYGYTF   0.010841  0.990413  TCRBV07  TCRBV07-09   \n",
       "2           CASRRLGGLNTEAFF   0.006130  0.559999  TCRBV25  TCRBV25-01   \n",
       "3            CASSLRGSGNTIYF   0.003510  0.320633  TCRBV05  TCRBV05-01   \n",
       "4             CASRQDGSTEAFF   0.003188  0.291286  TCRBV06  TCRBV06-01   \n",
       "...                     ...        ...       ...      ...         ...   \n",
       "24558229   CASSLMGGTNTGELFF   0.000003  0.000097  TCRBV07  TCRBV07-06   \n",
       "24558230      CASSLTGESGYTF   0.000003  0.000097  TCRBV06  TCRBV06-01   \n",
       "24558231   CASSRGQQSIPYEQYF   0.000003  0.000097  TCRBV07  TCRBV07-09   \n",
       "24558232   CASSPEGAGGFGVQYF   0.000003  0.000097  TCRBV07  TCRBV07-09   \n",
       "24558233   CASSPRRRENRHEQFF   0.000003  0.000097  TCRBV07  TCRBV07-09   \n",
       "\n",
       "         d_family      d_gene j_family      j_gene      filename pred_cmv  \\\n",
       "0         TCRBD02  TCRBD02-01  TCRBJ02  TCRBJ02-03  HIP00110.tsv        0   \n",
       "1         TCRBD02  TCRBD02-01  TCRBJ01  TCRBJ01-02  HIP00110.tsv        0   \n",
       "2         TCRBD02  TCRBD02-01  TCRBJ01  TCRBJ01-01  HIP00110.tsv        0   \n",
       "3         TCRBD02  TCRBD02-01  TCRBJ01  TCRBJ01-03  HIP00110.tsv        0   \n",
       "4         TCRBD02  TCRBD02-01  TCRBJ01  TCRBJ01-01  HIP00110.tsv        0   \n",
       "...           ...         ...      ...         ...           ...      ...   \n",
       "24558229  TCRBD02  TCRBD02-01  TCRBJ02  TCRBJ02-02  HIP19717.tsv        1   \n",
       "24558230  TCRBD01  TCRBD01-01  TCRBJ01  TCRBJ01-02  HIP19717.tsv        1   \n",
       "24558231  TCRBD02  TCRBD02-01  TCRBJ02  TCRBJ02-07  HIP19717.tsv        1   \n",
       "24558232  TCRBD02  TCRBD02-01  TCRBJ02  TCRBJ02-07  HIP19717.tsv        1   \n",
       "24558233  TCRBD02  TCRBD02-01  TCRBJ02  TCRBJ02-01  HIP19717.tsv        1   \n",
       "\n",
       "         true_cmv age   sex     race hla_a1   hla_a2 hla_b1   hla_b2  len  \n",
       "0               0  55  Male  Unknown    A03      A24    B07  Unknown   17  \n",
       "1               0  55  Male  Unknown    A03      A24    B07  Unknown   14  \n",
       "2               0  55  Male  Unknown    A03      A24    B07  Unknown   15  \n",
       "3               0  55  Male  Unknown    A03      A24    B07  Unknown   14  \n",
       "4               0  55  Male  Unknown    A03      A24    B07  Unknown   13  \n",
       "...           ...  ..   ...      ...    ...      ...    ...      ...  ...  \n",
       "24558229        1  48  Male  Unknown    A01  Unknown    B18      B35   16  \n",
       "24558230        1  48  Male  Unknown    A01  Unknown    B18      B35   13  \n",
       "24558231        1  48  Male  Unknown    A01  Unknown    B18      B35   16  \n",
       "24558232        1  48  Male  Unknown    A01  Unknown    B18      B35   16  \n",
       "24558233        1  48  Male  Unknown    A01  Unknown    B18      B35   16  \n",
       "\n",
       "[24558234 rows x 20 columns]"
      ]
     },
     "execution_count": 3,
     "metadata": {},
     "output_type": "execute_result"
    }
   ],
   "source": [
    "import pandas as pd\n",
    "x=pd.read_csv('../training_data_new/emerson_raw/batch1/emerson_batch1_626hla_parsed_tagged.tsv', \n",
    "              sep='\\t')\n",
    "x"
   ]
  },
  {
   "cell_type": "code",
   "execution_count": 15,
   "id": "understanding-mortality",
   "metadata": {},
   "outputs": [],
   "source": [
    "def drc_train_model(model, criterion, optimizer, dataset, mini_batch_size):\n",
    "    model.train()\n",
    "    train_loss_a = 0\n",
    "    train_loss_b = 0\n",
    "    #Minibatch SGD, get a list of indices to separate the train data into batches \n",
    "    for b in tqdm(BatchSampler(RandomSampler(dataset.unique),\n",
    "                          batch_size = mini_batch_size, drop_last=False), \n",
    "                  desc='Train batches',\n",
    "                 position = 1, leave=False): \n",
    "        #Standard train loops\n",
    "        seq, target_A, target_B, n_per = train.get_patient(train.unique[b])\n",
    "        #Sending everything to device\n",
    "        seq = seq.to(device, dtype=torch.float32)\n",
    "        target_A = target_A.to(device, dtype=torch.float32)\n",
    "        target_B = target_B.to(device, dtype=torch.float32)\n",
    "        #Prediction & loss for each label\n",
    "        pred_a, pred_b = model(seq, n_per)\n",
    "        loss_A = criterion(pred_a, target_A)\n",
    "        loss_B = criterion(pred_b, target_B)\n",
    "        #Optimizer\n",
    "        model.zero_grad()\n",
    "        loss = loss_A+loss_B\n",
    "        loss.backward()\n",
    "        optimizer.step()\n",
    "        train_loss_a += loss_A.item()\n",
    "        train_loss_b += loss_B.item()\n",
    "        \n",
    "    train_loss_a /= math.floor(len(dataset.unique)/mini_batch_size)\n",
    "    train_loss_b /= math.floor(len(dataset.unique)/mini_batch_size)\n",
    "\n",
    "    return train_loss_a, train_loss_b\n",
    "\n",
    "\n",
    "def drc_eval_model(model, criterion, dataset, mini_batch_size):\n",
    "    model.eval()\n",
    "    val_loss_a = 0\n",
    "    val_loss_b = 0\n",
    "    with torch.no_grad():\n",
    "        for b in tqdm(BatchSampler(RandomSampler(dataset.unique), batch_size = mini_batch_size,\n",
    "                         drop_last = False), desc = 'Val batches',\n",
    "                      position = 2, leave=False):\n",
    "            seq, target_A, target_B, n_per = dataset.get_patient(dataset.unique[b])\n",
    "            #Sending everything to device\n",
    "            seq = seq.to(device, dtype=torch.float32)\n",
    "            target_A = target_A.to(device, dtype=torch.float32)\n",
    "            target_B = target_B.to(device, dtype=torch.float32)\n",
    "            pred_a, pred_b = model(seq, n_per)\n",
    "            val_loss_a += criterion(pred_a, target_A).item()\n",
    "            val_loss_b += criterion(pred_b, target_B).item()\n",
    "    val_loss_a /= math.floor(len(dataset.unique)/mini_batch_size)\n",
    "    val_loss_b /= math.floor(len(dataset.unique)/mini_batch_size)\n",
    "    return val_loss_a, val_loss_b"
   ]
  },
  {
   "cell_type": "code",
   "execution_count": 24,
   "id": "vital-hawaii",
   "metadata": {
    "collapsed": true,
    "jupyter": {
     "outputs_hidden": true
    }
   },
   "outputs": [
    {
     "data": {
      "application/vnd.jupyter.widget-view+json": {
       "model_id": "7a3788d7d7f54e2a8cbea10d13fc5ddd",
       "version_major": 2,
       "version_minor": 0
      },
      "text/plain": [
       "  0%|          | 0/30 [00:00<?, ?it/s]"
      ]
     },
     "metadata": {},
     "output_type": "display_data"
    },
    {
     "data": {
      "application/vnd.jupyter.widget-view+json": {
       "model_id": "",
       "version_major": 2,
       "version_minor": 0
      },
      "text/plain": [
       "Train batches:   0%|          | 0/25 [00:00<?, ?it/s]"
      ]
     },
     "metadata": {},
     "output_type": "display_data"
    },
    {
     "name": "stdout",
     "output_type": "stream",
     "text": [
      "train loss at 0 epochs: 6.8204e-01,6.9402e-01\r"
     ]
    },
    {
     "data": {
      "application/vnd.jupyter.widget-view+json": {
       "model_id": "",
       "version_major": 2,
       "version_minor": 0
      },
      "text/plain": [
       "Val batches:   0%|          | 0/11 [00:00<?, ?it/s]"
      ]
     },
     "metadata": {},
     "output_type": "display_data"
    },
    {
     "name": "stdout",
     "output_type": "stream",
     "text": [
      " val loss at 0 epochs: A: 7.1151e-01,7.2495e-01\r"
     ]
    },
    {
     "data": {
      "application/vnd.jupyter.widget-view+json": {
       "model_id": "",
       "version_major": 2,
       "version_minor": 0
      },
      "text/plain": [
       "Train batches:   0%|          | 0/25 [00:00<?, ?it/s]"
      ]
     },
     "metadata": {},
     "output_type": "display_data"
    },
    {
     "name": "stdout",
     "output_type": "stream",
     "text": [
      "train loss at 1 epochs: 6.6823e-01,6.7907e-01\r"
     ]
    },
    {
     "data": {
      "application/vnd.jupyter.widget-view+json": {
       "model_id": "",
       "version_major": 2,
       "version_minor": 0
      },
      "text/plain": [
       "Val batches:   0%|          | 0/11 [00:00<?, ?it/s]"
      ]
     },
     "metadata": {},
     "output_type": "display_data"
    },
    {
     "name": "stdout",
     "output_type": "stream",
     "text": [
      " val loss at 1 epochs: A: 6.9505e-01,7.0702e-01\r"
     ]
    },
    {
     "data": {
      "application/vnd.jupyter.widget-view+json": {
       "model_id": "",
       "version_major": 2,
       "version_minor": 0
      },
      "text/plain": [
       "Train batches:   0%|          | 0/25 [00:00<?, ?it/s]"
      ]
     },
     "metadata": {},
     "output_type": "display_data"
    },
    {
     "name": "stdout",
     "output_type": "stream",
     "text": [
      "train loss at 2 epochs: 6.5002e-01,6.5904e-01\r"
     ]
    },
    {
     "data": {
      "application/vnd.jupyter.widget-view+json": {
       "model_id": "",
       "version_major": 2,
       "version_minor": 0
      },
      "text/plain": [
       "Val batches:   0%|          | 0/11 [00:00<?, ?it/s]"
      ]
     },
     "metadata": {},
     "output_type": "display_data"
    },
    {
     "name": "stdout",
     "output_type": "stream",
     "text": [
      " val loss at 2 epochs: A: 6.7080e-01,6.8037e-01\r"
     ]
    },
    {
     "data": {
      "application/vnd.jupyter.widget-view+json": {
       "model_id": "",
       "version_major": 2,
       "version_minor": 0
      },
      "text/plain": [
       "Train batches:   0%|          | 0/25 [00:00<?, ?it/s]"
      ]
     },
     "metadata": {},
     "output_type": "display_data"
    },
    {
     "name": "stdout",
     "output_type": "stream",
     "text": [
      "train loss at 3 epochs: 6.1183e-01,6.1723e-01\r"
     ]
    },
    {
     "data": {
      "application/vnd.jupyter.widget-view+json": {
       "model_id": "",
       "version_major": 2,
       "version_minor": 0
      },
      "text/plain": [
       "Val batches:   0%|          | 0/11 [00:00<?, ?it/s]"
      ]
     },
     "metadata": {},
     "output_type": "display_data"
    },
    {
     "name": "stdout",
     "output_type": "stream",
     "text": [
      " val loss at 3 epochs: A: 5.9387e-01,5.9765e-01\r"
     ]
    },
    {
     "data": {
      "application/vnd.jupyter.widget-view+json": {
       "model_id": "",
       "version_major": 2,
       "version_minor": 0
      },
      "text/plain": [
       "Train batches:   0%|          | 0/25 [00:00<?, ?it/s]"
      ]
     },
     "metadata": {},
     "output_type": "display_data"
    },
    {
     "name": "stdout",
     "output_type": "stream",
     "text": [
      "train loss at 4 epochs: 5.0730e-01,4.9725e-01\r"
     ]
    },
    {
     "data": {
      "application/vnd.jupyter.widget-view+json": {
       "model_id": "",
       "version_major": 2,
       "version_minor": 0
      },
      "text/plain": [
       "Val batches:   0%|          | 0/11 [00:00<?, ?it/s]"
      ]
     },
     "metadata": {},
     "output_type": "display_data"
    },
    {
     "name": "stdout",
     "output_type": "stream",
     "text": [
      " val loss at 4 epochs: A: 4.6496e-01,4.4330e-01\r"
     ]
    },
    {
     "data": {
      "application/vnd.jupyter.widget-view+json": {
       "model_id": "",
       "version_major": 2,
       "version_minor": 0
      },
      "text/plain": [
       "Train batches:   0%|          | 0/25 [00:00<?, ?it/s]"
      ]
     },
     "metadata": {},
     "output_type": "display_data"
    },
    {
     "name": "stdout",
     "output_type": "stream",
     "text": [
      "train loss at 5 epochs: 4.1424e-01,3.7874e-01\r"
     ]
    },
    {
     "data": {
      "application/vnd.jupyter.widget-view+json": {
       "model_id": "",
       "version_major": 2,
       "version_minor": 0
      },
      "text/plain": [
       "Val batches:   0%|          | 0/11 [00:00<?, ?it/s]"
      ]
     },
     "metadata": {},
     "output_type": "display_data"
    },
    {
     "name": "stdout",
     "output_type": "stream",
     "text": [
      " val loss at 5 epochs: A: 3.9699e-01,3.5427e-01\r"
     ]
    },
    {
     "data": {
      "application/vnd.jupyter.widget-view+json": {
       "model_id": "",
       "version_major": 2,
       "version_minor": 0
      },
      "text/plain": [
       "Train batches:   0%|          | 0/25 [00:00<?, ?it/s]"
      ]
     },
     "metadata": {},
     "output_type": "display_data"
    },
    {
     "name": "stdout",
     "output_type": "stream",
     "text": [
      "train loss at 6 epochs: 3.6404e-01,3.1280e-01\r"
     ]
    },
    {
     "data": {
      "application/vnd.jupyter.widget-view+json": {
       "model_id": "",
       "version_major": 2,
       "version_minor": 0
      },
      "text/plain": [
       "Val batches:   0%|          | 0/11 [00:00<?, ?it/s]"
      ]
     },
     "metadata": {},
     "output_type": "display_data"
    },
    {
     "name": "stdout",
     "output_type": "stream",
     "text": [
      " val loss at 6 epochs: A: 3.5389e-01,3.0034e-01\r"
     ]
    },
    {
     "data": {
      "application/vnd.jupyter.widget-view+json": {
       "model_id": "",
       "version_major": 2,
       "version_minor": 0
      },
      "text/plain": [
       "Train batches:   0%|          | 0/25 [00:00<?, ?it/s]"
      ]
     },
     "metadata": {},
     "output_type": "display_data"
    },
    {
     "name": "stdout",
     "output_type": "stream",
     "text": [
      "train loss at 7 epochs: 3.3197e-01,2.7097e-01\r"
     ]
    },
    {
     "data": {
      "application/vnd.jupyter.widget-view+json": {
       "model_id": "",
       "version_major": 2,
       "version_minor": 0
      },
      "text/plain": [
       "Val batches:   0%|          | 0/11 [00:00<?, ?it/s]"
      ]
     },
     "metadata": {},
     "output_type": "display_data"
    },
    {
     "name": "stdout",
     "output_type": "stream",
     "text": [
      " val loss at 7 epochs: A: 3.2785e-01,2.6391e-01\r"
     ]
    },
    {
     "data": {
      "application/vnd.jupyter.widget-view+json": {
       "model_id": "",
       "version_major": 2,
       "version_minor": 0
      },
      "text/plain": [
       "Train batches:   0%|          | 0/25 [00:00<?, ?it/s]"
      ]
     },
     "metadata": {},
     "output_type": "display_data"
    },
    {
     "name": "stdout",
     "output_type": "stream",
     "text": [
      "train loss at 8 epochs: 3.0915e-01,2.4267e-01\r"
     ]
    },
    {
     "data": {
      "application/vnd.jupyter.widget-view+json": {
       "model_id": "",
       "version_major": 2,
       "version_minor": 0
      },
      "text/plain": [
       "Val batches:   0%|          | 0/11 [00:00<?, ?it/s]"
      ]
     },
     "metadata": {},
     "output_type": "display_data"
    },
    {
     "name": "stdout",
     "output_type": "stream",
     "text": [
      " val loss at 8 epochs: A: 3.0765e-01,2.3899e-01\r"
     ]
    },
    {
     "data": {
      "application/vnd.jupyter.widget-view+json": {
       "model_id": "",
       "version_major": 2,
       "version_minor": 0
      },
      "text/plain": [
       "Train batches:   0%|          | 0/25 [00:00<?, ?it/s]"
      ]
     },
     "metadata": {},
     "output_type": "display_data"
    },
    {
     "name": "stdout",
     "output_type": "stream",
     "text": [
      "train loss at 9 epochs: 2.9293e-01,2.2308e-01\r"
     ]
    },
    {
     "data": {
      "application/vnd.jupyter.widget-view+json": {
       "model_id": "",
       "version_major": 2,
       "version_minor": 0
      },
      "text/plain": [
       "Val batches:   0%|          | 0/11 [00:00<?, ?it/s]"
      ]
     },
     "metadata": {},
     "output_type": "display_data"
    },
    {
     "name": "stdout",
     "output_type": "stream",
     "text": [
      " val loss at 9 epochs: A: 2.9369e-01,2.2180e-01\r"
     ]
    },
    {
     "data": {
      "application/vnd.jupyter.widget-view+json": {
       "model_id": "",
       "version_major": 2,
       "version_minor": 0
      },
      "text/plain": [
       "Train batches:   0%|          | 0/25 [00:00<?, ?it/s]"
      ]
     },
     "metadata": {},
     "output_type": "display_data"
    },
    {
     "name": "stdout",
     "output_type": "stream",
     "text": [
      "train loss at 10 epochs: 2.8205e-01,2.0963e-01\r"
     ]
    },
    {
     "data": {
      "application/vnd.jupyter.widget-view+json": {
       "model_id": "",
       "version_major": 2,
       "version_minor": 0
      },
      "text/plain": [
       "Val batches:   0%|          | 0/11 [00:00<?, ?it/s]"
      ]
     },
     "metadata": {},
     "output_type": "display_data"
    },
    {
     "name": "stdout",
     "output_type": "stream",
     "text": [
      " val loss at 10 epochs: A: 2.8229e-01,2.0904e-01\r"
     ]
    },
    {
     "data": {
      "application/vnd.jupyter.widget-view+json": {
       "model_id": "",
       "version_major": 2,
       "version_minor": 0
      },
      "text/plain": [
       "Train batches:   0%|          | 0/25 [00:00<?, ?it/s]"
      ]
     },
     "metadata": {},
     "output_type": "display_data"
    },
    {
     "name": "stdout",
     "output_type": "stream",
     "text": [
      "train loss at 11 epochs: 2.7264e-01,1.9962e-01\r"
     ]
    },
    {
     "data": {
      "application/vnd.jupyter.widget-view+json": {
       "model_id": "",
       "version_major": 2,
       "version_minor": 0
      },
      "text/plain": [
       "Val batches:   0%|          | 0/11 [00:00<?, ?it/s]"
      ]
     },
     "metadata": {},
     "output_type": "display_data"
    },
    {
     "name": "stdout",
     "output_type": "stream",
     "text": [
      " val loss at 11 epochs: A: 2.7617e-01,2.0040e-01\r"
     ]
    },
    {
     "data": {
      "application/vnd.jupyter.widget-view+json": {
       "model_id": "",
       "version_major": 2,
       "version_minor": 0
      },
      "text/plain": [
       "Train batches:   0%|          | 0/25 [00:00<?, ?it/s]"
      ]
     },
     "metadata": {},
     "output_type": "display_data"
    },
    {
     "name": "stdout",
     "output_type": "stream",
     "text": [
      "train loss at 12 epochs: 2.6726e-01,1.9254e-01\r"
     ]
    },
    {
     "data": {
      "application/vnd.jupyter.widget-view+json": {
       "model_id": "",
       "version_major": 2,
       "version_minor": 0
      },
      "text/plain": [
       "Val batches:   0%|          | 0/11 [00:00<?, ?it/s]"
      ]
     },
     "metadata": {},
     "output_type": "display_data"
    },
    {
     "name": "stdout",
     "output_type": "stream",
     "text": [
      " val loss at 12 epochs: A: 2.6952e-01,1.9443e-01\r"
     ]
    },
    {
     "data": {
      "application/vnd.jupyter.widget-view+json": {
       "model_id": "",
       "version_major": 2,
       "version_minor": 0
      },
      "text/plain": [
       "Train batches:   0%|          | 0/25 [00:00<?, ?it/s]"
      ]
     },
     "metadata": {},
     "output_type": "display_data"
    },
    {
     "name": "stdout",
     "output_type": "stream",
     "text": [
      "train loss at 13 epochs: 2.6276e-01,1.8718e-01\r"
     ]
    },
    {
     "data": {
      "application/vnd.jupyter.widget-view+json": {
       "model_id": "",
       "version_major": 2,
       "version_minor": 0
      },
      "text/plain": [
       "Val batches:   0%|          | 0/11 [00:00<?, ?it/s]"
      ]
     },
     "metadata": {},
     "output_type": "display_data"
    },
    {
     "name": "stdout",
     "output_type": "stream",
     "text": [
      " val loss at 13 epochs: A: 2.6560e-01,1.8830e-01\r"
     ]
    },
    {
     "data": {
      "application/vnd.jupyter.widget-view+json": {
       "model_id": "",
       "version_major": 2,
       "version_minor": 0
      },
      "text/plain": [
       "Train batches:   0%|          | 0/25 [00:00<?, ?it/s]"
      ]
     },
     "metadata": {},
     "output_type": "display_data"
    },
    {
     "name": "stdout",
     "output_type": "stream",
     "text": [
      "train loss at 14 epochs: 2.5866e-01,1.8322e-01\r"
     ]
    },
    {
     "data": {
      "application/vnd.jupyter.widget-view+json": {
       "model_id": "",
       "version_major": 2,
       "version_minor": 0
      },
      "text/plain": [
       "Val batches:   0%|          | 0/11 [00:00<?, ?it/s]"
      ]
     },
     "metadata": {},
     "output_type": "display_data"
    },
    {
     "name": "stdout",
     "output_type": "stream",
     "text": [
      " val loss at 14 epochs: A: 2.6101e-01,1.8501e-01\r"
     ]
    },
    {
     "data": {
      "application/vnd.jupyter.widget-view+json": {
       "model_id": "",
       "version_major": 2,
       "version_minor": 0
      },
      "text/plain": [
       "Train batches:   0%|          | 0/25 [00:00<?, ?it/s]"
      ]
     },
     "metadata": {},
     "output_type": "display_data"
    },
    {
     "name": "stdout",
     "output_type": "stream",
     "text": [
      "train loss at 15 epochs: 2.5618e-01,1.8030e-01\r"
     ]
    },
    {
     "data": {
      "application/vnd.jupyter.widget-view+json": {
       "model_id": "",
       "version_major": 2,
       "version_minor": 0
      },
      "text/plain": [
       "Val batches:   0%|          | 0/11 [00:00<?, ?it/s]"
      ]
     },
     "metadata": {},
     "output_type": "display_data"
    },
    {
     "name": "stdout",
     "output_type": "stream",
     "text": [
      " val loss at 15 epochs: A: 2.6079e-01,1.8208e-01\r"
     ]
    },
    {
     "data": {
      "application/vnd.jupyter.widget-view+json": {
       "model_id": "",
       "version_major": 2,
       "version_minor": 0
      },
      "text/plain": [
       "Train batches:   0%|          | 0/25 [00:00<?, ?it/s]"
      ]
     },
     "metadata": {},
     "output_type": "display_data"
    },
    {
     "name": "stdout",
     "output_type": "stream",
     "text": [
      "train loss at 16 epochs: 2.5436e-01,1.7779e-01\r"
     ]
    },
    {
     "data": {
      "application/vnd.jupyter.widget-view+json": {
       "model_id": "",
       "version_major": 2,
       "version_minor": 0
      },
      "text/plain": [
       "Val batches:   0%|          | 0/11 [00:00<?, ?it/s]"
      ]
     },
     "metadata": {},
     "output_type": "display_data"
    },
    {
     "name": "stdout",
     "output_type": "stream",
     "text": [
      " val loss at 16 epochs: A: 2.5780e-01,1.7976e-01\r"
     ]
    },
    {
     "data": {
      "application/vnd.jupyter.widget-view+json": {
       "model_id": "",
       "version_major": 2,
       "version_minor": 0
      },
      "text/plain": [
       "Train batches:   0%|          | 0/25 [00:00<?, ?it/s]"
      ]
     },
     "metadata": {},
     "output_type": "display_data"
    },
    {
     "name": "stdout",
     "output_type": "stream",
     "text": [
      "train loss at 17 epochs: 2.5201e-01,1.7575e-01\r"
     ]
    },
    {
     "data": {
      "application/vnd.jupyter.widget-view+json": {
       "model_id": "",
       "version_major": 2,
       "version_minor": 0
      },
      "text/plain": [
       "Val batches:   0%|          | 0/11 [00:00<?, ?it/s]"
      ]
     },
     "metadata": {},
     "output_type": "display_data"
    },
    {
     "name": "stdout",
     "output_type": "stream",
     "text": [
      " val loss at 17 epochs: A: 2.5668e-01,1.7813e-01\r"
     ]
    },
    {
     "data": {
      "application/vnd.jupyter.widget-view+json": {
       "model_id": "",
       "version_major": 2,
       "version_minor": 0
      },
      "text/plain": [
       "Train batches:   0%|          | 0/25 [00:00<?, ?it/s]"
      ]
     },
     "metadata": {},
     "output_type": "display_data"
    },
    {
     "name": "stdout",
     "output_type": "stream",
     "text": [
      "train loss at 18 epochs: 2.5076e-01,1.7426e-01\r"
     ]
    },
    {
     "data": {
      "application/vnd.jupyter.widget-view+json": {
       "model_id": "",
       "version_major": 2,
       "version_minor": 0
      },
      "text/plain": [
       "Val batches:   0%|          | 0/11 [00:00<?, ?it/s]"
      ]
     },
     "metadata": {},
     "output_type": "display_data"
    },
    {
     "name": "stdout",
     "output_type": "stream",
     "text": [
      " val loss at 18 epochs: A: 2.5501e-01,1.7613e-01\r"
     ]
    },
    {
     "data": {
      "application/vnd.jupyter.widget-view+json": {
       "model_id": "",
       "version_major": 2,
       "version_minor": 0
      },
      "text/plain": [
       "Train batches:   0%|          | 0/25 [00:00<?, ?it/s]"
      ]
     },
     "metadata": {},
     "output_type": "display_data"
    },
    {
     "name": "stdout",
     "output_type": "stream",
     "text": [
      "train loss at 19 epochs: 2.4960e-01,1.7295e-01\r"
     ]
    },
    {
     "data": {
      "application/vnd.jupyter.widget-view+json": {
       "model_id": "",
       "version_major": 2,
       "version_minor": 0
      },
      "text/plain": [
       "Val batches:   0%|          | 0/11 [00:00<?, ?it/s]"
      ]
     },
     "metadata": {},
     "output_type": "display_data"
    },
    {
     "name": "stdout",
     "output_type": "stream",
     "text": [
      " val loss at 19 epochs: A: 2.5380e-01,1.7533e-01\r"
     ]
    },
    {
     "data": {
      "application/vnd.jupyter.widget-view+json": {
       "model_id": "",
       "version_major": 2,
       "version_minor": 0
      },
      "text/plain": [
       "Train batches:   0%|          | 0/25 [00:00<?, ?it/s]"
      ]
     },
     "metadata": {},
     "output_type": "display_data"
    },
    {
     "name": "stdout",
     "output_type": "stream",
     "text": [
      "train loss at 20 epochs: 2.4878e-01,1.7188e-01\r"
     ]
    },
    {
     "data": {
      "application/vnd.jupyter.widget-view+json": {
       "model_id": "",
       "version_major": 2,
       "version_minor": 0
      },
      "text/plain": [
       "Val batches:   0%|          | 0/11 [00:00<?, ?it/s]"
      ]
     },
     "metadata": {},
     "output_type": "display_data"
    },
    {
     "name": "stdout",
     "output_type": "stream",
     "text": [
      " val loss at 20 epochs: A: 2.5465e-01,1.7416e-01\r"
     ]
    },
    {
     "data": {
      "application/vnd.jupyter.widget-view+json": {
       "model_id": "",
       "version_major": 2,
       "version_minor": 0
      },
      "text/plain": [
       "Train batches:   0%|          | 0/25 [00:00<?, ?it/s]"
      ]
     },
     "metadata": {},
     "output_type": "display_data"
    },
    {
     "name": "stdout",
     "output_type": "stream",
     "text": [
      "train loss at 21 epochs: 2.4829e-01,1.7100e-01\r"
     ]
    },
    {
     "data": {
      "application/vnd.jupyter.widget-view+json": {
       "model_id": "",
       "version_major": 2,
       "version_minor": 0
      },
      "text/plain": [
       "Val batches:   0%|          | 0/11 [00:00<?, ?it/s]"
      ]
     },
     "metadata": {},
     "output_type": "display_data"
    },
    {
     "name": "stdout",
     "output_type": "stream",
     "text": [
      " val loss at 21 epochs: A: 2.5294e-01,1.7249e-01\r"
     ]
    },
    {
     "data": {
      "application/vnd.jupyter.widget-view+json": {
       "model_id": "",
       "version_major": 2,
       "version_minor": 0
      },
      "text/plain": [
       "Train batches:   0%|          | 0/25 [00:00<?, ?it/s]"
      ]
     },
     "metadata": {},
     "output_type": "display_data"
    },
    {
     "name": "stdout",
     "output_type": "stream",
     "text": [
      "train loss at 22 epochs: 2.4783e-01,1.7006e-01\r"
     ]
    },
    {
     "data": {
      "application/vnd.jupyter.widget-view+json": {
       "model_id": "",
       "version_major": 2,
       "version_minor": 0
      },
      "text/plain": [
       "Val batches:   0%|          | 0/11 [00:00<?, ?it/s]"
      ]
     },
     "metadata": {},
     "output_type": "display_data"
    },
    {
     "name": "stdout",
     "output_type": "stream",
     "text": [
      " val loss at 22 epochs: A: 2.5330e-01,1.7264e-01\r"
     ]
    },
    {
     "data": {
      "application/vnd.jupyter.widget-view+json": {
       "model_id": "",
       "version_major": 2,
       "version_minor": 0
      },
      "text/plain": [
       "Train batches:   0%|          | 0/25 [00:00<?, ?it/s]"
      ]
     },
     "metadata": {},
     "output_type": "display_data"
    },
    {
     "name": "stdout",
     "output_type": "stream",
     "text": [
      "train loss at 23 epochs: 2.4759e-01,1.6987e-01\r"
     ]
    },
    {
     "data": {
      "application/vnd.jupyter.widget-view+json": {
       "model_id": "",
       "version_major": 2,
       "version_minor": 0
      },
      "text/plain": [
       "Val batches:   0%|          | 0/11 [00:00<?, ?it/s]"
      ]
     },
     "metadata": {},
     "output_type": "display_data"
    },
    {
     "name": "stdout",
     "output_type": "stream",
     "text": [
      " val loss at 23 epochs: A: 2.5194e-01,1.7218e-01\r"
     ]
    },
    {
     "data": {
      "application/vnd.jupyter.widget-view+json": {
       "model_id": "",
       "version_major": 2,
       "version_minor": 0
      },
      "text/plain": [
       "Train batches:   0%|          | 0/25 [00:00<?, ?it/s]"
      ]
     },
     "metadata": {},
     "output_type": "display_data"
    },
    {
     "name": "stdout",
     "output_type": "stream",
     "text": [
      "train loss at 24 epochs: 2.4692e-01,1.6891e-01\r"
     ]
    },
    {
     "data": {
      "application/vnd.jupyter.widget-view+json": {
       "model_id": "",
       "version_major": 2,
       "version_minor": 0
      },
      "text/plain": [
       "Val batches:   0%|          | 0/11 [00:00<?, ?it/s]"
      ]
     },
     "metadata": {},
     "output_type": "display_data"
    },
    {
     "name": "stdout",
     "output_type": "stream",
     "text": [
      " val loss at 24 epochs: A: 2.5100e-01,1.7249e-01\r"
     ]
    },
    {
     "data": {
      "application/vnd.jupyter.widget-view+json": {
       "model_id": "",
       "version_major": 2,
       "version_minor": 0
      },
      "text/plain": [
       "Train batches:   0%|          | 0/25 [00:00<?, ?it/s]"
      ]
     },
     "metadata": {},
     "output_type": "display_data"
    },
    {
     "name": "stdout",
     "output_type": "stream",
     "text": [
      "train loss at 25 epochs: 2.4647e-01,1.6834e-01\r"
     ]
    },
    {
     "data": {
      "application/vnd.jupyter.widget-view+json": {
       "model_id": "",
       "version_major": 2,
       "version_minor": 0
      },
      "text/plain": [
       "Val batches:   0%|          | 0/11 [00:00<?, ?it/s]"
      ]
     },
     "metadata": {},
     "output_type": "display_data"
    },
    {
     "name": "stdout",
     "output_type": "stream",
     "text": [
      " val loss at 25 epochs: A: 2.5084e-01,1.7191e-01\r"
     ]
    },
    {
     "data": {
      "application/vnd.jupyter.widget-view+json": {
       "model_id": "",
       "version_major": 2,
       "version_minor": 0
      },
      "text/plain": [
       "Train batches:   0%|          | 0/25 [00:00<?, ?it/s]"
      ]
     },
     "metadata": {},
     "output_type": "display_data"
    },
    {
     "name": "stdout",
     "output_type": "stream",
     "text": [
      "train loss at 26 epochs: 2.4586e-01,1.6830e-01\r"
     ]
    },
    {
     "data": {
      "application/vnd.jupyter.widget-view+json": {
       "model_id": "",
       "version_major": 2,
       "version_minor": 0
      },
      "text/plain": [
       "Val batches:   0%|          | 0/11 [00:00<?, ?it/s]"
      ]
     },
     "metadata": {},
     "output_type": "display_data"
    },
    {
     "name": "stdout",
     "output_type": "stream",
     "text": [
      " val loss at 26 epochs: A: 2.5046e-01,1.7077e-01\r"
     ]
    },
    {
     "data": {
      "application/vnd.jupyter.widget-view+json": {
       "model_id": "",
       "version_major": 2,
       "version_minor": 0
      },
      "text/plain": [
       "Train batches:   0%|          | 0/25 [00:00<?, ?it/s]"
      ]
     },
     "metadata": {},
     "output_type": "display_data"
    },
    {
     "name": "stdout",
     "output_type": "stream",
     "text": [
      "train loss at 27 epochs: 2.4622e-01,1.6775e-01\r"
     ]
    },
    {
     "data": {
      "application/vnd.jupyter.widget-view+json": {
       "model_id": "",
       "version_major": 2,
       "version_minor": 0
      },
      "text/plain": [
       "Val batches:   0%|          | 0/11 [00:00<?, ?it/s]"
      ]
     },
     "metadata": {},
     "output_type": "display_data"
    },
    {
     "name": "stdout",
     "output_type": "stream",
     "text": [
      " val loss at 27 epochs: A: 2.5012e-01,1.7058e-01\r"
     ]
    },
    {
     "data": {
      "application/vnd.jupyter.widget-view+json": {
       "model_id": "",
       "version_major": 2,
       "version_minor": 0
      },
      "text/plain": [
       "Train batches:   0%|          | 0/25 [00:00<?, ?it/s]"
      ]
     },
     "metadata": {},
     "output_type": "display_data"
    },
    {
     "name": "stdout",
     "output_type": "stream",
     "text": [
      "train loss at 28 epochs: 2.4564e-01,1.6741e-01\r"
     ]
    },
    {
     "data": {
      "application/vnd.jupyter.widget-view+json": {
       "model_id": "",
       "version_major": 2,
       "version_minor": 0
      },
      "text/plain": [
       "Val batches:   0%|          | 0/11 [00:00<?, ?it/s]"
      ]
     },
     "metadata": {},
     "output_type": "display_data"
    },
    {
     "name": "stdout",
     "output_type": "stream",
     "text": [
      " val loss at 28 epochs: A: 2.5008e-01,1.6937e-01\r"
     ]
    },
    {
     "data": {
      "application/vnd.jupyter.widget-view+json": {
       "model_id": "",
       "version_major": 2,
       "version_minor": 0
      },
      "text/plain": [
       "Train batches:   0%|          | 0/25 [00:00<?, ?it/s]"
      ]
     },
     "metadata": {},
     "output_type": "display_data"
    },
    {
     "name": "stdout",
     "output_type": "stream",
     "text": [
      "train loss at 29 epochs: 2.4443e-01,1.6758e-01\r"
     ]
    },
    {
     "data": {
      "application/vnd.jupyter.widget-view+json": {
       "model_id": "",
       "version_major": 2,
       "version_minor": 0
      },
      "text/plain": [
       "Val batches:   0%|          | 0/11 [00:00<?, ?it/s]"
      ]
     },
     "metadata": {},
     "output_type": "display_data"
    },
    {
     "name": "stdout",
     "output_type": "stream",
     "text": [
      " val loss at 29 epochs: A: 2.4873e-01,1.6905e-01\r"
     ]
    },
    {
     "data": {
      "image/png": "[encoded data removed]",
      "text/plain": [
       "<Figure size 2000x1400 with 1 Axes>"
      ]
     },
     "metadata": {},
     "output_type": "display_data"
    }
   ],
   "source": [
    "from tqdm.auto import tqdm\n",
    "#Training stuff\n",
    "nb_epochs = 30\n",
    "mini_batch_size = 16 # 16 bags at a time\n",
    "lr = 1e-4 # the creator used 1e-4\n",
    "criterion = nn.BCELoss() #Used for multilabel classification + Sigmoid\n",
    "adam = optim.Adam(params=AutoEncoder_DeepRC.parameters(), lr = lr)\n",
    "train_losses_a = []\n",
    "train_losses_b = []\n",
    "AutoEncoder_DeepRC.to(device)\n",
    "val_losses_a = []\n",
    "val_losses_b = [] \n",
    "\n",
    "best_a = 100000\n",
    "best_b = 100000\n",
    "\n",
    "for e in tqdm(range(nb_epochs),position=0):\n",
    "    train_loss_a, train_loss_b = drc_train_model(AutoEncoder_DeepRC, criterion, optimizer=adam, dataset=train,\n",
    "                                      mini_batch_size=mini_batch_size)\n",
    "    print(f'train loss at {e} epochs: A:\\t{train_loss_a:.4e}, B:\\t{train_loss_b:.4e}', end='\\r')\n",
    "    train_losses_a.append(train_loss_a)\n",
    "    train_losses_b.append(train_loss_b)\n",
    "    #validation\n",
    "    val_a, val_b = drc_eval_model(AutoEncoder_DeepRC, criterion, dataset=val, \n",
    "                              mini_batch_size=mini_batch_size)\n",
    "    \n",
    "    if val_a < best_a : best_a = val_a\n",
    "    if val_b < best_b : best_b = val_b\n",
    "        \n",
    "    if e != 0 and np.mean([val_a, val_b]) <= np.mean([best_a, best_b]):\n",
    "        torch.save({'state_dict':AutoEncoder_DeepRC.state_dict(), 'epoch':e}, './DeepRC_Autoencoder.pth.tar')\n",
    "        \n",
    "    val_losses_a.append(val_a)\n",
    "    val_losses_b.append(val_b)\n",
    "    print(f'val loss at {e} epochs: A:\\t{val_a:.4e}, B:\\t{val_b:.4e}', end='\\r')\n",
    "    \n",
    "losses = {'train_a':train_losses_a,\n",
    "          'train_b':train_losses_b,\n",
    "          'val_a' : val_losses_a,\n",
    "          'val_b' : val_losses_b}\n",
    "plt.figure(figsize=(10,7))\n",
    "for k in losses.keys():\n",
    "    plt.plot(losses[k], label = k)\n",
    "plt.legend()\n",
    "save_pkl('./withBestAutoEncoder_frozen_losses.pkl', losses)"
   ]
  },
  {
   "cell_type": "code",
   "execution_count": 33,
   "id": "special-creation",
   "metadata": {
    "collapsed": true,
    "jupyter": {
     "outputs_hidden": true
    }
   },
   "outputs": [
    {
     "name": "stdout",
     "output_type": "stream",
     "text": [
      "\n",
      "#######################\n",
      "EMERSON\n",
      "\n",
      "real:\t\tCASSVAGSNDQPQHFXXXXXXXX\n",
      "decoded:\tCASSVAGSNDQPQYFXXXXXXXX\n",
      "\n",
      "real:\t\tCASSPGAGSEKELFFXXXXXXXX\n",
      "decoded:\tCASSPGAGSXXELFFXXXXXXXX\n",
      "\n",
      "real:\t\tCASSFGDREPDTQYFXXXXXXXX\n",
      "decoded:\tCASSXGDREXDTQYFXXXXXXXX\n",
      "\n",
      "real:\t\tCASSRAGAQARETQYFXXXXXXX\n",
      "decoded:\tCASSRAGAQARETQYFXXXXXXX\n",
      "\n",
      "real:\t\tCASSEVGSNTEAFFXXXXXXXXX\n",
      "decoded:\tCASSEVGSNTEAFFXXXXXXXXX\n",
      "\n",
      "real:\t\tCASSLGQGSGYEQYFXXXXXXXX\n",
      "decoded:\tCASSLGQGSGYEQYFXXXXXXXX\n",
      "\n",
      "real:\t\tCASSREGLQETQYFXXXXXXXXX\n",
      "decoded:\tCASSREGLQETQYFXXXXXXXXX\n",
      "\n",
      "real:\t\tCASSSNVALGTEAFFXXXXXXXX\n",
      "decoded:\tCASSSXVALGTEAFFXXXXXXXX\n",
      "\n",
      "real:\t\tCASAGGGLADNEQFFXXXXXXXX\n",
      "decoded:\tCASAGGGLADNEQFFXXXXXXXX\n",
      "\n",
      "real:\t\tCASTYNEKLFFXXXXXXXXXXXX\n",
      "decoded:\tCASTTXEXLFFXXXXXXXXXXXX\n",
      "\n",
      "#######################\n",
      "\n",
      "Test set\n",
      "\n",
      "real:\t\tCASTAGSSYNEQFFXXXXXXXXX\n",
      "decoded:\tCASTAGSSYNEQFFXXXXXXXXX\n",
      "\n",
      "real:\t\tCASSLEGPLQGPGELFFXXXXXX\n",
      "decoded:\tCASSLEGPLXGPGELFFXXXXXX\n",
      "\n",
      "real:\t\tCASSPNTETANTEAFFXXXXXXX\n",
      "decoded:\tCASSPXTETANTEXFFXXXXXXX\n",
      "\n",
      "real:\t\tCAWSVSGMNTEAFFXXXXXXXXX\n",
      "decoded:\tCAWSVSGXNTEAFFXXXXXXXXX\n",
      "\n",
      "real:\t\tCSVDPLTGYNEQFFXXXXXXXXX\n",
      "decoded:\tCSVDPLTGYNEQFFXXXXXXXXX\n",
      "\n",
      "real:\t\tYSSRQGVRNEHFFXXXXXXXXXX\n",
      "decoded:\tYSSRQGVRNEHFFXXXXXXXXXX\n",
      "\n",
      "real:\t\tCSARDRDRDSNQPQHGXXXXXXX\n",
      "decoded:\tCSARDRDRDSNQPQHFXXXXXXX\n",
      "\n",
      "real:\t\tCAAMDSTDTQYFXXXXXXXXXXX\n",
      "decoded:\tCAASDSTDTQYFXXXXXXXXXXX\n",
      "\n",
      "real:\t\tCASRESKRGLAKNIQYFXXXXXX\n",
      "decoded:\tCASRESXRGLAXNIQYFXXXXXX\n",
      "\n",
      "real:\t\tCASIQGTEAFFXXXXXXXXXXXX\n",
      "decoded:\tCASXQGTEAFFXXXXXXXXXXXX\n"
     ]
    }
   ],
   "source": [
    "from src.VAE_train import test_decode\n",
    "print('\\n#######################\\nEMERSON')\n",
    "test_decode(model_reload, emerson_sub, 10)\n",
    "print('\\n#######################\\n\\nTest set')\n",
    "test_decode(model_reload, test_dataset, 10)"
   ]
  },
  {
   "cell_type": "code",
   "execution_count": 262,
   "id": "faced-hydrogen",
   "metadata": {
    "collapsed": true,
    "jupyter": {
     "outputs_hidden": true
    }
   },
   "outputs": [
    {
     "data": {
      "text/plain": [
       "DeepRC_AutoEncoder(\n",
       "  (embedding): Sequential(\n",
       "    (0): Linear(in_features=483, out_features=241, bias=True)\n",
       "    (1): SELU()\n",
       "    (2): Linear(in_features=241, out_features=100, bias=True)\n",
       "    (3): SELU()\n",
       "    (4): Linear(in_features=100, out_features=40, bias=True)\n",
       "  )\n",
       "  (attention): AttentionNetwork(\n",
       "    (attention_nn): Sequential(\n",
       "      (0): Linear(in_features=40, out_features=64, bias=True)\n",
       "      (1): SELU()\n",
       "      (2): Linear(in_features=64, out_features=64, bias=True)\n",
       "      (3): SELU()\n",
       "      (4): Linear(in_features=64, out_features=1, bias=True)\n",
       "    )\n",
       "  )\n",
       "  (out_A): OutputNetwork(\n",
       "    (output_nn): Sequential(\n",
       "      (0): Linear(in_features=40, out_features=32, bias=True)\n",
       "      (1): SELU()\n",
       "      (2): Linear(in_features=32, out_features=21, bias=True)\n",
       "    )\n",
       "    (sig): Sigmoid()\n",
       "    (dropout): Identity()\n",
       "  )\n",
       "  (out_B): OutputNetwork(\n",
       "    (output_nn): Sequential(\n",
       "      (0): Linear(in_features=40, out_features=32, bias=True)\n",
       "      (1): SELU()\n",
       "      (2): Linear(in_features=32, out_features=40, bias=True)\n",
       "    )\n",
       "    (sig): Sigmoid()\n",
       "    (dropout): Identity()\n",
       "  )\n",
       ")"
      ]
     },
     "execution_count": 262,
     "metadata": {},
     "output_type": "execute_result"
    }
   ],
   "source": [
    "AutoEncoder_DeepRC"
   ]
  }
 ],
 "metadata": {
  "kernelspec": {
   "display_name": "Python 3",
   "language": "python",
   "name": "python3"
  },
  "language_info": {
   "codemirror_mode": {
    "name": "ipython",
    "version": 3
   },
   "file_extension": ".py",
   "mimetype": "text/x-python",
   "name": "python",
   "nbconvert_exporter": "python",
   "pygments_lexer": "ipython3",
   "version": "3.8.5"
  }
 },
 "nbformat": 4,
 "nbformat_minor": 5
}
